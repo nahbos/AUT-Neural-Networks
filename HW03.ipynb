{
  "cells": [
    {
      "cell_type": "markdown",
      "metadata": {
        "id": "view-in-github",
        "colab_type": "text"
      },
      "source": [
        "<a href=\"https://colab.research.google.com/github/nahbos/AUT-Neural-Networks/blob/main/HW03.ipynb\" target=\"_parent\"><img src=\"https://colab.research.google.com/assets/colab-badge.svg\" alt=\"Open In Colab\"/></a>"
      ]
    },
    {
      "cell_type": "markdown",
      "id": "f5891d3a",
      "metadata": {
        "id": "f5891d3a"
      },
      "source": [
        "### - Sobhan Moradian Daghigh\n",
        "#### - 4/24/2022\n",
        "#### - ANN - HW03"
      ]
    },
    {
      "cell_type": "code",
      "execution_count": null,
      "id": "98000056",
      "metadata": {
        "id": "98000056"
      },
      "outputs": [],
      "source": [
        ""
      ]
    },
    {
      "cell_type": "code",
      "execution_count": 2,
      "id": "9be74f12",
      "metadata": {
        "id": "9be74f12"
      },
      "outputs": [],
      "source": [
        "import numpy as np\n",
        "from matplotlib import pyplot as plt\n",
        "import pandas as pd\n",
        "from sklearn.model_selection import train_test_split\n",
        "\n",
        "import tensorflow as tf\n",
        "from tensorflow import keras\n",
        "from keras.layers import Dense, Dropout\n",
        "from keras.wrappers.scikit_learn import KerasClassifier\n",
        "from sklearn.model_selection import GridSearchCV\n",
        "import itertools\n",
        "import warnings\n",
        "warnings.filterwarnings(\"ignore\")"
      ]
    },
    {
      "cell_type": "code",
      "execution_count": 2,
      "id": "4de0962e",
      "metadata": {
        "id": "4de0962e"
      },
      "outputs": [],
      "source": [
        ""
      ]
    },
    {
      "cell_type": "markdown",
      "id": "f530478b",
      "metadata": {
        "id": "f530478b"
      },
      "source": [
        "### Q3."
      ]
    },
    {
      "cell_type": "code",
      "execution_count": 3,
      "id": "ed9b0b95",
      "metadata": {
        "id": "ed9b0b95"
      },
      "outputs": [],
      "source": [
        "x_train = pd.read_csv('https://raw.githubusercontent.com/nahbos/AUT-Neural-Networks/main/HW03/Dataset/train/X_train.txt', header=None, delim_whitespace=True)\n",
        "y_train = pd.read_csv('https://raw.githubusercontent.com/nahbos/AUT-Neural-Networks/main/HW03/Dataset/train/y_train.txt', header=None, delim_whitespace=True) - 1\n",
        "\n",
        "x_dataset = pd.read_csv('https://raw.githubusercontent.com/nahbos/AUT-Neural-Networks/main/HW03/Dataset/test/X_test.txt', header=None, delim_whitespace=True)\n",
        "y_dataset = pd.read_csv('https://raw.githubusercontent.com/nahbos/AUT-Neural-Networks/main/HW03/Dataset/test/y_test.txt', header=None, delim_whitespace=True) - 1\n",
        "\n",
        "x_test, x_val, y_test, y_val = train_test_split(x_dataset, y_dataset, test_size=0.3, random_state=1)"
      ]
    },
    {
      "cell_type": "code",
      "execution_count": 4,
      "id": "30128ce1",
      "metadata": {
        "id": "30128ce1",
        "outputId": "d4e3c2ae-75de-4ef1-e14d-f1b08c421371",
        "colab": {
          "base_uri": "https://localhost:8080/"
        }
      },
      "outputs": [
        {
          "output_type": "execute_result",
          "data": {
            "text/plain": [
              "((7352, 561), (2062, 561), (885, 561))"
            ]
          },
          "metadata": {},
          "execution_count": 4
        }
      ],
      "source": [
        "(x_train.shape, x_test.shape, x_val.shape)"
      ]
    },
    {
      "cell_type": "code",
      "source": [
        ""
      ],
      "metadata": {
        "id": "0anU-PEbg1-4"
      },
      "id": "0anU-PEbg1-4",
      "execution_count": null,
      "outputs": []
    },
    {
      "cell_type": "code",
      "source": [
        ""
      ],
      "metadata": {
        "id": "rrVnt8avg0V7"
      },
      "id": "rrVnt8avg0V7",
      "execution_count": null,
      "outputs": []
    },
    {
      "cell_type": "markdown",
      "id": "d409484e",
      "metadata": {
        "id": "d409484e"
      },
      "source": [
        "### Q4."
      ]
    },
    {
      "cell_type": "code",
      "source": [
        "class EarlyStoppingCallback(keras.callbacks.Callback):\n",
        "  def __init__(self, patience=0):\n",
        "    super(EarlyStoppingCallback, self).__init__()\n",
        "    self.patience = patience\n",
        "\n",
        "  def on_train_begin(self, logs=None):\n",
        "    self.best = np.inf\n",
        "    self.wait = 0\n",
        "  \n",
        "  def on_epoch_end(self, epoch, logs=None):\n",
        "    current_loss = logs.get('loss')\n",
        "    if np.less(current_loss, self.best):\n",
        "      self.best = current_loss\n",
        "      self.wait = 0\n",
        "      self.best_weights = self.model.get_weights()\n",
        "    else:\n",
        "      self.wait += 1\n",
        "      if np.greater_equal(self.wait, self.patience):\n",
        "        self.model.stop_training = True\n",
        "        self.model.set_weights(self.best_weights)"
      ],
      "metadata": {
        "id": "k0CJSZNuiDgh"
      },
      "id": "k0CJSZNuiDgh",
      "execution_count": 16,
      "outputs": []
    },
    {
      "cell_type": "code",
      "source": [
        "es_callback = EarlyStoppingCallback(patience=5)"
      ],
      "metadata": {
        "id": "FLIgc2NaiG4Y"
      },
      "id": "FLIgc2NaiG4Y",
      "execution_count": 56,
      "outputs": []
    },
    {
      "cell_type": "code",
      "source": [
        ""
      ],
      "metadata": {
        "id": "XGqQSKSDiUSR"
      },
      "id": "XGqQSKSDiUSR",
      "execution_count": 17,
      "outputs": []
    },
    {
      "cell_type": "code",
      "source": [
        "n_class = y_train.nunique()[0]"
      ],
      "metadata": {
        "id": "nukuhuSteoD4"
      },
      "id": "nukuhuSteoD4",
      "execution_count": 18,
      "outputs": []
    },
    {
      "cell_type": "code",
      "execution_count": 19,
      "id": "66d3bc90",
      "metadata": {
        "id": "66d3bc90"
      },
      "outputs": [],
      "source": [
        "def create_model(layers):\n",
        "  model = keras.Sequential()\n",
        "\n",
        "  for i, nodes in enumerate(layers):\n",
        "    model.add(Dense(units=nodes, activation='relu'))\n",
        "    model.add(Dropout(0.1))\n",
        "\n",
        "  model.add(Dense(units=n_class, activation='softmax'))\n",
        "  model.compile(optimizer='adam', loss='sparse_categorical_crossentropy', metrics=['accuracy'])\n",
        "\n",
        "  return model"
      ]
    },
    {
      "cell_type": "code",
      "execution_count": 20,
      "id": "84f985f7",
      "metadata": {
        "id": "84f985f7"
      },
      "outputs": [],
      "source": [
        "def create_layers(nodes, max_layers):\n",
        "  layers = []\n",
        "  for i in range(1, 1 << len(nodes)):\n",
        "    subset = [nodes[j] for j in range(len(nodes)) if (i & (1 << j))]\n",
        "    if len(subset) < max_layers:\n",
        "      layers.append(subset)\n",
        "  layers = [np.flip(np.sort(ele)).tolist() for ele in layers]\n",
        "  layers.sort()\n",
        "  layers = list(item for item, _ in itertools.groupby(layers))\n",
        "  \n",
        "  return layers "
      ]
    },
    {
      "cell_type": "code",
      "execution_count": 21,
      "id": "f268c6c9",
      "metadata": {
        "id": "f268c6c9"
      },
      "outputs": [],
      "source": [
        "model = KerasClassifier(build_fn=create_model)"
      ]
    },
    {
      "cell_type": "code",
      "execution_count": 32,
      "id": "24cf6bc9",
      "metadata": {
        "id": "24cf6bc9"
      },
      "outputs": [],
      "source": [
        "max_layers = 4\n",
        "nodes = [32, 64, 128, 256, 512, 1024]\n",
        "\n",
        "layers = create_layers(nodes, max_layers)\n",
        "parameters = dict(layers=layers)\n",
        "grid = GridSearchCV(estimator=model, param_grid=parameters)"
      ]
    },
    {
      "cell_type": "code",
      "execution_count": null,
      "id": "75240d12",
      "metadata": {
        "id": "75240d12"
      },
      "outputs": [],
      "source": [
        "grid.fit(x_train, y_train, epochs=20, validation_data=(x_val, y_val), callbacks=[es_callback])"
      ]
    },
    {
      "cell_type": "code",
      "execution_count": null,
      "id": "68cdf0d5",
      "metadata": {
        "id": "68cdf0d5"
      },
      "outputs": [],
      "source": [
        "grid.best_params_"
      ]
    },
    {
      "cell_type": "code",
      "execution_count": null,
      "id": "4e83854a",
      "metadata": {
        "id": "4e83854a"
      },
      "outputs": [],
      "source": [
        "grid.best_score_"
      ]
    },
    {
      "cell_type": "code",
      "execution_count": null,
      "id": "beaad477",
      "metadata": {
        "id": "beaad477"
      },
      "outputs": [],
      "source": [
        "grid.best_estimator_.score(x_test, y_test, verbose=1)"
      ]
    },
    {
      "cell_type": "code",
      "source": [
        "# ---------------------------------------------------------------------------------------------"
      ],
      "metadata": {
        "id": "7dJWSb6OsoqI"
      },
      "id": "7dJWSb6OsoqI",
      "execution_count": null,
      "outputs": []
    },
    {
      "cell_type": "code",
      "source": [
        ""
      ],
      "metadata": {
        "id": "RxLhzWaPsomo"
      },
      "id": "RxLhzWaPsomo",
      "execution_count": null,
      "outputs": []
    },
    {
      "cell_type": "code",
      "execution_count": 36,
      "id": "f2d08c2e",
      "metadata": {
        "id": "f2d08c2e"
      },
      "outputs": [],
      "source": [
        ""
      ]
    },
    {
      "cell_type": "code",
      "execution_count": 60,
      "id": "252e7b27",
      "metadata": {
        "id": "252e7b27",
        "colab": {
          "base_uri": "https://localhost:8080/"
        },
        "outputId": "88476840-bd36-4079-bf43-dd2d506323c8"
      },
      "outputs": [
        {
          "output_type": "stream",
          "name": "stdout",
          "text": [
            "Epoch 1/20\n",
            "230/230 [==============================] - 2s 5ms/step - loss: 0.8559 - accuracy: 0.7040 - val_loss: 0.3871 - val_accuracy: 0.8881\n",
            "Epoch 2/20\n",
            "230/230 [==============================] - 1s 5ms/step - loss: 0.2902 - accuracy: 0.9044 - val_loss: 0.2747 - val_accuracy: 0.9119\n",
            "Epoch 3/20\n",
            "230/230 [==============================] - 1s 4ms/step - loss: 0.2144 - accuracy: 0.9248 - val_loss: 0.2223 - val_accuracy: 0.9322\n",
            "Epoch 4/20\n",
            "230/230 [==============================] - 1s 3ms/step - loss: 0.1726 - accuracy: 0.9385 - val_loss: 0.2007 - val_accuracy: 0.9288\n",
            "Epoch 5/20\n",
            "230/230 [==============================] - 1s 3ms/step - loss: 0.1451 - accuracy: 0.9495 - val_loss: 0.1831 - val_accuracy: 0.9367\n",
            "Epoch 6/20\n",
            "230/230 [==============================] - 0s 2ms/step - loss: 0.1264 - accuracy: 0.9589 - val_loss: 0.1644 - val_accuracy: 0.9480\n",
            "Epoch 7/20\n",
            "230/230 [==============================] - 0s 2ms/step - loss: 0.1115 - accuracy: 0.9603 - val_loss: 0.1555 - val_accuracy: 0.9492\n",
            "Epoch 8/20\n",
            "230/230 [==============================] - 0s 2ms/step - loss: 0.1000 - accuracy: 0.9644 - val_loss: 0.1589 - val_accuracy: 0.9333\n",
            "Epoch 9/20\n",
            "230/230 [==============================] - 1s 2ms/step - loss: 0.0933 - accuracy: 0.9679 - val_loss: 0.1331 - val_accuracy: 0.9571\n",
            "Epoch 10/20\n",
            "230/230 [==============================] - 0s 2ms/step - loss: 0.0830 - accuracy: 0.9714 - val_loss: 0.1446 - val_accuracy: 0.9469\n",
            "Epoch 11/20\n",
            "230/230 [==============================] - 0s 2ms/step - loss: 0.0760 - accuracy: 0.9758 - val_loss: 0.1264 - val_accuracy: 0.9571\n",
            "Epoch 12/20\n",
            "230/230 [==============================] - 0s 2ms/step - loss: 0.0742 - accuracy: 0.9757 - val_loss: 0.1389 - val_accuracy: 0.9503\n",
            "Epoch 13/20\n",
            "230/230 [==============================] - 0s 2ms/step - loss: 0.0665 - accuracy: 0.9778 - val_loss: 0.1244 - val_accuracy: 0.9503\n",
            "Epoch 14/20\n",
            "230/230 [==============================] - 0s 2ms/step - loss: 0.0618 - accuracy: 0.9800 - val_loss: 0.1235 - val_accuracy: 0.9525\n",
            "Epoch 15/20\n",
            "230/230 [==============================] - 0s 2ms/step - loss: 0.0643 - accuracy: 0.9767 - val_loss: 0.1169 - val_accuracy: 0.9548\n",
            "Epoch 16/20\n",
            "230/230 [==============================] - 0s 2ms/step - loss: 0.0581 - accuracy: 0.9792 - val_loss: 0.1233 - val_accuracy: 0.9492\n",
            "Epoch 17/20\n",
            "230/230 [==============================] - 0s 2ms/step - loss: 0.0565 - accuracy: 0.9792 - val_loss: 0.1120 - val_accuracy: 0.9559\n",
            "Epoch 18/20\n",
            "230/230 [==============================] - 0s 2ms/step - loss: 0.0523 - accuracy: 0.9825 - val_loss: 0.1253 - val_accuracy: 0.9537\n",
            "Epoch 19/20\n",
            "230/230 [==============================] - 0s 2ms/step - loss: 0.0536 - accuracy: 0.9807 - val_loss: 0.1279 - val_accuracy: 0.9480\n",
            "Epoch 20/20\n",
            "230/230 [==============================] - 0s 2ms/step - loss: 0.0498 - accuracy: 0.9818 - val_loss: 0.1149 - val_accuracy: 0.9582\n",
            "65/65 [==============================] - 0s 1ms/step - loss: 0.1188 - accuracy: 0.9564\n"
          ]
        }
      ],
      "source": [
        "# model1\n",
        "\n",
        "model1 = keras.Sequential()\n",
        "model1.add(Dense(units=12, activation='relu'))\n",
        "model1.add(Dense(units=6, activation='softmax'))\n",
        "\n",
        "model1.compile(optimizer='adam', \n",
        "              loss='sparse_categorical_crossentropy', \n",
        "              metrics=['accuracy'])\n",
        "\n",
        "model1.fit(x_train, y_train, epochs=20, validation_data=(x_val, y_val), callbacks=[es_callback])"
      ]
    },
    {
      "cell_type": "code",
      "source": [
        "# model2\n",
        "\n",
        "model2 = keras.Sequential()\n",
        "model2.add(Dense(units=24, activation='relu'))\n",
        "model2.add(Dense(units=12, activation='relu'))\n",
        "model2.add(Dense(units=6, activation='softmax'))\n",
        "\n",
        "model2.compile(optimizer='adam', \n",
        "              loss='sparse_categorical_crossentropy', \n",
        "              metrics=['accuracy'])\n",
        "\n",
        "model2.fit(x_train, y_train, epochs=20, validation_data=(x_val, y_val), callbacks=[es_callback])"
      ],
      "metadata": {
        "colab": {
          "base_uri": "https://localhost:8080/"
        },
        "id": "XxfAz6V8tms5",
        "outputId": "661bd7f1-6af1-45b1-a22e-73a6674747bc"
      },
      "id": "XxfAz6V8tms5",
      "execution_count": 62,
      "outputs": [
        {
          "output_type": "stream",
          "name": "stdout",
          "text": [
            "Epoch 1/20\n",
            "230/230 [==============================] - 2s 5ms/step - loss: 0.7888 - accuracy: 0.7141 - val_loss: 0.4269 - val_accuracy: 0.8701\n",
            "Epoch 2/20\n",
            "230/230 [==============================] - 1s 4ms/step - loss: 0.2818 - accuracy: 0.9064 - val_loss: 0.2583 - val_accuracy: 0.9232\n",
            "Epoch 3/20\n",
            "230/230 [==============================] - 1s 4ms/step - loss: 0.1735 - accuracy: 0.9385 - val_loss: 0.2098 - val_accuracy: 0.9311\n",
            "Epoch 4/20\n",
            "230/230 [==============================] - 1s 2ms/step - loss: 0.1300 - accuracy: 0.9554 - val_loss: 0.1745 - val_accuracy: 0.9435\n",
            "Epoch 5/20\n",
            "230/230 [==============================] - 1s 3ms/step - loss: 0.1121 - accuracy: 0.9585 - val_loss: 0.1710 - val_accuracy: 0.9345\n",
            "Epoch 6/20\n",
            "230/230 [==============================] - 1s 4ms/step - loss: 0.0925 - accuracy: 0.9668 - val_loss: 0.1796 - val_accuracy: 0.9288\n",
            "Epoch 7/20\n",
            "230/230 [==============================] - 1s 4ms/step - loss: 0.0834 - accuracy: 0.9697 - val_loss: 0.1562 - val_accuracy: 0.9401\n",
            "Epoch 8/20\n",
            "230/230 [==============================] - 1s 3ms/step - loss: 0.0757 - accuracy: 0.9747 - val_loss: 0.1318 - val_accuracy: 0.9525\n",
            "Epoch 9/20\n",
            "230/230 [==============================] - 1s 2ms/step - loss: 0.0680 - accuracy: 0.9747 - val_loss: 0.1483 - val_accuracy: 0.9514\n",
            "Epoch 10/20\n",
            "230/230 [==============================] - 1s 2ms/step - loss: 0.0674 - accuracy: 0.9751 - val_loss: 0.1626 - val_accuracy: 0.9401\n",
            "Epoch 11/20\n",
            "230/230 [==============================] - 1s 4ms/step - loss: 0.0601 - accuracy: 0.9796 - val_loss: 0.1628 - val_accuracy: 0.9424\n",
            "Epoch 12/20\n",
            "230/230 [==============================] - 1s 6ms/step - loss: 0.0589 - accuracy: 0.9792 - val_loss: 0.1446 - val_accuracy: 0.9469\n",
            "Epoch 13/20\n",
            "230/230 [==============================] - 1s 4ms/step - loss: 0.0511 - accuracy: 0.9804 - val_loss: 0.1682 - val_accuracy: 0.9379\n",
            "Epoch 14/20\n",
            "230/230 [==============================] - 1s 4ms/step - loss: 0.0586 - accuracy: 0.9781 - val_loss: 0.1384 - val_accuracy: 0.9503\n",
            "Epoch 15/20\n",
            "230/230 [==============================] - 1s 6ms/step - loss: 0.0557 - accuracy: 0.9780 - val_loss: 0.1484 - val_accuracy: 0.9492\n",
            "Epoch 16/20\n",
            "230/230 [==============================] - 2s 7ms/step - loss: 0.0496 - accuracy: 0.9822 - val_loss: 0.1374 - val_accuracy: 0.9537\n",
            "Epoch 17/20\n",
            "230/230 [==============================] - 2s 7ms/step - loss: 0.0522 - accuracy: 0.9810 - val_loss: 0.1474 - val_accuracy: 0.9469\n",
            "Epoch 18/20\n",
            "230/230 [==============================] - 2s 7ms/step - loss: 0.0500 - accuracy: 0.9827 - val_loss: 0.1462 - val_accuracy: 0.9492\n",
            "Epoch 19/20\n",
            "230/230 [==============================] - 1s 4ms/step - loss: 0.0512 - accuracy: 0.9800 - val_loss: 0.1661 - val_accuracy: 0.9412\n",
            "Epoch 20/20\n",
            "230/230 [==============================] - 1s 3ms/step - loss: 0.0453 - accuracy: 0.9829 - val_loss: 0.1599 - val_accuracy: 0.9492\n"
          ]
        },
        {
          "output_type": "execute_result",
          "data": {
            "text/plain": [
              "<keras.callbacks.History at 0x7f1185c5d310>"
            ]
          },
          "metadata": {},
          "execution_count": 62
        }
      ]
    },
    {
      "cell_type": "code",
      "source": [
        "# model3\n",
        "\n",
        "model3 = keras.Sequential()\n",
        "model3.add(Dense(units=48, activation='relu'))\n",
        "model3.add(Dense(units=24, activation='relu'))\n",
        "model3.add(Dense(units=12, activation='relu'))\n",
        "model3.add(Dense(units=6, activation='softmax'))\n",
        "\n",
        "model3.compile(optimizer='adam', \n",
        "              loss='sparse_categorical_crossentropy', \n",
        "              metrics=['accuracy'])\n",
        "\n",
        "model3.fit(x_train, y_train, epochs=20, validation_data=(x_val, y_val), callbacks=[es_callback])"
      ],
      "metadata": {
        "colab": {
          "base_uri": "https://localhost:8080/"
        },
        "id": "Qdlac1YotmqT",
        "outputId": "ddcd703d-99de-4c58-c41b-33e6f97770c3"
      },
      "id": "Qdlac1YotmqT",
      "execution_count": 64,
      "outputs": [
        {
          "output_type": "stream",
          "name": "stdout",
          "text": [
            "Epoch 1/20\n",
            "230/230 [==============================] - 1s 3ms/step - loss: 0.7441 - accuracy: 0.7051 - val_loss: 0.3327 - val_accuracy: 0.8881\n",
            "Epoch 2/20\n",
            "230/230 [==============================] - 1s 3ms/step - loss: 0.2047 - accuracy: 0.9229 - val_loss: 0.2144 - val_accuracy: 0.9243\n",
            "Epoch 3/20\n",
            "230/230 [==============================] - 1s 3ms/step - loss: 0.1342 - accuracy: 0.9504 - val_loss: 0.3103 - val_accuracy: 0.8960\n",
            "Epoch 4/20\n",
            "230/230 [==============================] - 1s 2ms/step - loss: 0.1109 - accuracy: 0.9572 - val_loss: 0.1901 - val_accuracy: 0.9379\n",
            "Epoch 5/20\n",
            "230/230 [==============================] - 1s 2ms/step - loss: 0.0923 - accuracy: 0.9650 - val_loss: 0.1523 - val_accuracy: 0.9435\n",
            "Epoch 6/20\n",
            "230/230 [==============================] - 1s 3ms/step - loss: 0.0760 - accuracy: 0.9706 - val_loss: 0.1756 - val_accuracy: 0.9288\n",
            "Epoch 7/20\n",
            "230/230 [==============================] - 1s 5ms/step - loss: 0.0719 - accuracy: 0.9713 - val_loss: 0.2892 - val_accuracy: 0.9096\n",
            "Epoch 8/20\n",
            "230/230 [==============================] - 1s 4ms/step - loss: 0.0822 - accuracy: 0.9697 - val_loss: 0.1965 - val_accuracy: 0.9367\n",
            "Epoch 9/20\n",
            "230/230 [==============================] - 1s 4ms/step - loss: 0.0618 - accuracy: 0.9774 - val_loss: 0.2725 - val_accuracy: 0.9220\n",
            "Epoch 10/20\n",
            "230/230 [==============================] - 1s 4ms/step - loss: 0.0630 - accuracy: 0.9725 - val_loss: 0.2064 - val_accuracy: 0.9469\n",
            "Epoch 11/20\n",
            "230/230 [==============================] - 1s 4ms/step - loss: 0.0558 - accuracy: 0.9778 - val_loss: 0.1735 - val_accuracy: 0.9458\n",
            "Epoch 12/20\n",
            "230/230 [==============================] - 1s 4ms/step - loss: 0.0683 - accuracy: 0.9743 - val_loss: 0.2432 - val_accuracy: 0.9333\n",
            "Epoch 13/20\n",
            "230/230 [==============================] - 1s 4ms/step - loss: 0.0515 - accuracy: 0.9803 - val_loss: 0.1877 - val_accuracy: 0.9424\n",
            "Epoch 14/20\n",
            "230/230 [==============================] - 1s 3ms/step - loss: 0.0546 - accuracy: 0.9777 - val_loss: 0.2106 - val_accuracy: 0.9424\n",
            "Epoch 15/20\n",
            "230/230 [==============================] - 1s 2ms/step - loss: 0.0569 - accuracy: 0.9777 - val_loss: 0.2793 - val_accuracy: 0.9379\n",
            "Epoch 16/20\n",
            "230/230 [==============================] - 1s 2ms/step - loss: 0.0618 - accuracy: 0.9754 - val_loss: 0.2297 - val_accuracy: 0.9345\n",
            "Epoch 17/20\n",
            "230/230 [==============================] - 1s 2ms/step - loss: 0.0625 - accuracy: 0.9762 - val_loss: 0.1812 - val_accuracy: 0.9379\n",
            "Epoch 18/20\n",
            "230/230 [==============================] - 1s 2ms/step - loss: 0.0583 - accuracy: 0.9789 - val_loss: 0.2539 - val_accuracy: 0.9367\n"
          ]
        },
        {
          "output_type": "execute_result",
          "data": {
            "text/plain": [
              "<keras.callbacks.History at 0x7f1185d5c950>"
            ]
          },
          "metadata": {},
          "execution_count": 64
        }
      ]
    },
    {
      "cell_type": "code",
      "source": [
        "# model4\n",
        "\n",
        "model4 = keras.Sequential()\n",
        "model4.add(Dense(units=48, activation='relu'))\n",
        "model4.add(Dense(units=6, activation='softmax'))\n",
        "\n",
        "model4.compile(optimizer='adam', \n",
        "              loss='sparse_categorical_crossentropy', \n",
        "              metrics=['accuracy'])\n",
        "\n",
        "model4.fit(x_train, y_train, epochs=20, validation_data=(x_val, y_val), callbacks=[es_callback])"
      ],
      "metadata": {
        "colab": {
          "base_uri": "https://localhost:8080/"
        },
        "id": "fHA_GOidtmno",
        "outputId": "c6f70d35-8963-46bc-f793-9eed1042d504"
      },
      "id": "fHA_GOidtmno",
      "execution_count": 66,
      "outputs": [
        {
          "output_type": "stream",
          "name": "stdout",
          "text": [
            "Epoch 1/20\n",
            "230/230 [==============================] - 1s 3ms/step - loss: 0.5060 - accuracy: 0.8361 - val_loss: 0.3212 - val_accuracy: 0.8870\n",
            "Epoch 2/20\n",
            "230/230 [==============================] - 1s 3ms/step - loss: 0.1984 - accuracy: 0.9320 - val_loss: 0.2079 - val_accuracy: 0.9333\n",
            "Epoch 3/20\n",
            "230/230 [==============================] - 1s 4ms/step - loss: 0.1404 - accuracy: 0.9510 - val_loss: 0.1653 - val_accuracy: 0.9435\n",
            "Epoch 4/20\n",
            "230/230 [==============================] - 1s 4ms/step - loss: 0.1132 - accuracy: 0.9629 - val_loss: 0.1557 - val_accuracy: 0.9458\n",
            "Epoch 5/20\n",
            "230/230 [==============================] - 1s 4ms/step - loss: 0.0898 - accuracy: 0.9705 - val_loss: 0.1385 - val_accuracy: 0.9492\n",
            "Epoch 6/20\n",
            "230/230 [==============================] - 1s 3ms/step - loss: 0.0831 - accuracy: 0.9694 - val_loss: 0.1332 - val_accuracy: 0.9559\n",
            "Epoch 7/20\n",
            "230/230 [==============================] - 1s 3ms/step - loss: 0.0763 - accuracy: 0.9733 - val_loss: 0.1560 - val_accuracy: 0.9469\n",
            "Epoch 8/20\n",
            "230/230 [==============================] - 1s 4ms/step - loss: 0.0753 - accuracy: 0.9733 - val_loss: 0.1376 - val_accuracy: 0.9458\n",
            "Epoch 9/20\n",
            "230/230 [==============================] - 1s 4ms/step - loss: 0.0654 - accuracy: 0.9769 - val_loss: 0.1610 - val_accuracy: 0.9446\n",
            "Epoch 10/20\n",
            "230/230 [==============================] - 1s 3ms/step - loss: 0.0606 - accuracy: 0.9785 - val_loss: 0.1380 - val_accuracy: 0.9458\n",
            "Epoch 11/20\n",
            "230/230 [==============================] - 1s 2ms/step - loss: 0.0602 - accuracy: 0.9761 - val_loss: 0.1368 - val_accuracy: 0.9503\n",
            "Epoch 12/20\n",
            "230/230 [==============================] - 1s 3ms/step - loss: 0.0574 - accuracy: 0.9795 - val_loss: 0.1445 - val_accuracy: 0.9469\n",
            "Epoch 13/20\n",
            "230/230 [==============================] - 1s 4ms/step - loss: 0.0556 - accuracy: 0.9804 - val_loss: 0.1606 - val_accuracy: 0.9446\n",
            "Epoch 14/20\n",
            "230/230 [==============================] - 1s 4ms/step - loss: 0.0555 - accuracy: 0.9781 - val_loss: 0.1412 - val_accuracy: 0.9492\n",
            "Epoch 15/20\n",
            "230/230 [==============================] - 1s 4ms/step - loss: 0.0464 - accuracy: 0.9830 - val_loss: 0.1998 - val_accuracy: 0.9299\n",
            "Epoch 16/20\n",
            "230/230 [==============================] - 1s 4ms/step - loss: 0.0454 - accuracy: 0.9842 - val_loss: 0.1404 - val_accuracy: 0.9514\n",
            "Epoch 17/20\n",
            "230/230 [==============================] - 1s 4ms/step - loss: 0.0486 - accuracy: 0.9822 - val_loss: 0.1507 - val_accuracy: 0.9514\n",
            "Epoch 18/20\n",
            "230/230 [==============================] - 1s 4ms/step - loss: 0.0446 - accuracy: 0.9823 - val_loss: 0.1931 - val_accuracy: 0.9379\n",
            "Epoch 19/20\n",
            "230/230 [==============================] - 1s 4ms/step - loss: 0.0434 - accuracy: 0.9831 - val_loss: 0.2325 - val_accuracy: 0.9345\n",
            "Epoch 20/20\n",
            "230/230 [==============================] - 1s 4ms/step - loss: 0.0476 - accuracy: 0.9838 - val_loss: 0.1604 - val_accuracy: 0.9469\n"
          ]
        },
        {
          "output_type": "execute_result",
          "data": {
            "text/plain": [
              "<keras.callbacks.History at 0x7f1190ce1190>"
            ]
          },
          "metadata": {},
          "execution_count": 66
        }
      ]
    },
    {
      "cell_type": "code",
      "source": [
        "# model5\n",
        "\n",
        "model5 = keras.Sequential()\n",
        "model5.add(Dense(units=512, activation='relu'))\n",
        "model5.add(Dense(units=12, activation='relu'))\n",
        "model5.add(Dense(units=6, activation='softmax'))\n",
        "\n",
        "model5.compile(optimizer='adam', \n",
        "              loss='sparse_categorical_crossentropy', \n",
        "              metrics=['accuracy'])\n",
        "\n",
        "model5.fit(x_train, y_train, epochs=20, validation_data=(x_val, y_val), callbacks=[es_callback])"
      ],
      "metadata": {
        "colab": {
          "base_uri": "https://localhost:8080/"
        },
        "id": "naiu9Ax-tmko",
        "outputId": "959f72bb-4536-42aa-ff6f-b29338c3376c"
      },
      "id": "naiu9Ax-tmko",
      "execution_count": 68,
      "outputs": [
        {
          "output_type": "stream",
          "name": "stdout",
          "text": [
            "Epoch 1/20\n",
            "230/230 [==============================] - 2s 6ms/step - loss: 1.0113 - accuracy: 0.5960 - val_loss: 0.6777 - val_accuracy: 0.7966\n",
            "Epoch 2/20\n",
            "230/230 [==============================] - 2s 8ms/step - loss: 0.5781 - accuracy: 0.8337 - val_loss: 0.5310 - val_accuracy: 0.8983\n",
            "Epoch 3/20\n",
            "230/230 [==============================] - 2s 7ms/step - loss: 0.4541 - accuracy: 0.8970 - val_loss: 0.4753 - val_accuracy: 0.9130\n",
            "Epoch 4/20\n",
            "230/230 [==============================] - 1s 5ms/step - loss: 0.3844 - accuracy: 0.9280 - val_loss: 0.3907 - val_accuracy: 0.9277\n",
            "Epoch 5/20\n",
            "230/230 [==============================] - 1s 5ms/step - loss: 0.2853 - accuracy: 0.9487 - val_loss: 0.3672 - val_accuracy: 0.9153\n",
            "Epoch 6/20\n",
            "230/230 [==============================] - 1s 5ms/step - loss: 0.2219 - accuracy: 0.9608 - val_loss: 0.2871 - val_accuracy: 0.9458\n",
            "Epoch 7/20\n",
            "230/230 [==============================] - 1s 5ms/step - loss: 0.1784 - accuracy: 0.9694 - val_loss: 0.2646 - val_accuracy: 0.9492\n",
            "Epoch 8/20\n",
            "230/230 [==============================] - 1s 5ms/step - loss: 0.1559 - accuracy: 0.9699 - val_loss: 0.2487 - val_accuracy: 0.9435\n",
            "Epoch 9/20\n",
            "230/230 [==============================] - 1s 5ms/step - loss: 0.1407 - accuracy: 0.9712 - val_loss: 0.2797 - val_accuracy: 0.9390\n",
            "Epoch 10/20\n",
            "230/230 [==============================] - 1s 5ms/step - loss: 0.1178 - accuracy: 0.9765 - val_loss: 0.2100 - val_accuracy: 0.9492\n",
            "Epoch 11/20\n",
            "230/230 [==============================] - 1s 5ms/step - loss: 0.1070 - accuracy: 0.9762 - val_loss: 0.1656 - val_accuracy: 0.9605\n",
            "Epoch 12/20\n",
            "230/230 [==============================] - 1s 4ms/step - loss: 0.1015 - accuracy: 0.9754 - val_loss: 0.1979 - val_accuracy: 0.9525\n",
            "Epoch 13/20\n",
            "230/230 [==============================] - 1s 5ms/step - loss: 0.0870 - accuracy: 0.9807 - val_loss: 0.1699 - val_accuracy: 0.9537\n",
            "Epoch 14/20\n",
            "230/230 [==============================] - 1s 5ms/step - loss: 0.0863 - accuracy: 0.9773 - val_loss: 0.1611 - val_accuracy: 0.9503\n",
            "Epoch 15/20\n",
            "230/230 [==============================] - 1s 5ms/step - loss: 0.0977 - accuracy: 0.9702 - val_loss: 0.3435 - val_accuracy: 0.8904\n",
            "Epoch 16/20\n",
            "230/230 [==============================] - 1s 5ms/step - loss: 0.0916 - accuracy: 0.9710 - val_loss: 0.1726 - val_accuracy: 0.9469\n",
            "Epoch 17/20\n",
            "230/230 [==============================] - 1s 5ms/step - loss: 0.0707 - accuracy: 0.9815 - val_loss: 0.1950 - val_accuracy: 0.9469\n",
            "Epoch 18/20\n",
            "230/230 [==============================] - 1s 5ms/step - loss: 0.0759 - accuracy: 0.9763 - val_loss: 0.1320 - val_accuracy: 0.9605\n",
            "Epoch 19/20\n",
            "230/230 [==============================] - 1s 4ms/step - loss: 0.0678 - accuracy: 0.9796 - val_loss: 0.1222 - val_accuracy: 0.9650\n",
            "Epoch 20/20\n",
            "230/230 [==============================] - 1s 5ms/step - loss: 0.0550 - accuracy: 0.9846 - val_loss: 0.1556 - val_accuracy: 0.9525\n"
          ]
        },
        {
          "output_type": "execute_result",
          "data": {
            "text/plain": [
              "<keras.callbacks.History at 0x7f11906ed390>"
            ]
          },
          "metadata": {},
          "execution_count": 68
        }
      ]
    },
    {
      "cell_type": "code",
      "source": [
        "# model6\n",
        "\n",
        "model6 = keras.Sequential()\n",
        "model6.add(Dense(units=12, activation='relu'))\n",
        "model6.add(Dense(units=6, activation='softmax'))\n",
        "\n",
        "model6.compile(optimizer=keras.optimizers.Adam(learning_rate=0.1), \n",
        "              loss='sparse_categorical_crossentropy', \n",
        "              metrics=['accuracy'])\n",
        "\n",
        "model6.fit(x_train, y_train, epochs=20, validation_data=(x_val, y_val), callbacks=[es_callback])"
      ],
      "metadata": {
        "colab": {
          "base_uri": "https://localhost:8080/"
        },
        "id": "M-M14oKatmhp",
        "outputId": "d3cedc68-dc14-457b-919d-2dc4d012c3b8"
      },
      "id": "M-M14oKatmhp",
      "execution_count": 75,
      "outputs": [
        {
          "output_type": "stream",
          "name": "stdout",
          "text": [
            "Epoch 1/20\n",
            "230/230 [==============================] - 2s 6ms/step - loss: 2.0279 - accuracy: 0.1933 - val_loss: 1.7874 - val_accuracy: 0.2011\n",
            "Epoch 2/20\n",
            "230/230 [==============================] - 1s 2ms/step - loss: 1.3391 - accuracy: 0.3647 - val_loss: 1.4119 - val_accuracy: 0.3254\n",
            "Epoch 3/20\n",
            "230/230 [==============================] - 1s 2ms/step - loss: 1.0689 - accuracy: 0.4490 - val_loss: 1.5759 - val_accuracy: 0.3401\n",
            "Epoch 4/20\n",
            "230/230 [==============================] - 1s 2ms/step - loss: 1.1017 - accuracy: 0.4408 - val_loss: 1.0483 - val_accuracy: 0.4373\n",
            "Epoch 5/20\n",
            "230/230 [==============================] - 1s 2ms/step - loss: 1.0829 - accuracy: 0.4623 - val_loss: 2.0423 - val_accuracy: 0.3153\n",
            "Epoch 6/20\n",
            "230/230 [==============================] - 1s 5ms/step - loss: 1.1688 - accuracy: 0.4263 - val_loss: 0.9066 - val_accuracy: 0.5096\n",
            "Epoch 7/20\n",
            "230/230 [==============================] - 1s 4ms/step - loss: 0.9037 - accuracy: 0.5136 - val_loss: 1.3303 - val_accuracy: 0.4045\n",
            "Epoch 8/20\n",
            "230/230 [==============================] - 1s 3ms/step - loss: 0.9518 - accuracy: 0.5001 - val_loss: 1.3746 - val_accuracy: 0.4000\n",
            "Epoch 9/20\n",
            "230/230 [==============================] - 1s 4ms/step - loss: 0.9459 - accuracy: 0.5243 - val_loss: 0.9223 - val_accuracy: 0.5119\n",
            "Epoch 10/20\n",
            "230/230 [==============================] - 1s 4ms/step - loss: 0.9477 - accuracy: 0.5174 - val_loss: 1.2614 - val_accuracy: 0.4147\n",
            "Epoch 11/20\n",
            "230/230 [==============================] - 1s 4ms/step - loss: 0.9098 - accuracy: 0.5363 - val_loss: 0.8702 - val_accuracy: 0.5379\n",
            "Epoch 12/20\n",
            "230/230 [==============================] - 1s 4ms/step - loss: 0.9050 - accuracy: 0.5355 - val_loss: 0.8164 - val_accuracy: 0.5695\n"
          ]
        },
        {
          "output_type": "execute_result",
          "data": {
            "text/plain": [
              "<keras.callbacks.History at 0x7f1193d67f50>"
            ]
          },
          "metadata": {},
          "execution_count": 75
        }
      ]
    },
    {
      "cell_type": "code",
      "source": [
        "# model7\n",
        "\n",
        "model7 = keras.Sequential()\n",
        "model7.add(Dense(units=12, activation='relu'))\n",
        "model7.add(Dense(units=6, activation='softmax'))\n",
        "\n",
        "model7.compile(optimizer=keras.optimizers.Adam(learning_rate=0.001), \n",
        "              loss='sparse_categorical_crossentropy', \n",
        "              metrics=['accuracy'])\n",
        "\n",
        "model7.fit(x_train, y_train, epochs=20, validation_data=(x_val, y_val), callbacks=[es_callback])"
      ],
      "metadata": {
        "colab": {
          "base_uri": "https://localhost:8080/"
        },
        "id": "i0Ms_8d4tmew",
        "outputId": "ce74703b-d3f1-448c-ac50-d2d5c7ccc7c2"
      },
      "id": "i0Ms_8d4tmew",
      "execution_count": 76,
      "outputs": [
        {
          "output_type": "stream",
          "name": "stdout",
          "text": [
            "Epoch 1/20\n",
            "230/230 [==============================] - 1s 3ms/step - loss: 1.1713 - accuracy: 0.5195 - val_loss: 0.6885 - val_accuracy: 0.7356\n",
            "Epoch 2/20\n",
            "230/230 [==============================] - 1s 2ms/step - loss: 0.4921 - accuracy: 0.8154 - val_loss: 0.4158 - val_accuracy: 0.8701\n",
            "Epoch 3/20\n",
            "230/230 [==============================] - 1s 2ms/step - loss: 0.3476 - accuracy: 0.8713 - val_loss: 0.3373 - val_accuracy: 0.8938\n",
            "Epoch 4/20\n",
            "230/230 [==============================] - 1s 2ms/step - loss: 0.2778 - accuracy: 0.9008 - val_loss: 0.3236 - val_accuracy: 0.8780\n",
            "Epoch 5/20\n",
            "230/230 [==============================] - 0s 2ms/step - loss: 0.2281 - accuracy: 0.9183 - val_loss: 0.2649 - val_accuracy: 0.9051\n",
            "Epoch 6/20\n",
            "230/230 [==============================] - 1s 2ms/step - loss: 0.1997 - accuracy: 0.9297 - val_loss: 0.2565 - val_accuracy: 0.9141\n",
            "Epoch 7/20\n",
            "230/230 [==============================] - 0s 2ms/step - loss: 0.1733 - accuracy: 0.9426 - val_loss: 0.2565 - val_accuracy: 0.9107\n",
            "Epoch 8/20\n",
            "230/230 [==============================] - 1s 2ms/step - loss: 0.1592 - accuracy: 0.9468 - val_loss: 0.2252 - val_accuracy: 0.9232\n",
            "Epoch 9/20\n",
            "230/230 [==============================] - 0s 2ms/step - loss: 0.1412 - accuracy: 0.9546 - val_loss: 0.2201 - val_accuracy: 0.9153\n",
            "Epoch 10/20\n",
            "230/230 [==============================] - 1s 2ms/step - loss: 0.1335 - accuracy: 0.9544 - val_loss: 0.2096 - val_accuracy: 0.9232\n",
            "Epoch 11/20\n",
            "230/230 [==============================] - 0s 2ms/step - loss: 0.1248 - accuracy: 0.9562 - val_loss: 0.2055 - val_accuracy: 0.9232\n",
            "Epoch 12/20\n",
            "230/230 [==============================] - 1s 2ms/step - loss: 0.1140 - accuracy: 0.9625 - val_loss: 0.2035 - val_accuracy: 0.9288\n",
            "Epoch 13/20\n",
            "230/230 [==============================] - 0s 2ms/step - loss: 0.1098 - accuracy: 0.9641 - val_loss: 0.1972 - val_accuracy: 0.9288\n",
            "Epoch 14/20\n",
            "230/230 [==============================] - 1s 2ms/step - loss: 0.1046 - accuracy: 0.9630 - val_loss: 0.2413 - val_accuracy: 0.9153\n",
            "Epoch 15/20\n",
            "230/230 [==============================] - 0s 2ms/step - loss: 0.1005 - accuracy: 0.9653 - val_loss: 0.2021 - val_accuracy: 0.9254\n",
            "Epoch 16/20\n",
            "230/230 [==============================] - 1s 2ms/step - loss: 0.0929 - accuracy: 0.9691 - val_loss: 0.2336 - val_accuracy: 0.9198\n",
            "Epoch 17/20\n",
            "230/230 [==============================] - 0s 2ms/step - loss: 0.0942 - accuracy: 0.9675 - val_loss: 0.2217 - val_accuracy: 0.9186\n",
            "Epoch 18/20\n",
            "230/230 [==============================] - 0s 2ms/step - loss: 0.0914 - accuracy: 0.9674 - val_loss: 0.2077 - val_accuracy: 0.9198\n",
            "Epoch 19/20\n",
            "230/230 [==============================] - 1s 2ms/step - loss: 0.0833 - accuracy: 0.9713 - val_loss: 0.2064 - val_accuracy: 0.9266\n",
            "Epoch 20/20\n",
            "230/230 [==============================] - 1s 2ms/step - loss: 0.0818 - accuracy: 0.9727 - val_loss: 0.1937 - val_accuracy: 0.9254\n"
          ]
        },
        {
          "output_type": "execute_result",
          "data": {
            "text/plain": [
              "<keras.callbacks.History at 0x7f1185b5c9d0>"
            ]
          },
          "metadata": {},
          "execution_count": 76
        }
      ]
    },
    {
      "cell_type": "code",
      "source": [
        "# model8\n",
        "\n",
        "model8 = keras.Sequential()\n",
        "model8.add(Dense(units=12, activation='relu'))\n",
        "model8.add(Dense(units=6, activation='softmax'))\n",
        "\n",
        "model8.compile(optimizer=keras.optimizers.Adam(learning_rate=0.008), \n",
        "              loss='sparse_categorical_crossentropy', \n",
        "              metrics=['accuracy'])\n",
        "\n",
        "model8.fit(x_train, y_train, epochs=20, validation_data=(x_val, y_val), callbacks=[es_callback])"
      ],
      "metadata": {
        "colab": {
          "base_uri": "https://localhost:8080/"
        },
        "id": "4H3P0IXMtmbf",
        "outputId": "b0a1c1e8-5a65-47b5-be1d-4a9a84dad626"
      },
      "id": "4H3P0IXMtmbf",
      "execution_count": 79,
      "outputs": [
        {
          "output_type": "stream",
          "name": "stdout",
          "text": [
            "Epoch 1/20\n",
            "230/230 [==============================] - 1s 3ms/step - loss: 0.3831 - accuracy: 0.8433 - val_loss: 0.2679 - val_accuracy: 0.8825\n",
            "Epoch 2/20\n",
            "230/230 [==============================] - 1s 2ms/step - loss: 0.1588 - accuracy: 0.9380 - val_loss: 0.3722 - val_accuracy: 0.8452\n",
            "Epoch 3/20\n",
            "230/230 [==============================] - 1s 2ms/step - loss: 0.1136 - accuracy: 0.9551 - val_loss: 0.1723 - val_accuracy: 0.9243\n",
            "Epoch 4/20\n",
            "230/230 [==============================] - 1s 2ms/step - loss: 0.1185 - accuracy: 0.9547 - val_loss: 0.1516 - val_accuracy: 0.9435\n",
            "Epoch 5/20\n",
            "230/230 [==============================] - 1s 2ms/step - loss: 0.0861 - accuracy: 0.9648 - val_loss: 0.1784 - val_accuracy: 0.9299\n",
            "Epoch 6/20\n",
            "230/230 [==============================] - 1s 2ms/step - loss: 0.0771 - accuracy: 0.9695 - val_loss: 0.1772 - val_accuracy: 0.9311\n",
            "Epoch 7/20\n",
            "230/230 [==============================] - 1s 2ms/step - loss: 0.0702 - accuracy: 0.9729 - val_loss: 0.1678 - val_accuracy: 0.9458\n",
            "Epoch 8/20\n",
            "230/230 [==============================] - 1s 2ms/step - loss: 0.0977 - accuracy: 0.9638 - val_loss: 0.1508 - val_accuracy: 0.9559\n",
            "Epoch 9/20\n",
            "230/230 [==============================] - 1s 2ms/step - loss: 0.0748 - accuracy: 0.9714 - val_loss: 0.2311 - val_accuracy: 0.9356\n",
            "Epoch 10/20\n",
            "230/230 [==============================] - 1s 2ms/step - loss: 0.0580 - accuracy: 0.9767 - val_loss: 0.3255 - val_accuracy: 0.9096\n",
            "Epoch 11/20\n",
            "230/230 [==============================] - 1s 2ms/step - loss: 0.0822 - accuracy: 0.9675 - val_loss: 0.1883 - val_accuracy: 0.9446\n",
            "Epoch 12/20\n",
            "230/230 [==============================] - 1s 2ms/step - loss: 0.0556 - accuracy: 0.9776 - val_loss: 0.1906 - val_accuracy: 0.9266\n",
            "Epoch 13/20\n",
            "230/230 [==============================] - 1s 2ms/step - loss: 0.0624 - accuracy: 0.9748 - val_loss: 0.2426 - val_accuracy: 0.9266\n",
            "Epoch 14/20\n",
            "230/230 [==============================] - 1s 2ms/step - loss: 0.0711 - accuracy: 0.9732 - val_loss: 0.1920 - val_accuracy: 0.9514\n",
            "Epoch 15/20\n",
            "230/230 [==============================] - 1s 3ms/step - loss: 0.0531 - accuracy: 0.9814 - val_loss: 0.1268 - val_accuracy: 0.9593\n",
            "Epoch 16/20\n",
            "230/230 [==============================] - 1s 4ms/step - loss: 0.0636 - accuracy: 0.9740 - val_loss: 0.2213 - val_accuracy: 0.9299\n",
            "Epoch 17/20\n",
            "230/230 [==============================] - 1s 4ms/step - loss: 0.0475 - accuracy: 0.9826 - val_loss: 0.1534 - val_accuracy: 0.9559\n",
            "Epoch 18/20\n",
            "230/230 [==============================] - 1s 3ms/step - loss: 0.0498 - accuracy: 0.9808 - val_loss: 0.1968 - val_accuracy: 0.9412\n",
            "Epoch 19/20\n",
            "230/230 [==============================] - 1s 2ms/step - loss: 0.0587 - accuracy: 0.9782 - val_loss: 0.1976 - val_accuracy: 0.9548\n",
            "Epoch 20/20\n",
            "230/230 [==============================] - 1s 2ms/step - loss: 0.0584 - accuracy: 0.9771 - val_loss: 0.1923 - val_accuracy: 0.9492\n"
          ]
        },
        {
          "output_type": "execute_result",
          "data": {
            "text/plain": [
              "<keras.callbacks.History at 0x7f11863d07d0>"
            ]
          },
          "metadata": {},
          "execution_count": 79
        }
      ]
    },
    {
      "cell_type": "code",
      "source": [
        ""
      ],
      "metadata": {
        "id": "6uhJ7vRavojs"
      },
      "id": "6uhJ7vRavojs",
      "execution_count": null,
      "outputs": []
    },
    {
      "cell_type": "code",
      "source": [
        ""
      ],
      "metadata": {
        "id": "Zp5yqFz4vohQ"
      },
      "id": "Zp5yqFz4vohQ",
      "execution_count": null,
      "outputs": []
    },
    {
      "cell_type": "code",
      "source": [
        ""
      ],
      "metadata": {
        "id": "HmwmGLfYvoev"
      },
      "id": "HmwmGLfYvoev",
      "execution_count": null,
      "outputs": []
    },
    {
      "cell_type": "code",
      "source": [
        "models = [model1, model2, model3, model4, model5, model6, model7, model8]"
      ],
      "metadata": {
        "id": "Vn-_mIzevoco"
      },
      "id": "Vn-_mIzevoco",
      "execution_count": 81,
      "outputs": []
    },
    {
      "cell_type": "code",
      "source": [
        "for model in models:\n",
        "  print(model.evaluate(x_test, y_test, verbose=1))"
      ],
      "metadata": {
        "colab": {
          "base_uri": "https://localhost:8080/"
        },
        "id": "VZNnYnaytmSw",
        "outputId": "ac8e4d79-178c-4397-efac-43a3bac0ce73"
      },
      "id": "VZNnYnaytmSw",
      "execution_count": 82,
      "outputs": [
        {
          "output_type": "stream",
          "name": "stdout",
          "text": [
            "65/65 [==============================] - 0s 1ms/step - loss: 0.1188 - accuracy: 0.9564\n",
            "[0.11879885196685791, 0.9563530683517456]\n",
            "65/65 [==============================] - 0s 2ms/step - loss: 0.1867 - accuracy: 0.9418\n",
            "[0.1867406666278839, 0.941804051399231]\n",
            "65/65 [==============================] - 0s 2ms/step - loss: 0.1870 - accuracy: 0.9457\n",
            "[0.1869545876979828, 0.9456837773323059]\n",
            "65/65 [==============================] - 0s 1ms/step - loss: 0.1676 - accuracy: 0.9374\n",
            "[0.16756665706634521, 0.9374393820762634]\n",
            "65/65 [==============================] - 0s 3ms/step - loss: 0.1839 - accuracy: 0.9355\n",
            "[0.18389587104320526, 0.9354994893074036]\n",
            "65/65 [==============================] - 0s 1ms/step - loss: 1.2924 - accuracy: 0.4079\n",
            "[1.292379379272461, 0.40785646438598633]\n",
            "65/65 [==============================] - 0s 2ms/step - loss: 0.2227 - accuracy: 0.9132\n",
            "[0.22270922362804413, 0.9131910800933838]\n",
            "65/65 [==============================] - 0s 2ms/step - loss: 0.2063 - accuracy: 0.9413\n",
            "[0.20634272694587708, 0.9413191080093384]\n"
          ]
        }
      ]
    },
    {
      "cell_type": "code",
      "execution_count": 82,
      "id": "5ce6e2b5",
      "metadata": {
        "id": "5ce6e2b5"
      },
      "outputs": [],
      "source": [
        ""
      ]
    },
    {
      "cell_type": "code",
      "execution_count": null,
      "id": "ddd745aa",
      "metadata": {
        "id": "ddd745aa"
      },
      "outputs": [],
      "source": [
        ""
      ]
    },
    {
      "cell_type": "code",
      "execution_count": null,
      "id": "92d8afc4",
      "metadata": {
        "id": "92d8afc4"
      },
      "outputs": [],
      "source": [
        ""
      ]
    }
  ],
  "metadata": {
    "kernelspec": {
      "display_name": "Python 3 (ipykernel)",
      "language": "python",
      "name": "python3"
    },
    "language_info": {
      "codemirror_mode": {
        "name": "ipython",
        "version": 3
      },
      "file_extension": ".py",
      "mimetype": "text/x-python",
      "name": "python",
      "nbconvert_exporter": "python",
      "pygments_lexer": "ipython3",
      "version": "3.10.1"
    },
    "colab": {
      "name": "HW03.ipynb",
      "provenance": [],
      "collapsed_sections": [],
      "include_colab_link": true
    }
  },
  "nbformat": 4,
  "nbformat_minor": 5
}