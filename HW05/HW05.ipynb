{
  "cells": [
    {
      "cell_type": "markdown",
      "metadata": {
        "id": "upz6ROBp09qo"
      },
      "source": [
        "### - Sobhan Moradian Daghigh\n",
        "#### - 5/20/2022\n",
        "#### - ANN - HW05"
      ]
    },
    {
      "cell_type": "code",
      "execution_count": 1,
      "metadata": {
        "id": "Sz-0H12q09qt"
      },
      "outputs": [],
      "source": [
        "import numpy as np\n",
        "import matplotlib.pyplot as plt\n",
        "from sklearn.model_selection import train_test_split\n",
        "import urllib\n",
        "import tensorflow as tf, keras\n",
        "from sklearn.metrics import accuracy_score\n",
        "from keras.utils.vis_utils import plot_model\n",
        "from keras.models import Model\n",
        "from keras.layers import Input, Dense, Flatten\n",
        "from keras.layers.merge import concatenate\n",
        "\n",
        "import warnings\n",
        "warnings.filterwarnings(\"ignore\")\n",
        "\n",
        "import itertools\n",
        "\n",
        "%load_ext tensorboard"
      ]
    },
    {
      "cell_type": "code",
      "source": [
        "print(tf.__version__)"
      ],
      "metadata": {
        "colab": {
          "base_uri": "https://localhost:8080/"
        },
        "id": "lC6SiTti1cHr",
        "outputId": "001946a5-5327-4829-8994-c44e6277750e"
      },
      "execution_count": 2,
      "outputs": [
        {
          "output_type": "stream",
          "name": "stdout",
          "text": [
            "2.8.0\n"
          ]
        }
      ]
    },
    {
      "cell_type": "code",
      "source": [
        "from google.colab import drive\n",
        "drive.mount('/content/drive')"
      ],
      "metadata": {
        "colab": {
          "base_uri": "https://localhost:8080/"
        },
        "id": "3_3LG3SH5vTa",
        "outputId": "d4dce845-1e3f-44d7-98ba-5732624fa535"
      },
      "execution_count": 3,
      "outputs": [
        {
          "output_type": "stream",
          "name": "stdout",
          "text": [
            "Mounted at /content/drive\n"
          ]
        }
      ]
    },
    {
      "cell_type": "code",
      "source": [
        "tb_callback = keras.callbacks.TensorBoard(log_dir='/content/drive/MyDrive/logs', histogram_freq=1)"
      ],
      "metadata": {
        "id": "RCNvq9tI5vO0"
      },
      "execution_count": 4,
      "outputs": []
    },
    {
      "cell_type": "code",
      "source": [
        "class EarlyStoppingCallback(keras.callbacks.Callback):\n",
        "  def __init__(self, patience=0):\n",
        "    super(EarlyStoppingCallback, self).__init__()\n",
        "    self.patience = patience\n",
        "\n",
        "  def on_train_begin(self, logs=None):\n",
        "    self.best = 0\n",
        "    self.wait = 0\n",
        "  \n",
        "  def on_epoch_end(self, epoch, logs=None):\n",
        "    current_acc = logs.get('accuracy')\n",
        "    if np.less(self.best, current_acc):\n",
        "      self.best = current_acc\n",
        "      self.wait = 0\n",
        "      self.best_weights = self.model.get_weights()\n",
        "    else:\n",
        "      self.wait += 1\n",
        "      if np.greater_equal(self.wait, self.patience):\n",
        "        self.model.stop_training = True\n",
        "        self.model.set_weights(self.best_weights)"
      ],
      "metadata": {
        "id": "TFv3GdDX5vMN"
      },
      "execution_count": 5,
      "outputs": []
    },
    {
      "cell_type": "code",
      "source": [
        "es_callback = EarlyStoppingCallback(patience=3)"
      ],
      "metadata": {
        "id": "PnySBYER5vJv"
      },
      "execution_count": 6,
      "outputs": []
    },
    {
      "cell_type": "code",
      "source": [
        ""
      ],
      "metadata": {
        "id": "lvBhf7E3550C"
      },
      "execution_count": 6,
      "outputs": []
    },
    {
      "cell_type": "markdown",
      "metadata": {
        "id": "uAIOKJAQ09qv"
      },
      "source": [
        "# Load Data"
      ]
    },
    {
      "cell_type": "code",
      "source": [
        "def load_data(base_url, names):\n",
        "  datas = []\n",
        "  labels = []\n",
        "  for name in names:\n",
        "    file = urllib.request.urlopen(base_url + '{}.data'.format(name))\n",
        "    while True:\n",
        "      # Reading label\n",
        "      label = file.readline().decode(\"utf-8\").strip()\n",
        "\n",
        "      # EOF\n",
        "      if label is '':\n",
        "        break\n",
        "\n",
        "      label = 1 if label in ['normal', 'ok'] else 0\n",
        "      labels.append(label)\n",
        "\n",
        "      # Packing each 15 datas\n",
        "      pack = []\n",
        "      for _ in range(15):\n",
        "        data = [np.float64(x) for x in (file.readline().decode(\"utf-8\")[:-1].split('\\t')[1:])]\n",
        "        pack.append(data)\n",
        "      datas.append(pack)\n",
        "\n",
        "      # Skipping for two empty lines\n",
        "      file.readline()\n",
        "      file.readline()\n",
        "\n",
        "  return np.array(datas), np.array(labels)"
      ],
      "metadata": {
        "id": "jFUPtL5l5vHK"
      },
      "execution_count": 7,
      "outputs": []
    },
    {
      "cell_type": "code",
      "source": [
        "base_url = 'https://raw.githubusercontent.com/nahbos/AUT-Neural-Networks/main/HW05/data/'\n",
        "names = ['lp1', 'lp2', 'lp3', 'lp4', 'lp5']\n",
        "datas, labels = load_data(base_url, names)"
      ],
      "metadata": {
        "id": "NKHQFcJf6oKp"
      },
      "execution_count": 8,
      "outputs": []
    },
    {
      "cell_type": "code",
      "source": [
        "datas.shape"
      ],
      "metadata": {
        "colab": {
          "base_uri": "https://localhost:8080/"
        },
        "id": "vGMmSb9zIJ4-",
        "outputId": "4ec8497e-a3e6-47db-b4fd-c5db18c3a8ae"
      },
      "execution_count": 9,
      "outputs": [
        {
          "output_type": "execute_result",
          "data": {
            "text/plain": [
              "(463, 15, 6)"
            ]
          },
          "metadata": {},
          "execution_count": 9
        }
      ]
    },
    {
      "cell_type": "code",
      "execution_count": 9,
      "metadata": {
        "id": "T_ApCRTA09qx"
      },
      "outputs": [],
      "source": [
        ""
      ]
    },
    {
      "cell_type": "code",
      "execution_count": 10,
      "metadata": {
        "id": "ECLXo6Bu09qy"
      },
      "outputs": [],
      "source": [
        "x_temp, x_test, y_temp, y_test = train_test_split(datas, labels, test_size=0.2, random_state=42)\n",
        "x_train, x_val, y_train, y_val = train_test_split(x_temp, y_temp, test_size=0.125, random_state=42)"
      ]
    },
    {
      "cell_type": "code",
      "source": [
        "x_train.shape"
      ],
      "metadata": {
        "colab": {
          "base_uri": "https://localhost:8080/"
        },
        "id": "jjgeYRxDI9Xe",
        "outputId": "d85e29b2-76a5-45d5-8b29-76defde8e9eb"
      },
      "execution_count": 11,
      "outputs": [
        {
          "output_type": "execute_result",
          "data": {
            "text/plain": [
              "(323, 15, 6)"
            ]
          },
          "metadata": {},
          "execution_count": 11
        }
      ]
    },
    {
      "cell_type": "code",
      "source": [
        "x_val.shape"
      ],
      "metadata": {
        "colab": {
          "base_uri": "https://localhost:8080/"
        },
        "id": "foW7zHH-JBgM",
        "outputId": "80e5248d-cd63-43db-ea20-59f82a9dfd62"
      },
      "execution_count": 12,
      "outputs": [
        {
          "output_type": "execute_result",
          "data": {
            "text/plain": [
              "(47, 15, 6)"
            ]
          },
          "metadata": {},
          "execution_count": 12
        }
      ]
    },
    {
      "cell_type": "code",
      "source": [
        "x_test.shape"
      ],
      "metadata": {
        "colab": {
          "base_uri": "https://localhost:8080/"
        },
        "id": "PYUNIOUZJGXl",
        "outputId": "4163f1af-2c62-44e0-c2e9-d9188fd9041a"
      },
      "execution_count": 13,
      "outputs": [
        {
          "output_type": "execute_result",
          "data": {
            "text/plain": [
              "(93, 15, 6)"
            ]
          },
          "metadata": {},
          "execution_count": 13
        }
      ]
    },
    {
      "cell_type": "code",
      "source": [
        ""
      ],
      "metadata": {
        "id": "sSSM7GcAJXYd"
      },
      "execution_count": 13,
      "outputs": []
    },
    {
      "cell_type": "markdown",
      "metadata": {
        "id": "LCfmvLwV09q0"
      },
      "source": [
        "# Elman Neural Network\n",
        "#### Implementation is based on Elman algorithm and rules\n",
        "##### Some useful links:\n",
        "##### [Elman](https://www.youtube.com/watch?v=e2sGq_vI41s&list=PLC112AD1C69432FDB&index=4)\n",
        "##### [Deep Learning with Python book - page 197](https://tanthiamhuat.files.wordpress.com/2018/03/deeplearningwithpython.pdf)"
      ]
    },
    {
      "cell_type": "code",
      "execution_count": 14,
      "metadata": {
        "id": "-5ExfEEA09q1"
      },
      "outputs": [],
      "source": [
        "class Elman(tf.keras.Model):\n",
        "  def __init__(self, input_dim, hidden_units, feature_size, n_classes):\n",
        "    super().__init__()\n",
        "    self.hidden_units = hidden_units\n",
        "    self.feature_size = feature_size\n",
        "    self.input_dim = input_dim\n",
        "    self.n_classes = n_classes\n",
        "\n",
        "    # The names are based on the pseudo code in the book which linked above.\n",
        "\n",
        "    self.W = self.add_weight(shape=(self.hidden_units, self.feature_size), initializer='random_normal', trainable=True)\n",
        "    self.U = self.add_weight(shape=(self.hidden_units, self.hidden_units), initializer='random_normal', trainable=True)\n",
        "    self.b = self.add_weight(shape=(self.hidden_units,), initializer='random_normal', trainable=True)\n",
        "\n",
        "    self.W_y = self.add_weight(shape=(self.n_classes, self.hidden_units), initializer='random_normal', trainable=True)\n",
        "    self.b_y = self.add_weight(shape=(self.n_classes,), initializer='random_normal', trainable=True)\n",
        "\n",
        "  def call(self, x):\n",
        "    state_t = tf.zeros(self.hidden_units)\n",
        "    for i in range(self.input_dim):\n",
        "      state_t = tf.keras.activations.sigmoid(tf.matmul(self.W, tf.cast(tf.reshape(x[0][i], (self.feature_size, 1)), tf.float32)) + tf.matmul(self.U, tf.reshape(state_t, (self.hidden_units, 1))) + tf.reshape(self.b, (self.hidden_units, 1)))\n",
        "\n",
        "    y = tf.keras.activations.sigmoid(tf.matmul(self.W_y, tf.reshape(state_t, (self.hidden_units, 1))) + tf.reshape(self.b_y, (self.n_classes, 1)))\n",
        "    return y"
      ]
    },
    {
      "cell_type": "code",
      "source": [
        "def evaluate(model, x_datas, y_datas):\n",
        "  predictions = []\n",
        "  for data in x_datas:\n",
        "    res = model.call(tf.convert_to_tensor(np.array([data])))\n",
        "    res = 1 if np.array(res)[0] > 0.5 else 0\n",
        "    predictions.append(res)\n",
        "\n",
        "  return accuracy_score(y_datas, predictions)"
      ],
      "metadata": {
        "id": "04ZOAF8Qwmqq"
      },
      "execution_count": 15,
      "outputs": []
    },
    {
      "cell_type": "code",
      "execution_count": 50,
      "metadata": {
        "id": "OyyeyoED09q1"
      },
      "outputs": [],
      "source": [
        "elman = Elman(input_dim=15, hidden_units=25, feature_size=6, n_classes=1)"
      ]
    },
    {
      "cell_type": "code",
      "source": [
        "elman.compile(optimizer='adam', loss='binary_crossentropy', metrics=['accuracy'])"
      ],
      "metadata": {
        "id": "6Kqq2V66NMvt"
      },
      "execution_count": 51,
      "outputs": []
    },
    {
      "cell_type": "code",
      "source": [
        "elman.fit(x_train, y_train, batch_size=1, epochs=100, validation_data=(x_val, y_val), callbacks=[tb_callback])"
      ],
      "metadata": {
        "colab": {
          "base_uri": "https://localhost:8080/"
        },
        "id": "duEi0gM5NKvX",
        "outputId": "997aa826-1eb9-498a-84c4-525fd19a5352"
      },
      "execution_count": 52,
      "outputs": [
        {
          "output_type": "stream",
          "name": "stdout",
          "text": [
            "Epoch 1/100\n",
            "323/323 [==============================] - 3s 5ms/step - loss: 0.5549 - accuracy: 0.7214 - val_loss: 0.4849 - val_accuracy: 0.6809\n",
            "Epoch 2/100\n",
            "323/323 [==============================] - 1s 4ms/step - loss: 0.4541 - accuracy: 0.7152 - val_loss: 0.4486 - val_accuracy: 0.6383\n",
            "Epoch 3/100\n",
            "323/323 [==============================] - 1s 4ms/step - loss: 0.4193 - accuracy: 0.7183 - val_loss: 0.4283 - val_accuracy: 0.6596\n",
            "Epoch 4/100\n",
            "323/323 [==============================] - 1s 4ms/step - loss: 0.3931 - accuracy: 0.7647 - val_loss: 0.3644 - val_accuracy: 0.8085\n",
            "Epoch 5/100\n",
            "323/323 [==============================] - 1s 3ms/step - loss: 0.3832 - accuracy: 0.7678 - val_loss: 0.4010 - val_accuracy: 0.7447\n",
            "Epoch 6/100\n",
            "323/323 [==============================] - 1s 4ms/step - loss: 0.3677 - accuracy: 0.7988 - val_loss: 0.3850 - val_accuracy: 0.7660\n",
            "Epoch 7/100\n",
            "323/323 [==============================] - 1s 4ms/step - loss: 0.3561 - accuracy: 0.8019 - val_loss: 0.4181 - val_accuracy: 0.6596\n",
            "Epoch 8/100\n",
            "323/323 [==============================] - 1s 4ms/step - loss: 0.3485 - accuracy: 0.7926 - val_loss: 0.3713 - val_accuracy: 0.7234\n",
            "Epoch 9/100\n",
            "323/323 [==============================] - 1s 4ms/step - loss: 0.3411 - accuracy: 0.8080 - val_loss: 0.3729 - val_accuracy: 0.7872\n",
            "Epoch 10/100\n",
            "323/323 [==============================] - 1s 4ms/step - loss: 0.3318 - accuracy: 0.8080 - val_loss: 0.3718 - val_accuracy: 0.7447\n",
            "Epoch 11/100\n",
            "323/323 [==============================] - 1s 4ms/step - loss: 0.3239 - accuracy: 0.7926 - val_loss: 0.3533 - val_accuracy: 0.7872\n",
            "Epoch 12/100\n",
            "323/323 [==============================] - 1s 4ms/step - loss: 0.3147 - accuracy: 0.8142 - val_loss: 0.3637 - val_accuracy: 0.7447\n",
            "Epoch 13/100\n",
            "323/323 [==============================] - 1s 4ms/step - loss: 0.3098 - accuracy: 0.8235 - val_loss: 0.3474 - val_accuracy: 0.7872\n",
            "Epoch 14/100\n",
            "323/323 [==============================] - 1s 4ms/step - loss: 0.3059 - accuracy: 0.8297 - val_loss: 0.3408 - val_accuracy: 0.7872\n",
            "Epoch 15/100\n",
            "323/323 [==============================] - 1s 4ms/step - loss: 0.3002 - accuracy: 0.8328 - val_loss: 0.3558 - val_accuracy: 0.7660\n",
            "Epoch 16/100\n",
            "323/323 [==============================] - 1s 4ms/step - loss: 0.2967 - accuracy: 0.8359 - val_loss: 0.3118 - val_accuracy: 0.8085\n",
            "Epoch 17/100\n",
            "323/323 [==============================] - 1s 4ms/step - loss: 0.2909 - accuracy: 0.8359 - val_loss: 0.3195 - val_accuracy: 0.8085\n",
            "Epoch 18/100\n",
            "323/323 [==============================] - 1s 4ms/step - loss: 0.2855 - accuracy: 0.8235 - val_loss: 0.3060 - val_accuracy: 0.8085\n",
            "Epoch 19/100\n",
            "323/323 [==============================] - 1s 4ms/step - loss: 0.2836 - accuracy: 0.8328 - val_loss: 0.3122 - val_accuracy: 0.8085\n",
            "Epoch 20/100\n",
            "323/323 [==============================] - 1s 3ms/step - loss: 0.2788 - accuracy: 0.8328 - val_loss: 0.2956 - val_accuracy: 0.8298\n",
            "Epoch 21/100\n",
            "323/323 [==============================] - 1s 4ms/step - loss: 0.2750 - accuracy: 0.8328 - val_loss: 0.2954 - val_accuracy: 0.8085\n",
            "Epoch 22/100\n",
            "323/323 [==============================] - 1s 4ms/step - loss: 0.2711 - accuracy: 0.8328 - val_loss: 0.2961 - val_accuracy: 0.8085\n",
            "Epoch 23/100\n",
            "323/323 [==============================] - 1s 4ms/step - loss: 0.2669 - accuracy: 0.8421 - val_loss: 0.2945 - val_accuracy: 0.8085\n",
            "Epoch 24/100\n",
            "323/323 [==============================] - 1s 4ms/step - loss: 0.2677 - accuracy: 0.8514 - val_loss: 0.2967 - val_accuracy: 0.8085\n",
            "Epoch 25/100\n",
            "323/323 [==============================] - 1s 4ms/step - loss: 0.2617 - accuracy: 0.8452 - val_loss: 0.2899 - val_accuracy: 0.8085\n",
            "Epoch 26/100\n",
            "323/323 [==============================] - 1s 4ms/step - loss: 0.2609 - accuracy: 0.8297 - val_loss: 0.2831 - val_accuracy: 0.8085\n",
            "Epoch 27/100\n",
            "323/323 [==============================] - 1s 4ms/step - loss: 0.2571 - accuracy: 0.8452 - val_loss: 0.2727 - val_accuracy: 0.8298\n",
            "Epoch 28/100\n",
            "323/323 [==============================] - 1s 4ms/step - loss: 0.2523 - accuracy: 0.8483 - val_loss: 0.2565 - val_accuracy: 0.8723\n",
            "Epoch 29/100\n",
            "323/323 [==============================] - 1s 4ms/step - loss: 0.2485 - accuracy: 0.8452 - val_loss: 0.2579 - val_accuracy: 0.8511\n",
            "Epoch 30/100\n",
            "323/323 [==============================] - 1s 4ms/step - loss: 0.2409 - accuracy: 0.8700 - val_loss: 0.2954 - val_accuracy: 0.8085\n",
            "Epoch 31/100\n",
            "323/323 [==============================] - 1s 4ms/step - loss: 0.2340 - accuracy: 0.8793 - val_loss: 0.2345 - val_accuracy: 0.8936\n",
            "Epoch 32/100\n",
            "323/323 [==============================] - 1s 4ms/step - loss: 0.2444 - accuracy: 0.8638 - val_loss: 0.2500 - val_accuracy: 0.8723\n",
            "Epoch 33/100\n",
            "323/323 [==============================] - 1s 4ms/step - loss: 0.2370 - accuracy: 0.8607 - val_loss: 0.2223 - val_accuracy: 0.8936\n",
            "Epoch 34/100\n",
            "323/323 [==============================] - 1s 4ms/step - loss: 0.2317 - accuracy: 0.8607 - val_loss: 0.2317 - val_accuracy: 0.8723\n",
            "Epoch 35/100\n",
            "323/323 [==============================] - 1s 4ms/step - loss: 0.2298 - accuracy: 0.8700 - val_loss: 0.2485 - val_accuracy: 0.8723\n",
            "Epoch 36/100\n",
            "323/323 [==============================] - 1s 4ms/step - loss: 0.2264 - accuracy: 0.8700 - val_loss: 0.2450 - val_accuracy: 0.8511\n",
            "Epoch 37/100\n",
            "323/323 [==============================] - 1s 3ms/step - loss: 0.2197 - accuracy: 0.8700 - val_loss: 0.2232 - val_accuracy: 0.8723\n",
            "Epoch 38/100\n",
            "323/323 [==============================] - 1s 4ms/step - loss: 0.2139 - accuracy: 0.8824 - val_loss: 0.2211 - val_accuracy: 0.8723\n",
            "Epoch 39/100\n",
            "323/323 [==============================] - 1s 4ms/step - loss: 0.2146 - accuracy: 0.9040 - val_loss: 0.2222 - val_accuracy: 0.8723\n",
            "Epoch 40/100\n",
            "323/323 [==============================] - 1s 4ms/step - loss: 0.2113 - accuracy: 0.8978 - val_loss: 0.2224 - val_accuracy: 0.8723\n",
            "Epoch 41/100\n",
            "323/323 [==============================] - 1s 4ms/step - loss: 0.2040 - accuracy: 0.9040 - val_loss: 0.2145 - val_accuracy: 0.8723\n",
            "Epoch 42/100\n",
            "323/323 [==============================] - 1s 4ms/step - loss: 0.1971 - accuracy: 0.9102 - val_loss: 0.2126 - val_accuracy: 0.8511\n",
            "Epoch 43/100\n",
            "323/323 [==============================] - 1s 4ms/step - loss: 0.2069 - accuracy: 0.9319 - val_loss: 0.2169 - val_accuracy: 0.8511\n",
            "Epoch 44/100\n",
            "323/323 [==============================] - 1s 4ms/step - loss: 0.2379 - accuracy: 0.8854 - val_loss: 0.2061 - val_accuracy: 0.8511\n",
            "Epoch 45/100\n",
            "323/323 [==============================] - 1s 4ms/step - loss: 0.1876 - accuracy: 0.9226 - val_loss: 0.2154 - val_accuracy: 0.8723\n",
            "Epoch 46/100\n",
            "323/323 [==============================] - 1s 4ms/step - loss: 0.1848 - accuracy: 0.9102 - val_loss: 0.2048 - val_accuracy: 0.8936\n",
            "Epoch 47/100\n",
            "323/323 [==============================] - 1s 4ms/step - loss: 0.1937 - accuracy: 0.9381 - val_loss: 0.2429 - val_accuracy: 0.8511\n",
            "Epoch 48/100\n",
            "323/323 [==============================] - 1s 3ms/step - loss: 0.1930 - accuracy: 0.9226 - val_loss: 0.1896 - val_accuracy: 0.8936\n",
            "Epoch 49/100\n",
            "323/323 [==============================] - 1s 4ms/step - loss: 0.2205 - accuracy: 0.8916 - val_loss: 0.2387 - val_accuracy: 0.8511\n",
            "Epoch 50/100\n",
            "323/323 [==============================] - 1s 4ms/step - loss: 0.2056 - accuracy: 0.9009 - val_loss: 0.1976 - val_accuracy: 0.8936\n",
            "Epoch 51/100\n",
            "323/323 [==============================] - 1s 4ms/step - loss: 0.1770 - accuracy: 0.9133 - val_loss: 0.1978 - val_accuracy: 0.8936\n",
            "Epoch 52/100\n",
            "323/323 [==============================] - 1s 4ms/step - loss: 0.1722 - accuracy: 0.9319 - val_loss: 0.1782 - val_accuracy: 0.9149\n",
            "Epoch 53/100\n",
            "323/323 [==============================] - 1s 4ms/step - loss: 0.1608 - accuracy: 0.9381 - val_loss: 0.1873 - val_accuracy: 0.9149\n",
            "Epoch 54/100\n",
            "323/323 [==============================] - 1s 4ms/step - loss: 0.1570 - accuracy: 0.9350 - val_loss: 0.1742 - val_accuracy: 0.8936\n",
            "Epoch 55/100\n",
            "323/323 [==============================] - 1s 4ms/step - loss: 0.1411 - accuracy: 0.9598 - val_loss: 0.1733 - val_accuracy: 0.8936\n",
            "Epoch 56/100\n",
            "323/323 [==============================] - 1s 4ms/step - loss: 0.1751 - accuracy: 0.9381 - val_loss: 0.1733 - val_accuracy: 0.8936\n",
            "Epoch 57/100\n",
            "323/323 [==============================] - 1s 4ms/step - loss: 0.2023 - accuracy: 0.9350 - val_loss: 0.1638 - val_accuracy: 0.9149\n",
            "Epoch 58/100\n",
            "323/323 [==============================] - 1s 4ms/step - loss: 0.1526 - accuracy: 0.9598 - val_loss: 0.1660 - val_accuracy: 0.9149\n",
            "Epoch 59/100\n",
            "323/323 [==============================] - 1s 4ms/step - loss: 0.1885 - accuracy: 0.9226 - val_loss: 0.2072 - val_accuracy: 0.9149\n",
            "Epoch 60/100\n",
            "323/323 [==============================] - 1s 4ms/step - loss: 0.1529 - accuracy: 0.9505 - val_loss: 0.1650 - val_accuracy: 0.8936\n",
            "Epoch 61/100\n",
            "323/323 [==============================] - 1s 4ms/step - loss: 0.1359 - accuracy: 0.9659 - val_loss: 0.1642 - val_accuracy: 0.9149\n",
            "Epoch 62/100\n",
            "323/323 [==============================] - 1s 4ms/step - loss: 0.1275 - accuracy: 0.9598 - val_loss: 0.1698 - val_accuracy: 0.8936\n",
            "Epoch 63/100\n",
            "323/323 [==============================] - 1s 4ms/step - loss: 0.1383 - accuracy: 0.9659 - val_loss: 0.1681 - val_accuracy: 0.9149\n",
            "Epoch 64/100\n",
            "323/323 [==============================] - 1s 4ms/step - loss: 0.1186 - accuracy: 0.9721 - val_loss: 0.1645 - val_accuracy: 0.9149\n",
            "Epoch 65/100\n",
            "323/323 [==============================] - 1s 4ms/step - loss: 0.1158 - accuracy: 0.9659 - val_loss: 0.1620 - val_accuracy: 0.9149\n",
            "Epoch 66/100\n",
            "323/323 [==============================] - 1s 4ms/step - loss: 0.1120 - accuracy: 0.9659 - val_loss: 0.1649 - val_accuracy: 0.9149\n",
            "Epoch 67/100\n",
            "323/323 [==============================] - 1s 4ms/step - loss: 0.1117 - accuracy: 0.9721 - val_loss: 0.1628 - val_accuracy: 0.9149\n",
            "Epoch 68/100\n",
            "323/323 [==============================] - 1s 4ms/step - loss: 0.1106 - accuracy: 0.9659 - val_loss: 0.1617 - val_accuracy: 0.9149\n",
            "Epoch 69/100\n",
            "323/323 [==============================] - 1s 4ms/step - loss: 0.1034 - accuracy: 0.9752 - val_loss: 0.1769 - val_accuracy: 0.9149\n",
            "Epoch 70/100\n",
            "323/323 [==============================] - 1s 4ms/step - loss: 0.1094 - accuracy: 0.9659 - val_loss: 0.1752 - val_accuracy: 0.8936\n",
            "Epoch 71/100\n",
            "323/323 [==============================] - 1s 4ms/step - loss: 0.2377 - accuracy: 0.9505 - val_loss: 0.6580 - val_accuracy: 0.9149\n",
            "Epoch 72/100\n",
            "323/323 [==============================] - 1s 4ms/step - loss: 0.2442 - accuracy: 0.9567 - val_loss: 0.1708 - val_accuracy: 0.8936\n",
            "Epoch 73/100\n",
            "323/323 [==============================] - 1s 4ms/step - loss: 0.2446 - accuracy: 0.8700 - val_loss: 0.2205 - val_accuracy: 0.8936\n",
            "Epoch 74/100\n",
            "323/323 [==============================] - 1s 4ms/step - loss: 0.1757 - accuracy: 0.9133 - val_loss: 0.1767 - val_accuracy: 0.9149\n",
            "Epoch 75/100\n",
            "323/323 [==============================] - 1s 4ms/step - loss: 0.1602 - accuracy: 0.9195 - val_loss: 0.1599 - val_accuracy: 0.9149\n",
            "Epoch 76/100\n",
            "323/323 [==============================] - 1s 4ms/step - loss: 0.1507 - accuracy: 0.9164 - val_loss: 0.1315 - val_accuracy: 0.9362\n",
            "Epoch 77/100\n",
            "323/323 [==============================] - 1s 4ms/step - loss: 0.1376 - accuracy: 0.9443 - val_loss: 0.1361 - val_accuracy: 0.9149\n",
            "Epoch 78/100\n",
            "323/323 [==============================] - 1s 4ms/step - loss: 0.1256 - accuracy: 0.9567 - val_loss: 0.1257 - val_accuracy: 0.9362\n",
            "Epoch 79/100\n",
            "323/323 [==============================] - 1s 4ms/step - loss: 0.1869 - accuracy: 0.9443 - val_loss: 0.1371 - val_accuracy: 0.9574\n",
            "Epoch 80/100\n",
            "323/323 [==============================] - 1s 4ms/step - loss: 0.1598 - accuracy: 0.9628 - val_loss: 0.1328 - val_accuracy: 0.9362\n",
            "Epoch 81/100\n",
            "323/323 [==============================] - 1s 4ms/step - loss: 0.1943 - accuracy: 0.9721 - val_loss: 0.1344 - val_accuracy: 0.9362\n",
            "Epoch 82/100\n",
            "323/323 [==============================] - 1s 4ms/step - loss: 0.1887 - accuracy: 0.9659 - val_loss: 0.1339 - val_accuracy: 0.9574\n",
            "Epoch 83/100\n",
            "323/323 [==============================] - 1s 4ms/step - loss: 0.1797 - accuracy: 0.9690 - val_loss: 0.1315 - val_accuracy: 0.9362\n",
            "Epoch 84/100\n",
            "323/323 [==============================] - 1s 4ms/step - loss: 0.1734 - accuracy: 0.9659 - val_loss: 0.1319 - val_accuracy: 0.9362\n",
            "Epoch 85/100\n",
            "323/323 [==============================] - 1s 4ms/step - loss: 0.1665 - accuracy: 0.9659 - val_loss: 0.1391 - val_accuracy: 0.9362\n",
            "Epoch 86/100\n",
            "323/323 [==============================] - 1s 4ms/step - loss: 0.1946 - accuracy: 0.9598 - val_loss: 0.1340 - val_accuracy: 0.9362\n",
            "Epoch 87/100\n",
            "323/323 [==============================] - 1s 4ms/step - loss: 0.1868 - accuracy: 0.9598 - val_loss: 0.1329 - val_accuracy: 0.9149\n",
            "Epoch 88/100\n",
            "323/323 [==============================] - 1s 4ms/step - loss: 0.1799 - accuracy: 0.9598 - val_loss: 0.1323 - val_accuracy: 0.9149\n",
            "Epoch 89/100\n",
            "323/323 [==============================] - 1s 4ms/step - loss: 0.2266 - accuracy: 0.9598 - val_loss: 0.1160 - val_accuracy: 0.9362\n",
            "Epoch 90/100\n",
            "323/323 [==============================] - 1s 4ms/step - loss: 0.1799 - accuracy: 0.9567 - val_loss: 0.1446 - val_accuracy: 0.9149\n",
            "Epoch 91/100\n",
            "323/323 [==============================] - 1s 4ms/step - loss: 0.1882 - accuracy: 0.9288 - val_loss: 0.1511 - val_accuracy: 0.9149\n",
            "Epoch 92/100\n",
            "323/323 [==============================] - 1s 4ms/step - loss: 0.1736 - accuracy: 0.9474 - val_loss: 0.1102 - val_accuracy: 0.9787\n",
            "Epoch 93/100\n",
            "323/323 [==============================] - 1s 3ms/step - loss: 0.1613 - accuracy: 0.9567 - val_loss: 0.1077 - val_accuracy: 0.9574\n",
            "Epoch 94/100\n",
            "323/323 [==============================] - 1s 4ms/step - loss: 0.1451 - accuracy: 0.9659 - val_loss: 0.1228 - val_accuracy: 0.9574\n",
            "Epoch 95/100\n",
            "323/323 [==============================] - 2s 5ms/step - loss: 0.1626 - accuracy: 0.9690 - val_loss: 0.1118 - val_accuracy: 0.9787\n",
            "Epoch 96/100\n",
            "323/323 [==============================] - 1s 4ms/step - loss: 0.1567 - accuracy: 0.9659 - val_loss: 0.1229 - val_accuracy: 0.9574\n",
            "Epoch 97/100\n",
            "323/323 [==============================] - 1s 4ms/step - loss: 0.1521 - accuracy: 0.9690 - val_loss: 0.1253 - val_accuracy: 0.9574\n",
            "Epoch 98/100\n",
            "323/323 [==============================] - 1s 4ms/step - loss: 0.1485 - accuracy: 0.9659 - val_loss: 0.1191 - val_accuracy: 0.9787\n",
            "Epoch 99/100\n",
            "323/323 [==============================] - 1s 4ms/step - loss: 0.1436 - accuracy: 0.9690 - val_loss: 0.1258 - val_accuracy: 0.9574\n",
            "Epoch 100/100\n",
            "323/323 [==============================] - 1s 4ms/step - loss: 0.1411 - accuracy: 0.9659 - val_loss: 0.1303 - val_accuracy: 0.9362\n"
          ]
        },
        {
          "output_type": "execute_result",
          "data": {
            "text/plain": [
              "<keras.callbacks.History at 0x7f29ccfd85d0>"
            ]
          },
          "metadata": {},
          "execution_count": 52
        }
      ]
    },
    {
      "cell_type": "code",
      "source": [
        "evaluate(model=elman, x_datas=x_test, y_datas=y_test)"
      ],
      "metadata": {
        "colab": {
          "base_uri": "https://localhost:8080/"
        },
        "id": "PDDMzNawu2Y6",
        "outputId": "f0f6af14-9df5-4f61-d2f4-f5b9e4785495"
      },
      "execution_count": 53,
      "outputs": [
        {
          "output_type": "execute_result",
          "data": {
            "text/plain": [
              "0.956989247311828"
            ]
          },
          "metadata": {},
          "execution_count": 53
        }
      ]
    },
    {
      "cell_type": "code",
      "execution_count": 16,
      "metadata": {
        "id": "rhW2maF709q2"
      },
      "outputs": [],
      "source": [
        "# %tensorboard --logdir '/content/drive/MyDrive/logs'"
      ]
    },
    {
      "cell_type": "code",
      "source": [
        ""
      ],
      "metadata": {
        "id": "hZoDKkm3N9Td"
      },
      "execution_count": 20,
      "outputs": []
    },
    {
      "cell_type": "code",
      "source": [
        ""
      ],
      "metadata": {
        "id": "NhQR-9Q2OrTk"
      },
      "execution_count": 16,
      "outputs": []
    },
    {
      "cell_type": "markdown",
      "metadata": {
        "id": "g6Kzp3aD09q3"
      },
      "source": [
        "## Jordan"
      ]
    },
    {
      "cell_type": "code",
      "execution_count": 17,
      "metadata": {
        "id": "uSXBJQqp09q3"
      },
      "outputs": [],
      "source": [
        "class Jordan(tf.keras.Model):\n",
        "    def __init__(self, input_dim, hidden_units, feature_size, n_classes):\n",
        "        super().__init__()\n",
        "        self.hidden_units = hidden_units\n",
        "        self.feature_size = feature_size\n",
        "        self.input_dim = input_dim\n",
        "        self.n_classes = n_classes\n",
        "\n",
        "        # The names are based on the pseudo code in the book which linked above.\n",
        "\n",
        "        self.W = self.add_weight(shape=(self.hidden_units, self.feature_size), initializer='random_normal', trainable=True)\n",
        "        self.U = self.add_weight(shape=(self.hidden_units, self.hidden_units), initializer='random_normal', trainable=True)\n",
        "        self.b = self.add_weight(shape=(self.hidden_units,), initializer='random_normal', trainable=True)\n",
        "\n",
        "        self.W_y_intermediate = self.add_weight(shape=(self.hidden_units, self.hidden_units), initializer='random_normal', trainable=True)\n",
        "        self.b_y_intermediate = self.add_weight(shape=(self.hidden_units,), initializer='random_normal', trainable=True)\n",
        "\n",
        "        self.W_y = self.add_weight(shape=(self.n_classes, self.hidden_units), initializer='random_normal', trainable=True)\n",
        "        self.b_y = self.add_weight(shape=(self.n_classes,), initializer='random_normal', trainable=True)\n",
        "\n",
        "    def call(self, x):\n",
        "        state_t = tf.zeros(self.hidden_units)\n",
        "        for i in range(self.input_dim):\n",
        "            hidden = tf.keras.activations.sigmoid(tf.matmul(self.W, tf.cast(tf.reshape(x[0][i], (self.feature_size, 1)), tf.float32)) + tf.matmul(self.U, tf.reshape(state_t, (self.hidden_units,1))) + tf.reshape(self.b, (self.hidden_units, 1)))\n",
        "            state_t = tf.keras.activations.sigmoid(tf.matmul(self.W_y_intermediate, tf.reshape(hidden, (self.hidden_units,1))) + tf.reshape(self.b_y_intermediate, (self.hidden_units,1)))\n",
        "        y = tf.keras.activations.sigmoid(tf.matmul(self.W_y, tf.reshape(state_t, (self.hidden_units,1))) + tf.reshape(self.b_y, (self.n_classes,1)))\n",
        "\n",
        "        return y"
      ]
    },
    {
      "cell_type": "code",
      "execution_count": 18,
      "metadata": {
        "id": "ez-Pamhs09q3"
      },
      "outputs": [],
      "source": [
        "jordan = Jordan(input_dim=15, hidden_units=45, feature_size=6, n_classes=1)"
      ]
    },
    {
      "cell_type": "code",
      "source": [
        "jordan.compile(optimizer='adam', loss='binary_crossentropy', metrics=['accuracy'])"
      ],
      "metadata": {
        "id": "3UdAh2l3N-hd"
      },
      "execution_count": 70,
      "outputs": []
    },
    {
      "cell_type": "code",
      "source": [
        "jordan.fit( x_train, y_train, batch_size=1, epochs=100, validation_data=(x_val, y_val), callbacks=[tb_callback])"
      ],
      "metadata": {
        "colab": {
          "base_uri": "https://localhost:8080/"
        },
        "id": "qkUu5ELAN-e0",
        "outputId": "d14fc9d9-6a47-4f69-8e59-8468992566d2"
      },
      "execution_count": 71,
      "outputs": [
        {
          "output_type": "stream",
          "name": "stdout",
          "text": [
            "Epoch 1/100\n",
            "323/323 [==============================] - 3s 6ms/step - loss: 0.5671 - accuracy: 0.6997 - val_loss: 0.4680 - val_accuracy: 0.8085\n",
            "Epoch 2/100\n",
            "323/323 [==============================] - 1s 4ms/step - loss: 0.4585 - accuracy: 0.7307 - val_loss: 0.4415 - val_accuracy: 0.6170\n",
            "Epoch 3/100\n",
            "323/323 [==============================] - 1s 4ms/step - loss: 0.4077 - accuracy: 0.7399 - val_loss: 0.4052 - val_accuracy: 0.7872\n",
            "Epoch 4/100\n",
            "323/323 [==============================] - 1s 4ms/step - loss: 0.3748 - accuracy: 0.7709 - val_loss: 0.3962 - val_accuracy: 0.7660\n",
            "Epoch 5/100\n",
            "323/323 [==============================] - 1s 4ms/step - loss: 0.3482 - accuracy: 0.8019 - val_loss: 0.4052 - val_accuracy: 0.6809\n",
            "Epoch 6/100\n",
            "323/323 [==============================] - 1s 4ms/step - loss: 0.3215 - accuracy: 0.8204 - val_loss: 0.3784 - val_accuracy: 0.7660\n",
            "Epoch 7/100\n",
            "323/323 [==============================] - 1s 4ms/step - loss: 0.3112 - accuracy: 0.8266 - val_loss: 0.2906 - val_accuracy: 0.8511\n",
            "Epoch 8/100\n",
            "323/323 [==============================] - 1s 4ms/step - loss: 0.3073 - accuracy: 0.8452 - val_loss: 0.4329 - val_accuracy: 0.7021\n",
            "Epoch 9/100\n",
            "323/323 [==============================] - 1s 4ms/step - loss: 0.3508 - accuracy: 0.8514 - val_loss: 0.3974 - val_accuracy: 0.7447\n",
            "Epoch 10/100\n",
            "323/323 [==============================] - 1s 4ms/step - loss: 0.2962 - accuracy: 0.8297 - val_loss: 0.3218 - val_accuracy: 0.7872\n",
            "Epoch 11/100\n",
            "323/323 [==============================] - 1s 4ms/step - loss: 0.2785 - accuracy: 0.8483 - val_loss: 0.2735 - val_accuracy: 0.8298\n",
            "Epoch 12/100\n",
            "323/323 [==============================] - 1s 4ms/step - loss: 0.2638 - accuracy: 0.8607 - val_loss: 0.3710 - val_accuracy: 0.7447\n",
            "Epoch 13/100\n",
            "323/323 [==============================] - 1s 4ms/step - loss: 0.2711 - accuracy: 0.8607 - val_loss: 0.2656 - val_accuracy: 0.8723\n",
            "Epoch 14/100\n",
            "323/323 [==============================] - 1s 4ms/step - loss: 0.2521 - accuracy: 0.8700 - val_loss: 0.2375 - val_accuracy: 0.8511\n",
            "Epoch 15/100\n",
            "323/323 [==============================] - 1s 4ms/step - loss: 0.2498 - accuracy: 0.8793 - val_loss: 0.2302 - val_accuracy: 0.8936\n",
            "Epoch 16/100\n",
            "323/323 [==============================] - 1s 4ms/step - loss: 0.2255 - accuracy: 0.8978 - val_loss: 0.2252 - val_accuracy: 0.8936\n",
            "Epoch 17/100\n",
            "323/323 [==============================] - 1s 4ms/step - loss: 0.2171 - accuracy: 0.8947 - val_loss: 0.2321 - val_accuracy: 0.9149\n",
            "Epoch 18/100\n",
            "323/323 [==============================] - 1s 4ms/step - loss: 0.2904 - accuracy: 0.9009 - val_loss: 0.2271 - val_accuracy: 0.8723\n",
            "Epoch 19/100\n",
            "323/323 [==============================] - 1s 4ms/step - loss: 0.2328 - accuracy: 0.8824 - val_loss: 0.2220 - val_accuracy: 0.9149\n",
            "Epoch 20/100\n",
            "323/323 [==============================] - 1s 4ms/step - loss: 0.2354 - accuracy: 0.9071 - val_loss: 0.2362 - val_accuracy: 0.8723\n",
            "Epoch 21/100\n",
            "323/323 [==============================] - 1s 4ms/step - loss: 0.2690 - accuracy: 0.9009 - val_loss: 0.2320 - val_accuracy: 0.9149\n",
            "Epoch 22/100\n",
            "323/323 [==============================] - 1s 4ms/step - loss: 0.2413 - accuracy: 0.8824 - val_loss: 0.2224 - val_accuracy: 0.8936\n",
            "Epoch 23/100\n",
            "323/323 [==============================] - 1s 4ms/step - loss: 0.2045 - accuracy: 0.9009 - val_loss: 0.2190 - val_accuracy: 0.8936\n",
            "Epoch 24/100\n",
            "323/323 [==============================] - 1s 4ms/step - loss: 0.2446 - accuracy: 0.8947 - val_loss: 0.3272 - val_accuracy: 0.8723\n",
            "Epoch 25/100\n",
            "323/323 [==============================] - 1s 4ms/step - loss: 0.2068 - accuracy: 0.9071 - val_loss: 0.2440 - val_accuracy: 0.9149\n",
            "Epoch 26/100\n",
            "323/323 [==============================] - 1s 4ms/step - loss: 0.1809 - accuracy: 0.9288 - val_loss: 0.2215 - val_accuracy: 0.8936\n",
            "Epoch 27/100\n",
            "323/323 [==============================] - 1s 4ms/step - loss: 0.1817 - accuracy: 0.9102 - val_loss: 0.2360 - val_accuracy: 0.8936\n",
            "Epoch 28/100\n",
            "323/323 [==============================] - 1s 4ms/step - loss: 0.1756 - accuracy: 0.9102 - val_loss: 0.2250 - val_accuracy: 0.8936\n",
            "Epoch 29/100\n",
            "323/323 [==============================] - 1s 4ms/step - loss: 0.1679 - accuracy: 0.9164 - val_loss: 0.2197 - val_accuracy: 0.9149\n",
            "Epoch 30/100\n",
            "323/323 [==============================] - 1s 4ms/step - loss: 0.1581 - accuracy: 0.9381 - val_loss: 0.2240 - val_accuracy: 0.8936\n",
            "Epoch 31/100\n",
            "323/323 [==============================] - 1s 4ms/step - loss: 0.1611 - accuracy: 0.9133 - val_loss: 0.2005 - val_accuracy: 0.9362\n",
            "Epoch 32/100\n",
            "323/323 [==============================] - 1s 4ms/step - loss: 0.1615 - accuracy: 0.9164 - val_loss: 0.2085 - val_accuracy: 0.9149\n",
            "Epoch 33/100\n",
            "323/323 [==============================] - 1s 4ms/step - loss: 0.1537 - accuracy: 0.9133 - val_loss: 0.1874 - val_accuracy: 0.8936\n",
            "Epoch 34/100\n",
            "323/323 [==============================] - 1s 4ms/step - loss: 0.1509 - accuracy: 0.9257 - val_loss: 0.1849 - val_accuracy: 0.9149\n",
            "Epoch 35/100\n",
            "323/323 [==============================] - 1s 4ms/step - loss: 0.1380 - accuracy: 0.9319 - val_loss: 0.1709 - val_accuracy: 0.9574\n",
            "Epoch 36/100\n",
            "323/323 [==============================] - 1s 4ms/step - loss: 0.1402 - accuracy: 0.9226 - val_loss: 0.1865 - val_accuracy: 0.9149\n",
            "Epoch 37/100\n",
            "323/323 [==============================] - 1s 4ms/step - loss: 0.1312 - accuracy: 0.9319 - val_loss: 0.1816 - val_accuracy: 0.9362\n",
            "Epoch 38/100\n",
            "323/323 [==============================] - 1s 4ms/step - loss: 0.1287 - accuracy: 0.9350 - val_loss: 0.2046 - val_accuracy: 0.9149\n",
            "Epoch 39/100\n",
            "323/323 [==============================] - 1s 4ms/step - loss: 0.1159 - accuracy: 0.9536 - val_loss: 0.2047 - val_accuracy: 0.8936\n",
            "Epoch 40/100\n",
            "323/323 [==============================] - 1s 4ms/step - loss: 0.1299 - accuracy: 0.9350 - val_loss: 0.2016 - val_accuracy: 0.9362\n",
            "Epoch 41/100\n",
            "323/323 [==============================] - 1s 4ms/step - loss: 0.1234 - accuracy: 0.9412 - val_loss: 0.1702 - val_accuracy: 0.9362\n",
            "Epoch 42/100\n",
            "323/323 [==============================] - 1s 4ms/step - loss: 0.1143 - accuracy: 0.9474 - val_loss: 0.1777 - val_accuracy: 0.9362\n",
            "Epoch 43/100\n",
            "323/323 [==============================] - 1s 4ms/step - loss: 0.1179 - accuracy: 0.9412 - val_loss: 0.1432 - val_accuracy: 0.9574\n",
            "Epoch 44/100\n",
            "323/323 [==============================] - 1s 4ms/step - loss: 0.1070 - accuracy: 0.9412 - val_loss: 0.1840 - val_accuracy: 0.9362\n",
            "Epoch 45/100\n",
            "323/323 [==============================] - 1s 4ms/step - loss: 0.1119 - accuracy: 0.9319 - val_loss: 0.1446 - val_accuracy: 0.9362\n",
            "Epoch 46/100\n",
            "323/323 [==============================] - 1s 4ms/step - loss: 0.1021 - accuracy: 0.9567 - val_loss: 0.1959 - val_accuracy: 0.9149\n",
            "Epoch 47/100\n",
            "323/323 [==============================] - 1s 4ms/step - loss: 0.1329 - accuracy: 0.9412 - val_loss: 0.2111 - val_accuracy: 0.8936\n",
            "Epoch 48/100\n",
            "323/323 [==============================] - 1s 4ms/step - loss: 0.1430 - accuracy: 0.9288 - val_loss: 0.3001 - val_accuracy: 0.8723\n",
            "Epoch 49/100\n",
            "323/323 [==============================] - 1s 4ms/step - loss: 0.1308 - accuracy: 0.9412 - val_loss: 0.1738 - val_accuracy: 0.9149\n",
            "Epoch 50/100\n",
            "323/323 [==============================] - 1s 5ms/step - loss: 0.1075 - accuracy: 0.9567 - val_loss: 0.1259 - val_accuracy: 0.9574\n",
            "Epoch 51/100\n",
            "323/323 [==============================] - 1s 4ms/step - loss: 0.1002 - accuracy: 0.9443 - val_loss: 0.1185 - val_accuracy: 0.9574\n",
            "Epoch 52/100\n",
            "323/323 [==============================] - 1s 4ms/step - loss: 0.1214 - accuracy: 0.9505 - val_loss: 0.1399 - val_accuracy: 0.9362\n",
            "Epoch 53/100\n",
            "323/323 [==============================] - 1s 4ms/step - loss: 0.0914 - accuracy: 0.9536 - val_loss: 0.1302 - val_accuracy: 0.9362\n",
            "Epoch 54/100\n",
            "323/323 [==============================] - 1s 4ms/step - loss: 0.0989 - accuracy: 0.9474 - val_loss: 0.1178 - val_accuracy: 0.9574\n",
            "Epoch 55/100\n",
            "323/323 [==============================] - 2s 6ms/step - loss: 0.0918 - accuracy: 0.9598 - val_loss: 0.1427 - val_accuracy: 0.9362\n",
            "Epoch 56/100\n",
            "323/323 [==============================] - 1s 4ms/step - loss: 0.0831 - accuracy: 0.9628 - val_loss: 0.1141 - val_accuracy: 0.9787\n",
            "Epoch 57/100\n",
            "323/323 [==============================] - 1s 4ms/step - loss: 0.0859 - accuracy: 0.9628 - val_loss: 0.1392 - val_accuracy: 0.9362\n",
            "Epoch 58/100\n",
            "323/323 [==============================] - 1s 4ms/step - loss: 0.1108 - accuracy: 0.9598 - val_loss: 0.1948 - val_accuracy: 0.8936\n",
            "Epoch 59/100\n",
            "323/323 [==============================] - 1s 4ms/step - loss: 0.0856 - accuracy: 0.9690 - val_loss: 0.1490 - val_accuracy: 0.9362\n",
            "Epoch 60/100\n",
            "323/323 [==============================] - 1s 4ms/step - loss: 0.0772 - accuracy: 0.9567 - val_loss: 0.1459 - val_accuracy: 0.9574\n",
            "Epoch 61/100\n",
            "323/323 [==============================] - 1s 4ms/step - loss: 0.0742 - accuracy: 0.9690 - val_loss: 0.1683 - val_accuracy: 0.9362\n",
            "Epoch 62/100\n",
            "323/323 [==============================] - 1s 4ms/step - loss: 0.1474 - accuracy: 0.9567 - val_loss: 1.2418 - val_accuracy: 0.6596\n",
            "Epoch 63/100\n",
            "323/323 [==============================] - 1s 4ms/step - loss: 0.2839 - accuracy: 0.8916 - val_loss: 0.2338 - val_accuracy: 0.9362\n",
            "Epoch 64/100\n",
            "323/323 [==============================] - 1s 4ms/step - loss: 0.1608 - accuracy: 0.9381 - val_loss: 0.2216 - val_accuracy: 0.9574\n",
            "Epoch 65/100\n",
            "323/323 [==============================] - 1s 4ms/step - loss: 0.1473 - accuracy: 0.9381 - val_loss: 0.2399 - val_accuracy: 0.9149\n",
            "Epoch 66/100\n",
            "323/323 [==============================] - 1s 4ms/step - loss: 0.1395 - accuracy: 0.9474 - val_loss: 0.2199 - val_accuracy: 0.9574\n",
            "Epoch 67/100\n",
            "323/323 [==============================] - 1s 4ms/step - loss: 0.1345 - accuracy: 0.9443 - val_loss: 0.1023 - val_accuracy: 0.9574\n",
            "Epoch 68/100\n",
            "323/323 [==============================] - 1s 4ms/step - loss: 0.1076 - accuracy: 0.9474 - val_loss: 0.1047 - val_accuracy: 0.9787\n",
            "Epoch 69/100\n",
            "323/323 [==============================] - 1s 4ms/step - loss: 0.0960 - accuracy: 0.9659 - val_loss: 0.1202 - val_accuracy: 0.9787\n",
            "Epoch 70/100\n",
            "323/323 [==============================] - 1s 4ms/step - loss: 0.0910 - accuracy: 0.9628 - val_loss: 0.1275 - val_accuracy: 0.9574\n",
            "Epoch 71/100\n",
            "323/323 [==============================] - 1s 4ms/step - loss: 0.0841 - accuracy: 0.9628 - val_loss: 0.1212 - val_accuracy: 0.9574\n",
            "Epoch 72/100\n",
            "323/323 [==============================] - 1s 4ms/step - loss: 0.0803 - accuracy: 0.9721 - val_loss: 0.1127 - val_accuracy: 0.9574\n",
            "Epoch 73/100\n",
            "323/323 [==============================] - 2s 5ms/step - loss: 0.0809 - accuracy: 0.9690 - val_loss: 0.1063 - val_accuracy: 0.9787\n",
            "Epoch 74/100\n",
            "323/323 [==============================] - 2s 5ms/step - loss: 0.0772 - accuracy: 0.9690 - val_loss: 0.1169 - val_accuracy: 0.9574\n",
            "Epoch 75/100\n",
            "323/323 [==============================] - 1s 4ms/step - loss: 0.0709 - accuracy: 0.9690 - val_loss: 0.1913 - val_accuracy: 0.9362\n",
            "Epoch 76/100\n",
            "323/323 [==============================] - 1s 4ms/step - loss: 0.0770 - accuracy: 0.9628 - val_loss: 0.1174 - val_accuracy: 0.9574\n",
            "Epoch 77/100\n",
            "323/323 [==============================] - 1s 4ms/step - loss: 0.0715 - accuracy: 0.9690 - val_loss: 0.0708 - val_accuracy: 0.9574\n",
            "Epoch 78/100\n",
            "323/323 [==============================] - 1s 4ms/step - loss: 0.0684 - accuracy: 0.9659 - val_loss: 0.0928 - val_accuracy: 0.9574\n",
            "Epoch 79/100\n",
            "323/323 [==============================] - 1s 4ms/step - loss: 0.0678 - accuracy: 0.9721 - val_loss: 0.0859 - val_accuracy: 0.9574\n",
            "Epoch 80/100\n",
            "323/323 [==============================] - 1s 4ms/step - loss: 0.0607 - accuracy: 0.9690 - val_loss: 0.1684 - val_accuracy: 0.9574\n",
            "Epoch 81/100\n",
            "323/323 [==============================] - 1s 4ms/step - loss: 0.0717 - accuracy: 0.9659 - val_loss: 0.1475 - val_accuracy: 0.9574\n",
            "Epoch 82/100\n",
            "323/323 [==============================] - 1s 4ms/step - loss: 0.0636 - accuracy: 0.9690 - val_loss: 0.0744 - val_accuracy: 1.0000\n",
            "Epoch 83/100\n",
            "323/323 [==============================] - 1s 4ms/step - loss: 0.0590 - accuracy: 0.9721 - val_loss: 0.0912 - val_accuracy: 0.9574\n",
            "Epoch 84/100\n",
            "323/323 [==============================] - 1s 4ms/step - loss: 0.0559 - accuracy: 0.9752 - val_loss: 0.0940 - val_accuracy: 0.9574\n",
            "Epoch 85/100\n",
            "323/323 [==============================] - 1s 4ms/step - loss: 0.0522 - accuracy: 0.9783 - val_loss: 0.0595 - val_accuracy: 0.9787\n",
            "Epoch 86/100\n",
            "323/323 [==============================] - 1s 4ms/step - loss: 0.0609 - accuracy: 0.9752 - val_loss: 0.1025 - val_accuracy: 0.9574\n",
            "Epoch 87/100\n",
            "323/323 [==============================] - 1s 4ms/step - loss: 0.0627 - accuracy: 0.9721 - val_loss: 0.1671 - val_accuracy: 0.9362\n",
            "Epoch 88/100\n",
            "323/323 [==============================] - 1s 4ms/step - loss: 0.0451 - accuracy: 0.9845 - val_loss: 0.0655 - val_accuracy: 0.9787\n",
            "Epoch 89/100\n",
            "323/323 [==============================] - 1s 5ms/step - loss: 0.0473 - accuracy: 0.9752 - val_loss: 0.0895 - val_accuracy: 0.9574\n",
            "Epoch 90/100\n",
            "323/323 [==============================] - 1s 4ms/step - loss: 0.0464 - accuracy: 0.9845 - val_loss: 0.0567 - val_accuracy: 0.9787\n",
            "Epoch 91/100\n",
            "323/323 [==============================] - 1s 5ms/step - loss: 0.0410 - accuracy: 0.9845 - val_loss: 0.0609 - val_accuracy: 0.9574\n",
            "Epoch 92/100\n",
            "323/323 [==============================] - 1s 4ms/step - loss: 0.0480 - accuracy: 0.9876 - val_loss: 0.7997 - val_accuracy: 0.8085\n",
            "Epoch 93/100\n",
            "323/323 [==============================] - 1s 4ms/step - loss: 0.1210 - accuracy: 0.9474 - val_loss: 0.2689 - val_accuracy: 0.9362\n",
            "Epoch 94/100\n",
            "323/323 [==============================] - 1s 4ms/step - loss: 0.0751 - accuracy: 0.9752 - val_loss: 0.0864 - val_accuracy: 0.9362\n",
            "Epoch 95/100\n",
            "323/323 [==============================] - 1s 4ms/step - loss: 0.0436 - accuracy: 0.9814 - val_loss: 0.0502 - val_accuracy: 0.9787\n",
            "Epoch 96/100\n",
            "323/323 [==============================] - 1s 4ms/step - loss: 0.0272 - accuracy: 0.9907 - val_loss: 0.0637 - val_accuracy: 0.9787\n",
            "Epoch 97/100\n",
            "323/323 [==============================] - 1s 4ms/step - loss: 0.0280 - accuracy: 0.9876 - val_loss: 0.0673 - val_accuracy: 0.9574\n",
            "Epoch 98/100\n",
            "323/323 [==============================] - 1s 4ms/step - loss: 0.0391 - accuracy: 0.9845 - val_loss: 0.1046 - val_accuracy: 0.9574\n",
            "Epoch 99/100\n",
            "323/323 [==============================] - 1s 5ms/step - loss: 0.0388 - accuracy: 0.9845 - val_loss: 0.0771 - val_accuracy: 0.9574\n",
            "Epoch 100/100\n",
            "323/323 [==============================] - 1s 4ms/step - loss: 0.0519 - accuracy: 0.9783 - val_loss: 0.1329 - val_accuracy: 0.9362\n"
          ]
        },
        {
          "output_type": "execute_result",
          "data": {
            "text/plain": [
              "<keras.callbacks.History at 0x7f29c8e540d0>"
            ]
          },
          "metadata": {},
          "execution_count": 71
        }
      ]
    },
    {
      "cell_type": "code",
      "source": [
        "evaluate(model=jordan, x_datas=x_test, y_datas=y_test)"
      ],
      "metadata": {
        "colab": {
          "base_uri": "https://localhost:8080/"
        },
        "id": "EgehW_u7RWna",
        "outputId": "f13c4b13-86ad-477a-f0e8-da5e3246b8c4"
      },
      "execution_count": 72,
      "outputs": [
        {
          "output_type": "execute_result",
          "data": {
            "text/plain": [
              "0.9032258064516129"
            ]
          },
          "metadata": {},
          "execution_count": 72
        }
      ]
    },
    {
      "cell_type": "code",
      "source": [
        "# %tensorboard --logdir '/content/drive/MyDrive/logs'"
      ],
      "metadata": {
        "id": "mkI8O7XwPl_z"
      },
      "execution_count": 19,
      "outputs": []
    },
    {
      "cell_type": "code",
      "source": [
        ""
      ],
      "metadata": {
        "id": "a9M-o45fRWLM"
      },
      "execution_count": 29,
      "outputs": []
    },
    {
      "cell_type": "code",
      "source": [
        ""
      ],
      "metadata": {
        "id": "1hX8-uMcRXMu"
      },
      "execution_count": 18,
      "outputs": []
    },
    {
      "cell_type": "markdown",
      "metadata": {
        "id": "7VQle9GA09q4"
      },
      "source": [
        "## Ensemble"
      ]
    },
    {
      "cell_type": "code",
      "source": [
        "def stacked_ensemble(models):\n",
        "  for i, model in enumerate(models):\n",
        "  \tfor layer in model.layers:\n",
        "  \t\t# layer.trainable = False\n",
        "  \t\tlayer._name = 'ensemble_' + str(i + 1) + '_' + layer.name\n",
        "\n",
        "  ensemble_visible = [model.input for model in models]\n",
        "  ensemble_outputs = [model.output for model in models]\n",
        "  merge = concatenate(ensemble_outputs)\n",
        "  output = Dense(1, activation='sigmoid')(merge)\n",
        "  output = Flatten()(output)\n",
        "  \n",
        "  model = Model(inputs=ensemble_visible, outputs=output)\n",
        "  model.compile(loss='binary_crossentropy', optimizer='adam', metrics=['accuracy'])\n",
        "\n",
        "  return model"
      ],
      "metadata": {
        "id": "uxcpQEAqVJrE"
      },
      "execution_count": 20,
      "outputs": []
    },
    {
      "cell_type": "code",
      "source": [
        "def evaluate_ensemble(model, x_datas, y_datas):\n",
        "  predictions = []\n",
        "  for data in x_datas:\n",
        "    test = [tf.convert_to_tensor(np.array([data])) for _ in range(len(model.input))]\n",
        "    res = model.predict(test)[0][0]\n",
        "    res = 1 if np.array(res) > 0.5 else 0\n",
        "    predictions.append(res)\n",
        "\n",
        "  return accuracy_score(y_datas, predictions)"
      ],
      "metadata": {
        "id": "iP7j3XCJT7gP"
      },
      "execution_count": 21,
      "outputs": []
    },
    {
      "cell_type": "markdown",
      "source": [
        "Elman Ensemble"
      ],
      "metadata": {
        "id": "GxL3yKxPG2tX"
      }
    },
    {
      "cell_type": "code",
      "source": [
        "elman_models = []\n",
        "neurons = [15, 25, 35, 45, 55]\n",
        "for neuron in neurons:\n",
        "  elman1 = Elman(input_dim=15, hidden_units=neuron, feature_size=6, n_classes=1)\n",
        "  elman1.compile(optimizer='adam', loss='binary_crossentropy', metrics=['accuracy'])\n",
        "  input = tf.keras.Input(shape=(15, 6, ))\n",
        "  model = Model(input, elman1(input))\n",
        "  elman_models.append(model)"
      ],
      "metadata": {
        "id": "absat8pz1VWF"
      },
      "execution_count": 76,
      "outputs": []
    },
    {
      "cell_type": "code",
      "source": [
        "ensemble_elman = stacked_ensemble(elman_models)"
      ],
      "metadata": {
        "id": "yx323q8ZVJn9"
      },
      "execution_count": 77,
      "outputs": []
    },
    {
      "cell_type": "code",
      "source": [
        "ensemble_elman.compile(optimizer='adam', loss='binary_crossentropy', metrics=['accuracy'])\n",
        "ensemble_elman.summary()"
      ],
      "metadata": {
        "colab": {
          "base_uri": "https://localhost:8080/"
        },
        "id": "h_Dl_0qbVJlX",
        "outputId": "2a9ae295-4c1a-4b58-ba9f-c43c45da8707"
      },
      "execution_count": 87,
      "outputs": [
        {
          "output_type": "stream",
          "name": "stdout",
          "text": [
            "Model: \"model_17\"\n",
            "__________________________________________________________________________________________________\n",
            " Layer (type)                   Output Shape         Param #     Connected to                     \n",
            "==================================================================================================\n",
            " ensemble_1_input_11 (InputLaye  [(None, 15, 6)]     0           []                               \n",
            " r)                                                                                               \n",
            "                                                                                                  \n",
            " ensemble_2_input_12 (InputLaye  [(None, 15, 6)]     0           []                               \n",
            " r)                                                                                               \n",
            "                                                                                                  \n",
            " ensemble_3_input_13 (InputLaye  [(None, 15, 6)]     0           []                               \n",
            " r)                                                                                               \n",
            "                                                                                                  \n",
            " ensemble_4_input_14 (InputLaye  [(None, 15, 6)]     0           []                               \n",
            " r)                                                                                               \n",
            "                                                                                                  \n",
            " ensemble_5_input_15 (InputLaye  [(None, 15, 6)]     0           []                               \n",
            " r)                                                                                               \n",
            "                                                                                                  \n",
            " ensemble_1_elman_13 (Elman)    (1, 1)               346         ['ensemble_1_input_11[0][0]']    \n",
            "                                                                                                  \n",
            " ensemble_2_elman_14 (Elman)    (1, 1)               826         ['ensemble_2_input_12[0][0]']    \n",
            "                                                                                                  \n",
            " ensemble_3_elman_15 (Elman)    (1, 1)               1506        ['ensemble_3_input_13[0][0]']    \n",
            "                                                                                                  \n",
            " ensemble_4_elman_16 (Elman)    (1, 1)               2386        ['ensemble_4_input_14[0][0]']    \n",
            "                                                                                                  \n",
            " ensemble_5_elman_17 (Elman)    (1, 1)               3466        ['ensemble_5_input_15[0][0]']    \n",
            "                                                                                                  \n",
            " concatenate_2 (Concatenate)    (1, 5)               0           ['ensemble_1_elman_13[0][0]',    \n",
            "                                                                  'ensemble_2_elman_14[0][0]',    \n",
            "                                                                  'ensemble_3_elman_15[0][0]',    \n",
            "                                                                  'ensemble_4_elman_16[0][0]',    \n",
            "                                                                  'ensemble_5_elman_17[0][0]']    \n",
            "                                                                                                  \n",
            " dense_2 (Dense)                (1, 1)               6           ['concatenate_2[0][0]']          \n",
            "                                                                                                  \n",
            " flatten_2 (Flatten)            (1, 1)               0           ['dense_2[0][0]']                \n",
            "                                                                                                  \n",
            "==================================================================================================\n",
            "Total params: 8,536\n",
            "Trainable params: 8,536\n",
            "Non-trainable params: 0\n",
            "__________________________________________________________________________________________________\n"
          ]
        }
      ]
    },
    {
      "cell_type": "code",
      "source": [
        "plot_model(ensemble_elman, show_shapes=True, show_layer_names=True, expand_nested=True)"
      ],
      "metadata": {
        "colab": {
          "base_uri": "https://localhost:8080/",
          "height": 304
        },
        "id": "KcQVKkzA1i_I",
        "outputId": "725ed393-f8b4-4c96-b72a-c8f125a726a0"
      },
      "execution_count": 79,
      "outputs": [
        {
          "output_type": "execute_result",
          "data": {
            "text/plain": [
              "<IPython.core.display.Image object>"
            ],
            "image/png": "[encoded data removed]"
          },
          "metadata": {},
          "execution_count": 79
        }
      ]
    },
    {
      "cell_type": "code",
      "source": [
        "X = [x_train for _ in range(len(ensemble_elman.input))]\n",
        "val = [x_val for _ in range(len(ensemble_elman.input))]\n",
        "ensemble_elman.fit(X, y_train, batch_size=1, epochs=100, validation_data=(val, y_val), callbacks=[tb_callback])"
      ],
      "metadata": {
        "colab": {
          "base_uri": "https://localhost:8080/"
        },
        "id": "N2qz7tlKVJih",
        "outputId": "eb179f48-2179-42d2-c8b9-cb30daf661c7"
      },
      "execution_count": 80,
      "outputs": [
        {
          "output_type": "stream",
          "name": "stdout",
          "text": [
            "WARNING:tensorflow:Model failed to serialize as JSON. Ignoring... \n",
            "Epoch 1/100\n",
            "323/323 [==============================] - 12s 16ms/step - loss: 0.5984 - accuracy: 0.6563 - val_loss: 0.5188 - val_accuracy: 0.8085\n",
            "Epoch 2/100\n",
            "323/323 [==============================] - 4s 11ms/step - loss: 0.5167 - accuracy: 0.6966 - val_loss: 0.4870 - val_accuracy: 0.8085\n",
            "Epoch 3/100\n",
            "323/323 [==============================] - 4s 11ms/step - loss: 0.4827 - accuracy: 0.7399 - val_loss: 0.4710 - val_accuracy: 0.6809\n",
            "Epoch 4/100\n",
            "323/323 [==============================] - 4s 12ms/step - loss: 0.4500 - accuracy: 0.7554 - val_loss: 0.4679 - val_accuracy: 0.6809\n",
            "Epoch 5/100\n",
            "323/323 [==============================] - 4s 11ms/step - loss: 0.4226 - accuracy: 0.7647 - val_loss: 0.4104 - val_accuracy: 0.8085\n",
            "Epoch 6/100\n",
            "323/323 [==============================] - 4s 11ms/step - loss: 0.3978 - accuracy: 0.7802 - val_loss: 0.3929 - val_accuracy: 0.8085\n",
            "Epoch 7/100\n",
            "323/323 [==============================] - 4s 11ms/step - loss: 0.3791 - accuracy: 0.7988 - val_loss: 0.3878 - val_accuracy: 0.7872\n",
            "Epoch 8/100\n",
            "323/323 [==============================] - 4s 11ms/step - loss: 0.3594 - accuracy: 0.8390 - val_loss: 0.3994 - val_accuracy: 0.7234\n",
            "Epoch 9/100\n",
            "323/323 [==============================] - 4s 11ms/step - loss: 0.3443 - accuracy: 0.8173 - val_loss: 0.3313 - val_accuracy: 0.8511\n",
            "Epoch 10/100\n",
            "323/323 [==============================] - 4s 11ms/step - loss: 0.3319 - accuracy: 0.8266 - val_loss: 0.3364 - val_accuracy: 0.8298\n",
            "Epoch 11/100\n",
            "323/323 [==============================] - 4s 11ms/step - loss: 0.3234 - accuracy: 0.8297 - val_loss: 0.3443 - val_accuracy: 0.7872\n",
            "Epoch 12/100\n",
            "323/323 [==============================] - 4s 11ms/step - loss: 0.3057 - accuracy: 0.8545 - val_loss: 0.3810 - val_accuracy: 0.7447\n",
            "Epoch 13/100\n",
            "323/323 [==============================] - 4s 12ms/step - loss: 0.3191 - accuracy: 0.8297 - val_loss: 0.3662 - val_accuracy: 0.7447\n",
            "Epoch 14/100\n",
            "323/323 [==============================] - 4s 11ms/step - loss: 0.2874 - accuracy: 0.8452 - val_loss: 0.3089 - val_accuracy: 0.8298\n",
            "Epoch 15/100\n",
            "323/323 [==============================] - 4s 11ms/step - loss: 0.2726 - accuracy: 0.8731 - val_loss: 0.2934 - val_accuracy: 0.8511\n",
            "Epoch 16/100\n",
            "323/323 [==============================] - 4s 12ms/step - loss: 0.2643 - accuracy: 0.8669 - val_loss: 0.2898 - val_accuracy: 0.8723\n",
            "Epoch 17/100\n",
            "323/323 [==============================] - 4s 12ms/step - loss: 0.2541 - accuracy: 0.8854 - val_loss: 0.3113 - val_accuracy: 0.7872\n",
            "Epoch 18/100\n",
            "323/323 [==============================] - 4s 11ms/step - loss: 0.2475 - accuracy: 0.8731 - val_loss: 0.2867 - val_accuracy: 0.8298\n",
            "Epoch 19/100\n",
            "323/323 [==============================] - 4s 11ms/step - loss: 0.2382 - accuracy: 0.8885 - val_loss: 0.2502 - val_accuracy: 0.8723\n",
            "Epoch 20/100\n",
            "323/323 [==============================] - 4s 11ms/step - loss: 0.2243 - accuracy: 0.8978 - val_loss: 0.2427 - val_accuracy: 0.8511\n",
            "Epoch 21/100\n",
            "323/323 [==============================] - 4s 11ms/step - loss: 0.2241 - accuracy: 0.8978 - val_loss: 0.2372 - val_accuracy: 0.8723\n",
            "Epoch 22/100\n",
            "323/323 [==============================] - 4s 11ms/step - loss: 0.2115 - accuracy: 0.9040 - val_loss: 0.2476 - val_accuracy: 0.8723\n",
            "Epoch 23/100\n",
            "323/323 [==============================] - 4s 11ms/step - loss: 0.1938 - accuracy: 0.9195 - val_loss: 0.2589 - val_accuracy: 0.8085\n",
            "Epoch 24/100\n",
            "323/323 [==============================] - 4s 11ms/step - loss: 0.1882 - accuracy: 0.9288 - val_loss: 0.2538 - val_accuracy: 0.8511\n",
            "Epoch 25/100\n",
            "323/323 [==============================] - 4s 11ms/step - loss: 0.1771 - accuracy: 0.9381 - val_loss: 0.1826 - val_accuracy: 0.9362\n",
            "Epoch 26/100\n",
            "323/323 [==============================] - 4s 11ms/step - loss: 0.1749 - accuracy: 0.9319 - val_loss: 0.1831 - val_accuracy: 0.9362\n",
            "Epoch 27/100\n",
            "323/323 [==============================] - 4s 11ms/step - loss: 0.1633 - accuracy: 0.9474 - val_loss: 0.1771 - val_accuracy: 0.9362\n",
            "Epoch 28/100\n",
            "323/323 [==============================] - 4s 12ms/step - loss: 0.1683 - accuracy: 0.9381 - val_loss: 0.2001 - val_accuracy: 0.8936\n",
            "Epoch 29/100\n",
            "323/323 [==============================] - 4s 11ms/step - loss: 0.1542 - accuracy: 0.9443 - val_loss: 0.1832 - val_accuracy: 0.9574\n",
            "Epoch 30/100\n",
            "323/323 [==============================] - 4s 12ms/step - loss: 0.1401 - accuracy: 0.9598 - val_loss: 0.1738 - val_accuracy: 0.9362\n",
            "Epoch 31/100\n",
            "323/323 [==============================] - 4s 12ms/step - loss: 0.1273 - accuracy: 0.9628 - val_loss: 0.1783 - val_accuracy: 0.9574\n",
            "Epoch 32/100\n",
            "323/323 [==============================] - 4s 12ms/step - loss: 0.1274 - accuracy: 0.9598 - val_loss: 0.1990 - val_accuracy: 0.8936\n",
            "Epoch 33/100\n",
            "323/323 [==============================] - 4s 11ms/step - loss: 0.1222 - accuracy: 0.9628 - val_loss: 0.1495 - val_accuracy: 0.9574\n",
            "Epoch 34/100\n",
            "323/323 [==============================] - 4s 11ms/step - loss: 0.1117 - accuracy: 0.9659 - val_loss: 0.1519 - val_accuracy: 0.9574\n",
            "Epoch 35/100\n",
            "323/323 [==============================] - 4s 11ms/step - loss: 0.1059 - accuracy: 0.9659 - val_loss: 0.1448 - val_accuracy: 0.9362\n",
            "Epoch 36/100\n",
            "323/323 [==============================] - 4s 11ms/step - loss: 0.1062 - accuracy: 0.9659 - val_loss: 0.1441 - val_accuracy: 0.9362\n",
            "Epoch 37/100\n",
            "323/323 [==============================] - 4s 12ms/step - loss: 0.0948 - accuracy: 0.9690 - val_loss: 0.1196 - val_accuracy: 0.9787\n",
            "Epoch 38/100\n",
            "323/323 [==============================] - 4s 11ms/step - loss: 0.0876 - accuracy: 0.9814 - val_loss: 0.1162 - val_accuracy: 0.9787\n",
            "Epoch 39/100\n",
            "323/323 [==============================] - 4s 11ms/step - loss: 0.1019 - accuracy: 0.9690 - val_loss: 0.1311 - val_accuracy: 0.9362\n",
            "Epoch 40/100\n",
            "323/323 [==============================] - 4s 12ms/step - loss: 0.1092 - accuracy: 0.9721 - val_loss: 0.1104 - val_accuracy: 0.9787\n",
            "Epoch 41/100\n",
            "323/323 [==============================] - 4s 12ms/step - loss: 0.0995 - accuracy: 0.9659 - val_loss: 0.1097 - val_accuracy: 0.9787\n",
            "Epoch 42/100\n",
            "323/323 [==============================] - 4s 13ms/step - loss: 0.1060 - accuracy: 0.9690 - val_loss: 0.1214 - val_accuracy: 0.9574\n",
            "Epoch 43/100\n",
            "323/323 [==============================] - 4s 12ms/step - loss: 0.0885 - accuracy: 0.9783 - val_loss: 0.1049 - val_accuracy: 0.9787\n",
            "Epoch 44/100\n",
            "323/323 [==============================] - 4s 12ms/step - loss: 0.0788 - accuracy: 0.9814 - val_loss: 0.1057 - val_accuracy: 0.9574\n",
            "Epoch 45/100\n",
            "323/323 [==============================] - 4s 12ms/step - loss: 0.0710 - accuracy: 0.9876 - val_loss: 0.1009 - val_accuracy: 0.9787\n",
            "Epoch 46/100\n",
            "323/323 [==============================] - 4s 12ms/step - loss: 0.0647 - accuracy: 0.9876 - val_loss: 0.0889 - val_accuracy: 0.9787\n",
            "Epoch 47/100\n",
            "323/323 [==============================] - 4s 12ms/step - loss: 0.0717 - accuracy: 0.9783 - val_loss: 0.0659 - val_accuracy: 0.9787\n",
            "Epoch 48/100\n",
            "323/323 [==============================] - 4s 12ms/step - loss: 0.1081 - accuracy: 0.9505 - val_loss: 0.1241 - val_accuracy: 0.9574\n",
            "Epoch 49/100\n",
            "323/323 [==============================] - 4s 12ms/step - loss: 0.0955 - accuracy: 0.9598 - val_loss: 0.1074 - val_accuracy: 0.9574\n",
            "Epoch 50/100\n",
            "323/323 [==============================] - 4s 12ms/step - loss: 0.0802 - accuracy: 0.9598 - val_loss: 0.1140 - val_accuracy: 0.9362\n",
            "Epoch 51/100\n",
            "323/323 [==============================] - 4s 12ms/step - loss: 0.0773 - accuracy: 0.9659 - val_loss: 0.1018 - val_accuracy: 0.9787\n",
            "Epoch 52/100\n",
            "323/323 [==============================] - 4s 12ms/step - loss: 0.0724 - accuracy: 0.9690 - val_loss: 0.0870 - val_accuracy: 0.9787\n",
            "Epoch 53/100\n",
            "323/323 [==============================] - 4s 12ms/step - loss: 0.0618 - accuracy: 0.9845 - val_loss: 0.0936 - val_accuracy: 0.9787\n",
            "Epoch 54/100\n",
            "323/323 [==============================] - 4s 12ms/step - loss: 0.0629 - accuracy: 0.9845 - val_loss: 0.0890 - val_accuracy: 0.9574\n",
            "Epoch 55/100\n",
            "323/323 [==============================] - 4s 12ms/step - loss: 0.0639 - accuracy: 0.9845 - val_loss: 0.0780 - val_accuracy: 0.9787\n",
            "Epoch 56/100\n",
            "323/323 [==============================] - 4s 11ms/step - loss: 0.0598 - accuracy: 0.9814 - val_loss: 0.0732 - val_accuracy: 0.9787\n",
            "Epoch 57/100\n",
            "323/323 [==============================] - 4s 13ms/step - loss: 0.0585 - accuracy: 0.9845 - val_loss: 0.0645 - val_accuracy: 0.9787\n",
            "Epoch 58/100\n",
            "323/323 [==============================] - 4s 13ms/step - loss: 0.0634 - accuracy: 0.9752 - val_loss: 0.1122 - val_accuracy: 0.9574\n",
            "Epoch 59/100\n",
            "323/323 [==============================] - 4s 12ms/step - loss: 0.0723 - accuracy: 0.9783 - val_loss: 0.1411 - val_accuracy: 0.9574\n",
            "Epoch 60/100\n",
            "323/323 [==============================] - 4s 12ms/step - loss: 0.0690 - accuracy: 0.9783 - val_loss: 0.1405 - val_accuracy: 0.9362\n",
            "Epoch 61/100\n",
            "323/323 [==============================] - 4s 12ms/step - loss: 0.0695 - accuracy: 0.9752 - val_loss: 0.1222 - val_accuracy: 0.9574\n",
            "Epoch 62/100\n",
            "323/323 [==============================] - 4s 12ms/step - loss: 0.0629 - accuracy: 0.9814 - val_loss: 0.0980 - val_accuracy: 0.9574\n",
            "Epoch 63/100\n",
            "323/323 [==============================] - 4s 12ms/step - loss: 0.0481 - accuracy: 0.9907 - val_loss: 0.1031 - val_accuracy: 0.9574\n",
            "Epoch 64/100\n",
            "323/323 [==============================] - 4s 12ms/step - loss: 0.0437 - accuracy: 0.9876 - val_loss: 0.1233 - val_accuracy: 0.9574\n",
            "Epoch 65/100\n",
            "323/323 [==============================] - 4s 12ms/step - loss: 0.0420 - accuracy: 0.9907 - val_loss: 0.0759 - val_accuracy: 0.9574\n",
            "Epoch 66/100\n",
            "323/323 [==============================] - 4s 12ms/step - loss: 0.0376 - accuracy: 0.9907 - val_loss: 0.0724 - val_accuracy: 0.9574\n",
            "Epoch 67/100\n",
            "323/323 [==============================] - 4s 12ms/step - loss: 0.0474 - accuracy: 0.9876 - val_loss: 0.0716 - val_accuracy: 0.9574\n",
            "Epoch 68/100\n",
            "323/323 [==============================] - 4s 12ms/step - loss: 0.0335 - accuracy: 0.9938 - val_loss: 0.0819 - val_accuracy: 0.9787\n",
            "Epoch 69/100\n",
            "323/323 [==============================] - 4s 12ms/step - loss: 0.0366 - accuracy: 0.9938 - val_loss: 0.0663 - val_accuracy: 0.9787\n",
            "Epoch 70/100\n",
            "323/323 [==============================] - 4s 12ms/step - loss: 0.0521 - accuracy: 0.9814 - val_loss: 0.0850 - val_accuracy: 0.9787\n",
            "Epoch 71/100\n",
            "323/323 [==============================] - 4s 12ms/step - loss: 0.0553 - accuracy: 0.9814 - val_loss: 0.0941 - val_accuracy: 0.9574\n",
            "Epoch 72/100\n",
            "323/323 [==============================] - 4s 12ms/step - loss: 0.0378 - accuracy: 0.9938 - val_loss: 0.0782 - val_accuracy: 0.9787\n",
            "Epoch 73/100\n",
            "323/323 [==============================] - 4s 12ms/step - loss: 0.0376 - accuracy: 0.9907 - val_loss: 0.1055 - val_accuracy: 0.9574\n",
            "Epoch 74/100\n",
            "323/323 [==============================] - 4s 12ms/step - loss: 0.0338 - accuracy: 0.9938 - val_loss: 0.0998 - val_accuracy: 0.9574\n",
            "Epoch 75/100\n",
            "323/323 [==============================] - 4s 12ms/step - loss: 0.0336 - accuracy: 0.9907 - val_loss: 0.0587 - val_accuracy: 0.9574\n",
            "Epoch 76/100\n",
            "323/323 [==============================] - 4s 12ms/step - loss: 0.0459 - accuracy: 0.9845 - val_loss: 0.0611 - val_accuracy: 0.9787\n",
            "Epoch 77/100\n",
            "323/323 [==============================] - 4s 11ms/step - loss: 0.0272 - accuracy: 0.9969 - val_loss: 0.0658 - val_accuracy: 0.9787\n",
            "Epoch 78/100\n",
            "323/323 [==============================] - 4s 11ms/step - loss: 0.0332 - accuracy: 0.9938 - val_loss: 0.1001 - val_accuracy: 0.9574\n",
            "Epoch 79/100\n",
            "323/323 [==============================] - 4s 11ms/step - loss: 0.0284 - accuracy: 0.9907 - val_loss: 0.0464 - val_accuracy: 0.9787\n",
            "Epoch 80/100\n",
            "323/323 [==============================] - 4s 12ms/step - loss: 0.0234 - accuracy: 0.9969 - val_loss: 0.0261 - val_accuracy: 1.0000\n",
            "Epoch 81/100\n",
            "323/323 [==============================] - 4s 12ms/step - loss: 0.0264 - accuracy: 0.9938 - val_loss: 0.0439 - val_accuracy: 1.0000\n",
            "Epoch 82/100\n",
            "323/323 [==============================] - 4s 12ms/step - loss: 0.0203 - accuracy: 0.9969 - val_loss: 0.0241 - val_accuracy: 1.0000\n",
            "Epoch 83/100\n",
            "323/323 [==============================] - 4s 12ms/step - loss: 0.0171 - accuracy: 0.9969 - val_loss: 0.0287 - val_accuracy: 0.9787\n",
            "Epoch 84/100\n",
            "323/323 [==============================] - 4s 11ms/step - loss: 0.0165 - accuracy: 0.9969 - val_loss: 0.0258 - val_accuracy: 1.0000\n",
            "Epoch 85/100\n",
            "323/323 [==============================] - 4s 12ms/step - loss: 0.0189 - accuracy: 0.9969 - val_loss: 0.0271 - val_accuracy: 1.0000\n",
            "Epoch 86/100\n",
            "323/323 [==============================] - 4s 12ms/step - loss: 0.0342 - accuracy: 0.9907 - val_loss: 0.0584 - val_accuracy: 0.9787\n",
            "Epoch 87/100\n",
            "323/323 [==============================] - 4s 12ms/step - loss: 0.0211 - accuracy: 0.9938 - val_loss: 0.0303 - val_accuracy: 1.0000\n",
            "Epoch 88/100\n",
            "323/323 [==============================] - 4s 12ms/step - loss: 0.0155 - accuracy: 1.0000 - val_loss: 0.0298 - val_accuracy: 1.0000\n",
            "Epoch 89/100\n",
            "323/323 [==============================] - 4s 12ms/step - loss: 0.0130 - accuracy: 1.0000 - val_loss: 0.0653 - val_accuracy: 0.9787\n",
            "Epoch 90/100\n",
            "323/323 [==============================] - 4s 12ms/step - loss: 0.0173 - accuracy: 1.0000 - val_loss: 0.0287 - val_accuracy: 1.0000\n",
            "Epoch 91/100\n",
            "323/323 [==============================] - 4s 12ms/step - loss: 0.0121 - accuracy: 1.0000 - val_loss: 0.0400 - val_accuracy: 0.9787\n",
            "Epoch 92/100\n",
            "323/323 [==============================] - 4s 11ms/step - loss: 0.0096 - accuracy: 1.0000 - val_loss: 0.0236 - val_accuracy: 1.0000\n",
            "Epoch 93/100\n",
            "323/323 [==============================] - 4s 12ms/step - loss: 0.0103 - accuracy: 1.0000 - val_loss: 0.0335 - val_accuracy: 0.9787\n",
            "Epoch 94/100\n",
            "323/323 [==============================] - 4s 12ms/step - loss: 0.0088 - accuracy: 1.0000 - val_loss: 0.0240 - val_accuracy: 0.9787\n",
            "Epoch 95/100\n",
            "323/323 [==============================] - 4s 12ms/step - loss: 0.0164 - accuracy: 1.0000 - val_loss: 0.0683 - val_accuracy: 0.9574\n",
            "Epoch 96/100\n",
            "323/323 [==============================] - 4s 12ms/step - loss: 0.0101 - accuracy: 1.0000 - val_loss: 0.0264 - val_accuracy: 1.0000\n",
            "Epoch 97/100\n",
            "323/323 [==============================] - 4s 12ms/step - loss: 0.0080 - accuracy: 1.0000 - val_loss: 0.0113 - val_accuracy: 1.0000\n",
            "Epoch 98/100\n",
            "323/323 [==============================] - 4s 12ms/step - loss: 0.0071 - accuracy: 1.0000 - val_loss: 0.0151 - val_accuracy: 1.0000\n",
            "Epoch 99/100\n",
            "323/323 [==============================] - 4s 11ms/step - loss: 0.0121 - accuracy: 1.0000 - val_loss: 0.0399 - val_accuracy: 0.9787\n",
            "Epoch 100/100\n",
            "323/323 [==============================] - 4s 12ms/step - loss: 0.0156 - accuracy: 0.9969 - val_loss: 0.0133 - val_accuracy: 1.0000\n"
          ]
        },
        {
          "output_type": "execute_result",
          "data": {
            "text/plain": [
              "<keras.callbacks.History at 0x7f29c4f5d4d0>"
            ]
          },
          "metadata": {},
          "execution_count": 80
        }
      ]
    },
    {
      "cell_type": "code",
      "source": [
        "evaluate_ensemble(model=ensemble_elman, x_datas=x_test, y_datas=y_test)"
      ],
      "metadata": {
        "colab": {
          "base_uri": "https://localhost:8080/"
        },
        "id": "m46u_ev4VJf0",
        "outputId": "0dcfcc2a-e3eb-47c0-862c-2847ddcb9ec8"
      },
      "execution_count": 81,
      "outputs": [
        {
          "output_type": "execute_result",
          "data": {
            "text/plain": [
              "0.956989247311828"
            ]
          },
          "metadata": {},
          "execution_count": 81
        }
      ]
    },
    {
      "cell_type": "code",
      "source": [
        "# %tensorboard --logdir '/content/drive/MyDrive/logs'"
      ],
      "metadata": {
        "id": "_h-vkdz3VJdD"
      },
      "execution_count": 22,
      "outputs": []
    },
    {
      "cell_type": "code",
      "source": [
        ""
      ],
      "metadata": {
        "id": "dEqGZYXHVJVk"
      },
      "execution_count": 40,
      "outputs": []
    },
    {
      "cell_type": "code",
      "source": [
        ""
      ],
      "metadata": {
        "id": "vaJAgunJVJS5"
      },
      "execution_count": 82,
      "outputs": []
    },
    {
      "cell_type": "markdown",
      "source": [
        "Jordan Ensemble"
      ],
      "metadata": {
        "id": "UTaN_kjWHC7g"
      }
    },
    {
      "cell_type": "code",
      "source": [
        "jordan_models = []\n",
        "neurons = [15, 25, 35, 45, 55]\n",
        "for neuron in neurons:\n",
        "  jordan1 = Jordan(input_dim=15, hidden_units=neuron, feature_size=6, n_classes=1)\n",
        "  jordan1.compile(optimizer='adam', loss='binary_crossentropy', metrics=['accuracy'])\n",
        "  input = tf.keras.Input(shape=(15, 6, ))\n",
        "  model = Model(input, jordan1(input))\n",
        "  jordan_models.append(model)"
      ],
      "metadata": {
        "id": "Ex5akvsPVJQa"
      },
      "execution_count": 83,
      "outputs": []
    },
    {
      "cell_type": "code",
      "source": [
        "ensemble_jordan = stacked_ensemble(jordan_models)"
      ],
      "metadata": {
        "id": "hk-25TN4HrWu"
      },
      "execution_count": 84,
      "outputs": []
    },
    {
      "cell_type": "code",
      "source": [
        "ensemble_jordan.compile(optimizer='adam', loss='binary_crossentropy', metrics=['accuracy'])"
      ],
      "metadata": {
        "id": "eJOUqM3-H59K"
      },
      "execution_count": 85,
      "outputs": []
    },
    {
      "cell_type": "code",
      "source": [
        "plot_model(ensemble_jordan, show_shapes=True, show_layer_names=True, expand_nested=True)"
      ],
      "metadata": {
        "colab": {
          "base_uri": "https://localhost:8080/",
          "height": 304
        },
        "id": "vnnmpq86H57A",
        "outputId": "b075b57d-fcdc-4611-a55f-67ba23ac7f48"
      },
      "execution_count": 86,
      "outputs": [
        {
          "output_type": "execute_result",
          "data": {
            "text/plain": [
              "<IPython.core.display.Image object>"
            ],
            "image/png": "[encoded data removed]"
          },
          "metadata": {},
          "execution_count": 86
        }
      ]
    },
    {
      "cell_type": "code",
      "source": [
        "X = [x_train for _ in range(len(ensemble_jordan.input))]\n",
        "val = [x_val for _ in range(len(ensemble_jordan.input))]\n",
        "ensemble_jordan.fit(X, y_train, batch_size=1, epochs=100, validation_data=(val, y_val), callbacks=[tb_callback])"
      ],
      "metadata": {
        "colab": {
          "base_uri": "https://localhost:8080/"
        },
        "id": "kMLt8RsgH54o",
        "outputId": "c1b2d544-4c7b-4cbf-b9e8-1570105f2eb6"
      },
      "execution_count": 88,
      "outputs": [
        {
          "output_type": "stream",
          "name": "stdout",
          "text": [
            "WARNING:tensorflow:Model failed to serialize as JSON. Ignoring... \n",
            "Epoch 1/100\n",
            "323/323 [==============================] - 16s 23ms/step - loss: 0.5612 - accuracy: 0.7090 - val_loss: 0.4519 - val_accuracy: 0.8085\n",
            "Epoch 2/100\n",
            "323/323 [==============================] - 5s 17ms/step - loss: 0.4746 - accuracy: 0.7090 - val_loss: 0.4383 - val_accuracy: 0.8085\n",
            "Epoch 3/100\n",
            "323/323 [==============================] - 5s 17ms/step - loss: 0.4261 - accuracy: 0.7368 - val_loss: 0.4420 - val_accuracy: 0.6383\n",
            "Epoch 4/100\n",
            "323/323 [==============================] - 5s 17ms/step - loss: 0.3993 - accuracy: 0.7430 - val_loss: 0.4001 - val_accuracy: 0.8085\n",
            "Epoch 5/100\n",
            "323/323 [==============================] - 5s 17ms/step - loss: 0.3834 - accuracy: 0.7554 - val_loss: 0.3757 - val_accuracy: 0.8298\n",
            "Epoch 6/100\n",
            "323/323 [==============================] - 5s 16ms/step - loss: 0.3931 - accuracy: 0.7337 - val_loss: 0.4361 - val_accuracy: 0.7021\n",
            "Epoch 7/100\n",
            "323/323 [==============================] - 5s 16ms/step - loss: 0.3379 - accuracy: 0.8390 - val_loss: 0.3428 - val_accuracy: 0.8298\n",
            "Epoch 8/100\n",
            "323/323 [==============================] - 6s 17ms/step - loss: 0.3687 - accuracy: 0.7492 - val_loss: 0.3418 - val_accuracy: 0.8723\n",
            "Epoch 9/100\n",
            "323/323 [==============================] - 5s 16ms/step - loss: 0.3407 - accuracy: 0.8019 - val_loss: 0.3121 - val_accuracy: 0.8511\n",
            "Epoch 10/100\n",
            "323/323 [==============================] - 5s 16ms/step - loss: 0.3185 - accuracy: 0.8111 - val_loss: 0.3076 - val_accuracy: 0.8723\n",
            "Epoch 11/100\n",
            "323/323 [==============================] - 6s 17ms/step - loss: 0.3089 - accuracy: 0.8297 - val_loss: 0.3091 - val_accuracy: 0.8085\n",
            "Epoch 12/100\n",
            "323/323 [==============================] - 5s 16ms/step - loss: 0.3131 - accuracy: 0.8235 - val_loss: 0.3441 - val_accuracy: 0.7234\n",
            "Epoch 13/100\n",
            "323/323 [==============================] - 5s 17ms/step - loss: 0.3169 - accuracy: 0.8173 - val_loss: 0.3403 - val_accuracy: 0.8085\n",
            "Epoch 14/100\n",
            "323/323 [==============================] - 5s 16ms/step - loss: 0.2949 - accuracy: 0.8638 - val_loss: 0.2470 - val_accuracy: 0.8723\n",
            "Epoch 15/100\n",
            "323/323 [==============================] - 5s 16ms/step - loss: 0.3092 - accuracy: 0.8266 - val_loss: 0.3163 - val_accuracy: 0.7660\n",
            "Epoch 16/100\n",
            "323/323 [==============================] - 5s 16ms/step - loss: 0.2953 - accuracy: 0.8235 - val_loss: 0.2810 - val_accuracy: 0.8298\n",
            "Epoch 17/100\n",
            "323/323 [==============================] - 6s 17ms/step - loss: 0.2852 - accuracy: 0.8359 - val_loss: 0.2767 - val_accuracy: 0.8085\n",
            "Epoch 18/100\n",
            "323/323 [==============================] - 5s 16ms/step - loss: 0.2941 - accuracy: 0.8266 - val_loss: 0.3432 - val_accuracy: 0.7872\n",
            "Epoch 19/100\n",
            "323/323 [==============================] - 6s 18ms/step - loss: 0.3012 - accuracy: 0.8359 - val_loss: 0.2972 - val_accuracy: 0.8298\n",
            "Epoch 20/100\n",
            "323/323 [==============================] - 5s 17ms/step - loss: 0.2855 - accuracy: 0.8483 - val_loss: 0.3450 - val_accuracy: 0.7447\n",
            "Epoch 21/100\n",
            "323/323 [==============================] - 6s 18ms/step - loss: 0.2797 - accuracy: 0.8421 - val_loss: 0.2867 - val_accuracy: 0.8085\n",
            "Epoch 22/100\n",
            "323/323 [==============================] - 5s 16ms/step - loss: 0.2713 - accuracy: 0.8421 - val_loss: 0.2632 - val_accuracy: 0.8298\n",
            "Epoch 23/100\n",
            "323/323 [==============================] - 6s 17ms/step - loss: 0.2665 - accuracy: 0.8545 - val_loss: 0.2624 - val_accuracy: 0.8723\n",
            "Epoch 24/100\n",
            "323/323 [==============================] - 5s 16ms/step - loss: 0.2528 - accuracy: 0.8731 - val_loss: 0.2765 - val_accuracy: 0.8511\n",
            "Epoch 25/100\n",
            "323/323 [==============================] - 5s 16ms/step - loss: 0.2477 - accuracy: 0.8793 - val_loss: 0.2627 - val_accuracy: 0.8511\n",
            "Epoch 26/100\n",
            "323/323 [==============================] - 6s 17ms/step - loss: 0.2369 - accuracy: 0.8885 - val_loss: 0.3173 - val_accuracy: 0.8298\n",
            "Epoch 27/100\n",
            "323/323 [==============================] - 6s 17ms/step - loss: 0.2561 - accuracy: 0.8700 - val_loss: 0.2808 - val_accuracy: 0.8511\n",
            "Epoch 28/100\n",
            "323/323 [==============================] - 5s 17ms/step - loss: 0.2219 - accuracy: 0.8947 - val_loss: 0.2859 - val_accuracy: 0.8723\n",
            "Epoch 29/100\n",
            "323/323 [==============================] - 5s 16ms/step - loss: 0.2206 - accuracy: 0.9009 - val_loss: 0.2823 - val_accuracy: 0.8723\n",
            "Epoch 30/100\n",
            "323/323 [==============================] - 5s 16ms/step - loss: 0.2196 - accuracy: 0.8916 - val_loss: 0.2246 - val_accuracy: 0.8298\n",
            "Epoch 31/100\n",
            "323/323 [==============================] - 6s 17ms/step - loss: 0.2235 - accuracy: 0.8824 - val_loss: 0.2610 - val_accuracy: 0.8723\n",
            "Epoch 32/100\n",
            "323/323 [==============================] - 5s 17ms/step - loss: 0.2067 - accuracy: 0.9133 - val_loss: 0.2527 - val_accuracy: 0.8723\n",
            "Epoch 33/100\n",
            "323/323 [==============================] - 6s 18ms/step - loss: 0.2109 - accuracy: 0.9071 - val_loss: 0.2644 - val_accuracy: 0.8723\n",
            "Epoch 34/100\n",
            "323/323 [==============================] - 6s 17ms/step - loss: 0.2038 - accuracy: 0.9164 - val_loss: 0.2500 - val_accuracy: 0.9149\n",
            "Epoch 35/100\n",
            "323/323 [==============================] - 6s 18ms/step - loss: 0.2229 - accuracy: 0.9164 - val_loss: 0.2589 - val_accuracy: 0.8936\n",
            "Epoch 36/100\n",
            "323/323 [==============================] - 6s 18ms/step - loss: 0.1976 - accuracy: 0.9257 - val_loss: 0.2389 - val_accuracy: 0.9149\n",
            "Epoch 37/100\n",
            "323/323 [==============================] - 5s 17ms/step - loss: 0.1903 - accuracy: 0.9164 - val_loss: 0.2559 - val_accuracy: 0.9149\n",
            "Epoch 38/100\n",
            "323/323 [==============================] - 8s 25ms/step - loss: 0.1812 - accuracy: 0.9381 - val_loss: 0.2775 - val_accuracy: 0.8723\n",
            "Epoch 39/100\n",
            "323/323 [==============================] - 5s 17ms/step - loss: 0.1873 - accuracy: 0.9257 - val_loss: 0.2508 - val_accuracy: 0.9362\n",
            "Epoch 40/100\n",
            "323/323 [==============================] - 6s 18ms/step - loss: 0.1835 - accuracy: 0.9288 - val_loss: 0.2490 - val_accuracy: 0.9149\n",
            "Epoch 41/100\n",
            "323/323 [==============================] - 6s 17ms/step - loss: 0.1768 - accuracy: 0.9412 - val_loss: 0.2880 - val_accuracy: 0.8511\n",
            "Epoch 42/100\n",
            "323/323 [==============================] - 5s 16ms/step - loss: 0.1700 - accuracy: 0.9319 - val_loss: 0.3396 - val_accuracy: 0.8511\n",
            "Epoch 43/100\n",
            "323/323 [==============================] - 6s 17ms/step - loss: 0.2098 - accuracy: 0.9102 - val_loss: 0.2339 - val_accuracy: 0.8936\n",
            "Epoch 44/100\n",
            "323/323 [==============================] - 6s 17ms/step - loss: 0.1790 - accuracy: 0.9195 - val_loss: 0.2632 - val_accuracy: 0.8936\n",
            "Epoch 45/100\n",
            "323/323 [==============================] - 6s 18ms/step - loss: 0.1762 - accuracy: 0.9412 - val_loss: 0.2382 - val_accuracy: 0.8723\n",
            "Epoch 46/100\n",
            "323/323 [==============================] - 5s 17ms/step - loss: 0.2023 - accuracy: 0.9009 - val_loss: 0.2750 - val_accuracy: 0.8298\n",
            "Epoch 47/100\n",
            "323/323 [==============================] - 5s 16ms/step - loss: 0.1947 - accuracy: 0.9071 - val_loss: 0.2543 - val_accuracy: 0.8298\n",
            "Epoch 48/100\n",
            "323/323 [==============================] - 5s 16ms/step - loss: 0.2345 - accuracy: 0.8978 - val_loss: 0.3347 - val_accuracy: 0.8723\n",
            "Epoch 49/100\n",
            "323/323 [==============================] - 5s 17ms/step - loss: 0.1904 - accuracy: 0.9257 - val_loss: 0.2697 - val_accuracy: 0.9362\n",
            "Epoch 50/100\n",
            "323/323 [==============================] - 6s 17ms/step - loss: 0.1548 - accuracy: 0.9505 - val_loss: 0.2661 - val_accuracy: 0.9149\n",
            "Epoch 51/100\n",
            "323/323 [==============================] - 5s 16ms/step - loss: 0.1459 - accuracy: 0.9598 - val_loss: 0.2475 - val_accuracy: 0.9149\n",
            "Epoch 52/100\n",
            "323/323 [==============================] - 5s 17ms/step - loss: 0.1442 - accuracy: 0.9505 - val_loss: 0.2233 - val_accuracy: 0.9362\n",
            "Epoch 53/100\n",
            "323/323 [==============================] - 5s 17ms/step - loss: 0.1767 - accuracy: 0.9319 - val_loss: 0.2587 - val_accuracy: 0.8936\n",
            "Epoch 54/100\n",
            "323/323 [==============================] - 5s 17ms/step - loss: 0.1548 - accuracy: 0.9443 - val_loss: 0.2364 - val_accuracy: 0.9149\n",
            "Epoch 55/100\n",
            "323/323 [==============================] - 6s 17ms/step - loss: 0.1341 - accuracy: 0.9659 - val_loss: 0.2547 - val_accuracy: 0.9149\n",
            "Epoch 56/100\n",
            "323/323 [==============================] - 5s 17ms/step - loss: 0.1434 - accuracy: 0.9505 - val_loss: 0.2319 - val_accuracy: 0.9149\n",
            "Epoch 57/100\n",
            "323/323 [==============================] - 6s 17ms/step - loss: 0.1349 - accuracy: 0.9567 - val_loss: 0.2070 - val_accuracy: 0.9149\n",
            "Epoch 58/100\n",
            "323/323 [==============================] - 5s 16ms/step - loss: 0.1309 - accuracy: 0.9505 - val_loss: 0.2069 - val_accuracy: 0.9362\n",
            "Epoch 59/100\n",
            "323/323 [==============================] - 5s 16ms/step - loss: 0.1279 - accuracy: 0.9598 - val_loss: 0.2064 - val_accuracy: 0.9149\n",
            "Epoch 60/100\n",
            "323/323 [==============================] - 5s 17ms/step - loss: 0.1292 - accuracy: 0.9536 - val_loss: 0.2511 - val_accuracy: 0.9149\n",
            "Epoch 61/100\n",
            "323/323 [==============================] - 5s 17ms/step - loss: 0.1597 - accuracy: 0.9474 - val_loss: 0.2375 - val_accuracy: 0.9362\n",
            "Epoch 62/100\n",
            "323/323 [==============================] - 6s 17ms/step - loss: 0.1477 - accuracy: 0.9505 - val_loss: 0.2520 - val_accuracy: 0.8936\n",
            "Epoch 63/100\n",
            "323/323 [==============================] - 5s 16ms/step - loss: 0.1521 - accuracy: 0.9474 - val_loss: 0.2393 - val_accuracy: 0.8936\n",
            "Epoch 64/100\n",
            "323/323 [==============================] - 5s 17ms/step - loss: 0.1427 - accuracy: 0.9319 - val_loss: 0.1889 - val_accuracy: 0.8936\n",
            "Epoch 65/100\n",
            "323/323 [==============================] - 6s 17ms/step - loss: 0.1205 - accuracy: 0.9598 - val_loss: 0.1968 - val_accuracy: 0.9149\n",
            "Epoch 66/100\n",
            "323/323 [==============================] - 5s 17ms/step - loss: 0.1153 - accuracy: 0.9752 - val_loss: 0.2245 - val_accuracy: 0.8936\n",
            "Epoch 67/100\n",
            "323/323 [==============================] - 5s 17ms/step - loss: 0.1344 - accuracy: 0.9536 - val_loss: 0.2161 - val_accuracy: 0.8936\n",
            "Epoch 68/100\n",
            "323/323 [==============================] - 5s 17ms/step - loss: 0.1444 - accuracy: 0.9505 - val_loss: 0.1884 - val_accuracy: 0.9362\n",
            "Epoch 69/100\n",
            "323/323 [==============================] - 6s 17ms/step - loss: 0.2185 - accuracy: 0.8793 - val_loss: 0.3058 - val_accuracy: 0.7660\n",
            "Epoch 70/100\n",
            "323/323 [==============================] - 5s 16ms/step - loss: 0.2000 - accuracy: 0.8793 - val_loss: 0.2638 - val_accuracy: 0.7660\n",
            "Epoch 71/100\n",
            "323/323 [==============================] - 5s 16ms/step - loss: 0.1826 - accuracy: 0.8762 - val_loss: 0.2348 - val_accuracy: 0.8085\n",
            "Epoch 72/100\n",
            "323/323 [==============================] - 5s 17ms/step - loss: 0.1771 - accuracy: 0.8947 - val_loss: 0.2214 - val_accuracy: 0.8936\n",
            "Epoch 73/100\n",
            "323/323 [==============================] - 6s 18ms/step - loss: 0.1859 - accuracy: 0.8916 - val_loss: 0.2019 - val_accuracy: 0.9149\n",
            "Epoch 74/100\n",
            "323/323 [==============================] - 5s 17ms/step - loss: 0.1618 - accuracy: 0.9319 - val_loss: 0.1990 - val_accuracy: 0.9362\n",
            "Epoch 75/100\n",
            "323/323 [==============================] - 5s 16ms/step - loss: 0.1650 - accuracy: 0.9443 - val_loss: 0.1981 - val_accuracy: 0.9574\n",
            "Epoch 76/100\n",
            "323/323 [==============================] - 6s 18ms/step - loss: 0.1448 - accuracy: 0.9628 - val_loss: 0.2019 - val_accuracy: 0.9362\n",
            "Epoch 77/100\n",
            "323/323 [==============================] - 5s 16ms/step - loss: 0.1500 - accuracy: 0.9319 - val_loss: 0.2314 - val_accuracy: 0.8936\n",
            "Epoch 78/100\n",
            "323/323 [==============================] - 6s 17ms/step - loss: 0.1225 - accuracy: 0.9567 - val_loss: 0.2969 - val_accuracy: 0.9149\n",
            "Epoch 79/100\n",
            "323/323 [==============================] - 5s 17ms/step - loss: 0.1218 - accuracy: 0.9628 - val_loss: 0.2877 - val_accuracy: 0.9149\n",
            "Epoch 80/100\n",
            "323/323 [==============================] - 6s 17ms/step - loss: 0.1547 - accuracy: 0.9536 - val_loss: 0.2153 - val_accuracy: 0.9362\n",
            "Epoch 81/100\n",
            "323/323 [==============================] - 5s 17ms/step - loss: 0.1057 - accuracy: 0.9752 - val_loss: 0.2051 - val_accuracy: 0.9362\n",
            "Epoch 82/100\n",
            "323/323 [==============================] - 6s 17ms/step - loss: 0.1140 - accuracy: 0.9505 - val_loss: 0.1237 - val_accuracy: 0.9574\n",
            "Epoch 83/100\n",
            "323/323 [==============================] - 5s 17ms/step - loss: 0.0986 - accuracy: 0.9721 - val_loss: 0.1325 - val_accuracy: 0.9362\n",
            "Epoch 84/100\n",
            "323/323 [==============================] - 6s 17ms/step - loss: 0.0933 - accuracy: 0.9721 - val_loss: 0.1375 - val_accuracy: 0.9362\n",
            "Epoch 85/100\n",
            "323/323 [==============================] - 5s 16ms/step - loss: 0.1056 - accuracy: 0.9598 - val_loss: 0.1417 - val_accuracy: 0.9362\n",
            "Epoch 86/100\n",
            "323/323 [==============================] - 5s 16ms/step - loss: 0.0910 - accuracy: 0.9721 - val_loss: 0.1459 - val_accuracy: 0.9149\n",
            "Epoch 87/100\n",
            "323/323 [==============================] - 6s 17ms/step - loss: 0.0974 - accuracy: 0.9721 - val_loss: 0.1508 - val_accuracy: 0.9149\n",
            "Epoch 88/100\n",
            "323/323 [==============================] - 5s 16ms/step - loss: 0.0998 - accuracy: 0.9690 - val_loss: 0.1451 - val_accuracy: 0.9362\n",
            "Epoch 89/100\n",
            "323/323 [==============================] - 5s 16ms/step - loss: 0.1036 - accuracy: 0.9659 - val_loss: 0.1314 - val_accuracy: 0.9574\n",
            "Epoch 90/100\n",
            "323/323 [==============================] - 6s 17ms/step - loss: 0.1032 - accuracy: 0.9628 - val_loss: 0.1746 - val_accuracy: 0.9149\n",
            "Epoch 91/100\n",
            "323/323 [==============================] - 6s 17ms/step - loss: 0.1074 - accuracy: 0.9598 - val_loss: 0.1293 - val_accuracy: 0.9574\n",
            "Epoch 92/100\n",
            "323/323 [==============================] - 5s 16ms/step - loss: 0.0861 - accuracy: 0.9814 - val_loss: 0.1188 - val_accuracy: 0.9574\n",
            "Epoch 93/100\n",
            "323/323 [==============================] - 5s 16ms/step - loss: 0.0934 - accuracy: 0.9690 - val_loss: 0.1269 - val_accuracy: 0.9362\n",
            "Epoch 94/100\n",
            "323/323 [==============================] - 5s 16ms/step - loss: 0.1290 - accuracy: 0.9659 - val_loss: 0.2121 - val_accuracy: 0.9362\n",
            "Epoch 95/100\n",
            "323/323 [==============================] - 5s 16ms/step - loss: 0.1068 - accuracy: 0.9783 - val_loss: 0.1942 - val_accuracy: 0.9149\n",
            "Epoch 96/100\n",
            "323/323 [==============================] - 5s 16ms/step - loss: 0.0971 - accuracy: 0.9690 - val_loss: 0.1798 - val_accuracy: 0.9362\n",
            "Epoch 97/100\n",
            "323/323 [==============================] - 6s 17ms/step - loss: 0.0924 - accuracy: 0.9752 - val_loss: 0.1418 - val_accuracy: 0.9574\n",
            "Epoch 98/100\n",
            "323/323 [==============================] - 5s 16ms/step - loss: 0.0920 - accuracy: 0.9814 - val_loss: 0.1647 - val_accuracy: 0.9362\n",
            "Epoch 99/100\n",
            "323/323 [==============================] - 5s 16ms/step - loss: 0.0907 - accuracy: 0.9690 - val_loss: 0.1386 - val_accuracy: 0.9362\n",
            "Epoch 100/100\n",
            "323/323 [==============================] - 6s 17ms/step - loss: 0.0842 - accuracy: 0.9783 - val_loss: 0.1233 - val_accuracy: 0.9574\n"
          ]
        },
        {
          "output_type": "execute_result",
          "data": {
            "text/plain": [
              "<keras.callbacks.History at 0x7f29c3b43b50>"
            ]
          },
          "metadata": {},
          "execution_count": 88
        }
      ]
    },
    {
      "cell_type": "code",
      "source": [
        "evaluate_ensemble(model=ensemble_jordan, x_datas=x_test, y_datas=y_test)"
      ],
      "metadata": {
        "colab": {
          "base_uri": "https://localhost:8080/"
        },
        "id": "8rTFr-aYVeoG",
        "outputId": "72cf1c4e-a135-4be4-c7f2-7e3c2f75f69f"
      },
      "execution_count": 89,
      "outputs": [
        {
          "output_type": "execute_result",
          "data": {
            "text/plain": [
              "0.946236559139785"
            ]
          },
          "metadata": {},
          "execution_count": 89
        }
      ]
    },
    {
      "cell_type": "code",
      "source": [
        "# %tensorboard --logdir '/content/drive/MyDrive/logs'"
      ],
      "metadata": {
        "id": "Iw5gViwGH52Z"
      },
      "execution_count": 23,
      "outputs": []
    },
    {
      "cell_type": "code",
      "source": [
        ""
      ],
      "metadata": {
        "id": "d8Q0E1HdH50A"
      },
      "execution_count": null,
      "outputs": []
    },
    {
      "cell_type": "code",
      "source": [
        ""
      ],
      "metadata": {
        "id": "u4VJ7Xe3H5xj"
      },
      "execution_count": null,
      "outputs": []
    },
    {
      "cell_type": "code",
      "source": [
        ""
      ],
      "metadata": {
        "id": "a6OzzLx8H5tv"
      },
      "execution_count": null,
      "outputs": []
    },
    {
      "cell_type": "markdown",
      "source": [
        "## Mixed Ensemble\n",
        "Best Model"
      ],
      "metadata": {
        "id": "d2gH5Pp_Jouq"
      }
    },
    {
      "cell_type": "code",
      "source": [
        "mixed_models = []\n",
        "neurons = [25, 45, 15]\n",
        "\n",
        "for neuron in neurons[1:]:\n",
        "  jordan1 = Jordan(input_dim=15, hidden_units=neuron, feature_size=6, n_classes=1)\n",
        "  jordan1.compile(optimizer='adam', loss='binary_crossentropy', metrics=['accuracy'])\n",
        "  input = tf.keras.Input(shape=(15, 6, ))\n",
        "  model = Model(input, jordan1(input))\n",
        "  model.compile(optimizer='adam', loss='binary_crossentropy', metrics=['accuracy'])\n",
        "  mixed_models.append(model)\n",
        "\n",
        "for neuron in neurons[:-1]:\n",
        "  elman1 = Elman(input_dim=15, hidden_units=neuron, feature_size=6, n_classes=1)\n",
        "  elman1.compile(optimizer='adam', loss='binary_crossentropy', metrics=['accuracy'])\n",
        "  input = tf.keras.Input(shape=(15, 6, ))\n",
        "  model = Model(input, elman1(input))\n",
        "  model.compile(optimizer='adam', loss='binary_crossentropy', metrics=['accuracy'])\n",
        "  mixed_models.append(model)"
      ],
      "metadata": {
        "id": "nbu_PXvVJour"
      },
      "execution_count": 157,
      "outputs": []
    },
    {
      "cell_type": "code",
      "source": [
        "ensemble_mixed = stacked_ensemble(mixed_models)"
      ],
      "metadata": {
        "id": "aMncmkNoJour"
      },
      "execution_count": 158,
      "outputs": []
    },
    {
      "cell_type": "code",
      "source": [
        "ensemble_mixed.compile(optimizer='adam', loss='binary_crossentropy', metrics=['accuracy'])\n",
        "ensemble_mixed.summary()"
      ],
      "metadata": {
        "colab": {
          "base_uri": "https://localhost:8080/"
        },
        "id": "yR3YXCroJour",
        "outputId": "bdd79338-8bb8-40b3-f3ad-a5c59645d79e"
      },
      "execution_count": 159,
      "outputs": [
        {
          "output_type": "stream",
          "name": "stdout",
          "text": [
            "Model: \"model_79\"\n",
            "__________________________________________________________________________________________________\n",
            " Layer (type)                   Output Shape         Param #     Connected to                     \n",
            "==================================================================================================\n",
            " ensemble_1_input_61 (InputLaye  [(None, 15, 6)]     0           []                               \n",
            " r)                                                                                               \n",
            "                                                                                                  \n",
            " ensemble_2_input_62 (InputLaye  [(None, 15, 6)]     0           []                               \n",
            " r)                                                                                               \n",
            "                                                                                                  \n",
            " ensemble_3_input_63 (InputLaye  [(None, 15, 6)]     0           []                               \n",
            " r)                                                                                               \n",
            "                                                                                                  \n",
            " ensemble_4_input_64 (InputLaye  [(None, 15, 6)]     0           []                               \n",
            " r)                                                                                               \n",
            "                                                                                                  \n",
            " ensemble_1_jordan_29 (Jordan)  (1, 1)               4456        ['ensemble_1_input_61[0][0]']    \n",
            "                                                                                                  \n",
            " ensemble_2_jordan_30 (Jordan)  (1, 1)               586         ['ensemble_2_input_62[0][0]']    \n",
            "                                                                                                  \n",
            " ensemble_3_elman_38 (Elman)    (1, 1)               826         ['ensemble_3_input_63[0][0]']    \n",
            "                                                                                                  \n",
            " ensemble_4_elman_39 (Elman)    (1, 1)               2386        ['ensemble_4_input_64[0][0]']    \n",
            "                                                                                                  \n",
            " concatenate_15 (Concatenate)   (1, 4)               0           ['ensemble_1_jordan_29[0][0]',   \n",
            "                                                                  'ensemble_2_jordan_30[0][0]',   \n",
            "                                                                  'ensemble_3_elman_38[0][0]',    \n",
            "                                                                  'ensemble_4_elman_39[0][0]']    \n",
            "                                                                                                  \n",
            " dense_15 (Dense)               (1, 1)               5           ['concatenate_15[0][0]']         \n",
            "                                                                                                  \n",
            " flatten_15 (Flatten)           (1, 1)               0           ['dense_15[0][0]']               \n",
            "                                                                                                  \n",
            "==================================================================================================\n",
            "Total params: 8,259\n",
            "Trainable params: 8,259\n",
            "Non-trainable params: 0\n",
            "__________________________________________________________________________________________________\n"
          ]
        }
      ]
    },
    {
      "cell_type": "code",
      "source": [
        "plot_model(ensemble_mixed, show_shapes=True, show_layer_names=True, expand_nested=True)"
      ],
      "metadata": {
        "colab": {
          "base_uri": "https://localhost:8080/",
          "height": 377
        },
        "outputId": "91da067e-dfe6-441a-ac63-c98752b89d31",
        "id": "1f14ytWyJour"
      },
      "execution_count": 160,
      "outputs": [
        {
          "output_type": "execute_result",
          "data": {
            "text/plain": [
              "<IPython.core.display.Image object>"
            ],
            "image/png": "[encoded data removed]"
          },
          "metadata": {},
          "execution_count": 160
        }
      ]
    },
    {
      "cell_type": "code",
      "source": [
        "X = [x_train for _ in range(len(ensemble_mixed.input))]\n",
        "val = [x_val for _ in range(len(ensemble_mixed.input))]\n",
        "ensemble_mixed.fit(X, y_train, batch_size=1, epochs=90, validation_data=(val, y_val), callbacks=[tb_callback])"
      ],
      "metadata": {
        "colab": {
          "base_uri": "https://localhost:8080/"
        },
        "outputId": "a35f3850-7f88-45a8-ff08-47e75623b0ec",
        "id": "xV25W0RyJour"
      },
      "execution_count": 161,
      "outputs": [
        {
          "output_type": "stream",
          "name": "stdout",
          "text": [
            "WARNING:tensorflow:Model failed to serialize as JSON. Ignoring... \n",
            "Epoch 1/90\n",
            "323/323 [==============================] - 9s 16ms/step - loss: 0.5987 - accuracy: 0.7090 - val_loss: 0.5240 - val_accuracy: 0.8085\n",
            "Epoch 2/90\n",
            "323/323 [==============================] - 4s 11ms/step - loss: 0.5291 - accuracy: 0.7090 - val_loss: 0.4800 - val_accuracy: 0.8085\n",
            "Epoch 3/90\n",
            "323/323 [==============================] - 4s 11ms/step - loss: 0.4918 - accuracy: 0.7090 - val_loss: 0.4464 - val_accuracy: 0.8085\n",
            "Epoch 4/90\n",
            "323/323 [==============================] - 4s 12ms/step - loss: 0.4568 - accuracy: 0.7090 - val_loss: 0.4101 - val_accuracy: 0.8085\n",
            "Epoch 5/90\n",
            "323/323 [==============================] - 4s 12ms/step - loss: 0.4315 - accuracy: 0.7368 - val_loss: 0.3805 - val_accuracy: 0.8511\n",
            "Epoch 6/90\n",
            "323/323 [==============================] - 4s 12ms/step - loss: 0.4096 - accuracy: 0.7740 - val_loss: 0.4164 - val_accuracy: 0.7234\n",
            "Epoch 7/90\n",
            "323/323 [==============================] - 4s 12ms/step - loss: 0.3910 - accuracy: 0.7926 - val_loss: 0.3935 - val_accuracy: 0.7234\n",
            "Epoch 8/90\n",
            "323/323 [==============================] - 4s 12ms/step - loss: 0.3717 - accuracy: 0.7988 - val_loss: 0.3801 - val_accuracy: 0.7234\n",
            "Epoch 9/90\n",
            "323/323 [==============================] - 4s 12ms/step - loss: 0.3553 - accuracy: 0.8204 - val_loss: 0.3678 - val_accuracy: 0.7447\n",
            "Epoch 10/90\n",
            "323/323 [==============================] - 4s 12ms/step - loss: 0.3443 - accuracy: 0.8421 - val_loss: 0.3443 - val_accuracy: 0.8723\n",
            "Epoch 11/90\n",
            "323/323 [==============================] - 4s 12ms/step - loss: 0.3478 - accuracy: 0.7988 - val_loss: 0.3343 - val_accuracy: 0.8511\n",
            "Epoch 12/90\n",
            "323/323 [==============================] - 4s 12ms/step - loss: 0.3272 - accuracy: 0.8050 - val_loss: 0.3407 - val_accuracy: 0.7234\n",
            "Epoch 13/90\n",
            "323/323 [==============================] - 4s 12ms/step - loss: 0.3238 - accuracy: 0.8328 - val_loss: 0.3350 - val_accuracy: 0.7021\n",
            "Epoch 14/90\n",
            "323/323 [==============================] - 4s 12ms/step - loss: 0.3155 - accuracy: 0.8390 - val_loss: 0.3188 - val_accuracy: 0.7872\n",
            "Epoch 15/90\n",
            "323/323 [==============================] - 4s 11ms/step - loss: 0.3084 - accuracy: 0.8204 - val_loss: 0.3216 - val_accuracy: 0.8085\n",
            "Epoch 16/90\n",
            "323/323 [==============================] - 4s 12ms/step - loss: 0.3063 - accuracy: 0.8328 - val_loss: 0.3055 - val_accuracy: 0.7872\n",
            "Epoch 17/90\n",
            "323/323 [==============================] - 4s 12ms/step - loss: 0.3012 - accuracy: 0.8297 - val_loss: 0.3024 - val_accuracy: 0.7872\n",
            "Epoch 18/90\n",
            "323/323 [==============================] - 4s 12ms/step - loss: 0.2884 - accuracy: 0.8390 - val_loss: 0.2603 - val_accuracy: 0.8936\n",
            "Epoch 19/90\n",
            "323/323 [==============================] - 4s 12ms/step - loss: 0.2849 - accuracy: 0.8514 - val_loss: 0.2746 - val_accuracy: 0.8936\n",
            "Epoch 20/90\n",
            "323/323 [==============================] - 4s 12ms/step - loss: 0.2740 - accuracy: 0.8700 - val_loss: 0.2733 - val_accuracy: 0.8723\n",
            "Epoch 21/90\n",
            "323/323 [==============================] - 4s 12ms/step - loss: 0.2660 - accuracy: 0.8638 - val_loss: 0.2834 - val_accuracy: 0.8723\n",
            "Epoch 22/90\n",
            "323/323 [==============================] - 4s 12ms/step - loss: 0.2669 - accuracy: 0.8854 - val_loss: 0.2875 - val_accuracy: 0.8723\n",
            "Epoch 23/90\n",
            "323/323 [==============================] - 4s 12ms/step - loss: 0.2603 - accuracy: 0.8669 - val_loss: 0.2609 - val_accuracy: 0.8511\n",
            "Epoch 24/90\n",
            "323/323 [==============================] - 4s 12ms/step - loss: 0.2509 - accuracy: 0.8762 - val_loss: 0.2620 - val_accuracy: 0.8511\n",
            "Epoch 25/90\n",
            "323/323 [==============================] - 4s 12ms/step - loss: 0.2431 - accuracy: 0.8731 - val_loss: 0.2501 - val_accuracy: 0.8723\n",
            "Epoch 26/90\n",
            "323/323 [==============================] - 4s 12ms/step - loss: 0.2448 - accuracy: 0.8700 - val_loss: 0.2540 - val_accuracy: 0.8511\n",
            "Epoch 27/90\n",
            "323/323 [==============================] - 4s 12ms/step - loss: 0.2403 - accuracy: 0.8731 - val_loss: 0.2465 - val_accuracy: 0.8723\n",
            "Epoch 28/90\n",
            "323/323 [==============================] - 4s 12ms/step - loss: 0.2401 - accuracy: 0.8731 - val_loss: 0.2408 - val_accuracy: 0.8723\n",
            "Epoch 29/90\n",
            "323/323 [==============================] - 4s 12ms/step - loss: 0.2267 - accuracy: 0.8731 - val_loss: 0.2456 - val_accuracy: 0.8511\n",
            "Epoch 30/90\n",
            "323/323 [==============================] - 4s 11ms/step - loss: 0.2246 - accuracy: 0.8947 - val_loss: 0.2641 - val_accuracy: 0.8511\n",
            "Epoch 31/90\n",
            "323/323 [==============================] - 4s 12ms/step - loss: 0.2229 - accuracy: 0.9040 - val_loss: 0.2472 - val_accuracy: 0.8511\n",
            "Epoch 32/90\n",
            "323/323 [==============================] - 4s 12ms/step - loss: 0.2103 - accuracy: 0.9009 - val_loss: 0.2484 - val_accuracy: 0.8511\n",
            "Epoch 33/90\n",
            "323/323 [==============================] - 4s 12ms/step - loss: 0.2010 - accuracy: 0.9133 - val_loss: 0.2311 - val_accuracy: 0.8723\n",
            "Epoch 34/90\n",
            "323/323 [==============================] - 4s 12ms/step - loss: 0.2048 - accuracy: 0.9009 - val_loss: 0.2429 - val_accuracy: 0.8511\n",
            "Epoch 35/90\n",
            "323/323 [==============================] - 4s 11ms/step - loss: 0.2038 - accuracy: 0.8885 - val_loss: 0.2311 - val_accuracy: 0.8298\n",
            "Epoch 36/90\n",
            "323/323 [==============================] - 4s 11ms/step - loss: 0.2252 - accuracy: 0.8793 - val_loss: 0.2383 - val_accuracy: 0.8723\n",
            "Epoch 37/90\n",
            "323/323 [==============================] - 4s 12ms/step - loss: 0.1905 - accuracy: 0.9071 - val_loss: 0.2093 - val_accuracy: 0.8723\n",
            "Epoch 38/90\n",
            "323/323 [==============================] - 4s 12ms/step - loss: 0.1772 - accuracy: 0.9133 - val_loss: 0.2361 - val_accuracy: 0.8723\n",
            "Epoch 39/90\n",
            "323/323 [==============================] - 4s 12ms/step - loss: 0.1867 - accuracy: 0.9102 - val_loss: 0.2024 - val_accuracy: 0.8511\n",
            "Epoch 40/90\n",
            "323/323 [==============================] - 4s 12ms/step - loss: 0.1843 - accuracy: 0.8978 - val_loss: 0.2167 - val_accuracy: 0.8723\n",
            "Epoch 41/90\n",
            "323/323 [==============================] - 4s 12ms/step - loss: 0.1705 - accuracy: 0.9257 - val_loss: 0.1993 - val_accuracy: 0.8723\n",
            "Epoch 42/90\n",
            "323/323 [==============================] - 4s 12ms/step - loss: 0.1725 - accuracy: 0.9164 - val_loss: 0.2040 - val_accuracy: 0.8511\n",
            "Epoch 43/90\n",
            "323/323 [==============================] - 4s 12ms/step - loss: 0.1950 - accuracy: 0.8947 - val_loss: 0.2115 - val_accuracy: 0.8936\n",
            "Epoch 44/90\n",
            "323/323 [==============================] - 4s 12ms/step - loss: 0.1853 - accuracy: 0.9102 - val_loss: 0.2195 - val_accuracy: 0.8298\n",
            "Epoch 45/90\n",
            "323/323 [==============================] - 4s 12ms/step - loss: 0.1731 - accuracy: 0.9195 - val_loss: 0.2013 - val_accuracy: 0.8723\n",
            "Epoch 46/90\n",
            "323/323 [==============================] - 4s 12ms/step - loss: 0.1680 - accuracy: 0.9226 - val_loss: 0.1951 - val_accuracy: 0.8936\n",
            "Epoch 47/90\n",
            "323/323 [==============================] - 4s 12ms/step - loss: 0.1636 - accuracy: 0.9288 - val_loss: 0.1868 - val_accuracy: 0.8511\n",
            "Epoch 48/90\n",
            "323/323 [==============================] - 4s 12ms/step - loss: 0.1537 - accuracy: 0.9412 - val_loss: 0.2005 - val_accuracy: 0.8511\n",
            "Epoch 49/90\n",
            "323/323 [==============================] - 4s 12ms/step - loss: 0.1638 - accuracy: 0.9381 - val_loss: 0.1940 - val_accuracy: 0.8723\n",
            "Epoch 50/90\n",
            "323/323 [==============================] - 4s 12ms/step - loss: 0.1511 - accuracy: 0.9505 - val_loss: 0.1748 - val_accuracy: 0.9149\n",
            "Epoch 51/90\n",
            "323/323 [==============================] - 4s 12ms/step - loss: 0.1511 - accuracy: 0.9474 - val_loss: 0.1732 - val_accuracy: 0.8936\n",
            "Epoch 52/90\n",
            "323/323 [==============================] - 4s 12ms/step - loss: 0.1419 - accuracy: 0.9505 - val_loss: 0.1578 - val_accuracy: 0.9149\n",
            "Epoch 53/90\n",
            "323/323 [==============================] - 4s 11ms/step - loss: 0.1629 - accuracy: 0.9350 - val_loss: 0.1726 - val_accuracy: 0.9149\n",
            "Epoch 54/90\n",
            "323/323 [==============================] - 4s 12ms/step - loss: 0.1322 - accuracy: 0.9567 - val_loss: 0.1669 - val_accuracy: 0.9149\n",
            "Epoch 55/90\n",
            "323/323 [==============================] - 4s 12ms/step - loss: 0.1266 - accuracy: 0.9598 - val_loss: 0.1779 - val_accuracy: 0.9149\n",
            "Epoch 56/90\n",
            "323/323 [==============================] - 4s 12ms/step - loss: 0.1277 - accuracy: 0.9505 - val_loss: 0.1764 - val_accuracy: 0.9149\n",
            "Epoch 57/90\n",
            "323/323 [==============================] - 4s 12ms/step - loss: 0.1249 - accuracy: 0.9536 - val_loss: 0.1628 - val_accuracy: 0.9362\n",
            "Epoch 58/90\n",
            "323/323 [==============================] - 4s 12ms/step - loss: 0.1169 - accuracy: 0.9598 - val_loss: 0.1584 - val_accuracy: 0.8936\n",
            "Epoch 59/90\n",
            "323/323 [==============================] - 4s 12ms/step - loss: 0.1368 - accuracy: 0.9381 - val_loss: 0.1508 - val_accuracy: 0.9362\n",
            "Epoch 60/90\n",
            "323/323 [==============================] - 4s 12ms/step - loss: 0.1224 - accuracy: 0.9536 - val_loss: 0.1526 - val_accuracy: 0.9149\n",
            "Epoch 61/90\n",
            "323/323 [==============================] - 4s 12ms/step - loss: 0.1324 - accuracy: 0.9536 - val_loss: 0.1767 - val_accuracy: 0.8936\n",
            "Epoch 62/90\n",
            "323/323 [==============================] - 4s 11ms/step - loss: 0.1160 - accuracy: 0.9567 - val_loss: 0.1470 - val_accuracy: 0.9149\n",
            "Epoch 63/90\n",
            "323/323 [==============================] - 4s 12ms/step - loss: 0.1080 - accuracy: 0.9659 - val_loss: 0.1442 - val_accuracy: 0.9574\n",
            "Epoch 64/90\n",
            "323/323 [==============================] - 4s 12ms/step - loss: 0.1091 - accuracy: 0.9598 - val_loss: 0.1475 - val_accuracy: 0.9362\n",
            "Epoch 65/90\n",
            "323/323 [==============================] - 4s 12ms/step - loss: 0.0999 - accuracy: 0.9721 - val_loss: 0.1483 - val_accuracy: 0.9149\n",
            "Epoch 66/90\n",
            "323/323 [==============================] - 4s 12ms/step - loss: 0.0966 - accuracy: 0.9659 - val_loss: 0.1416 - val_accuracy: 0.9362\n",
            "Epoch 67/90\n",
            "323/323 [==============================] - 4s 11ms/step - loss: 0.0934 - accuracy: 0.9690 - val_loss: 0.1272 - val_accuracy: 0.9574\n",
            "Epoch 68/90\n",
            "323/323 [==============================] - 4s 12ms/step - loss: 0.0938 - accuracy: 0.9752 - val_loss: 0.1303 - val_accuracy: 0.9362\n",
            "Epoch 69/90\n",
            "323/323 [==============================] - 4s 12ms/step - loss: 0.0890 - accuracy: 0.9783 - val_loss: 0.1351 - val_accuracy: 0.9362\n",
            "Epoch 70/90\n",
            "323/323 [==============================] - 4s 12ms/step - loss: 0.0927 - accuracy: 0.9752 - val_loss: 0.1402 - val_accuracy: 0.9149\n",
            "Epoch 71/90\n",
            "323/323 [==============================] - 4s 12ms/step - loss: 0.0936 - accuracy: 0.9752 - val_loss: 0.1290 - val_accuracy: 0.9574\n",
            "Epoch 72/90\n",
            "323/323 [==============================] - 4s 12ms/step - loss: 0.0995 - accuracy: 0.9598 - val_loss: 0.1129 - val_accuracy: 0.9362\n",
            "Epoch 73/90\n",
            "323/323 [==============================] - 4s 12ms/step - loss: 0.0907 - accuracy: 0.9659 - val_loss: 0.1419 - val_accuracy: 0.9149\n",
            "Epoch 74/90\n",
            "323/323 [==============================] - 4s 13ms/step - loss: 0.0830 - accuracy: 0.9659 - val_loss: 0.1309 - val_accuracy: 0.9362\n",
            "Epoch 75/90\n",
            "323/323 [==============================] - 5s 17ms/step - loss: 0.0821 - accuracy: 0.9814 - val_loss: 0.1226 - val_accuracy: 0.9574\n",
            "Epoch 76/90\n",
            "323/323 [==============================] - 4s 12ms/step - loss: 0.1000 - accuracy: 0.9659 - val_loss: 0.1736 - val_accuracy: 0.9149\n",
            "Epoch 77/90\n",
            "323/323 [==============================] - 4s 12ms/step - loss: 0.1116 - accuracy: 0.9381 - val_loss: 0.1341 - val_accuracy: 0.9362\n",
            "Epoch 78/90\n",
            "323/323 [==============================] - 4s 12ms/step - loss: 0.0933 - accuracy: 0.9567 - val_loss: 0.1596 - val_accuracy: 0.9149\n",
            "Epoch 79/90\n",
            "323/323 [==============================] - 4s 12ms/step - loss: 0.1199 - accuracy: 0.9474 - val_loss: 0.1415 - val_accuracy: 0.9149\n",
            "Epoch 80/90\n",
            "323/323 [==============================] - 4s 12ms/step - loss: 0.1015 - accuracy: 0.9628 - val_loss: 0.1625 - val_accuracy: 0.9149\n",
            "Epoch 81/90\n",
            "323/323 [==============================] - 4s 12ms/step - loss: 0.1435 - accuracy: 0.9288 - val_loss: 0.2511 - val_accuracy: 0.8936\n",
            "Epoch 82/90\n",
            "323/323 [==============================] - 4s 12ms/step - loss: 0.1573 - accuracy: 0.9443 - val_loss: 0.1141 - val_accuracy: 0.9574\n",
            "Epoch 83/90\n",
            "323/323 [==============================] - 4s 12ms/step - loss: 0.0908 - accuracy: 0.9783 - val_loss: 0.1507 - val_accuracy: 0.9787\n",
            "Epoch 84/90\n",
            "323/323 [==============================] - 4s 12ms/step - loss: 0.0726 - accuracy: 0.9876 - val_loss: 0.1142 - val_accuracy: 0.9574\n",
            "Epoch 85/90\n",
            "323/323 [==============================] - 4s 12ms/step - loss: 0.0942 - accuracy: 0.9814 - val_loss: 0.1496 - val_accuracy: 0.9149\n",
            "Epoch 86/90\n",
            "323/323 [==============================] - 4s 12ms/step - loss: 0.1088 - accuracy: 0.9752 - val_loss: 0.1253 - val_accuracy: 0.9787\n",
            "Epoch 87/90\n",
            "323/323 [==============================] - 4s 12ms/step - loss: 0.0762 - accuracy: 0.9876 - val_loss: 0.0946 - val_accuracy: 0.9787\n",
            "Epoch 88/90\n",
            "323/323 [==============================] - 4s 12ms/step - loss: 0.0669 - accuracy: 0.9938 - val_loss: 0.1028 - val_accuracy: 0.9574\n",
            "Epoch 89/90\n",
            "323/323 [==============================] - 4s 12ms/step - loss: 0.0645 - accuracy: 0.9938 - val_loss: 0.0986 - val_accuracy: 0.9574\n",
            "Epoch 90/90\n",
            "323/323 [==============================] - 4s 12ms/step - loss: 0.0627 - accuracy: 0.9938 - val_loss: 0.0912 - val_accuracy: 0.9787\n"
          ]
        },
        {
          "output_type": "execute_result",
          "data": {
            "text/plain": [
              "<keras.callbacks.History at 0x7f29abffdb10>"
            ]
          },
          "metadata": {},
          "execution_count": 161
        }
      ]
    },
    {
      "cell_type": "code",
      "source": [
        "evaluate_ensemble(model=ensemble_mixed, x_datas=x_test, y_datas=y_test)"
      ],
      "metadata": {
        "colab": {
          "base_uri": "https://localhost:8080/"
        },
        "id": "TKouvifnVi-w",
        "outputId": "7872dd79-219d-4fbe-e6e6-650bbb4a41a1"
      },
      "execution_count": 162,
      "outputs": [
        {
          "output_type": "execute_result",
          "data": {
            "text/plain": [
              "0.967741935483871"
            ]
          },
          "metadata": {},
          "execution_count": 162
        }
      ]
    },
    {
      "cell_type": "code",
      "source": [
        "# %tensorboard --logdir '/content/drive/MyDrive/logs'"
      ],
      "metadata": {
        "id": "gWJfM6M9Jous"
      },
      "execution_count": 24,
      "outputs": []
    },
    {
      "cell_type": "code",
      "source": [
        ""
      ],
      "metadata": {
        "id": "oHEINlPJJous"
      },
      "execution_count": null,
      "outputs": []
    },
    {
      "cell_type": "code",
      "source": [
        ""
      ],
      "metadata": {
        "id": "J-2vH9rvH5g5"
      },
      "execution_count": null,
      "outputs": []
    },
    {
      "cell_type": "code",
      "source": [
        ""
      ],
      "metadata": {
        "id": "QlQu5xfJNvHr"
      },
      "execution_count": null,
      "outputs": []
    },
    {
      "cell_type": "markdown",
      "source": [
        "## Random Input"
      ],
      "metadata": {
        "id": "oLM7ARDfNxi2"
      }
    },
    {
      "cell_type": "code",
      "source": [
        "def stacked_ensemble(models):\n",
        "  for i, model in enumerate(models):\n",
        "    model.trainable = True\n",
        "    for layer in model.layers:\n",
        "      layer._name = 'ensemble_' + str(i + 1) + '_' + layer.name\n",
        "\n",
        "  ensemble_visible = [model.input for model in models]\n",
        "  ensemble_outputs = [model.output for model in models]\n",
        "  merge = concatenate(ensemble_outputs)\n",
        "  output = Dense(1, activation='sigmoid')(merge)\n",
        "  output = Flatten()(output)\n",
        "  \n",
        "  model = Model(inputs=ensemble_visible, outputs=output)\n",
        "  model.compile(loss='binary_crossentropy', optimizer='adam', metrics=['accuracy'])\n",
        "\n",
        "  return model"
      ],
      "metadata": {
        "id": "Ivn-3eNSOJB_"
      },
      "execution_count": 25,
      "outputs": []
    },
    {
      "cell_type": "code",
      "source": [
        "def freezer(model, index):\n",
        "  idx = 0\n",
        "  model.trainable=True\n",
        "  for layer in model.layers:\n",
        "    if 'jordan' in layer.name or 'elman' in layer.name:\n",
        "      if idx == index:\n",
        "        layer.trainable = True\n",
        "        idx += 1\n",
        "\n",
        "      else:\n",
        "        layer.trainable = False\n",
        "        idx += 1\n",
        "  return model"
      ],
      "metadata": {
        "id": "C9e-WIW7XR-P"
      },
      "execution_count": 56,
      "outputs": []
    },
    {
      "cell_type": "code",
      "source": [
        "mixed_models_random_input = []\n",
        "neurons = [25, 45, 15]\n",
        "\n",
        "for neuron in neurons[1:]:\n",
        "  jordan1 = Jordan(input_dim=15, hidden_units=neuron, feature_size=6, n_classes=1)\n",
        "  jordan1.compile(optimizer='adam', loss='binary_crossentropy', metrics=['accuracy'])\n",
        "  input = tf.keras.Input(shape=(15, 6, ))\n",
        "  model = Model(input, jordan1(input))\n",
        "  mixed_models_random_input.append(model)\n",
        "\n",
        "for neuron in neurons[:-1]:\n",
        "  elman1 = Elman(input_dim=15, hidden_units=neuron, feature_size=6, n_classes=1)\n",
        "  elman1.compile(optimizer='adam', loss='binary_crossentropy', metrics=['accuracy'])\n",
        "  input = tf.keras.Input(shape=(15, 6, ))\n",
        "  model = Model(input, elman1(input))\n",
        "  mixed_models_random_input.append(model)"
      ],
      "metadata": {
        "id": "aTlm-IXWNwLJ"
      },
      "execution_count": 88,
      "outputs": []
    },
    {
      "cell_type": "code",
      "source": [
        "ensemble_mixed_random_input = stacked_ensemble(mixed_models_random_input)"
      ],
      "metadata": {
        "id": "-SyjKOxMXC5G"
      },
      "execution_count": 89,
      "outputs": []
    },
    {
      "cell_type": "code",
      "source": [
        "plot_model(ensemble_mixed_random_input, show_shapes=True, show_layer_names=True, expand_nested=True)"
      ],
      "metadata": {
        "colab": {
          "base_uri": "https://localhost:8080/",
          "height": 377
        },
        "id": "R5LFySQ2pwUZ",
        "outputId": "3fc6bd3e-4ccb-4c09-f333-6c207b238070"
      },
      "execution_count": 90,
      "outputs": [
        {
          "output_type": "execute_result",
          "data": {
            "text/plain": [
              "<IPython.core.display.Image object>"
            ],
            "image/png": "[encoded data removed]"
          },
          "metadata": {},
          "execution_count": 90
        }
      ]
    },
    {
      "cell_type": "code",
      "source": [
        "x_train.shape"
      ],
      "metadata": {
        "colab": {
          "base_uri": "https://localhost:8080/"
        },
        "id": "qYOlAQDdXAAO",
        "outputId": "8fd88f09-0cc9-4edb-ee79-d385751bb345"
      },
      "execution_count": 76,
      "outputs": [
        {
          "output_type": "execute_result",
          "data": {
            "text/plain": [
              "(323, 15, 6)"
            ]
          },
          "metadata": {},
          "execution_count": 76
        }
      ]
    },
    {
      "cell_type": "code",
      "source": [
        "models_cnt = len(ensemble_mixed_random_input.input)\n",
        "diff = models_cnt + 1 - np.mod(x_train.shape[0], models_cnt + 1)\n",
        "x_train_agu = np.append(x_train, [x_train[i] for i in range(diff)], axis=0) # add some data to have a equal chunks = here we have 323 datas which needs to add 1 data -> 324 mod 4 = 0\n",
        "\n",
        "y_train_agu = y_train.copy()\n",
        "for i in range(diff):\n",
        "  y_train_agu = np.append(y_train_agu, y_train[i])\n",
        "\n",
        "x_train_chunks = np.array(np.array_split(x_train_agu, models_cnt + 1))\n",
        "y_train_chunks = np.array_split(y_train_agu, models_cnt + 1)"
      ],
      "metadata": {
        "id": "oRXkQV24DUnE"
      },
      "execution_count": 77,
      "outputs": []
    },
    {
      "cell_type": "code",
      "source": [
        "x_train_agu.shape"
      ],
      "metadata": {
        "colab": {
          "base_uri": "https://localhost:8080/"
        },
        "id": "jR4VCM87W4uu",
        "outputId": "8437e72a-b117-405e-a294-d0adf1f8e20d"
      },
      "execution_count": 78,
      "outputs": [
        {
          "output_type": "execute_result",
          "data": {
            "text/plain": [
              "(325, 15, 6)"
            ]
          },
          "metadata": {},
          "execution_count": 78
        }
      ]
    },
    {
      "cell_type": "code",
      "source": [
        "x_train_chunks.shape"
      ],
      "metadata": {
        "colab": {
          "base_uri": "https://localhost:8080/"
        },
        "id": "Lz1QKS1sXDyl",
        "outputId": "91db6a0a-5304-4315-d681-ca75856f5c0a"
      },
      "execution_count": 79,
      "outputs": [
        {
          "output_type": "execute_result",
          "data": {
            "text/plain": [
              "(5, 65, 15, 6)"
            ]
          },
          "metadata": {},
          "execution_count": 79
        }
      ]
    },
    {
      "cell_type": "code",
      "source": [
        ""
      ],
      "metadata": {
        "id": "4pALb4Z8OYNH"
      },
      "execution_count": 79,
      "outputs": []
    },
    {
      "cell_type": "code",
      "source": [
        "ensemble_mixed_random_input.compile(optimizer=tf.keras.optimizers.Adam(0.01), loss='binary_crossentropy', metrics=['accuracy'])\n",
        "X = [x_train_chunks[0] for _ in range(models_cnt)]\n",
        "val = [x_val for _ in range(models_cnt)]\n",
        "ensemble_mixed_random_input.fit(X, y_train_chunks[0], batch_size=1, epochs=30, validation_data=(val, y_val), callbacks=[tb_callback])\n",
        "\n",
        "for i, x_chunk, y_chunk in zip(range(models_cnt), x_train_chunks[1:], y_train_chunks[1:]):\n",
        "  model = freezer(ensemble_mixed_random_input, i)\n",
        "  model.compile(optimizer=tf.keras.optimizers.Adam(0.01), loss='binary_crossentropy', metrics=['accuracy'])\n",
        "\n",
        "  X = [x_chunk for _ in range(models_cnt)]\n",
        "  val = [x_val for _ in range(models_cnt)]\n",
        "\n",
        "  model.fit(X, y_chunk, batch_size=1, epochs=50, validation_data=(val, y_val), callbacks=[tb_callback])"
      ],
      "metadata": {
        "colab": {
          "base_uri": "https://localhost:8080/"
        },
        "id": "_5RjSYcyNwLJ",
        "outputId": "4f934f44-4e96-4472-85ed-5885c3697af4"
      },
      "execution_count": 80,
      "outputs": [
        {
          "output_type": "stream",
          "name": "stdout",
          "text": [
            "WARNING:tensorflow:Model failed to serialize as JSON. Ignoring... \n",
            "Epoch 1/30\n",
            "65/65 [==============================] - 7s 28ms/step - loss: 0.5904 - accuracy: 0.7077 - val_loss: 0.4598 - val_accuracy: 0.8085\n",
            "Epoch 2/30\n",
            "65/65 [==============================] - 0s 7ms/step - loss: 0.5054 - accuracy: 0.7077 - val_loss: 0.4283 - val_accuracy: 0.8085\n",
            "Epoch 3/30\n",
            "65/65 [==============================] - 0s 6ms/step - loss: 0.4771 - accuracy: 0.7077 - val_loss: 0.4140 - val_accuracy: 0.8085\n",
            "Epoch 4/30\n",
            "65/65 [==============================] - 0s 7ms/step - loss: 0.4454 - accuracy: 0.6769 - val_loss: 0.4506 - val_accuracy: 0.6383\n",
            "Epoch 5/30\n",
            "65/65 [==============================] - 0s 7ms/step - loss: 0.4387 - accuracy: 0.6615 - val_loss: 0.4216 - val_accuracy: 0.7021\n",
            "Epoch 6/30\n",
            "65/65 [==============================] - 0s 6ms/step - loss: 0.4194 - accuracy: 0.7385 - val_loss: 0.3904 - val_accuracy: 0.8723\n",
            "Epoch 7/30\n",
            "65/65 [==============================] - 0s 6ms/step - loss: 0.4030 - accuracy: 0.7692 - val_loss: 0.4026 - val_accuracy: 0.7021\n",
            "Epoch 8/30\n",
            "65/65 [==============================] - 0s 6ms/step - loss: 0.3920 - accuracy: 0.7692 - val_loss: 0.3862 - val_accuracy: 0.7660\n",
            "Epoch 9/30\n",
            "65/65 [==============================] - 0s 7ms/step - loss: 0.3820 - accuracy: 0.8000 - val_loss: 0.3620 - val_accuracy: 0.8511\n",
            "Epoch 10/30\n",
            "65/65 [==============================] - 0s 6ms/step - loss: 0.3634 - accuracy: 0.8769 - val_loss: 0.3909 - val_accuracy: 0.7234\n",
            "Epoch 11/30\n",
            "65/65 [==============================] - 0s 7ms/step - loss: 0.3667 - accuracy: 0.7692 - val_loss: 0.3821 - val_accuracy: 0.6809\n",
            "Epoch 12/30\n",
            "65/65 [==============================] - 0s 6ms/step - loss: 0.3697 - accuracy: 0.7692 - val_loss: 0.3420 - val_accuracy: 0.8723\n",
            "Epoch 13/30\n",
            "65/65 [==============================] - 0s 6ms/step - loss: 0.3899 - accuracy: 0.7538 - val_loss: 0.4179 - val_accuracy: 0.6596\n",
            "Epoch 14/30\n",
            "65/65 [==============================] - 0s 6ms/step - loss: 0.3694 - accuracy: 0.7231 - val_loss: 0.3344 - val_accuracy: 0.8723\n",
            "Epoch 15/30\n",
            "65/65 [==============================] - 0s 6ms/step - loss: 0.3518 - accuracy: 0.8308 - val_loss: 0.3170 - val_accuracy: 0.8723\n",
            "Epoch 16/30\n",
            "65/65 [==============================] - 0s 6ms/step - loss: 0.3529 - accuracy: 0.8154 - val_loss: 0.3591 - val_accuracy: 0.7234\n",
            "Epoch 17/30\n",
            "65/65 [==============================] - 0s 7ms/step - loss: 0.3553 - accuracy: 0.8000 - val_loss: 0.3241 - val_accuracy: 0.8723\n",
            "Epoch 18/30\n",
            "65/65 [==============================] - 0s 8ms/step - loss: 0.3390 - accuracy: 0.7846 - val_loss: 0.3265 - val_accuracy: 0.8723\n",
            "Epoch 19/30\n",
            "65/65 [==============================] - 0s 7ms/step - loss: 0.3565 - accuracy: 0.7385 - val_loss: 0.3053 - val_accuracy: 0.8936\n",
            "Epoch 20/30\n",
            "65/65 [==============================] - 0s 7ms/step - loss: 0.3620 - accuracy: 0.8000 - val_loss: 0.3520 - val_accuracy: 0.8511\n",
            "Epoch 21/30\n",
            "65/65 [==============================] - 0s 6ms/step - loss: 0.3424 - accuracy: 0.7846 - val_loss: 0.3184 - val_accuracy: 0.8298\n",
            "Epoch 22/30\n",
            "65/65 [==============================] - 0s 7ms/step - loss: 0.3573 - accuracy: 0.8154 - val_loss: 0.4178 - val_accuracy: 0.7021\n",
            "Epoch 23/30\n",
            "65/65 [==============================] - 0s 7ms/step - loss: 0.3608 - accuracy: 0.8000 - val_loss: 0.3476 - val_accuracy: 0.8298\n",
            "Epoch 24/30\n",
            "65/65 [==============================] - 0s 6ms/step - loss: 0.3437 - accuracy: 0.8000 - val_loss: 0.2978 - val_accuracy: 0.8723\n",
            "Epoch 25/30\n",
            "65/65 [==============================] - 0s 7ms/step - loss: 0.3213 - accuracy: 0.8308 - val_loss: 0.2902 - val_accuracy: 0.8936\n",
            "Epoch 26/30\n",
            "65/65 [==============================] - 0s 6ms/step - loss: 0.3145 - accuracy: 0.8615 - val_loss: 0.3547 - val_accuracy: 0.7660\n",
            "Epoch 27/30\n",
            "65/65 [==============================] - 1s 8ms/step - loss: 0.3159 - accuracy: 0.8154 - val_loss: 0.2874 - val_accuracy: 0.8936\n",
            "Epoch 28/30\n",
            "65/65 [==============================] - 0s 7ms/step - loss: 0.2951 - accuracy: 0.8615 - val_loss: 0.3395 - val_accuracy: 0.7660\n",
            "Epoch 29/30\n",
            "65/65 [==============================] - 0s 7ms/step - loss: 0.3121 - accuracy: 0.8154 - val_loss: 0.3350 - val_accuracy: 0.7660\n",
            "Epoch 30/30\n",
            "65/65 [==============================] - 0s 7ms/step - loss: 0.2940 - accuracy: 0.8462 - val_loss: 0.3334 - val_accuracy: 0.7660\n",
            "WARNING:tensorflow:Model failed to serialize as JSON. Ignoring... \n",
            "Epoch 1/50\n",
            "65/65 [==============================] - 5s 27ms/step - loss: 0.2848 - accuracy: 0.8462 - val_loss: 0.3295 - val_accuracy: 0.7660\n",
            "Epoch 2/50\n",
            "65/65 [==============================] - 0s 5ms/step - loss: 0.2698 - accuracy: 0.8769 - val_loss: 0.2667 - val_accuracy: 0.8298\n",
            "Epoch 3/50\n",
            "65/65 [==============================] - 0s 6ms/step - loss: 0.2712 - accuracy: 0.8462 - val_loss: 0.3475 - val_accuracy: 0.7660\n",
            "Epoch 4/50\n",
            "65/65 [==============================] - 0s 5ms/step - loss: 0.2082 - accuracy: 0.8923 - val_loss: 0.2766 - val_accuracy: 0.8936\n",
            "Epoch 5/50\n",
            "65/65 [==============================] - 0s 6ms/step - loss: 0.2734 - accuracy: 0.8615 - val_loss: 0.3712 - val_accuracy: 0.7021\n",
            "Epoch 6/50\n",
            "65/65 [==============================] - 0s 5ms/step - loss: 0.2651 - accuracy: 0.8923 - val_loss: 0.2995 - val_accuracy: 0.8936\n",
            "Epoch 7/50\n",
            "65/65 [==============================] - 0s 6ms/step - loss: 0.3648 - accuracy: 0.7846 - val_loss: 0.3009 - val_accuracy: 0.8936\n",
            "Epoch 8/50\n",
            "65/65 [==============================] - 0s 6ms/step - loss: 0.3378 - accuracy: 0.7846 - val_loss: 0.3111 - val_accuracy: 0.8936\n",
            "Epoch 9/50\n",
            "65/65 [==============================] - 0s 5ms/step - loss: 0.3202 - accuracy: 0.7846 - val_loss: 0.3165 - val_accuracy: 0.8723\n",
            "Epoch 10/50\n",
            "65/65 [==============================] - 0s 6ms/step - loss: 0.3151 - accuracy: 0.8154 - val_loss: 0.3290 - val_accuracy: 0.7660\n",
            "Epoch 11/50\n",
            "65/65 [==============================] - 0s 6ms/step - loss: 0.3105 - accuracy: 0.8308 - val_loss: 0.3301 - val_accuracy: 0.7660\n",
            "Epoch 12/50\n",
            "65/65 [==============================] - 0s 6ms/step - loss: 0.3079 - accuracy: 0.8308 - val_loss: 0.3365 - val_accuracy: 0.7660\n",
            "Epoch 13/50\n",
            "65/65 [==============================] - 0s 6ms/step - loss: 0.3024 - accuracy: 0.8308 - val_loss: 0.3716 - val_accuracy: 0.7234\n",
            "Epoch 14/50\n",
            "65/65 [==============================] - 0s 5ms/step - loss: 0.2976 - accuracy: 0.8308 - val_loss: 0.3390 - val_accuracy: 0.7447\n",
            "Epoch 15/50\n",
            "65/65 [==============================] - 0s 5ms/step - loss: 0.3020 - accuracy: 0.8462 - val_loss: 0.3375 - val_accuracy: 0.7447\n",
            "Epoch 16/50\n",
            "65/65 [==============================] - 0s 6ms/step - loss: 0.2961 - accuracy: 0.8154 - val_loss: 0.3786 - val_accuracy: 0.7234\n",
            "Epoch 17/50\n",
            "65/65 [==============================] - 0s 6ms/step - loss: 0.3005 - accuracy: 0.8154 - val_loss: 0.3346 - val_accuracy: 0.7447\n",
            "Epoch 18/50\n",
            "65/65 [==============================] - 0s 5ms/step - loss: 0.3016 - accuracy: 0.8462 - val_loss: 0.3392 - val_accuracy: 0.7234\n",
            "Epoch 19/50\n",
            "65/65 [==============================] - 0s 6ms/step - loss: 0.2934 - accuracy: 0.8615 - val_loss: 0.3532 - val_accuracy: 0.7447\n",
            "Epoch 20/50\n",
            "65/65 [==============================] - 0s 6ms/step - loss: 0.2864 - accuracy: 0.8308 - val_loss: 0.4289 - val_accuracy: 0.7021\n",
            "Epoch 21/50\n",
            "65/65 [==============================] - 0s 6ms/step - loss: 0.3304 - accuracy: 0.7846 - val_loss: 0.3860 - val_accuracy: 0.7021\n",
            "Epoch 22/50\n",
            "65/65 [==============================] - 0s 6ms/step - loss: 0.2773 - accuracy: 0.8154 - val_loss: 0.3436 - val_accuracy: 0.7234\n",
            "Epoch 23/50\n",
            "65/65 [==============================] - 0s 6ms/step - loss: 0.2731 - accuracy: 0.8615 - val_loss: 0.3292 - val_accuracy: 0.7234\n",
            "Epoch 24/50\n",
            "65/65 [==============================] - 0s 6ms/step - loss: 0.2771 - accuracy: 0.8615 - val_loss: 0.3948 - val_accuracy: 0.7234\n",
            "Epoch 25/50\n",
            "65/65 [==============================] - 0s 5ms/step - loss: 0.2735 - accuracy: 0.8154 - val_loss: 0.3505 - val_accuracy: 0.7234\n",
            "Epoch 26/50\n",
            "65/65 [==============================] - 0s 6ms/step - loss: 0.2733 - accuracy: 0.8462 - val_loss: 0.3474 - val_accuracy: 0.7234\n",
            "Epoch 27/50\n",
            "65/65 [==============================] - 0s 5ms/step - loss: 0.2597 - accuracy: 0.8769 - val_loss: 0.3457 - val_accuracy: 0.7234\n",
            "Epoch 28/50\n",
            "65/65 [==============================] - 0s 7ms/step - loss: 0.2869 - accuracy: 0.8462 - val_loss: 0.3188 - val_accuracy: 0.7872\n",
            "Epoch 29/50\n",
            "65/65 [==============================] - 0s 6ms/step - loss: 0.2383 - accuracy: 0.8769 - val_loss: 0.3415 - val_accuracy: 0.7872\n",
            "Epoch 30/50\n",
            "65/65 [==============================] - 0s 6ms/step - loss: 0.2215 - accuracy: 0.9385 - val_loss: 0.3144 - val_accuracy: 0.8085\n",
            "Epoch 31/50\n",
            "65/65 [==============================] - 0s 6ms/step - loss: 0.2259 - accuracy: 0.8923 - val_loss: 0.4085 - val_accuracy: 0.7447\n",
            "Epoch 32/50\n",
            "65/65 [==============================] - 0s 5ms/step - loss: 0.2477 - accuracy: 0.8769 - val_loss: 0.3722 - val_accuracy: 0.7447\n",
            "Epoch 33/50\n",
            "65/65 [==============================] - 0s 6ms/step - loss: 0.2503 - accuracy: 0.8615 - val_loss: 0.2752 - val_accuracy: 0.8511\n",
            "Epoch 34/50\n",
            "65/65 [==============================] - 0s 7ms/step - loss: 0.2235 - accuracy: 0.8308 - val_loss: 0.3510 - val_accuracy: 0.7447\n",
            "Epoch 35/50\n",
            "65/65 [==============================] - 0s 5ms/step - loss: 0.2004 - accuracy: 0.8923 - val_loss: 0.4010 - val_accuracy: 0.7447\n",
            "Epoch 36/50\n",
            "65/65 [==============================] - 0s 6ms/step - loss: 0.2133 - accuracy: 0.8923 - val_loss: 0.4393 - val_accuracy: 0.7447\n",
            "Epoch 37/50\n",
            "65/65 [==============================] - 0s 5ms/step - loss: 0.2247 - accuracy: 0.8769 - val_loss: 0.5142 - val_accuracy: 0.7234\n",
            "Epoch 38/50\n",
            "65/65 [==============================] - 0s 7ms/step - loss: 0.2740 - accuracy: 0.8462 - val_loss: 0.4139 - val_accuracy: 0.7660\n",
            "Epoch 39/50\n",
            "65/65 [==============================] - 0s 5ms/step - loss: 0.2498 - accuracy: 0.8615 - val_loss: 0.3322 - val_accuracy: 0.7872\n",
            "Epoch 40/50\n",
            "65/65 [==============================] - 0s 6ms/step - loss: 0.2467 - accuracy: 0.8769 - val_loss: 0.3309 - val_accuracy: 0.7447\n",
            "Epoch 41/50\n",
            "65/65 [==============================] - 0s 5ms/step - loss: 0.2556 - accuracy: 0.8769 - val_loss: 0.3267 - val_accuracy: 0.7872\n",
            "Epoch 42/50\n",
            "65/65 [==============================] - 0s 6ms/step - loss: 0.2423 - accuracy: 0.8923 - val_loss: 0.3106 - val_accuracy: 0.7660\n",
            "Epoch 43/50\n",
            "65/65 [==============================] - 0s 5ms/step - loss: 0.2220 - accuracy: 0.8769 - val_loss: 0.2702 - val_accuracy: 0.9149\n",
            "Epoch 44/50\n",
            "65/65 [==============================] - 0s 5ms/step - loss: 0.2295 - accuracy: 0.8615 - val_loss: 0.3005 - val_accuracy: 0.8085\n",
            "Epoch 45/50\n",
            "65/65 [==============================] - 0s 5ms/step - loss: 0.2725 - accuracy: 0.8462 - val_loss: 0.2930 - val_accuracy: 0.8085\n",
            "Epoch 46/50\n",
            "65/65 [==============================] - 0s 6ms/step - loss: 0.2296 - accuracy: 0.9077 - val_loss: 0.3124 - val_accuracy: 0.7660\n",
            "Epoch 47/50\n",
            "65/65 [==============================] - 0s 6ms/step - loss: 0.2186 - accuracy: 0.8923 - val_loss: 0.3604 - val_accuracy: 0.7872\n",
            "Epoch 48/50\n",
            "65/65 [==============================] - 0s 6ms/step - loss: 0.2061 - accuracy: 0.8615 - val_loss: 0.3708 - val_accuracy: 0.7660\n",
            "Epoch 49/50\n",
            "65/65 [==============================] - 0s 5ms/step - loss: 0.1815 - accuracy: 0.9077 - val_loss: 0.4122 - val_accuracy: 0.7447\n",
            "Epoch 50/50\n",
            "65/65 [==============================] - 0s 6ms/step - loss: 0.1707 - accuracy: 0.9231 - val_loss: 0.4205 - val_accuracy: 0.7234\n",
            "WARNING:tensorflow:Model failed to serialize as JSON. Ignoring... \n",
            "Epoch 1/50\n",
            "65/65 [==============================] - 6s 33ms/step - loss: 0.3408 - accuracy: 0.8308 - val_loss: 0.3687 - val_accuracy: 0.7447\n",
            "Epoch 2/50\n",
            "65/65 [==============================] - 0s 5ms/step - loss: 0.3915 - accuracy: 0.8000 - val_loss: 0.3421 - val_accuracy: 0.7872\n",
            "Epoch 3/50\n",
            "65/65 [==============================] - 0s 6ms/step - loss: 0.3148 - accuracy: 0.8308 - val_loss: 0.2590 - val_accuracy: 0.8298\n",
            "Epoch 4/50\n",
            "65/65 [==============================] - 1s 10ms/step - loss: 0.3139 - accuracy: 0.8308 - val_loss: 0.3241 - val_accuracy: 0.7872\n",
            "Epoch 5/50\n",
            "65/65 [==============================] - 0s 6ms/step - loss: 0.3060 - accuracy: 0.8308 - val_loss: 0.2989 - val_accuracy: 0.7660\n",
            "Epoch 6/50\n",
            "65/65 [==============================] - 1s 10ms/step - loss: 0.3001 - accuracy: 0.8308 - val_loss: 0.3016 - val_accuracy: 0.7872\n",
            "Epoch 7/50\n",
            "65/65 [==============================] - 0s 6ms/step - loss: 0.3011 - accuracy: 0.8154 - val_loss: 0.3010 - val_accuracy: 0.7872\n",
            "Epoch 8/50\n",
            "65/65 [==============================] - 1s 11ms/step - loss: 0.3006 - accuracy: 0.8154 - val_loss: 0.3035 - val_accuracy: 0.7660\n",
            "Epoch 9/50\n",
            "65/65 [==============================] - 0s 5ms/step - loss: 0.2985 - accuracy: 0.8308 - val_loss: 0.3085 - val_accuracy: 0.7872\n",
            "Epoch 10/50\n",
            "65/65 [==============================] - 0s 7ms/step - loss: 0.2997 - accuracy: 0.8308 - val_loss: 0.2982 - val_accuracy: 0.7872\n",
            "Epoch 11/50\n",
            "65/65 [==============================] - 0s 7ms/step - loss: 0.2951 - accuracy: 0.8308 - val_loss: 0.2931 - val_accuracy: 0.7872\n",
            "Epoch 12/50\n",
            "65/65 [==============================] - 0s 7ms/step - loss: 0.2963 - accuracy: 0.8308 - val_loss: 0.2974 - val_accuracy: 0.7872\n",
            "Epoch 13/50\n",
            "65/65 [==============================] - 0s 6ms/step - loss: 0.2948 - accuracy: 0.8308 - val_loss: 0.3000 - val_accuracy: 0.7872\n",
            "Epoch 14/50\n",
            "65/65 [==============================] - 0s 6ms/step - loss: 0.2937 - accuracy: 0.8308 - val_loss: 0.2946 - val_accuracy: 0.7872\n",
            "Epoch 15/50\n",
            "65/65 [==============================] - 0s 6ms/step - loss: 0.2947 - accuracy: 0.8308 - val_loss: 0.3039 - val_accuracy: 0.7660\n",
            "Epoch 16/50\n",
            "65/65 [==============================] - 0s 6ms/step - loss: 0.3100 - accuracy: 0.8154 - val_loss: 0.3274 - val_accuracy: 0.7660\n",
            "Epoch 17/50\n",
            "65/65 [==============================] - 0s 6ms/step - loss: 0.3106 - accuracy: 0.8000 - val_loss: 0.3093 - val_accuracy: 0.7660\n",
            "Epoch 18/50\n",
            "65/65 [==============================] - 0s 6ms/step - loss: 0.2997 - accuracy: 0.8154 - val_loss: 0.3160 - val_accuracy: 0.7447\n",
            "Epoch 19/50\n",
            "65/65 [==============================] - 0s 7ms/step - loss: 0.2996 - accuracy: 0.8154 - val_loss: 0.3088 - val_accuracy: 0.7660\n",
            "Epoch 20/50\n",
            "65/65 [==============================] - 0s 5ms/step - loss: 0.2937 - accuracy: 0.8154 - val_loss: 0.3085 - val_accuracy: 0.7660\n",
            "Epoch 21/50\n",
            "65/65 [==============================] - 0s 5ms/step - loss: 0.3008 - accuracy: 0.8308 - val_loss: 0.3092 - val_accuracy: 0.7660\n",
            "Epoch 22/50\n",
            "65/65 [==============================] - 0s 5ms/step - loss: 0.2917 - accuracy: 0.8154 - val_loss: 0.3016 - val_accuracy: 0.7660\n",
            "Epoch 23/50\n",
            "65/65 [==============================] - 0s 5ms/step - loss: 0.2923 - accuracy: 0.8308 - val_loss: 0.3036 - val_accuracy: 0.7660\n",
            "Epoch 24/50\n",
            "65/65 [==============================] - 0s 5ms/step - loss: 0.2897 - accuracy: 0.8154 - val_loss: 0.3009 - val_accuracy: 0.7660\n",
            "Epoch 25/50\n",
            "65/65 [==============================] - 0s 6ms/step - loss: 0.2908 - accuracy: 0.8154 - val_loss: 0.3020 - val_accuracy: 0.7660\n",
            "Epoch 26/50\n",
            "65/65 [==============================] - 0s 6ms/step - loss: 0.2925 - accuracy: 0.8154 - val_loss: 0.3054 - val_accuracy: 0.7447\n",
            "Epoch 27/50\n",
            "65/65 [==============================] - 0s 5ms/step - loss: 0.2914 - accuracy: 0.8308 - val_loss: 0.3055 - val_accuracy: 0.7447\n",
            "Epoch 28/50\n",
            "65/65 [==============================] - 0s 6ms/step - loss: 0.2906 - accuracy: 0.8308 - val_loss: 0.3030 - val_accuracy: 0.7660\n",
            "Epoch 29/50\n",
            "65/65 [==============================] - 0s 5ms/step - loss: 0.2930 - accuracy: 0.8154 - val_loss: 0.2991 - val_accuracy: 0.7660\n",
            "Epoch 30/50\n",
            "65/65 [==============================] - 0s 7ms/step - loss: 0.2917 - accuracy: 0.7846 - val_loss: 0.2999 - val_accuracy: 0.7660\n",
            "Epoch 31/50\n",
            "65/65 [==============================] - 0s 6ms/step - loss: 0.2890 - accuracy: 0.8308 - val_loss: 0.2981 - val_accuracy: 0.7660\n",
            "Epoch 32/50\n",
            "65/65 [==============================] - 0s 6ms/step - loss: 0.2819 - accuracy: 0.8462 - val_loss: 0.2944 - val_accuracy: 0.7660\n",
            "Epoch 33/50\n",
            "65/65 [==============================] - 0s 5ms/step - loss: 0.2776 - accuracy: 0.8308 - val_loss: 0.2773 - val_accuracy: 0.8085\n",
            "Epoch 34/50\n",
            "65/65 [==============================] - 0s 5ms/step - loss: 0.2951 - accuracy: 0.8154 - val_loss: 0.3130 - val_accuracy: 0.7872\n",
            "Epoch 35/50\n",
            "65/65 [==============================] - 0s 5ms/step - loss: 0.3004 - accuracy: 0.8154 - val_loss: 0.2993 - val_accuracy: 0.7872\n",
            "Epoch 36/50\n",
            "65/65 [==============================] - 0s 6ms/step - loss: 0.2879 - accuracy: 0.8462 - val_loss: 0.3143 - val_accuracy: 0.7872\n",
            "Epoch 37/50\n",
            "65/65 [==============================] - 0s 6ms/step - loss: 0.2924 - accuracy: 0.8308 - val_loss: 0.3137 - val_accuracy: 0.7872\n",
            "Epoch 38/50\n",
            "65/65 [==============================] - 0s 7ms/step - loss: 0.2977 - accuracy: 0.7846 - val_loss: 0.3068 - val_accuracy: 0.7660\n",
            "Epoch 39/50\n",
            "65/65 [==============================] - 0s 6ms/step - loss: 0.2910 - accuracy: 0.8308 - val_loss: 0.3095 - val_accuracy: 0.7872\n",
            "Epoch 40/50\n",
            "65/65 [==============================] - 0s 7ms/step - loss: 0.2886 - accuracy: 0.8308 - val_loss: 0.3057 - val_accuracy: 0.7660\n",
            "Epoch 41/50\n",
            "65/65 [==============================] - 0s 6ms/step - loss: 0.2875 - accuracy: 0.8308 - val_loss: 0.3005 - val_accuracy: 0.7447\n",
            "Epoch 42/50\n",
            "65/65 [==============================] - 0s 6ms/step - loss: 0.2867 - accuracy: 0.8308 - val_loss: 0.3009 - val_accuracy: 0.7447\n",
            "Epoch 43/50\n",
            "65/65 [==============================] - 0s 6ms/step - loss: 0.3151 - accuracy: 0.8308 - val_loss: 0.3172 - val_accuracy: 0.7872\n",
            "Epoch 44/50\n",
            "65/65 [==============================] - 0s 6ms/step - loss: 0.2990 - accuracy: 0.8154 - val_loss: 0.3161 - val_accuracy: 0.7872\n",
            "Epoch 45/50\n",
            "65/65 [==============================] - 0s 6ms/step - loss: 0.2902 - accuracy: 0.8308 - val_loss: 0.3129 - val_accuracy: 0.7872\n",
            "Epoch 46/50\n",
            "65/65 [==============================] - 0s 5ms/step - loss: 0.2907 - accuracy: 0.8308 - val_loss: 0.2998 - val_accuracy: 0.7447\n",
            "Epoch 47/50\n",
            "65/65 [==============================] - 0s 5ms/step - loss: 0.2897 - accuracy: 0.8308 - val_loss: 0.2970 - val_accuracy: 0.7447\n",
            "Epoch 48/50\n",
            "65/65 [==============================] - 0s 6ms/step - loss: 0.2910 - accuracy: 0.8308 - val_loss: 0.2997 - val_accuracy: 0.7447\n",
            "Epoch 49/50\n",
            "65/65 [==============================] - 0s 6ms/step - loss: 0.3015 - accuracy: 0.7538 - val_loss: 0.3036 - val_accuracy: 0.7447\n",
            "Epoch 50/50\n",
            "65/65 [==============================] - 0s 6ms/step - loss: 0.2883 - accuracy: 0.8308 - val_loss: 0.3029 - val_accuracy: 0.7447\n",
            "WARNING:tensorflow:Model failed to serialize as JSON. Ignoring... \n",
            "Epoch 1/50\n",
            "65/65 [==============================] - 5s 27ms/step - loss: 0.2799 - accuracy: 0.8308 - val_loss: 0.3227 - val_accuracy: 0.7660\n",
            "Epoch 2/50\n",
            "65/65 [==============================] - 0s 6ms/step - loss: 0.3079 - accuracy: 0.8308 - val_loss: 0.2970 - val_accuracy: 0.7660\n",
            "Epoch 3/50\n",
            "65/65 [==============================] - 0s 5ms/step - loss: 0.2919 - accuracy: 0.8154 - val_loss: 0.3193 - val_accuracy: 0.7447\n",
            "Epoch 4/50\n",
            "65/65 [==============================] - 0s 5ms/step - loss: 0.2720 - accuracy: 0.8154 - val_loss: 0.3008 - val_accuracy: 0.7447\n",
            "Epoch 5/50\n",
            "65/65 [==============================] - 0s 6ms/step - loss: 0.2537 - accuracy: 0.8000 - val_loss: 0.3046 - val_accuracy: 0.7234\n",
            "Epoch 6/50\n",
            "65/65 [==============================] - 0s 5ms/step - loss: 0.2532 - accuracy: 0.8308 - val_loss: 0.3223 - val_accuracy: 0.7447\n",
            "Epoch 7/50\n",
            "65/65 [==============================] - 0s 5ms/step - loss: 0.2262 - accuracy: 0.8462 - val_loss: 0.2748 - val_accuracy: 0.8936\n",
            "Epoch 8/50\n",
            "65/65 [==============================] - 0s 6ms/step - loss: 0.2605 - accuracy: 0.8615 - val_loss: 0.3350 - val_accuracy: 0.7234\n",
            "Epoch 9/50\n",
            "65/65 [==============================] - 0s 5ms/step - loss: 0.2636 - accuracy: 0.8462 - val_loss: 0.3254 - val_accuracy: 0.7660\n",
            "Epoch 10/50\n",
            "65/65 [==============================] - 0s 5ms/step - loss: 0.2724 - accuracy: 0.8154 - val_loss: 0.3555 - val_accuracy: 0.7234\n",
            "Epoch 11/50\n",
            "65/65 [==============================] - 0s 5ms/step - loss: 0.2303 - accuracy: 0.8462 - val_loss: 0.2862 - val_accuracy: 0.8085\n",
            "Epoch 12/50\n",
            "65/65 [==============================] - 0s 5ms/step - loss: 0.2427 - accuracy: 0.8769 - val_loss: 0.3399 - val_accuracy: 0.7234\n",
            "Epoch 13/50\n",
            "65/65 [==============================] - 0s 6ms/step - loss: 0.2529 - accuracy: 0.8308 - val_loss: 0.2664 - val_accuracy: 0.8298\n",
            "Epoch 14/50\n",
            "65/65 [==============================] - 0s 5ms/step - loss: 0.2485 - accuracy: 0.8769 - val_loss: 0.2843 - val_accuracy: 0.7872\n",
            "Epoch 15/50\n",
            "65/65 [==============================] - 0s 5ms/step - loss: 0.2528 - accuracy: 0.8615 - val_loss: 0.2581 - val_accuracy: 0.8511\n",
            "Epoch 16/50\n",
            "65/65 [==============================] - 0s 6ms/step - loss: 0.2643 - accuracy: 0.8154 - val_loss: 0.4083 - val_accuracy: 0.7660\n",
            "Epoch 17/50\n",
            "65/65 [==============================] - 0s 6ms/step - loss: 0.2837 - accuracy: 0.8000 - val_loss: 0.3906 - val_accuracy: 0.7660\n",
            "Epoch 18/50\n",
            "65/65 [==============================] - 0s 7ms/step - loss: 0.2325 - accuracy: 0.8308 - val_loss: 0.2721 - val_accuracy: 0.8511\n",
            "Epoch 19/50\n",
            "65/65 [==============================] - 0s 5ms/step - loss: 0.2469 - accuracy: 0.8308 - val_loss: 0.2818 - val_accuracy: 0.8085\n",
            "Epoch 20/50\n",
            "65/65 [==============================] - 0s 6ms/step - loss: 0.2469 - accuracy: 0.8154 - val_loss: 0.3121 - val_accuracy: 0.7660\n",
            "Epoch 21/50\n",
            "65/65 [==============================] - 0s 6ms/step - loss: 0.2465 - accuracy: 0.8462 - val_loss: 0.2896 - val_accuracy: 0.7660\n",
            "Epoch 22/50\n",
            "65/65 [==============================] - 0s 5ms/step - loss: 0.2416 - accuracy: 0.8615 - val_loss: 0.3271 - val_accuracy: 0.7447\n",
            "Epoch 23/50\n",
            "65/65 [==============================] - 0s 6ms/step - loss: 0.2461 - accuracy: 0.8615 - val_loss: 0.2967 - val_accuracy: 0.7872\n",
            "Epoch 24/50\n",
            "65/65 [==============================] - 0s 6ms/step - loss: 0.2420 - accuracy: 0.8615 - val_loss: 0.2763 - val_accuracy: 0.8723\n",
            "Epoch 25/50\n",
            "65/65 [==============================] - 0s 5ms/step - loss: 0.2447 - accuracy: 0.8615 - val_loss: 0.2846 - val_accuracy: 0.8298\n",
            "Epoch 26/50\n",
            "65/65 [==============================] - 0s 6ms/step - loss: 0.2266 - accuracy: 0.8154 - val_loss: 0.3155 - val_accuracy: 0.7447\n",
            "Epoch 27/50\n",
            "65/65 [==============================] - 0s 6ms/step - loss: 0.2198 - accuracy: 0.8154 - val_loss: 0.3098 - val_accuracy: 0.7234\n",
            "Epoch 28/50\n",
            "65/65 [==============================] - 0s 6ms/step - loss: 0.2361 - accuracy: 0.8462 - val_loss: 0.3475 - val_accuracy: 0.7447\n",
            "Epoch 29/50\n",
            "65/65 [==============================] - 0s 5ms/step - loss: 0.2378 - accuracy: 0.8462 - val_loss: 0.2796 - val_accuracy: 0.8723\n",
            "Epoch 30/50\n",
            "65/65 [==============================] - 0s 5ms/step - loss: 0.2342 - accuracy: 0.8769 - val_loss: 0.3193 - val_accuracy: 0.7660\n",
            "Epoch 31/50\n",
            "65/65 [==============================] - 0s 5ms/step - loss: 0.2257 - accuracy: 0.8462 - val_loss: 0.3628 - val_accuracy: 0.7234\n",
            "Epoch 32/50\n",
            "65/65 [==============================] - 0s 6ms/step - loss: 0.2367 - accuracy: 0.8308 - val_loss: 0.2941 - val_accuracy: 0.8085\n",
            "Epoch 33/50\n",
            "65/65 [==============================] - 0s 5ms/step - loss: 0.2188 - accuracy: 0.8308 - val_loss: 0.3408 - val_accuracy: 0.7447\n",
            "Epoch 34/50\n",
            "65/65 [==============================] - 0s 5ms/step - loss: 0.2318 - accuracy: 0.8615 - val_loss: 0.3388 - val_accuracy: 0.7447\n",
            "Epoch 35/50\n",
            "65/65 [==============================] - 0s 5ms/step - loss: 0.2246 - accuracy: 0.8462 - val_loss: 0.2928 - val_accuracy: 0.8511\n",
            "Epoch 36/50\n",
            "65/65 [==============================] - 0s 6ms/step - loss: 0.2149 - accuracy: 0.8923 - val_loss: 0.3332 - val_accuracy: 0.7447\n",
            "Epoch 37/50\n",
            "65/65 [==============================] - 0s 6ms/step - loss: 0.2218 - accuracy: 0.8615 - val_loss: 0.3195 - val_accuracy: 0.7447\n",
            "Epoch 38/50\n",
            "65/65 [==============================] - 0s 6ms/step - loss: 0.2350 - accuracy: 0.8769 - val_loss: 0.3068 - val_accuracy: 0.7660\n",
            "Epoch 39/50\n",
            "65/65 [==============================] - 0s 5ms/step - loss: 0.2421 - accuracy: 0.8462 - val_loss: 0.2916 - val_accuracy: 0.8298\n",
            "Epoch 40/50\n",
            "65/65 [==============================] - 0s 6ms/step - loss: 0.2306 - accuracy: 0.8769 - val_loss: 0.3116 - val_accuracy: 0.7234\n",
            "Epoch 41/50\n",
            "65/65 [==============================] - 0s 5ms/step - loss: 0.2319 - accuracy: 0.8462 - val_loss: 0.3337 - val_accuracy: 0.7021\n",
            "Epoch 42/50\n",
            "65/65 [==============================] - 0s 6ms/step - loss: 0.2376 - accuracy: 0.8769 - val_loss: 0.2784 - val_accuracy: 0.8723\n",
            "Epoch 43/50\n",
            "65/65 [==============================] - 0s 5ms/step - loss: 0.2312 - accuracy: 0.8308 - val_loss: 0.2782 - val_accuracy: 0.8723\n",
            "Epoch 44/50\n",
            "65/65 [==============================] - 0s 6ms/step - loss: 0.2370 - accuracy: 0.8615 - val_loss: 0.2717 - val_accuracy: 0.8298\n",
            "Epoch 45/50\n",
            "65/65 [==============================] - 0s 6ms/step - loss: 0.2268 - accuracy: 0.8462 - val_loss: 0.2958 - val_accuracy: 0.7660\n",
            "Epoch 46/50\n",
            "65/65 [==============================] - 0s 6ms/step - loss: 0.2355 - accuracy: 0.8615 - val_loss: 0.2929 - val_accuracy: 0.7660\n",
            "Epoch 47/50\n",
            "65/65 [==============================] - 0s 5ms/step - loss: 0.2223 - accuracy: 0.8769 - val_loss: 0.3194 - val_accuracy: 0.7447\n",
            "Epoch 48/50\n",
            "65/65 [==============================] - 0s 5ms/step - loss: 0.2268 - accuracy: 0.8769 - val_loss: 0.3587 - val_accuracy: 0.7447\n",
            "Epoch 49/50\n",
            "65/65 [==============================] - 0s 5ms/step - loss: 0.1900 - accuracy: 0.9231 - val_loss: 0.2688 - val_accuracy: 0.8723\n",
            "Epoch 50/50\n",
            "65/65 [==============================] - 0s 5ms/step - loss: 0.2205 - accuracy: 0.8923 - val_loss: 0.2991 - val_accuracy: 0.7660\n",
            "WARNING:tensorflow:Model failed to serialize as JSON. Ignoring... \n",
            "Epoch 1/50\n",
            "65/65 [==============================] - 5s 28ms/step - loss: 0.2555 - accuracy: 0.8769 - val_loss: 0.2587 - val_accuracy: 0.8723\n",
            "Epoch 2/50\n",
            "65/65 [==============================] - 0s 7ms/step - loss: 0.2489 - accuracy: 0.8923 - val_loss: 0.2671 - val_accuracy: 0.8723\n",
            "Epoch 3/50\n",
            "65/65 [==============================] - 0s 5ms/step - loss: 0.2308 - accuracy: 0.9077 - val_loss: 0.2632 - val_accuracy: 0.8511\n",
            "Epoch 4/50\n",
            "65/65 [==============================] - 0s 7ms/step - loss: 0.2272 - accuracy: 0.9385 - val_loss: 0.2712 - val_accuracy: 0.8298\n",
            "Epoch 5/50\n",
            "65/65 [==============================] - 0s 5ms/step - loss: 0.2185 - accuracy: 0.9385 - val_loss: 0.2575 - val_accuracy: 0.8511\n",
            "Epoch 6/50\n",
            "65/65 [==============================] - 0s 6ms/step - loss: 0.2115 - accuracy: 0.9385 - val_loss: 0.2612 - val_accuracy: 0.8511\n",
            "Epoch 7/50\n",
            "65/65 [==============================] - 0s 5ms/step - loss: 0.2071 - accuracy: 0.9385 - val_loss: 0.2615 - val_accuracy: 0.8511\n",
            "Epoch 8/50\n",
            "65/65 [==============================] - 0s 5ms/step - loss: 0.2089 - accuracy: 0.9385 - val_loss: 0.2812 - val_accuracy: 0.8085\n",
            "Epoch 9/50\n",
            "65/65 [==============================] - 0s 6ms/step - loss: 0.2094 - accuracy: 0.9231 - val_loss: 0.2666 - val_accuracy: 0.8511\n",
            "Epoch 10/50\n",
            "65/65 [==============================] - 0s 6ms/step - loss: 0.2032 - accuracy: 0.9385 - val_loss: 0.2602 - val_accuracy: 0.8511\n",
            "Epoch 11/50\n",
            "65/65 [==============================] - 0s 6ms/step - loss: 0.1933 - accuracy: 0.9385 - val_loss: 0.2793 - val_accuracy: 0.8298\n",
            "Epoch 12/50\n",
            "65/65 [==============================] - 0s 6ms/step - loss: 0.1944 - accuracy: 0.9385 - val_loss: 0.2738 - val_accuracy: 0.8511\n",
            "Epoch 13/50\n",
            "65/65 [==============================] - 0s 6ms/step - loss: 0.1942 - accuracy: 0.9231 - val_loss: 0.3219 - val_accuracy: 0.8085\n",
            "Epoch 14/50\n",
            "65/65 [==============================] - 0s 5ms/step - loss: 0.2361 - accuracy: 0.8615 - val_loss: 0.2527 - val_accuracy: 0.8723\n",
            "Epoch 15/50\n",
            "65/65 [==============================] - 0s 5ms/step - loss: 0.2148 - accuracy: 0.9385 - val_loss: 0.2631 - val_accuracy: 0.8511\n",
            "Epoch 16/50\n",
            "65/65 [==============================] - 0s 5ms/step - loss: 0.2003 - accuracy: 0.9385 - val_loss: 0.2854 - val_accuracy: 0.8511\n",
            "Epoch 17/50\n",
            "65/65 [==============================] - 0s 5ms/step - loss: 0.2045 - accuracy: 0.9385 - val_loss: 0.2660 - val_accuracy: 0.8511\n",
            "Epoch 18/50\n",
            "65/65 [==============================] - 0s 6ms/step - loss: 0.1934 - accuracy: 0.9385 - val_loss: 0.2709 - val_accuracy: 0.8511\n",
            "Epoch 19/50\n",
            "65/65 [==============================] - 0s 6ms/step - loss: 0.1872 - accuracy: 0.9385 - val_loss: 0.2539 - val_accuracy: 0.8723\n",
            "Epoch 20/50\n",
            "65/65 [==============================] - 0s 5ms/step - loss: 0.1978 - accuracy: 0.9231 - val_loss: 0.2647 - val_accuracy: 0.8298\n",
            "Epoch 21/50\n",
            "65/65 [==============================] - 0s 7ms/step - loss: 0.1821 - accuracy: 0.9385 - val_loss: 0.2641 - val_accuracy: 0.8511\n",
            "Epoch 22/50\n",
            "65/65 [==============================] - 0s 6ms/step - loss: 0.1824 - accuracy: 0.9385 - val_loss: 0.2697 - val_accuracy: 0.8511\n",
            "Epoch 23/50\n",
            "65/65 [==============================] - 0s 6ms/step - loss: 0.1835 - accuracy: 0.9385 - val_loss: 0.2721 - val_accuracy: 0.8511\n",
            "Epoch 24/50\n",
            "65/65 [==============================] - 0s 6ms/step - loss: 0.1774 - accuracy: 0.9385 - val_loss: 0.2746 - val_accuracy: 0.8511\n",
            "Epoch 25/50\n",
            "65/65 [==============================] - 0s 6ms/step - loss: 0.1788 - accuracy: 0.9385 - val_loss: 0.2663 - val_accuracy: 0.8511\n",
            "Epoch 26/50\n",
            "65/65 [==============================] - 0s 6ms/step - loss: 0.1801 - accuracy: 0.9385 - val_loss: 0.2588 - val_accuracy: 0.8723\n",
            "Epoch 27/50\n",
            "65/65 [==============================] - 0s 5ms/step - loss: 0.1846 - accuracy: 0.9385 - val_loss: 0.2606 - val_accuracy: 0.8723\n",
            "Epoch 28/50\n",
            "65/65 [==============================] - 0s 6ms/step - loss: 0.1773 - accuracy: 0.9385 - val_loss: 0.2880 - val_accuracy: 0.8723\n",
            "Epoch 29/50\n",
            "65/65 [==============================] - 0s 6ms/step - loss: 0.1881 - accuracy: 0.9385 - val_loss: 0.2857 - val_accuracy: 0.8511\n",
            "Epoch 30/50\n",
            "65/65 [==============================] - 0s 5ms/step - loss: 0.1778 - accuracy: 0.9385 - val_loss: 0.2730 - val_accuracy: 0.8723\n",
            "Epoch 31/50\n",
            "65/65 [==============================] - 0s 6ms/step - loss: 0.1916 - accuracy: 0.9077 - val_loss: 0.2691 - val_accuracy: 0.8723\n",
            "Epoch 32/50\n",
            "65/65 [==============================] - 0s 6ms/step - loss: 0.1818 - accuracy: 0.9385 - val_loss: 0.2714 - val_accuracy: 0.8723\n",
            "Epoch 33/50\n",
            "65/65 [==============================] - 0s 5ms/step - loss: 0.1687 - accuracy: 0.9385 - val_loss: 0.2827 - val_accuracy: 0.8511\n",
            "Epoch 34/50\n",
            "65/65 [==============================] - 0s 6ms/step - loss: 0.1704 - accuracy: 0.9385 - val_loss: 0.2867 - val_accuracy: 0.8511\n",
            "Epoch 35/50\n",
            "65/65 [==============================] - 0s 6ms/step - loss: 0.1669 - accuracy: 0.9385 - val_loss: 0.2853 - val_accuracy: 0.8511\n",
            "Epoch 36/50\n",
            "65/65 [==============================] - 0s 5ms/step - loss: 0.1688 - accuracy: 0.9385 - val_loss: 0.2797 - val_accuracy: 0.8723\n",
            "Epoch 37/50\n",
            "65/65 [==============================] - 0s 6ms/step - loss: 0.1823 - accuracy: 0.9385 - val_loss: 0.2735 - val_accuracy: 0.8723\n",
            "Epoch 38/50\n",
            "65/65 [==============================] - 0s 6ms/step - loss: 0.1961 - accuracy: 0.9231 - val_loss: 0.3203 - val_accuracy: 0.8298\n",
            "Epoch 39/50\n",
            "65/65 [==============================] - 0s 6ms/step - loss: 0.2042 - accuracy: 0.9385 - val_loss: 0.3012 - val_accuracy: 0.8298\n",
            "Epoch 40/50\n",
            "65/65 [==============================] - 0s 6ms/step - loss: 0.1720 - accuracy: 0.9385 - val_loss: 0.2958 - val_accuracy: 0.8298\n",
            "Epoch 41/50\n",
            "65/65 [==============================] - 0s 5ms/step - loss: 0.1646 - accuracy: 0.9385 - val_loss: 0.3021 - val_accuracy: 0.8298\n",
            "Epoch 42/50\n",
            "65/65 [==============================] - 0s 6ms/step - loss: 0.1643 - accuracy: 0.9538 - val_loss: 0.2931 - val_accuracy: 0.8298\n",
            "Epoch 43/50\n",
            "65/65 [==============================] - 0s 6ms/step - loss: 0.1738 - accuracy: 0.9538 - val_loss: 0.2989 - val_accuracy: 0.8298\n",
            "Epoch 44/50\n",
            "65/65 [==============================] - 0s 5ms/step - loss: 0.1552 - accuracy: 0.9538 - val_loss: 0.2749 - val_accuracy: 0.8511\n",
            "Epoch 45/50\n",
            "65/65 [==============================] - 0s 6ms/step - loss: 0.1545 - accuracy: 0.9538 - val_loss: 0.2806 - val_accuracy: 0.8511\n",
            "Epoch 46/50\n",
            "65/65 [==============================] - 0s 6ms/step - loss: 0.1568 - accuracy: 0.9385 - val_loss: 0.2792 - val_accuracy: 0.8723\n",
            "Epoch 47/50\n",
            "65/65 [==============================] - 0s 6ms/step - loss: 0.1479 - accuracy: 0.9538 - val_loss: 0.2864 - val_accuracy: 0.8298\n",
            "Epoch 48/50\n",
            "65/65 [==============================] - 0s 5ms/step - loss: 0.1467 - accuracy: 0.9385 - val_loss: 0.2844 - val_accuracy: 0.8723\n",
            "Epoch 49/50\n",
            "65/65 [==============================] - 0s 6ms/step - loss: 0.1427 - accuracy: 0.9538 - val_loss: 0.2869 - val_accuracy: 0.8723\n",
            "Epoch 50/50\n",
            "65/65 [==============================] - 0s 6ms/step - loss: 0.1476 - accuracy: 0.9538 - val_loss: 0.2941 - val_accuracy: 0.8511\n"
          ]
        }
      ]
    },
    {
      "cell_type": "code",
      "source": [
        "evaluate_ensemble(model=model, x_datas=x_test, y_datas=y_test)"
      ],
      "metadata": {
        "colab": {
          "base_uri": "https://localhost:8080/"
        },
        "id": "Q4MqscrhVnqe",
        "outputId": "ddf841ae-13ec-4af4-e593-9a1b0ec60e28"
      },
      "execution_count": 81,
      "outputs": [
        {
          "output_type": "execute_result",
          "data": {
            "text/plain": [
              "0.8494623655913979"
            ]
          },
          "metadata": {},
          "execution_count": 81
        }
      ]
    },
    {
      "cell_type": "code",
      "source": [
        ""
      ],
      "metadata": {
        "id": "dvwTdkHrNwLK"
      },
      "execution_count": 72,
      "outputs": []
    },
    {
      "cell_type": "code",
      "source": [
        ""
      ],
      "metadata": {
        "id": "QsjUGAE6NwLK"
      },
      "execution_count": null,
      "outputs": []
    },
    {
      "cell_type": "markdown",
      "source": [
        "## Increasing number of sub-networks"
      ],
      "metadata": {
        "id": "djgxZHd9YGM7"
      }
    },
    {
      "cell_type": "code",
      "source": [
        ""
      ],
      "metadata": {
        "id": "6aAf-bbjNwLK"
      },
      "execution_count": null,
      "outputs": []
    },
    {
      "cell_type": "code",
      "source": [
        "mixed_models_random_input = []\n",
        "neurons = [25, 35, 55, 45, 25, 15]\n",
        "\n",
        "for neuron in neurons[3:]:\n",
        "  jordan1 = Jordan(input_dim=15, hidden_units=neuron, feature_size=6, n_classes=1)\n",
        "  jordan1.compile(optimizer='adam', loss='binary_crossentropy', metrics=['accuracy'])\n",
        "  input = tf.keras.Input(shape=(15, 6, ))\n",
        "  model = Model(input, jordan1(input))\n",
        "  mixed_models_random_input.append(model)\n",
        "\n",
        "for neuron in neurons[:-2]:\n",
        "  elman1 = Elman(input_dim=15, hidden_units=neuron, feature_size=6, n_classes=1)\n",
        "  elman1.compile(optimizer='adam', loss='binary_crossentropy', metrics=['accuracy'])\n",
        "  input = tf.keras.Input(shape=(15, 6, ))\n",
        "  model = Model(input, elman1(input))\n",
        "  mixed_models_random_input.append(model)"
      ],
      "metadata": {
        "id": "W9kFUfRcYNg7"
      },
      "execution_count": 107,
      "outputs": []
    },
    {
      "cell_type": "code",
      "source": [
        "ensemble_mixed_random_input = stacked_ensemble(mixed_models_random_input)"
      ],
      "metadata": {
        "id": "ZjKAHXFxYNg7"
      },
      "execution_count": 108,
      "outputs": []
    },
    {
      "cell_type": "code",
      "source": [
        "plot_model(ensemble_mixed_random_input, show_shapes=True, show_layer_names=True, expand_nested=True)"
      ],
      "metadata": {
        "id": "sEEBArfDYx7D",
        "outputId": "0ce7db4d-13e5-4a26-8bf5-5e3d4bc59f92",
        "colab": {
          "base_uri": "https://localhost:8080/",
          "height": 222
        }
      },
      "execution_count": 109,
      "outputs": [
        {
          "output_type": "execute_result",
          "data": {
            "text/plain": [
              "<IPython.core.display.Image object>"
            ],
            "image/png": "[encoded data removed]"
          },
          "metadata": {},
          "execution_count": 109
        }
      ]
    },
    {
      "cell_type": "code",
      "source": [
        "models_cnt = len(ensemble_mixed_random_input.input)\n",
        "diff = models_cnt + 1 - np.mod(x_train.shape[0], models_cnt + 1)\n",
        "x_train_agu = np.append(x_train, [x_train[i] for i in range(diff)], axis=0) # add some data to have a equal chunks = here we have 323 datas which needs to add 1 data -> 324 mod 4 = 0\n",
        "\n",
        "y_train_agu = y_train.copy()\n",
        "for i in range(diff):\n",
        "  y_train_agu = np.append(y_train_agu, y_train[i])\n",
        "\n",
        "x_train_chunks = np.array(np.array_split(x_train_agu, models_cnt + 1))\n",
        "y_train_chunks = np.array_split(y_train_agu, models_cnt + 1)"
      ],
      "metadata": {
        "id": "6_rrACAxZSmJ"
      },
      "execution_count": 110,
      "outputs": []
    },
    {
      "cell_type": "code",
      "source": [
        "ensemble_mixed_random_input.compile(optimizer=tf.keras.optimizers.Adam(0.01), loss='binary_crossentropy', metrics=['accuracy'])\n",
        "X = [x_train_chunks[0] for _ in range(models_cnt)]\n",
        "val = [x_val for _ in range(models_cnt)]\n",
        "ensemble_mixed_random_input.fit(X, y_train_chunks[0], batch_size=1, epochs=30, validation_data=(val, y_val), callbacks=[tb_callback])\n",
        "\n",
        "for i, x_chunk, y_chunk in zip(range(models_cnt), x_train_chunks[1:], y_train_chunks[1:]):\n",
        "  model = freezer(ensemble_mixed_random_input, i)\n",
        "  model.compile(optimizer=tf.keras.optimizers.Adam(0.01), loss='binary_crossentropy', metrics=['accuracy'])\n",
        "\n",
        "  X = [x_chunk for _ in range(models_cnt)]\n",
        "  val = [x_val for _ in range(models_cnt)]\n",
        "\n",
        "  model.fit(X, y_chunk, batch_size=1, epochs=50, validation_data=(val, y_val), callbacks=[tb_callback])"
      ],
      "metadata": {
        "colab": {
          "base_uri": "https://localhost:8080/"
        },
        "outputId": "8f38ee8f-d70e-4349-83ec-7b2e0b4d5479",
        "id": "yRCdU10bYNg7"
      },
      "execution_count": 111,
      "outputs": [
        {
          "output_type": "stream",
          "name": "stdout",
          "text": [
            "WARNING:tensorflow:Model failed to serialize as JSON. Ignoring... \n",
            "Epoch 1/30\n",
            "41/41 [==============================] - 11s 113ms/step - loss: 0.6119 - accuracy: 0.6829 - val_loss: 0.4527 - val_accuracy: 0.8085\n",
            "Epoch 2/30\n",
            "41/41 [==============================] - 0s 11ms/step - loss: 0.4898 - accuracy: 0.5854 - val_loss: 0.4206 - val_accuracy: 0.6383\n",
            "Epoch 3/30\n",
            "41/41 [==============================] - 0s 12ms/step - loss: 0.4708 - accuracy: 0.5610 - val_loss: 0.4313 - val_accuracy: 0.6383\n",
            "Epoch 4/30\n",
            "41/41 [==============================] - 0s 11ms/step - loss: 0.4396 - accuracy: 0.7073 - val_loss: 0.4442 - val_accuracy: 0.6596\n",
            "Epoch 5/30\n",
            "41/41 [==============================] - 1s 12ms/step - loss: 0.4286 - accuracy: 0.6585 - val_loss: 0.4418 - val_accuracy: 0.6596\n",
            "Epoch 6/30\n",
            "41/41 [==============================] - 1s 12ms/step - loss: 0.4199 - accuracy: 0.7317 - val_loss: 0.4574 - val_accuracy: 0.6383\n",
            "Epoch 7/30\n",
            "41/41 [==============================] - 1s 12ms/step - loss: 0.4212 - accuracy: 0.6341 - val_loss: 0.4667 - val_accuracy: 0.6170\n",
            "Epoch 8/30\n",
            "41/41 [==============================] - 0s 11ms/step - loss: 0.4160 - accuracy: 0.7317 - val_loss: 0.4759 - val_accuracy: 0.6170\n",
            "Epoch 9/30\n",
            "41/41 [==============================] - 1s 12ms/step - loss: 0.4155 - accuracy: 0.7317 - val_loss: 0.4659 - val_accuracy: 0.6383\n",
            "Epoch 10/30\n",
            "41/41 [==============================] - 1s 13ms/step - loss: 0.4330 - accuracy: 0.5854 - val_loss: 0.4571 - val_accuracy: 0.8085\n",
            "Epoch 11/30\n",
            "41/41 [==============================] - 0s 12ms/step - loss: 0.4113 - accuracy: 0.7317 - val_loss: 0.4866 - val_accuracy: 0.6383\n",
            "Epoch 12/30\n",
            "41/41 [==============================] - 0s 11ms/step - loss: 0.4102 - accuracy: 0.7317 - val_loss: 0.4756 - val_accuracy: 0.6170\n",
            "Epoch 13/30\n",
            "41/41 [==============================] - 0s 12ms/step - loss: 0.4071 - accuracy: 0.7317 - val_loss: 0.4711 - val_accuracy: 0.6170\n",
            "Epoch 14/30\n",
            "41/41 [==============================] - 0s 12ms/step - loss: 0.4139 - accuracy: 0.7073 - val_loss: 0.4821 - val_accuracy: 0.6383\n",
            "Epoch 15/30\n",
            "41/41 [==============================] - 1s 13ms/step - loss: 0.4116 - accuracy: 0.6829 - val_loss: 0.4785 - val_accuracy: 0.6170\n",
            "Epoch 16/30\n",
            "41/41 [==============================] - 0s 12ms/step - loss: 0.4131 - accuracy: 0.7317 - val_loss: 0.4919 - val_accuracy: 0.6383\n",
            "Epoch 17/30\n",
            "41/41 [==============================] - 1s 12ms/step - loss: 0.4097 - accuracy: 0.7317 - val_loss: 0.4889 - val_accuracy: 0.6170\n",
            "Epoch 18/30\n",
            "41/41 [==============================] - 0s 11ms/step - loss: 0.4091 - accuracy: 0.7317 - val_loss: 0.4818 - val_accuracy: 0.6170\n",
            "Epoch 19/30\n",
            "41/41 [==============================] - 1s 12ms/step - loss: 0.4096 - accuracy: 0.7317 - val_loss: 0.4852 - val_accuracy: 0.6170\n",
            "Epoch 20/30\n",
            "41/41 [==============================] - 0s 12ms/step - loss: 0.4131 - accuracy: 0.7317 - val_loss: 0.4970 - val_accuracy: 0.6383\n",
            "Epoch 21/30\n",
            "41/41 [==============================] - 0s 11ms/step - loss: 0.4120 - accuracy: 0.7317 - val_loss: 0.4851 - val_accuracy: 0.6170\n",
            "Epoch 22/30\n",
            "41/41 [==============================] - 0s 11ms/step - loss: 0.4065 - accuracy: 0.7317 - val_loss: 0.4808 - val_accuracy: 0.6170\n",
            "Epoch 23/30\n",
            "41/41 [==============================] - 0s 12ms/step - loss: 0.4115 - accuracy: 0.7317 - val_loss: 0.4829 - val_accuracy: 0.6170\n",
            "Epoch 24/30\n",
            "41/41 [==============================] - 0s 12ms/step - loss: 0.4064 - accuracy: 0.7317 - val_loss: 0.4906 - val_accuracy: 0.6383\n",
            "Epoch 25/30\n",
            "41/41 [==============================] - 1s 12ms/step - loss: 0.4126 - accuracy: 0.6585 - val_loss: 0.4692 - val_accuracy: 0.8298\n",
            "Epoch 26/30\n",
            "41/41 [==============================] - 1s 12ms/step - loss: 0.3970 - accuracy: 0.7561 - val_loss: 0.5003 - val_accuracy: 0.6383\n",
            "Epoch 27/30\n",
            "41/41 [==============================] - 0s 12ms/step - loss: 0.3980 - accuracy: 0.7317 - val_loss: 0.5001 - val_accuracy: 0.6383\n",
            "Epoch 28/30\n",
            "41/41 [==============================] - 0s 12ms/step - loss: 0.3872 - accuracy: 0.7805 - val_loss: 0.4489 - val_accuracy: 0.8511\n",
            "Epoch 29/30\n",
            "41/41 [==============================] - 0s 11ms/step - loss: 0.3859 - accuracy: 0.8049 - val_loss: 0.4584 - val_accuracy: 0.7872\n",
            "Epoch 30/30\n",
            "41/41 [==============================] - 0s 12ms/step - loss: 0.3897 - accuracy: 0.6829 - val_loss: 0.4641 - val_accuracy: 0.6383\n",
            "WARNING:tensorflow:Model failed to serialize as JSON. Ignoring... \n",
            "Epoch 1/50\n",
            "41/41 [==============================] - 9s 72ms/step - loss: 0.4328 - accuracy: 0.7317 - val_loss: 0.4587 - val_accuracy: 0.8298\n",
            "Epoch 2/50\n",
            "41/41 [==============================] - 0s 11ms/step - loss: 0.4284 - accuracy: 0.7805 - val_loss: 0.4815 - val_accuracy: 0.6383\n",
            "Epoch 3/50\n",
            "41/41 [==============================] - 0s 11ms/step - loss: 0.4183 - accuracy: 0.8049 - val_loss: 0.4569 - val_accuracy: 0.6596\n",
            "Epoch 4/50\n",
            "41/41 [==============================] - 0s 11ms/step - loss: 0.4126 - accuracy: 0.8049 - val_loss: 0.4547 - val_accuracy: 0.6596\n",
            "Epoch 5/50\n",
            "41/41 [==============================] - 0s 11ms/step - loss: 0.4066 - accuracy: 0.8049 - val_loss: 0.4527 - val_accuracy: 0.6596\n",
            "Epoch 6/50\n",
            "41/41 [==============================] - 0s 11ms/step - loss: 0.4000 - accuracy: 0.8049 - val_loss: 0.4655 - val_accuracy: 0.6383\n",
            "Epoch 7/50\n",
            "41/41 [==============================] - 0s 10ms/step - loss: 0.3931 - accuracy: 0.8049 - val_loss: 0.4519 - val_accuracy: 0.6383\n",
            "Epoch 8/50\n",
            "41/41 [==============================] - 0s 10ms/step - loss: 0.3844 - accuracy: 0.8049 - val_loss: 0.4643 - val_accuracy: 0.6170\n",
            "Epoch 9/50\n",
            "41/41 [==============================] - 0s 11ms/step - loss: 0.3785 - accuracy: 0.8049 - val_loss: 0.4388 - val_accuracy: 0.6596\n",
            "Epoch 10/50\n",
            "41/41 [==============================] - 0s 10ms/step - loss: 0.3737 - accuracy: 0.8049 - val_loss: 0.4505 - val_accuracy: 0.6383\n",
            "Epoch 11/50\n",
            "41/41 [==============================] - 0s 9ms/step - loss: 0.3603 - accuracy: 0.8293 - val_loss: 0.4416 - val_accuracy: 0.6383\n",
            "Epoch 12/50\n",
            "41/41 [==============================] - 0s 11ms/step - loss: 0.3498 - accuracy: 0.8293 - val_loss: 0.4416 - val_accuracy: 0.6596\n",
            "Epoch 13/50\n",
            "41/41 [==============================] - 0s 10ms/step - loss: 0.3641 - accuracy: 0.8049 - val_loss: 0.4406 - val_accuracy: 0.6596\n",
            "Epoch 14/50\n",
            "41/41 [==============================] - 0s 11ms/step - loss: 0.3846 - accuracy: 0.8049 - val_loss: 0.4422 - val_accuracy: 0.6809\n",
            "Epoch 15/50\n",
            "41/41 [==============================] - 0s 10ms/step - loss: 0.3752 - accuracy: 0.8049 - val_loss: 0.4413 - val_accuracy: 0.7021\n",
            "Epoch 16/50\n",
            "41/41 [==============================] - 0s 11ms/step - loss: 0.3793 - accuracy: 0.7805 - val_loss: 0.4166 - val_accuracy: 0.7872\n",
            "Epoch 17/50\n",
            "41/41 [==============================] - 0s 10ms/step - loss: 0.3531 - accuracy: 0.8537 - val_loss: 0.4268 - val_accuracy: 0.7021\n",
            "Epoch 18/50\n",
            "41/41 [==============================] - 0s 9ms/step - loss: 0.3597 - accuracy: 0.7805 - val_loss: 0.4289 - val_accuracy: 0.7234\n",
            "Epoch 19/50\n",
            "41/41 [==============================] - 0s 10ms/step - loss: 0.3714 - accuracy: 0.8049 - val_loss: 0.4221 - val_accuracy: 0.8298\n",
            "Epoch 20/50\n",
            "41/41 [==============================] - 0s 9ms/step - loss: 0.3633 - accuracy: 0.7561 - val_loss: 0.4130 - val_accuracy: 0.8298\n",
            "Epoch 21/50\n",
            "41/41 [==============================] - 0s 10ms/step - loss: 0.3547 - accuracy: 0.8049 - val_loss: 0.4176 - val_accuracy: 0.8298\n",
            "Epoch 22/50\n",
            "41/41 [==============================] - 0s 11ms/step - loss: 0.3507 - accuracy: 0.8293 - val_loss: 0.4542 - val_accuracy: 0.7021\n",
            "Epoch 23/50\n",
            "41/41 [==============================] - 0s 11ms/step - loss: 0.3606 - accuracy: 0.8293 - val_loss: 0.4594 - val_accuracy: 0.7447\n",
            "Epoch 24/50\n",
            "41/41 [==============================] - 0s 11ms/step - loss: 0.3433 - accuracy: 0.8293 - val_loss: 0.4227 - val_accuracy: 0.8298\n",
            "Epoch 25/50\n",
            "41/41 [==============================] - 0s 10ms/step - loss: 0.3452 - accuracy: 0.8049 - val_loss: 0.4669 - val_accuracy: 0.6809\n",
            "Epoch 26/50\n",
            "41/41 [==============================] - 0s 11ms/step - loss: 0.3369 - accuracy: 0.8537 - val_loss: 0.5077 - val_accuracy: 0.6383\n",
            "Epoch 27/50\n",
            "41/41 [==============================] - 0s 9ms/step - loss: 0.3709 - accuracy: 0.8049 - val_loss: 0.4668 - val_accuracy: 0.7021\n",
            "Epoch 28/50\n",
            "41/41 [==============================] - 0s 11ms/step - loss: 0.3500 - accuracy: 0.8293 - val_loss: 0.4695 - val_accuracy: 0.7021\n",
            "Epoch 29/50\n",
            "41/41 [==============================] - 0s 10ms/step - loss: 0.3498 - accuracy: 0.8049 - val_loss: 0.4206 - val_accuracy: 0.8085\n",
            "Epoch 30/50\n",
            "41/41 [==============================] - 0s 9ms/step - loss: 0.3387 - accuracy: 0.8293 - val_loss: 0.4852 - val_accuracy: 0.7021\n",
            "Epoch 31/50\n",
            "41/41 [==============================] - 0s 11ms/step - loss: 0.3322 - accuracy: 0.8537 - val_loss: 0.4824 - val_accuracy: 0.7021\n",
            "Epoch 32/50\n",
            "41/41 [==============================] - 0s 11ms/step - loss: 0.3304 - accuracy: 0.8537 - val_loss: 0.4950 - val_accuracy: 0.6809\n",
            "Epoch 33/50\n",
            "41/41 [==============================] - 0s 10ms/step - loss: 0.3290 - accuracy: 0.8537 - val_loss: 0.4843 - val_accuracy: 0.7021\n",
            "Epoch 34/50\n",
            "41/41 [==============================] - 0s 11ms/step - loss: 0.3238 - accuracy: 0.8537 - val_loss: 0.4922 - val_accuracy: 0.7021\n",
            "Epoch 35/50\n",
            "41/41 [==============================] - 0s 10ms/step - loss: 0.3240 - accuracy: 0.8537 - val_loss: 0.4953 - val_accuracy: 0.7021\n",
            "Epoch 36/50\n",
            "41/41 [==============================] - 0s 11ms/step - loss: 0.3268 - accuracy: 0.8537 - val_loss: 0.4911 - val_accuracy: 0.7021\n",
            "Epoch 37/50\n",
            "41/41 [==============================] - 0s 11ms/step - loss: 0.3260 - accuracy: 0.8537 - val_loss: 0.5020 - val_accuracy: 0.7021\n",
            "Epoch 38/50\n",
            "41/41 [==============================] - 0s 11ms/step - loss: 0.3227 - accuracy: 0.8537 - val_loss: 0.4879 - val_accuracy: 0.7021\n",
            "Epoch 39/50\n",
            "41/41 [==============================] - 0s 11ms/step - loss: 0.3202 - accuracy: 0.8537 - val_loss: 0.5008 - val_accuracy: 0.7021\n",
            "Epoch 40/50\n",
            "41/41 [==============================] - 0s 10ms/step - loss: 0.3185 - accuracy: 0.8537 - val_loss: 0.5034 - val_accuracy: 0.7021\n",
            "Epoch 41/50\n",
            "41/41 [==============================] - 0s 9ms/step - loss: 0.3192 - accuracy: 0.8537 - val_loss: 0.5043 - val_accuracy: 0.7021\n",
            "Epoch 42/50\n",
            "41/41 [==============================] - 0s 9ms/step - loss: 0.3267 - accuracy: 0.8293 - val_loss: 0.4902 - val_accuracy: 0.7021\n",
            "Epoch 43/50\n",
            "41/41 [==============================] - 0s 11ms/step - loss: 0.3200 - accuracy: 0.8537 - val_loss: 0.5062 - val_accuracy: 0.6809\n",
            "Epoch 44/50\n",
            "41/41 [==============================] - 0s 9ms/step - loss: 0.3393 - accuracy: 0.8293 - val_loss: 0.5159 - val_accuracy: 0.6596\n",
            "Epoch 45/50\n",
            "41/41 [==============================] - 0s 10ms/step - loss: 0.2894 - accuracy: 0.8780 - val_loss: 0.4998 - val_accuracy: 0.6809\n",
            "Epoch 46/50\n",
            "41/41 [==============================] - 0s 11ms/step - loss: 0.3186 - accuracy: 0.8537 - val_loss: 0.5117 - val_accuracy: 0.6809\n",
            "Epoch 47/50\n",
            "41/41 [==============================] - 0s 9ms/step - loss: 0.3181 - accuracy: 0.8537 - val_loss: 0.5165 - val_accuracy: 0.6809\n",
            "Epoch 48/50\n",
            "41/41 [==============================] - 0s 11ms/step - loss: 0.3163 - accuracy: 0.8537 - val_loss: 0.5256 - val_accuracy: 0.6809\n",
            "Epoch 49/50\n",
            "41/41 [==============================] - 0s 10ms/step - loss: 0.3144 - accuracy: 0.8537 - val_loss: 0.5366 - val_accuracy: 0.6809\n",
            "Epoch 50/50\n",
            "41/41 [==============================] - 0s 11ms/step - loss: 0.3140 - accuracy: 0.8537 - val_loss: 0.5159 - val_accuracy: 0.7021\n",
            "WARNING:tensorflow:Model failed to serialize as JSON. Ignoring... \n",
            "Epoch 1/50\n",
            "41/41 [==============================] - 9s 66ms/step - loss: 0.4128 - accuracy: 0.8293 - val_loss: 0.5241 - val_accuracy: 0.7021\n",
            "Epoch 2/50\n",
            "41/41 [==============================] - 0s 9ms/step - loss: 0.4051 - accuracy: 0.8293 - val_loss: 0.5480 - val_accuracy: 0.6809\n",
            "Epoch 3/50\n",
            "41/41 [==============================] - 0s 11ms/step - loss: 0.3899 - accuracy: 0.8293 - val_loss: 0.5512 - val_accuracy: 0.6809\n",
            "Epoch 4/50\n",
            "41/41 [==============================] - 0s 11ms/step - loss: 0.3876 - accuracy: 0.8293 - val_loss: 0.5612 - val_accuracy: 0.7021\n",
            "Epoch 5/50\n",
            "41/41 [==============================] - 0s 9ms/step - loss: 0.3900 - accuracy: 0.8537 - val_loss: 0.5823 - val_accuracy: 0.7021\n",
            "Epoch 6/50\n",
            "41/41 [==============================] - 0s 10ms/step - loss: 0.3890 - accuracy: 0.8537 - val_loss: 0.5667 - val_accuracy: 0.7021\n",
            "Epoch 7/50\n",
            "41/41 [==============================] - 0s 10ms/step - loss: 0.3955 - accuracy: 0.8537 - val_loss: 0.5734 - val_accuracy: 0.7021\n",
            "Epoch 8/50\n",
            "41/41 [==============================] - 0s 10ms/step - loss: 0.3897 - accuracy: 0.8537 - val_loss: 0.5734 - val_accuracy: 0.7021\n",
            "Epoch 9/50\n",
            "41/41 [==============================] - 0s 10ms/step - loss: 0.3881 - accuracy: 0.8537 - val_loss: 0.5685 - val_accuracy: 0.7021\n",
            "Epoch 10/50\n",
            "41/41 [==============================] - 0s 9ms/step - loss: 0.3873 - accuracy: 0.8293 - val_loss: 0.5524 - val_accuracy: 0.7021\n",
            "Epoch 11/50\n",
            "41/41 [==============================] - 0s 10ms/step - loss: 0.3847 - accuracy: 0.8537 - val_loss: 0.5697 - val_accuracy: 0.7021\n",
            "Epoch 12/50\n",
            "41/41 [==============================] - 0s 11ms/step - loss: 0.3875 - accuracy: 0.8537 - val_loss: 0.5750 - val_accuracy: 0.7021\n",
            "Epoch 13/50\n",
            "41/41 [==============================] - 0s 11ms/step - loss: 0.3801 - accuracy: 0.8537 - val_loss: 0.5550 - val_accuracy: 0.7021\n",
            "Epoch 14/50\n",
            "41/41 [==============================] - 0s 10ms/step - loss: 0.3816 - accuracy: 0.8537 - val_loss: 0.5625 - val_accuracy: 0.7021\n",
            "Epoch 15/50\n",
            "41/41 [==============================] - 0s 11ms/step - loss: 0.3779 - accuracy: 0.8537 - val_loss: 0.5625 - val_accuracy: 0.7021\n",
            "Epoch 16/50\n",
            "41/41 [==============================] - 0s 10ms/step - loss: 0.3781 - accuracy: 0.8537 - val_loss: 0.5836 - val_accuracy: 0.7021\n",
            "Epoch 17/50\n",
            "41/41 [==============================] - 0s 10ms/step - loss: 0.3736 - accuracy: 0.8537 - val_loss: 0.5807 - val_accuracy: 0.7021\n",
            "Epoch 18/50\n",
            "41/41 [==============================] - 0s 11ms/step - loss: 0.3746 - accuracy: 0.8537 - val_loss: 0.5826 - val_accuracy: 0.7021\n",
            "Epoch 19/50\n",
            "41/41 [==============================] - 0s 10ms/step - loss: 0.3697 - accuracy: 0.8537 - val_loss: 0.5678 - val_accuracy: 0.7021\n",
            "Epoch 20/50\n",
            "41/41 [==============================] - 0s 10ms/step - loss: 0.3723 - accuracy: 0.8537 - val_loss: 0.5556 - val_accuracy: 0.7021\n",
            "Epoch 21/50\n",
            "41/41 [==============================] - 0s 10ms/step - loss: 0.3680 - accuracy: 0.8537 - val_loss: 0.5860 - val_accuracy: 0.7021\n",
            "Epoch 22/50\n",
            "41/41 [==============================] - 0s 11ms/step - loss: 0.3666 - accuracy: 0.8537 - val_loss: 0.5657 - val_accuracy: 0.7021\n",
            "Epoch 23/50\n",
            "41/41 [==============================] - 0s 10ms/step - loss: 0.3633 - accuracy: 0.8537 - val_loss: 0.5673 - val_accuracy: 0.7021\n",
            "Epoch 24/50\n",
            "41/41 [==============================] - 0s 9ms/step - loss: 0.3674 - accuracy: 0.8537 - val_loss: 0.5634 - val_accuracy: 0.7021\n",
            "Epoch 25/50\n",
            "41/41 [==============================] - 0s 10ms/step - loss: 0.3591 - accuracy: 0.8537 - val_loss: 0.5896 - val_accuracy: 0.7021\n",
            "Epoch 26/50\n",
            "41/41 [==============================] - 0s 10ms/step - loss: 0.3624 - accuracy: 0.8537 - val_loss: 0.5916 - val_accuracy: 0.7021\n",
            "Epoch 27/50\n",
            "41/41 [==============================] - 0s 11ms/step - loss: 0.3638 - accuracy: 0.8537 - val_loss: 0.5764 - val_accuracy: 0.7021\n",
            "Epoch 28/50\n",
            "41/41 [==============================] - 0s 10ms/step - loss: 0.3577 - accuracy: 0.8537 - val_loss: 0.5734 - val_accuracy: 0.7021\n",
            "Epoch 29/50\n",
            "41/41 [==============================] - 0s 11ms/step - loss: 0.3551 - accuracy: 0.8537 - val_loss: 0.5830 - val_accuracy: 0.7021\n",
            "Epoch 30/50\n",
            "41/41 [==============================] - 0s 10ms/step - loss: 0.3576 - accuracy: 0.8537 - val_loss: 0.5702 - val_accuracy: 0.7021\n",
            "Epoch 31/50\n",
            "41/41 [==============================] - 0s 11ms/step - loss: 0.3534 - accuracy: 0.8537 - val_loss: 0.5695 - val_accuracy: 0.7021\n",
            "Epoch 32/50\n",
            "41/41 [==============================] - 0s 10ms/step - loss: 0.3530 - accuracy: 0.8537 - val_loss: 0.5723 - val_accuracy: 0.7021\n",
            "Epoch 33/50\n",
            "41/41 [==============================] - 1s 18ms/step - loss: 0.3510 - accuracy: 0.8537 - val_loss: 0.5685 - val_accuracy: 0.7021\n",
            "Epoch 34/50\n",
            "41/41 [==============================] - 0s 11ms/step - loss: 0.3514 - accuracy: 0.8537 - val_loss: 0.5778 - val_accuracy: 0.7021\n",
            "Epoch 35/50\n",
            "41/41 [==============================] - 0s 10ms/step - loss: 0.3504 - accuracy: 0.8537 - val_loss: 0.5738 - val_accuracy: 0.7021\n",
            "Epoch 36/50\n",
            "41/41 [==============================] - 0s 11ms/step - loss: 0.3548 - accuracy: 0.8537 - val_loss: 0.5570 - val_accuracy: 0.7021\n",
            "Epoch 37/50\n",
            "41/41 [==============================] - 1s 16ms/step - loss: 0.3465 - accuracy: 0.8537 - val_loss: 0.5758 - val_accuracy: 0.7021\n",
            "Epoch 38/50\n",
            "41/41 [==============================] - 0s 11ms/step - loss: 0.3414 - accuracy: 0.8537 - val_loss: 0.5703 - val_accuracy: 0.7021\n",
            "Epoch 39/50\n",
            "41/41 [==============================] - 0s 10ms/step - loss: 0.3418 - accuracy: 0.8537 - val_loss: 0.5648 - val_accuracy: 0.7021\n",
            "Epoch 40/50\n",
            "41/41 [==============================] - 0s 10ms/step - loss: 0.3391 - accuracy: 0.8537 - val_loss: 0.5724 - val_accuracy: 0.7021\n",
            "Epoch 41/50\n",
            "41/41 [==============================] - 0s 10ms/step - loss: 0.3445 - accuracy: 0.8537 - val_loss: 0.5669 - val_accuracy: 0.7021\n",
            "Epoch 42/50\n",
            "41/41 [==============================] - 0s 10ms/step - loss: 0.3395 - accuracy: 0.8537 - val_loss: 0.5750 - val_accuracy: 0.7021\n",
            "Epoch 43/50\n",
            "41/41 [==============================] - 0s 11ms/step - loss: 0.3417 - accuracy: 0.8537 - val_loss: 0.5763 - val_accuracy: 0.7021\n",
            "Epoch 44/50\n",
            "41/41 [==============================] - 0s 11ms/step - loss: 0.3368 - accuracy: 0.8537 - val_loss: 0.5732 - val_accuracy: 0.7021\n",
            "Epoch 45/50\n",
            "41/41 [==============================] - 0s 11ms/step - loss: 0.3356 - accuracy: 0.8537 - val_loss: 0.5839 - val_accuracy: 0.7021\n",
            "Epoch 46/50\n",
            "41/41 [==============================] - 0s 10ms/step - loss: 0.3329 - accuracy: 0.8537 - val_loss: 0.5762 - val_accuracy: 0.7021\n",
            "Epoch 47/50\n",
            "41/41 [==============================] - 0s 10ms/step - loss: 0.3328 - accuracy: 0.8537 - val_loss: 0.5789 - val_accuracy: 0.7021\n",
            "Epoch 48/50\n",
            "41/41 [==============================] - 0s 11ms/step - loss: 0.3355 - accuracy: 0.8537 - val_loss: 0.5628 - val_accuracy: 0.7021\n",
            "Epoch 49/50\n",
            "41/41 [==============================] - 0s 11ms/step - loss: 0.3318 - accuracy: 0.8537 - val_loss: 0.5756 - val_accuracy: 0.7021\n",
            "Epoch 50/50\n",
            "41/41 [==============================] - 0s 10ms/step - loss: 0.3298 - accuracy: 0.8537 - val_loss: 0.5687 - val_accuracy: 0.7021\n",
            "WARNING:tensorflow:Model failed to serialize as JSON. Ignoring... \n",
            "Epoch 1/50\n",
            "41/41 [==============================] - 9s 75ms/step - loss: 0.3487 - accuracy: 0.8293 - val_loss: 0.5599 - val_accuracy: 0.7021\n",
            "Epoch 2/50\n",
            "41/41 [==============================] - 0s 11ms/step - loss: 0.3269 - accuracy: 0.8293 - val_loss: 0.5294 - val_accuracy: 0.7234\n",
            "Epoch 3/50\n",
            "41/41 [==============================] - 1s 19ms/step - loss: 0.3220 - accuracy: 0.8293 - val_loss: 0.5398 - val_accuracy: 0.7234\n",
            "Epoch 4/50\n",
            "41/41 [==============================] - 0s 10ms/step - loss: 0.3207 - accuracy: 0.8293 - val_loss: 0.5323 - val_accuracy: 0.7234\n",
            "Epoch 5/50\n",
            "41/41 [==============================] - 0s 10ms/step - loss: 0.3203 - accuracy: 0.8293 - val_loss: 0.5377 - val_accuracy: 0.7234\n",
            "Epoch 6/50\n",
            "41/41 [==============================] - 0s 11ms/step - loss: 0.3154 - accuracy: 0.8293 - val_loss: 0.5254 - val_accuracy: 0.7234\n",
            "Epoch 7/50\n",
            "41/41 [==============================] - 0s 9ms/step - loss: 0.3154 - accuracy: 0.8293 - val_loss: 0.5091 - val_accuracy: 0.7234\n",
            "Epoch 8/50\n",
            "41/41 [==============================] - 0s 9ms/step - loss: 0.3133 - accuracy: 0.8293 - val_loss: 0.5106 - val_accuracy: 0.7234\n",
            "Epoch 9/50\n",
            "41/41 [==============================] - 0s 10ms/step - loss: 0.3121 - accuracy: 0.8293 - val_loss: 0.5064 - val_accuracy: 0.7234\n",
            "Epoch 10/50\n",
            "41/41 [==============================] - 0s 11ms/step - loss: 0.3114 - accuracy: 0.8293 - val_loss: 0.5158 - val_accuracy: 0.7234\n",
            "Epoch 11/50\n",
            "41/41 [==============================] - 0s 10ms/step - loss: 0.3109 - accuracy: 0.8293 - val_loss: 0.5317 - val_accuracy: 0.7234\n",
            "Epoch 12/50\n",
            "41/41 [==============================] - 0s 9ms/step - loss: 0.3138 - accuracy: 0.8293 - val_loss: 0.5139 - val_accuracy: 0.7234\n",
            "Epoch 13/50\n",
            "41/41 [==============================] - 0s 9ms/step - loss: 0.3108 - accuracy: 0.8293 - val_loss: 0.5298 - val_accuracy: 0.7234\n",
            "Epoch 14/50\n",
            "41/41 [==============================] - 0s 9ms/step - loss: 0.3141 - accuracy: 0.8293 - val_loss: 0.4975 - val_accuracy: 0.7234\n",
            "Epoch 15/50\n",
            "41/41 [==============================] - 0s 11ms/step - loss: 0.3092 - accuracy: 0.8293 - val_loss: 0.5244 - val_accuracy: 0.7234\n",
            "Epoch 16/50\n",
            "41/41 [==============================] - 0s 11ms/step - loss: 0.3064 - accuracy: 0.8293 - val_loss: 0.5184 - val_accuracy: 0.7234\n",
            "Epoch 17/50\n",
            "41/41 [==============================] - 0s 11ms/step - loss: 0.3083 - accuracy: 0.8293 - val_loss: 0.5297 - val_accuracy: 0.7234\n",
            "Epoch 18/50\n",
            "41/41 [==============================] - 0s 9ms/step - loss: 0.3054 - accuracy: 0.8293 - val_loss: 0.5038 - val_accuracy: 0.7234\n",
            "Epoch 19/50\n",
            "41/41 [==============================] - 0s 11ms/step - loss: 0.3063 - accuracy: 0.8293 - val_loss: 0.5101 - val_accuracy: 0.7234\n",
            "Epoch 20/50\n",
            "41/41 [==============================] - 0s 9ms/step - loss: 0.3040 - accuracy: 0.8293 - val_loss: 0.5179 - val_accuracy: 0.7234\n",
            "Epoch 21/50\n",
            "41/41 [==============================] - 0s 11ms/step - loss: 0.3193 - accuracy: 0.8293 - val_loss: 0.5295 - val_accuracy: 0.7234\n",
            "Epoch 22/50\n",
            "41/41 [==============================] - 0s 11ms/step - loss: 0.3016 - accuracy: 0.8293 - val_loss: 0.5147 - val_accuracy: 0.7234\n",
            "Epoch 23/50\n",
            "41/41 [==============================] - 0s 10ms/step - loss: 0.3050 - accuracy: 0.8293 - val_loss: 0.5353 - val_accuracy: 0.7234\n",
            "Epoch 24/50\n",
            "41/41 [==============================] - 0s 11ms/step - loss: 0.3019 - accuracy: 0.8293 - val_loss: 0.5358 - val_accuracy: 0.7234\n",
            "Epoch 25/50\n",
            "41/41 [==============================] - 0s 9ms/step - loss: 0.3006 - accuracy: 0.8293 - val_loss: 0.5175 - val_accuracy: 0.7447\n",
            "Epoch 26/50\n",
            "41/41 [==============================] - 0s 9ms/step - loss: 0.3008 - accuracy: 0.8293 - val_loss: 0.5348 - val_accuracy: 0.7234\n",
            "Epoch 27/50\n",
            "41/41 [==============================] - 0s 11ms/step - loss: 0.3055 - accuracy: 0.8293 - val_loss: 0.5299 - val_accuracy: 0.7447\n",
            "Epoch 28/50\n",
            "41/41 [==============================] - 0s 11ms/step - loss: 0.3039 - accuracy: 0.8293 - val_loss: 0.5501 - val_accuracy: 0.7234\n",
            "Epoch 29/50\n",
            "41/41 [==============================] - 0s 10ms/step - loss: 0.3038 - accuracy: 0.8293 - val_loss: 0.5508 - val_accuracy: 0.7447\n",
            "Epoch 30/50\n",
            "41/41 [==============================] - 0s 10ms/step - loss: 0.2972 - accuracy: 0.8293 - val_loss: 0.5420 - val_accuracy: 0.7447\n",
            "Epoch 31/50\n",
            "41/41 [==============================] - 0s 11ms/step - loss: 0.2934 - accuracy: 0.8293 - val_loss: 0.5372 - val_accuracy: 0.7447\n",
            "Epoch 32/50\n",
            "41/41 [==============================] - 0s 11ms/step - loss: 0.2948 - accuracy: 0.8293 - val_loss: 0.5323 - val_accuracy: 0.7447\n",
            "Epoch 33/50\n",
            "41/41 [==============================] - 0s 11ms/step - loss: 0.2923 - accuracy: 0.8537 - val_loss: 0.5389 - val_accuracy: 0.7447\n",
            "Epoch 34/50\n",
            "41/41 [==============================] - 0s 10ms/step - loss: 0.2911 - accuracy: 0.8537 - val_loss: 0.5365 - val_accuracy: 0.7447\n",
            "Epoch 35/50\n",
            "41/41 [==============================] - 0s 10ms/step - loss: 0.2919 - accuracy: 0.8537 - val_loss: 0.5589 - val_accuracy: 0.7234\n",
            "Epoch 36/50\n",
            "41/41 [==============================] - 0s 9ms/step - loss: 0.2899 - accuracy: 0.8537 - val_loss: 0.5430 - val_accuracy: 0.7447\n",
            "Epoch 37/50\n",
            "41/41 [==============================] - 0s 11ms/step - loss: 0.2846 - accuracy: 0.8537 - val_loss: 0.5548 - val_accuracy: 0.7234\n",
            "Epoch 38/50\n",
            "41/41 [==============================] - 0s 11ms/step - loss: 0.2890 - accuracy: 0.8537 - val_loss: 0.5499 - val_accuracy: 0.7447\n",
            "Epoch 39/50\n",
            "41/41 [==============================] - 0s 10ms/step - loss: 0.2843 - accuracy: 0.8537 - val_loss: 0.5421 - val_accuracy: 0.7447\n",
            "Epoch 40/50\n",
            "41/41 [==============================] - 0s 9ms/step - loss: 0.2809 - accuracy: 0.8537 - val_loss: 0.5492 - val_accuracy: 0.7447\n",
            "Epoch 41/50\n",
            "41/41 [==============================] - 0s 10ms/step - loss: 0.2853 - accuracy: 0.8537 - val_loss: 0.5585 - val_accuracy: 0.7234\n",
            "Epoch 42/50\n",
            "41/41 [==============================] - 0s 9ms/step - loss: 0.2797 - accuracy: 0.8537 - val_loss: 0.5362 - val_accuracy: 0.7447\n",
            "Epoch 43/50\n",
            "41/41 [==============================] - 1s 16ms/step - loss: 0.2892 - accuracy: 0.8537 - val_loss: 0.5705 - val_accuracy: 0.7234\n",
            "Epoch 44/50\n",
            "41/41 [==============================] - 0s 11ms/step - loss: 0.2881 - accuracy: 0.8537 - val_loss: 0.5445 - val_accuracy: 0.7447\n",
            "Epoch 45/50\n",
            "41/41 [==============================] - 0s 11ms/step - loss: 0.2811 - accuracy: 0.8537 - val_loss: 0.5488 - val_accuracy: 0.7447\n",
            "Epoch 46/50\n",
            "41/41 [==============================] - 0s 11ms/step - loss: 0.2771 - accuracy: 0.8537 - val_loss: 0.5501 - val_accuracy: 0.7447\n",
            "Epoch 47/50\n",
            "41/41 [==============================] - 0s 12ms/step - loss: 0.2754 - accuracy: 0.8537 - val_loss: 0.5522 - val_accuracy: 0.7234\n",
            "Epoch 48/50\n",
            "41/41 [==============================] - 0s 9ms/step - loss: 0.2752 - accuracy: 0.8537 - val_loss: 0.5451 - val_accuracy: 0.7447\n",
            "Epoch 49/50\n",
            "41/41 [==============================] - 0s 9ms/step - loss: 0.2767 - accuracy: 0.8537 - val_loss: 0.5578 - val_accuracy: 0.7234\n",
            "Epoch 50/50\n",
            "41/41 [==============================] - 0s 10ms/step - loss: 0.2721 - accuracy: 0.8537 - val_loss: 0.5558 - val_accuracy: 0.7234\n",
            "WARNING:tensorflow:Model failed to serialize as JSON. Ignoring... \n",
            "Epoch 1/50\n",
            "41/41 [==============================] - 9s 75ms/step - loss: 0.6808 - accuracy: 0.7561 - val_loss: 0.5327 - val_accuracy: 0.7234\n",
            "Epoch 2/50\n",
            "41/41 [==============================] - 0s 10ms/step - loss: 0.5965 - accuracy: 0.7561 - val_loss: 0.5237 - val_accuracy: 0.7021\n",
            "Epoch 3/50\n",
            "41/41 [==============================] - 0s 9ms/step - loss: 0.5614 - accuracy: 0.7561 - val_loss: 0.5186 - val_accuracy: 0.7021\n",
            "Epoch 4/50\n",
            "41/41 [==============================] - 0s 10ms/step - loss: 0.5340 - accuracy: 0.7317 - val_loss: 0.5157 - val_accuracy: 0.7234\n",
            "Epoch 5/50\n",
            "41/41 [==============================] - 0s 11ms/step - loss: 0.5080 - accuracy: 0.7317 - val_loss: 0.5013 - val_accuracy: 0.7021\n",
            "Epoch 6/50\n",
            "41/41 [==============================] - 0s 10ms/step - loss: 0.4854 - accuracy: 0.7073 - val_loss: 0.5013 - val_accuracy: 0.7021\n",
            "Epoch 7/50\n",
            "41/41 [==============================] - 0s 10ms/step - loss: 0.4683 - accuracy: 0.7073 - val_loss: 0.4880 - val_accuracy: 0.7021\n",
            "Epoch 8/50\n",
            "41/41 [==============================] - 0s 11ms/step - loss: 0.4502 - accuracy: 0.7317 - val_loss: 0.4880 - val_accuracy: 0.7021\n",
            "Epoch 9/50\n",
            "41/41 [==============================] - 0s 10ms/step - loss: 0.4326 - accuracy: 0.7073 - val_loss: 0.4744 - val_accuracy: 0.7021\n",
            "Epoch 10/50\n",
            "41/41 [==============================] - 0s 10ms/step - loss: 0.4161 - accuracy: 0.7073 - val_loss: 0.4564 - val_accuracy: 0.7234\n",
            "Epoch 11/50\n",
            "41/41 [==============================] - 0s 9ms/step - loss: 0.4064 - accuracy: 0.7073 - val_loss: 0.4453 - val_accuracy: 0.7021\n",
            "Epoch 12/50\n",
            "41/41 [==============================] - 0s 11ms/step - loss: 0.3950 - accuracy: 0.7317 - val_loss: 0.4437 - val_accuracy: 0.7021\n",
            "Epoch 13/50\n",
            "41/41 [==============================] - 0s 9ms/step - loss: 0.3843 - accuracy: 0.7317 - val_loss: 0.4347 - val_accuracy: 0.7021\n",
            "Epoch 14/50\n",
            "41/41 [==============================] - 0s 9ms/step - loss: 0.3742 - accuracy: 0.7805 - val_loss: 0.4241 - val_accuracy: 0.7021\n",
            "Epoch 15/50\n",
            "41/41 [==============================] - 0s 11ms/step - loss: 0.3716 - accuracy: 0.7561 - val_loss: 0.4108 - val_accuracy: 0.7234\n",
            "Epoch 16/50\n",
            "41/41 [==============================] - 0s 9ms/step - loss: 0.3630 - accuracy: 0.7805 - val_loss: 0.3968 - val_accuracy: 0.7447\n",
            "Epoch 17/50\n",
            "41/41 [==============================] - 0s 10ms/step - loss: 0.3543 - accuracy: 0.7805 - val_loss: 0.3950 - val_accuracy: 0.7021\n",
            "Epoch 18/50\n",
            "41/41 [==============================] - 0s 10ms/step - loss: 0.3504 - accuracy: 0.7561 - val_loss: 0.3867 - val_accuracy: 0.7234\n",
            "Epoch 19/50\n",
            "41/41 [==============================] - 0s 11ms/step - loss: 0.3465 - accuracy: 0.7561 - val_loss: 0.3981 - val_accuracy: 0.6596\n",
            "Epoch 20/50\n",
            "41/41 [==============================] - 0s 11ms/step - loss: 0.3520 - accuracy: 0.7561 - val_loss: 0.3943 - val_accuracy: 0.7021\n",
            "Epoch 21/50\n",
            "41/41 [==============================] - 0s 9ms/step - loss: 0.3366 - accuracy: 0.7561 - val_loss: 0.3817 - val_accuracy: 0.7447\n",
            "Epoch 22/50\n",
            "41/41 [==============================] - 0s 11ms/step - loss: 0.3287 - accuracy: 0.8049 - val_loss: 0.3667 - val_accuracy: 0.7234\n",
            "Epoch 23/50\n",
            "41/41 [==============================] - 0s 10ms/step - loss: 0.3225 - accuracy: 0.7561 - val_loss: 0.3708 - val_accuracy: 0.7447\n",
            "Epoch 24/50\n",
            "41/41 [==============================] - 0s 11ms/step - loss: 0.3122 - accuracy: 0.8049 - val_loss: 0.3381 - val_accuracy: 0.8511\n",
            "Epoch 25/50\n",
            "41/41 [==============================] - 0s 9ms/step - loss: 0.3122 - accuracy: 0.8293 - val_loss: 0.3547 - val_accuracy: 0.8723\n",
            "Epoch 26/50\n",
            "41/41 [==============================] - 0s 9ms/step - loss: 0.3027 - accuracy: 0.7805 - val_loss: 0.3419 - val_accuracy: 0.8511\n",
            "Epoch 27/50\n",
            "41/41 [==============================] - 0s 9ms/step - loss: 0.3182 - accuracy: 0.7073 - val_loss: 0.3564 - val_accuracy: 0.7447\n",
            "Epoch 28/50\n",
            "41/41 [==============================] - 0s 10ms/step - loss: 0.2932 - accuracy: 0.8293 - val_loss: 0.3295 - val_accuracy: 0.8511\n",
            "Epoch 29/50\n",
            "41/41 [==============================] - 0s 11ms/step - loss: 0.2970 - accuracy: 0.8293 - val_loss: 0.3259 - val_accuracy: 0.8511\n",
            "Epoch 30/50\n",
            "41/41 [==============================] - 0s 10ms/step - loss: 0.2819 - accuracy: 0.8537 - val_loss: 0.3382 - val_accuracy: 0.8511\n",
            "Epoch 31/50\n",
            "41/41 [==============================] - 0s 11ms/step - loss: 0.2858 - accuracy: 0.8049 - val_loss: 0.3309 - val_accuracy: 0.8511\n",
            "Epoch 32/50\n",
            "41/41 [==============================] - 0s 10ms/step - loss: 0.2762 - accuracy: 0.8537 - val_loss: 0.3293 - val_accuracy: 0.8511\n",
            "Epoch 33/50\n",
            "41/41 [==============================] - 0s 11ms/step - loss: 0.2742 - accuracy: 0.8537 - val_loss: 0.3283 - val_accuracy: 0.8511\n",
            "Epoch 34/50\n",
            "41/41 [==============================] - 0s 11ms/step - loss: 0.2714 - accuracy: 0.8293 - val_loss: 0.3489 - val_accuracy: 0.8511\n",
            "Epoch 35/50\n",
            "41/41 [==============================] - 0s 10ms/step - loss: 0.2619 - accuracy: 0.8293 - val_loss: 0.3311 - val_accuracy: 0.8511\n",
            "Epoch 36/50\n",
            "41/41 [==============================] - 0s 11ms/step - loss: 0.2658 - accuracy: 0.7805 - val_loss: 0.3261 - val_accuracy: 0.8511\n",
            "Epoch 37/50\n",
            "41/41 [==============================] - 0s 11ms/step - loss: 0.2720 - accuracy: 0.8293 - val_loss: 0.3861 - val_accuracy: 0.7021\n",
            "Epoch 38/50\n",
            "41/41 [==============================] - 0s 9ms/step - loss: 0.2641 - accuracy: 0.8049 - val_loss: 0.3543 - val_accuracy: 0.8298\n",
            "Epoch 39/50\n",
            "41/41 [==============================] - 0s 11ms/step - loss: 0.2539 - accuracy: 0.8537 - val_loss: 0.3587 - val_accuracy: 0.8085\n",
            "Epoch 40/50\n",
            "41/41 [==============================] - 0s 10ms/step - loss: 0.2556 - accuracy: 0.8293 - val_loss: 0.3649 - val_accuracy: 0.7021\n",
            "Epoch 41/50\n",
            "41/41 [==============================] - 0s 11ms/step - loss: 0.2559 - accuracy: 0.8049 - val_loss: 0.3733 - val_accuracy: 0.7021\n",
            "Epoch 42/50\n",
            "41/41 [==============================] - 0s 10ms/step - loss: 0.2599 - accuracy: 0.7805 - val_loss: 0.3708 - val_accuracy: 0.7021\n",
            "Epoch 43/50\n",
            "41/41 [==============================] - 0s 10ms/step - loss: 0.2603 - accuracy: 0.8293 - val_loss: 0.3267 - val_accuracy: 0.8511\n",
            "Epoch 44/50\n",
            "41/41 [==============================] - 0s 12ms/step - loss: 0.2393 - accuracy: 0.9024 - val_loss: 0.3588 - val_accuracy: 0.8085\n",
            "Epoch 45/50\n",
            "41/41 [==============================] - 0s 12ms/step - loss: 0.2412 - accuracy: 0.8537 - val_loss: 0.3346 - val_accuracy: 0.8511\n",
            "Epoch 46/50\n",
            "41/41 [==============================] - 0s 10ms/step - loss: 0.2434 - accuracy: 0.8537 - val_loss: 0.3635 - val_accuracy: 0.8085\n",
            "Epoch 47/50\n",
            "41/41 [==============================] - 0s 9ms/step - loss: 0.2429 - accuracy: 0.8780 - val_loss: 0.3460 - val_accuracy: 0.8298\n",
            "Epoch 48/50\n",
            "41/41 [==============================] - 0s 11ms/step - loss: 0.2423 - accuracy: 0.9024 - val_loss: 0.3708 - val_accuracy: 0.8511\n",
            "Epoch 49/50\n",
            "41/41 [==============================] - 0s 10ms/step - loss: 0.2395 - accuracy: 0.8293 - val_loss: 0.3796 - val_accuracy: 0.7021\n",
            "Epoch 50/50\n",
            "41/41 [==============================] - 0s 10ms/step - loss: 0.2342 - accuracy: 0.8537 - val_loss: 0.3621 - val_accuracy: 0.8085\n",
            "WARNING:tensorflow:Model failed to serialize as JSON. Ignoring... \n",
            "Epoch 1/50\n",
            "41/41 [==============================] - 9s 66ms/step - loss: 0.4382 - accuracy: 0.7561 - val_loss: 0.3465 - val_accuracy: 0.8511\n",
            "Epoch 2/50\n",
            "41/41 [==============================] - 0s 11ms/step - loss: 0.3900 - accuracy: 0.8049 - val_loss: 0.3504 - val_accuracy: 0.8511\n",
            "Epoch 3/50\n",
            "41/41 [==============================] - 0s 10ms/step - loss: 0.3827 - accuracy: 0.8049 - val_loss: 0.3517 - val_accuracy: 0.8511\n",
            "Epoch 4/50\n",
            "41/41 [==============================] - 0s 9ms/step - loss: 0.3689 - accuracy: 0.8049 - val_loss: 0.3569 - val_accuracy: 0.8511\n",
            "Epoch 5/50\n",
            "41/41 [==============================] - 0s 11ms/step - loss: 0.3446 - accuracy: 0.8049 - val_loss: 0.3636 - val_accuracy: 0.8511\n",
            "Epoch 6/50\n",
            "41/41 [==============================] - 0s 10ms/step - loss: 0.3321 - accuracy: 0.8049 - val_loss: 0.3675 - val_accuracy: 0.8511\n",
            "Epoch 7/50\n",
            "41/41 [==============================] - 0s 10ms/step - loss: 0.3219 - accuracy: 0.8049 - val_loss: 0.3744 - val_accuracy: 0.8511\n",
            "Epoch 8/50\n",
            "41/41 [==============================] - 0s 11ms/step - loss: 0.3181 - accuracy: 0.8049 - val_loss: 0.3828 - val_accuracy: 0.8511\n",
            "Epoch 9/50\n",
            "41/41 [==============================] - 0s 11ms/step - loss: 0.3081 - accuracy: 0.8049 - val_loss: 0.3894 - val_accuracy: 0.8511\n",
            "Epoch 10/50\n",
            "41/41 [==============================] - 0s 10ms/step - loss: 0.2985 - accuracy: 0.8049 - val_loss: 0.3941 - val_accuracy: 0.8511\n",
            "Epoch 11/50\n",
            "41/41 [==============================] - 0s 10ms/step - loss: 0.3127 - accuracy: 0.8049 - val_loss: 0.3938 - val_accuracy: 0.8511\n",
            "Epoch 12/50\n",
            "41/41 [==============================] - 0s 10ms/step - loss: 0.3045 - accuracy: 0.8049 - val_loss: 0.3998 - val_accuracy: 0.8511\n",
            "Epoch 13/50\n",
            "41/41 [==============================] - 0s 11ms/step - loss: 0.2993 - accuracy: 0.8049 - val_loss: 0.4030 - val_accuracy: 0.8511\n",
            "Epoch 14/50\n",
            "41/41 [==============================] - 0s 9ms/step - loss: 0.2950 - accuracy: 0.8049 - val_loss: 0.4104 - val_accuracy: 0.8511\n",
            "Epoch 15/50\n",
            "41/41 [==============================] - 0s 11ms/step - loss: 0.2896 - accuracy: 0.8049 - val_loss: 0.4199 - val_accuracy: 0.8511\n",
            "Epoch 16/50\n",
            "41/41 [==============================] - 0s 11ms/step - loss: 0.2866 - accuracy: 0.8293 - val_loss: 0.4251 - val_accuracy: 0.8511\n",
            "Epoch 17/50\n",
            "41/41 [==============================] - 0s 9ms/step - loss: 0.2817 - accuracy: 0.8293 - val_loss: 0.4323 - val_accuracy: 0.8723\n",
            "Epoch 18/50\n",
            "41/41 [==============================] - 0s 11ms/step - loss: 0.2816 - accuracy: 0.8293 - val_loss: 0.4320 - val_accuracy: 0.8511\n",
            "Epoch 19/50\n",
            "41/41 [==============================] - 0s 10ms/step - loss: 0.2737 - accuracy: 0.8780 - val_loss: 0.4374 - val_accuracy: 0.7447\n",
            "Epoch 20/50\n",
            "41/41 [==============================] - 0s 10ms/step - loss: 0.2716 - accuracy: 0.8780 - val_loss: 0.4350 - val_accuracy: 0.7234\n",
            "Epoch 21/50\n",
            "41/41 [==============================] - 0s 10ms/step - loss: 0.2695 - accuracy: 0.9024 - val_loss: 0.4387 - val_accuracy: 0.7234\n",
            "Epoch 22/50\n",
            "41/41 [==============================] - 0s 11ms/step - loss: 0.2665 - accuracy: 0.9024 - val_loss: 0.4476 - val_accuracy: 0.7447\n",
            "Epoch 23/50\n",
            "41/41 [==============================] - 0s 10ms/step - loss: 0.2655 - accuracy: 0.9024 - val_loss: 0.4558 - val_accuracy: 0.7447\n",
            "Epoch 24/50\n",
            "41/41 [==============================] - 0s 9ms/step - loss: 0.2661 - accuracy: 0.9024 - val_loss: 0.4691 - val_accuracy: 0.7447\n",
            "Epoch 25/50\n",
            "41/41 [==============================] - 0s 11ms/step - loss: 0.2726 - accuracy: 0.8537 - val_loss: 0.4482 - val_accuracy: 0.7447\n",
            "Epoch 26/50\n",
            "41/41 [==============================] - 0s 11ms/step - loss: 0.2594 - accuracy: 0.9024 - val_loss: 0.4518 - val_accuracy: 0.7447\n",
            "Epoch 27/50\n",
            "41/41 [==============================] - 0s 11ms/step - loss: 0.2581 - accuracy: 0.9024 - val_loss: 0.4583 - val_accuracy: 0.7447\n",
            "Epoch 28/50\n",
            "41/41 [==============================] - 0s 9ms/step - loss: 0.2552 - accuracy: 0.9024 - val_loss: 0.4622 - val_accuracy: 0.7447\n",
            "Epoch 29/50\n",
            "41/41 [==============================] - 0s 10ms/step - loss: 0.2538 - accuracy: 0.9024 - val_loss: 0.4695 - val_accuracy: 0.7447\n",
            "Epoch 30/50\n",
            "41/41 [==============================] - 0s 10ms/step - loss: 0.2557 - accuracy: 0.9024 - val_loss: 0.4733 - val_accuracy: 0.7447\n",
            "Epoch 31/50\n",
            "41/41 [==============================] - 0s 9ms/step - loss: 0.2525 - accuracy: 0.9024 - val_loss: 0.4777 - val_accuracy: 0.7447\n",
            "Epoch 32/50\n",
            "41/41 [==============================] - 0s 11ms/step - loss: 0.2500 - accuracy: 0.9024 - val_loss: 0.4904 - val_accuracy: 0.7447\n",
            "Epoch 33/50\n",
            "41/41 [==============================] - 0s 11ms/step - loss: 0.2498 - accuracy: 0.9024 - val_loss: 0.4938 - val_accuracy: 0.7447\n",
            "Epoch 34/50\n",
            "41/41 [==============================] - 0s 11ms/step - loss: 0.2462 - accuracy: 0.9024 - val_loss: 0.5046 - val_accuracy: 0.7447\n",
            "Epoch 35/50\n",
            "41/41 [==============================] - 0s 11ms/step - loss: 0.2456 - accuracy: 0.9024 - val_loss: 0.5120 - val_accuracy: 0.7447\n",
            "Epoch 36/50\n",
            "41/41 [==============================] - 0s 9ms/step - loss: 0.2439 - accuracy: 0.9024 - val_loss: 0.5191 - val_accuracy: 0.7447\n",
            "Epoch 37/50\n",
            "41/41 [==============================] - 0s 11ms/step - loss: 0.2424 - accuracy: 0.9024 - val_loss: 0.5237 - val_accuracy: 0.7447\n",
            "Epoch 38/50\n",
            "41/41 [==============================] - 0s 9ms/step - loss: 0.2449 - accuracy: 0.9024 - val_loss: 0.5234 - val_accuracy: 0.7447\n",
            "Epoch 39/50\n",
            "41/41 [==============================] - 0s 11ms/step - loss: 0.2430 - accuracy: 0.9024 - val_loss: 0.5324 - val_accuracy: 0.7447\n",
            "Epoch 40/50\n",
            "41/41 [==============================] - 0s 9ms/step - loss: 0.2403 - accuracy: 0.9024 - val_loss: 0.5341 - val_accuracy: 0.7447\n",
            "Epoch 41/50\n",
            "41/41 [==============================] - 0s 9ms/step - loss: 0.2458 - accuracy: 0.9024 - val_loss: 0.5450 - val_accuracy: 0.7447\n",
            "Epoch 42/50\n",
            "41/41 [==============================] - 0s 11ms/step - loss: 0.2363 - accuracy: 0.9024 - val_loss: 0.5420 - val_accuracy: 0.7447\n",
            "Epoch 43/50\n",
            "41/41 [==============================] - 0s 9ms/step - loss: 0.2374 - accuracy: 0.9024 - val_loss: 0.5468 - val_accuracy: 0.7447\n",
            "Epoch 44/50\n",
            "41/41 [==============================] - 0s 11ms/step - loss: 0.2460 - accuracy: 0.9024 - val_loss: 0.5516 - val_accuracy: 0.7447\n",
            "Epoch 45/50\n",
            "41/41 [==============================] - 0s 9ms/step - loss: 0.2359 - accuracy: 0.9024 - val_loss: 0.5557 - val_accuracy: 0.7447\n",
            "Epoch 46/50\n",
            "41/41 [==============================] - 0s 11ms/step - loss: 0.2365 - accuracy: 0.9024 - val_loss: 0.5598 - val_accuracy: 0.7447\n",
            "Epoch 47/50\n",
            "41/41 [==============================] - 0s 11ms/step - loss: 0.2349 - accuracy: 0.9024 - val_loss: 0.5613 - val_accuracy: 0.7447\n",
            "Epoch 48/50\n",
            "41/41 [==============================] - 0s 9ms/step - loss: 0.2351 - accuracy: 0.9024 - val_loss: 0.5607 - val_accuracy: 0.7447\n",
            "Epoch 49/50\n",
            "41/41 [==============================] - 0s 9ms/step - loss: 0.2326 - accuracy: 0.9024 - val_loss: 0.5719 - val_accuracy: 0.7234\n",
            "Epoch 50/50\n",
            "41/41 [==============================] - 0s 11ms/step - loss: 0.2320 - accuracy: 0.9024 - val_loss: 0.5734 - val_accuracy: 0.7234\n",
            "WARNING:tensorflow:Model failed to serialize as JSON. Ignoring... \n",
            "Epoch 1/50\n",
            "41/41 [==============================] - 9s 65ms/step - loss: 0.3407 - accuracy: 0.8293 - val_loss: 0.5385 - val_accuracy: 0.7234\n",
            "Epoch 2/50\n",
            "41/41 [==============================] - 0s 11ms/step - loss: 0.3078 - accuracy: 0.8293 - val_loss: 0.5426 - val_accuracy: 0.7234\n",
            "Epoch 3/50\n",
            "41/41 [==============================] - 0s 11ms/step - loss: 0.3020 - accuracy: 0.8537 - val_loss: 0.5559 - val_accuracy: 0.7234\n",
            "Epoch 4/50\n",
            "41/41 [==============================] - 0s 9ms/step - loss: 0.3005 - accuracy: 0.8293 - val_loss: 0.5556 - val_accuracy: 0.7021\n",
            "Epoch 5/50\n",
            "41/41 [==============================] - 0s 11ms/step - loss: 0.3019 - accuracy: 0.8049 - val_loss: 0.5525 - val_accuracy: 0.7021\n",
            "Epoch 6/50\n",
            "41/41 [==============================] - 0s 9ms/step - loss: 0.2979 - accuracy: 0.8293 - val_loss: 0.5469 - val_accuracy: 0.7021\n",
            "Epoch 7/50\n",
            "41/41 [==============================] - 0s 10ms/step - loss: 0.2950 - accuracy: 0.8049 - val_loss: 0.5491 - val_accuracy: 0.7021\n",
            "Epoch 8/50\n",
            "41/41 [==============================] - 0s 10ms/step - loss: 0.2927 - accuracy: 0.8293 - val_loss: 0.5430 - val_accuracy: 0.7021\n",
            "Epoch 9/50\n",
            "41/41 [==============================] - 0s 11ms/step - loss: 0.2917 - accuracy: 0.8537 - val_loss: 0.5380 - val_accuracy: 0.7021\n",
            "Epoch 10/50\n",
            "41/41 [==============================] - 0s 10ms/step - loss: 0.2898 - accuracy: 0.8293 - val_loss: 0.5354 - val_accuracy: 0.7021\n",
            "Epoch 11/50\n",
            "41/41 [==============================] - 0s 10ms/step - loss: 0.2888 - accuracy: 0.8537 - val_loss: 0.5323 - val_accuracy: 0.7021\n",
            "Epoch 12/50\n",
            "41/41 [==============================] - 0s 10ms/step - loss: 0.2873 - accuracy: 0.8049 - val_loss: 0.5329 - val_accuracy: 0.7021\n",
            "Epoch 13/50\n",
            "41/41 [==============================] - 0s 11ms/step - loss: 0.2857 - accuracy: 0.8293 - val_loss: 0.5234 - val_accuracy: 0.7021\n",
            "Epoch 14/50\n",
            "41/41 [==============================] - 0s 11ms/step - loss: 0.2827 - accuracy: 0.8049 - val_loss: 0.5261 - val_accuracy: 0.7021\n",
            "Epoch 15/50\n",
            "41/41 [==============================] - 0s 11ms/step - loss: 0.2832 - accuracy: 0.8049 - val_loss: 0.5178 - val_accuracy: 0.7021\n",
            "Epoch 16/50\n",
            "41/41 [==============================] - 0s 11ms/step - loss: 0.2810 - accuracy: 0.8293 - val_loss: 0.5163 - val_accuracy: 0.7021\n",
            "Epoch 17/50\n",
            "41/41 [==============================] - 0s 9ms/step - loss: 0.2800 - accuracy: 0.8537 - val_loss: 0.5124 - val_accuracy: 0.7021\n",
            "Epoch 18/50\n",
            "41/41 [==============================] - 0s 10ms/step - loss: 0.2819 - accuracy: 0.8049 - val_loss: 0.5173 - val_accuracy: 0.7021\n",
            "Epoch 19/50\n",
            "41/41 [==============================] - 0s 10ms/step - loss: 0.2781 - accuracy: 0.8049 - val_loss: 0.5097 - val_accuracy: 0.7021\n",
            "Epoch 20/50\n",
            "41/41 [==============================] - 0s 11ms/step - loss: 0.2769 - accuracy: 0.8293 - val_loss: 0.5015 - val_accuracy: 0.7447\n",
            "Epoch 21/50\n",
            "41/41 [==============================] - 0s 9ms/step - loss: 0.2757 - accuracy: 0.8049 - val_loss: 0.4987 - val_accuracy: 0.7447\n",
            "Epoch 22/50\n",
            "41/41 [==============================] - 0s 10ms/step - loss: 0.2737 - accuracy: 0.8049 - val_loss: 0.5009 - val_accuracy: 0.7234\n",
            "Epoch 23/50\n",
            "41/41 [==============================] - 0s 11ms/step - loss: 0.2738 - accuracy: 0.8049 - val_loss: 0.4994 - val_accuracy: 0.7234\n",
            "Epoch 24/50\n",
            "41/41 [==============================] - 0s 11ms/step - loss: 0.2749 - accuracy: 0.8293 - val_loss: 0.4981 - val_accuracy: 0.7234\n",
            "Epoch 25/50\n",
            "41/41 [==============================] - 0s 11ms/step - loss: 0.2736 - accuracy: 0.8293 - val_loss: 0.4847 - val_accuracy: 0.7447\n",
            "Epoch 26/50\n",
            "41/41 [==============================] - 0s 12ms/step - loss: 0.2724 - accuracy: 0.8049 - val_loss: 0.4842 - val_accuracy: 0.7447\n",
            "Epoch 27/50\n",
            "41/41 [==============================] - 0s 10ms/step - loss: 0.2736 - accuracy: 0.8537 - val_loss: 0.4784 - val_accuracy: 0.7447\n",
            "Epoch 28/50\n",
            "41/41 [==============================] - 0s 11ms/step - loss: 0.2710 - accuracy: 0.8537 - val_loss: 0.4848 - val_accuracy: 0.7234\n",
            "Epoch 29/50\n",
            "41/41 [==============================] - 0s 10ms/step - loss: 0.2687 - accuracy: 0.8049 - val_loss: 0.4830 - val_accuracy: 0.7234\n",
            "Epoch 30/50\n",
            "41/41 [==============================] - 0s 9ms/step - loss: 0.2686 - accuracy: 0.8049 - val_loss: 0.4826 - val_accuracy: 0.7234\n",
            "Epoch 31/50\n",
            "41/41 [==============================] - 0s 10ms/step - loss: 0.2687 - accuracy: 0.8293 - val_loss: 0.4799 - val_accuracy: 0.7234\n",
            "Epoch 32/50\n",
            "41/41 [==============================] - 0s 11ms/step - loss: 0.2686 - accuracy: 0.8049 - val_loss: 0.4758 - val_accuracy: 0.7234\n",
            "Epoch 33/50\n",
            "41/41 [==============================] - 0s 12ms/step - loss: 0.2670 - accuracy: 0.8537 - val_loss: 0.4693 - val_accuracy: 0.7447\n",
            "Epoch 34/50\n",
            "41/41 [==============================] - 0s 11ms/step - loss: 0.2656 - accuracy: 0.8537 - val_loss: 0.4694 - val_accuracy: 0.7447\n",
            "Epoch 35/50\n",
            "41/41 [==============================] - 0s 11ms/step - loss: 0.2652 - accuracy: 0.8537 - val_loss: 0.4648 - val_accuracy: 0.7447\n",
            "Epoch 36/50\n",
            "41/41 [==============================] - 0s 9ms/step - loss: 0.2655 - accuracy: 0.8049 - val_loss: 0.4718 - val_accuracy: 0.7234\n",
            "Epoch 37/50\n",
            "41/41 [==============================] - 0s 11ms/step - loss: 0.2693 - accuracy: 0.8293 - val_loss: 0.4665 - val_accuracy: 0.7447\n",
            "Epoch 38/50\n",
            "41/41 [==============================] - 0s 10ms/step - loss: 0.2663 - accuracy: 0.8537 - val_loss: 0.4553 - val_accuracy: 0.7447\n",
            "Epoch 39/50\n",
            "41/41 [==============================] - 0s 10ms/step - loss: 0.2654 - accuracy: 0.8537 - val_loss: 0.4545 - val_accuracy: 0.7447\n",
            "Epoch 40/50\n",
            "41/41 [==============================] - 0s 11ms/step - loss: 0.2630 - accuracy: 0.8537 - val_loss: 0.4593 - val_accuracy: 0.7447\n",
            "Epoch 41/50\n",
            "41/41 [==============================] - 0s 11ms/step - loss: 0.2682 - accuracy: 0.7805 - val_loss: 0.4667 - val_accuracy: 0.7234\n",
            "Epoch 42/50\n",
            "41/41 [==============================] - 0s 11ms/step - loss: 0.2626 - accuracy: 0.8537 - val_loss: 0.4599 - val_accuracy: 0.7234\n",
            "Epoch 43/50\n",
            "41/41 [==============================] - 0s 11ms/step - loss: 0.2646 - accuracy: 0.8293 - val_loss: 0.4565 - val_accuracy: 0.7447\n",
            "Epoch 44/50\n",
            "41/41 [==============================] - 0s 11ms/step - loss: 0.2619 - accuracy: 0.8537 - val_loss: 0.4523 - val_accuracy: 0.7447\n",
            "Epoch 45/50\n",
            "41/41 [==============================] - 0s 11ms/step - loss: 0.2626 - accuracy: 0.8537 - val_loss: 0.4533 - val_accuracy: 0.7447\n",
            "Epoch 46/50\n",
            "41/41 [==============================] - 0s 10ms/step - loss: 0.2592 - accuracy: 0.8049 - val_loss: 0.4557 - val_accuracy: 0.7234\n",
            "Epoch 47/50\n",
            "41/41 [==============================] - 0s 11ms/step - loss: 0.2600 - accuracy: 0.8293 - val_loss: 0.4482 - val_accuracy: 0.7447\n",
            "Epoch 48/50\n",
            "41/41 [==============================] - 0s 9ms/step - loss: 0.2591 - accuracy: 0.8537 - val_loss: 0.4495 - val_accuracy: 0.7447\n",
            "Epoch 49/50\n",
            "41/41 [==============================] - 0s 10ms/step - loss: 0.2632 - accuracy: 0.8049 - val_loss: 0.4551 - val_accuracy: 0.7234\n",
            "Epoch 50/50\n",
            "41/41 [==============================] - 0s 11ms/step - loss: 0.2590 - accuracy: 0.8537 - val_loss: 0.4414 - val_accuracy: 0.7447\n",
            "WARNING:tensorflow:Model failed to serialize as JSON. Ignoring... \n",
            "Epoch 1/50\n",
            "41/41 [==============================] - 9s 67ms/step - loss: 0.3179 - accuracy: 0.8293 - val_loss: 0.4414 - val_accuracy: 0.7447\n",
            "Epoch 2/50\n",
            "41/41 [==============================] - 0s 11ms/step - loss: 0.3128 - accuracy: 0.8293 - val_loss: 0.4337 - val_accuracy: 0.7447\n",
            "Epoch 3/50\n",
            "41/41 [==============================] - 0s 11ms/step - loss: 0.3108 - accuracy: 0.8293 - val_loss: 0.4312 - val_accuracy: 0.7447\n",
            "Epoch 4/50\n",
            "41/41 [==============================] - 0s 10ms/step - loss: 0.3147 - accuracy: 0.8293 - val_loss: 0.4223 - val_accuracy: 0.7447\n",
            "Epoch 5/50\n",
            "41/41 [==============================] - 0s 10ms/step - loss: 0.3144 - accuracy: 0.8293 - val_loss: 0.4297 - val_accuracy: 0.7447\n",
            "Epoch 6/50\n",
            "41/41 [==============================] - 0s 10ms/step - loss: 0.3093 - accuracy: 0.8293 - val_loss: 0.4306 - val_accuracy: 0.7447\n",
            "Epoch 7/50\n",
            "41/41 [==============================] - 0s 10ms/step - loss: 0.3087 - accuracy: 0.8293 - val_loss: 0.4341 - val_accuracy: 0.7447\n",
            "Epoch 8/50\n",
            "41/41 [==============================] - 0s 9ms/step - loss: 0.3120 - accuracy: 0.8293 - val_loss: 0.4344 - val_accuracy: 0.7447\n",
            "Epoch 9/50\n",
            "41/41 [==============================] - 0s 11ms/step - loss: 0.3099 - accuracy: 0.8293 - val_loss: 0.4313 - val_accuracy: 0.7447\n",
            "Epoch 10/50\n",
            "41/41 [==============================] - 0s 10ms/step - loss: 0.3086 - accuracy: 0.8293 - val_loss: 0.4329 - val_accuracy: 0.7447\n",
            "Epoch 11/50\n",
            "41/41 [==============================] - 0s 10ms/step - loss: 0.3086 - accuracy: 0.8293 - val_loss: 0.4329 - val_accuracy: 0.7447\n",
            "Epoch 12/50\n",
            "41/41 [==============================] - 0s 11ms/step - loss: 0.3087 - accuracy: 0.8293 - val_loss: 0.4391 - val_accuracy: 0.7447\n",
            "Epoch 13/50\n",
            "41/41 [==============================] - 0s 10ms/step - loss: 0.3070 - accuracy: 0.8293 - val_loss: 0.4342 - val_accuracy: 0.7447\n",
            "Epoch 14/50\n",
            "41/41 [==============================] - 0s 11ms/step - loss: 0.3079 - accuracy: 0.8293 - val_loss: 0.4391 - val_accuracy: 0.7447\n",
            "Epoch 15/50\n",
            "41/41 [==============================] - 0s 9ms/step - loss: 0.3064 - accuracy: 0.8293 - val_loss: 0.4348 - val_accuracy: 0.7447\n",
            "Epoch 16/50\n",
            "41/41 [==============================] - 0s 10ms/step - loss: 0.3088 - accuracy: 0.8293 - val_loss: 0.4380 - val_accuracy: 0.7447\n",
            "Epoch 17/50\n",
            "41/41 [==============================] - 0s 11ms/step - loss: 0.3071 - accuracy: 0.8293 - val_loss: 0.4374 - val_accuracy: 0.7447\n",
            "Epoch 18/50\n",
            "41/41 [==============================] - 0s 10ms/step - loss: 0.3069 - accuracy: 0.8293 - val_loss: 0.4328 - val_accuracy: 0.7447\n",
            "Epoch 19/50\n",
            "41/41 [==============================] - 0s 11ms/step - loss: 0.3083 - accuracy: 0.8293 - val_loss: 0.4435 - val_accuracy: 0.7447\n",
            "Epoch 20/50\n",
            "41/41 [==============================] - 0s 10ms/step - loss: 0.3078 - accuracy: 0.8293 - val_loss: 0.4368 - val_accuracy: 0.7447\n",
            "Epoch 21/50\n",
            "41/41 [==============================] - 0s 10ms/step - loss: 0.3067 - accuracy: 0.8293 - val_loss: 0.4400 - val_accuracy: 0.7447\n",
            "Epoch 22/50\n",
            "41/41 [==============================] - 0s 11ms/step - loss: 0.3075 - accuracy: 0.8293 - val_loss: 0.4422 - val_accuracy: 0.7447\n",
            "Epoch 23/50\n",
            "41/41 [==============================] - 0s 11ms/step - loss: 0.3066 - accuracy: 0.8293 - val_loss: 0.4404 - val_accuracy: 0.7447\n",
            "Epoch 24/50\n",
            "41/41 [==============================] - 0s 11ms/step - loss: 0.3045 - accuracy: 0.8293 - val_loss: 0.4387 - val_accuracy: 0.7447\n",
            "Epoch 25/50\n",
            "41/41 [==============================] - 0s 9ms/step - loss: 0.3044 - accuracy: 0.8293 - val_loss: 0.4410 - val_accuracy: 0.7447\n",
            "Epoch 26/50\n",
            "41/41 [==============================] - 0s 11ms/step - loss: 0.3042 - accuracy: 0.8293 - val_loss: 0.4467 - val_accuracy: 0.7447\n",
            "Epoch 27/50\n",
            "41/41 [==============================] - 0s 10ms/step - loss: 0.3030 - accuracy: 0.8293 - val_loss: 0.4428 - val_accuracy: 0.7447\n",
            "Epoch 28/50\n",
            "41/41 [==============================] - 0s 11ms/step - loss: 0.3091 - accuracy: 0.8293 - val_loss: 0.4436 - val_accuracy: 0.7447\n",
            "Epoch 29/50\n",
            "41/41 [==============================] - 0s 9ms/step - loss: 0.3026 - accuracy: 0.8293 - val_loss: 0.4464 - val_accuracy: 0.7447\n",
            "Epoch 30/50\n",
            "41/41 [==============================] - 0s 11ms/step - loss: 0.3133 - accuracy: 0.8293 - val_loss: 0.4510 - val_accuracy: 0.7447\n",
            "Epoch 31/50\n",
            "41/41 [==============================] - 0s 11ms/step - loss: 0.3064 - accuracy: 0.8293 - val_loss: 0.4426 - val_accuracy: 0.7447\n",
            "Epoch 32/50\n",
            "41/41 [==============================] - 0s 10ms/step - loss: 0.3038 - accuracy: 0.8293 - val_loss: 0.4445 - val_accuracy: 0.7447\n",
            "Epoch 33/50\n",
            "41/41 [==============================] - 0s 10ms/step - loss: 0.3035 - accuracy: 0.8293 - val_loss: 0.4434 - val_accuracy: 0.7447\n",
            "Epoch 34/50\n",
            "41/41 [==============================] - 0s 11ms/step - loss: 0.3037 - accuracy: 0.8293 - val_loss: 0.4504 - val_accuracy: 0.7447\n",
            "Epoch 35/50\n",
            "41/41 [==============================] - 0s 11ms/step - loss: 0.3036 - accuracy: 0.8293 - val_loss: 0.4420 - val_accuracy: 0.7447\n",
            "Epoch 36/50\n",
            "41/41 [==============================] - 0s 10ms/step - loss: 0.3023 - accuracy: 0.8293 - val_loss: 0.4451 - val_accuracy: 0.7447\n",
            "Epoch 37/50\n",
            "41/41 [==============================] - 0s 11ms/step - loss: 0.3029 - accuracy: 0.8293 - val_loss: 0.4455 - val_accuracy: 0.7447\n",
            "Epoch 38/50\n",
            "41/41 [==============================] - 0s 11ms/step - loss: 0.3042 - accuracy: 0.8293 - val_loss: 0.4424 - val_accuracy: 0.7447\n",
            "Epoch 39/50\n",
            "41/41 [==============================] - 0s 9ms/step - loss: 0.3045 - accuracy: 0.8293 - val_loss: 0.4451 - val_accuracy: 0.7447\n",
            "Epoch 40/50\n",
            "41/41 [==============================] - 0s 11ms/step - loss: 0.3017 - accuracy: 0.8293 - val_loss: 0.4512 - val_accuracy: 0.7447\n",
            "Epoch 41/50\n",
            "41/41 [==============================] - 0s 9ms/step - loss: 0.3037 - accuracy: 0.8293 - val_loss: 0.4472 - val_accuracy: 0.7447\n",
            "Epoch 42/50\n",
            "41/41 [==============================] - 0s 10ms/step - loss: 0.3005 - accuracy: 0.8293 - val_loss: 0.4449 - val_accuracy: 0.7447\n",
            "Epoch 43/50\n",
            "41/41 [==============================] - 0s 12ms/step - loss: 0.3028 - accuracy: 0.8293 - val_loss: 0.4528 - val_accuracy: 0.7447\n",
            "Epoch 44/50\n",
            "41/41 [==============================] - 0s 10ms/step - loss: 0.3035 - accuracy: 0.8293 - val_loss: 0.4463 - val_accuracy: 0.7447\n",
            "Epoch 45/50\n",
            "41/41 [==============================] - 0s 12ms/step - loss: 0.3020 - accuracy: 0.8293 - val_loss: 0.4551 - val_accuracy: 0.7447\n",
            "Epoch 46/50\n",
            "41/41 [==============================] - 0s 9ms/step - loss: 0.3016 - accuracy: 0.8293 - val_loss: 0.4484 - val_accuracy: 0.7447\n",
            "Epoch 47/50\n",
            "41/41 [==============================] - 0s 11ms/step - loss: 0.2998 - accuracy: 0.8293 - val_loss: 0.4506 - val_accuracy: 0.7447\n",
            "Epoch 48/50\n",
            "41/41 [==============================] - 0s 11ms/step - loss: 0.2993 - accuracy: 0.8293 - val_loss: 0.4516 - val_accuracy: 0.7447\n",
            "Epoch 49/50\n",
            "41/41 [==============================] - 0s 10ms/step - loss: 0.2997 - accuracy: 0.8293 - val_loss: 0.4497 - val_accuracy: 0.7447\n",
            "Epoch 50/50\n",
            "41/41 [==============================] - 0s 10ms/step - loss: 0.2990 - accuracy: 0.8293 - val_loss: 0.4494 - val_accuracy: 0.7447\n"
          ]
        }
      ]
    },
    {
      "cell_type": "code",
      "source": [
        "evaluate_ensemble(model=model, x_datas=x_test, y_datas=y_test)"
      ],
      "metadata": {
        "colab": {
          "base_uri": "https://localhost:8080/"
        },
        "outputId": "84ac9551-b5e3-4b4f-fb5c-ac1132b7ef65",
        "id": "4FhNt--QYNg8"
      },
      "execution_count": 112,
      "outputs": [
        {
          "output_type": "execute_result",
          "data": {
            "text/plain": [
              "0.7311827956989247"
            ]
          },
          "metadata": {},
          "execution_count": 112
        }
      ]
    },
    {
      "cell_type": "code",
      "source": [
        ""
      ],
      "metadata": {
        "id": "z_E2_T9oNvxc"
      },
      "execution_count": null,
      "outputs": []
    },
    {
      "cell_type": "markdown",
      "source": [
        "Which neurons = [25, 45, 25]\n",
        "\n",
        "> Elman = neurons[:-1]\n",
        "\n",
        "> Jordan = neurons[1:]\n",
        "\n",
        "were the best model with accuracy of 85%"
      ],
      "metadata": {
        "id": "-6G2yBYyfydJ"
      }
    },
    {
      "cell_type": "code",
      "source": [
        ""
      ],
      "metadata": {
        "id": "DeNgUs2eNvjA"
      },
      "execution_count": null,
      "outputs": []
    },
    {
      "cell_type": "code",
      "source": [
        ""
      ],
      "metadata": {
        "id": "VtnMOpJoNvgH"
      },
      "execution_count": null,
      "outputs": []
    }
  ],
  "metadata": {
    "interpreter": {
      "hash": "3858431499dcaaf4de29b8b352749eebe871787bd67cf3dfc1982c43a6256c9d"
    },
    "kernelspec": {
      "display_name": "Python 3 (ipykernel)",
      "language": "python",
      "name": "python3"
    },
    "language_info": {
      "codemirror_mode": {
        "name": "ipython",
        "version": 3
      },
      "file_extension": ".py",
      "mimetype": "text/x-python",
      "name": "python",
      "nbconvert_exporter": "python",
      "pygments_lexer": "ipython3",
      "version": "3.10.1"
    },
    "colab": {
      "name": "HW05.ipynb",
      "provenance": []
    },
    "accelerator": "GPU"
  },
  "nbformat": 4,
  "nbformat_minor": 0
}