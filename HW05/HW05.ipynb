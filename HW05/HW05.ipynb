{
  "cells": [
    {
      "cell_type": "markdown",
      "metadata": {
        "id": "upz6ROBp09qo"
      },
      "source": [
        "### - Sobhan Moradian Daghigh\n",
        "#### - 5/20/2022\n",
        "#### - ANN - HW05"
      ]
    },
    {
      "cell_type": "code",
      "execution_count": 137,
      "metadata": {
        "colab": {
          "base_uri": "https://localhost:8080/"
        },
        "id": "Sz-0H12q09qt",
        "outputId": "6ba8cf29-c8eb-4a23-8ff4-8e7f255b9e9d"
      },
      "outputs": [
        {
          "output_type": "stream",
          "name": "stdout",
          "text": [
            "The tensorboard extension is already loaded. To reload it, use:\n",
            "  %reload_ext tensorboard\n"
          ]
        }
      ],
      "source": [
        "import numpy as np\n",
        "import matplotlib.pyplot as plt\n",
        "from sklearn.model_selection import train_test_split\n",
        "import urllib\n",
        "import tensorflow as tf, keras\n",
        "from sklearn.metrics import accuracy_score\n",
        "from keras.utils.vis_utils import plot_model\n",
        "from keras.models import Model\n",
        "from keras.layers import Input, Dense, Flatten\n",
        "from keras.layers.merge import concatenate\n",
        "\n",
        "import warnings\n",
        "warnings.filterwarnings(\"ignore\")\n",
        "\n",
        "import itertools\n",
        "\n",
        "%load_ext tensorboard"
      ]
    },
    {
      "cell_type": "code",
      "source": [
        "print(tf.__version__)"
      ],
      "metadata": {
        "colab": {
          "base_uri": "https://localhost:8080/"
        },
        "id": "lC6SiTti1cHr",
        "outputId": "2ecf6c3a-a140-4337-b393-750c7d0fdb68"
      },
      "execution_count": 138,
      "outputs": [
        {
          "output_type": "stream",
          "name": "stdout",
          "text": [
            "2.8.0\n"
          ]
        }
      ]
    },
    {
      "cell_type": "code",
      "source": [
        "from google.colab import drive\n",
        "drive.mount('/content/drive')"
      ],
      "metadata": {
        "colab": {
          "base_uri": "https://localhost:8080/"
        },
        "id": "3_3LG3SH5vTa",
        "outputId": "e5b9ddba-6068-458c-d256-07ad0fde86f1"
      },
      "execution_count": 139,
      "outputs": [
        {
          "output_type": "stream",
          "name": "stdout",
          "text": [
            "Drive already mounted at /content/drive; to attempt to forcibly remount, call drive.mount(\"/content/drive\", force_remount=True).\n"
          ]
        }
      ]
    },
    {
      "cell_type": "code",
      "source": [
        "tb_callback = keras.callbacks.TensorBoard(log_dir='/content/drive/MyDrive/logs', histogram_freq=1)"
      ],
      "metadata": {
        "id": "RCNvq9tI5vO0"
      },
      "execution_count": 140,
      "outputs": []
    },
    {
      "cell_type": "code",
      "source": [
        "class EarlyStoppingCallback(keras.callbacks.Callback):\n",
        "  def __init__(self, patience=0):\n",
        "    super(EarlyStoppingCallback, self).__init__()\n",
        "    self.patience = patience\n",
        "\n",
        "  def on_train_begin(self, logs=None):\n",
        "    self.best = 0\n",
        "    self.wait = 0\n",
        "  \n",
        "  def on_epoch_end(self, epoch, logs=None):\n",
        "    current_acc = logs.get('accuracy')\n",
        "    if np.less(self.best, current_acc):\n",
        "      self.best = current_acc\n",
        "      self.wait = 0\n",
        "      self.best_weights = self.model.get_weights()\n",
        "    else:\n",
        "      self.wait += 1\n",
        "      if np.greater_equal(self.wait, self.patience):\n",
        "        self.model.stop_training = True\n",
        "        self.model.set_weights(self.best_weights)"
      ],
      "metadata": {
        "id": "TFv3GdDX5vMN"
      },
      "execution_count": 141,
      "outputs": []
    },
    {
      "cell_type": "code",
      "source": [
        "es_callback = EarlyStoppingCallback(patience=3)"
      ],
      "metadata": {
        "id": "PnySBYER5vJv"
      },
      "execution_count": 142,
      "outputs": []
    },
    {
      "cell_type": "code",
      "source": [
        ""
      ],
      "metadata": {
        "id": "lvBhf7E3550C"
      },
      "execution_count": 142,
      "outputs": []
    },
    {
      "cell_type": "markdown",
      "metadata": {
        "id": "uAIOKJAQ09qv"
      },
      "source": [
        "# Load Data"
      ]
    },
    {
      "cell_type": "code",
      "source": [
        "def load_data(base_url, names):\n",
        "  datas = []\n",
        "  labels = []\n",
        "  for name in names:\n",
        "    file = urllib.request.urlopen(base_url + '{}.data'.format(name))\n",
        "    while True:\n",
        "      # Reading label\n",
        "      label = file.readline().decode(\"utf-8\").strip()\n",
        "\n",
        "      # EOF\n",
        "      if label is '':\n",
        "        break\n",
        "\n",
        "      label = 1 if label in ['normal', 'ok'] else 0\n",
        "      labels.append(label)\n",
        "\n",
        "      # Packing each 15 datas\n",
        "      pack = []\n",
        "      for _ in range(15):\n",
        "        data = [np.float64(x) for x in (file.readline().decode(\"utf-8\")[:-1].split('\\t')[1:])]\n",
        "        pack.append(data)\n",
        "      datas.append(pack)\n",
        "\n",
        "      # Skipping for two empty lines\n",
        "      file.readline()\n",
        "      file.readline()\n",
        "\n",
        "  return np.array(datas), np.array(labels)"
      ],
      "metadata": {
        "id": "jFUPtL5l5vHK"
      },
      "execution_count": 143,
      "outputs": []
    },
    {
      "cell_type": "code",
      "source": [
        "base_url = 'https://raw.githubusercontent.com/nahbos/AUT-Neural-Networks/main/HW05/data/'\n",
        "names = ['lp1', 'lp2', 'lp3', 'lp4', 'lp5']\n",
        "datas, labels = load_data(base_url, names)"
      ],
      "metadata": {
        "id": "NKHQFcJf6oKp"
      },
      "execution_count": 144,
      "outputs": []
    },
    {
      "cell_type": "code",
      "source": [
        "datas.shape"
      ],
      "metadata": {
        "colab": {
          "base_uri": "https://localhost:8080/"
        },
        "id": "vGMmSb9zIJ4-",
        "outputId": "75d1bbd0-23f3-42a7-d38c-2079b10696e7"
      },
      "execution_count": 145,
      "outputs": [
        {
          "output_type": "execute_result",
          "data": {
            "text/plain": [
              "(463, 15, 6)"
            ]
          },
          "metadata": {},
          "execution_count": 145
        }
      ]
    },
    {
      "cell_type": "code",
      "execution_count": 145,
      "metadata": {
        "id": "T_ApCRTA09qx"
      },
      "outputs": [],
      "source": [
        ""
      ]
    },
    {
      "cell_type": "code",
      "execution_count": 146,
      "metadata": {
        "id": "ECLXo6Bu09qy"
      },
      "outputs": [],
      "source": [
        "x_temp, x_test, y_temp, y_test = train_test_split(datas, labels, test_size=0.2, random_state=42)\n",
        "x_train, x_val, y_train, y_val = train_test_split(x_temp, y_temp, test_size=0.125, random_state=42)"
      ]
    },
    {
      "cell_type": "code",
      "source": [
        "x_train.shape"
      ],
      "metadata": {
        "colab": {
          "base_uri": "https://localhost:8080/"
        },
        "id": "jjgeYRxDI9Xe",
        "outputId": "d2984a77-01ff-4503-af86-9915cb2b304a"
      },
      "execution_count": 147,
      "outputs": [
        {
          "output_type": "execute_result",
          "data": {
            "text/plain": [
              "(323, 15, 6)"
            ]
          },
          "metadata": {},
          "execution_count": 147
        }
      ]
    },
    {
      "cell_type": "code",
      "source": [
        "x_val.shape"
      ],
      "metadata": {
        "colab": {
          "base_uri": "https://localhost:8080/"
        },
        "id": "foW7zHH-JBgM",
        "outputId": "41744be4-2d82-4742-e504-3b91e0a9fe95"
      },
      "execution_count": 148,
      "outputs": [
        {
          "output_type": "execute_result",
          "data": {
            "text/plain": [
              "(47, 15, 6)"
            ]
          },
          "metadata": {},
          "execution_count": 148
        }
      ]
    },
    {
      "cell_type": "code",
      "source": [
        "x_test.shape"
      ],
      "metadata": {
        "colab": {
          "base_uri": "https://localhost:8080/"
        },
        "id": "PYUNIOUZJGXl",
        "outputId": "d7e7435c-4f31-4d39-88b8-8929e57cafd2"
      },
      "execution_count": 149,
      "outputs": [
        {
          "output_type": "execute_result",
          "data": {
            "text/plain": [
              "(93, 15, 6)"
            ]
          },
          "metadata": {},
          "execution_count": 149
        }
      ]
    },
    {
      "cell_type": "code",
      "source": [
        ""
      ],
      "metadata": {
        "id": "sSSM7GcAJXYd"
      },
      "execution_count": 149,
      "outputs": []
    },
    {
      "cell_type": "markdown",
      "metadata": {
        "id": "LCfmvLwV09q0"
      },
      "source": [
        "# Elman Neural Network\n",
        "#### Implementation is based on Elman algorithm and rules\n",
        "##### Some useful links:\n",
        "##### [Elman](https://www.youtube.com/watch?v=e2sGq_vI41s&list=PLC112AD1C69432FDB&index=4)\n",
        "##### [Deep Learning with Python book - page 197](https://tanthiamhuat.files.wordpress.com/2018/03/deeplearningwithpython.pdf)"
      ]
    },
    {
      "cell_type": "code",
      "execution_count": 150,
      "metadata": {
        "id": "-5ExfEEA09q1"
      },
      "outputs": [],
      "source": [
        "class Elman(tf.keras.Model):\n",
        "  def __init__(self, input_dim, hidden_units, feature_size, n_classes):\n",
        "    super().__init__()\n",
        "    self.hidden_units = hidden_units\n",
        "    self.feature_size = feature_size\n",
        "    self.input_dim = input_dim\n",
        "    self.n_classes = n_classes\n",
        "\n",
        "    # The names are based on the pseudo code in the book which linked above.\n",
        "\n",
        "    self.W = self.add_weight(shape=(self.hidden_units, self.feature_size), initializer='random_normal', trainable=True)\n",
        "    self.U = self.add_weight(shape=(self.hidden_units, self.hidden_units), initializer='random_normal', trainable=True)\n",
        "    self.b = self.add_weight(shape=(self.hidden_units,), initializer='random_normal', trainable=True)\n",
        "\n",
        "    self.W_y = self.add_weight(shape=(self.n_classes, self.hidden_units), initializer='random_normal', trainable=True)\n",
        "    self.b_y = self.add_weight(shape=(self.n_classes,), initializer='random_normal', trainable=True)\n",
        "\n",
        "  def call(self, x):\n",
        "    state_t = tf.zeros(self.hidden_units)\n",
        "    for i in range(self.input_dim):\n",
        "      state_t = tf.keras.activations.tanh(tf.matmul(self.W, tf.cast(tf.reshape(x[0][i], (self.feature_size, 1)), tf.float32)) + tf.matmul(self.U, tf.reshape(state_t, (self.hidden_units,1))) + tf.reshape(self.b, (self.hidden_units, 1)))\n",
        "\n",
        "    y = tf.keras.activations.tanh(tf.matmul(self.W_y, tf.reshape(state_t, (self.hidden_units,1))) + tf.reshape(self.b_y, (self.n_classes,1)))\n",
        "    return y"
      ]
    },
    {
      "cell_type": "code",
      "source": [
        "def evaluate(model, x_datas, y_datas):\n",
        "  predictions = []\n",
        "  for data in x_datas:\n",
        "    res = model.call(tf.convert_to_tensor(np.array([data])))\n",
        "    res = 1 if np.array(res)[0] > 0.5 else 0\n",
        "    predictions.append(res)\n",
        "\n",
        "  return accuracy_score(y_datas, predictions)"
      ],
      "metadata": {
        "id": "04ZOAF8Qwmqq"
      },
      "execution_count": 151,
      "outputs": []
    },
    {
      "cell_type": "code",
      "execution_count": 152,
      "metadata": {
        "id": "OyyeyoED09q1"
      },
      "outputs": [],
      "source": [
        "elman = Elman(input_dim=15, hidden_units=45, feature_size=6, n_classes=2)"
      ]
    },
    {
      "cell_type": "code",
      "source": [
        "elman.compile(optimizer='adam', loss='binary_crossentropy', metrics=['accuracy'])"
      ],
      "metadata": {
        "id": "6Kqq2V66NMvt"
      },
      "execution_count": 153,
      "outputs": []
    },
    {
      "cell_type": "code",
      "source": [
        "elman.fit(x_train, y_train, batch_size=1, epochs=20, validation_data=(x_val, y_val), callbacks=[tb_callback])"
      ],
      "metadata": {
        "colab": {
          "base_uri": "https://localhost:8080/"
        },
        "id": "duEi0gM5NKvX",
        "outputId": "81c08d6f-2bbe-43df-ba4c-04e9df455d94"
      },
      "execution_count": 154,
      "outputs": [
        {
          "output_type": "stream",
          "name": "stdout",
          "text": [
            "Epoch 1/20\n",
            "323/323 [==============================] - 61s 4ms/step - loss: 1.1412 - accuracy: 0.7384 - val_loss: 0.4050 - val_accuracy: 0.7340\n",
            "Epoch 2/20\n",
            "323/323 [==============================] - 1s 3ms/step - loss: 0.3477 - accuracy: 0.7988 - val_loss: 0.3607 - val_accuracy: 0.8298\n",
            "Epoch 3/20\n",
            "323/323 [==============================] - 1s 3ms/step - loss: 0.3268 - accuracy: 0.8127 - val_loss: 0.3458 - val_accuracy: 0.8191\n",
            "Epoch 4/20\n",
            "323/323 [==============================] - 1s 3ms/step - loss: 0.3025 - accuracy: 0.8560 - val_loss: 0.3490 - val_accuracy: 0.7979\n",
            "Epoch 5/20\n",
            "323/323 [==============================] - 1s 3ms/step - loss: 0.2901 - accuracy: 0.8483 - val_loss: 0.3965 - val_accuracy: 0.7340\n",
            "Epoch 6/20\n",
            "323/323 [==============================] - 1s 3ms/step - loss: 0.2918 - accuracy: 0.8375 - val_loss: 0.3154 - val_accuracy: 0.7979\n",
            "Epoch 7/20\n",
            "323/323 [==============================] - 1s 3ms/step - loss: 0.2632 - accuracy: 0.8607 - val_loss: 0.2714 - val_accuracy: 0.8298\n",
            "Epoch 8/20\n",
            "323/323 [==============================] - 1s 3ms/step - loss: 0.2467 - accuracy: 0.8669 - val_loss: 0.3153 - val_accuracy: 0.7447\n",
            "Epoch 9/20\n",
            "323/323 [==============================] - 1s 3ms/step - loss: 0.2376 - accuracy: 0.8715 - val_loss: 0.3089 - val_accuracy: 0.8085\n",
            "Epoch 10/20\n",
            "323/323 [==============================] - 1s 4ms/step - loss: 0.2334 - accuracy: 0.8715 - val_loss: 0.3041 - val_accuracy: 0.7872\n",
            "Epoch 11/20\n",
            "323/323 [==============================] - 1s 3ms/step - loss: 0.2216 - accuracy: 0.8901 - val_loss: 0.2384 - val_accuracy: 0.8830\n",
            "Epoch 12/20\n",
            "323/323 [==============================] - 1s 3ms/step - loss: 0.2070 - accuracy: 0.8963 - val_loss: 0.2144 - val_accuracy: 0.8723\n",
            "Epoch 13/20\n",
            "323/323 [==============================] - 1s 2ms/step - loss: 0.2012 - accuracy: 0.9040 - val_loss: 0.2085 - val_accuracy: 0.8936\n",
            "Epoch 14/20\n",
            "323/323 [==============================] - 1s 2ms/step - loss: 0.2933 - accuracy: 0.9102 - val_loss: 0.3542 - val_accuracy: 0.7447\n",
            "Epoch 15/20\n",
            "323/323 [==============================] - 1s 3ms/step - loss: 0.1950 - accuracy: 0.9071 - val_loss: 0.2746 - val_accuracy: 0.8617\n",
            "Epoch 16/20\n",
            "323/323 [==============================] - 1s 3ms/step - loss: 0.1967 - accuracy: 0.9180 - val_loss: 0.2168 - val_accuracy: 0.8830\n",
            "Epoch 17/20\n",
            "323/323 [==============================] - 1s 3ms/step - loss: 0.1596 - accuracy: 0.9180 - val_loss: 0.1901 - val_accuracy: 0.8723\n",
            "Epoch 18/20\n",
            "323/323 [==============================] - 1s 3ms/step - loss: 0.1522 - accuracy: 0.9180 - val_loss: 0.1902 - val_accuracy: 0.9255\n",
            "Epoch 19/20\n",
            "323/323 [==============================] - 1s 3ms/step - loss: 0.1448 - accuracy: 0.9288 - val_loss: 0.2066 - val_accuracy: 0.9149\n",
            "Epoch 20/20\n",
            "323/323 [==============================] - 1s 3ms/step - loss: 0.1438 - accuracy: 0.9350 - val_loss: 0.1924 - val_accuracy: 0.8723\n"
          ]
        },
        {
          "output_type": "execute_result",
          "data": {
            "text/plain": [
              "<keras.callbacks.History at 0x7fe7321820d0>"
            ]
          },
          "metadata": {},
          "execution_count": 154
        }
      ]
    },
    {
      "cell_type": "code",
      "source": [
        "evaluate(model=elman, x_datas=x_test, y_datas=y_test)"
      ],
      "metadata": {
        "colab": {
          "base_uri": "https://localhost:8080/"
        },
        "id": "PDDMzNawu2Y6",
        "outputId": "1677547c-21aa-4257-de01-783d0c1a00a5"
      },
      "execution_count": 155,
      "outputs": [
        {
          "output_type": "execute_result",
          "data": {
            "text/plain": [
              "0.8602150537634409"
            ]
          },
          "metadata": {},
          "execution_count": 155
        }
      ]
    },
    {
      "cell_type": "code",
      "execution_count": 175,
      "metadata": {
        "id": "rhW2maF709q2"
      },
      "outputs": [],
      "source": [
        "# %tensorboard --logdir '/content/drive/MyDrive/logs'"
      ]
    },
    {
      "cell_type": "code",
      "source": [
        ""
      ],
      "metadata": {
        "id": "hZoDKkm3N9Td"
      },
      "execution_count": 156,
      "outputs": []
    },
    {
      "cell_type": "code",
      "source": [
        ""
      ],
      "metadata": {
        "id": "xGOIYqwJN9MM"
      },
      "execution_count": 156,
      "outputs": []
    },
    {
      "cell_type": "code",
      "source": [
        "stop"
      ],
      "metadata": {
        "colab": {
          "base_uri": "https://localhost:8080/",
          "height": 171
        },
        "id": "NhQR-9Q2OrTk",
        "outputId": "976de36f-7914-4299-ee0c-34aedbbfbd22"
      },
      "execution_count": 158,
      "outputs": [
        {
          "output_type": "error",
          "ename": "NameError",
          "evalue": "ignored",
          "traceback": [
            "\u001b[0;31m---------------------------------------------------------------------------\u001b[0m",
            "\u001b[0;31mNameError\u001b[0m                                 Traceback (most recent call last)",
            "\u001b[0;32m<ipython-input-158-4f76a9dad686>\u001b[0m in \u001b[0;36m<module>\u001b[0;34m()\u001b[0m\n\u001b[0;32m----> 1\u001b[0;31m \u001b[0mstop\u001b[0m\u001b[0;34m\u001b[0m\u001b[0;34m\u001b[0m\u001b[0m\n\u001b[0m",
            "\u001b[0;31mNameError\u001b[0m: name 'stop' is not defined"
          ]
        }
      ]
    },
    {
      "cell_type": "markdown",
      "metadata": {
        "id": "g6Kzp3aD09q3"
      },
      "source": [
        "## Jordan"
      ]
    },
    {
      "cell_type": "code",
      "execution_count": 159,
      "metadata": {
        "id": "uSXBJQqp09q3"
      },
      "outputs": [],
      "source": [
        "class Jordan(tf.keras.Model):\n",
        "    def __init__(self, input_dim, hidden_units, feature_size, n_classes):\n",
        "        super().__init__()\n",
        "        self.hidden_units = hidden_units\n",
        "        self.feature_size = feature_size\n",
        "        self.input_dim = input_dim\n",
        "        self.n_classes = n_classes\n",
        "\n",
        "        # The names are based on the pseudo code in the book which linked above.\n",
        "\n",
        "        self.W = self.add_weight(shape=(self.hidden_units, self.feature_size), initializer='random_normal', trainable=True)\n",
        "        self.U = self.add_weight(shape=(self.hidden_units, self.hidden_units), initializer='random_normal', trainable=True)\n",
        "        self.b = self.add_weight(shape=(self.hidden_units,), initializer='random_normal', trainable=True)\n",
        "\n",
        "        self.W_y_intermediate = self.add_weight(shape=(self.hidden_units, self.hidden_units), initializer='random_normal', trainable=True)\n",
        "        self.b_y_intermediate = self.add_weight(shape=(self.hidden_units,), initializer='random_normal', trainable=True)\n",
        "\n",
        "        self.W_y = self.add_weight(shape=(self.n_classes, self.hidden_units), initializer='random_normal', trainable=True)\n",
        "        self.b_y = self.add_weight(shape=(self.n_classes,), initializer='random_normal', trainable=True)\n",
        "\n",
        "    def call(self, x):\n",
        "        state_t = tf.zeros(self.hidden_units)\n",
        "        for i in range(self.input_dim):\n",
        "            hidden = tf.keras.activations.tanh(tf.matmul(self.W, tf.cast(tf.reshape(x[0][i], (self.feature_size, 1)), tf.float32)) + tf.matmul(self.U, tf.reshape(state_t, (self.hidden_units,1))) + tf.reshape(self.b, (self.hidden_units, 1)))\n",
        "            state_t = tf.keras.activations.tanh(tf.matmul(self.W_y_intermediate, tf.reshape(hidden, (self.hidden_units,1))) + tf.reshape(self.b_y_intermediate, (self.hidden_units,1)))\n",
        "        y = tf.keras.activations.tanh(tf.matmul(self.W_y, tf.reshape(state_t, (self.hidden_units,1))) + tf.reshape(self.b_y, (self.n_classes,1)))\n",
        "\n",
        "        return y"
      ]
    },
    {
      "cell_type": "code",
      "execution_count": 160,
      "metadata": {
        "id": "ez-Pamhs09q3"
      },
      "outputs": [],
      "source": [
        "jordan = Jordan(input_dim=15, hidden_units=25, feature_size=6, n_classes=2)"
      ]
    },
    {
      "cell_type": "code",
      "source": [
        "jordan.compile(optimizer='adam', loss='binary_crossentropy', metrics=['accuracy'])"
      ],
      "metadata": {
        "id": "3UdAh2l3N-hd"
      },
      "execution_count": 161,
      "outputs": []
    },
    {
      "cell_type": "code",
      "source": [
        "jordan.fit( x_train, y_train, batch_size=1, epochs=20, validation_data=(x_val, y_val), callbacks=[tb_callback])"
      ],
      "metadata": {
        "colab": {
          "base_uri": "https://localhost:8080/"
        },
        "id": "qkUu5ELAN-e0",
        "outputId": "2cde1284-6f5b-43e6-9033-b3c3e44a4cad"
      },
      "execution_count": 162,
      "outputs": [
        {
          "output_type": "stream",
          "name": "stdout",
          "text": [
            "Epoch 1/20\n",
            "323/323 [==============================] - 4s 5ms/step - loss: 0.5244 - accuracy: 0.6935 - val_loss: 0.3789 - val_accuracy: 0.7872\n",
            "Epoch 2/20\n",
            "323/323 [==============================] - 1s 3ms/step - loss: 0.3639 - accuracy: 0.7972 - val_loss: 0.3566 - val_accuracy: 0.7872\n",
            "Epoch 3/20\n",
            "323/323 [==============================] - 1s 3ms/step - loss: 0.3394 - accuracy: 0.8235 - val_loss: 0.3462 - val_accuracy: 0.8085\n",
            "Epoch 4/20\n",
            "323/323 [==============================] - 1s 3ms/step - loss: 0.3122 - accuracy: 0.8375 - val_loss: 0.3782 - val_accuracy: 0.7128\n",
            "Epoch 5/20\n",
            "323/323 [==============================] - 1s 3ms/step - loss: 0.3078 - accuracy: 0.8266 - val_loss: 0.3371 - val_accuracy: 0.7872\n",
            "Epoch 6/20\n",
            "323/323 [==============================] - 1s 3ms/step - loss: 0.3057 - accuracy: 0.8142 - val_loss: 0.2960 - val_accuracy: 0.8830\n",
            "Epoch 7/20\n",
            "323/323 [==============================] - 1s 3ms/step - loss: 0.2760 - accuracy: 0.8498 - val_loss: 0.3108 - val_accuracy: 0.8511\n",
            "Epoch 8/20\n",
            "323/323 [==============================] - 1s 3ms/step - loss: 0.2654 - accuracy: 0.8375 - val_loss: 0.3618 - val_accuracy: 0.7447\n",
            "Epoch 9/20\n",
            "323/323 [==============================] - 1s 3ms/step - loss: 0.2706 - accuracy: 0.8576 - val_loss: 0.5890 - val_accuracy: 0.8830\n",
            "Epoch 10/20\n",
            "323/323 [==============================] - 1s 3ms/step - loss: 0.3754 - accuracy: 0.8715 - val_loss: 0.3088 - val_accuracy: 0.8404\n",
            "Epoch 11/20\n",
            "323/323 [==============================] - 1s 3ms/step - loss: 0.3628 - accuracy: 0.8808 - val_loss: 0.2721 - val_accuracy: 0.8511\n",
            "Epoch 12/20\n",
            "323/323 [==============================] - 1s 3ms/step - loss: 0.2698 - accuracy: 0.8870 - val_loss: 1.3560 - val_accuracy: 0.9149\n",
            "Epoch 13/20\n",
            "323/323 [==============================] - 1s 3ms/step - loss: 0.4461 - accuracy: 0.8452 - val_loss: 0.3454 - val_accuracy: 0.7766\n",
            "Epoch 14/20\n",
            "323/323 [==============================] - 1s 3ms/step - loss: 0.2304 - accuracy: 0.8746 - val_loss: 0.3182 - val_accuracy: 0.8511\n",
            "Epoch 15/20\n",
            "323/323 [==============================] - 1s 3ms/step - loss: 0.2016 - accuracy: 0.8932 - val_loss: 0.3072 - val_accuracy: 0.8404\n",
            "Epoch 16/20\n",
            "323/323 [==============================] - 1s 3ms/step - loss: 0.2555 - accuracy: 0.8978 - val_loss: 0.3403 - val_accuracy: 0.8085\n",
            "Epoch 17/20\n",
            "323/323 [==============================] - 1s 3ms/step - loss: 0.6877 - accuracy: 0.8421 - val_loss: 0.5907 - val_accuracy: 0.8511\n",
            "Epoch 18/20\n",
            "323/323 [==============================] - 1s 3ms/step - loss: 0.5852 - accuracy: 0.8684 - val_loss: 0.7348 - val_accuracy: 0.8511\n",
            "Epoch 19/20\n",
            "323/323 [==============================] - 1s 3ms/step - loss: 0.5244 - accuracy: 0.8963 - val_loss: 0.2726 - val_accuracy: 0.8191\n",
            "Epoch 20/20\n",
            "323/323 [==============================] - 1s 3ms/step - loss: 0.6732 - accuracy: 0.8746 - val_loss: 0.2549 - val_accuracy: 0.8298\n"
          ]
        },
        {
          "output_type": "execute_result",
          "data": {
            "text/plain": [
              "<keras.callbacks.History at 0x7fe73d864c90>"
            ]
          },
          "metadata": {},
          "execution_count": 162
        }
      ]
    },
    {
      "cell_type": "code",
      "source": [
        "evaluate(model=jordan, x_datas=x_test, y_datas=y_test)"
      ],
      "metadata": {
        "colab": {
          "base_uri": "https://localhost:8080/"
        },
        "id": "EgehW_u7RWna",
        "outputId": "9ef89ebc-ad64-4a06-fc71-a9fdb35bf1b7"
      },
      "execution_count": 163,
      "outputs": [
        {
          "output_type": "execute_result",
          "data": {
            "text/plain": [
              "0.8279569892473119"
            ]
          },
          "metadata": {},
          "execution_count": 163
        }
      ]
    },
    {
      "cell_type": "code",
      "source": [
        "# %tensorboard --logdir '/content/drive/MyDrive/logs'"
      ],
      "metadata": {
        "id": "mkI8O7XwPl_z"
      },
      "execution_count": 174,
      "outputs": []
    },
    {
      "cell_type": "code",
      "source": [
        ""
      ],
      "metadata": {
        "id": "a9M-o45fRWLM"
      },
      "execution_count": 164,
      "outputs": []
    },
    {
      "cell_type": "code",
      "source": [
        "stop"
      ],
      "metadata": {
        "colab": {
          "base_uri": "https://localhost:8080/",
          "height": 171
        },
        "id": "1hX8-uMcRXMu",
        "outputId": "0101e191-4fc8-4d67-dc2a-0e6721ab598f"
      },
      "execution_count": 166,
      "outputs": [
        {
          "output_type": "error",
          "ename": "NameError",
          "evalue": "ignored",
          "traceback": [
            "\u001b[0;31m---------------------------------------------------------------------------\u001b[0m",
            "\u001b[0;31mNameError\u001b[0m                                 Traceback (most recent call last)",
            "\u001b[0;32m<ipython-input-166-4f76a9dad686>\u001b[0m in \u001b[0;36m<module>\u001b[0;34m()\u001b[0m\n\u001b[0;32m----> 1\u001b[0;31m \u001b[0mstop\u001b[0m\u001b[0;34m\u001b[0m\u001b[0;34m\u001b[0m\u001b[0m\n\u001b[0m",
            "\u001b[0;31mNameError\u001b[0m: name 'stop' is not defined"
          ]
        }
      ]
    },
    {
      "cell_type": "markdown",
      "metadata": {
        "id": "7VQle9GA09q4"
      },
      "source": [
        "## Ensemble"
      ]
    },
    {
      "cell_type": "code",
      "source": [
        "def stacked_ensemble(models):\n",
        "  for i in range(len(models)):\n",
        "  \tmodel = models[i]\n",
        "  \tfor layer in model.layers:\n",
        "  \t\t# layer.trainable = False\n",
        "  \t\tlayer._name = 'ensemble_' + str(i+1) + '_' + layer.name\n",
        "\n",
        "  ensemble_visible = [model.input for model in elman_models]\n",
        "  ensemble_outputs = [model.output for model in elman_models]\n",
        "  merge = concatenate(ensemble_outputs)\n",
        "  output = Dense(1, activation='sigmoid')(merge)\n",
        "  output = Flatten()(output)\n",
        "  \n",
        "  model = Model(inputs=ensemble_visible, outputs=output)\n",
        "\n",
        "  plot_model(model, show_shapes=True, to_file='model_graph.png')\n",
        "\n",
        "  model.compile(loss='binary_crossentropy', optimizer='adam', metrics=['accuracy'])\n",
        "\n",
        "  return model"
      ],
      "metadata": {
        "id": "uxcpQEAqVJrE"
      },
      "execution_count": 167,
      "outputs": []
    },
    {
      "cell_type": "code",
      "source": [
        "elman_models = []\n",
        "neurons = [15, 25, 35, 45, 55]\n",
        "for neuron in neurons:\n",
        "  elman1 = Elman(input_dim=15, hidden_units=neuron, feature_size=6, n_classes=2)\n",
        "  elman1.compile(optimizer='adam', loss='binary_crossentropy', metrics=['accuracy'])\n",
        "  input = tf.keras.Input(shape=(15, 6, ))\n",
        "  model = Model(input, elman1(input))\n",
        "  elman_models.append(model)"
      ],
      "metadata": {
        "id": "absat8pz1VWF"
      },
      "execution_count": 168,
      "outputs": []
    },
    {
      "cell_type": "code",
      "source": [
        "ensemble_elman = stacked_ensemble(elman_models)"
      ],
      "metadata": {
        "id": "yx323q8ZVJn9"
      },
      "execution_count": 169,
      "outputs": []
    },
    {
      "cell_type": "code",
      "source": [
        "ensemble_elman.compile(optimizer='adam', loss='binary_crossentropy', metrics=['accuracy'])"
      ],
      "metadata": {
        "id": "h_Dl_0qbVJlX"
      },
      "execution_count": 170,
      "outputs": []
    },
    {
      "cell_type": "code",
      "source": [
        "plot_model(ensemble_elman, show_shapes=True, show_layer_names=True, expand_nested=True)"
      ],
      "metadata": {
        "colab": {
          "base_uri": "https://localhost:8080/",
          "height": 269
        },
        "id": "KcQVKkzA1i_I",
        "outputId": "de9d83a2-cdf1-41d7-9414-968a8e358293"
      },
      "execution_count": 171,
      "outputs": [
        {
          "output_type": "execute_result",
          "data": {
            "text/plain": [
              "<IPython.core.display.Image object>"
            ],
            "image/png": "[encoded data removed]"
          },
          "metadata": {},
          "execution_count": 171
        }
      ]
    },
    {
      "cell_type": "code",
      "source": [
        "X = [x_train for _ in range(len(ensemble_elman.input))]\n",
        "val = [x_val for _ in range(len(ensemble_elman.input))]\n",
        "ensemble_elman.fit(X, y_train, batch_size=1, epochs=20, validation_data=(val, y_val), callbacks=[tb_callback])"
      ],
      "metadata": {
        "colab": {
          "base_uri": "https://localhost:8080/"
        },
        "id": "N2qz7tlKVJih",
        "outputId": "2e6e655b-ebbc-448b-bec9-955e6f9e6149"
      },
      "execution_count": 172,
      "outputs": [
        {
          "output_type": "stream",
          "name": "stdout",
          "text": [
            "WARNING:tensorflow:Model failed to serialize as JSON. Ignoring... \n",
            "Epoch 1/20\n",
            "323/323 [==============================] - 9s 11ms/step - loss: 0.5815 - accuracy: 0.6842 - val_loss: 0.5070 - val_accuracy: 0.7660\n",
            "Epoch 2/20\n",
            "323/323 [==============================] - 2s 5ms/step - loss: 0.4464 - accuracy: 0.7755 - val_loss: 0.4319 - val_accuracy: 0.7979\n",
            "Epoch 3/20\n",
            "323/323 [==============================] - 2s 5ms/step - loss: 0.3757 - accuracy: 0.8111 - val_loss: 0.3569 - val_accuracy: 0.8723\n",
            "Epoch 4/20\n",
            "323/323 [==============================] - 2s 5ms/step - loss: 0.3556 - accuracy: 0.8096 - val_loss: 0.4520 - val_accuracy: 0.7128\n",
            "Epoch 5/20\n",
            "323/323 [==============================] - 2s 6ms/step - loss: 0.3084 - accuracy: 0.8514 - val_loss: 0.3522 - val_accuracy: 0.8191\n",
            "Epoch 6/20\n",
            "323/323 [==============================] - 2s 6ms/step - loss: 0.2905 - accuracy: 0.8700 - val_loss: 0.3242 - val_accuracy: 0.8723\n",
            "Epoch 7/20\n",
            "323/323 [==============================] - 2s 5ms/step - loss: 0.2812 - accuracy: 0.8653 - val_loss: 0.2859 - val_accuracy: 0.8723\n",
            "Epoch 8/20\n",
            "323/323 [==============================] - 2s 5ms/step - loss: 0.2532 - accuracy: 0.8916 - val_loss: 0.2997 - val_accuracy: 0.8511\n",
            "Epoch 9/20\n",
            "323/323 [==============================] - 2s 6ms/step - loss: 0.2189 - accuracy: 0.9025 - val_loss: 0.3389 - val_accuracy: 0.8298\n",
            "Epoch 10/20\n",
            "323/323 [==============================] - 2s 5ms/step - loss: 0.2108 - accuracy: 0.9056 - val_loss: 0.2394 - val_accuracy: 0.8511\n",
            "Epoch 11/20\n",
            "323/323 [==============================] - 2s 5ms/step - loss: 0.1946 - accuracy: 0.9133 - val_loss: 0.2023 - val_accuracy: 0.8936\n",
            "Epoch 12/20\n",
            "323/323 [==============================] - 2s 5ms/step - loss: 0.1794 - accuracy: 0.9211 - val_loss: 0.1917 - val_accuracy: 0.8936\n",
            "Epoch 13/20\n",
            "323/323 [==============================] - 2s 5ms/step - loss: 0.1612 - accuracy: 0.9257 - val_loss: 0.2212 - val_accuracy: 0.8511\n",
            "Epoch 14/20\n",
            "323/323 [==============================] - 2s 5ms/step - loss: 0.1609 - accuracy: 0.9381 - val_loss: 0.1608 - val_accuracy: 0.9255\n",
            "Epoch 15/20\n",
            "323/323 [==============================] - 2s 6ms/step - loss: 0.1443 - accuracy: 0.9396 - val_loss: 0.1599 - val_accuracy: 0.9149\n",
            "Epoch 16/20\n",
            "323/323 [==============================] - 2s 6ms/step - loss: 0.1339 - accuracy: 0.9396 - val_loss: 0.1796 - val_accuracy: 0.8936\n",
            "Epoch 17/20\n",
            "323/323 [==============================] - 2s 5ms/step - loss: 0.1417 - accuracy: 0.9319 - val_loss: 0.1621 - val_accuracy: 0.9255\n",
            "Epoch 18/20\n",
            "323/323 [==============================] - 2s 5ms/step - loss: 0.1303 - accuracy: 0.9427 - val_loss: 0.1216 - val_accuracy: 0.9574\n",
            "Epoch 19/20\n",
            "323/323 [==============================] - 2s 5ms/step - loss: 0.1145 - accuracy: 0.9567 - val_loss: 0.1352 - val_accuracy: 0.9362\n",
            "Epoch 20/20\n",
            "323/323 [==============================] - 2s 5ms/step - loss: 0.0976 - accuracy: 0.9706 - val_loss: 0.1059 - val_accuracy: 0.9574\n"
          ]
        },
        {
          "output_type": "execute_result",
          "data": {
            "text/plain": [
              "<keras.callbacks.History at 0x7fe73fb2b850>"
            ]
          },
          "metadata": {},
          "execution_count": 172
        }
      ]
    },
    {
      "cell_type": "code",
      "source": [
        "test = [[x_test[0]] for _ in range(len(ensemble_elman.input))]\n",
        "print(np.array(test).shape)\n",
        "ensemble_elman.predict(test)"
      ],
      "metadata": {
        "colab": {
          "base_uri": "https://localhost:8080/",
          "height": 648
        },
        "id": "m46u_ev4VJf0",
        "outputId": "178be58a-d851-4993-d493-ceb25ef1edd9"
      },
      "execution_count": 173,
      "outputs": [
        {
          "output_type": "stream",
          "name": "stdout",
          "text": [
            "(5, 1, 15, 6)\n"
          ]
        },
        {
          "output_type": "error",
          "ename": "ValueError",
          "evalue": "ignored",
          "traceback": [
            "\u001b[0;31m---------------------------------------------------------------------------\u001b[0m",
            "\u001b[0;31mValueError\u001b[0m                                Traceback (most recent call last)",
            "\u001b[0;32m<ipython-input-173-dd61376d6d1f>\u001b[0m in \u001b[0;36m<module>\u001b[0;34m()\u001b[0m\n\u001b[1;32m      1\u001b[0m \u001b[0mtest\u001b[0m \u001b[0;34m=\u001b[0m \u001b[0;34m[\u001b[0m\u001b[0;34m[\u001b[0m\u001b[0mx_test\u001b[0m\u001b[0;34m[\u001b[0m\u001b[0;36m0\u001b[0m\u001b[0;34m]\u001b[0m\u001b[0;34m]\u001b[0m \u001b[0;32mfor\u001b[0m \u001b[0m_\u001b[0m \u001b[0;32min\u001b[0m \u001b[0mrange\u001b[0m\u001b[0;34m(\u001b[0m\u001b[0mlen\u001b[0m\u001b[0;34m(\u001b[0m\u001b[0mensemble_elman\u001b[0m\u001b[0;34m.\u001b[0m\u001b[0minput\u001b[0m\u001b[0;34m)\u001b[0m\u001b[0;34m)\u001b[0m\u001b[0;34m]\u001b[0m\u001b[0;34m\u001b[0m\u001b[0;34m\u001b[0m\u001b[0m\n\u001b[1;32m      2\u001b[0m \u001b[0mprint\u001b[0m\u001b[0;34m(\u001b[0m\u001b[0mnp\u001b[0m\u001b[0;34m.\u001b[0m\u001b[0marray\u001b[0m\u001b[0;34m(\u001b[0m\u001b[0mtest\u001b[0m\u001b[0;34m)\u001b[0m\u001b[0;34m.\u001b[0m\u001b[0mshape\u001b[0m\u001b[0;34m)\u001b[0m\u001b[0;34m\u001b[0m\u001b[0;34m\u001b[0m\u001b[0m\n\u001b[0;32m----> 3\u001b[0;31m \u001b[0mensemble_elman\u001b[0m\u001b[0;34m.\u001b[0m\u001b[0mpredict\u001b[0m\u001b[0;34m(\u001b[0m\u001b[0mtest\u001b[0m\u001b[0;34m)\u001b[0m\u001b[0;34m\u001b[0m\u001b[0;34m\u001b[0m\u001b[0m\n\u001b[0m",
            "\u001b[0;32m/usr/local/lib/python3.7/dist-packages/keras/utils/traceback_utils.py\u001b[0m in \u001b[0;36merror_handler\u001b[0;34m(*args, **kwargs)\u001b[0m\n\u001b[1;32m     65\u001b[0m     \u001b[0;32mexcept\u001b[0m \u001b[0mException\u001b[0m \u001b[0;32mas\u001b[0m \u001b[0me\u001b[0m\u001b[0;34m:\u001b[0m  \u001b[0;31m# pylint: disable=broad-except\u001b[0m\u001b[0;34m\u001b[0m\u001b[0;34m\u001b[0m\u001b[0m\n\u001b[1;32m     66\u001b[0m       \u001b[0mfiltered_tb\u001b[0m \u001b[0;34m=\u001b[0m \u001b[0m_process_traceback_frames\u001b[0m\u001b[0;34m(\u001b[0m\u001b[0me\u001b[0m\u001b[0;34m.\u001b[0m\u001b[0m__traceback__\u001b[0m\u001b[0;34m)\u001b[0m\u001b[0;34m\u001b[0m\u001b[0;34m\u001b[0m\u001b[0m\n\u001b[0;32m---> 67\u001b[0;31m       \u001b[0;32mraise\u001b[0m \u001b[0me\u001b[0m\u001b[0;34m.\u001b[0m\u001b[0mwith_traceback\u001b[0m\u001b[0;34m(\u001b[0m\u001b[0mfiltered_tb\u001b[0m\u001b[0;34m)\u001b[0m \u001b[0;32mfrom\u001b[0m \u001b[0;32mNone\u001b[0m\u001b[0;34m\u001b[0m\u001b[0;34m\u001b[0m\u001b[0m\n\u001b[0m\u001b[1;32m     68\u001b[0m     \u001b[0;32mfinally\u001b[0m\u001b[0;34m:\u001b[0m\u001b[0;34m\u001b[0m\u001b[0;34m\u001b[0m\u001b[0m\n\u001b[1;32m     69\u001b[0m       \u001b[0;32mdel\u001b[0m \u001b[0mfiltered_tb\u001b[0m\u001b[0;34m\u001b[0m\u001b[0;34m\u001b[0m\u001b[0m\n",
            "\u001b[0;32m/usr/local/lib/python3.7/dist-packages/tensorflow/python/framework/func_graph.py\u001b[0m in \u001b[0;36mautograph_handler\u001b[0;34m(*args, **kwargs)\u001b[0m\n\u001b[1;32m   1145\u001b[0m           \u001b[0;32mexcept\u001b[0m \u001b[0mException\u001b[0m \u001b[0;32mas\u001b[0m \u001b[0me\u001b[0m\u001b[0;34m:\u001b[0m  \u001b[0;31m# pylint:disable=broad-except\u001b[0m\u001b[0;34m\u001b[0m\u001b[0;34m\u001b[0m\u001b[0m\n\u001b[1;32m   1146\u001b[0m             \u001b[0;32mif\u001b[0m \u001b[0mhasattr\u001b[0m\u001b[0;34m(\u001b[0m\u001b[0me\u001b[0m\u001b[0;34m,\u001b[0m \u001b[0;34m\"ag_error_metadata\"\u001b[0m\u001b[0;34m)\u001b[0m\u001b[0;34m:\u001b[0m\u001b[0;34m\u001b[0m\u001b[0;34m\u001b[0m\u001b[0m\n\u001b[0;32m-> 1147\u001b[0;31m               \u001b[0;32mraise\u001b[0m \u001b[0me\u001b[0m\u001b[0;34m.\u001b[0m\u001b[0mag_error_metadata\u001b[0m\u001b[0;34m.\u001b[0m\u001b[0mto_exception\u001b[0m\u001b[0;34m(\u001b[0m\u001b[0me\u001b[0m\u001b[0;34m)\u001b[0m\u001b[0;34m\u001b[0m\u001b[0;34m\u001b[0m\u001b[0m\n\u001b[0m\u001b[1;32m   1148\u001b[0m             \u001b[0;32melse\u001b[0m\u001b[0;34m:\u001b[0m\u001b[0;34m\u001b[0m\u001b[0;34m\u001b[0m\u001b[0m\n\u001b[1;32m   1149\u001b[0m               \u001b[0;32mraise\u001b[0m\u001b[0;34m\u001b[0m\u001b[0;34m\u001b[0m\u001b[0m\n",
            "\u001b[0;31mValueError\u001b[0m: in user code:\n\n    File \"/usr/local/lib/python3.7/dist-packages/keras/engine/training.py\", line 1801, in predict_function  *\n        return step_function(self, iterator)\n    File \"/usr/local/lib/python3.7/dist-packages/keras/engine/training.py\", line 1790, in step_function  **\n        outputs = model.distribute_strategy.run(run_step, args=(data,))\n    File \"/usr/local/lib/python3.7/dist-packages/keras/engine/training.py\", line 1783, in run_step  **\n        outputs = model.predict_step(data)\n    File \"/usr/local/lib/python3.7/dist-packages/keras/engine/training.py\", line 1751, in predict_step\n        return self(x, training=False)\n    File \"/usr/local/lib/python3.7/dist-packages/keras/utils/traceback_utils.py\", line 67, in error_handler\n        raise e.with_traceback(filtered_tb) from None\n    File \"/usr/local/lib/python3.7/dist-packages/keras/engine/input_spec.py\", line 264, in assert_input_compatibility\n        raise ValueError(f'Input {input_index} of layer \"{layer_name}\" is '\n\n    ValueError: Input 0 of layer \"model_88\" is incompatible with the layer: expected shape=(None, 15, 6), found shape=(None, 6)\n"
          ]
        }
      ]
    },
    {
      "cell_type": "code",
      "source": [
        "%tensorboard --logdir '/content/drive/MyDrive/logs'"
      ],
      "metadata": {
        "id": "_h-vkdz3VJdD"
      },
      "execution_count": null,
      "outputs": []
    },
    {
      "cell_type": "code",
      "source": [
        ""
      ],
      "metadata": {
        "id": "ef2WKaJbVJYD"
      },
      "execution_count": null,
      "outputs": []
    },
    {
      "cell_type": "code",
      "source": [
        ""
      ],
      "metadata": {
        "id": "dEqGZYXHVJVk"
      },
      "execution_count": null,
      "outputs": []
    },
    {
      "cell_type": "code",
      "source": [
        ""
      ],
      "metadata": {
        "id": "vaJAgunJVJS5"
      },
      "execution_count": null,
      "outputs": []
    },
    {
      "cell_type": "code",
      "source": [
        ""
      ],
      "metadata": {
        "id": "Ex5akvsPVJQa"
      },
      "execution_count": null,
      "outputs": []
    }
  ],
  "metadata": {
    "interpreter": {
      "hash": "3858431499dcaaf4de29b8b352749eebe871787bd67cf3dfc1982c43a6256c9d"
    },
    "kernelspec": {
      "display_name": "Python 3 (ipykernel)",
      "language": "python",
      "name": "python3"
    },
    "language_info": {
      "codemirror_mode": {
        "name": "ipython",
        "version": 3
      },
      "file_extension": ".py",
      "mimetype": "text/x-python",
      "name": "python",
      "nbconvert_exporter": "python",
      "pygments_lexer": "ipython3",
      "version": "3.10.1"
    },
    "colab": {
      "name": "HW05.ipynb",
      "provenance": []
    },
    "accelerator": "GPU"
  },
  "nbformat": 4,
  "nbformat_minor": 0
}