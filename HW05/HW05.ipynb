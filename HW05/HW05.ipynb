{
  "cells": [
    {
      "cell_type": "markdown",
      "metadata": {
        "id": "upz6ROBp09qo"
      },
      "source": [
        "### - Sobhan Moradian Daghigh\n",
        "#### - 5/20/2022\n",
        "#### - ANN - HW05"
      ]
    },
    {
      "cell_type": "code",
      "execution_count": 137,
      "metadata": {
        "colab": {
          "base_uri": "https://localhost:8080/"
        },
        "id": "Sz-0H12q09qt",
        "outputId": "6ba8cf29-c8eb-4a23-8ff4-8e7f255b9e9d"
      },
      "outputs": [
        {
          "output_type": "stream",
          "name": "stdout",
          "text": [
            "The tensorboard extension is already loaded. To reload it, use:\n",
            "  %reload_ext tensorboard\n"
          ]
        }
      ],
      "source": [
        "import numpy as np\n",
        "import matplotlib.pyplot as plt\n",
        "from sklearn.model_selection import train_test_split\n",
        "import urllib\n",
        "import tensorflow as tf, keras\n",
        "from sklearn.metrics import accuracy_score\n",
        "from keras.utils.vis_utils import plot_model\n",
        "from keras.models import Model\n",
        "from keras.layers import Input, Dense, Flatten\n",
        "from keras.layers.merge import concatenate\n",
        "\n",
        "import warnings\n",
        "warnings.filterwarnings(\"ignore\")\n",
        "\n",
        "import itertools\n",
        "\n",
        "%load_ext tensorboard"
      ]
    },
    {
      "cell_type": "code",
      "source": [
        "print(tf.__version__)"
      ],
      "metadata": {
        "colab": {
          "base_uri": "https://localhost:8080/"
        },
        "id": "lC6SiTti1cHr",
        "outputId": "2ecf6c3a-a140-4337-b393-750c7d0fdb68"
      },
      "execution_count": 138,
      "outputs": [
        {
          "output_type": "stream",
          "name": "stdout",
          "text": [
            "2.8.0\n"
          ]
        }
      ]
    },
    {
      "cell_type": "code",
      "source": [
        "from google.colab import drive\n",
        "drive.mount('/content/drive')"
      ],
      "metadata": {
        "colab": {
          "base_uri": "https://localhost:8080/"
        },
        "id": "3_3LG3SH5vTa",
        "outputId": "e5b9ddba-6068-458c-d256-07ad0fde86f1"
      },
      "execution_count": 139,
      "outputs": [
        {
          "output_type": "stream",
          "name": "stdout",
          "text": [
            "Drive already mounted at /content/drive; to attempt to forcibly remount, call drive.mount(\"/content/drive\", force_remount=True).\n"
          ]
        }
      ]
    },
    {
      "cell_type": "code",
      "source": [
        "tb_callback = keras.callbacks.TensorBoard(log_dir='/content/drive/MyDrive/logs', histogram_freq=1)"
      ],
      "metadata": {
        "id": "RCNvq9tI5vO0"
      },
      "execution_count": 140,
      "outputs": []
    },
    {
      "cell_type": "code",
      "source": [
        "class EarlyStoppingCallback(keras.callbacks.Callback):\n",
        "  def __init__(self, patience=0):\n",
        "    super(EarlyStoppingCallback, self).__init__()\n",
        "    self.patience = patience\n",
        "\n",
        "  def on_train_begin(self, logs=None):\n",
        "    self.best = 0\n",
        "    self.wait = 0\n",
        "  \n",
        "  def on_epoch_end(self, epoch, logs=None):\n",
        "    current_acc = logs.get('accuracy')\n",
        "    if np.less(self.best, current_acc):\n",
        "      self.best = current_acc\n",
        "      self.wait = 0\n",
        "      self.best_weights = self.model.get_weights()\n",
        "    else:\n",
        "      self.wait += 1\n",
        "      if np.greater_equal(self.wait, self.patience):\n",
        "        self.model.stop_training = True\n",
        "        self.model.set_weights(self.best_weights)"
      ],
      "metadata": {
        "id": "TFv3GdDX5vMN"
      },
      "execution_count": 141,
      "outputs": []
    },
    {
      "cell_type": "code",
      "source": [
        "es_callback = EarlyStoppingCallback(patience=3)"
      ],
      "metadata": {
        "id": "PnySBYER5vJv"
      },
      "execution_count": 142,
      "outputs": []
    },
    {
      "cell_type": "code",
      "source": [
        ""
      ],
      "metadata": {
        "id": "lvBhf7E3550C"
      },
      "execution_count": 142,
      "outputs": []
    },
    {
      "cell_type": "markdown",
      "metadata": {
        "id": "uAIOKJAQ09qv"
      },
      "source": [
        "# Load Data"
      ]
    },
    {
      "cell_type": "code",
      "source": [
        "def load_data(base_url, names):\n",
        "  datas = []\n",
        "  labels = []\n",
        "  for name in names:\n",
        "    file = urllib.request.urlopen(base_url + '{}.data'.format(name))\n",
        "    while True:\n",
        "      # Reading label\n",
        "      label = file.readline().decode(\"utf-8\").strip()\n",
        "\n",
        "      # EOF\n",
        "      if label is '':\n",
        "        break\n",
        "\n",
        "      label = 1 if label in ['normal', 'ok'] else 0\n",
        "      labels.append(label)\n",
        "\n",
        "      # Packing each 15 datas\n",
        "      pack = []\n",
        "      for _ in range(15):\n",
        "        data = [np.float64(x) for x in (file.readline().decode(\"utf-8\")[:-1].split('\\t')[1:])]\n",
        "        pack.append(data)\n",
        "      datas.append(pack)\n",
        "\n",
        "      # Skipping for two empty lines\n",
        "      file.readline()\n",
        "      file.readline()\n",
        "\n",
        "  return np.array(datas), np.array(labels)"
      ],
      "metadata": {
        "id": "jFUPtL5l5vHK"
      },
      "execution_count": 143,
      "outputs": []
    },
    {
      "cell_type": "code",
      "source": [
        "base_url = 'https://raw.githubusercontent.com/nahbos/AUT-Neural-Networks/main/HW05/data/'\n",
        "names = ['lp1', 'lp2', 'lp3', 'lp4', 'lp5']\n",
        "datas, labels = load_data(base_url, names)"
      ],
      "metadata": {
        "id": "NKHQFcJf6oKp"
      },
      "execution_count": 144,
      "outputs": []
    },
    {
      "cell_type": "code",
      "source": [
        "datas.shape"
      ],
      "metadata": {
        "colab": {
          "base_uri": "https://localhost:8080/"
        },
        "id": "vGMmSb9zIJ4-",
        "outputId": "75d1bbd0-23f3-42a7-d38c-2079b10696e7"
      },
      "execution_count": 145,
      "outputs": [
        {
          "output_type": "execute_result",
          "data": {
            "text/plain": [
              "(463, 15, 6)"
            ]
          },
          "metadata": {},
          "execution_count": 145
        }
      ]
    },
    {
      "cell_type": "code",
      "execution_count": 145,
      "metadata": {
        "id": "T_ApCRTA09qx"
      },
      "outputs": [],
      "source": [
        ""
      ]
    },
    {
      "cell_type": "code",
      "execution_count": 146,
      "metadata": {
        "id": "ECLXo6Bu09qy"
      },
      "outputs": [],
      "source": [
        "x_temp, x_test, y_temp, y_test = train_test_split(datas, labels, test_size=0.2, random_state=42)\n",
        "x_train, x_val, y_train, y_val = train_test_split(x_temp, y_temp, test_size=0.125, random_state=42)"
      ]
    },
    {
      "cell_type": "code",
      "source": [
        "x_train.shape"
      ],
      "metadata": {
        "colab": {
          "base_uri": "https://localhost:8080/"
        },
        "id": "jjgeYRxDI9Xe",
        "outputId": "d2984a77-01ff-4503-af86-9915cb2b304a"
      },
      "execution_count": 147,
      "outputs": [
        {
          "output_type": "execute_result",
          "data": {
            "text/plain": [
              "(323, 15, 6)"
            ]
          },
          "metadata": {},
          "execution_count": 147
        }
      ]
    },
    {
      "cell_type": "code",
      "source": [
        "x_val.shape"
      ],
      "metadata": {
        "colab": {
          "base_uri": "https://localhost:8080/"
        },
        "id": "foW7zHH-JBgM",
        "outputId": "41744be4-2d82-4742-e504-3b91e0a9fe95"
      },
      "execution_count": 148,
      "outputs": [
        {
          "output_type": "execute_result",
          "data": {
            "text/plain": [
              "(47, 15, 6)"
            ]
          },
          "metadata": {},
          "execution_count": 148
        }
      ]
    },
    {
      "cell_type": "code",
      "source": [
        "x_test.shape"
      ],
      "metadata": {
        "colab": {
          "base_uri": "https://localhost:8080/"
        },
        "id": "PYUNIOUZJGXl",
        "outputId": "d7e7435c-4f31-4d39-88b8-8929e57cafd2"
      },
      "execution_count": 149,
      "outputs": [
        {
          "output_type": "execute_result",
          "data": {
            "text/plain": [
              "(93, 15, 6)"
            ]
          },
          "metadata": {},
          "execution_count": 149
        }
      ]
    },
    {
      "cell_type": "code",
      "source": [
        ""
      ],
      "metadata": {
        "id": "sSSM7GcAJXYd"
      },
      "execution_count": 149,
      "outputs": []
    },
    {
      "cell_type": "markdown",
      "metadata": {
        "id": "LCfmvLwV09q0"
      },
      "source": [
        "# Elman Neural Network\n",
        "#### Implementation is based on Elman algorithm and rules\n",
        "##### Some useful links:\n",
        "##### [Elman](https://www.youtube.com/watch?v=e2sGq_vI41s&list=PLC112AD1C69432FDB&index=4)\n",
        "##### [Deep Learning with Python book - page 197](https://tanthiamhuat.files.wordpress.com/2018/03/deeplearningwithpython.pdf)"
      ]
    },
    {
      "cell_type": "code",
      "execution_count": 150,
      "metadata": {
        "id": "-5ExfEEA09q1"
      },
      "outputs": [],
      "source": [
        "class Elman(tf.keras.Model):\n",
        "  def __init__(self, input_dim, hidden_units, feature_size, n_classes):\n",
        "    super().__init__()\n",
        "    self.hidden_units = hidden_units\n",
        "    self.feature_size = feature_size\n",
        "    self.input_dim = input_dim\n",
        "    self.n_classes = n_classes\n",
        "\n",
        "    # The names are based on the pseudo code in the book which linked above.\n",
        "\n",
        "    self.W = self.add_weight(shape=(self.hidden_units, self.feature_size), initializer='random_normal', trainable=True)\n",
        "    self.U = self.add_weight(shape=(self.hidden_units, self.hidden_units), initializer='random_normal', trainable=True)\n",
        "    self.b = self.add_weight(shape=(self.hidden_units,), initializer='random_normal', trainable=True)\n",
        "\n",
        "    self.W_y = self.add_weight(shape=(self.n_classes, self.hidden_units), initializer='random_normal', trainable=True)\n",
        "    self.b_y = self.add_weight(shape=(self.n_classes,), initializer='random_normal', trainable=True)\n",
        "\n",
        "  def call(self, x):\n",
        "    state_t = tf.zeros(self.hidden_units)\n",
        "    for i in range(self.input_dim):\n",
        "      state_t = tf.keras.activations.tanh(tf.matmul(self.W, tf.cast(tf.reshape(x[0][i], (self.feature_size, 1)), tf.float32)) + tf.matmul(self.U, tf.reshape(state_t, (self.hidden_units,1))) + tf.reshape(self.b, (self.hidden_units, 1)))\n",
        "\n",
        "    y = tf.keras.activations.tanh(tf.matmul(self.W_y, tf.reshape(state_t, (self.hidden_units,1))) + tf.reshape(self.b_y, (self.n_classes,1)))\n",
        "    return y"
      ]
    },
    {
      "cell_type": "code",
      "source": [
        "def evaluate(model, x_datas, y_datas):\n",
        "  predictions = []\n",
        "  for data in x_datas:\n",
        "    res = model.call(tf.convert_to_tensor(np.array([data])))\n",
        "    res = 1 if np.array(res)[0] > 0.5 else 0\n",
        "    predictions.append(res)\n",
        "\n",
        "  return accuracy_score(y_datas, predictions)"
      ],
      "metadata": {
        "id": "04ZOAF8Qwmqq"
      },
      "execution_count": 151,
      "outputs": []
    },
    {
      "cell_type": "code",
      "execution_count": 152,
      "metadata": {
        "id": "OyyeyoED09q1"
      },
      "outputs": [],
      "source": [
        "elman = Elman(input_dim=15, hidden_units=45, feature_size=6, n_classes=2)"
      ]
    },
    {
      "cell_type": "code",
      "source": [
        "elman.compile(optimizer='adam', loss='binary_crossentropy', metrics=['accuracy'])"
      ],
      "metadata": {
        "id": "6Kqq2V66NMvt"
      },
      "execution_count": 153,
      "outputs": []
    },
    {
      "cell_type": "code",
      "source": [
        "elman.fit(x_train, y_train, batch_size=1, epochs=20, validation_data=(x_val, y_val), callbacks=[tb_callback])"
      ],
      "metadata": {
        "colab": {
          "base_uri": "https://localhost:8080/"
        },
        "id": "duEi0gM5NKvX",
        "outputId": "81c08d6f-2bbe-43df-ba4c-04e9df455d94"
      },
      "execution_count": null,
      "outputs": [
        {
          "output_type": "stream",
          "name": "stdout",
          "text": [
            "Epoch 1/20\n"
          ]
        }
      ]
    },
    {
      "cell_type": "code",
      "source": [
        "evaluate(model=elman, x_datas=x_test, y_datas=y_test)"
      ],
      "metadata": {
        "id": "PDDMzNawu2Y6"
      },
      "execution_count": null,
      "outputs": []
    },
    {
      "cell_type": "code",
      "execution_count": null,
      "metadata": {
        "id": "rhW2maF709q2"
      },
      "outputs": [],
      "source": [
        "%tensorboard --logdir '/content/drive/MyDrive/logs'"
      ]
    },
    {
      "cell_type": "code",
      "source": [
        ""
      ],
      "metadata": {
        "id": "hZoDKkm3N9Td"
      },
      "execution_count": null,
      "outputs": []
    },
    {
      "cell_type": "code",
      "source": [
        ""
      ],
      "metadata": {
        "id": "xGOIYqwJN9MM"
      },
      "execution_count": null,
      "outputs": []
    },
    {
      "cell_type": "code",
      "source": [
        "stop"
      ],
      "metadata": {
        "id": "NhQR-9Q2OrTk"
      },
      "execution_count": null,
      "outputs": []
    },
    {
      "cell_type": "markdown",
      "metadata": {
        "id": "g6Kzp3aD09q3"
      },
      "source": [
        "## Jordan"
      ]
    },
    {
      "cell_type": "code",
      "execution_count": null,
      "metadata": {
        "id": "uSXBJQqp09q3"
      },
      "outputs": [],
      "source": [
        "class Jordan(tf.keras.Model):\n",
        "    def __init__(self, input_dim, hidden_units, feature_size, n_classes):\n",
        "        super().__init__()\n",
        "        self.hidden_units = hidden_units\n",
        "        self.feature_size = feature_size\n",
        "        self.input_dim = input_dim\n",
        "        self.n_classes = n_classes\n",
        "\n",
        "        # The names are based on the pseudo code in the book which linked above.\n",
        "\n",
        "        self.W = self.add_weight(shape=(self.hidden_units, self.feature_size), initializer='random_normal', trainable=True)\n",
        "        self.U = self.add_weight(shape=(self.hidden_units, self.hidden_units), initializer='random_normal', trainable=True)\n",
        "        self.b = self.add_weight(shape=(self.hidden_units,), initializer='random_normal', trainable=True)\n",
        "\n",
        "        self.W_y_intermediate = self.add_weight(shape=(self.hidden_units, self.hidden_units), initializer='random_normal', trainable=True)\n",
        "        self.b_y_intermediate = self.add_weight(shape=(self.hidden_units,), initializer='random_normal', trainable=True)\n",
        "\n",
        "        self.W_y = self.add_weight(shape=(self.n_classes, self.hidden_units), initializer='random_normal', trainable=True)\n",
        "        self.b_y = self.add_weight(shape=(self.n_classes,), initializer='random_normal', trainable=True)\n",
        "\n",
        "    def call(self, x):\n",
        "        state_t = tf.zeros(self.hidden_units)\n",
        "        for i in range(self.input_dim):\n",
        "            hidden = tf.keras.activations.tanh(tf.matmul(self.W, tf.cast(tf.reshape(x[0][i], (self.feature_size, 1)), tf.float32)) + tf.matmul(self.U, tf.reshape(state_t, (self.hidden_units,1))) + tf.reshape(self.b, (self.hidden_units, 1)))\n",
        "            state_t = tf.keras.activations.tanh(tf.matmul(self.W_y_intermediate, tf.reshape(hidden, (self.hidden_units,1))) + tf.reshape(self.b_y_intermediate, (self.hidden_units,1)))\n",
        "        y = tf.keras.activations.tanh(tf.matmul(self.W_y, tf.reshape(state_t, (self.hidden_units,1))) + tf.reshape(self.b_y, (self.n_classes,1)))\n",
        "\n",
        "        return y"
      ]
    },
    {
      "cell_type": "code",
      "execution_count": null,
      "metadata": {
        "id": "ez-Pamhs09q3"
      },
      "outputs": [],
      "source": [
        "jordan = Jordan(input_dim=15, hidden_units=25, feature_size=6, n_classes=2)"
      ]
    },
    {
      "cell_type": "code",
      "source": [
        "jordan.compile(optimizer='adam', loss='binary_crossentropy', metrics=['accuracy'])"
      ],
      "metadata": {
        "id": "3UdAh2l3N-hd"
      },
      "execution_count": null,
      "outputs": []
    },
    {
      "cell_type": "code",
      "source": [
        "jordan.fit( x_train, y_train, batch_size=1, epochs=20, validation_data=(x_val, y_val), callbacks=[tb_callback])"
      ],
      "metadata": {
        "id": "qkUu5ELAN-e0"
      },
      "execution_count": null,
      "outputs": []
    },
    {
      "cell_type": "code",
      "source": [
        "evaluate(model=jordan, x_datas=x_test, y_datas=y_test)"
      ],
      "metadata": {
        "id": "EgehW_u7RWna"
      },
      "execution_count": null,
      "outputs": []
    },
    {
      "cell_type": "code",
      "source": [
        "%tensorboard --logdir '/content/drive/MyDrive/logs'"
      ],
      "metadata": {
        "id": "mkI8O7XwPl_z"
      },
      "execution_count": null,
      "outputs": []
    },
    {
      "cell_type": "code",
      "source": [
        ""
      ],
      "metadata": {
        "id": "a9M-o45fRWLM"
      },
      "execution_count": null,
      "outputs": []
    },
    {
      "cell_type": "code",
      "source": [
        "stop"
      ],
      "metadata": {
        "id": "1hX8-uMcRXMu"
      },
      "execution_count": null,
      "outputs": []
    },
    {
      "cell_type": "markdown",
      "metadata": {
        "id": "7VQle9GA09q4"
      },
      "source": [
        "## Ensemble"
      ]
    },
    {
      "cell_type": "code",
      "source": [
        "def stacked_ensemble(models):\n",
        "  for i in range(len(models)):\n",
        "  \tmodel = models[i]\n",
        "  \tfor layer in model.layers:\n",
        "  \t\t# layer.trainable = False\n",
        "  \t\tlayer._name = 'ensemble_' + str(i+1) + '_' + layer.name\n",
        "\n",
        "  ensemble_visible = [model.input for model in elman_models]\n",
        "  ensemble_outputs = [model.output for model in elman_models]\n",
        "  merge = concatenate(ensemble_outputs)\n",
        "  output = Dense(1, activation='sigmoid')(merge)\n",
        "  output = Flatten()(output)\n",
        "  \n",
        "  model = Model(inputs=ensemble_visible, outputs=output)\n",
        "\n",
        "  plot_model(model, show_shapes=True, to_file='model_graph.png')\n",
        "\n",
        "  model.compile(loss='binary_crossentropy', optimizer='adam', metrics=['accuracy'])\n",
        "\n",
        "  return model"
      ],
      "metadata": {
        "id": "uxcpQEAqVJrE"
      },
      "execution_count": null,
      "outputs": []
    },
    {
      "cell_type": "code",
      "source": [
        "elman_models = []\n",
        "neurons = [15, 25, 35, 45, 55]\n",
        "for neuron in neurons:\n",
        "  elman1 = Elman(input_dim=15, hidden_units=neuron, feature_size=6, n_classes=2)\n",
        "  elman1.compile(optimizer='adam', loss='binary_crossentropy', metrics=['accuracy'])\n",
        "  input = tf.keras.Input(shape=(15, 6, ))\n",
        "  model = Model(input, elman1(input))\n",
        "  elman_models.append(model)"
      ],
      "metadata": {
        "id": "absat8pz1VWF"
      },
      "execution_count": null,
      "outputs": []
    },
    {
      "cell_type": "code",
      "source": [
        "ensemble_elman = stacked_ensemble(elman_models)"
      ],
      "metadata": {
        "id": "yx323q8ZVJn9"
      },
      "execution_count": null,
      "outputs": []
    },
    {
      "cell_type": "code",
      "source": [
        "ensemble_elman.compile(optimizer='adam', loss='binary_crossentropy', metrics=['accuracy'])"
      ],
      "metadata": {
        "id": "h_Dl_0qbVJlX"
      },
      "execution_count": null,
      "outputs": []
    },
    {
      "cell_type": "code",
      "source": [
        "plot_model(ensemble_elman, show_shapes=True, show_layer_names=True, expand_nested=True)"
      ],
      "metadata": {
        "id": "KcQVKkzA1i_I"
      },
      "execution_count": null,
      "outputs": []
    },
    {
      "cell_type": "code",
      "source": [
        "X = [x_train for _ in range(len(ensemble_elman.input))]\n",
        "val = [x_val for _ in range(len(ensemble_elman.input))]\n",
        "ensemble_elman.fit(X, y_train, batch_size=1, epochs=20, validation_data=(val, y_val), callbacks=[tb_callback])"
      ],
      "metadata": {
        "id": "N2qz7tlKVJih"
      },
      "execution_count": null,
      "outputs": []
    },
    {
      "cell_type": "code",
      "source": [
        "test = [[x_test[0]] for _ in range(len(ensemble_elman.input))]\n",
        "print(np.array(test).shape)\n",
        "ensemble_elman.predict(test)"
      ],
      "metadata": {
        "id": "m46u_ev4VJf0"
      },
      "execution_count": null,
      "outputs": []
    },
    {
      "cell_type": "code",
      "source": [
        "%tensorboard --logdir '/content/drive/MyDrive/logs'"
      ],
      "metadata": {
        "id": "_h-vkdz3VJdD"
      },
      "execution_count": null,
      "outputs": []
    },
    {
      "cell_type": "code",
      "source": [
        ""
      ],
      "metadata": {
        "id": "ef2WKaJbVJYD"
      },
      "execution_count": null,
      "outputs": []
    },
    {
      "cell_type": "code",
      "source": [
        ""
      ],
      "metadata": {
        "id": "dEqGZYXHVJVk"
      },
      "execution_count": null,
      "outputs": []
    },
    {
      "cell_type": "code",
      "source": [
        ""
      ],
      "metadata": {
        "id": "vaJAgunJVJS5"
      },
      "execution_count": null,
      "outputs": []
    },
    {
      "cell_type": "code",
      "source": [
        ""
      ],
      "metadata": {
        "id": "Ex5akvsPVJQa"
      },
      "execution_count": null,
      "outputs": []
    }
  ],
  "metadata": {
    "interpreter": {
      "hash": "3858431499dcaaf4de29b8b352749eebe871787bd67cf3dfc1982c43a6256c9d"
    },
    "kernelspec": {
      "display_name": "Python 3 (ipykernel)",
      "language": "python",
      "name": "python3"
    },
    "language_info": {
      "codemirror_mode": {
        "name": "ipython",
        "version": 3
      },
      "file_extension": ".py",
      "mimetype": "text/x-python",
      "name": "python",
      "nbconvert_exporter": "python",
      "pygments_lexer": "ipython3",
      "version": "3.10.1"
    },
    "colab": {
      "name": "HW05.ipynb",
      "provenance": []
    },
    "accelerator": "GPU"
  },
  "nbformat": 4,
  "nbformat_minor": 0
}