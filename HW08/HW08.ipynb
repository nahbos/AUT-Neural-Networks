{
  "nbformat": 4,
  "nbformat_minor": 0,
  "metadata": {
    "colab": {
      "name": "HW08.ipynb",
      "provenance": [],
      "toc_visible": true,
      "authorship_tag": "ABX9TyMAGY8RRUSG40dX6UJfXQLl",
      "include_colab_link": true
    },
    "kernelspec": {
      "name": "python3",
      "display_name": "Python 3"
    },
    "language_info": {
      "name": "python"
    }
  },
  "cells": [
    {
      "cell_type": "markdown",
      "metadata": {
        "id": "view-in-github",
        "colab_type": "text"
      },
      "source": [
        "<a href=\"https://colab.research.google.com/github/nahbos/AUT-Neural-Networks/blob/main/HW08/HW08.ipynb\" target=\"_parent\"><img src=\"https://colab.research.google.com/assets/colab-badge.svg\" alt=\"Open In Colab\"/></a>"
      ]
    },
    {
      "cell_type": "markdown",
      "source": [
        "- Sobhan Moradian Daghigh\n",
        "- 7/12/2022\n",
        "- ANN - HW08\n"
      ],
      "metadata": {
        "id": "YNxi5T17_epW"
      }
    },
    {
      "cell_type": "code",
      "source": [
        ""
      ],
      "metadata": {
        "id": "nb4lrkXRHNyO"
      },
      "execution_count": null,
      "outputs": []
    },
    {
      "cell_type": "code",
      "execution_count": 3,
      "metadata": {
        "id": "K5A65U0h_LVy"
      },
      "outputs": [],
      "source": [
        "# !pip install -U 'tensorflow-text==2.8.*'"
      ]
    },
    {
      "cell_type": "code",
      "source": [
        "import numpy as np\n",
        "import matplotlib.pyplot as plt\n",
        "import tensorflow as tf\n",
        "import tensorflow_datasets as tfds\n",
        "import tensorflow_text\n",
        "import time"
      ],
      "metadata": {
        "id": "Tmv7BGIn_jUB"
      },
      "execution_count": 6,
      "outputs": []
    },
    {
      "cell_type": "code",
      "source": [
        ""
      ],
      "metadata": {
        "id": "wtbvvEmv_jXJ"
      },
      "execution_count": 5,
      "outputs": []
    },
    {
      "cell_type": "markdown",
      "source": [
        "# Load data"
      ],
      "metadata": {
        "id": "PRvxt_6FJadW"
      }
    },
    {
      "cell_type": "code",
      "source": [
        "dataset = tfds.load('ted_hrlr_translate/pt_to_en', as_supervised=True)\n",
        "x_train, x_test, x_val = dataset['train'], dataset['test'], dataset['validation']"
      ],
      "metadata": {
        "id": "SYYU2Xim_jbR"
      },
      "execution_count": 9,
      "outputs": []
    },
    {
      "cell_type": "code",
      "source": [
        ""
      ],
      "metadata": {
        "id": "bPrIqinV_jep"
      },
      "execution_count": null,
      "outputs": []
    },
    {
      "cell_type": "markdown",
      "source": [
        "## Preview"
      ],
      "metadata": {
        "id": "tSUwHICIJmnP"
      }
    },
    {
      "cell_type": "code",
      "source": [
        "for pt_sentences, en_sentences in x_train.batch(5).take(1):\n",
        "  for pt, en in zip(pt_sentences.numpy(), en_sentences.numpy()):\n",
        "    print('Portuguese: [{}]'.format(pt.decode('utf-8')))\n",
        "    print('English:    [{}]'.format(en.decode('utf-8')))\n",
        "    print('---------------------------------')"
      ],
      "metadata": {
        "colab": {
          "base_uri": "https://localhost:8080/"
        },
        "id": "7D9rjCLr_jhq",
        "outputId": "2eb1af23-bee5-4535-bfd3-1d96c2940edf"
      },
      "execution_count": 37,
      "outputs": [
        {
          "output_type": "stream",
          "name": "stdout",
          "text": [
            "Portuguese: [e quando melhoramos a procura , tiramos a única vantagem da impressão , que é a serendipidade .]\n",
            "English:    [and when you improve searchability , you actually take away the one advantage of print , which is serendipity .]\n",
            "---------------------------------\n",
            "Portuguese: [mas e se estes fatores fossem ativos ?]\n",
            "English:    [but what if it were active ?]\n",
            "---------------------------------\n",
            "Portuguese: [mas eles não tinham a curiosidade de me testar .]\n",
            "English:    [but they did n't test for curiosity .]\n",
            "---------------------------------\n",
            "Portuguese: [e esta rebeldia consciente é a razão pela qual eu , como agnóstica , posso ainda ter fé .]\n",
            "English:    [and this conscious defiance is why i , as an agnostic , can still have faith .]\n",
            "---------------------------------\n",
            "Portuguese: [`` `` '' podem usar tudo sobre a mesa no meu corpo . '']\n",
            "English:    [you can use everything on the table on me .]\n",
            "---------------------------------\n"
          ]
        }
      ]
    },
    {
      "cell_type": "code",
      "source": [
        ""
      ],
      "metadata": {
        "id": "GgrWv9G9_jnh"
      },
      "execution_count": null,
      "outputs": []
    },
    {
      "cell_type": "markdown",
      "source": [
        "# Text tokenization\n",
        "Downloading a model which was implemented for tokenizing the sentences."
      ],
      "metadata": {
        "id": "qBUT79SvL5p3"
      }
    },
    {
      "cell_type": "code",
      "source": [
        "tf.keras.utils.get_file(\n",
        "    f'{model_name}.zip',\n",
        "    f'https://storage.googleapis.com/download.tensorflow.org/models/{'ted_hrlr_translate_pt_en_converter'}.zip',\n",
        "    cache_dir='.', cache_subdir='', extract=True)"
      ],
      "metadata": {
        "id": "n61hrZzb_jqE"
      },
      "execution_count": null,
      "outputs": []
    },
    {
      "cell_type": "code",
      "source": [
        ""
      ],
      "metadata": {
        "id": "K0LTsqZ8_jtM"
      },
      "execution_count": null,
      "outputs": []
    },
    {
      "cell_type": "code",
      "source": [
        ""
      ],
      "metadata": {
        "id": "jaiANy99_jwJ"
      },
      "execution_count": null,
      "outputs": []
    },
    {
      "cell_type": "code",
      "source": [
        ""
      ],
      "metadata": {
        "id": "7HT2hEZl_jzC"
      },
      "execution_count": null,
      "outputs": []
    },
    {
      "cell_type": "code",
      "source": [
        ""
      ],
      "metadata": {
        "id": "1BRCAa1u_j1q"
      },
      "execution_count": null,
      "outputs": []
    },
    {
      "cell_type": "code",
      "source": [
        ""
      ],
      "metadata": {
        "id": "2LlJ1bGc_j4h"
      },
      "execution_count": null,
      "outputs": []
    },
    {
      "cell_type": "code",
      "source": [
        ""
      ],
      "metadata": {
        "id": "XOFMmGFS_j7B"
      },
      "execution_count": null,
      "outputs": []
    },
    {
      "cell_type": "code",
      "source": [
        ""
      ],
      "metadata": {
        "id": "aw4IGtGA_j96"
      },
      "execution_count": null,
      "outputs": []
    },
    {
      "cell_type": "code",
      "source": [
        ""
      ],
      "metadata": {
        "id": "iazbgl6v_kAp"
      },
      "execution_count": null,
      "outputs": []
    },
    {
      "cell_type": "code",
      "source": [
        ""
      ],
      "metadata": {
        "id": "rq6kFEHp_kDi"
      },
      "execution_count": null,
      "outputs": []
    },
    {
      "cell_type": "code",
      "source": [
        ""
      ],
      "metadata": {
        "id": "v7t1G6Ul_kGK"
      },
      "execution_count": null,
      "outputs": []
    },
    {
      "cell_type": "code",
      "source": [
        ""
      ],
      "metadata": {
        "id": "K1iq_t8N_kJB"
      },
      "execution_count": null,
      "outputs": []
    },
    {
      "cell_type": "code",
      "source": [
        ""
      ],
      "metadata": {
        "id": "Z6DHFdrf_kLr"
      },
      "execution_count": null,
      "outputs": []
    },
    {
      "cell_type": "code",
      "source": [
        ""
      ],
      "metadata": {
        "id": "buQNHJUd_kOn"
      },
      "execution_count": null,
      "outputs": []
    },
    {
      "cell_type": "code",
      "source": [
        ""
      ],
      "metadata": {
        "id": "OHnsKL9i_kQ-"
      },
      "execution_count": null,
      "outputs": []
    },
    {
      "cell_type": "code",
      "source": [
        ""
      ],
      "metadata": {
        "id": "UnDu2tbt_kUD"
      },
      "execution_count": null,
      "outputs": []
    }
  ]
}