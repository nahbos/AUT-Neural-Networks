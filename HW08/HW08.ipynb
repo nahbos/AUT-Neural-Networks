{
  "cells": [
    {
      "cell_type": "markdown",
      "metadata": {
        "id": "view-in-github",
        "colab_type": "text"
      },
      "source": [
        "<a href=\"https://colab.research.google.com/github/nahbos/AUT-Neural-Networks/blob/main/HW08/HW08.ipynb\" target=\"_parent\"><img src=\"https://colab.research.google.com/assets/colab-badge.svg\" alt=\"Open In Colab\"/></a>"
      ]
    },
    {
      "cell_type": "markdown",
      "metadata": {
        "id": "YNxi5T17_epW"
      },
      "source": [
        "- Sobhan Moradian Daghigh\n",
        "- 7/12/2022\n",
        "- ANN - HW08"
      ]
    },
    {
      "cell_type": "code",
      "execution_count": 171,
      "metadata": {
        "id": "nb4lrkXRHNyO"
      },
      "outputs": [],
      "source": [
        ""
      ]
    },
    {
      "cell_type": "code",
      "execution_count": 172,
      "metadata": {
        "colab": {
          "base_uri": "https://localhost:8080/"
        },
        "id": "K5A65U0h_LVy",
        "outputId": "b06f0373-46de-41c2-b64e-d76b99c2aba2"
      },
      "outputs": [
        {
          "output_type": "stream",
          "name": "stdout",
          "text": [
            "Looking in indexes: https://pypi.org/simple, https://us-python.pkg.dev/colab-wheels/public/simple/\n",
            "Requirement already satisfied: tensorflow-text==2.8.* in /usr/local/lib/python3.7/dist-packages (2.8.2)\n",
            "Requirement already satisfied: tensorflow-hub>=0.8.0 in /usr/local/lib/python3.7/dist-packages (from tensorflow-text==2.8.*) (0.12.0)\n",
            "Requirement already satisfied: tensorflow<2.9,>=2.8.0 in /usr/local/lib/python3.7/dist-packages (from tensorflow-text==2.8.*) (2.8.2+zzzcolab20220527125636)\n",
            "Requirement already satisfied: astunparse>=1.6.0 in /usr/local/lib/python3.7/dist-packages (from tensorflow<2.9,>=2.8.0->tensorflow-text==2.8.*) (1.6.3)\n",
            "Requirement already satisfied: absl-py>=0.4.0 in /usr/local/lib/python3.7/dist-packages (from tensorflow<2.9,>=2.8.0->tensorflow-text==2.8.*) (1.1.0)\n",
            "Requirement already satisfied: h5py>=2.9.0 in /usr/local/lib/python3.7/dist-packages (from tensorflow<2.9,>=2.8.0->tensorflow-text==2.8.*) (3.1.0)\n",
            "Requirement already satisfied: protobuf<3.20,>=3.9.2 in /usr/local/lib/python3.7/dist-packages (from tensorflow<2.9,>=2.8.0->tensorflow-text==2.8.*) (3.17.3)\n",
            "Requirement already satisfied: tensorflow-io-gcs-filesystem>=0.23.1 in /usr/local/lib/python3.7/dist-packages (from tensorflow<2.9,>=2.8.0->tensorflow-text==2.8.*) (0.26.0)\n",
            "Requirement already satisfied: termcolor>=1.1.0 in /usr/local/lib/python3.7/dist-packages (from tensorflow<2.9,>=2.8.0->tensorflow-text==2.8.*) (1.1.0)\n",
            "Requirement already satisfied: google-pasta>=0.1.1 in /usr/local/lib/python3.7/dist-packages (from tensorflow<2.9,>=2.8.0->tensorflow-text==2.8.*) (0.2.0)\n",
            "Requirement already satisfied: numpy>=1.20 in /usr/local/lib/python3.7/dist-packages (from tensorflow<2.9,>=2.8.0->tensorflow-text==2.8.*) (1.21.6)\n",
            "Requirement already satisfied: flatbuffers>=1.12 in /usr/local/lib/python3.7/dist-packages (from tensorflow<2.9,>=2.8.0->tensorflow-text==2.8.*) (2.0)\n",
            "Requirement already satisfied: tensorboard<2.9,>=2.8 in /usr/local/lib/python3.7/dist-packages (from tensorflow<2.9,>=2.8.0->tensorflow-text==2.8.*) (2.8.0)\n",
            "Requirement already satisfied: grpcio<2.0,>=1.24.3 in /usr/local/lib/python3.7/dist-packages (from tensorflow<2.9,>=2.8.0->tensorflow-text==2.8.*) (1.47.0)\n",
            "Requirement already satisfied: tensorflow-estimator<2.9,>=2.8 in /usr/local/lib/python3.7/dist-packages (from tensorflow<2.9,>=2.8.0->tensorflow-text==2.8.*) (2.8.0)\n",
            "Requirement already satisfied: keras<2.9,>=2.8.0rc0 in /usr/local/lib/python3.7/dist-packages (from tensorflow<2.9,>=2.8.0->tensorflow-text==2.8.*) (2.8.0)\n",
            "Requirement already satisfied: libclang>=9.0.1 in /usr/local/lib/python3.7/dist-packages (from tensorflow<2.9,>=2.8.0->tensorflow-text==2.8.*) (14.0.1)\n",
            "Requirement already satisfied: setuptools in /usr/local/lib/python3.7/dist-packages (from tensorflow<2.9,>=2.8.0->tensorflow-text==2.8.*) (57.4.0)\n",
            "Requirement already satisfied: opt-einsum>=2.3.2 in /usr/local/lib/python3.7/dist-packages (from tensorflow<2.9,>=2.8.0->tensorflow-text==2.8.*) (3.3.0)\n",
            "Requirement already satisfied: typing-extensions>=3.6.6 in /usr/local/lib/python3.7/dist-packages (from tensorflow<2.9,>=2.8.0->tensorflow-text==2.8.*) (4.1.1)\n",
            "Requirement already satisfied: keras-preprocessing>=1.1.1 in /usr/local/lib/python3.7/dist-packages (from tensorflow<2.9,>=2.8.0->tensorflow-text==2.8.*) (1.1.2)\n",
            "Requirement already satisfied: wrapt>=1.11.0 in /usr/local/lib/python3.7/dist-packages (from tensorflow<2.9,>=2.8.0->tensorflow-text==2.8.*) (1.14.1)\n",
            "Requirement already satisfied: six>=1.12.0 in /usr/local/lib/python3.7/dist-packages (from tensorflow<2.9,>=2.8.0->tensorflow-text==2.8.*) (1.15.0)\n",
            "Requirement already satisfied: gast>=0.2.1 in /usr/local/lib/python3.7/dist-packages (from tensorflow<2.9,>=2.8.0->tensorflow-text==2.8.*) (0.5.3)\n",
            "Requirement already satisfied: wheel<1.0,>=0.23.0 in /usr/local/lib/python3.7/dist-packages (from astunparse>=1.6.0->tensorflow<2.9,>=2.8.0->tensorflow-text==2.8.*) (0.37.1)\n",
            "Requirement already satisfied: cached-property in /usr/local/lib/python3.7/dist-packages (from h5py>=2.9.0->tensorflow<2.9,>=2.8.0->tensorflow-text==2.8.*) (1.5.2)\n",
            "Requirement already satisfied: requests<3,>=2.21.0 in /usr/local/lib/python3.7/dist-packages (from tensorboard<2.9,>=2.8->tensorflow<2.9,>=2.8.0->tensorflow-text==2.8.*) (2.23.0)\n",
            "Requirement already satisfied: tensorboard-data-server<0.7.0,>=0.6.0 in /usr/local/lib/python3.7/dist-packages (from tensorboard<2.9,>=2.8->tensorflow<2.9,>=2.8.0->tensorflow-text==2.8.*) (0.6.1)\n",
            "Requirement already satisfied: tensorboard-plugin-wit>=1.6.0 in /usr/local/lib/python3.7/dist-packages (from tensorboard<2.9,>=2.8->tensorflow<2.9,>=2.8.0->tensorflow-text==2.8.*) (1.8.1)\n",
            "Requirement already satisfied: werkzeug>=0.11.15 in /usr/local/lib/python3.7/dist-packages (from tensorboard<2.9,>=2.8->tensorflow<2.9,>=2.8.0->tensorflow-text==2.8.*) (1.0.1)\n",
            "Requirement already satisfied: google-auth-oauthlib<0.5,>=0.4.1 in /usr/local/lib/python3.7/dist-packages (from tensorboard<2.9,>=2.8->tensorflow<2.9,>=2.8.0->tensorflow-text==2.8.*) (0.4.6)\n",
            "Requirement already satisfied: markdown>=2.6.8 in /usr/local/lib/python3.7/dist-packages (from tensorboard<2.9,>=2.8->tensorflow<2.9,>=2.8.0->tensorflow-text==2.8.*) (3.3.7)\n",
            "Requirement already satisfied: google-auth<3,>=1.6.3 in /usr/local/lib/python3.7/dist-packages (from tensorboard<2.9,>=2.8->tensorflow<2.9,>=2.8.0->tensorflow-text==2.8.*) (1.35.0)\n",
            "Requirement already satisfied: pyasn1-modules>=0.2.1 in /usr/local/lib/python3.7/dist-packages (from google-auth<3,>=1.6.3->tensorboard<2.9,>=2.8->tensorflow<2.9,>=2.8.0->tensorflow-text==2.8.*) (0.2.8)\n",
            "Requirement already satisfied: rsa<5,>=3.1.4 in /usr/local/lib/python3.7/dist-packages (from google-auth<3,>=1.6.3->tensorboard<2.9,>=2.8->tensorflow<2.9,>=2.8.0->tensorflow-text==2.8.*) (4.8)\n",
            "Requirement already satisfied: cachetools<5.0,>=2.0.0 in /usr/local/lib/python3.7/dist-packages (from google-auth<3,>=1.6.3->tensorboard<2.9,>=2.8->tensorflow<2.9,>=2.8.0->tensorflow-text==2.8.*) (4.2.4)\n",
            "Requirement already satisfied: requests-oauthlib>=0.7.0 in /usr/local/lib/python3.7/dist-packages (from google-auth-oauthlib<0.5,>=0.4.1->tensorboard<2.9,>=2.8->tensorflow<2.9,>=2.8.0->tensorflow-text==2.8.*) (1.3.1)\n",
            "Requirement already satisfied: importlib-metadata>=4.4 in /usr/local/lib/python3.7/dist-packages (from markdown>=2.6.8->tensorboard<2.9,>=2.8->tensorflow<2.9,>=2.8.0->tensorflow-text==2.8.*) (4.12.0)\n",
            "Requirement already satisfied: zipp>=0.5 in /usr/local/lib/python3.7/dist-packages (from importlib-metadata>=4.4->markdown>=2.6.8->tensorboard<2.9,>=2.8->tensorflow<2.9,>=2.8.0->tensorflow-text==2.8.*) (3.8.0)\n",
            "Requirement already satisfied: pyasn1<0.5.0,>=0.4.6 in /usr/local/lib/python3.7/dist-packages (from pyasn1-modules>=0.2.1->google-auth<3,>=1.6.3->tensorboard<2.9,>=2.8->tensorflow<2.9,>=2.8.0->tensorflow-text==2.8.*) (0.4.8)\n",
            "Requirement already satisfied: urllib3!=1.25.0,!=1.25.1,<1.26,>=1.21.1 in /usr/local/lib/python3.7/dist-packages (from requests<3,>=2.21.0->tensorboard<2.9,>=2.8->tensorflow<2.9,>=2.8.0->tensorflow-text==2.8.*) (1.24.3)\n",
            "Requirement already satisfied: certifi>=2017.4.17 in /usr/local/lib/python3.7/dist-packages (from requests<3,>=2.21.0->tensorboard<2.9,>=2.8->tensorflow<2.9,>=2.8.0->tensorflow-text==2.8.*) (2022.6.15)\n",
            "Requirement already satisfied: chardet<4,>=3.0.2 in /usr/local/lib/python3.7/dist-packages (from requests<3,>=2.21.0->tensorboard<2.9,>=2.8->tensorflow<2.9,>=2.8.0->tensorflow-text==2.8.*) (3.0.4)\n",
            "Requirement already satisfied: idna<3,>=2.5 in /usr/local/lib/python3.7/dist-packages (from requests<3,>=2.21.0->tensorboard<2.9,>=2.8->tensorflow<2.9,>=2.8.0->tensorflow-text==2.8.*) (2.10)\n",
            "Requirement already satisfied: oauthlib>=3.0.0 in /usr/local/lib/python3.7/dist-packages (from requests-oauthlib>=0.7.0->google-auth-oauthlib<0.5,>=0.4.1->tensorboard<2.9,>=2.8->tensorflow<2.9,>=2.8.0->tensorflow-text==2.8.*) (3.2.0)\n"
          ]
        }
      ],
      "source": [
        "!pip install -U 'tensorflow-text==2.8.*'"
      ]
    },
    {
      "cell_type": "code",
      "execution_count": 173,
      "metadata": {
        "id": "Tmv7BGIn_jUB"
      },
      "outputs": [],
      "source": [
        "import numpy as np\n",
        "import matplotlib.pyplot as plt\n",
        "import tensorflow as tf\n",
        "import tensorflow_datasets as tfds\n",
        "import tensorflow_text\n",
        "import time"
      ]
    },
    {
      "cell_type": "code",
      "execution_count": 173,
      "metadata": {
        "id": "wtbvvEmv_jXJ"
      },
      "outputs": [],
      "source": [
        ""
      ]
    },
    {
      "cell_type": "markdown",
      "metadata": {
        "id": "PRvxt_6FJadW"
      },
      "source": [
        "# Load data"
      ]
    },
    {
      "cell_type": "code",
      "execution_count": 174,
      "metadata": {
        "id": "SYYU2Xim_jbR"
      },
      "outputs": [],
      "source": [
        "dataset = tfds.load('ted_hrlr_translate/pt_to_en', as_supervised=True)\n",
        "x_train, x_test, x_val = dataset['train'], dataset['test'], dataset['validation']"
      ]
    },
    {
      "cell_type": "code",
      "execution_count": 174,
      "metadata": {
        "id": "bPrIqinV_jep"
      },
      "outputs": [],
      "source": [
        ""
      ]
    },
    {
      "cell_type": "markdown",
      "source": [
        "### Decrease size of the training data"
      ],
      "metadata": {
        "id": "5R8JHPMsK5sD"
      }
    },
    {
      "cell_type": "code",
      "source": [
        "BUFFER_SIZE = 20000"
      ],
      "metadata": {
        "id": "f2pnS9paNpBC"
      },
      "execution_count": 175,
      "outputs": []
    },
    {
      "cell_type": "code",
      "source": [
        "x_train_len = len(list(x_train))\n",
        "x_train_len"
      ],
      "metadata": {
        "colab": {
          "base_uri": "https://localhost:8080/"
        },
        "id": "KcRNbHSAJxE5",
        "outputId": "8e8b4ed3-d58f-42b6-d221-0d6ec3da96b8"
      },
      "execution_count": 176,
      "outputs": [
        {
          "output_type": "execute_result",
          "data": {
            "text/plain": [
              "51785"
            ]
          },
          "metadata": {},
          "execution_count": 176
        }
      ]
    },
    {
      "cell_type": "code",
      "source": [
        "percentage = 0.33\n",
        "x_train = x_train.shuffle(BUFFER_SIZE).take(int(x_train_len * percentage))\n",
        "len(list(x_train))"
      ],
      "metadata": {
        "colab": {
          "base_uri": "https://localhost:8080/"
        },
        "id": "KwUIgH1LJ18J",
        "outputId": "33e4818d-1f81-4f07-9544-cc115ebed237"
      },
      "execution_count": 177,
      "outputs": [
        {
          "output_type": "execute_result",
          "data": {
            "text/plain": [
              "17089"
            ]
          },
          "metadata": {},
          "execution_count": 177
        }
      ]
    },
    {
      "cell_type": "code",
      "source": [
        ""
      ],
      "metadata": {
        "id": "TaV5r9JmKIoi"
      },
      "execution_count": 177,
      "outputs": []
    },
    {
      "cell_type": "markdown",
      "metadata": {
        "id": "tSUwHICIJmnP"
      },
      "source": [
        "### Preview"
      ]
    },
    {
      "cell_type": "code",
      "execution_count": 178,
      "metadata": {
        "colab": {
          "base_uri": "https://localhost:8080/"
        },
        "id": "7D9rjCLr_jhq",
        "outputId": "5839af7e-635c-4b99-9157-ac0463ba16c9"
      },
      "outputs": [
        {
          "output_type": "stream",
          "name": "stdout",
          "text": [
            "Portuguese: [uma vez , no entanto , ele aceitou fazer documentos falsos para alguém que vocês irão , talvez , reconhecer .]\n",
            "English:    [once , though , he agreed to make false papers for someone you might recognize .]\n",
            "---------------------------------\n",
            "Portuguese: [não sabemos como agir eficazmente .]\n",
            "English:    [we do n't know how to take effective action .]\n",
            "---------------------------------\n",
            "Portuguese: [`` neste momento , a maioria das pessoas estão a pensar em `` '' sexting '' '' sem pensarem realmente no consentimento . '']\n",
            "English:    [right now most people are thinking about sexting without really thinking about consent at all .]\n",
            "---------------------------------\n",
            "Portuguese: [debaixo do nosso apartamento , há um carpinteiro , lojas de guloseimas , um talho , uma gráfica , oficinas e muitas mais lojas .]\n",
            "English:    [under our apartment , there is a carpenter , sweetshops , a butcher , a printing house , workshops , among many more .]\n",
            "---------------------------------\n"
          ]
        }
      ],
      "source": [
        "for pt_sentences, en_sentences in x_train.batch(4).take(1):\n",
        "  for pt, en in zip(pt_sentences.numpy(), en_sentences.numpy()):\n",
        "    print('Portuguese: [{}]'.format(pt.decode('utf-8')))\n",
        "    print('English:    [{}]'.format(en.decode('utf-8')))\n",
        "    print('---------------------------------')"
      ]
    },
    {
      "cell_type": "code",
      "execution_count": 178,
      "metadata": {
        "id": "GgrWv9G9_jnh"
      },
      "outputs": [],
      "source": [
        ""
      ]
    },
    {
      "cell_type": "markdown",
      "metadata": {
        "id": "qBUT79SvL5p3"
      },
      "source": [
        "# Text tokenization\n",
        "Downloading a model which was implemented for tokenizing the sentences."
      ]
    },
    {
      "cell_type": "code",
      "execution_count": 179,
      "metadata": {
        "colab": {
          "base_uri": "https://localhost:8080/",
          "height": 36
        },
        "id": "n61hrZzb_jqE",
        "outputId": "cd623c0f-fa38-49a0-a040-dea9b54365da"
      },
      "outputs": [
        {
          "output_type": "execute_result",
          "data": {
            "text/plain": [
              "'./ted_hrlr_translate_pt_en_converter.zip'"
            ],
            "application/vnd.google.colaboratory.intrinsic+json": {
              "type": "string"
            }
          },
          "metadata": {},
          "execution_count": 179
        }
      ],
      "source": [
        "name = 'ted_hrlr_translate_pt_en_converter'\n",
        "tf.keras.utils.get_file(\n",
        "    f'{name}.zip',\n",
        "    f'https://storage.googleapis.com/download.tensorflow.org/models/{name}.zip',\n",
        "    cache_dir='.', cache_subdir='', extract=True)"
      ]
    },
    {
      "cell_type": "code",
      "execution_count": 180,
      "metadata": {
        "id": "K0LTsqZ8_jtM"
      },
      "outputs": [],
      "source": [
        "tokenizers = tf.saved_model.load(name)"
      ]
    },
    {
      "cell_type": "markdown",
      "metadata": {
        "id": "FEAeGcrHWII8"
      },
      "source": [
        "### Lets see the results"
      ]
    },
    {
      "cell_type": "code",
      "execution_count": 181,
      "metadata": {
        "colab": {
          "base_uri": "https://localhost:8080/"
        },
        "id": "jaiANy99_jwJ",
        "outputId": "54992491-5f46-49f7-f351-d27433b4bf4a"
      },
      "outputs": [
        {
          "output_type": "stream",
          "name": "stdout",
          "text": [
            "English:   [and building is the next of the behaviors that i thought i’d talk about .]\n",
            "English:   [i spoke to drugsheaven .]\n",
            "Tokenized: [[2, 72, 390, 80, 71, 261, 74, 71, 1921, 75, 45, 275, 45, 68, 40, 229, 95, 15, 3]]\n",
            "Tokenized: [[2, 45, 3533, 73, 1233, 5501, 3410, 269, 15, 3]]\n"
          ]
        }
      ],
      "source": [
        "for pt_sentences, en_sentences in x_train.batch(2).take(1):\n",
        "  for en in en_sentences.numpy():\n",
        "    print('English:   [{}]'.format(en.decode('utf-8')))\n",
        "\n",
        "  tokenized = tokenizers.en.tokenize(en_sentences)\n",
        "  for sentence in tokenized.to_list():\n",
        "    print('Tokenized: [{}]'.format(sentence))"
      ]
    },
    {
      "cell_type": "code",
      "execution_count": 181,
      "metadata": {
        "id": "7HT2hEZl_jzC"
      },
      "outputs": [],
      "source": [
        ""
      ]
    },
    {
      "cell_type": "markdown",
      "metadata": {
        "id": "EnWq3n13ZP5S"
      },
      "source": [
        "# Setup input pipeline\n",
        "* Now lets make a filter on the sentences which have shorter than a threshold\n",
        "* Then make batches"
      ]
    },
    {
      "cell_type": "code",
      "execution_count": 182,
      "metadata": {
        "id": "Jx41goy66OeS"
      },
      "outputs": [],
      "source": [
        "MAX_TOKENS  = 128\n",
        "BATCH_SIZE  = 64"
      ]
    },
    {
      "cell_type": "code",
      "execution_count": 183,
      "metadata": {
        "id": "1BRCAa1u_j1q"
      },
      "outputs": [],
      "source": [
        "def filter_max_tokens(pt, en):\n",
        "  num_tokens = tf.maximum(tf.shape(pt)[1],tf.shape(en)[1])\n",
        "  return num_tokens < MAX_TOKENS"
      ]
    },
    {
      "cell_type": "code",
      "execution_count": 184,
      "metadata": {
        "id": "2LlJ1bGc_j4h"
      },
      "outputs": [],
      "source": [
        "def tokenize_pairs(pt, en):\n",
        "    pt = tokenizers.pt.tokenize(pt)\n",
        "    pt = pt.to_tensor()\n",
        "\n",
        "    en = tokenizers.en.tokenize(en)\n",
        "    en = en.to_tensor()\n",
        "    \n",
        "    return pt, en"
      ]
    },
    {
      "cell_type": "code",
      "execution_count": 185,
      "metadata": {
        "id": "XOFMmGFS_j7B"
      },
      "outputs": [],
      "source": [
        "def make_batches(ds):\n",
        "  return (\n",
        "      ds\n",
        "      .cache()\n",
        "      .shuffle(BUFFER_SIZE)\n",
        "      .batch(BATCH_SIZE)\n",
        "      .map(tokenize_pairs, num_parallel_calls=tf.data.AUTOTUNE)\n",
        "      .filter(filter_max_tokens)\n",
        "      .prefetch(tf.data.AUTOTUNE))"
      ]
    },
    {
      "cell_type": "code",
      "execution_count": 186,
      "metadata": {
        "id": "aw4IGtGA_j96"
      },
      "outputs": [],
      "source": [
        "train_batches = make_batches(x_train)"
      ]
    },
    {
      "cell_type": "code",
      "source": [
        ""
      ],
      "metadata": {
        "id": "B9N3yPj5JJJ4"
      },
      "execution_count": 186,
      "outputs": []
    },
    {
      "cell_type": "markdown",
      "metadata": {
        "id": "_cN0seSv-uiq"
      },
      "source": [
        "# Positional Embedding"
      ]
    },
    {
      "cell_type": "code",
      "execution_count": 187,
      "metadata": {
        "id": "rq6kFEHp_kDi"
      },
      "outputs": [],
      "source": [
        "def get_angles(pos, i, d_model):\n",
        "  angle_rates = 1 / np.power(10000, (2 * (i//2)) / np.float32(d_model))\n",
        "  return pos * angle_rates"
      ]
    },
    {
      "cell_type": "code",
      "execution_count": 188,
      "metadata": {
        "id": "v7t1G6Ul_kGK"
      },
      "outputs": [],
      "source": [
        "def positional_encoding(position, d_model):\n",
        "  angle_rads = get_angles(np.arange(position)[:, np.newaxis], np.arange(d_model)[np.newaxis, :], d_model)\n",
        "\n",
        "  angle_rads[:, 0::2] = np.sin(angle_rads[:, 0::2])\n",
        "  angle_rads[:, 1::2] = np.cos(angle_rads[:, 1::2])\n",
        "\n",
        "  pos_encoding = angle_rads[np.newaxis, ...]\n",
        "\n",
        "  return tf.cast(pos_encoding, dtype=tf.float32)"
      ]
    },
    {
      "cell_type": "code",
      "execution_count": 189,
      "metadata": {
        "colab": {
          "base_uri": "https://localhost:8080/"
        },
        "id": "K1iq_t8N_kJB",
        "outputId": "29f0e694-56cf-4b77-cd77-b3d713fec0dd"
      },
      "outputs": [
        {
          "output_type": "stream",
          "name": "stdout",
          "text": [
            "(1, 2048, 512)\n"
          ]
        }
      ],
      "source": [
        "n, d = 2048, 512\n",
        "pos_encoding = positional_encoding(n, d)\n",
        "print(pos_encoding.shape)\n",
        "pos_encoding = pos_encoding[0]"
      ]
    },
    {
      "cell_type": "code",
      "execution_count": 189,
      "metadata": {
        "id": "Z6DHFdrf_kLr"
      },
      "outputs": [],
      "source": [
        ""
      ]
    },
    {
      "cell_type": "markdown",
      "metadata": {
        "id": "qzUwP2Ct_6lZ"
      },
      "source": [
        "# Mask pad tokens"
      ]
    },
    {
      "cell_type": "code",
      "execution_count": 190,
      "metadata": {
        "id": "Eapm6q-w_kdr"
      },
      "outputs": [],
      "source": [
        "def create_padding_mask(seq):\n",
        "  seq = tf.cast(tf.math.equal(seq, 0), tf.float32)\n",
        "  return seq[:, tf.newaxis, tf.newaxis, :]"
      ]
    },
    {
      "cell_type": "code",
      "execution_count": 191,
      "metadata": {
        "id": "tCiQ7WKW_kf_"
      },
      "outputs": [],
      "source": [
        "def create_look_ahead_mask(size):\n",
        "  mask = 1 - tf.linalg.band_part(tf.ones((size, size)), -1, 0)\n",
        "  return mask"
      ]
    },
    {
      "cell_type": "code",
      "execution_count": 192,
      "metadata": {
        "id": "xNUevuzX_kim"
      },
      "outputs": [],
      "source": [
        "#------------------------------------------------------------------------------------"
      ]
    },
    {
      "cell_type": "code",
      "execution_count": 192,
      "metadata": {
        "id": "Ix0OCZ5M_ksn"
      },
      "outputs": [],
      "source": [
        ""
      ]
    },
    {
      "cell_type": "code",
      "execution_count": 193,
      "metadata": {
        "id": "WNEhqWnf_kvJ"
      },
      "outputs": [],
      "source": [
        "def scaled_dot_product_attention(q, k, v, mask):\n",
        "\n",
        "  matmul_qk = tf.matmul(q, k, transpose_b=True)\n",
        "\n",
        "  dk = tf.cast(tf.shape(k)[-1], tf.float32)\n",
        "  scaled_attention_logits = matmul_qk / tf.math.sqrt(dk)\n",
        "\n",
        "  if mask is not None:\n",
        "    scaled_attention_logits += (mask * -1e9)\n",
        "\n",
        "  attention_weights = tf.nn.softmax(scaled_attention_logits, axis=-1)\n",
        "\n",
        "  output = tf.matmul(attention_weights, v)\n",
        "\n",
        "  return output, attention_weights"
      ]
    },
    {
      "cell_type": "code",
      "execution_count": 193,
      "metadata": {
        "id": "Ix8yOPrQ_kxh"
      },
      "outputs": [],
      "source": [
        ""
      ]
    },
    {
      "cell_type": "code",
      "execution_count": 194,
      "metadata": {
        "id": "AA-7ZmfK_k0H"
      },
      "outputs": [],
      "source": [
        "class MultiHeadAttention(tf.keras.layers.Layer):\n",
        "  def __init__(self,*, d_model, num_heads):\n",
        "    super(MultiHeadAttention, self).__init__()\n",
        "    self.num_heads = num_heads\n",
        "    self.d_model = d_model\n",
        "\n",
        "    assert d_model % self.num_heads == 0\n",
        "\n",
        "    self.depth = d_model // self.num_heads\n",
        "\n",
        "    self.wq = tf.keras.layers.Dense(d_model)\n",
        "    self.wk = tf.keras.layers.Dense(d_model)\n",
        "    self.wv = tf.keras.layers.Dense(d_model)\n",
        "\n",
        "    self.dense = tf.keras.layers.Dense(d_model)\n",
        "\n",
        "  def split_heads(self, x, batch_size):\n",
        "    x = tf.reshape(x, (batch_size, -1, self.num_heads, self.depth))\n",
        "    return tf.transpose(x, perm=[0, 2, 1, 3])\n",
        "\n",
        "  def call(self, v, k, q, mask):\n",
        "    batch_size = tf.shape(q)[0]\n",
        "\n",
        "    q = self.wq(q)\n",
        "    k = self.wk(k)\n",
        "    v = self.wv(v)\n",
        "\n",
        "    q = self.split_heads(q, batch_size)\n",
        "    k = self.split_heads(k, batch_size)\n",
        "    v = self.split_heads(v, batch_size)\n",
        "\n",
        "    scaled_attention, attention_weights = scaled_dot_product_attention(q, k, v, mask)\n",
        "\n",
        "    scaled_attention = tf.transpose(scaled_attention, perm=[0, 2, 1, 3])\n",
        "    concat_attention = tf.reshape(scaled_attention,(batch_size, -1, self.d_model))\n",
        "\n",
        "    output = self.dense(concat_attention)\n",
        "\n",
        "    return output, attention_weights"
      ]
    },
    {
      "cell_type": "code",
      "execution_count": 194,
      "metadata": {
        "id": "gF8SgyQY_k2y"
      },
      "outputs": [],
      "source": [
        ""
      ]
    },
    {
      "cell_type": "code",
      "execution_count": 195,
      "metadata": {
        "id": "VNv8umtr_k5L"
      },
      "outputs": [],
      "source": [
        "def point_wise_feed_forward_network(d_model, dff):\n",
        "  return tf.keras.Sequential([\n",
        "      tf.keras.layers.Dense(dff, activation='relu'),\n",
        "      tf.keras.layers.Dense(d_model)\n",
        "  ])"
      ]
    },
    {
      "cell_type": "code",
      "execution_count": 195,
      "metadata": {
        "id": "TmH2nKXR_k7z"
      },
      "outputs": [],
      "source": [
        ""
      ]
    },
    {
      "cell_type": "code",
      "execution_count": 196,
      "metadata": {
        "id": "vAVSeieC_k-i"
      },
      "outputs": [],
      "source": [
        "class EncoderLayer(tf.keras.layers.Layer):\n",
        "  def __init__(self,*, d_model, num_heads, dff, rate=0.1):\n",
        "    super(EncoderLayer, self).__init__()\n",
        "\n",
        "    self.mha = MultiHeadAttention(d_model=d_model, num_heads=num_heads)\n",
        "    self.ffn = point_wise_feed_forward_network(d_model, dff)\n",
        "\n",
        "    self.layernorm1 = tf.keras.layers.LayerNormalization(epsilon=1e-6)\n",
        "    self.layernorm2 = tf.keras.layers.LayerNormalization(epsilon=1e-6)\n",
        "\n",
        "    self.dropout1 = tf.keras.layers.Dropout(rate)\n",
        "    self.dropout2 = tf.keras.layers.Dropout(rate)\n",
        "\n",
        "  def call(self, x, training, mask):\n",
        "\n",
        "    attn_output, _ = self.mha(x, x, x, mask)\n",
        "    attn_output = self.dropout1(attn_output, training=training)\n",
        "    out1 = self.layernorm1(x + attn_output)\n",
        "\n",
        "    ffn_output = self.ffn(out1)\n",
        "    ffn_output = self.dropout2(ffn_output, training=training)\n",
        "    out2 = self.layernorm2(out1 + ffn_output)\n",
        "    return out2"
      ]
    },
    {
      "cell_type": "code",
      "execution_count": 196,
      "metadata": {
        "id": "RfViBVAX_lBK"
      },
      "outputs": [],
      "source": [
        ""
      ]
    },
    {
      "cell_type": "code",
      "execution_count": 197,
      "metadata": {
        "id": "G8vntxk2_lDt"
      },
      "outputs": [],
      "source": [
        "class DecoderLayer(tf.keras.layers.Layer):\n",
        "  def __init__(self,*, d_model, num_heads, dff, rate=0.1):\n",
        "    super(DecoderLayer, self).__init__()\n",
        "\n",
        "    self.mha1 = MultiHeadAttention(d_model=d_model, num_heads=num_heads)\n",
        "    self.mha2 = MultiHeadAttention(d_model=d_model, num_heads=num_heads)\n",
        "\n",
        "    self.ffn = point_wise_feed_forward_network(d_model, dff)\n",
        "\n",
        "    self.layernorm1 = tf.keras.layers.LayerNormalization(epsilon=1e-6)\n",
        "    self.layernorm2 = tf.keras.layers.LayerNormalization(epsilon=1e-6)\n",
        "    self.layernorm3 = tf.keras.layers.LayerNormalization(epsilon=1e-6)\n",
        "\n",
        "    self.dropout1 = tf.keras.layers.Dropout(rate)\n",
        "    self.dropout2 = tf.keras.layers.Dropout(rate)\n",
        "    self.dropout3 = tf.keras.layers.Dropout(rate)\n",
        "\n",
        "  def call(self, x, enc_output, training,\n",
        "           look_ahead_mask, padding_mask):\n",
        "    \n",
        "\n",
        "    attn1, attn_weights_block1 = self.mha1(x, x, x, look_ahead_mask)\n",
        "    attn1 = self.dropout1(attn1, training=training)\n",
        "    out1 = self.layernorm1(attn1 + x)\n",
        "\n",
        "    attn2, attn_weights_block2 = self.mha2(\n",
        "        enc_output, enc_output, out1, padding_mask)\n",
        "    attn2 = self.dropout2(attn2, training=training)\n",
        "    out2 = self.layernorm2(attn2 + out1)\n",
        "\n",
        "    ffn_output = self.ffn(out2)\n",
        "    ffn_output = self.dropout3(ffn_output, training=training)\n",
        "    out3 = self.layernorm3(ffn_output + out2)\n",
        "\n",
        "    return out3, attn_weights_block1, attn_weights_block2"
      ]
    },
    {
      "cell_type": "code",
      "execution_count": 197,
      "metadata": {
        "id": "V9hpiWEb_lGT"
      },
      "outputs": [],
      "source": [
        ""
      ]
    },
    {
      "cell_type": "code",
      "execution_count": 198,
      "metadata": {
        "id": "CrqmdrUc_lJL"
      },
      "outputs": [],
      "source": [
        "class Encoder(tf.keras.layers.Layer):\n",
        "  def __init__(self,*, num_layers, d_model, num_heads, dff, input_vocab_size,\n",
        "               rate=0.1):\n",
        "    super(Encoder, self).__init__()\n",
        "\n",
        "    self.d_model = d_model\n",
        "    self.num_layers = num_layers\n",
        "\n",
        "    self.embedding = tf.keras.layers.Embedding(input_vocab_size, d_model)\n",
        "    self.pos_encoding = positional_encoding(MAX_TOKENS, self.d_model)\n",
        "\n",
        "    self.enc_layers = [\n",
        "        EncoderLayer(d_model=d_model, num_heads=num_heads, dff=dff, rate=rate)\n",
        "        for _ in range(num_layers)]\n",
        "\n",
        "    self.dropout = tf.keras.layers.Dropout(rate)\n",
        "\n",
        "  def call(self, x, training, mask):\n",
        "\n",
        "    seq_len = tf.shape(x)[1]\n",
        "\n",
        "    \n",
        "    x = self.embedding(x)\n",
        "    x *= tf.math.sqrt(tf.cast(self.d_model, tf.float32))\n",
        "    x += self.pos_encoding[:, :seq_len, :]\n",
        "\n",
        "    x = self.dropout(x, training=training)\n",
        "\n",
        "    for i in range(self.num_layers):\n",
        "      x = self.enc_layers[i](x, training, mask)\n",
        "\n",
        "    return x"
      ]
    },
    {
      "cell_type": "code",
      "execution_count": 198,
      "metadata": {
        "id": "W0_9bJ6S_lL5"
      },
      "outputs": [],
      "source": [
        ""
      ]
    },
    {
      "cell_type": "code",
      "execution_count": 199,
      "metadata": {
        "id": "buQNHJUd_kOn"
      },
      "outputs": [],
      "source": [
        "class Decoder(tf.keras.layers.Layer):\n",
        "  def __init__(self,*, num_layers, d_model, num_heads, dff, target_vocab_size,\n",
        "               rate=0.1):\n",
        "    super(Decoder, self).__init__()\n",
        "\n",
        "    self.d_model = d_model\n",
        "    self.num_layers = num_layers\n",
        "\n",
        "    self.embedding = tf.keras.layers.Embedding(target_vocab_size, d_model)\n",
        "    self.pos_encoding = positional_encoding(MAX_TOKENS, d_model)\n",
        "\n",
        "    self.dec_layers = [\n",
        "        DecoderLayer(d_model=d_model, num_heads=num_heads, dff=dff, rate=rate)\n",
        "        for _ in range(num_layers)]\n",
        "    self.dropout = tf.keras.layers.Dropout(rate)\n",
        "\n",
        "  def call(self, x, enc_output, training,\n",
        "           look_ahead_mask, padding_mask):\n",
        "\n",
        "    seq_len = tf.shape(x)[1]\n",
        "    attention_weights = {}\n",
        "\n",
        "    x = self.embedding(x)\n",
        "    x *= tf.math.sqrt(tf.cast(self.d_model, tf.float32))\n",
        "    x += self.pos_encoding[:, :seq_len, :]\n",
        "\n",
        "    x = self.dropout(x, training=training)\n",
        "\n",
        "    for i in range(self.num_layers):\n",
        "      x, block1, block2 = self.dec_layers[i](x, enc_output, training,\n",
        "                                             look_ahead_mask, padding_mask)\n",
        "\n",
        "      attention_weights[f'decoder_layer{i+1}_block1'] = block1\n",
        "      attention_weights[f'decoder_layer{i+1}_block2'] = block2\n",
        "\n",
        "    return x, attention_weights"
      ]
    },
    {
      "cell_type": "code",
      "execution_count": 199,
      "metadata": {
        "id": "OHnsKL9i_kQ-"
      },
      "outputs": [],
      "source": [
        ""
      ]
    },
    {
      "cell_type": "code",
      "execution_count": 200,
      "metadata": {
        "id": "UnDu2tbt_kUD"
      },
      "outputs": [],
      "source": [
        "class Transformer(tf.keras.Model):\n",
        "  def __init__(self,*, num_layers, d_model, num_heads, dff, input_vocab_size,\n",
        "               target_vocab_size, rate=0.1):\n",
        "    super().__init__()\n",
        "    self.encoder = Encoder(num_layers=num_layers, d_model=d_model,\n",
        "                           num_heads=num_heads, dff=dff,\n",
        "                           input_vocab_size=input_vocab_size, rate=rate)\n",
        "\n",
        "    self.decoder = Decoder(num_layers=num_layers, d_model=d_model,\n",
        "                           num_heads=num_heads, dff=dff,\n",
        "                           target_vocab_size=target_vocab_size, rate=rate)\n",
        "\n",
        "    self.final_layer = tf.keras.layers.Dense(target_vocab_size)\n",
        "\n",
        "  def call(self, inputs, training):\n",
        "\n",
        "    inp, tar = inputs\n",
        "\n",
        "    padding_mask, look_ahead_mask = self.create_masks(inp, tar)\n",
        "\n",
        "    enc_output = self.encoder(inp, training, padding_mask)\n",
        "    dec_output, attention_weights = self.decoder(\n",
        "        tar, enc_output, training, look_ahead_mask, padding_mask)\n",
        "\n",
        "    final_output = self.final_layer(dec_output)\n",
        "\n",
        "    return final_output, attention_weights\n",
        "\n",
        "  def create_masks(self, inp, tar):\n",
        "    padding_mask = create_padding_mask(inp)\n",
        "\n",
        "    look_ahead_mask = create_look_ahead_mask(tf.shape(tar)[1])\n",
        "    dec_target_padding_mask = create_padding_mask(tar)\n",
        "    look_ahead_mask = tf.maximum(dec_target_padding_mask, look_ahead_mask)\n",
        "\n",
        "    return padding_mask, look_ahead_mask"
      ]
    },
    {
      "cell_type": "code",
      "execution_count": 200,
      "metadata": {
        "id": "QyfCkG9hCp5X"
      },
      "outputs": [],
      "source": [
        ""
      ]
    },
    {
      "cell_type": "code",
      "execution_count": 201,
      "metadata": {
        "id": "oN8pYRv9CqHr"
      },
      "outputs": [],
      "source": [
        "num_layers = 4\n",
        "d_model = 128\n",
        "dff = 512\n",
        "num_heads = 8\n",
        "dropout_rate = 0.1"
      ]
    },
    {
      "cell_type": "code",
      "execution_count": 201,
      "metadata": {
        "id": "Vffhg74dCqKE"
      },
      "outputs": [],
      "source": [
        ""
      ]
    },
    {
      "cell_type": "code",
      "execution_count": 202,
      "metadata": {
        "id": "nM6_27M3CqMi"
      },
      "outputs": [],
      "source": [
        "class CustomSchedule(tf.keras.optimizers.schedules.LearningRateSchedule):\n",
        "  def __init__(self, d_model, warmup_steps=4000):\n",
        "    super(CustomSchedule, self).__init__()\n",
        "\n",
        "    self.d_model = d_model\n",
        "    self.d_model = tf.cast(self.d_model, tf.float32)\n",
        "\n",
        "    self.warmup_steps = warmup_steps\n",
        "\n",
        "  def __call__(self, step):\n",
        "    arg1 = tf.math.rsqrt(step)\n",
        "    arg2 = step * (self.warmup_steps ** -1.5)\n",
        "\n",
        "    return tf.math.rsqrt(self.d_model) * tf.math.minimum(arg1, arg2)"
      ]
    },
    {
      "cell_type": "code",
      "execution_count": 203,
      "metadata": {
        "id": "vFf854kSCqPI"
      },
      "outputs": [],
      "source": [
        "learning_rate = CustomSchedule(d_model)\n",
        "optimizer = tf.keras.optimizers.Adam(learning_rate, beta_1=0.9, beta_2=0.98, epsilon=1e-9)"
      ]
    },
    {
      "cell_type": "code",
      "execution_count": 203,
      "metadata": {
        "id": "IZt-c2WICqRs"
      },
      "outputs": [],
      "source": [
        ""
      ]
    },
    {
      "cell_type": "code",
      "execution_count": 204,
      "metadata": {
        "id": "_rp4Qb01CqUJ"
      },
      "outputs": [],
      "source": [
        "loss_object = tf.keras.losses.SparseCategoricalCrossentropy(from_logits=True, reduction='none')"
      ]
    },
    {
      "cell_type": "code",
      "execution_count": 205,
      "metadata": {
        "id": "5CoPib6bCqW6"
      },
      "outputs": [],
      "source": [
        "def loss_function(real, pred):\n",
        "  mask = tf.math.logical_not(tf.math.equal(real, 0))\n",
        "  loss_ = loss_object(real, pred)\n",
        "\n",
        "  mask = tf.cast(mask, dtype=loss_.dtype)\n",
        "  loss_ *= mask\n",
        "\n",
        "  return tf.reduce_sum(loss_)/tf.reduce_sum(mask)\n",
        "\n",
        "\n",
        "def accuracy_function(real, pred):\n",
        "  accuracies = tf.equal(real, tf.argmax(pred, axis=2))\n",
        "\n",
        "  mask = tf.math.logical_not(tf.math.equal(real, 0))\n",
        "  accuracies = tf.math.logical_and(mask, accuracies)\n",
        "\n",
        "  accuracies = tf.cast(accuracies, dtype=tf.float32)\n",
        "  mask = tf.cast(mask, dtype=tf.float32)\n",
        "  return tf.reduce_sum(accuracies)/tf.reduce_sum(mask)"
      ]
    },
    {
      "cell_type": "code",
      "execution_count": 206,
      "metadata": {
        "id": "sNaU_wnJCqZf"
      },
      "outputs": [],
      "source": [
        "train_loss = tf.keras.metrics.Mean(name='train_loss')\n",
        "train_accuracy = tf.keras.metrics.Mean(name='train_accuracy')"
      ]
    },
    {
      "cell_type": "code",
      "execution_count": 206,
      "metadata": {
        "id": "mtAXtChGCqcO"
      },
      "outputs": [],
      "source": [
        ""
      ]
    },
    {
      "cell_type": "code",
      "execution_count": 207,
      "metadata": {
        "id": "QfnT5PzACqee"
      },
      "outputs": [],
      "source": [
        "transformer = Transformer(\n",
        "    num_layers=num_layers,\n",
        "    d_model=d_model,\n",
        "    num_heads=num_heads,\n",
        "    dff=dff,\n",
        "    input_vocab_size=tokenizers.pt.get_vocab_size().numpy(),\n",
        "    target_vocab_size=tokenizers.en.get_vocab_size().numpy(),\n",
        "    rate=dropout_rate)"
      ]
    },
    {
      "cell_type": "code",
      "execution_count": 207,
      "metadata": {
        "id": "Pn8Ckgh9Cqgq"
      },
      "outputs": [],
      "source": [
        ""
      ]
    },
    {
      "cell_type": "code",
      "execution_count": 208,
      "metadata": {
        "id": "_1JHdUOgCqjS",
        "colab": {
          "base_uri": "https://localhost:8080/"
        },
        "outputId": "c481caff-41c0-47dd-f354-e1fc4c839d1d"
      },
      "outputs": [
        {
          "output_type": "stream",
          "name": "stdout",
          "text": [
            "Latest checkpoint restored!!\n"
          ]
        }
      ],
      "source": [
        "checkpoint_path = './checkpoints/train'\n",
        "\n",
        "ckpt = tf.train.Checkpoint(transformer=transformer,\n",
        "                           optimizer=optimizer)\n",
        "\n",
        "ckpt_manager = tf.train.CheckpointManager(ckpt, checkpoint_path, max_to_keep=5)\n",
        "\n",
        "if ckpt_manager.latest_checkpoint:\n",
        "  ckpt.restore(ckpt_manager.latest_checkpoint)\n",
        "  print('Latest checkpoint restored!!')"
      ]
    },
    {
      "cell_type": "code",
      "execution_count": 208,
      "metadata": {
        "id": "GEpExJZvC92f"
      },
      "outputs": [],
      "source": [
        ""
      ]
    },
    {
      "cell_type": "code",
      "execution_count": 208,
      "metadata": {
        "id": "M9-yXqJpC-Ll"
      },
      "outputs": [],
      "source": [
        ""
      ]
    },
    {
      "cell_type": "code",
      "execution_count": 209,
      "metadata": {
        "id": "KqXNpl_vC-Nw"
      },
      "outputs": [],
      "source": [
        "EPOCHS = 30"
      ]
    },
    {
      "cell_type": "code",
      "execution_count": 210,
      "metadata": {
        "id": "e4WosirVC-QO"
      },
      "outputs": [],
      "source": [
        "train_step_signature = [\n",
        "    tf.TensorSpec(shape=(None, None), dtype=tf.int64),\n",
        "    tf.TensorSpec(shape=(None, None), dtype=tf.int64),]\n",
        "\n",
        "\n",
        "@tf.function(input_signature=train_step_signature)\n",
        "def train_step(inp, tar):\n",
        "  tar_inp = tar[:, :-1]\n",
        "  tar_real = tar[:, 1:]\n",
        "\n",
        "  with tf.GradientTape() as tape:\n",
        "    predictions, _ = transformer([inp, tar_inp],\n",
        "                                 training = True)\n",
        "    loss = loss_function(tar_real, predictions)\n",
        "\n",
        "  gradients = tape.gradient(loss, transformer.trainable_variables)\n",
        "  optimizer.apply_gradients(zip(gradients, transformer.trainable_variables))\n",
        "\n",
        "  train_loss(loss)\n",
        "  train_accuracy(accuracy_function(tar_real, predictions))"
      ]
    },
    {
      "cell_type": "code",
      "execution_count": 210,
      "metadata": {
        "id": "ErpCoGfLC-TF"
      },
      "outputs": [],
      "source": [
        ""
      ]
    },
    {
      "cell_type": "code",
      "execution_count": 211,
      "metadata": {
        "colab": {
          "base_uri": "https://localhost:8080/"
        },
        "id": "xzXey1k4C-Vq",
        "outputId": "04358def-24ee-4711-c4df-c00d836eb40b"
      },
      "outputs": [
        {
          "output_type": "stream",
          "name": "stdout",
          "text": [
            "Epoch 1 Batch 0 Loss 2.2087 Accuracy 0.5979\n",
            "Epoch 1 Batch 50 Loss 2.5863 Accuracy 0.5494\n",
            "Epoch 1 Batch 100 Loss 2.5749 Accuracy 0.5456\n",
            "Epoch 1 Batch 150 Loss 2.5624 Accuracy 0.5446\n",
            "Epoch 1 Batch 200 Loss 2.5450 Accuracy 0.5435\n",
            "Epoch 1 Loss 2.5525 Accuracy 0.5411\n",
            "Time taken for 1 epoch: 53.03 secs\n",
            "\n",
            "Epoch 2 Batch 0 Loss 1.9103 Accuracy 0.6203\n",
            "Epoch 2 Batch 50 Loss 2.1266 Accuracy 0.5839\n",
            "Epoch 2 Batch 100 Loss 2.1646 Accuracy 0.5795\n",
            "Epoch 2 Batch 150 Loss 2.1727 Accuracy 0.5769\n",
            "Epoch 2 Batch 200 Loss 2.1801 Accuracy 0.5751\n",
            "Epoch 2 Loss 2.1810 Accuracy 0.5745\n",
            "Time taken for 1 epoch: 26.19 secs\n",
            "\n",
            "Epoch 3 Batch 0 Loss 1.8562 Accuracy 0.6306\n",
            "Epoch 3 Batch 50 Loss 1.9293 Accuracy 0.6046\n",
            "Epoch 3 Batch 100 Loss 1.9221 Accuracy 0.6064\n",
            "Epoch 3 Batch 150 Loss 1.9520 Accuracy 0.6019\n",
            "Epoch 3 Batch 200 Loss 1.9642 Accuracy 0.5994\n",
            "Epoch 3 Loss 1.9661 Accuracy 0.5992\n",
            "Time taken for 1 epoch: 26.41 secs\n",
            "\n",
            "Epoch 4 Batch 0 Loss 1.6325 Accuracy 0.6625\n",
            "Epoch 4 Batch 50 Loss 1.7618 Accuracy 0.6279\n",
            "Epoch 4 Batch 100 Loss 1.7718 Accuracy 0.6249\n",
            "Epoch 4 Batch 150 Loss 1.7855 Accuracy 0.6222\n",
            "Epoch 4 Batch 200 Loss 1.8000 Accuracy 0.6195\n",
            "Epoch 4 Loss 1.8131 Accuracy 0.6175\n",
            "Time taken for 1 epoch: 26.25 secs\n",
            "\n",
            "Epoch 5 Batch 0 Loss 1.5003 Accuracy 0.6567\n",
            "Epoch 5 Batch 50 Loss 1.6309 Accuracy 0.6432\n",
            "Epoch 5 Batch 100 Loss 1.6335 Accuracy 0.6429\n",
            "Epoch 5 Batch 150 Loss 1.6466 Accuracy 0.6410\n",
            "Epoch 5 Batch 200 Loss 1.6661 Accuracy 0.6376\n",
            "Saving checkpoint for epoch 5 at ./checkpoints/train/ckpt-13\n",
            "Epoch 5 Loss 1.6874 Accuracy 0.6348\n",
            "Time taken for 1 epoch: 26.48 secs\n",
            "\n",
            "Epoch 6 Batch 0 Loss 1.3975 Accuracy 0.6924\n",
            "Epoch 6 Batch 50 Loss 1.5018 Accuracy 0.6665\n",
            "Epoch 6 Batch 100 Loss 1.5118 Accuracy 0.6636\n",
            "Epoch 6 Batch 150 Loss 1.5287 Accuracy 0.6596\n",
            "Epoch 6 Batch 200 Loss 1.5475 Accuracy 0.6553\n",
            "Epoch 6 Loss 1.5631 Accuracy 0.6521\n",
            "Time taken for 1 epoch: 25.80 secs\n",
            "\n",
            "Epoch 7 Batch 0 Loss 1.5349 Accuracy 0.6582\n",
            "Epoch 7 Batch 50 Loss 1.3813 Accuracy 0.6832\n",
            "Epoch 7 Batch 100 Loss 1.4039 Accuracy 0.6791\n",
            "Epoch 7 Batch 150 Loss 1.4288 Accuracy 0.6746\n",
            "Epoch 7 Batch 200 Loss 1.4566 Accuracy 0.6690\n",
            "Epoch 7 Loss 1.4710 Accuracy 0.6656\n",
            "Time taken for 1 epoch: 26.26 secs\n",
            "\n",
            "Epoch 8 Batch 0 Loss 1.2084 Accuracy 0.7159\n",
            "Epoch 8 Batch 50 Loss 1.3124 Accuracy 0.6935\n",
            "Epoch 8 Batch 100 Loss 1.3324 Accuracy 0.6905\n",
            "Epoch 8 Batch 150 Loss 1.3519 Accuracy 0.6861\n",
            "Epoch 8 Batch 200 Loss 1.3702 Accuracy 0.6824\n",
            "Epoch 8 Loss 1.3805 Accuracy 0.6806\n",
            "Time taken for 1 epoch: 25.86 secs\n",
            "\n",
            "Epoch 9 Batch 0 Loss 1.0050 Accuracy 0.7567\n",
            "Epoch 9 Batch 50 Loss 1.2262 Accuracy 0.7085\n",
            "Epoch 9 Batch 100 Loss 1.2583 Accuracy 0.7020\n",
            "Epoch 9 Batch 150 Loss 1.2768 Accuracy 0.6987\n",
            "Epoch 9 Batch 200 Loss 1.2992 Accuracy 0.6942\n",
            "Epoch 9 Loss 1.3147 Accuracy 0.6912\n",
            "Time taken for 1 epoch: 26.62 secs\n",
            "\n",
            "Epoch 10 Batch 0 Loss 1.1278 Accuracy 0.7441\n",
            "Epoch 10 Batch 50 Loss 1.1658 Accuracy 0.7164\n",
            "Epoch 10 Batch 100 Loss 1.1819 Accuracy 0.7144\n",
            "Epoch 10 Batch 150 Loss 1.1993 Accuracy 0.7112\n",
            "Epoch 10 Batch 200 Loss 1.2249 Accuracy 0.7064\n",
            "Saving checkpoint for epoch 10 at ./checkpoints/train/ckpt-14\n",
            "Epoch 10 Loss 1.2400 Accuracy 0.7041\n",
            "Time taken for 1 epoch: 27.63 secs\n",
            "\n",
            "Epoch 11 Batch 0 Loss 1.1286 Accuracy 0.7394\n",
            "Epoch 11 Batch 50 Loss 1.1120 Accuracy 0.7302\n",
            "Epoch 11 Batch 100 Loss 1.1202 Accuracy 0.7269\n",
            "Epoch 11 Batch 150 Loss 1.1434 Accuracy 0.7212\n",
            "Epoch 11 Batch 200 Loss 1.1640 Accuracy 0.7170\n",
            "Epoch 11 Loss 1.1872 Accuracy 0.7129\n",
            "Time taken for 1 epoch: 25.99 secs\n",
            "\n",
            "Epoch 12 Batch 0 Loss 1.1004 Accuracy 0.7398\n",
            "Epoch 12 Batch 50 Loss 1.0602 Accuracy 0.7368\n",
            "Epoch 12 Batch 100 Loss 1.0718 Accuracy 0.7341\n",
            "Epoch 12 Batch 150 Loss 1.0855 Accuracy 0.7319\n",
            "Epoch 12 Batch 200 Loss 1.1098 Accuracy 0.7271\n",
            "Epoch 12 Loss 1.1216 Accuracy 0.7243\n",
            "Time taken for 1 epoch: 26.23 secs\n",
            "\n",
            "Epoch 13 Batch 0 Loss 0.9131 Accuracy 0.7644\n",
            "Epoch 13 Batch 50 Loss 1.0147 Accuracy 0.7459\n",
            "Epoch 13 Batch 100 Loss 1.0248 Accuracy 0.7442\n",
            "Epoch 13 Batch 150 Loss 1.0382 Accuracy 0.7410\n",
            "Epoch 13 Batch 200 Loss 1.0564 Accuracy 0.7365\n",
            "Epoch 13 Loss 1.0750 Accuracy 0.7323\n",
            "Time taken for 1 epoch: 26.06 secs\n",
            "\n",
            "Epoch 14 Batch 0 Loss 0.8604 Accuracy 0.7804\n",
            "Epoch 14 Batch 50 Loss 0.9807 Accuracy 0.7507\n",
            "Epoch 14 Batch 100 Loss 0.9877 Accuracy 0.7503\n",
            "Epoch 14 Batch 150 Loss 1.0027 Accuracy 0.7469\n",
            "Epoch 14 Batch 200 Loss 1.0167 Accuracy 0.7440\n",
            "Epoch 14 Loss 1.0300 Accuracy 0.7410\n",
            "Time taken for 1 epoch: 26.17 secs\n",
            "\n",
            "Epoch 15 Batch 0 Loss 0.8255 Accuracy 0.7893\n",
            "Epoch 15 Batch 50 Loss 0.9075 Accuracy 0.7685\n",
            "Epoch 15 Batch 100 Loss 0.9237 Accuracy 0.7641\n",
            "Epoch 15 Batch 150 Loss 0.9450 Accuracy 0.7591\n",
            "Epoch 15 Batch 200 Loss 0.9718 Accuracy 0.7532\n",
            "Saving checkpoint for epoch 15 at ./checkpoints/train/ckpt-15\n",
            "Epoch 15 Loss 0.9824 Accuracy 0.7505\n",
            "Time taken for 1 epoch: 26.53 secs\n",
            "\n",
            "Epoch 16 Batch 0 Loss 0.7622 Accuracy 0.8000\n",
            "Epoch 16 Batch 50 Loss 0.8681 Accuracy 0.7760\n",
            "Epoch 16 Batch 100 Loss 0.8868 Accuracy 0.7703\n",
            "Epoch 16 Batch 150 Loss 0.9051 Accuracy 0.7661\n",
            "Epoch 16 Batch 200 Loss 0.9255 Accuracy 0.7613\n",
            "Epoch 16 Loss 0.9399 Accuracy 0.7581\n",
            "Time taken for 1 epoch: 26.07 secs\n",
            "\n",
            "Epoch 17 Batch 0 Loss 0.6991 Accuracy 0.8151\n",
            "Epoch 17 Batch 50 Loss 0.8550 Accuracy 0.7768\n",
            "Epoch 17 Batch 100 Loss 0.8562 Accuracy 0.7777\n",
            "Epoch 17 Batch 150 Loss 0.8738 Accuracy 0.7731\n",
            "Epoch 17 Batch 200 Loss 0.8972 Accuracy 0.7675\n",
            "Epoch 17 Loss 0.9109 Accuracy 0.7642\n",
            "Time taken for 1 epoch: 26.05 secs\n",
            "\n",
            "Epoch 18 Batch 0 Loss 0.7160 Accuracy 0.8153\n",
            "Epoch 18 Batch 50 Loss 0.8072 Accuracy 0.7872\n",
            "Epoch 18 Batch 100 Loss 0.8301 Accuracy 0.7816\n",
            "Epoch 18 Batch 150 Loss 0.8489 Accuracy 0.7776\n",
            "Epoch 18 Batch 200 Loss 0.8612 Accuracy 0.7746\n",
            "Epoch 18 Loss 0.8721 Accuracy 0.7718\n",
            "Time taken for 1 epoch: 26.33 secs\n",
            "\n",
            "Epoch 19 Batch 0 Loss 0.7497 Accuracy 0.8148\n",
            "Epoch 19 Batch 50 Loss 0.7752 Accuracy 0.7944\n",
            "Epoch 19 Batch 100 Loss 0.7906 Accuracy 0.7912\n",
            "Epoch 19 Batch 150 Loss 0.8072 Accuracy 0.7870\n",
            "Epoch 19 Batch 200 Loss 0.8255 Accuracy 0.7825\n",
            "Epoch 19 Loss 0.8382 Accuracy 0.7797\n",
            "Time taken for 1 epoch: 25.87 secs\n",
            "\n",
            "Epoch 20 Batch 0 Loss 0.7409 Accuracy 0.7941\n",
            "Epoch 20 Batch 50 Loss 0.7485 Accuracy 0.7996\n",
            "Epoch 20 Batch 100 Loss 0.7592 Accuracy 0.7974\n",
            "Epoch 20 Batch 150 Loss 0.7806 Accuracy 0.7923\n",
            "Epoch 20 Batch 200 Loss 0.8015 Accuracy 0.7871\n",
            "Saving checkpoint for epoch 20 at ./checkpoints/train/ckpt-16\n",
            "Epoch 20 Loss 0.8164 Accuracy 0.7836\n",
            "Time taken for 1 epoch: 26.29 secs\n",
            "\n",
            "Epoch 21 Batch 0 Loss 0.7229 Accuracy 0.8110\n",
            "Epoch 21 Batch 50 Loss 0.7355 Accuracy 0.8024\n",
            "Epoch 21 Batch 100 Loss 0.7440 Accuracy 0.7991\n",
            "Epoch 21 Batch 150 Loss 0.7565 Accuracy 0.7963\n",
            "Epoch 21 Batch 200 Loss 0.7723 Accuracy 0.7926\n",
            "Epoch 21 Loss 0.7821 Accuracy 0.7902\n",
            "Time taken for 1 epoch: 25.92 secs\n",
            "\n",
            "Epoch 22 Batch 0 Loss 0.7001 Accuracy 0.8113\n",
            "Epoch 22 Batch 50 Loss 0.7103 Accuracy 0.8064\n",
            "Epoch 22 Batch 100 Loss 0.7155 Accuracy 0.8055\n",
            "Epoch 22 Batch 150 Loss 0.7322 Accuracy 0.8014\n",
            "Epoch 22 Batch 200 Loss 0.7474 Accuracy 0.7978\n",
            "Epoch 22 Loss 0.7590 Accuracy 0.7949\n",
            "Time taken for 1 epoch: 25.95 secs\n",
            "\n",
            "Epoch 23 Batch 0 Loss 0.6028 Accuracy 0.8382\n",
            "Epoch 23 Batch 50 Loss 0.6840 Accuracy 0.8133\n",
            "Epoch 23 Batch 100 Loss 0.6941 Accuracy 0.8113\n",
            "Epoch 23 Batch 150 Loss 0.7057 Accuracy 0.8082\n",
            "Epoch 23 Batch 200 Loss 0.7224 Accuracy 0.8039\n",
            "Epoch 23 Loss 0.7329 Accuracy 0.8018\n",
            "Time taken for 1 epoch: 26.02 secs\n",
            "\n",
            "Epoch 24 Batch 0 Loss 0.7387 Accuracy 0.7994\n",
            "Epoch 24 Batch 50 Loss 0.6735 Accuracy 0.8152\n",
            "Epoch 24 Batch 100 Loss 0.6789 Accuracy 0.8138\n",
            "Epoch 24 Batch 150 Loss 0.6877 Accuracy 0.8114\n",
            "Epoch 24 Batch 200 Loss 0.7018 Accuracy 0.8079\n",
            "Epoch 24 Loss 0.7129 Accuracy 0.8050\n",
            "Time taken for 1 epoch: 25.72 secs\n",
            "\n",
            "Epoch 25 Batch 0 Loss 0.6688 Accuracy 0.8118\n",
            "Epoch 25 Batch 50 Loss 0.6531 Accuracy 0.8186\n",
            "Epoch 25 Batch 100 Loss 0.6580 Accuracy 0.8181\n",
            "Epoch 25 Batch 150 Loss 0.6688 Accuracy 0.8155\n",
            "Epoch 25 Batch 200 Loss 0.6823 Accuracy 0.8123\n",
            "Saving checkpoint for epoch 25 at ./checkpoints/train/ckpt-17\n",
            "Epoch 25 Loss 0.6907 Accuracy 0.8103\n",
            "Time taken for 1 epoch: 26.17 secs\n",
            "\n",
            "Epoch 26 Batch 0 Loss 0.6233 Accuracy 0.8160\n",
            "Epoch 26 Batch 50 Loss 0.6245 Accuracy 0.8253\n",
            "Epoch 26 Batch 100 Loss 0.6298 Accuracy 0.8245\n",
            "Epoch 26 Batch 150 Loss 0.6451 Accuracy 0.8210\n",
            "Epoch 26 Batch 200 Loss 0.6630 Accuracy 0.8169\n",
            "Epoch 26 Loss 0.6690 Accuracy 0.8158\n",
            "Time taken for 1 epoch: 26.05 secs\n",
            "\n",
            "Epoch 27 Batch 0 Loss 0.5772 Accuracy 0.8346\n",
            "Epoch 27 Batch 50 Loss 0.5956 Accuracy 0.8345\n",
            "Epoch 27 Batch 100 Loss 0.6131 Accuracy 0.8292\n",
            "Epoch 27 Batch 150 Loss 0.6294 Accuracy 0.8249\n",
            "Epoch 27 Batch 200 Loss 0.6413 Accuracy 0.8217\n",
            "Epoch 27 Loss 0.6532 Accuracy 0.8190\n",
            "Time taken for 1 epoch: 25.78 secs\n",
            "\n",
            "Epoch 28 Batch 0 Loss 0.5512 Accuracy 0.8505\n",
            "Epoch 28 Batch 50 Loss 0.6031 Accuracy 0.8317\n",
            "Epoch 28 Batch 100 Loss 0.5995 Accuracy 0.8325\n",
            "Epoch 28 Batch 150 Loss 0.6087 Accuracy 0.8304\n",
            "Epoch 28 Batch 200 Loss 0.6205 Accuracy 0.8273\n",
            "Epoch 28 Loss 0.6318 Accuracy 0.8245\n",
            "Time taken for 1 epoch: 26.36 secs\n",
            "\n",
            "Epoch 29 Batch 0 Loss 0.5135 Accuracy 0.8604\n",
            "Epoch 29 Batch 50 Loss 0.5663 Accuracy 0.8407\n",
            "Epoch 29 Batch 100 Loss 0.5780 Accuracy 0.8372\n",
            "Epoch 29 Batch 150 Loss 0.5892 Accuracy 0.8344\n",
            "Epoch 29 Batch 200 Loss 0.6043 Accuracy 0.8308\n",
            "Epoch 29 Loss 0.6126 Accuracy 0.8288\n",
            "Time taken for 1 epoch: 26.29 secs\n",
            "\n",
            "Epoch 30 Batch 0 Loss 0.5536 Accuracy 0.8458\n",
            "Epoch 30 Batch 50 Loss 0.5586 Accuracy 0.8431\n",
            "Epoch 30 Batch 100 Loss 0.5645 Accuracy 0.8407\n",
            "Epoch 30 Batch 150 Loss 0.5757 Accuracy 0.8379\n",
            "Epoch 30 Batch 200 Loss 0.5872 Accuracy 0.8350\n",
            "Saving checkpoint for epoch 30 at ./checkpoints/train/ckpt-18\n",
            "Epoch 30 Loss 0.5979 Accuracy 0.8323\n",
            "Time taken for 1 epoch: 26.21 secs\n",
            "\n"
          ]
        }
      ],
      "source": [
        "for epoch in range(EPOCHS):\n",
        "  start = time.time()\n",
        "\n",
        "  train_loss.reset_states()\n",
        "  train_accuracy.reset_states()\n",
        "\n",
        "  for (batch, (inp, tar)) in enumerate(train_batches):\n",
        "    train_step(inp, tar)\n",
        "\n",
        "    if batch % 50 == 0:\n",
        "      print(f'Epoch {epoch + 1} Batch {batch} Loss {train_loss.result():.4f} Accuracy {train_accuracy.result():.4f}')\n",
        "\n",
        "  if (epoch + 1) % 5 == 0:\n",
        "    ckpt_save_path = ckpt_manager.save()\n",
        "    print(f'Saving checkpoint for epoch {epoch+1} at {ckpt_save_path}')\n",
        "\n",
        "  print(f'Epoch {epoch + 1} Loss {train_loss.result():.4f} Accuracy {train_accuracy.result():.4f}')\n",
        "\n",
        "  print(f'Time taken for 1 epoch: {time.time() - start:.2f} secs\\n')"
      ]
    },
    {
      "cell_type": "code",
      "execution_count": 211,
      "metadata": {
        "id": "y1dtXgy3C-YH"
      },
      "outputs": [],
      "source": [
        ""
      ]
    },
    {
      "cell_type": "code",
      "execution_count": 218,
      "metadata": {
        "id": "rTYqMDLnC-aR"
      },
      "outputs": [],
      "source": [
        ""
      ]
    },
    {
      "cell_type": "code",
      "execution_count": 212,
      "metadata": {
        "id": "AF5J3Yt3C-c7"
      },
      "outputs": [],
      "source": [
        "class Translator(tf.Module):\n",
        "  def __init__(self, tokenizers, transformer):\n",
        "    self.tokenizers = tokenizers\n",
        "    self.transformer = transformer\n",
        "\n",
        "  def __call__(self, sentence, max_length=MAX_TOKENS):\n",
        "    assert isinstance(sentence, tf.Tensor)\n",
        "    if len(sentence.shape) == 0:\n",
        "      sentence = sentence[tf.newaxis]\n",
        "\n",
        "    sentence = self.tokenizers.pt.tokenize(sentence).to_tensor()\n",
        "\n",
        "    encoder_input = sentence\n",
        "\n",
        "    start_end = self.tokenizers.en.tokenize([''])[0]\n",
        "    start = start_end[0][tf.newaxis]\n",
        "    end = start_end[1][tf.newaxis]\n",
        "\n",
        "    output_array = tf.TensorArray(dtype=tf.int64, size=0, dynamic_size=True)\n",
        "    output_array = output_array.write(0, start)\n",
        "\n",
        "    for i in tf.range(max_length):\n",
        "      output = tf.transpose(output_array.stack())\n",
        "      predictions, _ = self.transformer([encoder_input, output], training=False)\n",
        "\n",
        "      predictions = predictions[:, -1:, :]\n",
        "\n",
        "      predicted_id = tf.argmax(predictions, axis=-1)\n",
        "\n",
        "      output_array = output_array.write(i+1, predicted_id[0])\n",
        "\n",
        "      if predicted_id == end:\n",
        "        break\n",
        "\n",
        "    output = tf.transpose(output_array.stack())\n",
        "    text = tokenizers.en.detokenize(output)[0]\n",
        "\n",
        "    tokens = tokenizers.en.lookup(output)[0]\n",
        "\n",
        "    _, attention_weights = self.transformer([encoder_input, output[:,:-1]], training=False)\n",
        "\n",
        "    return text, tokens, attention_weights"
      ]
    },
    {
      "cell_type": "code",
      "execution_count": 213,
      "metadata": {
        "id": "388EohgWC-fh"
      },
      "outputs": [],
      "source": [
        "translator = Translator(tokenizers, transformer)"
      ]
    },
    {
      "cell_type": "code",
      "execution_count": 214,
      "metadata": {
        "id": "yvc5f42BC-iY"
      },
      "outputs": [],
      "source": [
        "def print_translation(sentence, tokens, ground_truth):\n",
        "  print(f'{\"Input:\":15s}: {sentence}')\n",
        "  print(f'{\"Prediction\":15s}: {tokens.numpy().decode(\"utf-8\")}')\n",
        "  print(f'{\"Ground truth\":15s}: {ground_truth}')"
      ]
    },
    {
      "cell_type": "code",
      "execution_count": 214,
      "metadata": {
        "id": "mGxA5g8OC-nt"
      },
      "outputs": [],
      "source": [
        ""
      ]
    },
    {
      "cell_type": "code",
      "execution_count": 215,
      "metadata": {
        "id": "b3xtoOZtC-0a"
      },
      "outputs": [],
      "source": [
        "def plot_attention_head(in_tokens, translated_tokens, attention):\n",
        "  translated_tokens = translated_tokens[1:]\n",
        "\n",
        "  ax = plt.gca()\n",
        "  ax.matshow(attention)\n",
        "  ax.set_xticks(range(len(in_tokens)))\n",
        "  ax.set_yticks(range(len(translated_tokens)))\n",
        "\n",
        "  labels = [label.decode('utf-8') for label in in_tokens.numpy()]\n",
        "  ax.set_xticklabels(\n",
        "      labels, rotation=90)\n",
        "\n",
        "  labels = [label.decode('utf-8') for label in translated_tokens.numpy()]\n",
        "  ax.set_yticklabels(labels)"
      ]
    },
    {
      "cell_type": "code",
      "execution_count": 216,
      "metadata": {
        "id": "TXh-W_ezC-3B"
      },
      "outputs": [],
      "source": [
        "def plot_attention_weights(sentence, translated_tokens, attention_heads):\n",
        "  in_tokens = tf.convert_to_tensor([sentence])\n",
        "  in_tokens = tokenizers.pt.tokenize(in_tokens).to_tensor()\n",
        "  in_tokens = tokenizers.pt.lookup(in_tokens)[0]\n",
        "  in_tokens\n",
        "\n",
        "  fig = plt.figure(figsize=(16, 8))\n",
        "\n",
        "  for h, head in enumerate(attention_heads):\n",
        "    ax = fig.add_subplot(2, 4, h+1)\n",
        "\n",
        "    plot_attention_head(in_tokens, translated_tokens, head)\n",
        "\n",
        "    ax.set_xlabel(f'Head {h+1}')\n",
        "\n",
        "  plt.tight_layout()\n",
        "  plt.show()"
      ]
    },
    {
      "cell_type": "code",
      "source": [
        ""
      ],
      "metadata": {
        "id": "cVrriDq0UYR1"
      },
      "execution_count": 216,
      "outputs": []
    },
    {
      "cell_type": "code",
      "source": [
        "sentence = 'este é um problema que temos que resolver.'\n",
        "ground_truth = 'this is a problem we have to solve .'\n",
        "\n",
        "translated_text, translated_tokens, attention_weights = translator(\n",
        "    tf.constant(sentence))\n",
        "print_translation(sentence, translated_text, ground_truth)\n",
        "plot_attention_weights(sentence, translated_tokens, attention_weights['decoder_layer4_block2'][0])"
      ],
      "metadata": {
        "colab": {
          "base_uri": "https://localhost:8080/",
          "height": 643
        },
        "id": "Y4CBagnXTKGS",
        "outputId": "6991021e-222f-4478-def2-aaeb6a38d0ca"
      },
      "execution_count": 217,
      "outputs": [
        {
          "output_type": "stream",
          "name": "stdout",
          "text": [
            "Input:         : este é um problema que temos que resolver.\n",
            "Prediction     : this is a problem that we have to fix .\n",
            "Ground truth   : this is a problem we have to solve .\n"
          ]
        },
        {
          "output_type": "display_data",
          "data": {
            "text/plain": [
              "<Figure size 1152x576 with 8 Axes>"
            ],
            "image/png": "[encoded data removed]"
          },
          "metadata": {
            "needs_background": "light"
          }
        }
      ]
    },
    {
      "cell_type": "code",
      "source": [
        ""
      ],
      "metadata": {
        "id": "uDamPN7VUcGw"
      },
      "execution_count": 217,
      "outputs": []
    },
    {
      "cell_type": "code",
      "source": [
        "for pt_sentences, en_sentences in x_test.shuffle(BUFFER_SIZE).batch(20).take(1):\n",
        "  for pt, en in zip(pt_sentences.numpy(), en_sentences.numpy()):\n",
        "    sentence = pt.decode('utf-8')\n",
        "    ground_truth = en.decode('utf-8')\n",
        "\n",
        "    translated_text, translated_tokens, attention_weights = translator(tf.constant(sentence))\n",
        "    print_translation(sentence, translated_text, ground_truth)\n",
        "    print('----------------------------------------------------------------------------------------------------------')"
      ],
      "metadata": {
        "colab": {
          "base_uri": "https://localhost:8080/"
        },
        "id": "jx8Cvm9RTExN",
        "outputId": "4ed6f320-a8cc-43bf-cc40-df0938830cdb"
      },
      "execution_count": 218,
      "outputs": [
        {
          "output_type": "stream",
          "name": "stdout",
          "text": [
            "Input:         : em 2009 , em itália , l'aquila , também tiveram um grande terramoto .\n",
            "Prediction     : in 2009 , lo in italy , i also had a great earthquake .\n",
            "Ground truth   : in 2009 , in italy , l'aquila , also they had a big earthquake .\n",
            "----------------------------------------------------------------------------------------------------------\n",
            "Input:         : `` temos de ter cuidado com a palavra `` '' hacker '' '' . ''\n",
            "Prediction     : ` ` we have to be careful with the word ` ` ' ' there ' suel . ' '\n",
            "Ground truth   : so you have to be careful with hacker .\n",
            "----------------------------------------------------------------------------------------------------------\n",
            "Input:         : gosto de pensar nisto um pouco como uma boneca russa .\n",
            "Prediction     : i like to think of this as a little boosa .\n",
            "Ground truth   : i like to think of it a bit like a russian doll .\n",
            "----------------------------------------------------------------------------------------------------------\n",
            "Input:         : ( aplausos )\n",
            "Prediction     : ( applause )\n",
            "Ground truth   : ( applause )\n",
            "----------------------------------------------------------------------------------------------------------\n",
            "Input:         : o chris alegou de forma brilhante .\n",
            "Prediction     : chris andersond way .\n",
            "Ground truth   : chris argued brilliantly .\n",
            "----------------------------------------------------------------------------------------------------------\n",
            "Input:         : `` `` '' está preso num espasmo e é extremamente doloroso . ''\n",
            "Prediction     : ` ` ` ` ' ' this was almost completely broken and van . ' '\n",
            "Ground truth   : it 's fixed in a clenched spasm and it 's excruciatingly painful .\n",
            "----------------------------------------------------------------------------------------------------------\n",
            "Input:         : muito obrigada .\n",
            "Prediction     : thank you very much .\n",
            "Ground truth   : thank you so much .\n",
            "----------------------------------------------------------------------------------------------------------\n",
            "Input:         : penso agora que nunca fui pura .\n",
            "Prediction     : now i think i ' ve never turned out .\n",
            "Ground truth   : i think now i never was pure .\n",
            "----------------------------------------------------------------------------------------------------------\n",
            "Input:         : como é possível que as crianças façam análises estatísticas ?\n",
            "Prediction     : how can kids look at statistics ?\n",
            "Ground truth   : how could it be that children are doing statistics ?\n",
            "----------------------------------------------------------------------------------------------------------\n",
            "Input:         : então , como é que isto aconteceu ?\n",
            "Prediction     : so how did this happen ?\n",
            "Ground truth   : so , how did this happen ?\n",
            "----------------------------------------------------------------------------------------------------------\n",
            "Input:         : as probabilidades de vos sairem estas cartas são de 4165 para 1 .\n",
            "Prediction     : your chances of you are coming from these letters are from 3165 .\n",
            "Ground truth   : the odds of getting it are 4,165 to one .\n",
            "----------------------------------------------------------------------------------------------------------\n",
            "Input:         : fizeram a matemática simples , a média , etc .\n",
            "Prediction     : they did the simple math , on average , etc .\n",
            "Ground truth   : they do the simple mathematics , averaging , etc. , etc .\n",
            "----------------------------------------------------------------------------------------------------------\n",
            "Input:         : na clínica em que sou consultor , conheço provavelmente uma centena ou mais do que uma centena de médicos e enfermeiros e outras equipas hospitalares ou de cuidados de saúde todos os anos .\n",
            "Prediction     : on the clinic that i ' m probably to talk to a cruipot or more than a c anata and a clevelation and other areas of getting through time for every year .\n",
            "Ground truth   : in my practice as a consultant , i meet probably a hundred or more than a hundred doctors and nurses and other hospital or healthcare staff every year .\n",
            "----------------------------------------------------------------------------------------------------------\n",
            "Input:         : então contactei a noaa , e perguntei se podiam partilhar os dados sobre o tsunami , e traduzi-os nisto .\n",
            "Prediction     : so i noticed that last caaa , and i asked the data about share their tsunami , and i curator them .\n",
            "Ground truth   : so i contacted noaa , and i asked if they 'd share their data on the tsunami , and translated it into this .\n",
            "----------------------------------------------------------------------------------------------------------\n",
            "Input:         : o que acontece quando se impede às pessoas o acesso à troca , à capacidade de trocar e se especializar ?\n",
            "Prediction     : what happens when people exchange access to the exchange , the capacity and the ability to reproduction ?\n",
            "Ground truth   : what happens when you cut people off from exchange , from the ability to exchange and specialize ?\n",
            "----------------------------------------------------------------------------------------------------------\n",
            "Input:         : a liderança é uma escolha . não é uma classificação .\n",
            "Prediction     : the leadership is not a peer grading .\n",
            "Ground truth   : leadership is a choice . it is not a rank .\n",
            "----------------------------------------------------------------------------------------------------------\n",
            "Input:         : têm apenas que ler o que veem . ok ?\n",
            "Prediction     : they have only i have to read what . okay ?\n",
            "Ground truth   : all you have to do is read what you see . right ?\n",
            "----------------------------------------------------------------------------------------------------------\n",
            "Input:         : toda a gente no mundo respeita nelson mandela , todos veneram nelson mandela .\n",
            "Prediction     : everybody ' s respected the world nelson mandela , everyone has found bed condition .\n",
            "Ground truth   : everyone in the world respects nelson mandela , everyone reveres nelson mandela .\n",
            "----------------------------------------------------------------------------------------------------------\n",
            "Input:         : parece que o segredo era brócolos .\n",
            "Prediction     : it looks like the secret that was my motorcy .\n",
            "Ground truth   : well it turns out that the secret was broccoli .\n",
            "----------------------------------------------------------------------------------------------------------\n",
            "Input:         : e este é apenas um de centenas e centenas de estudos feitos nos últimos 20 anos que realmente demonstrou isso .\n",
            "Prediction     : and this is just a hundreds of hundred and hundreds of studies made of the last 20 years that actually has beentronomy .\n",
            "Ground truth   : and this is just one of hundreds and hundreds of studies over the last 20 years that 's actually demonstrated it .\n",
            "----------------------------------------------------------------------------------------------------------\n"
          ]
        }
      ]
    },
    {
      "cell_type": "code",
      "source": [
        ""
      ],
      "metadata": {
        "id": "N7wT4ZNLTKES"
      },
      "execution_count": 218,
      "outputs": []
    },
    {
      "cell_type": "code",
      "source": [
        ""
      ],
      "metadata": {
        "id": "SbiJQnz_TKB8"
      },
      "execution_count": 218,
      "outputs": []
    },
    {
      "cell_type": "markdown",
      "source": [
        "Finito"
      ],
      "metadata": {
        "id": "l45FTiwfVD9W"
      }
    }
  ],
  "metadata": {
    "accelerator": "GPU",
    "colab": {
      "collapsed_sections": [],
      "name": "HW08.ipynb",
      "provenance": [],
      "authorship_tag": "ABX9TyMzSpUqJgEwoYTilg0dUohc",
      "include_colab_link": true
    },
    "gpuClass": "standard",
    "kernelspec": {
      "display_name": "Python 3",
      "name": "python3"
    },
    "language_info": {
      "name": "python"
    }
  },
  "nbformat": 4,
  "nbformat_minor": 0
}