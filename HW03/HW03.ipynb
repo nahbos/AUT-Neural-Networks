{
  "cells": [
    {
      "cell_type": "markdown",
      "metadata": {
        "id": "view-in-github",
        "colab_type": "text"
      },
      "source": [
        "<a href=\"https://colab.research.google.com/github/nahbos/AUT-Neural-Networks/blob/main/HW03/HW03.ipynb\" target=\"_parent\"><img src=\"https://colab.research.google.com/assets/colab-badge.svg\" alt=\"Open In Colab\"/></a>"
      ]
    },
    {
      "cell_type": "markdown",
      "id": "f5891d3a",
      "metadata": {
        "id": "f5891d3a"
      },
      "source": [
        "### - Sobhan Moradian Daghigh\n",
        "#### - 4/24/2022\n",
        "#### - ANN - HW03"
      ]
    },
    {
      "cell_type": "code",
      "execution_count": null,
      "id": "98000056",
      "metadata": {
        "id": "98000056"
      },
      "outputs": [],
      "source": [
        ""
      ]
    },
    {
      "cell_type": "code",
      "execution_count": null,
      "id": "9be74f12",
      "metadata": {
        "id": "9be74f12"
      },
      "outputs": [],
      "source": [
        "import numpy as np\n",
        "from matplotlib import pyplot as plt\n",
        "import pandas as pd\n",
        "from sklearn.model_selection import train_test_split\n",
        "\n",
        "import tensorflow as tf\n",
        "from tensorflow import keras\n",
        "from keras.layers import Dense, Dropout, Flatten\n",
        "from keras.wrappers.scikit_learn import KerasClassifier\n",
        "from sklearn.model_selection import GridSearchCV\n",
        "import itertools\n",
        "import warnings\n",
        "warnings.filterwarnings(\"ignore\")"
      ]
    },
    {
      "cell_type": "code",
      "execution_count": null,
      "id": "4de0962e",
      "metadata": {
        "id": "4de0962e"
      },
      "outputs": [],
      "source": [
        ""
      ]
    },
    {
      "cell_type": "markdown",
      "id": "f530478b",
      "metadata": {
        "id": "f530478b"
      },
      "source": [
        "### Q3."
      ]
    },
    {
      "cell_type": "code",
      "execution_count": null,
      "id": "ed9b0b95",
      "metadata": {
        "id": "ed9b0b95",
        "colab": {
          "base_uri": "https://localhost:8080/"
        },
        "outputId": "19b16475-ff4e-4ea9-d0a9-4cfa40f0cf75"
      },
      "outputs": [
        {
          "output_type": "execute_result",
          "data": {
            "text/plain": [
              "((7352, 561), (2062, 561), (885, 561))"
            ]
          },
          "metadata": {},
          "execution_count": 3
        }
      ],
      "source": [
        "x_train = pd.read_csv('https://raw.githubusercontent.com/nahbos/AUT-Neural-Networks/main/HW03/Dataset/train/X_train.txt', header=None, delim_whitespace=True)\n",
        "y_train = pd.read_csv('https://raw.githubusercontent.com/nahbos/AUT-Neural-Networks/main/HW03/Dataset/train/y_train.txt', header=None, delim_whitespace=True) - 1\n",
        "\n",
        "x_dataset = pd.read_csv('https://raw.githubusercontent.com/nahbos/AUT-Neural-Networks/main/HW03/Dataset/test/X_test.txt', header=None, delim_whitespace=True)\n",
        "y_dataset = pd.read_csv('https://raw.githubusercontent.com/nahbos/AUT-Neural-Networks/main/HW03/Dataset/test/y_test.txt', header=None, delim_whitespace=True) - 1\n",
        "\n",
        "x_test, x_val, y_test, y_val = train_test_split(x_dataset, y_dataset, test_size=0.3, random_state=1)\n",
        "\n",
        "x_train = x_train.to_numpy(dtype='float')\n",
        "x_test  = x_test.to_numpy(dtype='float')\n",
        "x_val   = x_val.to_numpy(dtype='float')\n",
        "\n",
        "(x_train.shape, x_test.shape, x_val.shape)"
      ]
    },
    {
      "cell_type": "code",
      "source": [
        ""
      ],
      "metadata": {
        "id": "0anU-PEbg1-4"
      },
      "id": "0anU-PEbg1-4",
      "execution_count": null,
      "outputs": []
    },
    {
      "cell_type": "code",
      "source": [
        ""
      ],
      "metadata": {
        "id": "rrVnt8avg0V7"
      },
      "id": "rrVnt8avg0V7",
      "execution_count": null,
      "outputs": []
    },
    {
      "cell_type": "markdown",
      "id": "d409484e",
      "metadata": {
        "id": "d409484e"
      },
      "source": [
        "### Q4."
      ]
    },
    {
      "cell_type": "code",
      "source": [
        "class EarlyStoppingCallback(keras.callbacks.Callback):\n",
        "  def __init__(self, patience=0):\n",
        "    super(EarlyStoppingCallback, self).__init__()\n",
        "    self.patience = patience\n",
        "\n",
        "  def on_train_begin(self, logs=None):\n",
        "    self.best = np.inf\n",
        "    self.wait = 0\n",
        "  \n",
        "  def on_epoch_end(self, epoch, logs=None):\n",
        "    current_loss = logs.get('loss')\n",
        "    if np.less(current_loss, self.best):\n",
        "      self.best = current_loss\n",
        "      self.wait = 0\n",
        "      self.best_weights = self.model.get_weights()\n",
        "    else:\n",
        "      self.wait += 1\n",
        "      if np.greater_equal(self.wait, self.patience):\n",
        "        self.model.stop_training = True\n",
        "        self.model.set_weights(self.best_weights)"
      ],
      "metadata": {
        "id": "k0CJSZNuiDgh"
      },
      "id": "k0CJSZNuiDgh",
      "execution_count": null,
      "outputs": []
    },
    {
      "cell_type": "code",
      "source": [
        "es_callback = EarlyStoppingCallback(patience=5)"
      ],
      "metadata": {
        "id": "FLIgc2NaiG4Y"
      },
      "id": "FLIgc2NaiG4Y",
      "execution_count": null,
      "outputs": []
    },
    {
      "cell_type": "code",
      "source": [
        ""
      ],
      "metadata": {
        "id": "XGqQSKSDiUSR"
      },
      "id": "XGqQSKSDiUSR",
      "execution_count": null,
      "outputs": []
    },
    {
      "cell_type": "code",
      "source": [
        "n_class = y_train.nunique()[0]"
      ],
      "metadata": {
        "id": "nukuhuSteoD4"
      },
      "id": "nukuhuSteoD4",
      "execution_count": null,
      "outputs": []
    },
    {
      "cell_type": "code",
      "execution_count": null,
      "id": "66d3bc90",
      "metadata": {
        "id": "66d3bc90"
      },
      "outputs": [],
      "source": [
        "def create_model(layers):\n",
        "  model = keras.Sequential()\n",
        "\n",
        "  for i, nodes in enumerate(layers):\n",
        "    model.add(Dense(units=nodes, activation='relu'))\n",
        "    model.add(Dropout(0.1))\n",
        "\n",
        "  model.add(Dense(units=n_class, activation='softmax'))\n",
        "  model.compile(optimizer='adam', loss='sparse_categorical_crossentropy', metrics=['accuracy'])\n",
        "\n",
        "  return model"
      ]
    },
    {
      "cell_type": "code",
      "execution_count": null,
      "id": "84f985f7",
      "metadata": {
        "id": "84f985f7"
      },
      "outputs": [],
      "source": [
        "def create_layers(nodes, max_layers):\n",
        "  layers = []\n",
        "  for i in range(1, 1 << len(nodes)):\n",
        "    subset = [nodes[j] for j in range(len(nodes)) if (i & (1 << j))]\n",
        "    if len(subset) < max_layers:\n",
        "      layers.append(subset)\n",
        "  layers = [np.flip(np.sort(ele)).tolist() for ele in layers]\n",
        "  layers.sort()\n",
        "  layers = list(item for item, _ in itertools.groupby(layers))\n",
        "  \n",
        "  return layers "
      ]
    },
    {
      "cell_type": "code",
      "execution_count": null,
      "id": "f268c6c9",
      "metadata": {
        "id": "f268c6c9"
      },
      "outputs": [],
      "source": [
        "model = KerasClassifier(build_fn=create_model)"
      ]
    },
    {
      "cell_type": "code",
      "execution_count": null,
      "id": "24cf6bc9",
      "metadata": {
        "id": "24cf6bc9"
      },
      "outputs": [],
      "source": [
        "max_layers = 4\n",
        "nodes = [32, 64, 128, 256, 512, 1024]\n",
        "\n",
        "layers = create_layers(nodes, max_layers)\n",
        "parameters = dict(layers=layers)\n",
        "grid = GridSearchCV(estimator=model, param_grid=parameters)"
      ]
    },
    {
      "cell_type": "code",
      "execution_count": null,
      "id": "75240d12",
      "metadata": {
        "id": "75240d12"
      },
      "outputs": [],
      "source": [
        "grid.fit(x_train, y_train, epochs=20, validation_data=(x_val, y_val), callbacks=[es_callback])"
      ]
    },
    {
      "cell_type": "code",
      "execution_count": null,
      "id": "68cdf0d5",
      "metadata": {
        "id": "68cdf0d5"
      },
      "outputs": [],
      "source": [
        "grid.best_params_"
      ]
    },
    {
      "cell_type": "code",
      "execution_count": null,
      "id": "4e83854a",
      "metadata": {
        "id": "4e83854a"
      },
      "outputs": [],
      "source": [
        "grid.best_score_"
      ]
    },
    {
      "cell_type": "code",
      "execution_count": null,
      "id": "beaad477",
      "metadata": {
        "id": "beaad477"
      },
      "outputs": [],
      "source": [
        "grid.best_estimator_.score(x_test, y_test, verbose=1)"
      ]
    },
    {
      "cell_type": "code",
      "source": [
        "# ---------------------------------------------------------------------------------------------"
      ],
      "metadata": {
        "id": "7dJWSb6OsoqI"
      },
      "id": "7dJWSb6OsoqI",
      "execution_count": null,
      "outputs": []
    },
    {
      "cell_type": "code",
      "source": [
        ""
      ],
      "metadata": {
        "id": "RxLhzWaPsomo"
      },
      "id": "RxLhzWaPsomo",
      "execution_count": null,
      "outputs": []
    },
    {
      "cell_type": "code",
      "execution_count": null,
      "id": "f2d08c2e",
      "metadata": {
        "id": "f2d08c2e"
      },
      "outputs": [],
      "source": [
        ""
      ]
    },
    {
      "cell_type": "code",
      "execution_count": null,
      "id": "252e7b27",
      "metadata": {
        "id": "252e7b27",
        "colab": {
          "base_uri": "https://localhost:8080/"
        },
        "outputId": "eb59191b-a989-4033-d5e6-2ce36185b4be"
      },
      "outputs": [
        {
          "output_type": "stream",
          "name": "stdout",
          "text": [
            "Epoch 1/20\n",
            "230/230 [==============================] - 1s 3ms/step - loss: 0.7914 - accuracy: 0.7121 - val_loss: 0.4893 - val_accuracy: 0.8350\n",
            "Epoch 2/20\n",
            "230/230 [==============================] - 1s 2ms/step - loss: 0.3139 - accuracy: 0.8998 - val_loss: 0.2742 - val_accuracy: 0.9040\n",
            "Epoch 3/20\n",
            "230/230 [==============================] - 1s 3ms/step - loss: 0.2068 - accuracy: 0.9313 - val_loss: 0.2348 - val_accuracy: 0.9175\n",
            "Epoch 4/20\n",
            "230/230 [==============================] - 1s 2ms/step - loss: 0.1574 - accuracy: 0.9498 - val_loss: 0.2258 - val_accuracy: 0.9153\n",
            "Epoch 5/20\n",
            "230/230 [==============================] - 1s 2ms/step - loss: 0.1327 - accuracy: 0.9553 - val_loss: 0.1742 - val_accuracy: 0.9288\n",
            "Epoch 6/20\n",
            "230/230 [==============================] - 1s 3ms/step - loss: 0.1202 - accuracy: 0.9584 - val_loss: 0.1704 - val_accuracy: 0.9367\n",
            "Epoch 7/20\n",
            "230/230 [==============================] - 1s 3ms/step - loss: 0.1003 - accuracy: 0.9650 - val_loss: 0.1505 - val_accuracy: 0.9458\n",
            "Epoch 8/20\n",
            "230/230 [==============================] - 1s 2ms/step - loss: 0.0868 - accuracy: 0.9718 - val_loss: 0.1651 - val_accuracy: 0.9446\n",
            "Epoch 9/20\n",
            "230/230 [==============================] - 1s 2ms/step - loss: 0.0797 - accuracy: 0.9743 - val_loss: 0.1598 - val_accuracy: 0.9367\n",
            "Epoch 10/20\n",
            "230/230 [==============================] - 1s 3ms/step - loss: 0.0775 - accuracy: 0.9735 - val_loss: 0.1429 - val_accuracy: 0.9503\n",
            "Epoch 11/20\n",
            "230/230 [==============================] - 1s 3ms/step - loss: 0.0780 - accuracy: 0.9733 - val_loss: 0.1621 - val_accuracy: 0.9412\n",
            "Epoch 12/20\n",
            "230/230 [==============================] - 1s 2ms/step - loss: 0.0642 - accuracy: 0.9791 - val_loss: 0.1650 - val_accuracy: 0.9412\n",
            "Epoch 13/20\n",
            "230/230 [==============================] - 1s 2ms/step - loss: 0.0621 - accuracy: 0.9811 - val_loss: 0.1354 - val_accuracy: 0.9525\n",
            "Epoch 14/20\n",
            "230/230 [==============================] - 1s 2ms/step - loss: 0.0639 - accuracy: 0.9792 - val_loss: 0.1328 - val_accuracy: 0.9525\n",
            "Epoch 15/20\n",
            "230/230 [==============================] - 1s 3ms/step - loss: 0.0547 - accuracy: 0.9807 - val_loss: 0.1475 - val_accuracy: 0.9469\n",
            "Epoch 16/20\n",
            "230/230 [==============================] - 1s 2ms/step - loss: 0.0532 - accuracy: 0.9822 - val_loss: 0.1472 - val_accuracy: 0.9446\n",
            "Epoch 17/20\n",
            "230/230 [==============================] - 1s 2ms/step - loss: 0.0524 - accuracy: 0.9814 - val_loss: 0.1363 - val_accuracy: 0.9548\n",
            "Epoch 18/20\n",
            "230/230 [==============================] - 1s 2ms/step - loss: 0.0489 - accuracy: 0.9815 - val_loss: 0.1504 - val_accuracy: 0.9503\n",
            "Epoch 19/20\n",
            "230/230 [==============================] - 1s 2ms/step - loss: 0.0472 - accuracy: 0.9846 - val_loss: 0.2093 - val_accuracy: 0.9277\n",
            "Epoch 20/20\n",
            "230/230 [==============================] - 1s 2ms/step - loss: 0.0531 - accuracy: 0.9799 - val_loss: 0.1362 - val_accuracy: 0.9582\n"
          ]
        },
        {
          "output_type": "execute_result",
          "data": {
            "text/plain": [
              "<keras.callbacks.History at 0x7f3eee5fc410>"
            ]
          },
          "metadata": {},
          "execution_count": 22
        }
      ],
      "source": [
        "# model1\n",
        "\n",
        "model1 = keras.Sequential()\n",
        "model1.add(Dense(units=12, activation='relu'))\n",
        "model1.add(Dense(units=6, activation='softmax'))\n",
        "\n",
        "model1.compile(optimizer='adam', \n",
        "              loss='sparse_categorical_crossentropy', \n",
        "              metrics=['accuracy'])\n",
        "\n",
        "model1.fit(x_train, y_train, epochs=20, validation_data=(x_val, y_val), callbacks=[es_callback])"
      ]
    },
    {
      "cell_type": "code",
      "source": [
        "# model2\n",
        "\n",
        "model2 = keras.Sequential()\n",
        "model2.add(Dense(units=24, activation='relu'))\n",
        "model2.add(Dense(units=12, activation='relu'))\n",
        "model2.add(Dense(units=6, activation='softmax'))\n",
        "\n",
        "model2.compile(optimizer='adam', \n",
        "              loss='sparse_categorical_crossentropy', \n",
        "              metrics=['accuracy'])\n",
        "\n",
        "model2.fit(x_train, y_train, epochs=20, validation_data=(x_val, y_val), callbacks=[es_callback])"
      ],
      "metadata": {
        "colab": {
          "base_uri": "https://localhost:8080/"
        },
        "id": "XxfAz6V8tms5",
        "outputId": "ef08b5d5-c8c7-49de-dbd6-0ca271ac3a80"
      },
      "id": "XxfAz6V8tms5",
      "execution_count": null,
      "outputs": [
        {
          "output_type": "stream",
          "name": "stdout",
          "text": [
            "Epoch 1/20\n",
            "230/230 [==============================] - 1s 3ms/step - loss: 0.6077 - accuracy: 0.7941 - val_loss: 0.3117 - val_accuracy: 0.8972\n",
            "Epoch 2/20\n",
            "230/230 [==============================] - 1s 3ms/step - loss: 0.2121 - accuracy: 0.9294 - val_loss: 0.2187 - val_accuracy: 0.9311\n",
            "Epoch 3/20\n",
            "230/230 [==============================] - 1s 3ms/step - loss: 0.1537 - accuracy: 0.9464 - val_loss: 0.1815 - val_accuracy: 0.9333\n",
            "Epoch 4/20\n",
            "230/230 [==============================] - 1s 3ms/step - loss: 0.1166 - accuracy: 0.9596 - val_loss: 0.1706 - val_accuracy: 0.9412\n",
            "Epoch 5/20\n",
            "230/230 [==============================] - 1s 3ms/step - loss: 0.1001 - accuracy: 0.9663 - val_loss: 0.1952 - val_accuracy: 0.9299\n",
            "Epoch 6/20\n",
            "230/230 [==============================] - 1s 3ms/step - loss: 0.0838 - accuracy: 0.9710 - val_loss: 0.1743 - val_accuracy: 0.9345\n",
            "Epoch 7/20\n",
            "230/230 [==============================] - 1s 3ms/step - loss: 0.0778 - accuracy: 0.9737 - val_loss: 0.2255 - val_accuracy: 0.9198\n",
            "Epoch 8/20\n",
            "230/230 [==============================] - 1s 3ms/step - loss: 0.0733 - accuracy: 0.9723 - val_loss: 0.1678 - val_accuracy: 0.9367\n",
            "Epoch 9/20\n",
            "230/230 [==============================] - 1s 3ms/step - loss: 0.0659 - accuracy: 0.9746 - val_loss: 0.1715 - val_accuracy: 0.9424\n",
            "Epoch 10/20\n",
            "230/230 [==============================] - 1s 3ms/step - loss: 0.0752 - accuracy: 0.9695 - val_loss: 0.1796 - val_accuracy: 0.9367\n",
            "Epoch 11/20\n",
            "230/230 [==============================] - 1s 3ms/step - loss: 0.0580 - accuracy: 0.9789 - val_loss: 0.1498 - val_accuracy: 0.9446\n",
            "Epoch 12/20\n",
            "230/230 [==============================] - 1s 3ms/step - loss: 0.0528 - accuracy: 0.9815 - val_loss: 0.1510 - val_accuracy: 0.9435\n",
            "Epoch 13/20\n",
            "230/230 [==============================] - 1s 3ms/step - loss: 0.0583 - accuracy: 0.9777 - val_loss: 0.1577 - val_accuracy: 0.9492\n",
            "Epoch 14/20\n",
            "230/230 [==============================] - 1s 2ms/step - loss: 0.0524 - accuracy: 0.9800 - val_loss: 0.1571 - val_accuracy: 0.9480\n",
            "Epoch 15/20\n",
            "230/230 [==============================] - 1s 2ms/step - loss: 0.0554 - accuracy: 0.9807 - val_loss: 0.1483 - val_accuracy: 0.9480\n",
            "Epoch 16/20\n",
            "230/230 [==============================] - 1s 2ms/step - loss: 0.0517 - accuracy: 0.9825 - val_loss: 0.1582 - val_accuracy: 0.9514\n",
            "Epoch 17/20\n",
            "230/230 [==============================] - 1s 3ms/step - loss: 0.0543 - accuracy: 0.9793 - val_loss: 0.1646 - val_accuracy: 0.9435\n",
            "Epoch 18/20\n",
            "230/230 [==============================] - 1s 3ms/step - loss: 0.0448 - accuracy: 0.9841 - val_loss: 0.1508 - val_accuracy: 0.9469\n",
            "Epoch 19/20\n",
            "230/230 [==============================] - 1s 2ms/step - loss: 0.0488 - accuracy: 0.9822 - val_loss: 0.1642 - val_accuracy: 0.9435\n",
            "Epoch 20/20\n",
            "230/230 [==============================] - 1s 3ms/step - loss: 0.0476 - accuracy: 0.9825 - val_loss: 0.1767 - val_accuracy: 0.9424\n"
          ]
        },
        {
          "output_type": "execute_result",
          "data": {
            "text/plain": [
              "<keras.callbacks.History at 0x7f3e7008f590>"
            ]
          },
          "metadata": {},
          "execution_count": 23
        }
      ]
    },
    {
      "cell_type": "code",
      "source": [
        "# model3\n",
        "\n",
        "model3 = keras.Sequential()\n",
        "model3.add(Dense(units=48, activation='relu'))\n",
        "model3.add(Dense(units=24, activation='relu'))\n",
        "model3.add(Dense(units=12, activation='relu'))\n",
        "model3.add(Dense(units=6, activation='softmax'))\n",
        "\n",
        "model3.compile(optimizer='adam', \n",
        "              loss='sparse_categorical_crossentropy', \n",
        "              metrics=['accuracy'])\n",
        "\n",
        "model3.fit(x_train, y_train, epochs=20, validation_data=(x_val, y_val), callbacks=[es_callback])"
      ],
      "metadata": {
        "colab": {
          "base_uri": "https://localhost:8080/"
        },
        "id": "Qdlac1YotmqT",
        "outputId": "02c9cfb7-7de7-4409-8712-3f3607577463"
      },
      "id": "Qdlac1YotmqT",
      "execution_count": null,
      "outputs": [
        {
          "output_type": "stream",
          "name": "stdout",
          "text": [
            "Epoch 1/20\n",
            "230/230 [==============================] - 1s 3ms/step - loss: 0.8668 - accuracy: 0.6079 - val_loss: 0.4310 - val_accuracy: 0.8791\n",
            "Epoch 2/20\n",
            "230/230 [==============================] - 1s 3ms/step - loss: 0.2573 - accuracy: 0.9049 - val_loss: 0.3021 - val_accuracy: 0.8949\n",
            "Epoch 3/20\n",
            "230/230 [==============================] - 1s 3ms/step - loss: 0.1514 - accuracy: 0.9406 - val_loss: 0.1761 - val_accuracy: 0.9424\n",
            "Epoch 4/20\n",
            "230/230 [==============================] - 1s 3ms/step - loss: 0.1045 - accuracy: 0.9596 - val_loss: 0.1861 - val_accuracy: 0.9322\n",
            "Epoch 5/20\n",
            "230/230 [==============================] - 1s 3ms/step - loss: 0.0892 - accuracy: 0.9672 - val_loss: 0.1938 - val_accuracy: 0.9367\n",
            "Epoch 6/20\n",
            "230/230 [==============================] - 1s 3ms/step - loss: 0.0807 - accuracy: 0.9671 - val_loss: 0.2066 - val_accuracy: 0.9379\n",
            "Epoch 7/20\n",
            "230/230 [==============================] - 1s 3ms/step - loss: 0.0697 - accuracy: 0.9733 - val_loss: 0.1638 - val_accuracy: 0.9458\n",
            "Epoch 8/20\n",
            "230/230 [==============================] - 1s 3ms/step - loss: 0.0637 - accuracy: 0.9746 - val_loss: 0.1381 - val_accuracy: 0.9458\n",
            "Epoch 9/20\n",
            "230/230 [==============================] - 1s 3ms/step - loss: 0.0737 - accuracy: 0.9706 - val_loss: 0.1580 - val_accuracy: 0.9480\n",
            "Epoch 10/20\n",
            "230/230 [==============================] - 1s 3ms/step - loss: 0.0559 - accuracy: 0.9796 - val_loss: 0.1566 - val_accuracy: 0.9537\n",
            "Epoch 11/20\n",
            "230/230 [==============================] - 1s 3ms/step - loss: 0.0538 - accuracy: 0.9797 - val_loss: 0.1876 - val_accuracy: 0.9458\n",
            "Epoch 12/20\n",
            "230/230 [==============================] - 1s 3ms/step - loss: 0.0569 - accuracy: 0.9782 - val_loss: 0.1484 - val_accuracy: 0.9458\n",
            "Epoch 13/20\n",
            "230/230 [==============================] - 1s 3ms/step - loss: 0.0592 - accuracy: 0.9774 - val_loss: 0.1632 - val_accuracy: 0.9480\n",
            "Epoch 14/20\n",
            "230/230 [==============================] - 1s 3ms/step - loss: 0.0495 - accuracy: 0.9816 - val_loss: 0.1983 - val_accuracy: 0.9412\n",
            "Epoch 15/20\n",
            "230/230 [==============================] - 1s 3ms/step - loss: 0.0660 - accuracy: 0.9747 - val_loss: 0.1719 - val_accuracy: 0.9514\n",
            "Epoch 16/20\n",
            "230/230 [==============================] - 1s 3ms/step - loss: 0.0589 - accuracy: 0.9770 - val_loss: 0.1711 - val_accuracy: 0.9424\n",
            "Epoch 17/20\n",
            "230/230 [==============================] - 1s 3ms/step - loss: 0.0563 - accuracy: 0.9759 - val_loss: 0.1721 - val_accuracy: 0.9492\n",
            "Epoch 18/20\n",
            "230/230 [==============================] - 1s 3ms/step - loss: 0.0478 - accuracy: 0.9815 - val_loss: 0.1474 - val_accuracy: 0.9503\n",
            "Epoch 19/20\n",
            "230/230 [==============================] - 1s 3ms/step - loss: 0.0579 - accuracy: 0.9763 - val_loss: 0.1591 - val_accuracy: 0.9537\n",
            "Epoch 20/20\n",
            "230/230 [==============================] - 1s 3ms/step - loss: 0.0447 - accuracy: 0.9814 - val_loss: 0.1780 - val_accuracy: 0.9492\n"
          ]
        },
        {
          "output_type": "execute_result",
          "data": {
            "text/plain": [
              "<keras.callbacks.History at 0x7f3e582bc350>"
            ]
          },
          "metadata": {},
          "execution_count": 24
        }
      ]
    },
    {
      "cell_type": "code",
      "source": [
        "# model4\n",
        "\n",
        "model4 = keras.Sequential()\n",
        "model4.add(Dense(units=48, activation='relu'))\n",
        "model4.add(Dense(units=6, activation='softmax'))\n",
        "\n",
        "model4.compile(optimizer='adam', \n",
        "              loss='sparse_categorical_crossentropy', \n",
        "              metrics=['accuracy'])\n",
        "\n",
        "model4.fit(x_train, y_train, epochs=20, validation_data=(x_val, y_val), callbacks=[es_callback])"
      ],
      "metadata": {
        "colab": {
          "base_uri": "https://localhost:8080/"
        },
        "id": "fHA_GOidtmno",
        "outputId": "9259b33d-c822-4180-d791-3ff21cc14748"
      },
      "id": "fHA_GOidtmno",
      "execution_count": null,
      "outputs": [
        {
          "output_type": "stream",
          "name": "stdout",
          "text": [
            "Epoch 1/20\n",
            "230/230 [==============================] - 1s 3ms/step - loss: 0.4815 - accuracy: 0.8309 - val_loss: 0.2673 - val_accuracy: 0.9243\n",
            "Epoch 2/20\n",
            "230/230 [==============================] - 1s 2ms/step - loss: 0.1903 - accuracy: 0.9344 - val_loss: 0.2090 - val_accuracy: 0.9107\n",
            "Epoch 3/20\n",
            "230/230 [==============================] - 1s 2ms/step - loss: 0.1380 - accuracy: 0.9495 - val_loss: 0.1749 - val_accuracy: 0.9299\n",
            "Epoch 4/20\n",
            "230/230 [==============================] - 1s 2ms/step - loss: 0.1042 - accuracy: 0.9659 - val_loss: 0.1398 - val_accuracy: 0.9412\n",
            "Epoch 5/20\n",
            "230/230 [==============================] - 1s 3ms/step - loss: 0.0846 - accuracy: 0.9717 - val_loss: 0.1700 - val_accuracy: 0.9367\n",
            "Epoch 6/20\n",
            "230/230 [==============================] - 1s 2ms/step - loss: 0.0796 - accuracy: 0.9728 - val_loss: 0.1478 - val_accuracy: 0.9390\n",
            "Epoch 7/20\n",
            "230/230 [==============================] - 1s 2ms/step - loss: 0.0784 - accuracy: 0.9699 - val_loss: 0.1494 - val_accuracy: 0.9469\n",
            "Epoch 8/20\n",
            "230/230 [==============================] - 1s 2ms/step - loss: 0.0677 - accuracy: 0.9770 - val_loss: 0.1471 - val_accuracy: 0.9446\n",
            "Epoch 9/20\n",
            "230/230 [==============================] - 1s 2ms/step - loss: 0.0677 - accuracy: 0.9748 - val_loss: 0.1445 - val_accuracy: 0.9469\n",
            "Epoch 10/20\n",
            "230/230 [==============================] - 1s 2ms/step - loss: 0.0604 - accuracy: 0.9788 - val_loss: 0.1426 - val_accuracy: 0.9424\n",
            "Epoch 11/20\n",
            "230/230 [==============================] - 1s 2ms/step - loss: 0.0619 - accuracy: 0.9761 - val_loss: 0.1412 - val_accuracy: 0.9458\n",
            "Epoch 12/20\n",
            "230/230 [==============================] - 1s 3ms/step - loss: 0.0540 - accuracy: 0.9785 - val_loss: 0.1885 - val_accuracy: 0.9277\n",
            "Epoch 13/20\n",
            "230/230 [==============================] - 1s 2ms/step - loss: 0.0547 - accuracy: 0.9791 - val_loss: 0.2061 - val_accuracy: 0.9266\n",
            "Epoch 14/20\n",
            "230/230 [==============================] - 1s 2ms/step - loss: 0.0469 - accuracy: 0.9818 - val_loss: 0.1321 - val_accuracy: 0.9537\n",
            "Epoch 15/20\n",
            "230/230 [==============================] - 1s 2ms/step - loss: 0.0508 - accuracy: 0.9803 - val_loss: 0.2301 - val_accuracy: 0.9243\n",
            "Epoch 16/20\n",
            "230/230 [==============================] - 1s 2ms/step - loss: 0.0600 - accuracy: 0.9776 - val_loss: 0.1638 - val_accuracy: 0.9390\n",
            "Epoch 17/20\n",
            "230/230 [==============================] - 1s 2ms/step - loss: 0.0485 - accuracy: 0.9815 - val_loss: 0.1495 - val_accuracy: 0.9480\n",
            "Epoch 18/20\n",
            "230/230 [==============================] - 1s 2ms/step - loss: 0.0463 - accuracy: 0.9816 - val_loss: 0.1532 - val_accuracy: 0.9492\n",
            "Epoch 19/20\n",
            "230/230 [==============================] - 1s 2ms/step - loss: 0.0467 - accuracy: 0.9825 - val_loss: 0.1589 - val_accuracy: 0.9548\n",
            "Epoch 20/20\n",
            "230/230 [==============================] - 1s 2ms/step - loss: 0.0428 - accuracy: 0.9837 - val_loss: 0.1518 - val_accuracy: 0.9480\n"
          ]
        },
        {
          "output_type": "execute_result",
          "data": {
            "text/plain": [
              "<keras.callbacks.History at 0x7f3e58135590>"
            ]
          },
          "metadata": {},
          "execution_count": 25
        }
      ]
    },
    {
      "cell_type": "code",
      "source": [
        "# model5\n",
        "\n",
        "model5 = keras.Sequential()\n",
        "model5.add(Dense(units=512, activation='relu'))\n",
        "model5.add(Dense(units=12, activation='relu'))\n",
        "model5.add(Dense(units=6, activation='softmax'))\n",
        "\n",
        "model5.compile(optimizer='adam', \n",
        "              loss='sparse_categorical_crossentropy', \n",
        "              metrics=['accuracy'])\n",
        "\n",
        "model5.fit(x_train, y_train, epochs=20, validation_data=(x_val, y_val), callbacks=[es_callback])"
      ],
      "metadata": {
        "colab": {
          "base_uri": "https://localhost:8080/"
        },
        "id": "naiu9Ax-tmko",
        "outputId": "b3e03db3-f550-4aed-9b03-6f5f5be31dc6"
      },
      "id": "naiu9Ax-tmko",
      "execution_count": null,
      "outputs": [
        {
          "output_type": "stream",
          "name": "stdout",
          "text": [
            "Epoch 1/20\n",
            "230/230 [==============================] - 1s 3ms/step - loss: 1.0213 - accuracy: 0.6015 - val_loss: 0.3449 - val_accuracy: 0.9107\n",
            "Epoch 2/20\n",
            "230/230 [==============================] - 1s 3ms/step - loss: 0.1863 - accuracy: 0.9331 - val_loss: 0.2358 - val_accuracy: 0.9006\n",
            "Epoch 3/20\n",
            "230/230 [==============================] - 1s 3ms/step - loss: 0.1314 - accuracy: 0.9483 - val_loss: 0.1572 - val_accuracy: 0.9469\n",
            "Epoch 4/20\n",
            "230/230 [==============================] - 1s 3ms/step - loss: 0.1008 - accuracy: 0.9622 - val_loss: 0.2076 - val_accuracy: 0.9209\n",
            "Epoch 5/20\n",
            "230/230 [==============================] - 1s 3ms/step - loss: 0.0886 - accuracy: 0.9680 - val_loss: 0.1589 - val_accuracy: 0.9480\n",
            "Epoch 6/20\n",
            "230/230 [==============================] - 1s 3ms/step - loss: 0.0817 - accuracy: 0.9693 - val_loss: 0.1390 - val_accuracy: 0.9446\n",
            "Epoch 7/20\n",
            "230/230 [==============================] - 1s 3ms/step - loss: 0.0812 - accuracy: 0.9693 - val_loss: 0.1917 - val_accuracy: 0.9333\n",
            "Epoch 8/20\n",
            "230/230 [==============================] - 1s 3ms/step - loss: 0.0693 - accuracy: 0.9755 - val_loss: 0.2619 - val_accuracy: 0.9130\n",
            "Epoch 9/20\n",
            "230/230 [==============================] - 1s 3ms/step - loss: 0.0649 - accuracy: 0.9748 - val_loss: 0.1453 - val_accuracy: 0.9492\n",
            "Epoch 10/20\n",
            "230/230 [==============================] - 1s 3ms/step - loss: 0.0838 - accuracy: 0.9709 - val_loss: 0.1474 - val_accuracy: 0.9458\n",
            "Epoch 11/20\n",
            "230/230 [==============================] - 1s 3ms/step - loss: 0.0546 - accuracy: 0.9784 - val_loss: 0.1415 - val_accuracy: 0.9492\n",
            "Epoch 12/20\n",
            "230/230 [==============================] - 1s 4ms/step - loss: 0.0520 - accuracy: 0.9785 - val_loss: 0.1530 - val_accuracy: 0.9480\n",
            "Epoch 13/20\n",
            "230/230 [==============================] - 1s 3ms/step - loss: 0.0507 - accuracy: 0.9814 - val_loss: 0.1555 - val_accuracy: 0.9492\n",
            "Epoch 14/20\n",
            "230/230 [==============================] - 1s 3ms/step - loss: 0.0522 - accuracy: 0.9797 - val_loss: 0.1686 - val_accuracy: 0.9503\n",
            "Epoch 15/20\n",
            "230/230 [==============================] - 1s 3ms/step - loss: 0.0634 - accuracy: 0.9759 - val_loss: 0.2703 - val_accuracy: 0.9153\n",
            "Epoch 16/20\n",
            "230/230 [==============================] - 1s 3ms/step - loss: 0.0630 - accuracy: 0.9759 - val_loss: 0.1635 - val_accuracy: 0.9435\n",
            "Epoch 17/20\n",
            "230/230 [==============================] - 1s 3ms/step - loss: 0.0550 - accuracy: 0.9797 - val_loss: 0.1403 - val_accuracy: 0.9503\n",
            "Epoch 18/20\n",
            "230/230 [==============================] - 1s 3ms/step - loss: 0.0410 - accuracy: 0.9849 - val_loss: 0.1712 - val_accuracy: 0.9458\n",
            "Epoch 19/20\n",
            "230/230 [==============================] - 1s 3ms/step - loss: 0.0519 - accuracy: 0.9800 - val_loss: 0.1470 - val_accuracy: 0.9537\n",
            "Epoch 20/20\n",
            "230/230 [==============================] - 1s 3ms/step - loss: 0.0440 - accuracy: 0.9820 - val_loss: 0.1939 - val_accuracy: 0.9514\n"
          ]
        },
        {
          "output_type": "execute_result",
          "data": {
            "text/plain": [
              "<keras.callbacks.History at 0x7f3e700d2050>"
            ]
          },
          "metadata": {},
          "execution_count": 26
        }
      ]
    },
    {
      "cell_type": "code",
      "source": [
        "# model6\n",
        "\n",
        "model6 = keras.Sequential()\n",
        "model6.add(Dense(units=12, activation='relu'))\n",
        "model6.add(Dense(units=6, activation='softmax'))\n",
        "\n",
        "model6.compile(optimizer=keras.optimizers.Adam(learning_rate=0.1), \n",
        "              loss='sparse_categorical_crossentropy', \n",
        "              metrics=['accuracy'])\n",
        "\n",
        "model6.fit(x_train, y_train, epochs=20, validation_data=(x_val, y_val), callbacks=[es_callback])"
      ],
      "metadata": {
        "colab": {
          "base_uri": "https://localhost:8080/"
        },
        "id": "M-M14oKatmhp",
        "outputId": "1de46897-c048-454f-f5b4-234f6e70cc9c"
      },
      "id": "M-M14oKatmhp",
      "execution_count": null,
      "outputs": [
        {
          "output_type": "stream",
          "name": "stdout",
          "text": [
            "Epoch 1/20\n",
            "230/230 [==============================] - 1s 3ms/step - loss: 2.1360 - accuracy: 0.1984 - val_loss: 1.7866 - val_accuracy: 0.1650\n",
            "Epoch 2/20\n",
            "230/230 [==============================] - 1s 3ms/step - loss: 1.5919 - accuracy: 0.2844 - val_loss: 1.4546 - val_accuracy: 0.2904\n",
            "Epoch 3/20\n",
            "230/230 [==============================] - 1s 3ms/step - loss: 1.2265 - accuracy: 0.4117 - val_loss: 1.1774 - val_accuracy: 0.4486\n",
            "Epoch 4/20\n",
            "230/230 [==============================] - 1s 3ms/step - loss: 1.0204 - accuracy: 0.4682 - val_loss: 0.9343 - val_accuracy: 0.4847\n",
            "Epoch 5/20\n",
            "230/230 [==============================] - 1s 3ms/step - loss: 0.9281 - accuracy: 0.4967 - val_loss: 0.8606 - val_accuracy: 0.5435\n",
            "Epoch 6/20\n",
            "230/230 [==============================] - 1s 3ms/step - loss: 0.9802 - accuracy: 0.4966 - val_loss: 1.5127 - val_accuracy: 0.3751\n",
            "Epoch 7/20\n",
            "230/230 [==============================] - 1s 3ms/step - loss: 0.9518 - accuracy: 0.5014 - val_loss: 0.9258 - val_accuracy: 0.4915\n",
            "Epoch 8/20\n",
            "230/230 [==============================] - 1s 3ms/step - loss: 0.9241 - accuracy: 0.5371 - val_loss: 0.9187 - val_accuracy: 0.5322\n",
            "Epoch 9/20\n",
            "230/230 [==============================] - 1s 3ms/step - loss: 1.0478 - accuracy: 0.5020 - val_loss: 0.9307 - val_accuracy: 0.5198\n",
            "Epoch 10/20\n",
            "230/230 [==============================] - 1s 3ms/step - loss: 0.8762 - accuracy: 0.5386 - val_loss: 1.0648 - val_accuracy: 0.4599\n",
            "Epoch 11/20\n",
            "230/230 [==============================] - 1s 3ms/step - loss: 0.9521 - accuracy: 0.5256 - val_loss: 0.8165 - val_accuracy: 0.5650\n",
            "Epoch 12/20\n",
            "230/230 [==============================] - 1s 3ms/step - loss: 0.8413 - accuracy: 0.5462 - val_loss: 1.0708 - val_accuracy: 0.4972\n",
            "Epoch 13/20\n",
            "230/230 [==============================] - 1s 3ms/step - loss: 0.9866 - accuracy: 0.5166 - val_loss: 0.9817 - val_accuracy: 0.5243\n",
            "Epoch 14/20\n",
            "230/230 [==============================] - 1s 3ms/step - loss: 0.8660 - accuracy: 0.5420 - val_loss: 0.9835 - val_accuracy: 0.5277\n",
            "Epoch 15/20\n",
            "230/230 [==============================] - 1s 3ms/step - loss: 0.8632 - accuracy: 0.5520 - val_loss: 0.9728 - val_accuracy: 0.5412\n",
            "Epoch 16/20\n",
            "230/230 [==============================] - 1s 3ms/step - loss: 0.8141 - accuracy: 0.5694 - val_loss: 0.8822 - val_accuracy: 0.5051\n",
            "Epoch 17/20\n",
            "230/230 [==============================] - 1s 3ms/step - loss: 1.0114 - accuracy: 0.5272 - val_loss: 1.0822 - val_accuracy: 0.5243\n",
            "Epoch 18/20\n",
            "230/230 [==============================] - 1s 3ms/step - loss: 1.1391 - accuracy: 0.5351 - val_loss: 1.1636 - val_accuracy: 0.4927\n",
            "Epoch 19/20\n",
            "230/230 [==============================] - 1s 3ms/step - loss: 0.8671 - accuracy: 0.5564 - val_loss: 0.8527 - val_accuracy: 0.5672\n",
            "Epoch 20/20\n",
            "230/230 [==============================] - 1s 2ms/step - loss: 0.8078 - accuracy: 0.5732 - val_loss: 0.8388 - val_accuracy: 0.5469\n"
          ]
        },
        {
          "output_type": "execute_result",
          "data": {
            "text/plain": [
              "<keras.callbacks.History at 0x7f3e4c6a0a90>"
            ]
          },
          "metadata": {},
          "execution_count": 27
        }
      ]
    },
    {
      "cell_type": "code",
      "source": [
        "# model7\n",
        "\n",
        "model7 = keras.Sequential()\n",
        "model7.add(Dense(units=12, activation='relu'))\n",
        "model7.add(Dense(units=6, activation='softmax'))\n",
        "\n",
        "model7.compile(optimizer=keras.optimizers.Adam(learning_rate=0.001), \n",
        "              loss='sparse_categorical_crossentropy', \n",
        "              metrics=['accuracy'])\n",
        "\n",
        "model7.fit(x_train, y_train, epochs=20, validation_data=(x_val, y_val), callbacks=[es_callback])"
      ],
      "metadata": {
        "colab": {
          "base_uri": "https://localhost:8080/"
        },
        "id": "i0Ms_8d4tmew",
        "outputId": "cda1139d-5dff-42a6-ccf2-2a67cadf5ff2"
      },
      "id": "i0Ms_8d4tmew",
      "execution_count": null,
      "outputs": [
        {
          "output_type": "stream",
          "name": "stdout",
          "text": [
            "Epoch 1/20\n",
            "230/230 [==============================] - 1s 3ms/step - loss: 0.6808 - accuracy: 0.7726 - val_loss: 0.3924 - val_accuracy: 0.8960\n",
            "Epoch 2/20\n",
            "230/230 [==============================] - 1s 3ms/step - loss: 0.2909 - accuracy: 0.9109 - val_loss: 0.2652 - val_accuracy: 0.9254\n",
            "Epoch 3/20\n",
            "230/230 [==============================] - 1s 3ms/step - loss: 0.2048 - accuracy: 0.9350 - val_loss: 0.2421 - val_accuracy: 0.9141\n",
            "Epoch 4/20\n",
            "230/230 [==============================] - 1s 2ms/step - loss: 0.1625 - accuracy: 0.9461 - val_loss: 0.1963 - val_accuracy: 0.9356\n",
            "Epoch 5/20\n",
            "230/230 [==============================] - 1s 2ms/step - loss: 0.1365 - accuracy: 0.9555 - val_loss: 0.2010 - val_accuracy: 0.9186\n",
            "Epoch 6/20\n",
            "230/230 [==============================] - 1s 3ms/step - loss: 0.1183 - accuracy: 0.9593 - val_loss: 0.1669 - val_accuracy: 0.9390\n",
            "Epoch 7/20\n",
            "230/230 [==============================] - 1s 3ms/step - loss: 0.1042 - accuracy: 0.9660 - val_loss: 0.1608 - val_accuracy: 0.9446\n",
            "Epoch 8/20\n",
            "230/230 [==============================] - 1s 2ms/step - loss: 0.0936 - accuracy: 0.9683 - val_loss: 0.1597 - val_accuracy: 0.9424\n",
            "Epoch 9/20\n",
            "230/230 [==============================] - 1s 2ms/step - loss: 0.0882 - accuracy: 0.9714 - val_loss: 0.1500 - val_accuracy: 0.9492\n",
            "Epoch 10/20\n",
            "230/230 [==============================] - 1s 2ms/step - loss: 0.0783 - accuracy: 0.9732 - val_loss: 0.1567 - val_accuracy: 0.9390\n",
            "Epoch 11/20\n",
            "230/230 [==============================] - 1s 2ms/step - loss: 0.0747 - accuracy: 0.9742 - val_loss: 0.1446 - val_accuracy: 0.9435\n",
            "Epoch 12/20\n",
            "230/230 [==============================] - 1s 2ms/step - loss: 0.0665 - accuracy: 0.9784 - val_loss: 0.1393 - val_accuracy: 0.9435\n",
            "Epoch 13/20\n",
            "230/230 [==============================] - 1s 3ms/step - loss: 0.0636 - accuracy: 0.9767 - val_loss: 0.1461 - val_accuracy: 0.9390\n",
            "Epoch 14/20\n",
            "230/230 [==============================] - 1s 2ms/step - loss: 0.0641 - accuracy: 0.9767 - val_loss: 0.1430 - val_accuracy: 0.9435\n",
            "Epoch 15/20\n",
            "230/230 [==============================] - 1s 2ms/step - loss: 0.0614 - accuracy: 0.9780 - val_loss: 0.1363 - val_accuracy: 0.9458\n",
            "Epoch 16/20\n",
            "230/230 [==============================] - 1s 3ms/step - loss: 0.0604 - accuracy: 0.9774 - val_loss: 0.1341 - val_accuracy: 0.9469\n",
            "Epoch 17/20\n",
            "230/230 [==============================] - 1s 2ms/step - loss: 0.0583 - accuracy: 0.9801 - val_loss: 0.1419 - val_accuracy: 0.9424\n",
            "Epoch 18/20\n",
            "230/230 [==============================] - 1s 2ms/step - loss: 0.0531 - accuracy: 0.9814 - val_loss: 0.1473 - val_accuracy: 0.9435\n",
            "Epoch 19/20\n",
            "230/230 [==============================] - 1s 3ms/step - loss: 0.0483 - accuracy: 0.9841 - val_loss: 0.1573 - val_accuracy: 0.9379\n",
            "Epoch 20/20\n",
            "230/230 [==============================] - 1s 2ms/step - loss: 0.0482 - accuracy: 0.9838 - val_loss: 0.1523 - val_accuracy: 0.9424\n"
          ]
        },
        {
          "output_type": "execute_result",
          "data": {
            "text/plain": [
              "<keras.callbacks.History at 0x7f3e4c5b95d0>"
            ]
          },
          "metadata": {},
          "execution_count": 28
        }
      ]
    },
    {
      "cell_type": "code",
      "source": [
        "# model8\n",
        "\n",
        "model8 = keras.Sequential()\n",
        "model8.add(Dense(units=12, activation='relu'))\n",
        "model8.add(Dense(units=6, activation='softmax'))\n",
        "\n",
        "model8.compile(optimizer=keras.optimizers.Adam(learning_rate=0.008), \n",
        "              loss='sparse_categorical_crossentropy', \n",
        "              metrics=['accuracy'])\n",
        "\n",
        "model8.fit(x_train, y_train, epochs=20, validation_data=(x_val, y_val), callbacks=[es_callback])"
      ],
      "metadata": {
        "colab": {
          "base_uri": "https://localhost:8080/"
        },
        "id": "4H3P0IXMtmbf",
        "outputId": "d29e7ca7-f22a-4473-864c-1473e47080be"
      },
      "id": "4H3P0IXMtmbf",
      "execution_count": null,
      "outputs": [
        {
          "output_type": "stream",
          "name": "stdout",
          "text": [
            "Epoch 1/20\n",
            "230/230 [==============================] - 1s 3ms/step - loss: 1.7437 - accuracy: 0.2182 - val_loss: 1.3799 - val_accuracy: 0.4079\n",
            "Epoch 2/20\n",
            "230/230 [==============================] - 1s 3ms/step - loss: 1.0794 - accuracy: 0.4921 - val_loss: 0.8642 - val_accuracy: 0.5582\n",
            "Epoch 3/20\n",
            "230/230 [==============================] - 1s 2ms/step - loss: 0.7182 - accuracy: 0.6085 - val_loss: 0.7000 - val_accuracy: 0.6215\n",
            "Epoch 4/20\n",
            "230/230 [==============================] - 1s 3ms/step - loss: 0.6560 - accuracy: 0.6247 - val_loss: 0.7876 - val_accuracy: 0.5876\n",
            "Epoch 5/20\n",
            "230/230 [==============================] - 1s 2ms/step - loss: 0.6360 - accuracy: 0.6294 - val_loss: 0.6571 - val_accuracy: 0.6271\n",
            "Epoch 6/20\n",
            "230/230 [==============================] - 1s 3ms/step - loss: 0.6367 - accuracy: 0.6340 - val_loss: 0.7956 - val_accuracy: 0.6023\n",
            "Epoch 7/20\n",
            "230/230 [==============================] - 1s 2ms/step - loss: 0.4498 - accuracy: 0.7583 - val_loss: 0.4439 - val_accuracy: 0.8136\n",
            "Epoch 8/20\n",
            "230/230 [==============================] - 1s 3ms/step - loss: 0.3033 - accuracy: 0.8369 - val_loss: 0.4361 - val_accuracy: 0.8237\n",
            "Epoch 9/20\n",
            "230/230 [==============================] - 1s 3ms/step - loss: 0.2856 - accuracy: 0.8440 - val_loss: 0.3690 - val_accuracy: 0.8565\n",
            "Epoch 10/20\n",
            "230/230 [==============================] - 1s 3ms/step - loss: 0.2569 - accuracy: 0.8706 - val_loss: 0.3142 - val_accuracy: 0.8757\n",
            "Epoch 11/20\n",
            "230/230 [==============================] - 1s 2ms/step - loss: 0.2365 - accuracy: 0.8889 - val_loss: 0.3096 - val_accuracy: 0.8757\n",
            "Epoch 12/20\n",
            "230/230 [==============================] - 1s 2ms/step - loss: 0.2214 - accuracy: 0.9027 - val_loss: 0.3107 - val_accuracy: 0.8802\n",
            "Epoch 13/20\n",
            "230/230 [==============================] - 1s 2ms/step - loss: 0.1833 - accuracy: 0.9289 - val_loss: 0.2772 - val_accuracy: 0.9040\n",
            "Epoch 14/20\n",
            "230/230 [==============================] - 1s 3ms/step - loss: 0.1991 - accuracy: 0.9204 - val_loss: 0.3088 - val_accuracy: 0.9073\n",
            "Epoch 15/20\n",
            "230/230 [==============================] - 1s 2ms/step - loss: 0.1493 - accuracy: 0.9437 - val_loss: 0.2782 - val_accuracy: 0.9186\n",
            "Epoch 16/20\n",
            "230/230 [==============================] - 1s 2ms/step - loss: 0.1434 - accuracy: 0.9455 - val_loss: 0.3099 - val_accuracy: 0.9085\n",
            "Epoch 17/20\n",
            "230/230 [==============================] - 1s 2ms/step - loss: 0.1347 - accuracy: 0.9495 - val_loss: 0.2440 - val_accuracy: 0.9345\n",
            "Epoch 18/20\n",
            "230/230 [==============================] - 1s 3ms/step - loss: 0.1202 - accuracy: 0.9540 - val_loss: 0.2188 - val_accuracy: 0.9379\n",
            "Epoch 19/20\n",
            "230/230 [==============================] - 1s 2ms/step - loss: 0.1007 - accuracy: 0.9634 - val_loss: 0.2052 - val_accuracy: 0.9333\n",
            "Epoch 20/20\n",
            "230/230 [==============================] - 1s 3ms/step - loss: 0.1102 - accuracy: 0.9599 - val_loss: 0.2284 - val_accuracy: 0.9322\n"
          ]
        },
        {
          "output_type": "execute_result",
          "data": {
            "text/plain": [
              "<keras.callbacks.History at 0x7f3e7025fe90>"
            ]
          },
          "metadata": {},
          "execution_count": 21
        }
      ]
    },
    {
      "cell_type": "code",
      "source": [
        ""
      ],
      "metadata": {
        "id": "HmwmGLfYvoev"
      },
      "id": "HmwmGLfYvoev",
      "execution_count": null,
      "outputs": []
    },
    {
      "cell_type": "code",
      "source": [
        "models = [model1, model2, model3, model4, model5, model6, model7, model8]"
      ],
      "metadata": {
        "id": "Vn-_mIzevoco"
      },
      "id": "Vn-_mIzevoco",
      "execution_count": null,
      "outputs": []
    },
    {
      "cell_type": "code",
      "source": [
        "for model in models:\n",
        "  print(model.evaluate(x_test, y_test, verbose=1))"
      ],
      "metadata": {
        "colab": {
          "base_uri": "https://localhost:8080/"
        },
        "id": "VZNnYnaytmSw",
        "outputId": "a1270f49-7325-4235-98c2-8f9066639e16"
      },
      "id": "VZNnYnaytmSw",
      "execution_count": null,
      "outputs": [
        {
          "output_type": "stream",
          "name": "stdout",
          "text": [
            "65/65 [==============================] - 0s 2ms/step - loss: 0.1635 - accuracy: 0.9437\n",
            "[0.16345249116420746, 0.9437439441680908]\n",
            "65/65 [==============================] - 0s 2ms/step - loss: 0.1957 - accuracy: 0.9399\n",
            "[0.1956603229045868, 0.9398642182350159]\n",
            "65/65 [==============================] - 0s 2ms/step - loss: 0.2204 - accuracy: 0.9394\n",
            "[0.22044987976551056, 0.9393792152404785]\n",
            "65/65 [==============================] - 0s 2ms/step - loss: 0.1941 - accuracy: 0.9384\n",
            "[0.1940642148256302, 0.9384093284606934]\n",
            "65/65 [==============================] - 0s 2ms/step - loss: 0.2331 - accuracy: 0.9365\n",
            "[0.23314876854419708, 0.9364694356918335]\n",
            "65/65 [==============================] - 0s 2ms/step - loss: 0.8290 - accuracy: 0.5616\n",
            "[0.8290499448776245, 0.5615906715393066]\n",
            "65/65 [==============================] - 0s 2ms/step - loss: 0.1934 - accuracy: 0.9277\n",
            "[0.19341464340686798, 0.9277400374412537]\n",
            "65/65 [==============================] - 0s 2ms/step - loss: 0.2852 - accuracy: 0.9059\n",
            "[0.2852313816547394, 0.9059165716171265]\n"
          ]
        }
      ]
    },
    {
      "cell_type": "code",
      "execution_count": null,
      "id": "5ce6e2b5",
      "metadata": {
        "id": "5ce6e2b5"
      },
      "outputs": [],
      "source": [
        ""
      ]
    },
    {
      "cell_type": "code",
      "source": [
        ""
      ],
      "metadata": {
        "id": "PcZvq9vCxtV6"
      },
      "id": "PcZvq9vCxtV6",
      "execution_count": null,
      "outputs": []
    },
    {
      "cell_type": "markdown",
      "source": [
        "### Q5."
      ],
      "metadata": {
        "id": "7NkRiSeAxvDP"
      },
      "id": "7NkRiSeAxvDP"
    },
    {
      "cell_type": "code",
      "source": [
        ""
      ],
      "metadata": {
        "id": "fCNBtEi6AqeY"
      },
      "id": "fCNBtEi6AqeY",
      "execution_count": null,
      "outputs": []
    },
    {
      "cell_type": "code",
      "source": [
        "class SOM:\n",
        "\n",
        "\n",
        "    def __init__(self, map_size, lr=0.1):\n",
        "\n",
        "        # Args: map_size : [map_w, map_h, f=561]\n",
        "\n",
        "        self.map = np.random.random(size=(map_size[0], map_size[1], map_size[2]))\n",
        "        self.winners = np.zeros((map_size[0], map_size[1]))\n",
        "\n",
        "        self.lr0 = lr\n",
        "        self.lr = self.lr0\n",
        "\n",
        "        self.R0 = map_size[0] // 2.4\n",
        "        self.R = self.R0\n",
        "\n",
        "\n",
        "    def train(self, X, y, T=1000, error_threshold=10**-20):\n",
        "\n",
        "        # Loss history\n",
        "        Js = []\n",
        "        deads = []\n",
        "        win_dists = []\n",
        "\n",
        "        for t in range(T):\n",
        "            prev_map = self.map.copy()\n",
        "\n",
        "            # Shuffle X in every iteration\n",
        "            shuffle_ind = np.random.randint(0, X.shape[0], X.shape[0])\n",
        "            \n",
        "            win_dist = 0\n",
        "\n",
        "            for i in range(X.shape[0]):\n",
        "\n",
        "                x = X[shuffle_ind[i], :]\n",
        "\n",
        "                # Neuron with most compatibilty with x\n",
        "                winner = self.find_winner(x)\n",
        "\n",
        "                # Sum of winner neurons distances\n",
        "                win_dist += self.cal_euc(self.map[winner], x)\n",
        "\n",
        "                # Get all neurons in the neighborhood of winner\n",
        "                NS = self.get_NS(winner)\n",
        "\n",
        "                # Update weights of all neurons in the neighborhood of winner\n",
        "                self.update_weights(x, winner, NS, len(X)) \n",
        "\n",
        "            # Update learning rate and neighborhood radius (linear decay)\n",
        "            alpha = t / T\n",
        "            self.lr = self.lr0 * (1 - alpha)\n",
        "\n",
        "            self.R = self.R0 * (1 - t / T)\n",
        "\n",
        "\n",
        "            Js.append(np.linalg.norm(prev_map - self.map))\n",
        "            dead_cnt = self.get_deads()\n",
        "            deads.append(dead_cnt)\n",
        "            win_dists.append(win_dist / X.shape[0])\n",
        "\n",
        "            if t % 100 == 0 or t == T - 1:\n",
        "                print(f\"Iteration: {t}, Loss: {Js[-1]:.4f}, lr: {self.lr:.4f}, R: {self.R:.4f}, deads: {dead_cnt}, win_avg: {win_dist / X.shape[0]:.4f}\")\n",
        "            \n",
        "            if Js[-1] < error_threshold:\n",
        "                print(\"MIN CHANGE\")\n",
        "                break\n",
        "\n",
        "        return Js, deads, win_dists\n",
        "    \n",
        "\n",
        "    def find_winner(self, x):\n",
        "        rep_x = np.tile(x, (self.map.shape[0], self.map.shape[1], 1))\n",
        "        dists = np.sum((self.map - rep_x) ** 2, axis=2)\n",
        "        winner = np.unravel_index(np.argmin(dists, axis=None), shape=dists.shape)\n",
        "        self.winners[winner] = 1\n",
        "        return winner\n",
        "\n",
        "    \n",
        "    def get_deads(self):\n",
        "      deads = 0\n",
        "      for i in range(self.map.shape[0]):\n",
        "        for j in range(self.map.shape[1]):\n",
        "          if self.winners[i, j] == 0:\n",
        "            deads += 1\n",
        "      \n",
        "      return deads\n",
        "\n",
        "\n",
        "    def get_NS(self, winner):\n",
        "\n",
        "        # NS: Neighborhood strength\n",
        "        NS = np.zeros((self.map.shape[0], self.map.shape[1]))\n",
        "\n",
        "        # winner i,j\n",
        "        iw, jw = winner[0], winner[1]\n",
        "        \n",
        "        # Winner\n",
        "        NS[iw, jw] = 1 \n",
        "\n",
        "        # Circular neighborhood\n",
        "        R = int(self.R)\n",
        "        for ri in range(-R, R):\n",
        "            for rj in range(-R, R):\n",
        "                if 0 <= iw + ri < self.map.shape[0] and 0 <= jw + rj < self.map.shape[1]:\n",
        "                  if np.sqrt(ri**2 + rj**2) > R:\n",
        "                    NS[iw + ri, jw + rj] = 0\n",
        "                  else:\n",
        "                    NS[iw + ri, jw + rj] = 1 / ( 1 + np.sqrt(ri**2 + rj**2))\n",
        "        \n",
        "        return NS\n",
        "\n",
        "    def update_weights(self, x, winner, n_strength, X_len):\n",
        "\n",
        "        # Note: n_strength is already W*H we just need to make it W*H*f\n",
        "        NS = np.repeat(n_strength[:, :, np.newaxis], self.map.shape[2], axis=2)\n",
        "\n",
        "        # Difference between inputs and neurons\n",
        "        rep_x = np.tile(x, (self.map.shape[0], self.map.shape[1], 1))\n",
        "        Delta = np.subtract(rep_x, self.map)\n",
        "\n",
        "        # Update weights\n",
        "        self.map = np.add(self.map, np.multiply(np.divide(self.lr, X_len), np.multiply(NS, Delta)))\n",
        "\n",
        "\n",
        "    def cal_euc(self, x, y):\n",
        "      return np.sqrt(np.sum((x - y) ** 2))\n",
        "\n",
        "\n",
        "    def cal_u_matrix(self): \n",
        "      u_matrix = np.zeros((self.map.shape[0], self.map.shape[1]))\n",
        "\n",
        "      R = 2\n",
        "\n",
        "      for i in range(0, self.map.shape[0]):\n",
        "        for j in range(0, self.map.shape[1]):\n",
        "\n",
        "          sum_dist = 0\n",
        "          ct = 0\n",
        "\n",
        "          for ri in range(-R, R):\n",
        "            for rj in range(-R, R):\n",
        "              if 0 <= i + ri < self.map.shape[0] and 0 <= j + rj < self.map.shape[1]:\n",
        "                if np.sqrt(ri**2 + rj**2) < R:\n",
        "                  sum_dist += self.cal_euc(self.map[i, j], self.map[i + ri, j + rj])\n",
        "                  ct += 1\n",
        "          \n",
        "          u_matrix[i, j] = sum_dist / (ct - 1)\n",
        "\n",
        "      plt.imshow(u_matrix, cmap='gray')\n",
        "      plt.title(\"U-Matrix\")\n",
        "      plt.xlabel(\"x\")\n",
        "      plt.ylabel(\"y\")\n",
        "      plt.show()\n",
        "\n",
        "\n",
        "      def cal_u_matrix2(self): \n",
        "        u_matrix = np.zeros((self.map.shape[0], self.map.shape[1]))\n",
        "\n",
        "        R = int(self.R)\n",
        "\n",
        "        for i in range(0, self.map.shape[0]):\n",
        "          for j in range(0, self.map.shape[1]):\n",
        "\n",
        "            sum_dist = 0\n",
        "            ct = 0\n",
        "\n",
        "            for ri in range(-R, R):\n",
        "              for rj in range(-R, R):\n",
        "                if 0 <= i + ri < self.map.shape[0] and 0 <= j + rj < self.map.shape[1]:\n",
        "                  if np.sqrt(ri**2 + rj**2) <= R:\n",
        "                    sum_dist += self.cal_euc(self.map[i, j], self.map[i + ri, j + rj])\n",
        "                    ct += 1\n",
        "            \n",
        "            u_matrix[i, j] = sum_dist / (ct - 1)\n",
        "\n",
        "        plt.imshow(u_matrix, cmap='gray')\n",
        "        plt.title(\"U-Matrix\")\n",
        "        plt.xlabel(\"x\")\n",
        "        plt.ylabel(\"y\")\n",
        "        plt.show()\n",
        "\n",
        "\n",
        "    def extract_features(self, x):\n",
        "        rep_x = np.tile(x, (self.map.shape[0], self.map.shape[1], 1))\n",
        "        dists = np.sum((self.map - rep_x) ** 2, axis=2)\n",
        "        return 1/(1+dists)"
      ],
      "metadata": {
        "id": "XbqPDrW9xtTp"
      },
      "id": "XbqPDrW9xtTp",
      "execution_count": null,
      "outputs": []
    },
    {
      "cell_type": "code",
      "source": [
        ""
      ],
      "metadata": {
        "id": "4LEZztStD54H"
      },
      "id": "4LEZztStD54H",
      "execution_count": null,
      "outputs": []
    },
    {
      "cell_type": "code",
      "source": [
        "n_class = len(np.unique(y_train))\n",
        "som_net = SOM(map_size=(n_class * 2, n_class * 2, x_train.shape[1]), lr=0.7)\n",
        "\n",
        "# Loss\n",
        "Js, deads, avg_win_dists = som_net.train(x_train, y_train, T=1000)\n",
        "plt.plot(Js)\n",
        "plt.title(\"Training Loss\")\n",
        "plt.xlabel(\"Iteration\")\n",
        "plt.ylabel(\"Loss\")\n",
        "plt.show()"
      ],
      "metadata": {
        "colab": {
          "base_uri": "https://localhost:8080/",
          "height": 496
        },
        "id": "I-KNB0o8xtRZ",
        "outputId": "61d3ded4-703e-453d-e856-8cfbca7bf0da"
      },
      "id": "I-KNB0o8xtRZ",
      "execution_count": 24,
      "outputs": [
        {
          "output_type": "stream",
          "name": "stdout",
          "text": [
            "Iteration: 0, Loss: 32.6489, lr: 0.7000, R: 5.0000, deads: 140, win_avg: 20.0059\n",
            "Iteration: 100, Loss: 1.9581, lr: 0.6300, R: 4.5000, deads: 77, win_avg: 4.0406\n",
            "Iteration: 200, Loss: 0.8550, lr: 0.5600, R: 4.0000, deads: 45, win_avg: 3.8858\n",
            "Iteration: 300, Loss: 0.3397, lr: 0.4900, R: 3.5000, deads: 32, win_avg: 3.7532\n",
            "Iteration: 400, Loss: 0.2347, lr: 0.4200, R: 3.0000, deads: 22, win_avg: 3.7146\n",
            "Iteration: 500, Loss: 0.0778, lr: 0.3500, R: 2.5000, deads: 19, win_avg: 3.5964\n",
            "Iteration: 600, Loss: 0.0518, lr: 0.2800, R: 2.0000, deads: 18, win_avg: 3.5561\n",
            "Iteration: 700, Loss: 0.0313, lr: 0.2100, R: 1.5000, deads: 18, win_avg: 3.5070\n",
            "Iteration: 800, Loss: 0.0197, lr: 0.1400, R: 1.0000, deads: 18, win_avg: 3.4774\n",
            "Iteration: 900, Loss: 0.0073, lr: 0.0700, R: 0.5000, deads: 18, win_avg: 3.4597\n",
            "Iteration: 999, Loss: 0.0001, lr: 0.0007, R: 0.0050, deads: 18, win_avg: 3.4404\n"
          ]
        },
        {
          "output_type": "display_data",
          "data": {
            "text/plain": [
              "<Figure size 432x288 with 1 Axes>"
            ],
            "image/png": "[encoded data removed]"
          },
          "metadata": {
            "needs_background": "light"
          }
        }
      ]
    },
    {
      "cell_type": "code",
      "source": [
        "som_net.cal_u_matrix()"
      ],
      "metadata": {
        "id": "AWsSoHHZxtO4",
        "colab": {
          "base_uri": "https://localhost:8080/",
          "height": 295
        },
        "outputId": "1259397e-4ce4-49b5-be8b-46c44f8cd64a"
      },
      "id": "AWsSoHHZxtO4",
      "execution_count": 25,
      "outputs": [
        {
          "output_type": "display_data",
          "data": {
            "text/plain": [
              "<Figure size 432x288 with 1 Axes>"
            ],
            "image/png": "[encoded data removed]"
          },
          "metadata": {
            "needs_background": "light"
          }
        }
      ]
    },
    {
      "cell_type": "code",
      "source": [
        "plt.plot(avg_win_dists)\n",
        "plt.title(\"AVG Winners Distances\")\n",
        "plt.xlabel(\"iteration\")\n",
        "plt.ylabel(\"avg distance\")\n",
        "plt.show()"
      ],
      "metadata": {
        "id": "Sg3sC4z4xtMw",
        "colab": {
          "base_uri": "https://localhost:8080/",
          "height": 295
        },
        "outputId": "9da8ab73-c539-499a-fcfd-8ba915655eb5"
      },
      "id": "Sg3sC4z4xtMw",
      "execution_count": 26,
      "outputs": [
        {
          "output_type": "display_data",
          "data": {
            "text/plain": [
              "<Figure size 432x288 with 1 Axes>"
            ],
            "image/png": "[encoded data removed]"
          },
          "metadata": {
            "needs_background": "light"
          }
        }
      ]
    },
    {
      "cell_type": "code",
      "execution_count": 27,
      "id": "92d8afc4",
      "metadata": {
        "id": "92d8afc4",
        "colab": {
          "base_uri": "https://localhost:8080/",
          "height": 295
        },
        "outputId": "0fbd56d3-4a34-4c8a-df0b-1871d7e26816"
      },
      "outputs": [
        {
          "output_type": "display_data",
          "data": {
            "text/plain": [
              "<Figure size 432x288 with 1 Axes>"
            ],
            "image/png": "[encoded data removed]"
          },
          "metadata": {
            "needs_background": "light"
          }
        }
      ],
      "source": [
        "plt.plot(deads)\n",
        "plt.title(\"Dead Counts\")\n",
        "plt.xlabel(\"iteration\")\n",
        "plt.ylabel(\"count\")\n",
        "plt.show()"
      ]
    },
    {
      "cell_type": "code",
      "source": [
        ""
      ],
      "metadata": {
        "id": "clPirw7kImB5"
      },
      "id": "clPirw7kImB5",
      "execution_count": 27,
      "outputs": []
    },
    {
      "cell_type": "code",
      "source": [
        "# Train\n",
        "reduced_dim_x_train = []\n",
        "for x in x_train:\n",
        "  features = som_net.extract_features(x)\n",
        "  reduced_dim_x_train.append(features)\n",
        "reduced_dim_x_train = np.array(reduced_dim_x_train)\n",
        "reduced_dim_x_train = reduced_dim_x_train.reshape(reduced_dim_x_train.shape[0], (n_class * 2) ** 2)\n",
        "\n",
        "# Test\n",
        "reduced_dim_x_test = []\n",
        "for x in x_test:\n",
        "  features = som_net.extract_features(x)\n",
        "  reduced_dim_x_test.append(features)\n",
        "reduced_dim_x_test = np.array(reduced_dim_x_test)\n",
        "reduced_dim_x_test = reduced_dim_x_test.reshape(reduced_dim_x_test.shape[0], (n_class * 2) ** 2)\n",
        "\n",
        "# Val\n",
        "reduced_dim_x_val = []\n",
        "for x in x_val:\n",
        "  features = som_net.extract_features(x)\n",
        "  reduced_dim_x_val.append(features)\n",
        "reduced_dim_x_val = np.array(reduced_dim_x_val)\n",
        "reduced_dim_x_val = reduced_dim_x_val.reshape(reduced_dim_x_val.shape[0], (n_class * 2) ** 2)"
      ],
      "metadata": {
        "id": "znx2iDxsng4M"
      },
      "id": "znx2iDxsng4M",
      "execution_count": 28,
      "outputs": []
    },
    {
      "cell_type": "code",
      "source": [
        "reduced_dim_x_train.shape"
      ],
      "metadata": {
        "id": "-VrJA-1Uqstt",
        "colab": {
          "base_uri": "https://localhost:8080/"
        },
        "outputId": "ab743b58-6a9e-44a6-ab41-57e023edf7f9"
      },
      "id": "-VrJA-1Uqstt",
      "execution_count": 29,
      "outputs": [
        {
          "output_type": "execute_result",
          "data": {
            "text/plain": [
              "(7352, 144)"
            ]
          },
          "metadata": {},
          "execution_count": 29
        }
      ]
    },
    {
      "cell_type": "code",
      "source": [
        ""
      ],
      "metadata": {
        "id": "kmtLYeDvrvv_"
      },
      "id": "kmtLYeDvrvv_",
      "execution_count": 29,
      "outputs": []
    },
    {
      "cell_type": "code",
      "source": [
        "# # model9\n",
        "\n",
        "# model9 = keras.Sequential()\n",
        "# model9.add(Dense(units=2048, activation='relu'))\n",
        "# model9.add(Dense(units=256, activation='relu'))\n",
        "# model9.add(Dense(units=6, activation='softmax'))\n",
        "\n",
        "# model9.compile(optimizer='adam', \n",
        "#               loss='sparse_categorical_crossentropy', \n",
        "#               metrics=['accuracy'])\n",
        "\n",
        "# model9.fit(reduced_dim_x_train, y_train, epochs=50, validation_data=(reduced_dim_x_val, y_val), callbacks=[es_callback])"
      ],
      "metadata": {
        "id": "qSefTis_rvtl"
      },
      "id": "qSefTis_rvtl",
      "execution_count": 30,
      "outputs": []
    },
    {
      "cell_type": "code",
      "source": [
        "# model9\n",
        "\n",
        "model9 = keras.Sequential()\n",
        "model9.add(Dense(units=2048, activation='relu'))\n",
        "model9.add(Dropout(0.3))\n",
        "model9.add(Dense(units=512, activation='relu'))\n",
        "model9.add(Dropout(0.2))\n",
        "model9.add(Dense(units=6, activation='softmax'))\n",
        "\n",
        "model9.compile(optimizer='adam', \n",
        "              loss='sparse_categorical_crossentropy', \n",
        "              metrics=['accuracy'])\n",
        "\n",
        "model9.fit(reduced_dim_x_train, y_train, epochs=50, validation_data=(reduced_dim_x_val, y_val), callbacks=[es_callback])"
      ],
      "metadata": {
        "id": "r1QOFi-mrvrU",
        "colab": {
          "base_uri": "https://localhost:8080/"
        },
        "outputId": "ce7e6e22-98c9-4f24-d460-9dea995b0623"
      },
      "id": "r1QOFi-mrvrU",
      "execution_count": 31,
      "outputs": [
        {
          "output_type": "stream",
          "name": "stdout",
          "text": [
            "Epoch 1/50\n",
            "230/230 [==============================] - 5s 17ms/step - loss: 0.6151 - accuracy: 0.7318 - val_loss: 0.4238 - val_accuracy: 0.8328\n",
            "Epoch 2/50\n",
            "230/230 [==============================] - 4s 16ms/step - loss: 0.3824 - accuracy: 0.8365 - val_loss: 0.3454 - val_accuracy: 0.8520\n",
            "Epoch 3/50\n",
            "230/230 [==============================] - 4s 16ms/step - loss: 0.3317 - accuracy: 0.8546 - val_loss: 0.3430 - val_accuracy: 0.8463\n",
            "Epoch 4/50\n",
            "230/230 [==============================] - 4s 16ms/step - loss: 0.3302 - accuracy: 0.8592 - val_loss: 0.3064 - val_accuracy: 0.8701\n",
            "Epoch 5/50\n",
            "230/230 [==============================] - 4s 16ms/step - loss: 0.3090 - accuracy: 0.8643 - val_loss: 0.3351 - val_accuracy: 0.8373\n",
            "Epoch 6/50\n",
            "230/230 [==============================] - 4s 16ms/step - loss: 0.2846 - accuracy: 0.8721 - val_loss: 0.3198 - val_accuracy: 0.8701\n",
            "Epoch 7/50\n",
            "230/230 [==============================] - 4s 16ms/step - loss: 0.2807 - accuracy: 0.8751 - val_loss: 0.3163 - val_accuracy: 0.8723\n",
            "Epoch 8/50\n",
            "230/230 [==============================] - 4s 16ms/step - loss: 0.2768 - accuracy: 0.8751 - val_loss: 0.3690 - val_accuracy: 0.8316\n",
            "Epoch 9/50\n",
            "230/230 [==============================] - 4s 16ms/step - loss: 0.2708 - accuracy: 0.8768 - val_loss: 0.2612 - val_accuracy: 0.8825\n",
            "Epoch 10/50\n",
            "230/230 [==============================] - 4s 16ms/step - loss: 0.2659 - accuracy: 0.8841 - val_loss: 0.3329 - val_accuracy: 0.8644\n",
            "Epoch 11/50\n",
            "230/230 [==============================] - 4s 16ms/step - loss: 0.2647 - accuracy: 0.8817 - val_loss: 0.2779 - val_accuracy: 0.8791\n",
            "Epoch 12/50\n",
            "230/230 [==============================] - 4s 16ms/step - loss: 0.2585 - accuracy: 0.8848 - val_loss: 0.2796 - val_accuracy: 0.8734\n",
            "Epoch 13/50\n",
            "230/230 [==============================] - 4s 16ms/step - loss: 0.2622 - accuracy: 0.8828 - val_loss: 0.2667 - val_accuracy: 0.8791\n",
            "Epoch 14/50\n",
            "230/230 [==============================] - 4s 16ms/step - loss: 0.2537 - accuracy: 0.8864 - val_loss: 0.2605 - val_accuracy: 0.8870\n",
            "Epoch 15/50\n",
            "230/230 [==============================] - 4s 16ms/step - loss: 0.2448 - accuracy: 0.8920 - val_loss: 0.3587 - val_accuracy: 0.8520\n",
            "Epoch 16/50\n",
            "230/230 [==============================] - 4s 16ms/step - loss: 0.2482 - accuracy: 0.8928 - val_loss: 0.3104 - val_accuracy: 0.8768\n",
            "Epoch 17/50\n",
            "230/230 [==============================] - 4s 16ms/step - loss: 0.2462 - accuracy: 0.8913 - val_loss: 0.3376 - val_accuracy: 0.8508\n",
            "Epoch 18/50\n",
            "230/230 [==============================] - 4s 16ms/step - loss: 0.2549 - accuracy: 0.8876 - val_loss: 0.3194 - val_accuracy: 0.8610\n",
            "Epoch 19/50\n",
            "230/230 [==============================] - 4s 16ms/step - loss: 0.2430 - accuracy: 0.8904 - val_loss: 0.2661 - val_accuracy: 0.8881\n",
            "Epoch 20/50\n",
            "230/230 [==============================] - 4s 16ms/step - loss: 0.2450 - accuracy: 0.8931 - val_loss: 0.2867 - val_accuracy: 0.8949\n",
            "Epoch 21/50\n",
            "230/230 [==============================] - 4s 16ms/step - loss: 0.2538 - accuracy: 0.8855 - val_loss: 0.2512 - val_accuracy: 0.8938\n",
            "Epoch 22/50\n",
            "230/230 [==============================] - 4s 16ms/step - loss: 0.2368 - accuracy: 0.8949 - val_loss: 0.3115 - val_accuracy: 0.8768\n",
            "Epoch 23/50\n",
            "230/230 [==============================] - 4s 16ms/step - loss: 0.2360 - accuracy: 0.8976 - val_loss: 0.2460 - val_accuracy: 0.8825\n",
            "Epoch 24/50\n",
            "230/230 [==============================] - 4s 16ms/step - loss: 0.2373 - accuracy: 0.8924 - val_loss: 0.2748 - val_accuracy: 0.8734\n",
            "Epoch 25/50\n",
            "230/230 [==============================] - 4s 16ms/step - loss: 0.2420 - accuracy: 0.8962 - val_loss: 0.3038 - val_accuracy: 0.8678\n",
            "Epoch 26/50\n",
            "230/230 [==============================] - 4s 16ms/step - loss: 0.2336 - accuracy: 0.8958 - val_loss: 0.2897 - val_accuracy: 0.8780\n",
            "Epoch 27/50\n",
            "230/230 [==============================] - 4s 16ms/step - loss: 0.2342 - accuracy: 0.8973 - val_loss: 0.3446 - val_accuracy: 0.8655\n",
            "Epoch 28/50\n",
            "230/230 [==============================] - 4s 16ms/step - loss: 0.2361 - accuracy: 0.8972 - val_loss: 0.2805 - val_accuracy: 0.8791\n",
            "Epoch 29/50\n",
            "230/230 [==============================] - 4s 16ms/step - loss: 0.2323 - accuracy: 0.8958 - val_loss: 0.2751 - val_accuracy: 0.8972\n",
            "Epoch 30/50\n",
            "230/230 [==============================] - 4s 16ms/step - loss: 0.2356 - accuracy: 0.8945 - val_loss: 0.2438 - val_accuracy: 0.8927\n",
            "Epoch 31/50\n",
            "230/230 [==============================] - 4s 16ms/step - loss: 0.2314 - accuracy: 0.8977 - val_loss: 0.2882 - val_accuracy: 0.8734\n",
            "Epoch 32/50\n",
            "230/230 [==============================] - 4s 16ms/step - loss: 0.2288 - accuracy: 0.8977 - val_loss: 0.3711 - val_accuracy: 0.8395\n",
            "Epoch 33/50\n",
            "230/230 [==============================] - 4s 16ms/step - loss: 0.2340 - accuracy: 0.8953 - val_loss: 0.3005 - val_accuracy: 0.8723\n",
            "Epoch 34/50\n",
            "230/230 [==============================] - 4s 16ms/step - loss: 0.2272 - accuracy: 0.9003 - val_loss: 0.2837 - val_accuracy: 0.8859\n",
            "Epoch 35/50\n",
            "230/230 [==============================] - 4s 16ms/step - loss: 0.2282 - accuracy: 0.8988 - val_loss: 0.2520 - val_accuracy: 0.8983\n",
            "Epoch 36/50\n",
            "230/230 [==============================] - 4s 16ms/step - loss: 0.2259 - accuracy: 0.8979 - val_loss: 0.2569 - val_accuracy: 0.8938\n",
            "Epoch 37/50\n",
            "230/230 [==============================] - 4s 16ms/step - loss: 0.2273 - accuracy: 0.8962 - val_loss: 0.2672 - val_accuracy: 0.8904\n",
            "Epoch 38/50\n",
            "230/230 [==============================] - 4s 16ms/step - loss: 0.2253 - accuracy: 0.8970 - val_loss: 0.2668 - val_accuracy: 0.8780\n",
            "Epoch 39/50\n",
            "230/230 [==============================] - 4s 16ms/step - loss: 0.2259 - accuracy: 0.8977 - val_loss: 0.3147 - val_accuracy: 0.8497\n",
            "Epoch 40/50\n",
            "230/230 [==============================] - 4s 16ms/step - loss: 0.2319 - accuracy: 0.8957 - val_loss: 0.2656 - val_accuracy: 0.8915\n",
            "Epoch 41/50\n",
            "230/230 [==============================] - 4s 16ms/step - loss: 0.2255 - accuracy: 0.8995 - val_loss: 0.2620 - val_accuracy: 0.8836\n",
            "Epoch 42/50\n",
            "230/230 [==============================] - 4s 16ms/step - loss: 0.2247 - accuracy: 0.8991 - val_loss: 0.2532 - val_accuracy: 0.8927\n",
            "Epoch 43/50\n",
            "230/230 [==============================] - 4s 16ms/step - loss: 0.2286 - accuracy: 0.8999 - val_loss: 0.3075 - val_accuracy: 0.8621\n",
            "Epoch 44/50\n",
            "230/230 [==============================] - 4s 16ms/step - loss: 0.2203 - accuracy: 0.8993 - val_loss: 0.2851 - val_accuracy: 0.8780\n",
            "Epoch 45/50\n",
            "230/230 [==============================] - 4s 16ms/step - loss: 0.2212 - accuracy: 0.9006 - val_loss: 0.2637 - val_accuracy: 0.8904\n",
            "Epoch 46/50\n",
            "230/230 [==============================] - 4s 16ms/step - loss: 0.2188 - accuracy: 0.9026 - val_loss: 0.2655 - val_accuracy: 0.8881\n",
            "Epoch 47/50\n",
            "230/230 [==============================] - 4s 16ms/step - loss: 0.2268 - accuracy: 0.8980 - val_loss: 0.2630 - val_accuracy: 0.8825\n",
            "Epoch 48/50\n",
            "230/230 [==============================] - 4s 16ms/step - loss: 0.2198 - accuracy: 0.8993 - val_loss: 0.2820 - val_accuracy: 0.8768\n",
            "Epoch 49/50\n",
            "230/230 [==============================] - 4s 16ms/step - loss: 0.2169 - accuracy: 0.9015 - val_loss: 0.2780 - val_accuracy: 0.8881\n",
            "Epoch 50/50\n",
            "230/230 [==============================] - 4s 16ms/step - loss: 0.2136 - accuracy: 0.9049 - val_loss: 0.2549 - val_accuracy: 0.8904\n"
          ]
        },
        {
          "output_type": "execute_result",
          "data": {
            "text/plain": [
              "<keras.callbacks.History at 0x7f3df18cd5d0>"
            ]
          },
          "metadata": {},
          "execution_count": 31
        }
      ]
    },
    {
      "cell_type": "code",
      "source": [
        "model9.evaluate(reduced_dim_x_test, y_test, verbose=1)"
      ],
      "metadata": {
        "colab": {
          "base_uri": "https://localhost:8080/"
        },
        "id": "hvZpjuhJMC3X",
        "outputId": "6efa4c47-1cbf-409f-d1bc-23f96e33deac"
      },
      "id": "hvZpjuhJMC3X",
      "execution_count": 36,
      "outputs": [
        {
          "output_type": "stream",
          "name": "stdout",
          "text": [
            "65/65 [==============================] - 1s 7ms/step - loss: 0.2695 - accuracy: 0.8841\n"
          ]
        },
        {
          "output_type": "execute_result",
          "data": {
            "text/plain": [
              "[0.2694939076900482, 0.8840931057929993]"
            ]
          },
          "metadata": {},
          "execution_count": 36
        }
      ]
    },
    {
      "cell_type": "code",
      "source": [
        ""
      ],
      "metadata": {
        "id": "oFy4M_YXME0G"
      },
      "id": "oFy4M_YXME0G",
      "execution_count": null,
      "outputs": []
    }
  ],
  "metadata": {
    "kernelspec": {
      "display_name": "Python 3 (ipykernel)",
      "language": "python",
      "name": "python3"
    },
    "language_info": {
      "codemirror_mode": {
        "name": "ipython",
        "version": 3
      },
      "file_extension": ".py",
      "mimetype": "text/x-python",
      "name": "python",
      "nbconvert_exporter": "python",
      "pygments_lexer": "ipython3",
      "version": "3.10.1"
    },
    "colab": {
      "name": "HW03.ipynb",
      "provenance": [],
      "collapsed_sections": [],
      "include_colab_link": true
    },
    "accelerator": "GPU"
  },
  "nbformat": 4,
  "nbformat_minor": 5
}