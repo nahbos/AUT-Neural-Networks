{
  "cells": [
    {
      "cell_type": "markdown",
      "source": [
        "### - Sobhan Moradian Daghigh\n",
        "#### - 5/29/2022\n",
        "#### - ANN - HW06"
      ],
      "metadata": {
        "id": "I7jdgUuc4ZD1"
      },
      "id": "I7jdgUuc4ZD1"
    },
    {
      "cell_type": "code",
      "source": [
        "import numpy as np\n",
        "import matplotlib.pyplot as plt\n",
        "import pandas as pd\n",
        "from sklearn.model_selection import train_test_split\n",
        "import urllib\n",
        "import tensorflow as tf, keras\n",
        "from sklearn.metrics import accuracy_score\n",
        "from keras.utils.vis_utils import plot_model\n",
        "from keras.models import Model\n",
        "from keras.layers import Input, Dense, Flatten\n",
        "from keras.layers.merge import concatenate\n",
        "\n",
        "import warnings\n",
        "warnings.filterwarnings(\"ignore\")\n",
        "\n",
        "import itertools\n",
        "\n",
        "%load_ext tensorboard"
      ],
      "metadata": {
        "id": "FKztuIg14YDn"
      },
      "id": "FKztuIg14YDn",
      "execution_count": 36,
      "outputs": []
    },
    {
      "cell_type": "code",
      "source": [
        "print(tf.__version__)"
      ],
      "metadata": {
        "colab": {
          "base_uri": "https://localhost:8080/"
        },
        "id": "lC6SiTti1cHr",
        "outputId": "001946a5-5327-4829-8994-c44e6277750e"
      },
      "execution_count": null,
      "outputs": [
        {
          "output_type": "stream",
          "name": "stdout",
          "text": [
            "2.8.0\n"
          ]
        }
      ],
      "id": "lC6SiTti1cHr"
    },
    {
      "cell_type": "code",
      "source": [
        "from google.colab import drive\n",
        "drive.mount('/content/drive')"
      ],
      "metadata": {
        "colab": {
          "base_uri": "https://localhost:8080/"
        },
        "id": "3_3LG3SH5vTa",
        "outputId": "d4dce845-1e3f-44d7-98ba-5732624fa535"
      },
      "execution_count": null,
      "outputs": [
        {
          "output_type": "stream",
          "name": "stdout",
          "text": [
            "Mounted at /content/drive\n"
          ]
        }
      ],
      "id": "3_3LG3SH5vTa"
    },
    {
      "cell_type": "code",
      "source": [
        "tb_callback = keras.callbacks.TensorBoard(log_dir='/content/drive/MyDrive/logs', histogram_freq=1)"
      ],
      "metadata": {
        "id": "RCNvq9tI5vO0"
      },
      "execution_count": null,
      "outputs": [],
      "id": "RCNvq9tI5vO0"
    },
    {
      "cell_type": "code",
      "source": [
        "class EarlyStoppingCallback(keras.callbacks.Callback):\n",
        "  def __init__(self, patience=0):\n",
        "    super(EarlyStoppingCallback, self).__init__()\n",
        "    self.patience = patience\n",
        "\n",
        "  def on_train_begin(self, logs=None):\n",
        "    self.best = 0\n",
        "    self.wait = 0\n",
        "  \n",
        "  def on_epoch_end(self, epoch, logs=None):\n",
        "    current_acc = logs.get('accuracy')\n",
        "    if np.less(self.best, current_acc):\n",
        "      self.best = current_acc\n",
        "      self.wait = 0\n",
        "      self.best_weights = self.model.get_weights()\n",
        "    else:\n",
        "      self.wait += 1\n",
        "      if np.greater_equal(self.wait, self.patience):\n",
        "        self.model.stop_training = True\n",
        "        self.model.set_weights(self.best_weights)"
      ],
      "metadata": {
        "id": "TFv3GdDX5vMN"
      },
      "execution_count": null,
      "outputs": [],
      "id": "TFv3GdDX5vMN"
    },
    {
      "cell_type": "code",
      "source": [
        "es_callback = EarlyStoppingCallback(patience=3)"
      ],
      "metadata": {
        "id": "PnySBYER5vJv"
      },
      "execution_count": null,
      "outputs": [],
      "id": "PnySBYER5vJv"
    },
    {
      "cell_type": "code",
      "source": [
        ""
      ],
      "metadata": {
        "id": "lvBhf7E3550C"
      },
      "execution_count": null,
      "outputs": [],
      "id": "lvBhf7E3550C"
    },
    {
      "cell_type": "markdown",
      "metadata": {
        "id": "uAIOKJAQ09qv"
      },
      "source": [
        "# Load Data"
      ],
      "id": "uAIOKJAQ09qv"
    },
    {
      "cell_type": "code",
      "source": [
        "import urllib"
      ],
      "metadata": {
        "id": "AijDZxFS4YR9"
      },
      "id": "AijDZxFS4YR9",
      "execution_count": 53,
      "outputs": []
    },
    {
      "cell_type": "code",
      "source": [
        ""
      ],
      "metadata": {
        "id": "FAZlpUhWH0lx"
      },
      "id": "FAZlpUhWH0lx",
      "execution_count": 49,
      "outputs": []
    },
    {
      "cell_type": "code",
      "source": [
        "def load_data(base_url):\n",
        "  datas = []\n",
        "\n",
        "  with urllib.request.urlopen(base_url + 'names.txt') as names:\n",
        "    idx = 0\n",
        "    for name in names.readlines():\n",
        "      name = name.decode(\"utf-8\").split('\\n')[0]\n",
        "      data = pd.read_csv(base_url + name, delimiter=',', encoding='utf-16-le')\n",
        "      if not data.empty:\n",
        "        datas.append(data)\n",
        "        print('   |_ {}- {} loaded.'.format(idx, name))\n",
        "        idx += 1\n",
        "\n",
        "  return datas"
      ],
      "metadata": {
        "id": "jFUPtL5l5vHK"
      },
      "execution_count": 96,
      "outputs": [],
      "id": "jFUPtL5l5vHK"
    },
    {
      "cell_type": "code",
      "source": [
        "base_url = 'https://raw.githubusercontent.com/nahbos/AUT-Neural-Networks/main/HW06/dataset/'\n",
        "datas = load_data(base_url)"
      ],
      "metadata": {
        "id": "NKHQFcJf6oKp",
        "outputId": "f4194835-f2b4-4f46-b635-396571120ec0",
        "colab": {
          "base_uri": "https://localhost:8080/"
        }
      },
      "execution_count": 97,
      "outputs": [
        {
          "output_type": "stream",
          "name": "stdout",
          "text": [
            "   |_ 0- IRX6XAFF0005.csv loaded.\n",
            "   |_ 1- IRX6XALS0002.csv loaded.\n",
            "   |_ 2- IRX6XS300003.csv loaded.\n",
            "   |_ 3- IRX6XSLC0000.csv loaded.\n",
            "   |_ 4- IRX6XSNT0009.csv loaded.\n",
            "   |_ 5- IRX6XTAL0001.csv loaded.\n",
            "   |_ 6- IRX6XTPI0009.csv loaded.\n",
            "   |_ 7- IRX6XTPI0009[2022-05-23-10-18-57].csv loaded.\n",
            "   |_ 8- IRX6XTPI0025.csv loaded.\n",
            "   |_ 9- IRX6XWAI0001.csv loaded.\n",
            "   |_ 10- IRXYXTPI0009.csv loaded.\n",
            "   |_ 11- IRXYXTPI0025.csv loaded.\n",
            "   |_ 12- IRXZXCMI0000.csv loaded.\n",
            "   |_ 13- IRXZXENG0009.csv loaded.\n",
            "   |_ 14- IRXZXOBM0003.csv loaded.\n",
            "   |_ 15- IRXZXOCI0008.csv loaded.\n",
            "   |_ 16- IRXZXTRI0006.csv loaded.\n",
            "   |_ 17- IRXZXWDI0007.csv loaded.\n"
          ]
        }
      ],
      "id": "NKHQFcJf6oKp"
    },
    {
      "cell_type": "code",
      "source": [
        "datas[np.random.randint(len(datas))].head()"
      ],
      "metadata": {
        "id": "Fotw25TII0lg",
        "outputId": "0909bfeb-d2c6-4cc4-f95a-73cd32985af3",
        "colab": {
          "base_uri": "https://localhost:8080/",
          "height": 206
        }
      },
      "id": "Fotw25TII0lg",
      "execution_count": 108,
      "outputs": [
        {
          "output_type": "execute_result",
          "data": {
            "text/plain": [
              "             <TICKER>  <DTYYYYMMDD>  <OPEN>  <HIGH>  <LOW>  <CLOSE>     <VOL>  \\\n",
              "0  شاخص50شركت_فعالتر6      20081206   370.2   370.2  367.8    367.8   1689796   \n",
              "1  شاخص50شركت_فعالتر6      20081207   367.8   367.8  364.2    364.2   3309008   \n",
              "2  شاخص50شركت_فعالتر6      20081208   362.2   362.2  361.5    361.5   4889069   \n",
              "3  شاخص50شركت_فعالتر6      20081210   359.5   359.5  356.1    356.1   8583982   \n",
              "4  شاخص50شركت_فعالتر6      20081213   354.2   354.2  351.1    351.1  26202686   \n",
              "\n",
              "      <OPENINT>  <OPENINT>.1  <OPENINT>.2       <COl12>            <COl13>  \\\n",
              "0  3.022612e+09          379          0.0  Top 50 Index  شاخص50شركت_فعالتر   \n",
              "1  6.070659e+09          586        367.8  Top 50 Index  شاخص50شركت_فعالتر   \n",
              "2  7.873401e+09          945        364.2  Top 50 Index  شاخص50شركت_فعالتر   \n",
              "3  1.627066e+10          709        361.5  Top 50 Index  شاخص50شركت_فعالتر   \n",
              "4  5.026677e+10         2010        356.1  Top 50 Index  شاخص50شركت_فعالتر   \n",
              "\n",
              "   <LAST>  \n",
              "0   367.8  \n",
              "1   364.2  \n",
              "2   361.5  \n",
              "3   356.1  \n",
              "4   351.1  "
            ],
            "text/html": [
              "\n",
              "  <div id=\"df-d250c9de-77d5-40f6-822f-7f4f6ed45898\">\n",
              "    <div class=\"colab-df-container\">\n",
              "      <div>\n",
              "<style scoped>\n",
              "    .dataframe tbody tr th:only-of-type {\n",
              "        vertical-align: middle;\n",
              "    }\n",
              "\n",
              "    .dataframe tbody tr th {\n",
              "        vertical-align: top;\n",
              "    }\n",
              "\n",
              "    .dataframe thead th {\n",
              "        text-align: right;\n",
              "    }\n",
              "</style>\n",
              "<table border=\"1\" class=\"dataframe\">\n",
              "  <thead>\n",
              "    <tr style=\"text-align: right;\">\n",
              "      <th></th>\n",
              "      <th>&lt;TICKER&gt;</th>\n",
              "      <th>&lt;DTYYYYMMDD&gt;</th>\n",
              "      <th>&lt;OPEN&gt;</th>\n",
              "      <th>&lt;HIGH&gt;</th>\n",
              "      <th>&lt;LOW&gt;</th>\n",
              "      <th>&lt;CLOSE&gt;</th>\n",
              "      <th>&lt;VOL&gt;</th>\n",
              "      <th>&lt;OPENINT&gt;</th>\n",
              "      <th>&lt;OPENINT&gt;.1</th>\n",
              "      <th>&lt;OPENINT&gt;.2</th>\n",
              "      <th>&lt;COl12&gt;</th>\n",
              "      <th>&lt;COl13&gt;</th>\n",
              "      <th>&lt;LAST&gt;</th>\n",
              "    </tr>\n",
              "  </thead>\n",
              "  <tbody>\n",
              "    <tr>\n",
              "      <th>0</th>\n",
              "      <td>شاخص50شركت_فعالتر6</td>\n",
              "      <td>20081206</td>\n",
              "      <td>370.2</td>\n",
              "      <td>370.2</td>\n",
              "      <td>367.8</td>\n",
              "      <td>367.8</td>\n",
              "      <td>1689796</td>\n",
              "      <td>3.022612e+09</td>\n",
              "      <td>379</td>\n",
              "      <td>0.0</td>\n",
              "      <td>Top 50 Index</td>\n",
              "      <td>شاخص50شركت_فعالتر</td>\n",
              "      <td>367.8</td>\n",
              "    </tr>\n",
              "    <tr>\n",
              "      <th>1</th>\n",
              "      <td>شاخص50شركت_فعالتر6</td>\n",
              "      <td>20081207</td>\n",
              "      <td>367.8</td>\n",
              "      <td>367.8</td>\n",
              "      <td>364.2</td>\n",
              "      <td>364.2</td>\n",
              "      <td>3309008</td>\n",
              "      <td>6.070659e+09</td>\n",
              "      <td>586</td>\n",
              "      <td>367.8</td>\n",
              "      <td>Top 50 Index</td>\n",
              "      <td>شاخص50شركت_فعالتر</td>\n",
              "      <td>364.2</td>\n",
              "    </tr>\n",
              "    <tr>\n",
              "      <th>2</th>\n",
              "      <td>شاخص50شركت_فعالتر6</td>\n",
              "      <td>20081208</td>\n",
              "      <td>362.2</td>\n",
              "      <td>362.2</td>\n",
              "      <td>361.5</td>\n",
              "      <td>361.5</td>\n",
              "      <td>4889069</td>\n",
              "      <td>7.873401e+09</td>\n",
              "      <td>945</td>\n",
              "      <td>364.2</td>\n",
              "      <td>Top 50 Index</td>\n",
              "      <td>شاخص50شركت_فعالتر</td>\n",
              "      <td>361.5</td>\n",
              "    </tr>\n",
              "    <tr>\n",
              "      <th>3</th>\n",
              "      <td>شاخص50شركت_فعالتر6</td>\n",
              "      <td>20081210</td>\n",
              "      <td>359.5</td>\n",
              "      <td>359.5</td>\n",
              "      <td>356.1</td>\n",
              "      <td>356.1</td>\n",
              "      <td>8583982</td>\n",
              "      <td>1.627066e+10</td>\n",
              "      <td>709</td>\n",
              "      <td>361.5</td>\n",
              "      <td>Top 50 Index</td>\n",
              "      <td>شاخص50شركت_فعالتر</td>\n",
              "      <td>356.1</td>\n",
              "    </tr>\n",
              "    <tr>\n",
              "      <th>4</th>\n",
              "      <td>شاخص50شركت_فعالتر6</td>\n",
              "      <td>20081213</td>\n",
              "      <td>354.2</td>\n",
              "      <td>354.2</td>\n",
              "      <td>351.1</td>\n",
              "      <td>351.1</td>\n",
              "      <td>26202686</td>\n",
              "      <td>5.026677e+10</td>\n",
              "      <td>2010</td>\n",
              "      <td>356.1</td>\n",
              "      <td>Top 50 Index</td>\n",
              "      <td>شاخص50شركت_فعالتر</td>\n",
              "      <td>351.1</td>\n",
              "    </tr>\n",
              "  </tbody>\n",
              "</table>\n",
              "</div>\n",
              "      <button class=\"colab-df-convert\" onclick=\"convertToInteractive('df-d250c9de-77d5-40f6-822f-7f4f6ed45898')\"\n",
              "              title=\"Convert this dataframe to an interactive table.\"\n",
              "              style=\"display:none;\">\n",
              "        \n",
              "  <svg xmlns=\"http://www.w3.org/2000/svg\" height=\"24px\"viewBox=\"0 0 24 24\"\n",
              "       width=\"24px\">\n",
              "    <path d=\"M0 0h24v24H0V0z\" fill=\"none\"/>\n",
              "    <path d=\"M18.56 5.44l.94 2.06.94-2.06 2.06-.94-2.06-.94-.94-2.06-.94 2.06-2.06.94zm-11 1L8.5 8.5l.94-2.06 2.06-.94-2.06-.94L8.5 2.5l-.94 2.06-2.06.94zm10 10l.94 2.06.94-2.06 2.06-.94-2.06-.94-.94-2.06-.94 2.06-2.06.94z\"/><path d=\"M17.41 7.96l-1.37-1.37c-.4-.4-.92-.59-1.43-.59-.52 0-1.04.2-1.43.59L10.3 9.45l-7.72 7.72c-.78.78-.78 2.05 0 2.83L4 21.41c.39.39.9.59 1.41.59.51 0 1.02-.2 1.41-.59l7.78-7.78 2.81-2.81c.8-.78.8-2.07 0-2.86zM5.41 20L4 18.59l7.72-7.72 1.47 1.35L5.41 20z\"/>\n",
              "  </svg>\n",
              "      </button>\n",
              "      \n",
              "  <style>\n",
              "    .colab-df-container {\n",
              "      display:flex;\n",
              "      flex-wrap:wrap;\n",
              "      gap: 12px;\n",
              "    }\n",
              "\n",
              "    .colab-df-convert {\n",
              "      background-color: #E8F0FE;\n",
              "      border: none;\n",
              "      border-radius: 50%;\n",
              "      cursor: pointer;\n",
              "      display: none;\n",
              "      fill: #1967D2;\n",
              "      height: 32px;\n",
              "      padding: 0 0 0 0;\n",
              "      width: 32px;\n",
              "    }\n",
              "\n",
              "    .colab-df-convert:hover {\n",
              "      background-color: #E2EBFA;\n",
              "      box-shadow: 0px 1px 2px rgba(60, 64, 67, 0.3), 0px 1px 3px 1px rgba(60, 64, 67, 0.15);\n",
              "      fill: #174EA6;\n",
              "    }\n",
              "\n",
              "    [theme=dark] .colab-df-convert {\n",
              "      background-color: #3B4455;\n",
              "      fill: #D2E3FC;\n",
              "    }\n",
              "\n",
              "    [theme=dark] .colab-df-convert:hover {\n",
              "      background-color: #434B5C;\n",
              "      box-shadow: 0px 1px 3px 1px rgba(0, 0, 0, 0.15);\n",
              "      filter: drop-shadow(0px 1px 2px rgba(0, 0, 0, 0.3));\n",
              "      fill: #FFFFFF;\n",
              "    }\n",
              "  </style>\n",
              "\n",
              "      <script>\n",
              "        const buttonEl =\n",
              "          document.querySelector('#df-d250c9de-77d5-40f6-822f-7f4f6ed45898 button.colab-df-convert');\n",
              "        buttonEl.style.display =\n",
              "          google.colab.kernel.accessAllowed ? 'block' : 'none';\n",
              "\n",
              "        async function convertToInteractive(key) {\n",
              "          const element = document.querySelector('#df-d250c9de-77d5-40f6-822f-7f4f6ed45898');\n",
              "          const dataTable =\n",
              "            await google.colab.kernel.invokeFunction('convertToInteractive',\n",
              "                                                     [key], {});\n",
              "          if (!dataTable) return;\n",
              "\n",
              "          const docLinkHtml = 'Like what you see? Visit the ' +\n",
              "            '<a target=\"_blank\" href=https://colab.research.google.com/notebooks/data_table.ipynb>data table notebook</a>'\n",
              "            + ' to learn more about interactive tables.';\n",
              "          element.innerHTML = '';\n",
              "          dataTable['output_type'] = 'display_data';\n",
              "          await google.colab.output.renderOutput(dataTable, element);\n",
              "          const docLink = document.createElement('div');\n",
              "          docLink.innerHTML = docLinkHtml;\n",
              "          element.appendChild(docLink);\n",
              "        }\n",
              "      </script>\n",
              "    </div>\n",
              "  </div>\n",
              "  "
            ]
          },
          "metadata": {},
          "execution_count": 108
        }
      ]
    },
    {
      "cell_type": "code",
      "source": [
        ""
      ],
      "metadata": {
        "id": "4TNK9ggH4YXV"
      },
      "id": "4TNK9ggH4YXV",
      "execution_count": null,
      "outputs": []
    },
    {
      "cell_type": "code",
      "source": [
        ""
      ],
      "metadata": {
        "id": "dulxQuD1-AlY"
      },
      "id": "dulxQuD1-AlY",
      "execution_count": null,
      "outputs": []
    },
    {
      "cell_type": "markdown",
      "source": [
        "## LSTM"
      ],
      "metadata": {
        "id": "KGdrNo-xSs21"
      },
      "id": "KGdrNo-xSs21"
    },
    {
      "cell_type": "code",
      "source": [
        ""
      ],
      "metadata": {
        "id": "PqvZLsg9-Aij"
      },
      "id": "PqvZLsg9-Aij",
      "execution_count": null,
      "outputs": []
    },
    {
      "cell_type": "code",
      "source": [
        ""
      ],
      "metadata": {
        "id": "ZPbzdk9U-Aat"
      },
      "id": "ZPbzdk9U-Aat",
      "execution_count": null,
      "outputs": []
    },
    {
      "cell_type": "code",
      "source": [
        ""
      ],
      "metadata": {
        "id": "Z-B-VImZ-AYE"
      },
      "id": "Z-B-VImZ-AYE",
      "execution_count": null,
      "outputs": []
    },
    {
      "cell_type": "code",
      "source": [
        ""
      ],
      "metadata": {
        "id": "VUu6WHq5-AVc"
      },
      "id": "VUu6WHq5-AVc",
      "execution_count": null,
      "outputs": []
    },
    {
      "cell_type": "code",
      "source": [
        ""
      ],
      "metadata": {
        "id": "3_XritUt-AS1"
      },
      "id": "3_XritUt-AS1",
      "execution_count": null,
      "outputs": []
    },
    {
      "cell_type": "code",
      "source": [
        ""
      ],
      "metadata": {
        "id": "jKtx1XO2-AQL"
      },
      "id": "jKtx1XO2-AQL",
      "execution_count": null,
      "outputs": []
    },
    {
      "cell_type": "code",
      "source": [
        ""
      ],
      "metadata": {
        "id": "uOXPnt2Q-AIL"
      },
      "id": "uOXPnt2Q-AIL",
      "execution_count": null,
      "outputs": []
    },
    {
      "cell_type": "code",
      "source": [
        ""
      ],
      "metadata": {
        "id": "1LTb6VTT-AFk"
      },
      "id": "1LTb6VTT-AFk",
      "execution_count": null,
      "outputs": []
    },
    {
      "cell_type": "code",
      "source": [
        ""
      ],
      "metadata": {
        "id": "TBlFFJbu-AC4"
      },
      "id": "TBlFFJbu-AC4",
      "execution_count": null,
      "outputs": []
    },
    {
      "cell_type": "code",
      "source": [
        ""
      ],
      "metadata": {
        "id": "bjuGutvu-AAT"
      },
      "id": "bjuGutvu-AAT",
      "execution_count": null,
      "outputs": []
    },
    {
      "cell_type": "code",
      "source": [
        ""
      ],
      "metadata": {
        "id": "2CwtScUw9_9x"
      },
      "id": "2CwtScUw9_9x",
      "execution_count": null,
      "outputs": []
    },
    {
      "cell_type": "code",
      "source": [
        ""
      ],
      "metadata": {
        "id": "bM3Gy-yP9_68"
      },
      "id": "bM3Gy-yP9_68",
      "execution_count": null,
      "outputs": []
    },
    {
      "cell_type": "code",
      "source": [
        ""
      ],
      "metadata": {
        "id": "MHCdlkiD9_4U"
      },
      "id": "MHCdlkiD9_4U",
      "execution_count": null,
      "outputs": []
    },
    {
      "cell_type": "code",
      "source": [
        ""
      ],
      "metadata": {
        "id": "tRfcGfPp9_1b"
      },
      "id": "tRfcGfPp9_1b",
      "execution_count": null,
      "outputs": []
    },
    {
      "cell_type": "code",
      "source": [
        ""
      ],
      "metadata": {
        "id": "pv-9BFVg9_yr"
      },
      "id": "pv-9BFVg9_yr",
      "execution_count": null,
      "outputs": []
    }
  ],
  "metadata": {
    "colab": {
      "name": "HW06.ipynb",
      "provenance": []
    },
    "language_info": {
      "name": "python"
    },
    "kernelspec": {
      "name": "python3",
      "display_name": "Python 3"
    }
  },
  "nbformat": 4,
  "nbformat_minor": 5
}