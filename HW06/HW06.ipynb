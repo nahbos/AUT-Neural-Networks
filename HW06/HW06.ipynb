{
  "cells": [
    {
      "cell_type": "markdown",
      "source": [
        "### - Sobhan Moradian Daghigh\n",
        "#### - 5/29/2022\n",
        "#### - ANN - HW06"
      ],
      "metadata": {
        "id": "I7jdgUuc4ZD1"
      },
      "id": "I7jdgUuc4ZD1"
    },
    {
      "cell_type": "code",
      "source": [
        "import numpy as np\n",
        "import matplotlib.pyplot as plt\n",
        "import pandas as pd\n",
        "from sklearn.model_selection import train_test_split\n",
        "from sklearn.preprocessing import MinMaxScaler\n",
        "import urllib\n",
        "import pickle\n",
        "from sklearn.metrics import confusion_matrix\n",
        "\n",
        "import tensorflow as tf, keras\n",
        "from keras.utils.vis_utils import plot_model\n",
        "from keras.models import Sequential\n",
        "from keras.layers import Input, Dense, Flatten, LSTM, Dropout, GRU\n",
        "\n",
        "import warnings\n",
        "warnings.filterwarnings(\"ignore\")\n",
        "\n",
        "import itertools\n",
        "\n",
        "%load_ext tensorboard"
      ],
      "metadata": {
        "id": "FKztuIg14YDn"
      },
      "id": "FKztuIg14YDn",
      "execution_count": 3,
      "outputs": []
    },
    {
      "cell_type": "code",
      "source": [
        "print(tf.__version__)"
      ],
      "metadata": {
        "colab": {
          "base_uri": "https://localhost:8080/"
        },
        "id": "lC6SiTti1cHr",
        "outputId": "94d0f2d6-009e-4786-90bb-15ca9595d5eb"
      },
      "execution_count": 4,
      "outputs": [
        {
          "output_type": "stream",
          "name": "stdout",
          "text": [
            "2.8.2\n"
          ]
        }
      ],
      "id": "lC6SiTti1cHr"
    },
    {
      "cell_type": "code",
      "source": [
        "from google.colab import drive\n",
        "drive.mount('/content/drive', force_remount=True)"
      ],
      "metadata": {
        "colab": {
          "base_uri": "https://localhost:8080/"
        },
        "id": "3_3LG3SH5vTa",
        "outputId": "0e334fd9-65b1-4c6f-b442-82d93b615c53"
      },
      "execution_count": 5,
      "outputs": [
        {
          "output_type": "stream",
          "name": "stdout",
          "text": [
            "Mounted at /content/drive\n"
          ]
        }
      ],
      "id": "3_3LG3SH5vTa"
    },
    {
      "cell_type": "code",
      "source": [
        "tb_callback = keras.callbacks.TensorBoard(log_dir='/content/drive/MyDrive/logs', histogram_freq=1)"
      ],
      "metadata": {
        "id": "RCNvq9tI5vO0"
      },
      "execution_count": 6,
      "outputs": [],
      "id": "RCNvq9tI5vO0"
    },
    {
      "cell_type": "code",
      "source": [
        "class EarlyStoppingCallback(keras.callbacks.Callback):\n",
        "  def __init__(self, patience=0):\n",
        "    super(EarlyStoppingCallback, self).__init__()\n",
        "    self.patience = patience\n",
        "\n",
        "  def on_train_begin(self, logs=None):\n",
        "    self.best = np.inf\n",
        "    self.wait = 0\n",
        "  \n",
        "  def on_epoch_end(self, epoch, logs=None):\n",
        "    current_loss = logs.get('loss')\n",
        "    if np.less(current_loss, self.best):\n",
        "      self.best = current_loss\n",
        "      self.wait = 0\n",
        "      self.best_weights = self.model.get_weights()\n",
        "    else:\n",
        "      self.wait += 1\n",
        "      if np.greater_equal(self.wait, self.patience):\n",
        "        self.model.stop_training = True\n",
        "        self.model.set_weights(self.best_weights)"
      ],
      "metadata": {
        "id": "TFv3GdDX5vMN"
      },
      "execution_count": 7,
      "outputs": [],
      "id": "TFv3GdDX5vMN"
    },
    {
      "cell_type": "code",
      "source": [
        "es_callback = EarlyStoppingCallback(patience=3)"
      ],
      "metadata": {
        "id": "PnySBYER5vJv"
      },
      "execution_count": 8,
      "outputs": [],
      "id": "PnySBYER5vJv"
    },
    {
      "cell_type": "code",
      "source": [
        ""
      ],
      "metadata": {
        "id": "lvBhf7E3550C"
      },
      "execution_count": 8,
      "outputs": [],
      "id": "lvBhf7E3550C"
    },
    {
      "cell_type": "markdown",
      "metadata": {
        "id": "uAIOKJAQ09qv"
      },
      "source": [
        "# Load Data"
      ],
      "id": "uAIOKJAQ09qv"
    },
    {
      "cell_type": "code",
      "source": [
        ""
      ],
      "metadata": {
        "id": "AijDZxFS4YR9"
      },
      "id": "AijDZxFS4YR9",
      "execution_count": 8,
      "outputs": []
    },
    {
      "cell_type": "code",
      "source": [
        " "
      ],
      "metadata": {
        "id": "FAZlpUhWH0lx"
      },
      "id": "FAZlpUhWH0lx",
      "execution_count": 8,
      "outputs": []
    },
    {
      "cell_type": "code",
      "source": [
        "def load_data(base_url):\n",
        "  merged_data = pd.DataFrame(columns=['<DTYYYYMMDD>'])\n",
        "  file_names = []\n",
        "  total_index_csv = None\n",
        "\n",
        "  with urllib.request.urlopen(base_url + 'names.txt') as names:\n",
        "    idx = 0\n",
        "    for name in names.readlines():\n",
        "      name = name.decode(\"utf-8\").split('\\n')[0]\n",
        "      data = pd.read_csv(base_url + name, delimiter=',', encoding='utf-16_le')\n",
        "      if not data.empty:\n",
        "        data = pd.DataFrame(data[(data['<DTYYYYMMDD>'] > 20210522)], columns=data.columns).reset_index(drop=True) # Filter 1 year\n",
        "        drop_attrs = [0, 10, 11] # Drop attrs: <TICKER>, <COl12>, <COl13>\n",
        "        data.drop(data.columns[drop_attrs], axis=1, inplace=True)\n",
        "        \n",
        "        if name != 'IRX6XTPI0009.csv':\n",
        "          merged_data = pd.merge(merged_data, data, left_on='<DTYYYYMMDD>', right_on='<DTYYYYMMDD>', how=\"right\", sort=False)\n",
        "        else:\n",
        "          total_index_csv = data\n",
        "\n",
        "        file_names.append(name)\n",
        "        print('   |_ {}- {} loaded.'.format(idx, name))\n",
        "        idx += 1\n",
        "\n",
        "  return merged_data, total_index_csv, file_names"
      ],
      "metadata": {
        "id": "jFUPtL5l5vHK"
      },
      "execution_count": 9,
      "outputs": [],
      "id": "jFUPtL5l5vHK"
    },
    {
      "cell_type": "code",
      "source": [
        "base_url = 'https://raw.githubusercontent.com/nahbos/AUT-Neural-Networks/main/HW06/dataset/'\n",
        "merged_data, total_index_csv, names = load_data(base_url)"
      ],
      "metadata": {
        "id": "NKHQFcJf6oKp",
        "colab": {
          "base_uri": "https://localhost:8080/"
        },
        "outputId": "493abd2f-6ce5-4427-bccd-808a5e21abb1"
      },
      "execution_count": 10,
      "outputs": [
        {
          "output_type": "stream",
          "name": "stdout",
          "text": [
            "   |_ 0- IRX6XAFF0005.csv loaded.\n",
            "   |_ 1- IRX6XALS0002.csv loaded.\n",
            "   |_ 2- IRX6XS300003.csv loaded.\n",
            "   |_ 3- IRX6XSLC0000.csv loaded.\n",
            "   |_ 4- IRX6XSNT0009.csv loaded.\n",
            "   |_ 5- IRX6XTAL0001.csv loaded.\n",
            "   |_ 6- IRX6XTPI0009.csv loaded.\n",
            "   |_ 7- IRX6XTPI0025.csv loaded.\n",
            "   |_ 8- IRX6XWAI0001.csv loaded.\n",
            "   |_ 9- IRXYXTPI0009.csv loaded.\n",
            "   |_ 10- IRXYXTPI0025.csv loaded.\n",
            "   |_ 11- IRXZXCMI0000.csv loaded.\n",
            "   |_ 12- IRXZXENG0009.csv loaded.\n",
            "   |_ 13- IRXZXOCI0008.csv loaded.\n",
            "   |_ 14- IRXZXTRI0006.csv loaded.\n",
            "   |_ 15- IRXZXWDI0007.csv loaded.\n"
          ]
        }
      ],
      "id": "NKHQFcJf6oKp"
    },
    {
      "cell_type": "code",
      "source": [
        "# merged_data[merged_data.isna().any(axis=1)].iloc[0, :]"
      ],
      "metadata": {
        "id": "3u8M5T9fOFrc"
      },
      "id": "3u8M5T9fOFrc",
      "execution_count": 11,
      "outputs": []
    },
    {
      "cell_type": "code",
      "source": [
        "merged_data.shape"
      ],
      "metadata": {
        "colab": {
          "base_uri": "https://localhost:8080/"
        },
        "id": "odM1lBg7FM4X",
        "outputId": "8019dbde-12e8-454a-844d-292f811756b6"
      },
      "id": "odM1lBg7FM4X",
      "execution_count": 12,
      "outputs": [
        {
          "output_type": "execute_result",
          "data": {
            "text/plain": [
              "(237, 136)"
            ]
          },
          "metadata": {},
          "execution_count": 12
        }
      ]
    },
    {
      "cell_type": "code",
      "source": [
        "total_index_csv.info()"
      ],
      "metadata": {
        "colab": {
          "base_uri": "https://localhost:8080/"
        },
        "id": "Fotw25TII0lg",
        "outputId": "ca823f1e-8356-40d5-87a1-c39adc3b8ed6"
      },
      "id": "Fotw25TII0lg",
      "execution_count": 13,
      "outputs": [
        {
          "output_type": "stream",
          "name": "stdout",
          "text": [
            "<class 'pandas.core.frame.DataFrame'>\n",
            "RangeIndex: 237 entries, 0 to 236\n",
            "Data columns (total 10 columns):\n",
            " #   Column        Non-Null Count  Dtype  \n",
            "---  ------        --------------  -----  \n",
            " 0   <DTYYYYMMDD>  237 non-null    int64  \n",
            " 1   <OPEN>        237 non-null    float64\n",
            " 2   <HIGH>        237 non-null    float64\n",
            " 3   <LOW>         237 non-null    float64\n",
            " 4   <CLOSE>       237 non-null    float64\n",
            " 5   <VOL>         237 non-null    int64  \n",
            " 6   <OPENINT>     237 non-null    float64\n",
            " 7   <OPENINT>.1   237 non-null    int64  \n",
            " 8   <OPENINT>.2   237 non-null    float64\n",
            " 9   <LAST>        237 non-null    float64\n",
            "dtypes: float64(7), int64(3)\n",
            "memory usage: 18.6 KB\n"
          ]
        }
      ]
    },
    {
      "cell_type": "code",
      "source": [
        "plt.figure(figsize = (15, 8))\n",
        "plt.plot(range(total_index_csv.shape[0]), total_index_csv['<CLOSE>'])\n",
        "plt.xticks(range(0, total_index_csv.shape[0], 20), total_index_csv['<DTYYYYMMDD>'].loc[::20], rotation=30)\n",
        "plt.title('Total Index Datas')\n",
        "plt.xlabel('Date', fontsize=13)\n",
        "plt.ylabel('Close', fontsize=13)\n",
        "plt.show()"
      ],
      "metadata": {
        "colab": {
          "base_uri": "https://localhost:8080/",
          "height": 540
        },
        "id": "4TNK9ggH4YXV",
        "outputId": "0be6d959-fcee-4ca9-f94f-ef29fe203aa4"
      },
      "id": "4TNK9ggH4YXV",
      "execution_count": 14,
      "outputs": [
        {
          "output_type": "display_data",
          "data": {
            "text/plain": [
              "<Figure size 1080x576 with 1 Axes>"
            ],
            "image/png": "[encoded data removed]"
          },
          "metadata": {
            "needs_background": "light"
          }
        }
      ]
    },
    {
      "cell_type": "code",
      "source": [
        ""
      ],
      "metadata": {
        "id": "kbn_3zlfiNkD"
      },
      "id": "kbn_3zlfiNkD",
      "execution_count": 14,
      "outputs": []
    },
    {
      "cell_type": "markdown",
      "source": [
        "## Data Normalization"
      ],
      "metadata": {
        "id": "6SLVVFCwiN-z"
      },
      "id": "6SLVVFCwiN-z"
    },
    {
      "cell_type": "code",
      "source": [
        "scaler = MinMaxScaler(feature_range=(0, 1))\n",
        "data_scaled = pd.DataFrame(scaler.fit_transform(merged_data), columns=merged_data.columns)"
      ],
      "metadata": {
        "id": "imv09P2ZiNhh"
      },
      "id": "imv09P2ZiNhh",
      "execution_count": 15,
      "outputs": []
    },
    {
      "cell_type": "code",
      "source": [
        ""
      ],
      "metadata": {
        "id": "rnbqiX28mbGw"
      },
      "id": "rnbqiX28mbGw",
      "execution_count": 15,
      "outputs": []
    },
    {
      "cell_type": "markdown",
      "source": [
        "## Define time steps"
      ],
      "metadata": {
        "id": "V2Y31R0NfUek"
      },
      "id": "V2Y31R0NfUek"
    },
    {
      "cell_type": "code",
      "source": [
        "x_timesteps = []\n",
        "y_timesteps = []\n",
        "timesteps_size = 25\n",
        "\n",
        "for i in range(data_scaled.shape[0] - timesteps_size):\n",
        "  x_timesteps.append(data_scaled.to_numpy()[i:i + timesteps_size, :])\n",
        "\n",
        "  if total_index_csv.loc[i + timesteps_size, '<CLOSE>'] > total_index_csv.loc[i + timesteps_size - 1, '<CLOSE>']:\n",
        "    y_timesteps.append(1)\n",
        "  else:\n",
        "    y_timesteps.append(0)\n",
        "\n",
        "x_train_val_timesteps, y_train_val_timesteps = np.array(x_timesteps), np.array(y_timesteps)\n",
        "x_train_val_timesteps = np.reshape(x_train_val_timesteps, (x_train_val_timesteps.shape[0], x_train_val_timesteps.shape[1], data_scaled.shape[1]))\n",
        "\n",
        "x_temp, x_test, y_temp, y_test = train_test_split(x_train_val_timesteps, y_train_val_timesteps, test_size=0.2, random_state=0, stratify=y_train_val_timesteps)\n",
        "x_train, x_val, y_train, y_val = train_test_split(x_temp, y_temp, test_size=0.125, random_state=0, stratify=y_temp)"
      ],
      "metadata": {
        "id": "YZp5ixbLiNcZ"
      },
      "id": "YZp5ixbLiNcZ",
      "execution_count": 16,
      "outputs": []
    },
    {
      "cell_type": "code",
      "source": [
        "np.unique(y_train_val_timesteps, return_counts=True)"
      ],
      "metadata": {
        "colab": {
          "base_uri": "https://localhost:8080/"
        },
        "id": "ZTrLUqwYdKZf",
        "outputId": "6cbc96a1-c45b-4973-8c74-84aec9b48607"
      },
      "id": "ZTrLUqwYdKZf",
      "execution_count": 17,
      "outputs": [
        {
          "output_type": "execute_result",
          "data": {
            "text/plain": [
              "(array([0, 1]), array([ 92, 120]))"
            ]
          },
          "metadata": {},
          "execution_count": 17
        }
      ]
    },
    {
      "cell_type": "code",
      "source": [
        "x_train.shape"
      ],
      "metadata": {
        "colab": {
          "base_uri": "https://localhost:8080/"
        },
        "id": "8WyY25ZY5s-K",
        "outputId": "8637769a-4c38-41d8-c450-ec7bfcbdc4c7"
      },
      "id": "8WyY25ZY5s-K",
      "execution_count": 18,
      "outputs": [
        {
          "output_type": "execute_result",
          "data": {
            "text/plain": [
              "(147, 25, 136)"
            ]
          },
          "metadata": {},
          "execution_count": 18
        }
      ]
    },
    {
      "cell_type": "code",
      "source": [
        "x_val.shape"
      ],
      "metadata": {
        "colab": {
          "base_uri": "https://localhost:8080/"
        },
        "id": "N3m4uMqcPT5k",
        "outputId": "b5a9a38b-c1a2-45ce-b748-4454be9bb720"
      },
      "id": "N3m4uMqcPT5k",
      "execution_count": 19,
      "outputs": [
        {
          "output_type": "execute_result",
          "data": {
            "text/plain": [
              "(22, 25, 136)"
            ]
          },
          "metadata": {},
          "execution_count": 19
        }
      ]
    },
    {
      "cell_type": "code",
      "source": [
        "x_test.shape"
      ],
      "metadata": {
        "colab": {
          "base_uri": "https://localhost:8080/"
        },
        "id": "thm2lcO7PTyt",
        "outputId": "517b27d2-790b-4fb1-f217-d9a7addb0cb0"
      },
      "id": "thm2lcO7PTyt",
      "execution_count": 20,
      "outputs": [
        {
          "output_type": "execute_result",
          "data": {
            "text/plain": [
              "(43, 25, 136)"
            ]
          },
          "metadata": {},
          "execution_count": 20
        }
      ]
    },
    {
      "cell_type": "code",
      "source": [
        "np.unique(y_train, return_counts=True)"
      ],
      "metadata": {
        "colab": {
          "base_uri": "https://localhost:8080/"
        },
        "id": "aqKyCsCGbn5J",
        "outputId": "c7edad20-66a0-423e-bb2a-a548b7290e4a"
      },
      "id": "aqKyCsCGbn5J",
      "execution_count": 21,
      "outputs": [
        {
          "output_type": "execute_result",
          "data": {
            "text/plain": [
              "(array([0, 1]), array([63, 84]))"
            ]
          },
          "metadata": {},
          "execution_count": 21
        }
      ]
    },
    {
      "cell_type": "code",
      "source": [
        "label_0 = np.unique(y_train, return_counts=True)[1][0]\n",
        "label_1 = np.unique(y_train, return_counts=True)[1][1]\n",
        "\n",
        "print('Labels percentages in Train dataset:')\n",
        "print('   |_ 0: {} %'.format(round(label_0/len(y_train), 2)))\n",
        "print('   |_ 1: {} %'.format(round(label_1/len(y_train), 2)))"
      ],
      "metadata": {
        "colab": {
          "base_uri": "https://localhost:8080/"
        },
        "id": "Rw7tDQM-xKps",
        "outputId": "73bf9ef8-461c-4538-e964-344234a5f23d"
      },
      "id": "Rw7tDQM-xKps",
      "execution_count": 22,
      "outputs": [
        {
          "output_type": "stream",
          "name": "stdout",
          "text": [
            "Labels percentages in Train dataset:\n",
            "   |_ 0: 0.43 %\n",
            "   |_ 1: 0.57 %\n"
          ]
        }
      ]
    },
    {
      "cell_type": "code",
      "source": [
        "label_0 = np.unique(y_test, return_counts=True)[1][0]\n",
        "label_1 = np.unique(y_test, return_counts=True)[1][1]\n",
        "\n",
        "print('Labels percentages in Test dataset:')\n",
        "print('   |_ 0: {} %'.format(round(label_0/len(y_test), 2)))\n",
        "print('   |_ 1: {} %'.format(round(label_1/len(y_test), 2)))"
      ],
      "metadata": {
        "colab": {
          "base_uri": "https://localhost:8080/"
        },
        "id": "n28Qh2Ehe7kQ",
        "outputId": "85b0d016-d3d3-4992-c94d-c0e40e48b561"
      },
      "id": "n28Qh2Ehe7kQ",
      "execution_count": 23,
      "outputs": [
        {
          "output_type": "stream",
          "name": "stdout",
          "text": [
            "Labels percentages in Test dataset:\n",
            "   |_ 0: 0.44 %\n",
            "   |_ 1: 0.56 %\n"
          ]
        }
      ]
    },
    {
      "cell_type": "code",
      "source": [
        ""
      ],
      "metadata": {
        "id": "6lHf13Cnezjf"
      },
      "id": "6lHf13Cnezjf",
      "execution_count": 23,
      "outputs": []
    },
    {
      "cell_type": "markdown",
      "source": [
        "## LSTM"
      ],
      "metadata": {
        "id": "KGdrNo-xSs21"
      },
      "id": "KGdrNo-xSs21"
    },
    {
      "cell_type": "markdown",
      "source": [
        "### Model 1:"
      ],
      "metadata": {
        "id": "kSOLe1y8uMG5"
      },
      "id": "kSOLe1y8uMG5"
    },
    {
      "cell_type": "code",
      "source": [
        "model = Sequential()\n",
        "model.add(LSTM(units=10, input_shape=(x_train.shape[1], x_train.shape[2])))\n",
        "model.add(Dropout(0.1))\n",
        "model.add(Dense(units=1))"
      ],
      "metadata": {
        "id": "CEgiuCbgQD6G"
      },
      "id": "CEgiuCbgQD6G",
      "execution_count": 283,
      "outputs": []
    },
    {
      "cell_type": "code",
      "source": [
        "model.compile(optimizer='adam', loss='binary_crossentropy', metrics=['accuracy'])\n",
        "model.summary()"
      ],
      "metadata": {
        "colab": {
          "base_uri": "https://localhost:8080/"
        },
        "id": "VTku-k4jQGnE",
        "outputId": "e1755d94-741d-4efe-cf66-8c79b19a6725"
      },
      "id": "VTku-k4jQGnE",
      "execution_count": 284,
      "outputs": [
        {
          "output_type": "stream",
          "name": "stdout",
          "text": [
            "Model: \"sequential_28\"\n",
            "_________________________________________________________________\n",
            " Layer (type)                Output Shape              Param #   \n",
            "=================================================================\n",
            " lstm_57 (LSTM)              (None, 10)                5880      \n",
            "                                                                 \n",
            " dropout_36 (Dropout)        (None, 10)                0         \n",
            "                                                                 \n",
            " dense_28 (Dense)            (None, 1)                 11        \n",
            "                                                                 \n",
            "=================================================================\n",
            "Total params: 5,891\n",
            "Trainable params: 5,891\n",
            "Non-trainable params: 0\n",
            "_________________________________________________________________\n"
          ]
        }
      ]
    },
    {
      "cell_type": "code",
      "source": [
        "plot_model(model, show_shapes=True, show_layer_names=True, expand_nested=True)"
      ],
      "metadata": {
        "colab": {
          "base_uri": "https://localhost:8080/",
          "height": 422
        },
        "id": "FOm-zSvq_S4q",
        "outputId": "65fb5f8e-3bcf-407e-e1bf-d46ce893d0c7"
      },
      "id": "FOm-zSvq_S4q",
      "execution_count": 285,
      "outputs": [
        {
          "output_type": "execute_result",
          "data": {
            "text/plain": [
              "<IPython.core.display.Image object>"
            ],
            "image/png": "[encoded data removed]"
          },
          "metadata": {},
          "execution_count": 285
        }
      ]
    },
    {
      "cell_type": "code",
      "source": [
        "model.fit(x_train, y_train, batch_size=16, epochs=50, validation_data=(x_val, y_val), callbacks=[tb_callback])"
      ],
      "metadata": {
        "colab": {
          "base_uri": "https://localhost:8080/"
        },
        "id": "ZPbzdk9U-Aat",
        "outputId": "62fb1c3c-38a7-4784-cac6-f9c0c5326d4a"
      },
      "id": "ZPbzdk9U-Aat",
      "execution_count": 286,
      "outputs": [
        {
          "output_type": "stream",
          "name": "stdout",
          "text": [
            "Epoch 1/50\n",
            "10/10 [==============================] - 5s 96ms/step - loss: 2.7712 - accuracy: 0.4830 - val_loss: 2.7968 - val_accuracy: 0.5909\n",
            "Epoch 2/50\n",
            "10/10 [==============================] - 0s 36ms/step - loss: 2.7199 - accuracy: 0.5986 - val_loss: 1.0572 - val_accuracy: 0.5909\n",
            "Epoch 3/50\n",
            "10/10 [==============================] - 0s 34ms/step - loss: 1.1169 - accuracy: 0.5034 - val_loss: 0.7529 - val_accuracy: 0.4091\n",
            "Epoch 4/50\n",
            "10/10 [==============================] - 0s 35ms/step - loss: 1.4375 - accuracy: 0.4490 - val_loss: 0.6981 - val_accuracy: 0.4545\n",
            "Epoch 5/50\n",
            "10/10 [==============================] - 0s 32ms/step - loss: 0.9617 - accuracy: 0.5510 - val_loss: 0.7346 - val_accuracy: 0.5455\n",
            "Epoch 6/50\n",
            "10/10 [==============================] - 0s 39ms/step - loss: 0.9506 - accuracy: 0.4762 - val_loss: 0.6829 - val_accuracy: 0.5909\n",
            "Epoch 7/50\n",
            "10/10 [==============================] - 0s 31ms/step - loss: 0.8391 - accuracy: 0.5510 - val_loss: 0.6793 - val_accuracy: 0.6364\n",
            "Epoch 8/50\n",
            "10/10 [==============================] - 0s 35ms/step - loss: 0.7745 - accuracy: 0.4966 - val_loss: 0.6798 - val_accuracy: 0.5909\n",
            "Epoch 9/50\n",
            "10/10 [==============================] - 0s 33ms/step - loss: 0.8426 - accuracy: 0.5442 - val_loss: 0.6803 - val_accuracy: 0.5909\n",
            "Epoch 10/50\n",
            "10/10 [==============================] - 0s 41ms/step - loss: 0.7604 - accuracy: 0.4966 - val_loss: 0.6792 - val_accuracy: 0.5000\n",
            "Epoch 11/50\n",
            "10/10 [==============================] - 0s 32ms/step - loss: 0.7858 - accuracy: 0.4694 - val_loss: 0.6824 - val_accuracy: 0.5455\n",
            "Epoch 12/50\n",
            "10/10 [==============================] - 0s 37ms/step - loss: 0.7945 - accuracy: 0.4830 - val_loss: 0.6715 - val_accuracy: 0.5000\n",
            "Epoch 13/50\n",
            "10/10 [==============================] - 0s 41ms/step - loss: 0.7267 - accuracy: 0.5238 - val_loss: 0.6601 - val_accuracy: 0.6364\n",
            "Epoch 14/50\n",
            "10/10 [==============================] - 0s 30ms/step - loss: 0.8251 - accuracy: 0.5238 - val_loss: 0.6635 - val_accuracy: 0.6364\n",
            "Epoch 15/50\n",
            "10/10 [==============================] - 0s 21ms/step - loss: 0.6647 - accuracy: 0.5918 - val_loss: 0.6669 - val_accuracy: 0.4545\n",
            "Epoch 16/50\n",
            "10/10 [==============================] - 0s 20ms/step - loss: 0.7923 - accuracy: 0.5238 - val_loss: 0.6595 - val_accuracy: 0.6364\n",
            "Epoch 17/50\n",
            "10/10 [==============================] - 0s 20ms/step - loss: 0.6829 - accuracy: 0.5918 - val_loss: 0.6709 - val_accuracy: 0.5000\n",
            "Epoch 18/50\n",
            "10/10 [==============================] - 0s 18ms/step - loss: 0.6895 - accuracy: 0.5782 - val_loss: 0.6721 - val_accuracy: 0.5455\n",
            "Epoch 19/50\n",
            "10/10 [==============================] - 0s 21ms/step - loss: 0.7306 - accuracy: 0.5170 - val_loss: 0.6699 - val_accuracy: 0.5455\n",
            "Epoch 20/50\n",
            "10/10 [==============================] - 0s 19ms/step - loss: 0.6678 - accuracy: 0.6122 - val_loss: 0.6578 - val_accuracy: 0.6818\n",
            "Epoch 21/50\n",
            "10/10 [==============================] - 0s 20ms/step - loss: 0.7259 - accuracy: 0.5306 - val_loss: 0.6735 - val_accuracy: 0.5000\n",
            "Epoch 22/50\n",
            "10/10 [==============================] - 0s 20ms/step - loss: 0.6658 - accuracy: 0.5918 - val_loss: 0.6578 - val_accuracy: 0.6818\n",
            "Epoch 23/50\n",
            "10/10 [==============================] - 0s 32ms/step - loss: 0.7105 - accuracy: 0.5170 - val_loss: 0.6566 - val_accuracy: 0.5909\n",
            "Epoch 24/50\n",
            "10/10 [==============================] - 0s 32ms/step - loss: 0.6805 - accuracy: 0.6190 - val_loss: 0.6635 - val_accuracy: 0.5000\n",
            "Epoch 25/50\n",
            "10/10 [==============================] - 0s 33ms/step - loss: 0.6569 - accuracy: 0.6259 - val_loss: 0.6571 - val_accuracy: 0.5909\n",
            "Epoch 26/50\n",
            "10/10 [==============================] - 0s 29ms/step - loss: 0.7043 - accuracy: 0.5170 - val_loss: 0.6729 - val_accuracy: 0.5000\n",
            "Epoch 27/50\n",
            "10/10 [==============================] - 0s 32ms/step - loss: 0.7182 - accuracy: 0.5510 - val_loss: 0.6577 - val_accuracy: 0.6364\n",
            "Epoch 28/50\n",
            "10/10 [==============================] - 0s 28ms/step - loss: 0.6818 - accuracy: 0.6054 - val_loss: 0.6858 - val_accuracy: 0.5455\n",
            "Epoch 29/50\n",
            "10/10 [==============================] - 0s 35ms/step - loss: 0.7730 - accuracy: 0.5034 - val_loss: 0.7151 - val_accuracy: 0.5455\n",
            "Epoch 30/50\n",
            "10/10 [==============================] - 0s 38ms/step - loss: 0.7005 - accuracy: 0.5714 - val_loss: 0.6933 - val_accuracy: 0.5455\n",
            "Epoch 31/50\n",
            "10/10 [==============================] - 0s 31ms/step - loss: 0.6706 - accuracy: 0.5986 - val_loss: 0.6918 - val_accuracy: 0.4545\n",
            "Epoch 32/50\n",
            "10/10 [==============================] - 0s 30ms/step - loss: 0.7106 - accuracy: 0.5442 - val_loss: 0.6888 - val_accuracy: 0.5000\n",
            "Epoch 33/50\n",
            "10/10 [==============================] - 0s 31ms/step - loss: 0.6832 - accuracy: 0.5714 - val_loss: 0.6880 - val_accuracy: 0.5000\n",
            "Epoch 34/50\n",
            "10/10 [==============================] - 0s 35ms/step - loss: 0.6872 - accuracy: 0.5578 - val_loss: 0.6882 - val_accuracy: 0.5000\n",
            "Epoch 35/50\n",
            "10/10 [==============================] - 0s 40ms/step - loss: 0.6760 - accuracy: 0.5782 - val_loss: 0.6919 - val_accuracy: 0.5000\n",
            "Epoch 36/50\n",
            "10/10 [==============================] - 0s 41ms/step - loss: 0.7902 - accuracy: 0.5850 - val_loss: 0.6974 - val_accuracy: 0.5909\n",
            "Epoch 37/50\n",
            "10/10 [==============================] - 0s 33ms/step - loss: 0.6881 - accuracy: 0.5850 - val_loss: 0.6906 - val_accuracy: 0.5000\n",
            "Epoch 38/50\n",
            "10/10 [==============================] - 0s 32ms/step - loss: 0.6960 - accuracy: 0.5714 - val_loss: 0.6933 - val_accuracy: 0.4545\n",
            "Epoch 39/50\n",
            "10/10 [==============================] - 0s 32ms/step - loss: 0.6536 - accuracy: 0.5986 - val_loss: 0.6925 - val_accuracy: 0.5455\n",
            "Epoch 40/50\n",
            "10/10 [==============================] - 0s 30ms/step - loss: 0.6887 - accuracy: 0.6259 - val_loss: 0.6903 - val_accuracy: 0.5000\n",
            "Epoch 41/50\n",
            "10/10 [==============================] - 0s 33ms/step - loss: 0.7125 - accuracy: 0.5306 - val_loss: 0.6836 - val_accuracy: 0.5455\n",
            "Epoch 42/50\n",
            "10/10 [==============================] - 0s 33ms/step - loss: 0.7405 - accuracy: 0.6327 - val_loss: 0.6815 - val_accuracy: 0.5455\n",
            "Epoch 43/50\n",
            "10/10 [==============================] - 0s 33ms/step - loss: 0.6878 - accuracy: 0.5782 - val_loss: 0.6771 - val_accuracy: 0.5909\n",
            "Epoch 44/50\n",
            "10/10 [==============================] - 0s 33ms/step - loss: 0.6740 - accuracy: 0.6054 - val_loss: 0.6756 - val_accuracy: 0.5455\n",
            "Epoch 45/50\n",
            "10/10 [==============================] - 0s 30ms/step - loss: 0.6673 - accuracy: 0.5986 - val_loss: 0.6652 - val_accuracy: 0.5909\n",
            "Epoch 46/50\n",
            "10/10 [==============================] - 0s 32ms/step - loss: 0.6577 - accuracy: 0.5782 - val_loss: 0.6623 - val_accuracy: 0.5909\n",
            "Epoch 47/50\n",
            "10/10 [==============================] - 0s 34ms/step - loss: 0.6684 - accuracy: 0.6054 - val_loss: 0.6568 - val_accuracy: 0.6364\n",
            "Epoch 48/50\n",
            "10/10 [==============================] - 0s 33ms/step - loss: 0.6950 - accuracy: 0.5850 - val_loss: 0.6562 - val_accuracy: 0.6818\n",
            "Epoch 49/50\n",
            "10/10 [==============================] - 0s 31ms/step - loss: 0.6780 - accuracy: 0.6259 - val_loss: 0.6619 - val_accuracy: 0.5455\n",
            "Epoch 50/50\n",
            "10/10 [==============================] - 0s 29ms/step - loss: 0.7064 - accuracy: 0.5578 - val_loss: 0.6575 - val_accuracy: 0.5909\n"
          ]
        },
        {
          "output_type": "execute_result",
          "data": {
            "text/plain": [
              "<keras.callbacks.History at 0x7f153683a910>"
            ]
          },
          "metadata": {},
          "execution_count": 286
        }
      ]
    },
    {
      "cell_type": "code",
      "source": [
        "model.evaluate(x_test, y_test, verbose=1)"
      ],
      "metadata": {
        "colab": {
          "base_uri": "https://localhost:8080/"
        },
        "id": "Z-B-VImZ-AYE",
        "outputId": "f8e696ef-2582-432a-fbaa-e6ca689f978c"
      },
      "id": "Z-B-VImZ-AYE",
      "execution_count": 287,
      "outputs": [
        {
          "output_type": "stream",
          "name": "stdout",
          "text": [
            "2/2 [==============================] - 0s 14ms/step - loss: 0.6646 - accuracy: 0.6279\n"
          ]
        },
        {
          "output_type": "execute_result",
          "data": {
            "text/plain": [
              "[0.6645908951759338, 0.6279069781303406]"
            ]
          },
          "metadata": {},
          "execution_count": 287
        }
      ]
    },
    {
      "cell_type": "code",
      "source": [
        "%tensorboard --logdir '/content/drive/MyDrive/logs'"
      ],
      "metadata": {
        "id": "VUu6WHq5-AVc"
      },
      "id": "VUu6WHq5-AVc",
      "execution_count": null,
      "outputs": []
    },
    {
      "cell_type": "markdown",
      "source": [
        "#### Confusion Matrix"
      ],
      "metadata": {
        "id": "Y43Xlg6jK3vD"
      },
      "id": "Y43Xlg6jK3vD"
    },
    {
      "cell_type": "code",
      "source": [
        "y_pred = model.predict(x_test)\n",
        "temp = [1 if x > 0.5 else 0 for x in y_pred]\n",
        "confusion_matrix(y_test, temp)"
      ],
      "metadata": {
        "colab": {
          "base_uri": "https://localhost:8080/"
        },
        "id": "lqgLZgsUs3PP",
        "outputId": "1f510320-c52f-4f6c-faee-3cb27ade9380"
      },
      "id": "lqgLZgsUs3PP",
      "execution_count": 289,
      "outputs": [
        {
          "output_type": "execute_result",
          "data": {
            "text/plain": [
              "array([[ 3, 16],\n",
              "       [ 0, 24]])"
            ]
          },
          "metadata": {},
          "execution_count": 289
        }
      ]
    },
    {
      "cell_type": "code",
      "source": [
        ""
      ],
      "metadata": {
        "id": "eMRWNZmwBf0X"
      },
      "id": "eMRWNZmwBf0X",
      "execution_count": null,
      "outputs": []
    },
    {
      "cell_type": "markdown",
      "source": [
        "### Model 2:"
      ],
      "metadata": {
        "id": "J62fJtE5uPBS"
      },
      "id": "J62fJtE5uPBS"
    },
    {
      "cell_type": "code",
      "source": [
        "model = Sequential()\n",
        "model.add(LSTM(units=25, input_shape=(x_train.shape[1], x_train.shape[2])))\n",
        "model.add(Dropout(0.1))\n",
        "model.add(Dense(units=1))"
      ],
      "metadata": {
        "id": "sSpP6l4FuQlw"
      },
      "execution_count": 308,
      "outputs": [],
      "id": "sSpP6l4FuQlw"
    },
    {
      "cell_type": "code",
      "source": [
        "model.compile(optimizer='adam', loss='binary_crossentropy', metrics=['accuracy'])\n",
        "model.summary()"
      ],
      "metadata": {
        "colab": {
          "base_uri": "https://localhost:8080/"
        },
        "outputId": "8ec891bf-4b1d-44c4-c298-12616e0893c1",
        "id": "WlEH_YLOuQlw"
      },
      "execution_count": 309,
      "outputs": [
        {
          "output_type": "stream",
          "name": "stdout",
          "text": [
            "Model: \"sequential_32\"\n",
            "_________________________________________________________________\n",
            " Layer (type)                Output Shape              Param #   \n",
            "=================================================================\n",
            " lstm_61 (LSTM)              (None, 25)                16200     \n",
            "                                                                 \n",
            " dropout_40 (Dropout)        (None, 25)                0         \n",
            "                                                                 \n",
            " dense_32 (Dense)            (None, 1)                 26        \n",
            "                                                                 \n",
            "=================================================================\n",
            "Total params: 16,226\n",
            "Trainable params: 16,226\n",
            "Non-trainable params: 0\n",
            "_________________________________________________________________\n"
          ]
        }
      ],
      "id": "WlEH_YLOuQlw"
    },
    {
      "cell_type": "code",
      "source": [
        "plot_model(model, show_shapes=True, show_layer_names=True, expand_nested=True)"
      ],
      "metadata": {
        "colab": {
          "base_uri": "https://localhost:8080/",
          "height": 422
        },
        "outputId": "f4ceedf0-7766-4a49-b86d-04a58497303b",
        "id": "QJOBWrjBuQlw"
      },
      "execution_count": 310,
      "outputs": [
        {
          "output_type": "execute_result",
          "data": {
            "text/plain": [
              "<IPython.core.display.Image object>"
            ],
            "image/png": "[encoded data removed]"
          },
          "metadata": {},
          "execution_count": 310
        }
      ],
      "id": "QJOBWrjBuQlw"
    },
    {
      "cell_type": "code",
      "source": [
        "model.fit(x_train, y_train, batch_size=16, epochs=50, validation_data=(x_val, y_val), callbacks=[tb_callback])"
      ],
      "metadata": {
        "colab": {
          "base_uri": "https://localhost:8080/"
        },
        "outputId": "f01985f7-2593-4a78-ea3a-e487d5de42e0",
        "id": "h2W0Bm6iuQlw"
      },
      "execution_count": 311,
      "outputs": [
        {
          "output_type": "stream",
          "name": "stdout",
          "text": [
            "Epoch 1/50\n",
            "10/10 [==============================] - 3s 92ms/step - loss: 2.7294 - accuracy: 0.4830 - val_loss: 0.7239 - val_accuracy: 0.5909\n",
            "Epoch 2/50\n",
            "10/10 [==============================] - 0s 23ms/step - loss: 1.1278 - accuracy: 0.5102 - val_loss: 0.6948 - val_accuracy: 0.5909\n",
            "Epoch 3/50\n",
            "10/10 [==============================] - 0s 22ms/step - loss: 0.7987 - accuracy: 0.5646 - val_loss: 0.6783 - val_accuracy: 0.5455\n",
            "Epoch 4/50\n",
            "10/10 [==============================] - 0s 21ms/step - loss: 0.7450 - accuracy: 0.5646 - val_loss: 0.7164 - val_accuracy: 0.5909\n",
            "Epoch 5/50\n",
            "10/10 [==============================] - 0s 22ms/step - loss: 0.8271 - accuracy: 0.4966 - val_loss: 0.7472 - val_accuracy: 0.4545\n",
            "Epoch 6/50\n",
            "10/10 [==============================] - 0s 22ms/step - loss: 0.6999 - accuracy: 0.5510 - val_loss: 0.7024 - val_accuracy: 0.5455\n",
            "Epoch 7/50\n",
            "10/10 [==============================] - 0s 22ms/step - loss: 0.6858 - accuracy: 0.6054 - val_loss: 0.6879 - val_accuracy: 0.5909\n",
            "Epoch 8/50\n",
            "10/10 [==============================] - 0s 20ms/step - loss: 0.7087 - accuracy: 0.5918 - val_loss: 0.6831 - val_accuracy: 0.4545\n",
            "Epoch 9/50\n",
            "10/10 [==============================] - 0s 20ms/step - loss: 0.6901 - accuracy: 0.5306 - val_loss: 0.6751 - val_accuracy: 0.5000\n",
            "Epoch 10/50\n",
            "10/10 [==============================] - 0s 22ms/step - loss: 0.7310 - accuracy: 0.5102 - val_loss: 0.6672 - val_accuracy: 0.5455\n",
            "Epoch 11/50\n",
            "10/10 [==============================] - 0s 20ms/step - loss: 0.6793 - accuracy: 0.5918 - val_loss: 0.6639 - val_accuracy: 0.5455\n",
            "Epoch 12/50\n",
            "10/10 [==============================] - 0s 21ms/step - loss: 0.6701 - accuracy: 0.5714 - val_loss: 0.6617 - val_accuracy: 0.5455\n",
            "Epoch 13/50\n",
            "10/10 [==============================] - 0s 22ms/step - loss: 0.6878 - accuracy: 0.5510 - val_loss: 0.6697 - val_accuracy: 0.5455\n",
            "Epoch 14/50\n",
            "10/10 [==============================] - 0s 26ms/step - loss: 0.6820 - accuracy: 0.5646 - val_loss: 0.6921 - val_accuracy: 0.6364\n",
            "Epoch 15/50\n",
            "10/10 [==============================] - 0s 21ms/step - loss: 0.6748 - accuracy: 0.5578 - val_loss: 0.7032 - val_accuracy: 0.5000\n",
            "Epoch 16/50\n",
            "10/10 [==============================] - 0s 21ms/step - loss: 0.6728 - accuracy: 0.5646 - val_loss: 0.6933 - val_accuracy: 0.5455\n",
            "Epoch 17/50\n",
            "10/10 [==============================] - 0s 21ms/step - loss: 0.6629 - accuracy: 0.6122 - val_loss: 0.6840 - val_accuracy: 0.6364\n",
            "Epoch 18/50\n",
            "10/10 [==============================] - 0s 22ms/step - loss: 0.6689 - accuracy: 0.6599 - val_loss: 0.6638 - val_accuracy: 0.6818\n",
            "Epoch 19/50\n",
            "10/10 [==============================] - 0s 22ms/step - loss: 0.6543 - accuracy: 0.6327 - val_loss: 0.6726 - val_accuracy: 0.5455\n",
            "Epoch 20/50\n",
            "10/10 [==============================] - 0s 21ms/step - loss: 0.7408 - accuracy: 0.4898 - val_loss: 0.6918 - val_accuracy: 0.5455\n",
            "Epoch 21/50\n",
            "10/10 [==============================] - 0s 22ms/step - loss: 0.6683 - accuracy: 0.5646 - val_loss: 0.6722 - val_accuracy: 0.5455\n",
            "Epoch 22/50\n",
            "10/10 [==============================] - 0s 20ms/step - loss: 0.7002 - accuracy: 0.5510 - val_loss: 0.6724 - val_accuracy: 0.5455\n",
            "Epoch 23/50\n",
            "10/10 [==============================] - 0s 24ms/step - loss: 0.6851 - accuracy: 0.5986 - val_loss: 0.6777 - val_accuracy: 0.6818\n",
            "Epoch 24/50\n",
            "10/10 [==============================] - 0s 24ms/step - loss: 0.6427 - accuracy: 0.6259 - val_loss: 0.6868 - val_accuracy: 0.5000\n",
            "Epoch 25/50\n",
            "10/10 [==============================] - 0s 23ms/step - loss: 0.6821 - accuracy: 0.5782 - val_loss: 0.6973 - val_accuracy: 0.5000\n",
            "Epoch 26/50\n",
            "10/10 [==============================] - 0s 21ms/step - loss: 0.6693 - accuracy: 0.5918 - val_loss: 0.6863 - val_accuracy: 0.5000\n",
            "Epoch 27/50\n",
            "10/10 [==============================] - 0s 21ms/step - loss: 0.6551 - accuracy: 0.6259 - val_loss: 0.6747 - val_accuracy: 0.6364\n",
            "Epoch 28/50\n",
            "10/10 [==============================] - 0s 21ms/step - loss: 0.6591 - accuracy: 0.5578 - val_loss: 0.6753 - val_accuracy: 0.5909\n",
            "Epoch 29/50\n",
            "10/10 [==============================] - 0s 23ms/step - loss: 0.6739 - accuracy: 0.5850 - val_loss: 0.6732 - val_accuracy: 0.5909\n",
            "Epoch 30/50\n",
            "10/10 [==============================] - 0s 21ms/step - loss: 0.6393 - accuracy: 0.6054 - val_loss: 0.6852 - val_accuracy: 0.5455\n",
            "Epoch 31/50\n",
            "10/10 [==============================] - 0s 22ms/step - loss: 0.6336 - accuracy: 0.6667 - val_loss: 0.6813 - val_accuracy: 0.5909\n",
            "Epoch 32/50\n",
            "10/10 [==============================] - 0s 23ms/step - loss: 0.6719 - accuracy: 0.6054 - val_loss: 0.6624 - val_accuracy: 0.5909\n",
            "Epoch 33/50\n",
            "10/10 [==============================] - 0s 24ms/step - loss: 0.6317 - accuracy: 0.6327 - val_loss: 0.6603 - val_accuracy: 0.5909\n",
            "Epoch 34/50\n",
            "10/10 [==============================] - 0s 23ms/step - loss: 0.6714 - accuracy: 0.5918 - val_loss: 0.6629 - val_accuracy: 0.6364\n",
            "Epoch 35/50\n",
            "10/10 [==============================] - 0s 21ms/step - loss: 0.6502 - accuracy: 0.6122 - val_loss: 0.6688 - val_accuracy: 0.5909\n",
            "Epoch 36/50\n",
            "10/10 [==============================] - 0s 20ms/step - loss: 0.6501 - accuracy: 0.6122 - val_loss: 0.6710 - val_accuracy: 0.5909\n",
            "Epoch 37/50\n",
            "10/10 [==============================] - 0s 22ms/step - loss: 0.6575 - accuracy: 0.6327 - val_loss: 0.6707 - val_accuracy: 0.5000\n",
            "Epoch 38/50\n",
            "10/10 [==============================] - 0s 22ms/step - loss: 0.6402 - accuracy: 0.6463 - val_loss: 0.6923 - val_accuracy: 0.5455\n",
            "Epoch 39/50\n",
            "10/10 [==============================] - 0s 21ms/step - loss: 0.6488 - accuracy: 0.6599 - val_loss: 0.6639 - val_accuracy: 0.5000\n",
            "Epoch 40/50\n",
            "10/10 [==============================] - 0s 21ms/step - loss: 0.6413 - accuracy: 0.6122 - val_loss: 0.6777 - val_accuracy: 0.6364\n",
            "Epoch 41/50\n",
            "10/10 [==============================] - 0s 24ms/step - loss: 0.6674 - accuracy: 0.6122 - val_loss: 0.6734 - val_accuracy: 0.5000\n",
            "Epoch 42/50\n",
            "10/10 [==============================] - 0s 24ms/step - loss: 0.7076 - accuracy: 0.5102 - val_loss: 0.6434 - val_accuracy: 0.5909\n",
            "Epoch 43/50\n",
            "10/10 [==============================] - 0s 21ms/step - loss: 0.6530 - accuracy: 0.6190 - val_loss: 0.6692 - val_accuracy: 0.5909\n",
            "Epoch 44/50\n",
            "10/10 [==============================] - 0s 22ms/step - loss: 0.6601 - accuracy: 0.5782 - val_loss: 0.6470 - val_accuracy: 0.6364\n",
            "Epoch 45/50\n",
            "10/10 [==============================] - 0s 24ms/step - loss: 0.6398 - accuracy: 0.6531 - val_loss: 0.6502 - val_accuracy: 0.6818\n",
            "Epoch 46/50\n",
            "10/10 [==============================] - 0s 22ms/step - loss: 0.6359 - accuracy: 0.6190 - val_loss: 0.6495 - val_accuracy: 0.6364\n",
            "Epoch 47/50\n",
            "10/10 [==============================] - 0s 23ms/step - loss: 0.6558 - accuracy: 0.6054 - val_loss: 0.6512 - val_accuracy: 0.5909\n",
            "Epoch 48/50\n",
            "10/10 [==============================] - 0s 22ms/step - loss: 0.6477 - accuracy: 0.6327 - val_loss: 0.6575 - val_accuracy: 0.6818\n",
            "Epoch 49/50\n",
            "10/10 [==============================] - 0s 23ms/step - loss: 0.6429 - accuracy: 0.6463 - val_loss: 0.6454 - val_accuracy: 0.7273\n",
            "Epoch 50/50\n",
            "10/10 [==============================] - 0s 24ms/step - loss: 0.6464 - accuracy: 0.6395 - val_loss: 0.6492 - val_accuracy: 0.5909\n"
          ]
        },
        {
          "output_type": "execute_result",
          "data": {
            "text/plain": [
              "<keras.callbacks.History at 0x7f153fbe8c50>"
            ]
          },
          "metadata": {},
          "execution_count": 311
        }
      ],
      "id": "h2W0Bm6iuQlw"
    },
    {
      "cell_type": "code",
      "source": [
        "model.evaluate(x_test, y_test, verbose=1)"
      ],
      "metadata": {
        "colab": {
          "base_uri": "https://localhost:8080/"
        },
        "outputId": "2b6199f8-2578-404a-c59f-e9147bedc813",
        "id": "l7fRPATZuQlw"
      },
      "execution_count": 312,
      "outputs": [
        {
          "output_type": "stream",
          "name": "stdout",
          "text": [
            "2/2 [==============================] - 0s 12ms/step - loss: 0.6581 - accuracy: 0.5814\n"
          ]
        },
        {
          "output_type": "execute_result",
          "data": {
            "text/plain": [
              "[0.6580518484115601, 0.5813953280448914]"
            ]
          },
          "metadata": {},
          "execution_count": 312
        }
      ],
      "id": "l7fRPATZuQlw"
    },
    {
      "cell_type": "code",
      "source": [
        "%tensorboard --logdir '/content/drive/MyDrive/logs'"
      ],
      "metadata": {
        "id": "gbUgq-BvuQlw"
      },
      "execution_count": null,
      "outputs": [],
      "id": "gbUgq-BvuQlw"
    },
    {
      "cell_type": "code",
      "source": [
        "y_pred = model.predict(x_test)\n",
        "temp = [1 if x > 0.5 else 0 for x in y_pred]\n",
        "confusion_matrix(y_test, temp)"
      ],
      "metadata": {
        "colab": {
          "base_uri": "https://localhost:8080/"
        },
        "id": "B8cxQlNVuKcP",
        "outputId": "d9d8daa9-2727-458a-f086-f1214c5bfae0"
      },
      "id": "B8cxQlNVuKcP",
      "execution_count": 314,
      "outputs": [
        {
          "output_type": "execute_result",
          "data": {
            "text/plain": [
              "array([[10,  9],\n",
              "       [ 9, 15]])"
            ]
          },
          "metadata": {},
          "execution_count": 314
        }
      ]
    },
    {
      "cell_type": "code",
      "source": [
        ""
      ],
      "metadata": {
        "id": "vM9mWSGtuKa_"
      },
      "id": "vM9mWSGtuKa_",
      "execution_count": null,
      "outputs": []
    },
    {
      "cell_type": "markdown",
      "source": [
        "### Model 3:"
      ],
      "metadata": {
        "id": "y2uMGlNdxHAk"
      },
      "id": "y2uMGlNdxHAk"
    },
    {
      "cell_type": "code",
      "source": [
        "model = Sequential()\n",
        "model.add(LSTM(units=5, input_shape=(x_train.shape[1], x_train.shape[2])))\n",
        "model.add(Dense(units=1))"
      ],
      "metadata": {
        "id": "FAvx9uNhxJ4G"
      },
      "execution_count": 323,
      "outputs": [],
      "id": "FAvx9uNhxJ4G"
    },
    {
      "cell_type": "code",
      "source": [
        "model.compile(optimizer='adam', loss='binary_crossentropy', metrics=['accuracy'])\n",
        "model.summary()"
      ],
      "metadata": {
        "colab": {
          "base_uri": "https://localhost:8080/"
        },
        "outputId": "f6ba87a1-b84b-4a3a-d5eb-d75a7773170f",
        "id": "deaUHeJXxJ4G"
      },
      "execution_count": 316,
      "outputs": [
        {
          "output_type": "stream",
          "name": "stdout",
          "text": [
            "Model: \"sequential_33\"\n",
            "_________________________________________________________________\n",
            " Layer (type)                Output Shape              Param #   \n",
            "=================================================================\n",
            " lstm_62 (LSTM)              (None, 5)                 2840      \n",
            "                                                                 \n",
            " dense_33 (Dense)            (None, 1)                 6         \n",
            "                                                                 \n",
            "=================================================================\n",
            "Total params: 2,846\n",
            "Trainable params: 2,846\n",
            "Non-trainable params: 0\n",
            "_________________________________________________________________\n"
          ]
        }
      ],
      "id": "deaUHeJXxJ4G"
    },
    {
      "cell_type": "code",
      "source": [
        "plot_model(model, show_shapes=True, show_layer_names=True, expand_nested=True)"
      ],
      "metadata": {
        "colab": {
          "base_uri": "https://localhost:8080/",
          "height": 312
        },
        "outputId": "97c9607d-098a-4b31-b9a7-7a8e0d7c4a23",
        "id": "3ClSQDw4xJ4H"
      },
      "execution_count": 317,
      "outputs": [
        {
          "output_type": "execute_result",
          "data": {
            "text/plain": [
              "<IPython.core.display.Image object>"
            ],
            "image/png": "[encoded data removed]"
          },
          "metadata": {},
          "execution_count": 317
        }
      ],
      "id": "3ClSQDw4xJ4H"
    },
    {
      "cell_type": "code",
      "source": [
        "model.fit(x_train, y_train, batch_size=16, epochs=50, validation_data=(x_val, y_val), callbacks=[tb_callback])"
      ],
      "metadata": {
        "colab": {
          "base_uri": "https://localhost:8080/"
        },
        "outputId": "73d4431c-7ae1-4ebe-f7f2-350a763a3a2a",
        "id": "onzbnCY0xJ4H"
      },
      "execution_count": 318,
      "outputs": [
        {
          "output_type": "stream",
          "name": "stdout",
          "text": [
            "Epoch 1/50\n",
            "10/10 [==============================] - 3s 89ms/step - loss: 8.8143 - accuracy: 0.4286 - val_loss: 8.4136 - val_accuracy: 0.4545\n",
            "Epoch 2/50\n",
            "10/10 [==============================] - 0s 20ms/step - loss: 8.8143 - accuracy: 0.4286 - val_loss: 8.4136 - val_accuracy: 0.4545\n",
            "Epoch 3/50\n",
            "10/10 [==============================] - 0s 20ms/step - loss: 8.8143 - accuracy: 0.4286 - val_loss: 8.4136 - val_accuracy: 0.4545\n",
            "Epoch 4/50\n",
            "10/10 [==============================] - 0s 19ms/step - loss: 8.8143 - accuracy: 0.4286 - val_loss: 8.4136 - val_accuracy: 0.4545\n",
            "Epoch 5/50\n",
            "10/10 [==============================] - 0s 21ms/step - loss: 8.8143 - accuracy: 0.4286 - val_loss: 8.4136 - val_accuracy: 0.4545\n",
            "Epoch 6/50\n",
            "10/10 [==============================] - 0s 29ms/step - loss: 8.8143 - accuracy: 0.4286 - val_loss: 8.4136 - val_accuracy: 0.4545\n",
            "Epoch 7/50\n",
            "10/10 [==============================] - 0s 30ms/step - loss: 8.8143 - accuracy: 0.4286 - val_loss: 8.4136 - val_accuracy: 0.4545\n",
            "Epoch 8/50\n",
            "10/10 [==============================] - 0s 27ms/step - loss: 8.8143 - accuracy: 0.4286 - val_loss: 8.4136 - val_accuracy: 0.4545\n",
            "Epoch 9/50\n",
            "10/10 [==============================] - 0s 21ms/step - loss: 8.8143 - accuracy: 0.4286 - val_loss: 8.4136 - val_accuracy: 0.4545\n",
            "Epoch 10/50\n",
            "10/10 [==============================] - 0s 22ms/step - loss: 8.8143 - accuracy: 0.4286 - val_loss: 8.4136 - val_accuracy: 0.4545\n",
            "Epoch 11/50\n",
            "10/10 [==============================] - 0s 19ms/step - loss: 8.8143 - accuracy: 0.4286 - val_loss: 8.4136 - val_accuracy: 0.4545\n",
            "Epoch 12/50\n",
            "10/10 [==============================] - 0s 17ms/step - loss: 8.8143 - accuracy: 0.4286 - val_loss: 8.4136 - val_accuracy: 0.4545\n",
            "Epoch 13/50\n",
            "10/10 [==============================] - 0s 18ms/step - loss: 8.8143 - accuracy: 0.4286 - val_loss: 8.4136 - val_accuracy: 0.4545\n",
            "Epoch 14/50\n",
            "10/10 [==============================] - 0s 19ms/step - loss: 8.8143 - accuracy: 0.4286 - val_loss: 8.4136 - val_accuracy: 0.4545\n",
            "Epoch 15/50\n",
            "10/10 [==============================] - 0s 18ms/step - loss: 8.8143 - accuracy: 0.4286 - val_loss: 8.4136 - val_accuracy: 0.4545\n",
            "Epoch 16/50\n",
            "10/10 [==============================] - 0s 19ms/step - loss: 8.8143 - accuracy: 0.4286 - val_loss: 8.4136 - val_accuracy: 0.4545\n",
            "Epoch 17/50\n",
            "10/10 [==============================] - 0s 22ms/step - loss: 8.8143 - accuracy: 0.4286 - val_loss: 8.4136 - val_accuracy: 0.4545\n",
            "Epoch 18/50\n",
            "10/10 [==============================] - 0s 21ms/step - loss: 8.8143 - accuracy: 0.4286 - val_loss: 8.4136 - val_accuracy: 0.4545\n",
            "Epoch 19/50\n",
            "10/10 [==============================] - 0s 19ms/step - loss: 8.8143 - accuracy: 0.4286 - val_loss: 8.4136 - val_accuracy: 0.4545\n",
            "Epoch 20/50\n",
            "10/10 [==============================] - 0s 20ms/step - loss: 8.8143 - accuracy: 0.4286 - val_loss: 8.4136 - val_accuracy: 0.4545\n",
            "Epoch 21/50\n",
            "10/10 [==============================] - 0s 31ms/step - loss: 8.8143 - accuracy: 0.4286 - val_loss: 8.4136 - val_accuracy: 0.4545\n",
            "Epoch 22/50\n",
            "10/10 [==============================] - 0s 21ms/step - loss: 8.8143 - accuracy: 0.4286 - val_loss: 8.4136 - val_accuracy: 0.4545\n",
            "Epoch 23/50\n",
            "10/10 [==============================] - 0s 20ms/step - loss: 8.8143 - accuracy: 0.4286 - val_loss: 8.4136 - val_accuracy: 0.4545\n",
            "Epoch 24/50\n",
            "10/10 [==============================] - 0s 20ms/step - loss: 8.8143 - accuracy: 0.4286 - val_loss: 8.4136 - val_accuracy: 0.4545\n",
            "Epoch 25/50\n",
            "10/10 [==============================] - 0s 20ms/step - loss: 8.8143 - accuracy: 0.4286 - val_loss: 8.4136 - val_accuracy: 0.4545\n",
            "Epoch 26/50\n",
            "10/10 [==============================] - 0s 20ms/step - loss: 8.8143 - accuracy: 0.4286 - val_loss: 8.4136 - val_accuracy: 0.4545\n",
            "Epoch 27/50\n",
            "10/10 [==============================] - 0s 22ms/step - loss: 8.8143 - accuracy: 0.4286 - val_loss: 8.4136 - val_accuracy: 0.4545\n",
            "Epoch 28/50\n",
            "10/10 [==============================] - 0s 20ms/step - loss: 8.8143 - accuracy: 0.4286 - val_loss: 8.4136 - val_accuracy: 0.4545\n",
            "Epoch 29/50\n",
            "10/10 [==============================] - 0s 22ms/step - loss: 8.8143 - accuracy: 0.4286 - val_loss: 8.4136 - val_accuracy: 0.4545\n",
            "Epoch 30/50\n",
            "10/10 [==============================] - 0s 21ms/step - loss: 8.8143 - accuracy: 0.4286 - val_loss: 8.4136 - val_accuracy: 0.4545\n",
            "Epoch 31/50\n",
            "10/10 [==============================] - 0s 22ms/step - loss: 8.8143 - accuracy: 0.4286 - val_loss: 8.4136 - val_accuracy: 0.4545\n",
            "Epoch 32/50\n",
            "10/10 [==============================] - 0s 21ms/step - loss: 8.8143 - accuracy: 0.4286 - val_loss: 8.4136 - val_accuracy: 0.4545\n",
            "Epoch 33/50\n",
            "10/10 [==============================] - 0s 19ms/step - loss: 8.8143 - accuracy: 0.4286 - val_loss: 8.4136 - val_accuracy: 0.4545\n",
            "Epoch 34/50\n",
            "10/10 [==============================] - 0s 20ms/step - loss: 8.8143 - accuracy: 0.4286 - val_loss: 8.4136 - val_accuracy: 0.4545\n",
            "Epoch 35/50\n",
            "10/10 [==============================] - 0s 21ms/step - loss: 8.8143 - accuracy: 0.4286 - val_loss: 8.4136 - val_accuracy: 0.4545\n",
            "Epoch 36/50\n",
            "10/10 [==============================] - 0s 21ms/step - loss: 8.8143 - accuracy: 0.4286 - val_loss: 8.4136 - val_accuracy: 0.4545\n",
            "Epoch 37/50\n",
            "10/10 [==============================] - 0s 18ms/step - loss: 8.8143 - accuracy: 0.4286 - val_loss: 8.4136 - val_accuracy: 0.4545\n",
            "Epoch 38/50\n",
            "10/10 [==============================] - 0s 20ms/step - loss: 8.8143 - accuracy: 0.4286 - val_loss: 8.4136 - val_accuracy: 0.4545\n",
            "Epoch 39/50\n",
            "10/10 [==============================] - 0s 22ms/step - loss: 8.8143 - accuracy: 0.4286 - val_loss: 8.4136 - val_accuracy: 0.4545\n",
            "Epoch 40/50\n",
            "10/10 [==============================] - 0s 21ms/step - loss: 8.8143 - accuracy: 0.4286 - val_loss: 8.4136 - val_accuracy: 0.4545\n",
            "Epoch 41/50\n",
            "10/10 [==============================] - 0s 21ms/step - loss: 8.8143 - accuracy: 0.4286 - val_loss: 8.4136 - val_accuracy: 0.4545\n",
            "Epoch 42/50\n",
            "10/10 [==============================] - 0s 20ms/step - loss: 8.8143 - accuracy: 0.4286 - val_loss: 8.4136 - val_accuracy: 0.4545\n",
            "Epoch 43/50\n",
            "10/10 [==============================] - 0s 18ms/step - loss: 8.8143 - accuracy: 0.4286 - val_loss: 8.4136 - val_accuracy: 0.4545\n",
            "Epoch 44/50\n",
            "10/10 [==============================] - 0s 21ms/step - loss: 8.8143 - accuracy: 0.4286 - val_loss: 8.4136 - val_accuracy: 0.4545\n",
            "Epoch 45/50\n",
            "10/10 [==============================] - 0s 21ms/step - loss: 8.8143 - accuracy: 0.4286 - val_loss: 8.4136 - val_accuracy: 0.4545\n",
            "Epoch 46/50\n",
            "10/10 [==============================] - 0s 19ms/step - loss: 8.8143 - accuracy: 0.4286 - val_loss: 8.4136 - val_accuracy: 0.4545\n",
            "Epoch 47/50\n",
            "10/10 [==============================] - 0s 20ms/step - loss: 8.8143 - accuracy: 0.4286 - val_loss: 8.4136 - val_accuracy: 0.4545\n",
            "Epoch 48/50\n",
            "10/10 [==============================] - 0s 22ms/step - loss: 8.8143 - accuracy: 0.4286 - val_loss: 8.4136 - val_accuracy: 0.4545\n",
            "Epoch 49/50\n",
            "10/10 [==============================] - 0s 22ms/step - loss: 8.8143 - accuracy: 0.4286 - val_loss: 8.4136 - val_accuracy: 0.4545\n",
            "Epoch 50/50\n",
            "10/10 [==============================] - 0s 19ms/step - loss: 8.8143 - accuracy: 0.4286 - val_loss: 8.4136 - val_accuracy: 0.4545\n"
          ]
        },
        {
          "output_type": "execute_result",
          "data": {
            "text/plain": [
              "<keras.callbacks.History at 0x7f1533662e50>"
            ]
          },
          "metadata": {},
          "execution_count": 318
        }
      ],
      "id": "onzbnCY0xJ4H"
    },
    {
      "cell_type": "code",
      "source": [
        "model.evaluate(x_test, y_test, verbose=1)"
      ],
      "metadata": {
        "colab": {
          "base_uri": "https://localhost:8080/"
        },
        "outputId": "4539c756-af8b-473a-a136-e1ecb30b05cd",
        "id": "C26zZc3JxJ4H"
      },
      "execution_count": 319,
      "outputs": [
        {
          "output_type": "stream",
          "name": "stdout",
          "text": [
            "2/2 [==============================] - 0s 9ms/step - loss: 8.6093 - accuracy: 0.4419\n"
          ]
        },
        {
          "output_type": "execute_result",
          "data": {
            "text/plain": [
              "[8.609273910522461, 0.44186046719551086]"
            ]
          },
          "metadata": {},
          "execution_count": 319
        }
      ],
      "id": "C26zZc3JxJ4H"
    },
    {
      "cell_type": "code",
      "source": [
        "%tensorboard --logdir '/content/drive/MyDrive/logs'"
      ],
      "metadata": {
        "id": "zr3QUUVyxJ4H"
      },
      "execution_count": null,
      "outputs": [],
      "id": "zr3QUUVyxJ4H"
    },
    {
      "cell_type": "code",
      "source": [
        "y_pred = model.predict(x_test)\n",
        "temp = [1 if x > 0.5 else 0 for x in y_pred]\n",
        "confusion_matrix(y_test, temp)"
      ],
      "metadata": {
        "colab": {
          "base_uri": "https://localhost:8080/"
        },
        "id": "ihKfP8rrxJ4I",
        "outputId": "43ebcd64-5ed6-45ea-9278-6ba1924f475f"
      },
      "execution_count": 321,
      "outputs": [
        {
          "output_type": "execute_result",
          "data": {
            "text/plain": [
              "array([[19,  0],\n",
              "       [24,  0]])"
            ]
          },
          "metadata": {},
          "execution_count": 321
        }
      ],
      "id": "ihKfP8rrxJ4I"
    },
    {
      "cell_type": "code",
      "source": [
        ""
      ],
      "metadata": {
        "id": "WlsU-RBjuKWi"
      },
      "id": "WlsU-RBjuKWi",
      "execution_count": null,
      "outputs": []
    },
    {
      "cell_type": "code",
      "source": [
        ""
      ],
      "metadata": {
        "id": "M6uh5Z-6uKT9"
      },
      "id": "M6uh5Z-6uKT9",
      "execution_count": null,
      "outputs": []
    },
    {
      "cell_type": "code",
      "source": [
        ""
      ],
      "metadata": {
        "id": "vnMH1qcjuKQG"
      },
      "id": "vnMH1qcjuKQG",
      "execution_count": null,
      "outputs": []
    },
    {
      "cell_type": "markdown",
      "source": [
        "### Model 4:"
      ],
      "metadata": {
        "id": "5_OFPbmQDxv9"
      },
      "id": "5_OFPbmQDxv9"
    },
    {
      "cell_type": "code",
      "source": [
        "model = Sequential()\n",
        "model.add(LSTM(units=8, input_shape=(x_train.shape[1], x_train.shape[2])))\n",
        "model.add(Dense(units=1))"
      ],
      "metadata": {
        "id": "MOvfNzF4DhsD"
      },
      "execution_count": 324,
      "outputs": [],
      "id": "MOvfNzF4DhsD"
    },
    {
      "cell_type": "code",
      "source": [
        "model.compile(optimizer='adam', loss='binary_crossentropy', metrics=['accuracy'])\n",
        "model.summary()"
      ],
      "metadata": {
        "colab": {
          "base_uri": "https://localhost:8080/"
        },
        "outputId": "4eeb140a-c9f7-42db-8120-8ecb3ff501d3",
        "id": "-t-R49cCDhsL"
      },
      "execution_count": 325,
      "outputs": [
        {
          "output_type": "stream",
          "name": "stdout",
          "text": [
            "Model: \"sequential_36\"\n",
            "_________________________________________________________________\n",
            " Layer (type)                Output Shape              Param #   \n",
            "=================================================================\n",
            " lstm_65 (LSTM)              (None, 8)                 4640      \n",
            "                                                                 \n",
            " dense_36 (Dense)            (None, 1)                 9         \n",
            "                                                                 \n",
            "=================================================================\n",
            "Total params: 4,649\n",
            "Trainable params: 4,649\n",
            "Non-trainable params: 0\n",
            "_________________________________________________________________\n"
          ]
        }
      ],
      "id": "-t-R49cCDhsL"
    },
    {
      "cell_type": "code",
      "source": [
        "plot_model(model, show_shapes=True, show_layer_names=True, expand_nested=True)"
      ],
      "metadata": {
        "colab": {
          "base_uri": "https://localhost:8080/",
          "height": 312
        },
        "outputId": "6cd42a35-f0fd-4812-bdb8-201cc870ec37",
        "id": "MuezlOE4DhsL"
      },
      "execution_count": 326,
      "outputs": [
        {
          "output_type": "execute_result",
          "data": {
            "text/plain": [
              "<IPython.core.display.Image object>"
            ],
            "image/png": "[encoded data removed]"
          },
          "metadata": {},
          "execution_count": 326
        }
      ],
      "id": "MuezlOE4DhsL"
    },
    {
      "cell_type": "code",
      "source": [
        "model.fit(x_train, y_train, batch_size=16, epochs=50, validation_data=(x_val, y_val), callbacks=[tb_callback])"
      ],
      "metadata": {
        "colab": {
          "base_uri": "https://localhost:8080/"
        },
        "outputId": "f87c8a89-74b7-4ba7-a299-fb91d4e71db4",
        "id": "_NPg6vfFDhsL"
      },
      "execution_count": 327,
      "outputs": [
        {
          "output_type": "stream",
          "name": "stdout",
          "text": [
            "Epoch 1/50\n",
            "10/10 [==============================] - 4s 91ms/step - loss: 1.0271 - accuracy: 0.5102 - val_loss: 0.6847 - val_accuracy: 0.5909\n",
            "Epoch 2/50\n",
            "10/10 [==============================] - 0s 18ms/step - loss: 0.7600 - accuracy: 0.4898 - val_loss: 0.6471 - val_accuracy: 0.5455\n",
            "Epoch 3/50\n",
            "10/10 [==============================] - 0s 18ms/step - loss: 0.6961 - accuracy: 0.5170 - val_loss: 0.6452 - val_accuracy: 0.6364\n",
            "Epoch 4/50\n",
            "10/10 [==============================] - 0s 18ms/step - loss: 0.6799 - accuracy: 0.5986 - val_loss: 0.6545 - val_accuracy: 0.5909\n",
            "Epoch 5/50\n",
            "10/10 [==============================] - 0s 18ms/step - loss: 0.6762 - accuracy: 0.5714 - val_loss: 0.6651 - val_accuracy: 0.5909\n",
            "Epoch 6/50\n",
            "10/10 [==============================] - 0s 19ms/step - loss: 0.6710 - accuracy: 0.5918 - val_loss: 0.6629 - val_accuracy: 0.5909\n",
            "Epoch 7/50\n",
            "10/10 [==============================] - 0s 19ms/step - loss: 0.6672 - accuracy: 0.5850 - val_loss: 0.6649 - val_accuracy: 0.5909\n",
            "Epoch 8/50\n",
            "10/10 [==============================] - 0s 17ms/step - loss: 0.6664 - accuracy: 0.5850 - val_loss: 0.6731 - val_accuracy: 0.5909\n",
            "Epoch 9/50\n",
            "10/10 [==============================] - 0s 19ms/step - loss: 0.6642 - accuracy: 0.5986 - val_loss: 0.6706 - val_accuracy: 0.6364\n",
            "Epoch 10/50\n",
            "10/10 [==============================] - 0s 20ms/step - loss: 0.6583 - accuracy: 0.6054 - val_loss: 0.6599 - val_accuracy: 0.6364\n",
            "Epoch 11/50\n",
            "10/10 [==============================] - 0s 20ms/step - loss: 0.6576 - accuracy: 0.6190 - val_loss: 0.6650 - val_accuracy: 0.6364\n",
            "Epoch 12/50\n",
            "10/10 [==============================] - 0s 19ms/step - loss: 0.6566 - accuracy: 0.6054 - val_loss: 0.6699 - val_accuracy: 0.6364\n",
            "Epoch 13/50\n",
            "10/10 [==============================] - 0s 17ms/step - loss: 0.6542 - accuracy: 0.6054 - val_loss: 0.6762 - val_accuracy: 0.5909\n",
            "Epoch 14/50\n",
            "10/10 [==============================] - 0s 18ms/step - loss: 0.6664 - accuracy: 0.5918 - val_loss: 0.6688 - val_accuracy: 0.6364\n",
            "Epoch 15/50\n",
            "10/10 [==============================] - 0s 22ms/step - loss: 0.6525 - accuracy: 0.6122 - val_loss: 0.6921 - val_accuracy: 0.6364\n",
            "Epoch 16/50\n",
            "10/10 [==============================] - 0s 18ms/step - loss: 0.6552 - accuracy: 0.6122 - val_loss: 0.6852 - val_accuracy: 0.6364\n",
            "Epoch 17/50\n",
            "10/10 [==============================] - 0s 20ms/step - loss: 0.6503 - accuracy: 0.6054 - val_loss: 0.6694 - val_accuracy: 0.6364\n",
            "Epoch 18/50\n",
            "10/10 [==============================] - 0s 20ms/step - loss: 0.6489 - accuracy: 0.6259 - val_loss: 0.6770 - val_accuracy: 0.6818\n",
            "Epoch 19/50\n",
            "10/10 [==============================] - 0s 20ms/step - loss: 0.6501 - accuracy: 0.6327 - val_loss: 0.6905 - val_accuracy: 0.6364\n",
            "Epoch 20/50\n",
            "10/10 [==============================] - 0s 19ms/step - loss: 0.6505 - accuracy: 0.6395 - val_loss: 0.6910 - val_accuracy: 0.6364\n",
            "Epoch 21/50\n",
            "10/10 [==============================] - 0s 20ms/step - loss: 0.6487 - accuracy: 0.6395 - val_loss: 0.6924 - val_accuracy: 0.5909\n",
            "Epoch 22/50\n",
            "10/10 [==============================] - 0s 20ms/step - loss: 0.6431 - accuracy: 0.6667 - val_loss: 0.6798 - val_accuracy: 0.6364\n",
            "Epoch 23/50\n",
            "10/10 [==============================] - 0s 21ms/step - loss: 0.6413 - accuracy: 0.6735 - val_loss: 0.6773 - val_accuracy: 0.6364\n",
            "Epoch 24/50\n",
            "10/10 [==============================] - 0s 22ms/step - loss: 0.6388 - accuracy: 0.6463 - val_loss: 0.6751 - val_accuracy: 0.5000\n",
            "Epoch 25/50\n",
            "10/10 [==============================] - 0s 20ms/step - loss: 0.6479 - accuracy: 0.6327 - val_loss: 0.6711 - val_accuracy: 0.5000\n",
            "Epoch 26/50\n",
            "10/10 [==============================] - 0s 19ms/step - loss: 0.6371 - accuracy: 0.6463 - val_loss: 0.6931 - val_accuracy: 0.6818\n",
            "Epoch 27/50\n",
            "10/10 [==============================] - 0s 22ms/step - loss: 0.6358 - accuracy: 0.6667 - val_loss: 0.6745 - val_accuracy: 0.5909\n",
            "Epoch 28/50\n",
            "10/10 [==============================] - 0s 20ms/step - loss: 0.6419 - accuracy: 0.6395 - val_loss: 0.6512 - val_accuracy: 0.4545\n",
            "Epoch 29/50\n",
            "10/10 [==============================] - 0s 21ms/step - loss: 0.6616 - accuracy: 0.6190 - val_loss: 0.6552 - val_accuracy: 0.6818\n",
            "Epoch 30/50\n",
            "10/10 [==============================] - 0s 21ms/step - loss: 0.6459 - accuracy: 0.6667 - val_loss: 0.6492 - val_accuracy: 0.6364\n",
            "Epoch 31/50\n",
            "10/10 [==============================] - 0s 21ms/step - loss: 0.6440 - accuracy: 0.6327 - val_loss: 0.6641 - val_accuracy: 0.6818\n",
            "Epoch 32/50\n",
            "10/10 [==============================] - 0s 23ms/step - loss: 0.6514 - accuracy: 0.6259 - val_loss: 0.6722 - val_accuracy: 0.6818\n",
            "Epoch 33/50\n",
            "10/10 [==============================] - 0s 22ms/step - loss: 0.6361 - accuracy: 0.6531 - val_loss: 0.6611 - val_accuracy: 0.5455\n",
            "Epoch 34/50\n",
            "10/10 [==============================] - 0s 20ms/step - loss: 0.6389 - accuracy: 0.6463 - val_loss: 0.6626 - val_accuracy: 0.5909\n",
            "Epoch 35/50\n",
            "10/10 [==============================] - 0s 21ms/step - loss: 0.6381 - accuracy: 0.6531 - val_loss: 0.6913 - val_accuracy: 0.6818\n",
            "Epoch 36/50\n",
            "10/10 [==============================] - 0s 21ms/step - loss: 0.6375 - accuracy: 0.6735 - val_loss: 0.6759 - val_accuracy: 0.5909\n",
            "Epoch 37/50\n",
            "10/10 [==============================] - 0s 18ms/step - loss: 0.6308 - accuracy: 0.6599 - val_loss: 0.6676 - val_accuracy: 0.5455\n",
            "Epoch 38/50\n",
            "10/10 [==============================] - 0s 18ms/step - loss: 0.6331 - accuracy: 0.6599 - val_loss: 0.6588 - val_accuracy: 0.6818\n",
            "Epoch 39/50\n",
            "10/10 [==============================] - 0s 21ms/step - loss: 0.6417 - accuracy: 0.6599 - val_loss: 0.6729 - val_accuracy: 0.6818\n",
            "Epoch 40/50\n",
            "10/10 [==============================] - 0s 20ms/step - loss: 0.6305 - accuracy: 0.6463 - val_loss: 0.6488 - val_accuracy: 0.6818\n",
            "Epoch 41/50\n",
            "10/10 [==============================] - 0s 20ms/step - loss: 0.6519 - accuracy: 0.6190 - val_loss: 0.6879 - val_accuracy: 0.6818\n",
            "Epoch 42/50\n",
            "10/10 [==============================] - 0s 19ms/step - loss: 0.6378 - accuracy: 0.6327 - val_loss: 0.6757 - val_accuracy: 0.6818\n",
            "Epoch 43/50\n",
            "10/10 [==============================] - 0s 18ms/step - loss: 0.6244 - accuracy: 0.6803 - val_loss: 0.6771 - val_accuracy: 0.5455\n",
            "Epoch 44/50\n",
            "10/10 [==============================] - 0s 22ms/step - loss: 0.6219 - accuracy: 0.6735 - val_loss: 0.6756 - val_accuracy: 0.5909\n",
            "Epoch 45/50\n",
            "10/10 [==============================] - 0s 20ms/step - loss: 0.6497 - accuracy: 0.6054 - val_loss: 0.6489 - val_accuracy: 0.5455\n",
            "Epoch 46/50\n",
            "10/10 [==============================] - 0s 20ms/step - loss: 0.6262 - accuracy: 0.6599 - val_loss: 0.6992 - val_accuracy: 0.6818\n",
            "Epoch 47/50\n",
            "10/10 [==============================] - 0s 21ms/step - loss: 0.6357 - accuracy: 0.6327 - val_loss: 0.6669 - val_accuracy: 0.6818\n",
            "Epoch 48/50\n",
            "10/10 [==============================] - 0s 19ms/step - loss: 0.6299 - accuracy: 0.6463 - val_loss: 0.6478 - val_accuracy: 0.5909\n",
            "Epoch 49/50\n",
            "10/10 [==============================] - 0s 21ms/step - loss: 0.6317 - accuracy: 0.6463 - val_loss: 0.6549 - val_accuracy: 0.6818\n",
            "Epoch 50/50\n",
            "10/10 [==============================] - 0s 18ms/step - loss: 0.6184 - accuracy: 0.6599 - val_loss: 0.6741 - val_accuracy: 0.6818\n"
          ]
        },
        {
          "output_type": "execute_result",
          "data": {
            "text/plain": [
              "<keras.callbacks.History at 0x7f15368bee10>"
            ]
          },
          "metadata": {},
          "execution_count": 327
        }
      ],
      "id": "_NPg6vfFDhsL"
    },
    {
      "cell_type": "code",
      "source": [
        "model.evaluate(x_test, y_test, verbose=1)"
      ],
      "metadata": {
        "colab": {
          "base_uri": "https://localhost:8080/"
        },
        "outputId": "360ebf93-fc15-4588-a806-ad8c0d1b444a",
        "id": "8PZxbKrkDhsL"
      },
      "execution_count": 328,
      "outputs": [
        {
          "output_type": "stream",
          "name": "stdout",
          "text": [
            "2/2 [==============================] - 0s 9ms/step - loss: 0.6704 - accuracy: 0.5814\n"
          ]
        },
        {
          "output_type": "execute_result",
          "data": {
            "text/plain": [
              "[0.6704011559486389, 0.5813953280448914]"
            ]
          },
          "metadata": {},
          "execution_count": 328
        }
      ],
      "id": "8PZxbKrkDhsL"
    },
    {
      "cell_type": "code",
      "source": [
        "%tensorboard --logdir '/content/drive/MyDrive/logs'"
      ],
      "metadata": {
        "id": "iH6Cj_RHDhsL"
      },
      "execution_count": null,
      "outputs": [],
      "id": "iH6Cj_RHDhsL"
    },
    {
      "cell_type": "code",
      "source": [
        "y_pred = model.predict(x_test)\n",
        "temp = [1 if x > 0.5 else 0 for x in y_pred]\n",
        "confusion_matrix(y_test, temp)"
      ],
      "metadata": {
        "outputId": "b7e87efc-0c8b-417a-f54b-28deefa70a79",
        "colab": {
          "base_uri": "https://localhost:8080/"
        },
        "id": "09dM15cODhsM"
      },
      "execution_count": 330,
      "outputs": [
        {
          "output_type": "execute_result",
          "data": {
            "text/plain": [
              "array([[ 5, 14],\n",
              "       [ 4, 20]])"
            ]
          },
          "metadata": {},
          "execution_count": 330
        }
      ],
      "id": "09dM15cODhsM"
    },
    {
      "cell_type": "code",
      "source": [
        ""
      ],
      "metadata": {
        "id": "0gxfZoOQDhsM"
      },
      "execution_count": null,
      "outputs": [],
      "id": "0gxfZoOQDhsM"
    },
    {
      "cell_type": "code",
      "source": [
        ""
      ],
      "metadata": {
        "id": "ro_6F4i7DhsM"
      },
      "execution_count": null,
      "outputs": [],
      "id": "ro_6F4i7DhsM"
    },
    {
      "cell_type": "markdown",
      "source": [
        "### Model 5:"
      ],
      "metadata": {
        "id": "8vNhTidlD4Zv"
      },
      "id": "8vNhTidlD4Zv"
    },
    {
      "cell_type": "code",
      "source": [
        ""
      ],
      "metadata": {
        "id": "VeOyftRTuKNW"
      },
      "id": "VeOyftRTuKNW",
      "execution_count": null,
      "outputs": []
    },
    {
      "cell_type": "code",
      "source": [
        "model = Sequential()\n",
        "model.add(LSTM(units=50, return_sequences=True, input_shape=(x_train.shape[1], x_train.shape[2])))\n",
        "model.add(Dropout(0.2))\n",
        "model.add(LSTM(units=40,return_sequences=True))\n",
        "model.add(Dropout(0.2))\n",
        "model.add(LSTM(units=30,return_sequences=True))\n",
        "model.add(Dropout(0.2))\n",
        "model.add(LSTM(units=20,return_sequences=True))\n",
        "model.add(Dropout(0.15))\n",
        "model.add(LSTM(units=10,return_sequences=True))\n",
        "model.add(Dropout(0.1))\n",
        "model.add(LSTM(units=10))\n",
        "model.add(Dense(units=1))"
      ],
      "metadata": {
        "id": "lrSwg7DoD6Wm"
      },
      "execution_count": 515,
      "outputs": [],
      "id": "lrSwg7DoD6Wm"
    },
    {
      "cell_type": "code",
      "source": [
        "model.compile(optimizer='adam', loss='binary_crossentropy', metrics=['accuracy'])\n",
        "model.summary()"
      ],
      "metadata": {
        "colab": {
          "base_uri": "https://localhost:8080/"
        },
        "outputId": "7277b334-4d3f-4932-8233-4501600775f0",
        "id": "8E9IKsMrD6Wm"
      },
      "execution_count": 516,
      "outputs": [
        {
          "output_type": "stream",
          "name": "stdout",
          "text": [
            "Model: \"sequential_65\"\n",
            "_________________________________________________________________\n",
            " Layer (type)                Output Shape              Param #   \n",
            "=================================================================\n",
            " lstm_88 (LSTM)              (None, 25, 50)            37400     \n",
            "                                                                 \n",
            " dropout_59 (Dropout)        (None, 25, 50)            0         \n",
            "                                                                 \n",
            " lstm_89 (LSTM)              (None, 25, 40)            14560     \n",
            "                                                                 \n",
            " dropout_60 (Dropout)        (None, 25, 40)            0         \n",
            "                                                                 \n",
            " lstm_90 (LSTM)              (None, 25, 30)            8520      \n",
            "                                                                 \n",
            " dropout_61 (Dropout)        (None, 25, 30)            0         \n",
            "                                                                 \n",
            " lstm_91 (LSTM)              (None, 25, 20)            4080      \n",
            "                                                                 \n",
            " dropout_62 (Dropout)        (None, 25, 20)            0         \n",
            "                                                                 \n",
            " lstm_92 (LSTM)              (None, 25, 10)            1240      \n",
            "                                                                 \n",
            " dropout_63 (Dropout)        (None, 25, 10)            0         \n",
            "                                                                 \n",
            " lstm_93 (LSTM)              (None, 10)                840       \n",
            "                                                                 \n",
            " dense_65 (Dense)            (None, 1)                 11        \n",
            "                                                                 \n",
            "=================================================================\n",
            "Total params: 66,651\n",
            "Trainable params: 66,651\n",
            "Non-trainable params: 0\n",
            "_________________________________________________________________\n"
          ]
        }
      ],
      "id": "8E9IKsMrD6Wm"
    },
    {
      "cell_type": "code",
      "source": [
        "plot_model(model, show_shapes=True, show_layer_names=True, expand_nested=True)"
      ],
      "metadata": {
        "colab": {
          "base_uri": "https://localhost:8080/",
          "height": 1000
        },
        "outputId": "81fc8aa4-711a-4f61-d011-9656b4bc1f9d",
        "id": "6i-8UsTKD6Wn"
      },
      "execution_count": 517,
      "outputs": [
        {
          "output_type": "execute_result",
          "data": {
            "text/plain": [
              "<IPython.core.display.Image object>"
            ],
            "image/png": "[encoded data removed]"
          },
          "metadata": {},
          "execution_count": 517
        }
      ],
      "id": "6i-8UsTKD6Wn"
    },
    {
      "cell_type": "code",
      "source": [
        "model.fit(x_train, y_train, batch_size=16, epochs=50, validation_data=(x_val, y_val), callbacks=[tb_callback])"
      ],
      "metadata": {
        "colab": {
          "base_uri": "https://localhost:8080/"
        },
        "outputId": "d88b0f1a-7eea-4840-9c5c-ce794230be1f",
        "id": "n4oQZp-4D6Wn"
      },
      "execution_count": 518,
      "outputs": [
        {
          "output_type": "stream",
          "name": "stdout",
          "text": [
            "Epoch 1/50\n",
            "10/10 [==============================] - 16s 410ms/step - loss: 1.1747 - accuracy: 0.4286 - val_loss: 0.7298 - val_accuracy: 0.4545\n",
            "Epoch 2/50\n",
            "10/10 [==============================] - 1s 98ms/step - loss: 0.7138 - accuracy: 0.5238 - val_loss: 0.7158 - val_accuracy: 0.5455\n",
            "Epoch 3/50\n",
            "10/10 [==============================] - 1s 101ms/step - loss: 0.7071 - accuracy: 0.5714 - val_loss: 0.7216 - val_accuracy: 0.5455\n",
            "Epoch 4/50\n",
            "10/10 [==============================] - 1s 105ms/step - loss: 0.7031 - accuracy: 0.5646 - val_loss: 0.6901 - val_accuracy: 0.5455\n",
            "Epoch 5/50\n",
            "10/10 [==============================] - 1s 103ms/step - loss: 0.6856 - accuracy: 0.5510 - val_loss: 0.6946 - val_accuracy: 0.5455\n",
            "Epoch 6/50\n",
            "10/10 [==============================] - 1s 100ms/step - loss: 0.6828 - accuracy: 0.5782 - val_loss: 0.6942 - val_accuracy: 0.5455\n",
            "Epoch 7/50\n",
            "10/10 [==============================] - 1s 101ms/step - loss: 0.6963 - accuracy: 0.5714 - val_loss: 0.6998 - val_accuracy: 0.5455\n",
            "Epoch 8/50\n",
            "10/10 [==============================] - 1s 100ms/step - loss: 0.6826 - accuracy: 0.5714 - val_loss: 0.6958 - val_accuracy: 0.5455\n",
            "Epoch 9/50\n",
            "10/10 [==============================] - 1s 101ms/step - loss: 0.6897 - accuracy: 0.5578 - val_loss: 0.6904 - val_accuracy: 0.5455\n",
            "Epoch 10/50\n",
            "10/10 [==============================] - 1s 101ms/step - loss: 0.6819 - accuracy: 0.5782 - val_loss: 0.6928 - val_accuracy: 0.5455\n",
            "Epoch 11/50\n",
            "10/10 [==============================] - 1s 99ms/step - loss: 0.6907 - accuracy: 0.5714 - val_loss: 0.6952 - val_accuracy: 0.5455\n",
            "Epoch 12/50\n",
            "10/10 [==============================] - 1s 98ms/step - loss: 0.6838 - accuracy: 0.5714 - val_loss: 0.6903 - val_accuracy: 0.5455\n",
            "Epoch 13/50\n",
            "10/10 [==============================] - 1s 101ms/step - loss: 0.6896 - accuracy: 0.5714 - val_loss: 0.6956 - val_accuracy: 0.5455\n",
            "Epoch 14/50\n",
            "10/10 [==============================] - 1s 97ms/step - loss: 0.6855 - accuracy: 0.5714 - val_loss: 0.6908 - val_accuracy: 0.5455\n",
            "Epoch 15/50\n",
            "10/10 [==============================] - 1s 97ms/step - loss: 0.6808 - accuracy: 0.5646 - val_loss: 0.6899 - val_accuracy: 0.5455\n",
            "Epoch 16/50\n",
            "10/10 [==============================] - 1s 103ms/step - loss: 0.6721 - accuracy: 0.5782 - val_loss: 0.6852 - val_accuracy: 0.5455\n",
            "Epoch 17/50\n",
            "10/10 [==============================] - 1s 97ms/step - loss: 0.6730 - accuracy: 0.5578 - val_loss: 0.6956 - val_accuracy: 0.5455\n",
            "Epoch 18/50\n",
            "10/10 [==============================] - 1s 100ms/step - loss: 0.6784 - accuracy: 0.5850 - val_loss: 0.6542 - val_accuracy: 0.6364\n",
            "Epoch 19/50\n",
            "10/10 [==============================] - 1s 99ms/step - loss: 0.7004 - accuracy: 0.5238 - val_loss: 0.7174 - val_accuracy: 0.5455\n",
            "Epoch 20/50\n",
            "10/10 [==============================] - 1s 102ms/step - loss: 0.6905 - accuracy: 0.5714 - val_loss: 0.6992 - val_accuracy: 0.5455\n",
            "Epoch 21/50\n",
            "10/10 [==============================] - 1s 99ms/step - loss: 0.6712 - accuracy: 0.6122 - val_loss: 0.6795 - val_accuracy: 0.5909\n",
            "Epoch 22/50\n",
            "10/10 [==============================] - 1s 102ms/step - loss: 0.6699 - accuracy: 0.6122 - val_loss: 0.6893 - val_accuracy: 0.5909\n",
            "Epoch 23/50\n",
            "10/10 [==============================] - 1s 99ms/step - loss: 0.6762 - accuracy: 0.6259 - val_loss: 0.6844 - val_accuracy: 0.5909\n",
            "Epoch 24/50\n",
            "10/10 [==============================] - 1s 99ms/step - loss: 0.6684 - accuracy: 0.6327 - val_loss: 0.6868 - val_accuracy: 0.5000\n",
            "Epoch 25/50\n",
            "10/10 [==============================] - 1s 102ms/step - loss: 0.6735 - accuracy: 0.6054 - val_loss: 0.6838 - val_accuracy: 0.5909\n",
            "Epoch 26/50\n",
            "10/10 [==============================] - 1s 101ms/step - loss: 0.6597 - accuracy: 0.6395 - val_loss: 0.6887 - val_accuracy: 0.5909\n",
            "Epoch 27/50\n",
            "10/10 [==============================] - 1s 102ms/step - loss: 0.6657 - accuracy: 0.5986 - val_loss: 0.6871 - val_accuracy: 0.5909\n",
            "Epoch 28/50\n",
            "10/10 [==============================] - 1s 106ms/step - loss: 0.6563 - accuracy: 0.6259 - val_loss: 0.6647 - val_accuracy: 0.5909\n",
            "Epoch 29/50\n",
            "10/10 [==============================] - 1s 104ms/step - loss: 0.6543 - accuracy: 0.6259 - val_loss: 0.6696 - val_accuracy: 0.5455\n",
            "Epoch 30/50\n",
            "10/10 [==============================] - 1s 101ms/step - loss: 0.6716 - accuracy: 0.5646 - val_loss: 0.6642 - val_accuracy: 0.5909\n",
            "Epoch 31/50\n",
            "10/10 [==============================] - 1s 98ms/step - loss: 0.6713 - accuracy: 0.5986 - val_loss: 0.7101 - val_accuracy: 0.5455\n",
            "Epoch 32/50\n",
            "10/10 [==============================] - 1s 101ms/step - loss: 0.6726 - accuracy: 0.5986 - val_loss: 0.6712 - val_accuracy: 0.5909\n",
            "Epoch 33/50\n",
            "10/10 [==============================] - 1s 100ms/step - loss: 0.6642 - accuracy: 0.6190 - val_loss: 0.6733 - val_accuracy: 0.5909\n",
            "Epoch 34/50\n",
            "10/10 [==============================] - 1s 99ms/step - loss: 0.6616 - accuracy: 0.6054 - val_loss: 0.6899 - val_accuracy: 0.5455\n",
            "Epoch 35/50\n",
            "10/10 [==============================] - 1s 101ms/step - loss: 0.6714 - accuracy: 0.6259 - val_loss: 0.6970 - val_accuracy: 0.5000\n",
            "Epoch 36/50\n",
            "10/10 [==============================] - 1s 102ms/step - loss: 0.6710 - accuracy: 0.5986 - val_loss: 0.6910 - val_accuracy: 0.5909\n",
            "Epoch 37/50\n",
            "10/10 [==============================] - 1s 99ms/step - loss: 0.6542 - accuracy: 0.6190 - val_loss: 0.6924 - val_accuracy: 0.5909\n",
            "Epoch 38/50\n",
            "10/10 [==============================] - 1s 103ms/step - loss: 0.6488 - accuracy: 0.6395 - val_loss: 0.6729 - val_accuracy: 0.6364\n",
            "Epoch 39/50\n",
            "10/10 [==============================] - 1s 101ms/step - loss: 0.6675 - accuracy: 0.6054 - val_loss: 0.6697 - val_accuracy: 0.5909\n",
            "Epoch 40/50\n",
            "10/10 [==============================] - 1s 106ms/step - loss: 0.6640 - accuracy: 0.6122 - val_loss: 0.6810 - val_accuracy: 0.5909\n",
            "Epoch 41/50\n",
            "10/10 [==============================] - 1s 100ms/step - loss: 0.6681 - accuracy: 0.6259 - val_loss: 0.6787 - val_accuracy: 0.5909\n",
            "Epoch 42/50\n",
            "10/10 [==============================] - 1s 99ms/step - loss: 0.6608 - accuracy: 0.6259 - val_loss: 0.6814 - val_accuracy: 0.5455\n",
            "Epoch 43/50\n",
            "10/10 [==============================] - 1s 102ms/step - loss: 0.6631 - accuracy: 0.6395 - val_loss: 0.6897 - val_accuracy: 0.5909\n",
            "Epoch 44/50\n",
            "10/10 [==============================] - 1s 105ms/step - loss: 0.6915 - accuracy: 0.5238 - val_loss: 0.6700 - val_accuracy: 0.5455\n",
            "Epoch 45/50\n",
            "10/10 [==============================] - 1s 100ms/step - loss: 0.6853 - accuracy: 0.4966 - val_loss: 0.6839 - val_accuracy: 0.5455\n",
            "Epoch 46/50\n",
            "10/10 [==============================] - 1s 97ms/step - loss: 0.6739 - accuracy: 0.5986 - val_loss: 0.6881 - val_accuracy: 0.5455\n",
            "Epoch 47/50\n",
            "10/10 [==============================] - 1s 99ms/step - loss: 0.6818 - accuracy: 0.5714 - val_loss: 0.6983 - val_accuracy: 0.5455\n",
            "Epoch 48/50\n",
            "10/10 [==============================] - 1s 100ms/step - loss: 0.6764 - accuracy: 0.5782 - val_loss: 0.6819 - val_accuracy: 0.6364\n",
            "Epoch 49/50\n",
            "10/10 [==============================] - 1s 100ms/step - loss: 0.6908 - accuracy: 0.5306 - val_loss: 0.6738 - val_accuracy: 0.5455\n",
            "Epoch 50/50\n",
            "10/10 [==============================] - 1s 104ms/step - loss: 0.6699 - accuracy: 0.6122 - val_loss: 0.6848 - val_accuracy: 0.5909\n"
          ]
        },
        {
          "output_type": "execute_result",
          "data": {
            "text/plain": [
              "<keras.callbacks.History at 0x7f14f366eed0>"
            ]
          },
          "metadata": {},
          "execution_count": 518
        }
      ],
      "id": "n4oQZp-4D6Wn"
    },
    {
      "cell_type": "code",
      "source": [
        "model.evaluate(x_test, y_test, verbose=1)"
      ],
      "metadata": {
        "colab": {
          "base_uri": "https://localhost:8080/"
        },
        "outputId": "5c1ddc7b-efd7-4509-e89f-a7790c4d2709",
        "id": "o1EbqXN0D6Wn"
      },
      "execution_count": 519,
      "outputs": [
        {
          "output_type": "stream",
          "name": "stdout",
          "text": [
            "2/2 [==============================] - 0s 21ms/step - loss: 0.6732 - accuracy: 0.5814\n"
          ]
        },
        {
          "output_type": "execute_result",
          "data": {
            "text/plain": [
              "[0.6732415556907654, 0.5813953280448914]"
            ]
          },
          "metadata": {},
          "execution_count": 519
        }
      ],
      "id": "o1EbqXN0D6Wn"
    },
    {
      "cell_type": "code",
      "source": [
        "%tensorboard --logdir '/content/drive/MyDrive/logs'"
      ],
      "metadata": {
        "id": "VnJHGFNGD6Wn"
      },
      "execution_count": null,
      "outputs": [],
      "id": "VnJHGFNGD6Wn"
    },
    {
      "cell_type": "code",
      "source": [
        "y_pred = model.predict(x_test)\n",
        "temp = [1 if x > 0.5 else 0 for x in y_pred]\n",
        "confusion_matrix(y_test, temp)"
      ],
      "metadata": {
        "outputId": "35b4bfd2-e2f2-4c08-f9b0-2daa2d7d36d5",
        "colab": {
          "base_uri": "https://localhost:8080/"
        },
        "id": "BreZB7dvD6Wn"
      },
      "execution_count": 521,
      "outputs": [
        {
          "output_type": "execute_result",
          "data": {
            "text/plain": [
              "array([[ 1, 18],\n",
              "       [ 0, 24]])"
            ]
          },
          "metadata": {},
          "execution_count": 521
        }
      ],
      "id": "BreZB7dvD6Wn"
    },
    {
      "cell_type": "code",
      "source": [
        ""
      ],
      "metadata": {
        "id": "Ye-8qruqD6Wn"
      },
      "execution_count": null,
      "outputs": [],
      "id": "Ye-8qruqD6Wn"
    },
    {
      "cell_type": "code",
      "source": [
        ""
      ],
      "metadata": {
        "id": "6-ElkN_RgDkG"
      },
      "id": "6-ElkN_RgDkG",
      "execution_count": null,
      "outputs": []
    },
    {
      "cell_type": "markdown",
      "source": [
        "## GRU"
      ],
      "metadata": {
        "id": "KApcdI8XyXny"
      },
      "id": "KApcdI8XyXny"
    },
    {
      "cell_type": "code",
      "source": [
        "model = tf.keras.Sequential()\n",
        "model.add(GRU(50, return_sequences=True, input_shape=(x_train.shape[1], x_train.shape[2]), activation='tanh'))\n",
        "model.add(Dropout(0.1))\n",
        "model.add(GRU(50, return_sequences=True, activation='tanh'))\n",
        "model.add(Dropout(0.1))\n",
        "model.add(GRU(30, return_sequences=True, activation='tanh'))\n",
        "model.add(Dropout(0.1))\n",
        "model.add(GRU(10, activation='tanh'))\n",
        "model.add(Dense(units=1))\n",
        "\n",
        "model.compile(optimizer=tf.keras.optimizers.SGD(learning_rate=0.01, decay=1e-7, momentum=0.9, nesterov=False), loss='binary_crossentropy')\n",
        "print(model.summary())"
      ],
      "metadata": {
        "colab": {
          "base_uri": "https://localhost:8080/"
        },
        "id": "bM3Gy-yP9_68",
        "outputId": "9ed77983-d753-44d4-974e-2b15d3d8fec8"
      },
      "id": "bM3Gy-yP9_68",
      "execution_count": 44,
      "outputs": [
        {
          "output_type": "stream",
          "name": "stdout",
          "text": [
            "Model: \"sequential_5\"\n",
            "_________________________________________________________________\n",
            " Layer (type)                Output Shape              Param #   \n",
            "=================================================================\n",
            " gru_16 (GRU)                (None, 25, 50)            28200     \n",
            "                                                                 \n",
            " dropout_9 (Dropout)         (None, 25, 50)            0         \n",
            "                                                                 \n",
            " gru_17 (GRU)                (None, 25, 50)            15300     \n",
            "                                                                 \n",
            " dropout_10 (Dropout)        (None, 25, 50)            0         \n",
            "                                                                 \n",
            " gru_18 (GRU)                (None, 25, 30)            7380      \n",
            "                                                                 \n",
            " dropout_11 (Dropout)        (None, 25, 30)            0         \n",
            "                                                                 \n",
            " gru_19 (GRU)                (None, 10)                1260      \n",
            "                                                                 \n",
            " dense_3 (Dense)             (None, 1)                 11        \n",
            "                                                                 \n",
            "=================================================================\n",
            "Total params: 52,151\n",
            "Trainable params: 52,151\n",
            "Non-trainable params: 0\n",
            "_________________________________________________________________\n",
            "None\n"
          ]
        }
      ]
    },
    {
      "cell_type": "code",
      "source": [
        "model.compile(optimizer='adam', loss='binary_crossentropy', metrics=['accuracy'])\n",
        "model.summary()"
      ],
      "metadata": {
        "id": "MHCdlkiD9_4U",
        "colab": {
          "base_uri": "https://localhost:8080/"
        },
        "outputId": "b7b97170-9866-4d1b-abde-d71f7d2bd71f"
      },
      "id": "MHCdlkiD9_4U",
      "execution_count": 45,
      "outputs": [
        {
          "output_type": "stream",
          "name": "stdout",
          "text": [
            "Model: \"sequential_5\"\n",
            "_________________________________________________________________\n",
            " Layer (type)                Output Shape              Param #   \n",
            "=================================================================\n",
            " gru_16 (GRU)                (None, 25, 50)            28200     \n",
            "                                                                 \n",
            " dropout_9 (Dropout)         (None, 25, 50)            0         \n",
            "                                                                 \n",
            " gru_17 (GRU)                (None, 25, 50)            15300     \n",
            "                                                                 \n",
            " dropout_10 (Dropout)        (None, 25, 50)            0         \n",
            "                                                                 \n",
            " gru_18 (GRU)                (None, 25, 30)            7380      \n",
            "                                                                 \n",
            " dropout_11 (Dropout)        (None, 25, 30)            0         \n",
            "                                                                 \n",
            " gru_19 (GRU)                (None, 10)                1260      \n",
            "                                                                 \n",
            " dense_3 (Dense)             (None, 1)                 11        \n",
            "                                                                 \n",
            "=================================================================\n",
            "Total params: 52,151\n",
            "Trainable params: 52,151\n",
            "Non-trainable params: 0\n",
            "_________________________________________________________________\n"
          ]
        }
      ]
    },
    {
      "cell_type": "code",
      "source": [
        "plot_model(model, show_shapes=True, show_layer_names=True, expand_nested=True)"
      ],
      "metadata": {
        "id": "tRfcGfPp9_1b",
        "colab": {
          "base_uri": "https://localhost:8080/",
          "height": 976
        },
        "outputId": "c091e255-3b1e-403a-c47a-5dab96572896"
      },
      "id": "tRfcGfPp9_1b",
      "execution_count": 46,
      "outputs": [
        {
          "output_type": "execute_result",
          "data": {
            "text/plain": [
              "<IPython.core.display.Image object>"
            ],
            "image/png": "[encoded data removed]"
          },
          "metadata": {},
          "execution_count": 46
        }
      ]
    },
    {
      "cell_type": "code",
      "source": [
        "model.fit(x_train, y_train, batch_size=16, epochs=100, validation_data=(x_val, y_val), callbacks=[tb_callback])"
      ],
      "metadata": {
        "id": "pv-9BFVg9_yr",
        "colab": {
          "base_uri": "https://localhost:8080/"
        },
        "outputId": "7fe26bd8-febc-4a6a-e8ad-684bcb00cc35"
      },
      "id": "pv-9BFVg9_yr",
      "execution_count": 47,
      "outputs": [
        {
          "output_type": "stream",
          "name": "stdout",
          "text": [
            "Epoch 1/100\n",
            "10/10 [==============================] - 12s 276ms/step - loss: 1.1202 - accuracy: 0.5510 - val_loss: 0.7237 - val_accuracy: 0.5000\n",
            "Epoch 2/100\n",
            "10/10 [==============================] - 1s 64ms/step - loss: 0.7864 - accuracy: 0.5170 - val_loss: 0.6986 - val_accuracy: 0.5455\n",
            "Epoch 3/100\n",
            "10/10 [==============================] - 1s 71ms/step - loss: 0.7050 - accuracy: 0.5646 - val_loss: 0.7180 - val_accuracy: 0.5000\n",
            "Epoch 4/100\n",
            "10/10 [==============================] - 1s 73ms/step - loss: 0.6895 - accuracy: 0.5850 - val_loss: 0.6973 - val_accuracy: 0.5000\n",
            "Epoch 5/100\n",
            "10/10 [==============================] - 1s 62ms/step - loss: 0.6813 - accuracy: 0.5510 - val_loss: 0.6988 - val_accuracy: 0.5000\n",
            "Epoch 6/100\n",
            "10/10 [==============================] - 1s 69ms/step - loss: 0.6618 - accuracy: 0.5578 - val_loss: 0.6931 - val_accuracy: 0.5000\n",
            "Epoch 7/100\n",
            "10/10 [==============================] - 1s 70ms/step - loss: 0.6718 - accuracy: 0.6395 - val_loss: 0.6856 - val_accuracy: 0.5000\n",
            "Epoch 8/100\n",
            "10/10 [==============================] - 1s 68ms/step - loss: 0.6802 - accuracy: 0.5714 - val_loss: 0.6827 - val_accuracy: 0.5000\n",
            "Epoch 9/100\n",
            "10/10 [==============================] - 1s 61ms/step - loss: 0.6814 - accuracy: 0.5918 - val_loss: 0.6835 - val_accuracy: 0.5455\n",
            "Epoch 10/100\n",
            "10/10 [==============================] - 1s 69ms/step - loss: 0.6717 - accuracy: 0.5850 - val_loss: 0.6902 - val_accuracy: 0.5000\n",
            "Epoch 11/100\n",
            "10/10 [==============================] - 1s 65ms/step - loss: 0.6852 - accuracy: 0.5510 - val_loss: 0.7046 - val_accuracy: 0.5455\n",
            "Epoch 12/100\n",
            "10/10 [==============================] - 1s 66ms/step - loss: 0.6868 - accuracy: 0.5918 - val_loss: 0.7175 - val_accuracy: 0.5909\n",
            "Epoch 13/100\n",
            "10/10 [==============================] - 1s 65ms/step - loss: 0.6953 - accuracy: 0.5850 - val_loss: 0.7344 - val_accuracy: 0.4545\n",
            "Epoch 14/100\n",
            "10/10 [==============================] - 1s 63ms/step - loss: 0.6633 - accuracy: 0.6259 - val_loss: 0.7032 - val_accuracy: 0.5000\n",
            "Epoch 15/100\n",
            "10/10 [==============================] - 1s 64ms/step - loss: 0.6653 - accuracy: 0.6054 - val_loss: 0.7171 - val_accuracy: 0.5909\n",
            "Epoch 16/100\n",
            "10/10 [==============================] - 1s 62ms/step - loss: 0.6655 - accuracy: 0.5850 - val_loss: 0.7200 - val_accuracy: 0.5000\n",
            "Epoch 17/100\n",
            "10/10 [==============================] - 1s 65ms/step - loss: 0.6586 - accuracy: 0.6667 - val_loss: 0.7045 - val_accuracy: 0.5909\n",
            "Epoch 18/100\n",
            "10/10 [==============================] - 1s 67ms/step - loss: 0.6743 - accuracy: 0.5714 - val_loss: 0.7656 - val_accuracy: 0.4545\n",
            "Epoch 19/100\n",
            "10/10 [==============================] - 1s 63ms/step - loss: 0.6694 - accuracy: 0.6054 - val_loss: 0.7330 - val_accuracy: 0.4091\n",
            "Epoch 20/100\n",
            "10/10 [==============================] - 1s 66ms/step - loss: 0.7095 - accuracy: 0.5102 - val_loss: 0.7143 - val_accuracy: 0.5000\n",
            "Epoch 21/100\n",
            "10/10 [==============================] - 1s 64ms/step - loss: 0.6568 - accuracy: 0.6190 - val_loss: 0.7177 - val_accuracy: 0.5909\n",
            "Epoch 22/100\n",
            "10/10 [==============================] - 1s 68ms/step - loss: 0.6713 - accuracy: 0.5918 - val_loss: 0.7204 - val_accuracy: 0.5909\n",
            "Epoch 23/100\n",
            "10/10 [==============================] - 1s 70ms/step - loss: 0.6659 - accuracy: 0.5646 - val_loss: 0.6899 - val_accuracy: 0.5909\n",
            "Epoch 24/100\n",
            "10/10 [==============================] - 1s 70ms/step - loss: 0.6626 - accuracy: 0.6122 - val_loss: 0.6924 - val_accuracy: 0.5000\n",
            "Epoch 25/100\n",
            "10/10 [==============================] - 1s 72ms/step - loss: 0.6736 - accuracy: 0.5850 - val_loss: 0.6906 - val_accuracy: 0.6364\n",
            "Epoch 26/100\n",
            "10/10 [==============================] - 1s 67ms/step - loss: 0.6596 - accuracy: 0.6395 - val_loss: 0.6918 - val_accuracy: 0.5455\n",
            "Epoch 27/100\n",
            "10/10 [==============================] - 1s 65ms/step - loss: 0.6517 - accuracy: 0.6463 - val_loss: 0.6844 - val_accuracy: 0.5000\n",
            "Epoch 28/100\n",
            "10/10 [==============================] - 1s 76ms/step - loss: 0.6392 - accuracy: 0.6190 - val_loss: 0.6940 - val_accuracy: 0.5455\n",
            "Epoch 29/100\n",
            "10/10 [==============================] - 1s 72ms/step - loss: 0.6563 - accuracy: 0.6327 - val_loss: 0.6934 - val_accuracy: 0.6364\n",
            "Epoch 30/100\n",
            "10/10 [==============================] - 1s 64ms/step - loss: 0.6441 - accuracy: 0.6395 - val_loss: 0.7077 - val_accuracy: 0.5455\n",
            "Epoch 31/100\n",
            "10/10 [==============================] - 1s 65ms/step - loss: 0.6446 - accuracy: 0.6327 - val_loss: 0.6888 - val_accuracy: 0.5455\n",
            "Epoch 32/100\n",
            "10/10 [==============================] - 1s 73ms/step - loss: 0.6487 - accuracy: 0.6259 - val_loss: 0.6892 - val_accuracy: 0.5909\n",
            "Epoch 33/100\n",
            "10/10 [==============================] - 1s 72ms/step - loss: 0.6550 - accuracy: 0.5850 - val_loss: 0.6972 - val_accuracy: 0.5909\n",
            "Epoch 34/100\n",
            "10/10 [==============================] - 1s 78ms/step - loss: 0.6719 - accuracy: 0.6395 - val_loss: 0.6808 - val_accuracy: 0.5909\n",
            "Epoch 35/100\n",
            "10/10 [==============================] - 1s 70ms/step - loss: 0.6379 - accuracy: 0.6599 - val_loss: 0.6900 - val_accuracy: 0.5909\n",
            "Epoch 36/100\n",
            "10/10 [==============================] - 1s 65ms/step - loss: 0.6314 - accuracy: 0.6395 - val_loss: 0.6773 - val_accuracy: 0.5909\n",
            "Epoch 37/100\n",
            "10/10 [==============================] - 1s 64ms/step - loss: 0.6533 - accuracy: 0.6395 - val_loss: 0.6758 - val_accuracy: 0.6818\n",
            "Epoch 38/100\n",
            "10/10 [==============================] - 1s 71ms/step - loss: 0.6274 - accuracy: 0.6871 - val_loss: 0.6814 - val_accuracy: 0.6364\n",
            "Epoch 39/100\n",
            "10/10 [==============================] - 1s 76ms/step - loss: 0.6352 - accuracy: 0.6803 - val_loss: 0.7349 - val_accuracy: 0.6364\n",
            "Epoch 40/100\n",
            "10/10 [==============================] - 1s 76ms/step - loss: 0.6253 - accuracy: 0.6531 - val_loss: 0.6725 - val_accuracy: 0.6818\n",
            "Epoch 41/100\n",
            "10/10 [==============================] - 1s 73ms/step - loss: 0.6273 - accuracy: 0.6599 - val_loss: 0.6978 - val_accuracy: 0.5909\n",
            "Epoch 42/100\n",
            "10/10 [==============================] - 1s 64ms/step - loss: 0.6251 - accuracy: 0.6531 - val_loss: 1.3487 - val_accuracy: 0.5455\n",
            "Epoch 43/100\n",
            "10/10 [==============================] - 1s 65ms/step - loss: 1.1813 - accuracy: 0.5782 - val_loss: 3.4979 - val_accuracy: 0.5455\n",
            "Epoch 44/100\n",
            "10/10 [==============================] - 1s 76ms/step - loss: 1.5210 - accuracy: 0.6122 - val_loss: 0.9929 - val_accuracy: 0.4545\n",
            "Epoch 45/100\n",
            "10/10 [==============================] - 1s 82ms/step - loss: 0.8214 - accuracy: 0.4830 - val_loss: 0.7813 - val_accuracy: 0.5455\n",
            "Epoch 46/100\n",
            "10/10 [==============================] - 1s 79ms/step - loss: 0.7587 - accuracy: 0.4694 - val_loss: 0.7160 - val_accuracy: 0.5455\n",
            "Epoch 47/100\n",
            "10/10 [==============================] - 1s 71ms/step - loss: 0.7238 - accuracy: 0.5714 - val_loss: 0.6928 - val_accuracy: 0.5455\n",
            "Epoch 48/100\n",
            "10/10 [==============================] - 1s 67ms/step - loss: 0.7306 - accuracy: 0.4354 - val_loss: 0.6823 - val_accuracy: 0.6364\n",
            "Epoch 49/100\n",
            "10/10 [==============================] - 1s 67ms/step - loss: 0.7074 - accuracy: 0.5714 - val_loss: 0.7266 - val_accuracy: 0.5455\n",
            "Epoch 50/100\n",
            "10/10 [==============================] - 1s 75ms/step - loss: 0.6791 - accuracy: 0.5714 - val_loss: 0.6761 - val_accuracy: 0.6818\n",
            "Epoch 51/100\n",
            "10/10 [==============================] - 1s 69ms/step - loss: 0.6760 - accuracy: 0.5714 - val_loss: 0.6800 - val_accuracy: 0.5909\n",
            "Epoch 52/100\n",
            "10/10 [==============================] - 1s 64ms/step - loss: 0.6657 - accuracy: 0.5850 - val_loss: 0.6882 - val_accuracy: 0.5455\n",
            "Epoch 53/100\n",
            "10/10 [==============================] - 1s 63ms/step - loss: 0.6610 - accuracy: 0.5510 - val_loss: 0.6812 - val_accuracy: 0.5909\n",
            "Epoch 54/100\n",
            "10/10 [==============================] - 1s 66ms/step - loss: 0.6696 - accuracy: 0.5714 - val_loss: 0.6838 - val_accuracy: 0.5909\n",
            "Epoch 55/100\n",
            "10/10 [==============================] - 1s 64ms/step - loss: 0.6738 - accuracy: 0.5578 - val_loss: 0.6805 - val_accuracy: 0.6364\n",
            "Epoch 56/100\n",
            "10/10 [==============================] - 1s 63ms/step - loss: 0.6976 - accuracy: 0.5782 - val_loss: 0.6857 - val_accuracy: 0.5455\n",
            "Epoch 57/100\n",
            "10/10 [==============================] - 1s 66ms/step - loss: 0.6532 - accuracy: 0.5986 - val_loss: 0.6789 - val_accuracy: 0.5909\n",
            "Epoch 58/100\n",
            "10/10 [==============================] - 1s 62ms/step - loss: 0.6651 - accuracy: 0.6259 - val_loss: 0.6797 - val_accuracy: 0.5909\n",
            "Epoch 59/100\n",
            "10/10 [==============================] - 1s 65ms/step - loss: 0.6625 - accuracy: 0.5986 - val_loss: 0.6924 - val_accuracy: 0.5455\n",
            "Epoch 60/100\n",
            "10/10 [==============================] - 1s 64ms/step - loss: 0.6755 - accuracy: 0.5850 - val_loss: 0.6741 - val_accuracy: 0.5455\n",
            "Epoch 61/100\n",
            "10/10 [==============================] - 1s 60ms/step - loss: 0.6661 - accuracy: 0.5986 - val_loss: 0.6767 - val_accuracy: 0.5909\n",
            "Epoch 62/100\n",
            "10/10 [==============================] - 1s 63ms/step - loss: 0.6549 - accuracy: 0.5986 - val_loss: 0.6944 - val_accuracy: 0.5455\n",
            "Epoch 63/100\n",
            "10/10 [==============================] - 1s 75ms/step - loss: 0.6617 - accuracy: 0.5782 - val_loss: 0.6984 - val_accuracy: 0.5909\n",
            "Epoch 64/100\n",
            "10/10 [==============================] - 1s 72ms/step - loss: 0.6578 - accuracy: 0.6054 - val_loss: 0.6873 - val_accuracy: 0.5909\n",
            "Epoch 65/100\n",
            "10/10 [==============================] - 1s 72ms/step - loss: 0.6423 - accuracy: 0.6735 - val_loss: 0.6795 - val_accuracy: 0.5909\n",
            "Epoch 66/100\n",
            "10/10 [==============================] - 1s 63ms/step - loss: 0.6468 - accuracy: 0.6327 - val_loss: 0.6768 - val_accuracy: 0.5909\n",
            "Epoch 67/100\n",
            "10/10 [==============================] - 1s 67ms/step - loss: 0.6521 - accuracy: 0.6531 - val_loss: 0.6711 - val_accuracy: 0.6364\n",
            "Epoch 68/100\n",
            "10/10 [==============================] - 1s 61ms/step - loss: 0.6498 - accuracy: 0.6599 - val_loss: 0.6818 - val_accuracy: 0.5909\n",
            "Epoch 69/100\n",
            "10/10 [==============================] - 1s 64ms/step - loss: 0.6479 - accuracy: 0.6122 - val_loss: 0.6787 - val_accuracy: 0.5909\n",
            "Epoch 70/100\n",
            "10/10 [==============================] - 1s 74ms/step - loss: 0.6523 - accuracy: 0.6259 - val_loss: 0.6814 - val_accuracy: 0.5909\n",
            "Epoch 71/100\n",
            "10/10 [==============================] - 1s 78ms/step - loss: 0.6537 - accuracy: 0.6190 - val_loss: 0.6700 - val_accuracy: 0.6364\n",
            "Epoch 72/100\n",
            "10/10 [==============================] - 1s 76ms/step - loss: 0.6398 - accuracy: 0.6531 - val_loss: 0.6810 - val_accuracy: 0.6364\n",
            "Epoch 73/100\n",
            "10/10 [==============================] - 1s 68ms/step - loss: 0.6386 - accuracy: 0.6327 - val_loss: 0.6858 - val_accuracy: 0.6364\n",
            "Epoch 74/100\n",
            "10/10 [==============================] - 1s 68ms/step - loss: 0.6582 - accuracy: 0.6190 - val_loss: 0.6832 - val_accuracy: 0.5909\n",
            "Epoch 75/100\n",
            "10/10 [==============================] - 1s 61ms/step - loss: 0.6322 - accuracy: 0.6190 - val_loss: 0.7018 - val_accuracy: 0.6364\n",
            "Epoch 76/100\n",
            "10/10 [==============================] - 1s 67ms/step - loss: 0.6263 - accuracy: 0.6667 - val_loss: 0.6877 - val_accuracy: 0.6364\n",
            "Epoch 77/100\n",
            "10/10 [==============================] - 1s 64ms/step - loss: 0.6072 - accuracy: 0.6803 - val_loss: 0.7099 - val_accuracy: 0.5909\n",
            "Epoch 78/100\n",
            "10/10 [==============================] - 1s 75ms/step - loss: 0.6172 - accuracy: 0.6803 - val_loss: 0.6856 - val_accuracy: 0.6364\n",
            "Epoch 79/100\n",
            "10/10 [==============================] - 1s 70ms/step - loss: 0.6352 - accuracy: 0.6735 - val_loss: 0.6933 - val_accuracy: 0.6364\n",
            "Epoch 80/100\n",
            "10/10 [==============================] - 1s 64ms/step - loss: 0.6211 - accuracy: 0.7007 - val_loss: 0.7036 - val_accuracy: 0.5909\n",
            "Epoch 81/100\n",
            "10/10 [==============================] - 1s 75ms/step - loss: 0.6293 - accuracy: 0.6463 - val_loss: 0.7092 - val_accuracy: 0.6364\n",
            "Epoch 82/100\n",
            "10/10 [==============================] - 1s 73ms/step - loss: 0.6120 - accuracy: 0.6735 - val_loss: 0.6973 - val_accuracy: 0.6364\n",
            "Epoch 83/100\n",
            "10/10 [==============================] - 1s 72ms/step - loss: 0.6232 - accuracy: 0.6667 - val_loss: 0.7033 - val_accuracy: 0.5909\n",
            "Epoch 84/100\n",
            "10/10 [==============================] - 1s 60ms/step - loss: 0.6068 - accuracy: 0.6939 - val_loss: 0.7133 - val_accuracy: 0.5909\n",
            "Epoch 85/100\n",
            "10/10 [==============================] - 1s 68ms/step - loss: 0.6283 - accuracy: 0.6395 - val_loss: 0.7012 - val_accuracy: 0.6818\n",
            "Epoch 86/100\n",
            "10/10 [==============================] - 1s 74ms/step - loss: 0.6307 - accuracy: 0.6327 - val_loss: 0.6848 - val_accuracy: 0.6818\n",
            "Epoch 87/100\n",
            "10/10 [==============================] - 1s 61ms/step - loss: 0.6306 - accuracy: 0.6327 - val_loss: 0.7232 - val_accuracy: 0.5455\n",
            "Epoch 88/100\n",
            "10/10 [==============================] - 1s 67ms/step - loss: 0.6266 - accuracy: 0.6531 - val_loss: 0.7136 - val_accuracy: 0.5909\n",
            "Epoch 89/100\n",
            "10/10 [==============================] - 1s 73ms/step - loss: 0.6291 - accuracy: 0.6735 - val_loss: 0.7136 - val_accuracy: 0.5909\n",
            "Epoch 90/100\n",
            "10/10 [==============================] - 1s 68ms/step - loss: 0.6286 - accuracy: 0.6531 - val_loss: 0.6929 - val_accuracy: 0.5909\n",
            "Epoch 91/100\n",
            "10/10 [==============================] - 1s 68ms/step - loss: 0.6003 - accuracy: 0.6939 - val_loss: 0.8271 - val_accuracy: 0.5909\n",
            "Epoch 92/100\n",
            "10/10 [==============================] - 1s 61ms/step - loss: 0.6261 - accuracy: 0.6599 - val_loss: 0.8460 - val_accuracy: 0.5000\n",
            "Epoch 93/100\n",
            "10/10 [==============================] - 1s 74ms/step - loss: 0.5992 - accuracy: 0.6735 - val_loss: 0.8116 - val_accuracy: 0.5000\n",
            "Epoch 94/100\n",
            "10/10 [==============================] - 1s 68ms/step - loss: 0.6101 - accuracy: 0.6395 - val_loss: 0.7567 - val_accuracy: 0.5909\n",
            "Epoch 95/100\n",
            "10/10 [==============================] - 1s 65ms/step - loss: 0.6188 - accuracy: 0.6599 - val_loss: 0.7326 - val_accuracy: 0.6364\n",
            "Epoch 96/100\n",
            "10/10 [==============================] - 1s 64ms/step - loss: 0.6310 - accuracy: 0.6259 - val_loss: 0.6773 - val_accuracy: 0.6818\n",
            "Epoch 97/100\n",
            "10/10 [==============================] - 1s 71ms/step - loss: 0.6127 - accuracy: 0.6463 - val_loss: 0.7164 - val_accuracy: 0.6364\n",
            "Epoch 98/100\n",
            "10/10 [==============================] - 1s 75ms/step - loss: 0.6133 - accuracy: 0.6327 - val_loss: 0.7122 - val_accuracy: 0.6818\n",
            "Epoch 99/100\n",
            "10/10 [==============================] - 1s 65ms/step - loss: 0.6003 - accuracy: 0.6667 - val_loss: 1.3239 - val_accuracy: 0.6364\n",
            "Epoch 100/100\n",
            "10/10 [==============================] - 1s 66ms/step - loss: 0.6421 - accuracy: 0.6395 - val_loss: 1.3261 - val_accuracy: 0.5909\n"
          ]
        },
        {
          "output_type": "execute_result",
          "data": {
            "text/plain": [
              "<keras.callbacks.History at 0x7ff601677d10>"
            ]
          },
          "metadata": {},
          "execution_count": 47
        }
      ]
    },
    {
      "cell_type": "code",
      "source": [
        "model.evaluate(x_test, y_test, verbose=1)"
      ],
      "metadata": {
        "id": "EfWwJm0Lj11G",
        "outputId": "dde4b4e1-aeef-429b-985c-fad61f45ffda",
        "colab": {
          "base_uri": "https://localhost:8080/"
        }
      },
      "id": "EfWwJm0Lj11G",
      "execution_count": 48,
      "outputs": [
        {
          "output_type": "stream",
          "name": "stdout",
          "text": [
            "2/2 [==============================] - 0s 13ms/step - loss: 0.6624 - accuracy: 0.5349\n"
          ]
        },
        {
          "output_type": "execute_result",
          "data": {
            "text/plain": [
              "[0.662366509437561, 0.5348837375640869]"
            ]
          },
          "metadata": {},
          "execution_count": 48
        }
      ]
    },
    {
      "cell_type": "code",
      "source": [
        "# %tensorboard --logdir '/content/drive/MyDrive/logs'"
      ],
      "metadata": {
        "id": "5i8lmmEGj1wv"
      },
      "id": "5i8lmmEGj1wv",
      "execution_count": 51,
      "outputs": []
    },
    {
      "cell_type": "code",
      "source": [
        "y_pred = model.predict(x_test)\n",
        "temp = [1 if x > 0.5 else 0 for x in y_pred]\n",
        "confusion_matrix(y_test, temp)"
      ],
      "metadata": {
        "id": "c9J3vTPOj1uV",
        "outputId": "efa3b7e6-b6d7-4ab0-cf8a-170574a05cea",
        "colab": {
          "base_uri": "https://localhost:8080/"
        }
      },
      "id": "c9J3vTPOj1uV",
      "execution_count": 50,
      "outputs": [
        {
          "output_type": "execute_result",
          "data": {
            "text/plain": [
              "array([[ 6, 13],\n",
              "       [ 7, 17]])"
            ]
          },
          "metadata": {},
          "execution_count": 50
        }
      ]
    },
    {
      "cell_type": "code",
      "source": [
        ""
      ],
      "metadata": {
        "id": "0B7nnqecj1r5"
      },
      "id": "0B7nnqecj1r5",
      "execution_count": null,
      "outputs": []
    },
    {
      "cell_type": "code",
      "source": [
        ""
      ],
      "metadata": {
        "id": "C6GVQyRrj1pc"
      },
      "id": "C6GVQyRrj1pc",
      "execution_count": 444,
      "outputs": []
    },
    {
      "cell_type": "code",
      "source": [
        ""
      ],
      "metadata": {
        "id": "i1EqWjM7j1nD"
      },
      "id": "i1EqWjM7j1nD",
      "execution_count": null,
      "outputs": []
    },
    {
      "cell_type": "code",
      "source": [
        ""
      ],
      "metadata": {
        "id": "GndsYoEWj1kN"
      },
      "id": "GndsYoEWj1kN",
      "execution_count": null,
      "outputs": []
    },
    {
      "cell_type": "code",
      "source": [
        "model = tf.keras.Sequential()\n",
        "model.add(tf.keras.layers.GRU(50, return_sequences=True, input_shape=(x_train.shape[1], x_train.shape[2]), activation='tanh'))\n",
        "model.add(tf.keras.layers.GRU(50, activation='tanh'))\n",
        "model.add(tf.keras.layers.Dense(units=1, activation='sigmoid'))\n",
        "\n",
        "model.compile(optimizer=tf.keras.optimizers.SGD(learning_rate=0.01, decay=1e-7, momentum=0.9, nesterov=False), loss='binary_crossentropy')\n",
        "print(model.summary())"
      ],
      "metadata": {
        "id": "RcezCrR-j1hw"
      },
      "id": "RcezCrR-j1hw",
      "execution_count": null,
      "outputs": []
    },
    {
      "cell_type": "code",
      "source": [
        "model = Sequential()\n",
        "model.add(LSTM(units=80, return_sequences=True, input_shape=(x_train.shape[1], x_train.shape[2])))\n",
        "model.add(Dropout(0.2))\n",
        "model.add(LSTM(units=50,return_sequences=True))\n",
        "model.add(Dropout(0.15))\n",
        "model.add(LSTM(units=30,return_sequences=True))\n",
        "model.add(Dropout(0.1))\n",
        "model.add(LSTM(units=15))\n",
        "model.add(Dense(units=1))"
      ],
      "metadata": {
        "id": "xc8HLUaqj1fN"
      },
      "id": "xc8HLUaqj1fN",
      "execution_count": null,
      "outputs": []
    },
    {
      "cell_type": "code",
      "source": [
        "# filename = '/content/drive/MyDrive/model2.sav'\n",
        "# pickle.dump(model, open(filename, 'wb'))"
      ],
      "metadata": {
        "id": "LMy1MNyWs3UA"
      },
      "id": "LMy1MNyWs3UA",
      "execution_count": null,
      "outputs": []
    },
    {
      "cell_type": "code",
      "source": [
        "# loaded_model = pickle.load(open(filename, 'rb'))"
      ],
      "metadata": {
        "id": "PHE7ZB3vs3Rf"
      },
      "id": "PHE7ZB3vs3Rf",
      "execution_count": 110,
      "outputs": []
    }
  ],
  "metadata": {
    "colab": {
      "name": "HW06.ipynb",
      "provenance": [],
      "toc_visible": true
    },
    "language_info": {
      "name": "python"
    },
    "kernelspec": {
      "name": "python3",
      "display_name": "Python 3"
    },
    "accelerator": "GPU"
  },
  "nbformat": 4,
  "nbformat_minor": 5
}