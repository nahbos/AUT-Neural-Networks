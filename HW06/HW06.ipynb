{
  "cells": [
    {
      "cell_type": "markdown",
      "source": [
        "### - Sobhan Moradian Daghigh\n",
        "#### - 5/29/2022\n",
        "#### - ANN - HW06"
      ],
      "metadata": {
        "id": "I7jdgUuc4ZD1"
      },
      "id": "I7jdgUuc4ZD1"
    },
    {
      "cell_type": "code",
      "source": [
        "import numpy as np\n",
        "import matplotlib.pyplot as plt\n",
        "import pandas as pd\n",
        "from sklearn.model_selection import train_test_split\n",
        "from sklearn.preprocessing import MinMaxScaler\n",
        "import urllib\n",
        "\n",
        "import tensorflow as tf, keras\n",
        "from keras.utils.vis_utils import plot_model\n",
        "from keras.models import Sequential\n",
        "from keras.layers import Input, Dense, Flatten, LSTM, Dropout\n",
        "\n",
        "import warnings\n",
        "warnings.filterwarnings(\"ignore\")\n",
        "\n",
        "import itertools\n",
        "\n",
        "%load_ext tensorboard"
      ],
      "metadata": {
        "id": "FKztuIg14YDn"
      },
      "id": "FKztuIg14YDn",
      "execution_count": 1,
      "outputs": []
    },
    {
      "cell_type": "code",
      "source": [
        "print(tf.__version__)"
      ],
      "metadata": {
        "colab": {
          "base_uri": "https://localhost:8080/"
        },
        "id": "lC6SiTti1cHr",
        "outputId": "7fd2396e-2e00-459c-ce56-1acb7b80da5c"
      },
      "execution_count": 2,
      "outputs": [
        {
          "output_type": "stream",
          "name": "stdout",
          "text": [
            "2.8.0\n"
          ]
        }
      ],
      "id": "lC6SiTti1cHr"
    },
    {
      "cell_type": "code",
      "source": [
        "from google.colab import drive\n",
        "drive.mount('/content/drive', force_remount=True)"
      ],
      "metadata": {
        "colab": {
          "base_uri": "https://localhost:8080/"
        },
        "id": "3_3LG3SH5vTa",
        "outputId": "b22a4d1b-55ab-4fae-a64b-59bf2d3d809d"
      },
      "execution_count": 10,
      "outputs": [
        {
          "output_type": "stream",
          "name": "stdout",
          "text": [
            "Mounted at /content/drive\n"
          ]
        }
      ],
      "id": "3_3LG3SH5vTa"
    },
    {
      "cell_type": "code",
      "source": [
        "tb_callback = keras.callbacks.TensorBoard(log_dir='/content/drive/MyDrive/logs', histogram_freq=1)"
      ],
      "metadata": {
        "id": "RCNvq9tI5vO0"
      },
      "execution_count": 11,
      "outputs": [],
      "id": "RCNvq9tI5vO0"
    },
    {
      "cell_type": "code",
      "source": [
        "class EarlyStoppingCallback(keras.callbacks.Callback):\n",
        "  def __init__(self, patience=0):\n",
        "    super(EarlyStoppingCallback, self).__init__()\n",
        "    self.patience = patience\n",
        "\n",
        "  def on_train_begin(self, logs=None):\n",
        "    self.best = np.inf\n",
        "    self.wait = 0\n",
        "  \n",
        "  def on_epoch_end(self, epoch, logs=None):\n",
        "    current_loss = logs.get('loss')\n",
        "    if np.less(current_loss, self.best):\n",
        "      self.best = current_loss\n",
        "      self.wait = 0\n",
        "      self.best_weights = self.model.get_weights()\n",
        "    else:\n",
        "      self.wait += 1\n",
        "      if np.greater_equal(self.wait, self.patience):\n",
        "        self.model.stop_training = True\n",
        "        self.model.set_weights(self.best_weights)"
      ],
      "metadata": {
        "id": "TFv3GdDX5vMN"
      },
      "execution_count": 12,
      "outputs": [],
      "id": "TFv3GdDX5vMN"
    },
    {
      "cell_type": "code",
      "source": [
        "es_callback = EarlyStoppingCallback(patience=3)"
      ],
      "metadata": {
        "id": "PnySBYER5vJv"
      },
      "execution_count": 13,
      "outputs": [],
      "id": "PnySBYER5vJv"
    },
    {
      "cell_type": "code",
      "source": [
        ""
      ],
      "metadata": {
        "id": "lvBhf7E3550C"
      },
      "execution_count": 13,
      "outputs": [],
      "id": "lvBhf7E3550C"
    },
    {
      "cell_type": "markdown",
      "metadata": {
        "id": "uAIOKJAQ09qv"
      },
      "source": [
        "# Load Data"
      ],
      "id": "uAIOKJAQ09qv"
    },
    {
      "cell_type": "code",
      "source": [
        ""
      ],
      "metadata": {
        "id": "AijDZxFS4YR9"
      },
      "id": "AijDZxFS4YR9",
      "execution_count": 13,
      "outputs": []
    },
    {
      "cell_type": "code",
      "source": [
        " "
      ],
      "metadata": {
        "id": "FAZlpUhWH0lx"
      },
      "id": "FAZlpUhWH0lx",
      "execution_count": 13,
      "outputs": []
    },
    {
      "cell_type": "code",
      "source": [
        "def load_data(base_url):\n",
        "  datas = []\n",
        "  file_names = []\n",
        "\n",
        "  with urllib.request.urlopen(base_url + 'names.txt') as names:\n",
        "    idx = 0\n",
        "    for name in names.readlines():\n",
        "      name = name.decode(\"utf-8\").split('\\n')[0]\n",
        "      data = pd.read_csv(base_url + name, delimiter=',', encoding='utf-16-le')\n",
        "      if not data.empty:\n",
        "        datas.append(data)\n",
        "        file_names.append(name)\n",
        "        print('   |_ {}- {} loaded.'.format(idx, name))\n",
        "        idx += 1\n",
        "\n",
        "  return datas, file_names"
      ],
      "metadata": {
        "id": "jFUPtL5l5vHK"
      },
      "execution_count": 14,
      "outputs": [],
      "id": "jFUPtL5l5vHK"
    },
    {
      "cell_type": "code",
      "source": [
        "base_url = 'https://raw.githubusercontent.com/nahbos/AUT-Neural-Networks/main/HW06/dataset/'\n",
        "datas, names = load_data(base_url)"
      ],
      "metadata": {
        "id": "NKHQFcJf6oKp",
        "colab": {
          "base_uri": "https://localhost:8080/"
        },
        "outputId": "7b5b45dd-81a6-4fb4-8cb8-fc5b7ae6cd13"
      },
      "execution_count": 15,
      "outputs": [
        {
          "output_type": "stream",
          "name": "stdout",
          "text": [
            "   |_ 0- IRX6XAFF0005.csv loaded.\n",
            "   |_ 1- IRX6XALS0002.csv loaded.\n",
            "   |_ 2- IRX6XS300003.csv loaded.\n",
            "   |_ 3- IRX6XSLC0000.csv loaded.\n",
            "   |_ 4- IRX6XSNT0009.csv loaded.\n",
            "   |_ 5- IRX6XTAL0001.csv loaded.\n",
            "   |_ 6- IRX6XTPI0009.csv loaded.\n",
            "   |_ 7- IRX6XTPI0009[2022-05-23-10-18-57].csv loaded.\n",
            "   |_ 8- IRX6XTPI0025.csv loaded.\n",
            "   |_ 9- IRX6XWAI0001.csv loaded.\n",
            "   |_ 10- IRXYXTPI0009.csv loaded.\n",
            "   |_ 11- IRXYXTPI0025.csv loaded.\n",
            "   |_ 12- IRXZXCMI0000.csv loaded.\n",
            "   |_ 13- IRXZXENG0009.csv loaded.\n",
            "   |_ 14- IRXZXOBM0003.csv loaded.\n",
            "   |_ 15- IRXZXOCI0008.csv loaded.\n",
            "   |_ 16- IRXZXTRI0006.csv loaded.\n",
            "   |_ 17- IRXZXWDI0007.csv loaded.\n"
          ]
        }
      ],
      "id": "NKHQFcJf6oKp"
    },
    {
      "cell_type": "code",
      "source": [
        "rand = 13 #rand = np.random.randint(len(datas))  ## TODO\n",
        "demo = datas[rand]\n",
        "demo.head()"
      ],
      "metadata": {
        "colab": {
          "base_uri": "https://localhost:8080/",
          "height": 206
        },
        "id": "Fotw25TII0lg",
        "outputId": "d0737cf8-b009-4ff5-a03a-ae78ba109359"
      },
      "id": "Fotw25TII0lg",
      "execution_count": 16,
      "outputs": [
        {
          "output_type": "execute_result",
          "data": {
            "text/plain": [
              "      <TICKER>  <DTYYYYMMDD>  <OPEN>  <HIGH>  <LOW>  <CLOSE>   <VOL>  \\\n",
              "0  فني_مهندسي6      20190908   105.0   105.0  105.0    105.0  136736   \n",
              "1  فني_مهندسي6      20190911   110.2   110.2  110.2    110.2  183791   \n",
              "2  فني_مهندسي6      20190914   115.7   115.7  115.7    115.7  330061   \n",
              "3  فني_مهندسي6      20190915   121.5   121.5  121.5    121.5  356956   \n",
              "4  فني_مهندسي6      20190916   127.6   127.6  127.6    127.6  341246   \n",
              "\n",
              "      <OPENINT>  <OPENINT>.1  <OPENINT>.2             <COl12>  \\\n",
              "0  1.190834e+09          965    8709000.0  IFB EngineeringInd   \n",
              "1  1.680585e+09         1272    9144000.0  IFB EngineeringInd   \n",
              "2  3.168916e+09         2259    9601000.0  IFB EngineeringInd   \n",
              "3  3.598473e+09         2444   10081000.0  IFB EngineeringInd   \n",
              "4  3.612089e+09         2320   10585000.0  IFB EngineeringInd   \n",
              "\n",
              "           <COl13>  <LAST>  \n",
              "0  شاخص_فني_مهندسي   105.0  \n",
              "1  شاخص_فني_مهندسي   110.2  \n",
              "2  شاخص_فني_مهندسي   115.7  \n",
              "3  شاخص_فني_مهندسي   121.5  \n",
              "4  شاخص_فني_مهندسي   127.6  "
            ],
            "text/html": [
              "\n",
              "  <div id=\"df-7c2c162a-0915-4f61-bd79-d2da82e99d38\">\n",
              "    <div class=\"colab-df-container\">\n",
              "      <div>\n",
              "<style scoped>\n",
              "    .dataframe tbody tr th:only-of-type {\n",
              "        vertical-align: middle;\n",
              "    }\n",
              "\n",
              "    .dataframe tbody tr th {\n",
              "        vertical-align: top;\n",
              "    }\n",
              "\n",
              "    .dataframe thead th {\n",
              "        text-align: right;\n",
              "    }\n",
              "</style>\n",
              "<table border=\"1\" class=\"dataframe\">\n",
              "  <thead>\n",
              "    <tr style=\"text-align: right;\">\n",
              "      <th></th>\n",
              "      <th>&lt;TICKER&gt;</th>\n",
              "      <th>&lt;DTYYYYMMDD&gt;</th>\n",
              "      <th>&lt;OPEN&gt;</th>\n",
              "      <th>&lt;HIGH&gt;</th>\n",
              "      <th>&lt;LOW&gt;</th>\n",
              "      <th>&lt;CLOSE&gt;</th>\n",
              "      <th>&lt;VOL&gt;</th>\n",
              "      <th>&lt;OPENINT&gt;</th>\n",
              "      <th>&lt;OPENINT&gt;.1</th>\n",
              "      <th>&lt;OPENINT&gt;.2</th>\n",
              "      <th>&lt;COl12&gt;</th>\n",
              "      <th>&lt;COl13&gt;</th>\n",
              "      <th>&lt;LAST&gt;</th>\n",
              "    </tr>\n",
              "  </thead>\n",
              "  <tbody>\n",
              "    <tr>\n",
              "      <th>0</th>\n",
              "      <td>فني_مهندسي6</td>\n",
              "      <td>20190908</td>\n",
              "      <td>105.0</td>\n",
              "      <td>105.0</td>\n",
              "      <td>105.0</td>\n",
              "      <td>105.0</td>\n",
              "      <td>136736</td>\n",
              "      <td>1.190834e+09</td>\n",
              "      <td>965</td>\n",
              "      <td>8709000.0</td>\n",
              "      <td>IFB EngineeringInd</td>\n",
              "      <td>شاخص_فني_مهندسي</td>\n",
              "      <td>105.0</td>\n",
              "    </tr>\n",
              "    <tr>\n",
              "      <th>1</th>\n",
              "      <td>فني_مهندسي6</td>\n",
              "      <td>20190911</td>\n",
              "      <td>110.2</td>\n",
              "      <td>110.2</td>\n",
              "      <td>110.2</td>\n",
              "      <td>110.2</td>\n",
              "      <td>183791</td>\n",
              "      <td>1.680585e+09</td>\n",
              "      <td>1272</td>\n",
              "      <td>9144000.0</td>\n",
              "      <td>IFB EngineeringInd</td>\n",
              "      <td>شاخص_فني_مهندسي</td>\n",
              "      <td>110.2</td>\n",
              "    </tr>\n",
              "    <tr>\n",
              "      <th>2</th>\n",
              "      <td>فني_مهندسي6</td>\n",
              "      <td>20190914</td>\n",
              "      <td>115.7</td>\n",
              "      <td>115.7</td>\n",
              "      <td>115.7</td>\n",
              "      <td>115.7</td>\n",
              "      <td>330061</td>\n",
              "      <td>3.168916e+09</td>\n",
              "      <td>2259</td>\n",
              "      <td>9601000.0</td>\n",
              "      <td>IFB EngineeringInd</td>\n",
              "      <td>شاخص_فني_مهندسي</td>\n",
              "      <td>115.7</td>\n",
              "    </tr>\n",
              "    <tr>\n",
              "      <th>3</th>\n",
              "      <td>فني_مهندسي6</td>\n",
              "      <td>20190915</td>\n",
              "      <td>121.5</td>\n",
              "      <td>121.5</td>\n",
              "      <td>121.5</td>\n",
              "      <td>121.5</td>\n",
              "      <td>356956</td>\n",
              "      <td>3.598473e+09</td>\n",
              "      <td>2444</td>\n",
              "      <td>10081000.0</td>\n",
              "      <td>IFB EngineeringInd</td>\n",
              "      <td>شاخص_فني_مهندسي</td>\n",
              "      <td>121.5</td>\n",
              "    </tr>\n",
              "    <tr>\n",
              "      <th>4</th>\n",
              "      <td>فني_مهندسي6</td>\n",
              "      <td>20190916</td>\n",
              "      <td>127.6</td>\n",
              "      <td>127.6</td>\n",
              "      <td>127.6</td>\n",
              "      <td>127.6</td>\n",
              "      <td>341246</td>\n",
              "      <td>3.612089e+09</td>\n",
              "      <td>2320</td>\n",
              "      <td>10585000.0</td>\n",
              "      <td>IFB EngineeringInd</td>\n",
              "      <td>شاخص_فني_مهندسي</td>\n",
              "      <td>127.6</td>\n",
              "    </tr>\n",
              "  </tbody>\n",
              "</table>\n",
              "</div>\n",
              "      <button class=\"colab-df-convert\" onclick=\"convertToInteractive('df-7c2c162a-0915-4f61-bd79-d2da82e99d38')\"\n",
              "              title=\"Convert this dataframe to an interactive table.\"\n",
              "              style=\"display:none;\">\n",
              "        \n",
              "  <svg xmlns=\"http://www.w3.org/2000/svg\" height=\"24px\"viewBox=\"0 0 24 24\"\n",
              "       width=\"24px\">\n",
              "    <path d=\"M0 0h24v24H0V0z\" fill=\"none\"/>\n",
              "    <path d=\"M18.56 5.44l.94 2.06.94-2.06 2.06-.94-2.06-.94-.94-2.06-.94 2.06-2.06.94zm-11 1L8.5 8.5l.94-2.06 2.06-.94-2.06-.94L8.5 2.5l-.94 2.06-2.06.94zm10 10l.94 2.06.94-2.06 2.06-.94-2.06-.94-.94-2.06-.94 2.06-2.06.94z\"/><path d=\"M17.41 7.96l-1.37-1.37c-.4-.4-.92-.59-1.43-.59-.52 0-1.04.2-1.43.59L10.3 9.45l-7.72 7.72c-.78.78-.78 2.05 0 2.83L4 21.41c.39.39.9.59 1.41.59.51 0 1.02-.2 1.41-.59l7.78-7.78 2.81-2.81c.8-.78.8-2.07 0-2.86zM5.41 20L4 18.59l7.72-7.72 1.47 1.35L5.41 20z\"/>\n",
              "  </svg>\n",
              "      </button>\n",
              "      \n",
              "  <style>\n",
              "    .colab-df-container {\n",
              "      display:flex;\n",
              "      flex-wrap:wrap;\n",
              "      gap: 12px;\n",
              "    }\n",
              "\n",
              "    .colab-df-convert {\n",
              "      background-color: #E8F0FE;\n",
              "      border: none;\n",
              "      border-radius: 50%;\n",
              "      cursor: pointer;\n",
              "      display: none;\n",
              "      fill: #1967D2;\n",
              "      height: 32px;\n",
              "      padding: 0 0 0 0;\n",
              "      width: 32px;\n",
              "    }\n",
              "\n",
              "    .colab-df-convert:hover {\n",
              "      background-color: #E2EBFA;\n",
              "      box-shadow: 0px 1px 2px rgba(60, 64, 67, 0.3), 0px 1px 3px 1px rgba(60, 64, 67, 0.15);\n",
              "      fill: #174EA6;\n",
              "    }\n",
              "\n",
              "    [theme=dark] .colab-df-convert {\n",
              "      background-color: #3B4455;\n",
              "      fill: #D2E3FC;\n",
              "    }\n",
              "\n",
              "    [theme=dark] .colab-df-convert:hover {\n",
              "      background-color: #434B5C;\n",
              "      box-shadow: 0px 1px 3px 1px rgba(0, 0, 0, 0.15);\n",
              "      filter: drop-shadow(0px 1px 2px rgba(0, 0, 0, 0.3));\n",
              "      fill: #FFFFFF;\n",
              "    }\n",
              "  </style>\n",
              "\n",
              "      <script>\n",
              "        const buttonEl =\n",
              "          document.querySelector('#df-7c2c162a-0915-4f61-bd79-d2da82e99d38 button.colab-df-convert');\n",
              "        buttonEl.style.display =\n",
              "          google.colab.kernel.accessAllowed ? 'block' : 'none';\n",
              "\n",
              "        async function convertToInteractive(key) {\n",
              "          const element = document.querySelector('#df-7c2c162a-0915-4f61-bd79-d2da82e99d38');\n",
              "          const dataTable =\n",
              "            await google.colab.kernel.invokeFunction('convertToInteractive',\n",
              "                                                     [key], {});\n",
              "          if (!dataTable) return;\n",
              "\n",
              "          const docLinkHtml = 'Like what you see? Visit the ' +\n",
              "            '<a target=\"_blank\" href=https://colab.research.google.com/notebooks/data_table.ipynb>data table notebook</a>'\n",
              "            + ' to learn more about interactive tables.';\n",
              "          element.innerHTML = '';\n",
              "          dataTable['output_type'] = 'display_data';\n",
              "          await google.colab.output.renderOutput(dataTable, element);\n",
              "          const docLink = document.createElement('div');\n",
              "          docLink.innerHTML = docLinkHtml;\n",
              "          element.appendChild(docLink);\n",
              "        }\n",
              "      </script>\n",
              "    </div>\n",
              "  </div>\n",
              "  "
            ]
          },
          "metadata": {},
          "execution_count": 16
        }
      ]
    },
    {
      "cell_type": "code",
      "source": [
        "plt.figure(figsize = (15, 8))\n",
        "plt.plot(range(demo.shape[0]), (demo['<LOW>'] + demo['<HIGH>']) / 2.0)\n",
        "plt.xticks(range(0, demo.shape[0], 50), demo['<DTYYYYMMDD>'].loc[::50], rotation=45)\n",
        "plt.title(names[rand])\n",
        "plt.xlabel('Date', fontsize=15)\n",
        "plt.ylabel('Mid Price', fontsize=15)\n",
        "plt.show()"
      ],
      "metadata": {
        "colab": {
          "base_uri": "https://localhost:8080/",
          "height": 551
        },
        "id": "4TNK9ggH4YXV",
        "outputId": "f2e29347-bfeb-4412-f646-e8c57518e8f5"
      },
      "id": "4TNK9ggH4YXV",
      "execution_count": 17,
      "outputs": [
        {
          "output_type": "display_data",
          "data": {
            "text/plain": [
              "<Figure size 1080x576 with 1 Axes>"
            ],
            "image/png": "[encoded data removed]"
          },
          "metadata": {
            "needs_background": "light"
          }
        }
      ]
    },
    {
      "cell_type": "code",
      "source": [
        "demo.columns"
      ],
      "metadata": {
        "colab": {
          "base_uri": "https://localhost:8080/"
        },
        "id": "dulxQuD1-AlY",
        "outputId": "2d5f9cba-5949-406e-d113-f63d92ffaa07"
      },
      "id": "dulxQuD1-AlY",
      "execution_count": 18,
      "outputs": [
        {
          "output_type": "execute_result",
          "data": {
            "text/plain": [
              "Index(['<TICKER>', '<DTYYYYMMDD>', '<OPEN>', '<HIGH>', '<LOW>', '<CLOSE>',\n",
              "       '<VOL>', '<OPENINT>', '<OPENINT>.1', '<OPENINT>.2', '<COl12>',\n",
              "       '<COl13>', '<LAST>'],\n",
              "      dtype='object')"
            ]
          },
          "metadata": {},
          "execution_count": 18
        }
      ]
    },
    {
      "cell_type": "code",
      "source": [
        ""
      ],
      "metadata": {
        "id": "kbn_3zlfiNkD"
      },
      "id": "kbn_3zlfiNkD",
      "execution_count": 18,
      "outputs": []
    },
    {
      "cell_type": "markdown",
      "source": [
        "## Data Normalization"
      ],
      "metadata": {
        "id": "6SLVVFCwiN-z"
      },
      "id": "6SLVVFCwiN-z"
    },
    {
      "cell_type": "code",
      "source": [
        "attrs = [2, 3, 4, 5, 6, 7, 8, 9, 12]\n",
        "headers = demo.columns[attrs]\n",
        "training_set = demo.iloc[:, demo.columns.isin(headers)]\n",
        "scaler = MinMaxScaler(feature_range=(0, 1))\n",
        "training_set_scaled = pd.DataFrame(scaler.fit_transform(training_set), columns=headers)\n",
        "training_set_scaled.head()"
      ],
      "metadata": {
        "colab": {
          "base_uri": "https://localhost:8080/",
          "height": 206
        },
        "id": "imv09P2ZiNhh",
        "outputId": "5356d6d2-dce0-4f8d-9535-835929cc159c"
      },
      "id": "imv09P2ZiNhh",
      "execution_count": 19,
      "outputs": [
        {
          "output_type": "execute_result",
          "data": {
            "text/plain": [
              "     <OPEN>    <HIGH>     <LOW>   <CLOSE>     <VOL>  <OPENINT>  <OPENINT>.1  \\\n",
              "0  0.136559  0.000000  0.000000  0.000000  0.004355   0.000942     0.009155   \n",
              "1  0.143322  0.007661  0.007790  0.007790  0.005854   0.001330     0.012067   \n",
              "2  0.150475  0.015763  0.016030  0.016030  0.010512   0.002508     0.021430   \n",
              "3  0.158018  0.024308  0.024719  0.024719  0.011369   0.002848     0.023185   \n",
              "4  0.165951  0.033294  0.033858  0.033858  0.010868   0.002859     0.022009   \n",
              "\n",
              "   <OPENINT>.2    <LAST>  \n",
              "0     0.000000  0.000000  \n",
              "1     0.007816  0.007790  \n",
              "2     0.016027  0.016030  \n",
              "3     0.024651  0.024719  \n",
              "4     0.033707  0.033858  "
            ],
            "text/html": [
              "\n",
              "  <div id=\"df-3bfe7ddd-99c4-40d0-8575-46f4fef56eb2\">\n",
              "    <div class=\"colab-df-container\">\n",
              "      <div>\n",
              "<style scoped>\n",
              "    .dataframe tbody tr th:only-of-type {\n",
              "        vertical-align: middle;\n",
              "    }\n",
              "\n",
              "    .dataframe tbody tr th {\n",
              "        vertical-align: top;\n",
              "    }\n",
              "\n",
              "    .dataframe thead th {\n",
              "        text-align: right;\n",
              "    }\n",
              "</style>\n",
              "<table border=\"1\" class=\"dataframe\">\n",
              "  <thead>\n",
              "    <tr style=\"text-align: right;\">\n",
              "      <th></th>\n",
              "      <th>&lt;OPEN&gt;</th>\n",
              "      <th>&lt;HIGH&gt;</th>\n",
              "      <th>&lt;LOW&gt;</th>\n",
              "      <th>&lt;CLOSE&gt;</th>\n",
              "      <th>&lt;VOL&gt;</th>\n",
              "      <th>&lt;OPENINT&gt;</th>\n",
              "      <th>&lt;OPENINT&gt;.1</th>\n",
              "      <th>&lt;OPENINT&gt;.2</th>\n",
              "      <th>&lt;LAST&gt;</th>\n",
              "    </tr>\n",
              "  </thead>\n",
              "  <tbody>\n",
              "    <tr>\n",
              "      <th>0</th>\n",
              "      <td>0.136559</td>\n",
              "      <td>0.000000</td>\n",
              "      <td>0.000000</td>\n",
              "      <td>0.000000</td>\n",
              "      <td>0.004355</td>\n",
              "      <td>0.000942</td>\n",
              "      <td>0.009155</td>\n",
              "      <td>0.000000</td>\n",
              "      <td>0.000000</td>\n",
              "    </tr>\n",
              "    <tr>\n",
              "      <th>1</th>\n",
              "      <td>0.143322</td>\n",
              "      <td>0.007661</td>\n",
              "      <td>0.007790</td>\n",
              "      <td>0.007790</td>\n",
              "      <td>0.005854</td>\n",
              "      <td>0.001330</td>\n",
              "      <td>0.012067</td>\n",
              "      <td>0.007816</td>\n",
              "      <td>0.007790</td>\n",
              "    </tr>\n",
              "    <tr>\n",
              "      <th>2</th>\n",
              "      <td>0.150475</td>\n",
              "      <td>0.015763</td>\n",
              "      <td>0.016030</td>\n",
              "      <td>0.016030</td>\n",
              "      <td>0.010512</td>\n",
              "      <td>0.002508</td>\n",
              "      <td>0.021430</td>\n",
              "      <td>0.016027</td>\n",
              "      <td>0.016030</td>\n",
              "    </tr>\n",
              "    <tr>\n",
              "      <th>3</th>\n",
              "      <td>0.158018</td>\n",
              "      <td>0.024308</td>\n",
              "      <td>0.024719</td>\n",
              "      <td>0.024719</td>\n",
              "      <td>0.011369</td>\n",
              "      <td>0.002848</td>\n",
              "      <td>0.023185</td>\n",
              "      <td>0.024651</td>\n",
              "      <td>0.024719</td>\n",
              "    </tr>\n",
              "    <tr>\n",
              "      <th>4</th>\n",
              "      <td>0.165951</td>\n",
              "      <td>0.033294</td>\n",
              "      <td>0.033858</td>\n",
              "      <td>0.033858</td>\n",
              "      <td>0.010868</td>\n",
              "      <td>0.002859</td>\n",
              "      <td>0.022009</td>\n",
              "      <td>0.033707</td>\n",
              "      <td>0.033858</td>\n",
              "    </tr>\n",
              "  </tbody>\n",
              "</table>\n",
              "</div>\n",
              "      <button class=\"colab-df-convert\" onclick=\"convertToInteractive('df-3bfe7ddd-99c4-40d0-8575-46f4fef56eb2')\"\n",
              "              title=\"Convert this dataframe to an interactive table.\"\n",
              "              style=\"display:none;\">\n",
              "        \n",
              "  <svg xmlns=\"http://www.w3.org/2000/svg\" height=\"24px\"viewBox=\"0 0 24 24\"\n",
              "       width=\"24px\">\n",
              "    <path d=\"M0 0h24v24H0V0z\" fill=\"none\"/>\n",
              "    <path d=\"M18.56 5.44l.94 2.06.94-2.06 2.06-.94-2.06-.94-.94-2.06-.94 2.06-2.06.94zm-11 1L8.5 8.5l.94-2.06 2.06-.94-2.06-.94L8.5 2.5l-.94 2.06-2.06.94zm10 10l.94 2.06.94-2.06 2.06-.94-2.06-.94-.94-2.06-.94 2.06-2.06.94z\"/><path d=\"M17.41 7.96l-1.37-1.37c-.4-.4-.92-.59-1.43-.59-.52 0-1.04.2-1.43.59L10.3 9.45l-7.72 7.72c-.78.78-.78 2.05 0 2.83L4 21.41c.39.39.9.59 1.41.59.51 0 1.02-.2 1.41-.59l7.78-7.78 2.81-2.81c.8-.78.8-2.07 0-2.86zM5.41 20L4 18.59l7.72-7.72 1.47 1.35L5.41 20z\"/>\n",
              "  </svg>\n",
              "      </button>\n",
              "      \n",
              "  <style>\n",
              "    .colab-df-container {\n",
              "      display:flex;\n",
              "      flex-wrap:wrap;\n",
              "      gap: 12px;\n",
              "    }\n",
              "\n",
              "    .colab-df-convert {\n",
              "      background-color: #E8F0FE;\n",
              "      border: none;\n",
              "      border-radius: 50%;\n",
              "      cursor: pointer;\n",
              "      display: none;\n",
              "      fill: #1967D2;\n",
              "      height: 32px;\n",
              "      padding: 0 0 0 0;\n",
              "      width: 32px;\n",
              "    }\n",
              "\n",
              "    .colab-df-convert:hover {\n",
              "      background-color: #E2EBFA;\n",
              "      box-shadow: 0px 1px 2px rgba(60, 64, 67, 0.3), 0px 1px 3px 1px rgba(60, 64, 67, 0.15);\n",
              "      fill: #174EA6;\n",
              "    }\n",
              "\n",
              "    [theme=dark] .colab-df-convert {\n",
              "      background-color: #3B4455;\n",
              "      fill: #D2E3FC;\n",
              "    }\n",
              "\n",
              "    [theme=dark] .colab-df-convert:hover {\n",
              "      background-color: #434B5C;\n",
              "      box-shadow: 0px 1px 3px 1px rgba(0, 0, 0, 0.15);\n",
              "      filter: drop-shadow(0px 1px 2px rgba(0, 0, 0, 0.3));\n",
              "      fill: #FFFFFF;\n",
              "    }\n",
              "  </style>\n",
              "\n",
              "      <script>\n",
              "        const buttonEl =\n",
              "          document.querySelector('#df-3bfe7ddd-99c4-40d0-8575-46f4fef56eb2 button.colab-df-convert');\n",
              "        buttonEl.style.display =\n",
              "          google.colab.kernel.accessAllowed ? 'block' : 'none';\n",
              "\n",
              "        async function convertToInteractive(key) {\n",
              "          const element = document.querySelector('#df-3bfe7ddd-99c4-40d0-8575-46f4fef56eb2');\n",
              "          const dataTable =\n",
              "            await google.colab.kernel.invokeFunction('convertToInteractive',\n",
              "                                                     [key], {});\n",
              "          if (!dataTable) return;\n",
              "\n",
              "          const docLinkHtml = 'Like what you see? Visit the ' +\n",
              "            '<a target=\"_blank\" href=https://colab.research.google.com/notebooks/data_table.ipynb>data table notebook</a>'\n",
              "            + ' to learn more about interactive tables.';\n",
              "          element.innerHTML = '';\n",
              "          dataTable['output_type'] = 'display_data';\n",
              "          await google.colab.output.renderOutput(dataTable, element);\n",
              "          const docLink = document.createElement('div');\n",
              "          docLink.innerHTML = docLinkHtml;\n",
              "          element.appendChild(docLink);\n",
              "        }\n",
              "      </script>\n",
              "    </div>\n",
              "  </div>\n",
              "  "
            ]
          },
          "metadata": {},
          "execution_count": 19
        }
      ]
    },
    {
      "cell_type": "code",
      "source": [
        "training_set_scaled.shape"
      ],
      "metadata": {
        "colab": {
          "base_uri": "https://localhost:8080/"
        },
        "id": "KNT7dhEpiNfA",
        "outputId": "289506c3-4a22-44a6-b5ce-d08a06a2dc28"
      },
      "id": "KNT7dhEpiNfA",
      "execution_count": 20,
      "outputs": [
        {
          "output_type": "execute_result",
          "data": {
            "text/plain": [
              "(648, 9)"
            ]
          },
          "metadata": {},
          "execution_count": 20
        }
      ]
    },
    {
      "cell_type": "code",
      "source": [
        ""
      ],
      "metadata": {
        "id": "rnbqiX28mbGw"
      },
      "id": "rnbqiX28mbGw",
      "execution_count": 20,
      "outputs": []
    },
    {
      "cell_type": "code",
      "source": [
        "x_timesteps = []\n",
        "y_timesteps = []\n",
        "timesteps_size = 24\n",
        "\n",
        "for i in range(training_set_scaled.shape[0] - timesteps_size):\n",
        "  x_timesteps.append(training_set_scaled.to_numpy()[i:i + timesteps_size, :])\n",
        "  y_timesteps.append(training_set_scaled.to_numpy()[i + timesteps_size, training_set_scaled.columns.get_loc('<CLOSE>')])\n",
        "\n",
        "x_timesteps, y_timesteps = np.array(x_timesteps), np.array(y_timesteps)\n",
        "x_timesteps = np.reshape(x_timesteps, (x_timesteps.shape[0], x_timesteps.shape[1], training_set_scaled.shape[1]))\n",
        "\n",
        "x_temp, x_test, y_temp, y_test = train_test_split(x_timesteps, y_timesteps, test_size=0.2, random_state=42)\n",
        "x_train, x_val, y_train, y_val = train_test_split(x_temp, y_temp, test_size=0.125, random_state=42)"
      ],
      "metadata": {
        "id": "YZp5ixbLiNcZ"
      },
      "id": "YZp5ixbLiNcZ",
      "execution_count": 21,
      "outputs": []
    },
    {
      "cell_type": "code",
      "source": [
        "x_train.shape"
      ],
      "metadata": {
        "colab": {
          "base_uri": "https://localhost:8080/"
        },
        "id": "8WyY25ZY5s-K",
        "outputId": "6d59af48-a44b-43f2-9533-7a23fb25c476"
      },
      "id": "8WyY25ZY5s-K",
      "execution_count": 22,
      "outputs": [
        {
          "output_type": "execute_result",
          "data": {
            "text/plain": [
              "(436, 24, 9)"
            ]
          },
          "metadata": {},
          "execution_count": 22
        }
      ]
    },
    {
      "cell_type": "code",
      "source": [
        "x_val.shape"
      ],
      "metadata": {
        "colab": {
          "base_uri": "https://localhost:8080/"
        },
        "id": "N3m4uMqcPT5k",
        "outputId": "cd213021-bc63-41bc-ee9d-4f060249d175"
      },
      "id": "N3m4uMqcPT5k",
      "execution_count": 23,
      "outputs": [
        {
          "output_type": "execute_result",
          "data": {
            "text/plain": [
              "(63, 24, 9)"
            ]
          },
          "metadata": {},
          "execution_count": 23
        }
      ]
    },
    {
      "cell_type": "code",
      "source": [
        "x_test.shape"
      ],
      "metadata": {
        "colab": {
          "base_uri": "https://localhost:8080/"
        },
        "id": "thm2lcO7PTyt",
        "outputId": "eb35a0ea-655f-4c9d-c1fe-4f08c4208c3d"
      },
      "id": "thm2lcO7PTyt",
      "execution_count": 24,
      "outputs": [
        {
          "output_type": "execute_result",
          "data": {
            "text/plain": [
              "(125, 24, 9)"
            ]
          },
          "metadata": {},
          "execution_count": 24
        }
      ]
    },
    {
      "cell_type": "code",
      "source": [
        ""
      ],
      "metadata": {
        "id": "31sA406APaJE"
      },
      "id": "31sA406APaJE",
      "execution_count": 24,
      "outputs": []
    },
    {
      "cell_type": "markdown",
      "source": [
        "## LSTM"
      ],
      "metadata": {
        "id": "KGdrNo-xSs21"
      },
      "id": "KGdrNo-xSs21"
    },
    {
      "cell_type": "code",
      "source": [
        "model = Sequential()\n",
        "model.add(LSTM(units=50,return_sequences=True,input_shape=(x_train.shape[1], x_train.shape[2])))\n",
        "model.add(Dropout(0.2))\n",
        "model.add(LSTM(units=50,return_sequences=True))\n",
        "model.add(Dropout(0.2))\n",
        "model.add(LSTM(units=50,return_sequences=True))\n",
        "model.add(Dropout(0.2))\n",
        "model.add(LSTM(units=50))\n",
        "model.add(Dropout(0.2))\n",
        "model.add(Dense(units=1))"
      ],
      "metadata": {
        "id": "CEgiuCbgQD6G"
      },
      "id": "CEgiuCbgQD6G",
      "execution_count": 25,
      "outputs": []
    },
    {
      "cell_type": "code",
      "source": [
        "model.compile(optimizer='adam', loss='mean_squared_error')\n",
        "model.summary()"
      ],
      "metadata": {
        "colab": {
          "base_uri": "https://localhost:8080/"
        },
        "id": "VTku-k4jQGnE",
        "outputId": "c5154606-768d-4c47-ede2-930bbf4ebfb5"
      },
      "id": "VTku-k4jQGnE",
      "execution_count": 26,
      "outputs": [
        {
          "output_type": "stream",
          "name": "stdout",
          "text": [
            "Model: \"sequential\"\n",
            "_________________________________________________________________\n",
            " Layer (type)                Output Shape              Param #   \n",
            "=================================================================\n",
            " lstm (LSTM)                 (None, 24, 50)            12000     \n",
            "                                                                 \n",
            " dropout (Dropout)           (None, 24, 50)            0         \n",
            "                                                                 \n",
            " lstm_1 (LSTM)               (None, 24, 50)            20200     \n",
            "                                                                 \n",
            " dropout_1 (Dropout)         (None, 24, 50)            0         \n",
            "                                                                 \n",
            " lstm_2 (LSTM)               (None, 24, 50)            20200     \n",
            "                                                                 \n",
            " dropout_2 (Dropout)         (None, 24, 50)            0         \n",
            "                                                                 \n",
            " lstm_3 (LSTM)               (None, 50)                20200     \n",
            "                                                                 \n",
            " dropout_3 (Dropout)         (None, 50)                0         \n",
            "                                                                 \n",
            " dense (Dense)               (None, 1)                 51        \n",
            "                                                                 \n",
            "=================================================================\n",
            "Total params: 72,651\n",
            "Trainable params: 72,651\n",
            "Non-trainable params: 0\n",
            "_________________________________________________________________\n"
          ]
        }
      ]
    },
    {
      "cell_type": "code",
      "source": [
        "model.fit(x_train, y_train, batch_size=32, epochs=10, validation_data=(x_val, y_val), callbacks=[tb_callback])"
      ],
      "metadata": {
        "colab": {
          "base_uri": "https://localhost:8080/"
        },
        "id": "ZPbzdk9U-Aat",
        "outputId": "20b0905f-5cf1-427c-c2a6-30b8e37b9c21"
      },
      "id": "ZPbzdk9U-Aat",
      "execution_count": 27,
      "outputs": [
        {
          "output_type": "stream",
          "name": "stdout",
          "text": [
            "Epoch 1/10\n",
            "14/14 [==============================] - 9s 210ms/step - loss: 0.0701 - val_loss: 0.0250\n",
            "Epoch 2/10\n",
            "14/14 [==============================] - 1s 45ms/step - loss: 0.0199 - val_loss: 0.0115\n",
            "Epoch 3/10\n",
            "14/14 [==============================] - 1s 44ms/step - loss: 0.0117 - val_loss: 0.0078\n",
            "Epoch 4/10\n",
            "14/14 [==============================] - 1s 44ms/step - loss: 0.0082 - val_loss: 0.0079\n",
            "Epoch 5/10\n",
            "14/14 [==============================] - 1s 44ms/step - loss: 0.0092 - val_loss: 0.0073\n",
            "Epoch 6/10\n",
            "14/14 [==============================] - 1s 43ms/step - loss: 0.0087 - val_loss: 0.0070\n",
            "Epoch 7/10\n",
            "14/14 [==============================] - 1s 44ms/step - loss: 0.0073 - val_loss: 0.0066\n",
            "Epoch 8/10\n",
            "14/14 [==============================] - 1s 43ms/step - loss: 0.0075 - val_loss: 0.0055\n",
            "Epoch 9/10\n",
            "14/14 [==============================] - 1s 44ms/step - loss: 0.0066 - val_loss: 0.0052\n",
            "Epoch 10/10\n",
            "14/14 [==============================] - 1s 43ms/step - loss: 0.0070 - val_loss: 0.0051\n"
          ]
        },
        {
          "output_type": "execute_result",
          "data": {
            "text/plain": [
              "<keras.callbacks.History at 0x7f28b77cdcd0>"
            ]
          },
          "metadata": {},
          "execution_count": 27
        }
      ]
    },
    {
      "cell_type": "code",
      "source": [
        "model.evaluate(x_test, y_test, verbose=1)"
      ],
      "metadata": {
        "colab": {
          "base_uri": "https://localhost:8080/"
        },
        "id": "Z-B-VImZ-AYE",
        "outputId": "5ad0c7d8-0ef3-4f37-91aa-bc00733bfac5"
      },
      "id": "Z-B-VImZ-AYE",
      "execution_count": 28,
      "outputs": [
        {
          "output_type": "stream",
          "name": "stdout",
          "text": [
            "4/4 [==============================] - 0s 10ms/step - loss: 0.0052\n"
          ]
        },
        {
          "output_type": "execute_result",
          "data": {
            "text/plain": [
              "0.005160232540220022"
            ]
          },
          "metadata": {},
          "execution_count": 28
        }
      ]
    },
    {
      "cell_type": "code",
      "source": [
        ""
      ],
      "metadata": {
        "id": "VUu6WHq5-AVc"
      },
      "id": "VUu6WHq5-AVc",
      "execution_count": 28,
      "outputs": []
    },
    {
      "cell_type": "code",
      "source": [
        ""
      ],
      "metadata": {
        "id": "3_XritUt-AS1"
      },
      "id": "3_XritUt-AS1",
      "execution_count": null,
      "outputs": []
    },
    {
      "cell_type": "code",
      "source": [
        ""
      ],
      "metadata": {
        "id": "jKtx1XO2-AQL"
      },
      "id": "jKtx1XO2-AQL",
      "execution_count": null,
      "outputs": []
    },
    {
      "cell_type": "code",
      "source": [
        ""
      ],
      "metadata": {
        "id": "uOXPnt2Q-AIL"
      },
      "id": "uOXPnt2Q-AIL",
      "execution_count": null,
      "outputs": []
    },
    {
      "cell_type": "code",
      "source": [
        ""
      ],
      "metadata": {
        "id": "1LTb6VTT-AFk"
      },
      "id": "1LTb6VTT-AFk",
      "execution_count": null,
      "outputs": []
    },
    {
      "cell_type": "code",
      "source": [
        ""
      ],
      "metadata": {
        "id": "TBlFFJbu-AC4"
      },
      "id": "TBlFFJbu-AC4",
      "execution_count": null,
      "outputs": []
    },
    {
      "cell_type": "code",
      "source": [
        ""
      ],
      "metadata": {
        "id": "bjuGutvu-AAT"
      },
      "id": "bjuGutvu-AAT",
      "execution_count": null,
      "outputs": []
    },
    {
      "cell_type": "code",
      "source": [
        ""
      ],
      "metadata": {
        "id": "2CwtScUw9_9x"
      },
      "id": "2CwtScUw9_9x",
      "execution_count": null,
      "outputs": []
    },
    {
      "cell_type": "markdown",
      "source": [
        "## GRU"
      ],
      "metadata": {
        "id": "KApcdI8XyXny"
      },
      "id": "KApcdI8XyXny"
    },
    {
      "cell_type": "code",
      "source": [
        "model = tf.keras.Sequential()\n",
        "model.add(tf.keras.layers.GRU(50, return_sequences=True, input_shape=(20, 320), activation='tanh'))\n",
        "model.add(tf.keras.layers.GRU(50,activation='tanh'))\n",
        "model.add(tf.keras.layers.Dense(units=1, activation='sigmoid'))\n",
        "\n",
        "model.compile(optimizer=tf.keras.optimizers.SGD(learning_rate=0.01,decay=1e-7,momentum=0.9,nesterov=False),loss='binary_crossentropy')\n",
        "print(model.summary())"
      ],
      "metadata": {
        "colab": {
          "base_uri": "https://localhost:8080/"
        },
        "id": "bM3Gy-yP9_68",
        "outputId": "842c34e7-2f9c-4787-8ab4-ecd6bbf6dcd3"
      },
      "id": "bM3Gy-yP9_68",
      "execution_count": 29,
      "outputs": [
        {
          "output_type": "stream",
          "name": "stdout",
          "text": [
            "Model: \"sequential_1\"\n",
            "_________________________________________________________________\n",
            " Layer (type)                Output Shape              Param #   \n",
            "=================================================================\n",
            " gru (GRU)                   (None, 20, 50)            55800     \n",
            "                                                                 \n",
            " gru_1 (GRU)                 (None, 50)                15300     \n",
            "                                                                 \n",
            " dense_1 (Dense)             (None, 1)                 51        \n",
            "                                                                 \n",
            "=================================================================\n",
            "Total params: 71,151\n",
            "Trainable params: 71,151\n",
            "Non-trainable params: 0\n",
            "_________________________________________________________________\n",
            "None\n"
          ]
        }
      ]
    },
    {
      "cell_type": "code",
      "source": [
        ""
      ],
      "metadata": {
        "id": "MHCdlkiD9_4U"
      },
      "id": "MHCdlkiD9_4U",
      "execution_count": null,
      "outputs": []
    },
    {
      "cell_type": "code",
      "source": [
        ""
      ],
      "metadata": {
        "id": "tRfcGfPp9_1b"
      },
      "id": "tRfcGfPp9_1b",
      "execution_count": null,
      "outputs": []
    },
    {
      "cell_type": "code",
      "source": [
        ""
      ],
      "metadata": {
        "id": "pv-9BFVg9_yr"
      },
      "id": "pv-9BFVg9_yr",
      "execution_count": null,
      "outputs": []
    }
  ],
  "metadata": {
    "colab": {
      "name": "HW06.ipynb",
      "provenance": []
    },
    "language_info": {
      "name": "python"
    },
    "kernelspec": {
      "name": "python3",
      "display_name": "Python 3"
    }
  },
  "nbformat": 4,
  "nbformat_minor": 5
}