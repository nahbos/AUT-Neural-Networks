{
  "cells": [
    {
      "cell_type": "markdown",
      "source": [
        "### - Sobhan Moradian Daghigh\n",
        "#### - 5/29/2022\n",
        "#### - ANN - HW06"
      ],
      "metadata": {
        "id": "I7jdgUuc4ZD1"
      },
      "id": "I7jdgUuc4ZD1"
    },
    {
      "cell_type": "code",
      "source": [
        "import numpy as np\n",
        "import matplotlib.pyplot as plt\n",
        "import pandas as pd\n",
        "from sklearn.model_selection import train_test_split\n",
        "from sklearn.preprocessing import MinMaxScaler\n",
        "import urllib\n",
        "import pickle\n",
        "from sklearn.metrics import confusion_matrix\n",
        "\n",
        "import tensorflow as tf, keras\n",
        "from keras.utils.vis_utils import plot_model\n",
        "from keras.models import Sequential\n",
        "from keras.layers import Input, Dense, Flatten, LSTM, Dropout\n",
        "\n",
        "import warnings\n",
        "warnings.filterwarnings(\"ignore\")\n",
        "\n",
        "import itertools\n",
        "\n",
        "%load_ext tensorboard"
      ],
      "metadata": {
        "id": "FKztuIg14YDn"
      },
      "id": "FKztuIg14YDn",
      "execution_count": 1,
      "outputs": []
    },
    {
      "cell_type": "code",
      "source": [
        "print(tf.__version__)"
      ],
      "metadata": {
        "colab": {
          "base_uri": "https://localhost:8080/"
        },
        "id": "lC6SiTti1cHr",
        "outputId": "cda2ffa2-3a56-4d3e-dd9e-c348632e4ede"
      },
      "execution_count": 2,
      "outputs": [
        {
          "output_type": "stream",
          "name": "stdout",
          "text": [
            "2.8.0\n"
          ]
        }
      ],
      "id": "lC6SiTti1cHr"
    },
    {
      "cell_type": "code",
      "source": [
        "from google.colab import drive\n",
        "drive.mount('/content/drive', force_remount=True)"
      ],
      "metadata": {
        "colab": {
          "base_uri": "https://localhost:8080/"
        },
        "id": "3_3LG3SH5vTa",
        "outputId": "64b1d328-86bf-463a-dd5d-69829de8bedc"
      },
      "execution_count": 3,
      "outputs": [
        {
          "output_type": "stream",
          "name": "stdout",
          "text": [
            "Mounted at /content/drive\n"
          ]
        }
      ],
      "id": "3_3LG3SH5vTa"
    },
    {
      "cell_type": "code",
      "source": [
        "tb_callback = keras.callbacks.TensorBoard(log_dir='/content/drive/MyDrive/logs', histogram_freq=1)"
      ],
      "metadata": {
        "id": "RCNvq9tI5vO0"
      },
      "execution_count": 4,
      "outputs": [],
      "id": "RCNvq9tI5vO0"
    },
    {
      "cell_type": "code",
      "source": [
        "class EarlyStoppingCallback(keras.callbacks.Callback):\n",
        "  def __init__(self, patience=0):\n",
        "    super(EarlyStoppingCallback, self).__init__()\n",
        "    self.patience = patience\n",
        "\n",
        "  def on_train_begin(self, logs=None):\n",
        "    self.best = np.inf\n",
        "    self.wait = 0\n",
        "  \n",
        "  def on_epoch_end(self, epoch, logs=None):\n",
        "    current_loss = logs.get('loss')\n",
        "    if np.less(current_loss, self.best):\n",
        "      self.best = current_loss\n",
        "      self.wait = 0\n",
        "      self.best_weights = self.model.get_weights()\n",
        "    else:\n",
        "      self.wait += 1\n",
        "      if np.greater_equal(self.wait, self.patience):\n",
        "        self.model.stop_training = True\n",
        "        self.model.set_weights(self.best_weights)"
      ],
      "metadata": {
        "id": "TFv3GdDX5vMN"
      },
      "execution_count": 5,
      "outputs": [],
      "id": "TFv3GdDX5vMN"
    },
    {
      "cell_type": "code",
      "source": [
        "es_callback = EarlyStoppingCallback(patience=3)"
      ],
      "metadata": {
        "id": "PnySBYER5vJv"
      },
      "execution_count": 6,
      "outputs": [],
      "id": "PnySBYER5vJv"
    },
    {
      "cell_type": "code",
      "source": [
        ""
      ],
      "metadata": {
        "id": "lvBhf7E3550C"
      },
      "execution_count": 6,
      "outputs": [],
      "id": "lvBhf7E3550C"
    },
    {
      "cell_type": "markdown",
      "metadata": {
        "id": "uAIOKJAQ09qv"
      },
      "source": [
        "# Load Data"
      ],
      "id": "uAIOKJAQ09qv"
    },
    {
      "cell_type": "code",
      "source": [
        ""
      ],
      "metadata": {
        "id": "AijDZxFS4YR9"
      },
      "id": "AijDZxFS4YR9",
      "execution_count": 6,
      "outputs": []
    },
    {
      "cell_type": "code",
      "source": [
        " "
      ],
      "metadata": {
        "id": "FAZlpUhWH0lx"
      },
      "id": "FAZlpUhWH0lx",
      "execution_count": 6,
      "outputs": []
    },
    {
      "cell_type": "code",
      "source": [
        "def load_data(base_url):\n",
        "  merged_data = pd.DataFrame(columns=['<DTYYYYMMDD>'])\n",
        "  file_names = []\n",
        "  total_index_csv = None\n",
        "\n",
        "  with urllib.request.urlopen(base_url + 'names.txt') as names:\n",
        "    idx = 0\n",
        "    for name in names.readlines():\n",
        "      name = name.decode(\"utf-8\").split('\\n')[0]\n",
        "      data = pd.read_csv(base_url + name, delimiter=',', encoding='utf-16_le')\n",
        "      if not data.empty:\n",
        "        data = pd.DataFrame(data[(data['<DTYYYYMMDD>'] > 20210522)], columns=data.columns).reset_index(drop=True) # Filter 1 year\n",
        "        drop_attrs = [0, 10, 11] # Drop attrs: <TICKER>, <COl12>, <COl13>\n",
        "        data.drop(data.columns[drop_attrs], axis=1, inplace=True)\n",
        "        \n",
        "        if name != 'IRX6XTPI0009.csv':\n",
        "          merged_data = pd.merge(merged_data, data, left_on='<DTYYYYMMDD>', right_on='<DTYYYYMMDD>', how=\"right\", sort=False)\n",
        "        else:\n",
        "          total_index_csv = data\n",
        "\n",
        "        file_names.append(name)\n",
        "        print('   |_ {}- {} loaded.'.format(idx, name))\n",
        "        idx += 1\n",
        "\n",
        "  return merged_data, total_index_csv, file_names"
      ],
      "metadata": {
        "id": "jFUPtL5l5vHK"
      },
      "execution_count": 62,
      "outputs": [],
      "id": "jFUPtL5l5vHK"
    },
    {
      "cell_type": "code",
      "source": [
        "base_url = 'https://raw.githubusercontent.com/nahbos/AUT-Neural-Networks/main/HW06/dataset/'\n",
        "merged_data, total_index_csv, names = load_data(base_url)"
      ],
      "metadata": {
        "id": "NKHQFcJf6oKp",
        "colab": {
          "base_uri": "https://localhost:8080/"
        },
        "outputId": "f194ea96-1d88-47ef-b0fc-d09c8ece4be8"
      },
      "execution_count": 63,
      "outputs": [
        {
          "output_type": "stream",
          "name": "stdout",
          "text": [
            "   |_ 0- IRX6XAFF0005.csv loaded.\n",
            "   |_ 1- IRX6XALS0002.csv loaded.\n",
            "   |_ 2- IRX6XS300003.csv loaded.\n",
            "   |_ 3- IRX6XSLC0000.csv loaded.\n",
            "   |_ 4- IRX6XSNT0009.csv loaded.\n",
            "   |_ 5- IRX6XTAL0001.csv loaded.\n",
            "   |_ 6- IRX6XTPI0009.csv loaded.\n",
            "   |_ 7- IRX6XTPI0025.csv loaded.\n",
            "   |_ 8- IRX6XWAI0001.csv loaded.\n",
            "   |_ 9- IRXYXTPI0009.csv loaded.\n",
            "   |_ 10- IRXYXTPI0025.csv loaded.\n",
            "   |_ 11- IRXZXCMI0000.csv loaded.\n",
            "   |_ 12- IRXZXENG0009.csv loaded.\n",
            "   |_ 13- IRXZXOCI0008.csv loaded.\n",
            "   |_ 14- IRXZXTRI0006.csv loaded.\n",
            "   |_ 15- IRXZXWDI0007.csv loaded.\n"
          ]
        }
      ],
      "id": "NKHQFcJf6oKp"
    },
    {
      "cell_type": "code",
      "source": [
        "# merged_data[merged_data.isna().any(axis=1)].iloc[0, :]"
      ],
      "metadata": {
        "id": "3u8M5T9fOFrc"
      },
      "id": "3u8M5T9fOFrc",
      "execution_count": 64,
      "outputs": []
    },
    {
      "cell_type": "code",
      "source": [
        "merged_data.shape"
      ],
      "metadata": {
        "colab": {
          "base_uri": "https://localhost:8080/"
        },
        "id": "odM1lBg7FM4X",
        "outputId": "b7863ac7-3ab7-4b43-c570-046b18c4b68e"
      },
      "id": "odM1lBg7FM4X",
      "execution_count": 65,
      "outputs": [
        {
          "output_type": "execute_result",
          "data": {
            "text/plain": [
              "(237, 136)"
            ]
          },
          "metadata": {},
          "execution_count": 65
        }
      ]
    },
    {
      "cell_type": "code",
      "source": [
        "total_index_csv.info()"
      ],
      "metadata": {
        "colab": {
          "base_uri": "https://localhost:8080/"
        },
        "id": "Fotw25TII0lg",
        "outputId": "07e641ad-2526-43c6-ebe7-90ee289e53c0"
      },
      "id": "Fotw25TII0lg",
      "execution_count": 66,
      "outputs": [
        {
          "output_type": "stream",
          "name": "stdout",
          "text": [
            "<class 'pandas.core.frame.DataFrame'>\n",
            "RangeIndex: 237 entries, 0 to 236\n",
            "Data columns (total 10 columns):\n",
            " #   Column        Non-Null Count  Dtype  \n",
            "---  ------        --------------  -----  \n",
            " 0   <DTYYYYMMDD>  237 non-null    int64  \n",
            " 1   <OPEN>        237 non-null    float64\n",
            " 2   <HIGH>        237 non-null    float64\n",
            " 3   <LOW>         237 non-null    float64\n",
            " 4   <CLOSE>       237 non-null    float64\n",
            " 5   <VOL>         237 non-null    int64  \n",
            " 6   <OPENINT>     237 non-null    float64\n",
            " 7   <OPENINT>.1   237 non-null    int64  \n",
            " 8   <OPENINT>.2   237 non-null    float64\n",
            " 9   <LAST>        237 non-null    float64\n",
            "dtypes: float64(7), int64(3)\n",
            "memory usage: 18.6 KB\n"
          ]
        }
      ]
    },
    {
      "cell_type": "code",
      "source": [
        "plt.figure(figsize = (15, 8))\n",
        "plt.plot(range(total_index_csv.shape[0]), total_index_csv['<CLOSE>'])\n",
        "plt.xticks(range(0, total_index_csv.shape[0], 20), total_index_csv['<DTYYYYMMDD>'].loc[::20], rotation=30)\n",
        "plt.title('Total Index Datas')\n",
        "plt.xlabel('Date', fontsize=13)\n",
        "plt.ylabel('Close', fontsize=13)\n",
        "plt.show()"
      ],
      "metadata": {
        "colab": {
          "base_uri": "https://localhost:8080/",
          "height": 540
        },
        "id": "4TNK9ggH4YXV",
        "outputId": "21cbf802-146d-46a9-ccbd-c58e6f79d2aa"
      },
      "id": "4TNK9ggH4YXV",
      "execution_count": 67,
      "outputs": [
        {
          "output_type": "display_data",
          "data": {
            "text/plain": [
              "<Figure size 1080x576 with 1 Axes>"
            ],
            "image/png": "[encoded data removed]"
          },
          "metadata": {
            "needs_background": "light"
          }
        }
      ]
    },
    {
      "cell_type": "code",
      "source": [
        ""
      ],
      "metadata": {
        "id": "kbn_3zlfiNkD"
      },
      "id": "kbn_3zlfiNkD",
      "execution_count": 67,
      "outputs": []
    },
    {
      "cell_type": "markdown",
      "source": [
        "## Data Normalization"
      ],
      "metadata": {
        "id": "6SLVVFCwiN-z"
      },
      "id": "6SLVVFCwiN-z"
    },
    {
      "cell_type": "code",
      "source": [
        "scaler = MinMaxScaler(feature_range=(0, 1))\n",
        "data_scaled = pd.DataFrame(scaler.fit_transform(merged_data), columns=merged_data.columns)"
      ],
      "metadata": {
        "id": "imv09P2ZiNhh"
      },
      "id": "imv09P2ZiNhh",
      "execution_count": 68,
      "outputs": []
    },
    {
      "cell_type": "code",
      "source": [
        ""
      ],
      "metadata": {
        "id": "rnbqiX28mbGw"
      },
      "id": "rnbqiX28mbGw",
      "execution_count": 68,
      "outputs": []
    },
    {
      "cell_type": "markdown",
      "source": [
        "## Define time steps"
      ],
      "metadata": {
        "id": "V2Y31R0NfUek"
      },
      "id": "V2Y31R0NfUek"
    },
    {
      "cell_type": "code",
      "source": [
        "x_timesteps = []\n",
        "y_timesteps = []\n",
        "timesteps_size = 25\n",
        "\n",
        "for i in range(data_scaled.shape[0] - timesteps_size):\n",
        "  x_timesteps.append(data_scaled.to_numpy()[i:i + timesteps_size, :])\n",
        "\n",
        "  if total_index_csv.loc[i + timesteps_size, '<CLOSE>'] > total_index_csv.loc[i + timesteps_size - 1, '<CLOSE>']:\n",
        "    y_timesteps.append(1)\n",
        "  else:\n",
        "    y_timesteps.append(0)\n",
        "\n",
        "x_train_val_timesteps, y_train_val_timesteps = np.array(x_timesteps), np.array(y_timesteps)\n",
        "x_train_val_timesteps = np.reshape(x_train_val_timesteps, (x_train_val_timesteps.shape[0], x_train_val_timesteps.shape[1], data_scaled.shape[1]))\n",
        "\n",
        "x_temp, x_test, y_temp, y_test = train_test_split(x_train_val_timesteps, y_train_val_timesteps, test_size=0.2, random_state=0, stratify=y_train_val_timesteps)\n",
        "x_train, x_val, y_train, y_val = train_test_split(x_temp, y_temp, test_size=0.125, random_state=0, stratify=y_temp)"
      ],
      "metadata": {
        "id": "YZp5ixbLiNcZ"
      },
      "id": "YZp5ixbLiNcZ",
      "execution_count": 137,
      "outputs": []
    },
    {
      "cell_type": "code",
      "source": [
        "np.unique(y_train_val_timesteps, return_counts=True)"
      ],
      "metadata": {
        "colab": {
          "base_uri": "https://localhost:8080/"
        },
        "id": "ZTrLUqwYdKZf",
        "outputId": "54d4ab4d-7447-4842-bf25-a89a436f43ac"
      },
      "id": "ZTrLUqwYdKZf",
      "execution_count": 144,
      "outputs": [
        {
          "output_type": "execute_result",
          "data": {
            "text/plain": [
              "(array([0, 1]), array([ 92, 120]))"
            ]
          },
          "metadata": {},
          "execution_count": 144
        }
      ]
    },
    {
      "cell_type": "code",
      "source": [
        "x_train.shape"
      ],
      "metadata": {
        "colab": {
          "base_uri": "https://localhost:8080/"
        },
        "id": "8WyY25ZY5s-K",
        "outputId": "3361fc19-7c44-40db-f0b0-1fc34001a29c"
      },
      "id": "8WyY25ZY5s-K",
      "execution_count": 139,
      "outputs": [
        {
          "output_type": "execute_result",
          "data": {
            "text/plain": [
              "(147, 25, 136)"
            ]
          },
          "metadata": {},
          "execution_count": 139
        }
      ]
    },
    {
      "cell_type": "code",
      "source": [
        "x_val.shape"
      ],
      "metadata": {
        "colab": {
          "base_uri": "https://localhost:8080/"
        },
        "id": "N3m4uMqcPT5k",
        "outputId": "f85fe558-cd12-4b38-cc62-cb03b6db061b"
      },
      "id": "N3m4uMqcPT5k",
      "execution_count": 140,
      "outputs": [
        {
          "output_type": "execute_result",
          "data": {
            "text/plain": [
              "(22, 25, 136)"
            ]
          },
          "metadata": {},
          "execution_count": 140
        }
      ]
    },
    {
      "cell_type": "code",
      "source": [
        "x_test.shape"
      ],
      "metadata": {
        "colab": {
          "base_uri": "https://localhost:8080/"
        },
        "id": "thm2lcO7PTyt",
        "outputId": "71ee013a-c9d6-40bf-b4ff-b3ff7de22530"
      },
      "id": "thm2lcO7PTyt",
      "execution_count": 141,
      "outputs": [
        {
          "output_type": "execute_result",
          "data": {
            "text/plain": [
              "(43, 25, 136)"
            ]
          },
          "metadata": {},
          "execution_count": 141
        }
      ]
    },
    {
      "cell_type": "code",
      "source": [
        "np.unique(y_train, return_counts=True)"
      ],
      "metadata": {
        "colab": {
          "base_uri": "https://localhost:8080/"
        },
        "id": "aqKyCsCGbn5J",
        "outputId": "8944ed4d-14d9-4e38-fe42-e75b117a534e"
      },
      "id": "aqKyCsCGbn5J",
      "execution_count": 142,
      "outputs": [
        {
          "output_type": "execute_result",
          "data": {
            "text/plain": [
              "(array([0, 1]), array([63, 84]))"
            ]
          },
          "metadata": {},
          "execution_count": 142
        }
      ]
    },
    {
      "cell_type": "code",
      "source": [
        "label_0 = np.unique(y_train, return_counts=True)[1][0]\n",
        "label_1 = np.unique(y_train, return_counts=True)[1][1]\n",
        "\n",
        "print('Labels percentages in Train dataset:')\n",
        "print('   |_ 0: {} %'.format(round(label_0/len(y_train), 2)))\n",
        "print('   |_ 1: {} %'.format(round(label_1/len(y_train), 2)))"
      ],
      "metadata": {
        "colab": {
          "base_uri": "https://localhost:8080/"
        },
        "id": "Rw7tDQM-xKps",
        "outputId": "81013d63-75d0-407b-8ef3-25810e388de0"
      },
      "id": "Rw7tDQM-xKps",
      "execution_count": 148,
      "outputs": [
        {
          "output_type": "stream",
          "name": "stdout",
          "text": [
            "Labels percentages in Train dataset:\n",
            "   |_ 0: 0.43 %\n",
            "   |_ 1: 0.57 %\n"
          ]
        }
      ]
    },
    {
      "cell_type": "code",
      "source": [
        "label_0 = np.unique(y_test, return_counts=True)[1][0]\n",
        "label_1 = np.unique(y_test, return_counts=True)[1][1]\n",
        "\n",
        "print('Labels percentages in Test dataset:')\n",
        "print('   |_ 0: {} %'.format(round(label_0/len(y_test), 2)))\n",
        "print('   |_ 1: {} %'.format(round(label_1/len(y_test), 2)))"
      ],
      "metadata": {
        "colab": {
          "base_uri": "https://localhost:8080/"
        },
        "id": "n28Qh2Ehe7kQ",
        "outputId": "db2b0fa3-f8e9-4a96-dbb9-fbb17ac3c9c6"
      },
      "id": "n28Qh2Ehe7kQ",
      "execution_count": 149,
      "outputs": [
        {
          "output_type": "stream",
          "name": "stdout",
          "text": [
            "Labels percentages in Test dataset:\n",
            "   |_ 0: 0.44 %\n",
            "   |_ 1: 0.56 %\n"
          ]
        }
      ]
    },
    {
      "cell_type": "code",
      "source": [
        ""
      ],
      "metadata": {
        "id": "6lHf13Cnezjf"
      },
      "id": "6lHf13Cnezjf",
      "execution_count": null,
      "outputs": []
    },
    {
      "cell_type": "markdown",
      "source": [
        "## LSTM"
      ],
      "metadata": {
        "id": "KGdrNo-xSs21"
      },
      "id": "KGdrNo-xSs21"
    },
    {
      "cell_type": "code",
      "source": [
        "# model = Sequential()\n",
        "# model.add(LSTM(units=20, return_sequences=True, input_shape = (x_train.shape[1], x_train.shape[2])))\n",
        "# model.add(Dropout(0.1)) \n",
        "# model.add(LSTM(units=10))\n",
        "# model.add(Dense(1))\n",
        "\n",
        "model = Sequential()\n",
        "model.add(LSTM(units=80, return_sequences=True, input_shape=(x_train.shape[1], x_train.shape[2])))\n",
        "model.add(Dropout(0.2))\n",
        "model.add(LSTM(units=50,return_sequences=True))\n",
        "model.add(Dropout(0.15))\n",
        "model.add(LSTM(units=30,return_sequences=True))\n",
        "model.add(Dropout(0.1))\n",
        "model.add(LSTM(units=15))\n",
        "model.add(Dense(units=1))"
      ],
      "metadata": {
        "id": "CEgiuCbgQD6G"
      },
      "id": "CEgiuCbgQD6G",
      "execution_count": 171,
      "outputs": []
    },
    {
      "cell_type": "code",
      "source": [
        "model.compile(optimizer='adam', loss='binary_crossentropy', metrics=['accuracy'])\n",
        "model.summary()"
      ],
      "metadata": {
        "colab": {
          "base_uri": "https://localhost:8080/"
        },
        "id": "VTku-k4jQGnE",
        "outputId": "5deb78e7-354f-4980-d2ef-2db9f540dccc"
      },
      "id": "VTku-k4jQGnE",
      "execution_count": 172,
      "outputs": [
        {
          "output_type": "stream",
          "name": "stdout",
          "text": [
            "Model: \"sequential_10\"\n",
            "_________________________________________________________________\n",
            " Layer (type)                Output Shape              Param #   \n",
            "=================================================================\n",
            " lstm_28 (LSTM)              (None, 25, 80)            69440     \n",
            "                                                                 \n",
            " dropout_19 (Dropout)        (None, 25, 80)            0         \n",
            "                                                                 \n",
            " lstm_29 (LSTM)              (None, 25, 50)            26200     \n",
            "                                                                 \n",
            " dropout_20 (Dropout)        (None, 25, 50)            0         \n",
            "                                                                 \n",
            " lstm_30 (LSTM)              (None, 25, 30)            9720      \n",
            "                                                                 \n",
            " dropout_21 (Dropout)        (None, 25, 30)            0         \n",
            "                                                                 \n",
            " lstm_31 (LSTM)              (None, 15)                2760      \n",
            "                                                                 \n",
            " dense_10 (Dense)            (None, 1)                 16        \n",
            "                                                                 \n",
            "=================================================================\n",
            "Total params: 108,136\n",
            "Trainable params: 108,136\n",
            "Non-trainable params: 0\n",
            "_________________________________________________________________\n"
          ]
        }
      ]
    },
    {
      "cell_type": "code",
      "source": [
        "plot_model(model, show_shapes=True, show_layer_names=True, expand_nested=True)"
      ],
      "metadata": {
        "colab": {
          "base_uri": "https://localhost:8080/",
          "height": 976
        },
        "id": "FOm-zSvq_S4q",
        "outputId": "ffe1562c-50b4-4945-f345-6cfb060e129f"
      },
      "id": "FOm-zSvq_S4q",
      "execution_count": 173,
      "outputs": [
        {
          "output_type": "execute_result",
          "data": {
            "text/plain": [
              "<IPython.core.display.Image object>"
            ],
            "image/png": "[encoded data removed]"
          },
          "metadata": {},
          "execution_count": 173
        }
      ]
    },
    {
      "cell_type": "code",
      "source": [
        "model.fit(x_train, y_train, batch_size=16, epochs=100, validation_data=(x_val, y_val), callbacks=[tb_callback])"
      ],
      "metadata": {
        "colab": {
          "base_uri": "https://localhost:8080/"
        },
        "id": "ZPbzdk9U-Aat",
        "outputId": "6fb19a31-79fa-4767-9adc-8ee58e2c405d"
      },
      "id": "ZPbzdk9U-Aat",
      "execution_count": null,
      "outputs": [
        {
          "output_type": "stream",
          "name": "stdout",
          "text": [
            "Epoch 1/100\n",
            "10/10 [==============================] - 84s 293ms/step - loss: 1.3518 - accuracy: 0.4898 - val_loss: 0.7168 - val_accuracy: 0.5455\n",
            "Epoch 2/100\n",
            "10/10 [==============================] - 1s 72ms/step - loss: 0.7045 - accuracy: 0.5442 - val_loss: 0.6902 - val_accuracy: 0.5455\n",
            "Epoch 3/100\n",
            "10/10 [==============================] - 1s 70ms/step - loss: 0.6853 - accuracy: 0.5918 - val_loss: 0.7014 - val_accuracy: 0.5455\n",
            "Epoch 4/100\n",
            "10/10 [==============================] - 1s 69ms/step - loss: 0.6871 - accuracy: 0.5714 - val_loss: 0.6960 - val_accuracy: 0.5455\n",
            "Epoch 5/100\n",
            "10/10 [==============================] - 1s 66ms/step - loss: 0.6717 - accuracy: 0.5782 - val_loss: 0.6908 - val_accuracy: 0.5909\n",
            "Epoch 6/100\n",
            "10/10 [==============================] - 1s 69ms/step - loss: 0.6824 - accuracy: 0.5578 - val_loss: 0.6913 - val_accuracy: 0.5455\n",
            "Epoch 7/100\n",
            "10/10 [==============================] - 1s 74ms/step - loss: 0.6862 - accuracy: 0.5646 - val_loss: 0.6920 - val_accuracy: 0.5455\n",
            "Epoch 8/100\n",
            "10/10 [==============================] - 1s 71ms/step - loss: 0.6809 - accuracy: 0.5782 - val_loss: 0.6999 - val_accuracy: 0.5000\n",
            "Epoch 9/100\n",
            "10/10 [==============================] - 1s 70ms/step - loss: 0.6723 - accuracy: 0.5442 - val_loss: 0.6913 - val_accuracy: 0.5455\n",
            "Epoch 10/100\n",
            "10/10 [==============================] - 1s 73ms/step - loss: 0.6713 - accuracy: 0.5918 - val_loss: 0.6870 - val_accuracy: 0.5000\n",
            "Epoch 11/100\n",
            "10/10 [==============================] - 1s 75ms/step - loss: 0.6795 - accuracy: 0.5782 - val_loss: 0.6904 - val_accuracy: 0.5455\n",
            "Epoch 12/100\n",
            "10/10 [==============================] - 1s 71ms/step - loss: 0.6888 - accuracy: 0.5782 - val_loss: 0.6905 - val_accuracy: 0.5455\n",
            "Epoch 13/100\n",
            "10/10 [==============================] - 1s 68ms/step - loss: 0.6834 - accuracy: 0.6259 - val_loss: 0.6886 - val_accuracy: 0.5909\n",
            "Epoch 14/100\n",
            "10/10 [==============================] - 1s 69ms/step - loss: 0.6696 - accuracy: 0.6327 - val_loss: 0.6954 - val_accuracy: 0.5000\n",
            "Epoch 15/100\n",
            "10/10 [==============================] - 1s 71ms/step - loss: 0.6595 - accuracy: 0.6054 - val_loss: 0.6975 - val_accuracy: 0.5455\n",
            "Epoch 16/100\n",
            "10/10 [==============================] - 1s 65ms/step - loss: 0.6963 - accuracy: 0.5782 - val_loss: 0.6985 - val_accuracy: 0.5455\n",
            "Epoch 17/100\n",
            "10/10 [==============================] - 1s 72ms/step - loss: 0.6735 - accuracy: 0.5850 - val_loss: 0.6894 - val_accuracy: 0.5455\n",
            "Epoch 18/100\n",
            "10/10 [==============================] - 1s 75ms/step - loss: 0.6629 - accuracy: 0.6122 - val_loss: 0.6855 - val_accuracy: 0.5000\n",
            "Epoch 19/100\n",
            "10/10 [==============================] - 1s 76ms/step - loss: 0.6669 - accuracy: 0.5850 - val_loss: 0.6843 - val_accuracy: 0.5909\n",
            "Epoch 20/100\n",
            "10/10 [==============================] - 1s 73ms/step - loss: 0.6596 - accuracy: 0.5986 - val_loss: 0.6883 - val_accuracy: 0.5455\n",
            "Epoch 21/100\n",
            "10/10 [==============================] - 1s 67ms/step - loss: 0.6922 - accuracy: 0.5714 - val_loss: 0.6793 - val_accuracy: 0.5455\n",
            "Epoch 22/100\n",
            "10/10 [==============================] - 1s 72ms/step - loss: 0.6537 - accuracy: 0.6190 - val_loss: 0.6778 - val_accuracy: 0.6364\n",
            "Epoch 23/100\n",
            "10/10 [==============================] - 1s 73ms/step - loss: 0.6652 - accuracy: 0.5714 - val_loss: 0.6815 - val_accuracy: 0.5909\n",
            "Epoch 24/100\n",
            "10/10 [==============================] - 1s 71ms/step - loss: 0.6583 - accuracy: 0.6122 - val_loss: 0.6940 - val_accuracy: 0.5455\n",
            "Epoch 25/100\n",
            "10/10 [==============================] - 1s 73ms/step - loss: 0.6709 - accuracy: 0.5782 - val_loss: 0.6909 - val_accuracy: 0.5000\n",
            "Epoch 26/100\n",
            "10/10 [==============================] - 1s 74ms/step - loss: 0.6704 - accuracy: 0.5714 - val_loss: 0.6960 - val_accuracy: 0.5455\n",
            "Epoch 27/100\n",
            "10/10 [==============================] - 1s 77ms/step - loss: 0.6744 - accuracy: 0.5782 - val_loss: 0.6854 - val_accuracy: 0.5909\n",
            "Epoch 28/100\n",
            "10/10 [==============================] - 1s 70ms/step - loss: 0.6595 - accuracy: 0.6122 - val_loss: 0.6859 - val_accuracy: 0.5909\n",
            "Epoch 29/100\n",
            "10/10 [==============================] - 1s 68ms/step - loss: 0.6664 - accuracy: 0.5986 - val_loss: 0.6939 - val_accuracy: 0.5909\n",
            "Epoch 30/100\n",
            "10/10 [==============================] - 1s 73ms/step - loss: 0.6658 - accuracy: 0.6122 - val_loss: 0.6934 - val_accuracy: 0.5455\n",
            "Epoch 31/100\n",
            "10/10 [==============================] - 1s 65ms/step - loss: 0.6613 - accuracy: 0.6327 - val_loss: 0.6945 - val_accuracy: 0.5909\n",
            "Epoch 32/100\n",
            "10/10 [==============================] - 1s 73ms/step - loss: 0.6638 - accuracy: 0.5986 - val_loss: 0.6855 - val_accuracy: 0.5455\n",
            "Epoch 33/100\n",
            "10/10 [==============================] - 1s 67ms/step - loss: 0.6620 - accuracy: 0.5782 - val_loss: 0.6979 - val_accuracy: 0.5909\n",
            "Epoch 34/100\n",
            "10/10 [==============================] - 1s 67ms/step - loss: 0.6645 - accuracy: 0.5714 - val_loss: 0.7026 - val_accuracy: 0.5455\n",
            "Epoch 35/100\n",
            "10/10 [==============================] - 1s 73ms/step - loss: 0.6699 - accuracy: 0.5850 - val_loss: 0.7047 - val_accuracy: 0.5000\n",
            "Epoch 36/100\n",
            "10/10 [==============================] - 1s 72ms/step - loss: 0.6579 - accuracy: 0.6190 - val_loss: 0.7054 - val_accuracy: 0.5909\n",
            "Epoch 37/100\n",
            "10/10 [==============================] - 1s 75ms/step - loss: 0.6570 - accuracy: 0.6122 - val_loss: 0.7086 - val_accuracy: 0.5909\n",
            "Epoch 38/100\n",
            "10/10 [==============================] - 1s 69ms/step - loss: 0.6566 - accuracy: 0.6122 - val_loss: 0.7034 - val_accuracy: 0.5455\n",
            "Epoch 39/100\n",
            "10/10 [==============================] - 1s 75ms/step - loss: 0.6579 - accuracy: 0.6190 - val_loss: 0.7162 - val_accuracy: 0.5909\n",
            "Epoch 40/100\n",
            "10/10 [==============================] - 1s 75ms/step - loss: 0.6610 - accuracy: 0.6259 - val_loss: 0.7231 - val_accuracy: 0.5455\n",
            "Epoch 41/100\n",
            "10/10 [==============================] - 1s 70ms/step - loss: 0.6808 - accuracy: 0.5850 - val_loss: 0.7030 - val_accuracy: 0.5909\n",
            "Epoch 42/100\n",
            "10/10 [==============================] - 1s 69ms/step - loss: 0.6604 - accuracy: 0.6122 - val_loss: 0.7201 - val_accuracy: 0.5909\n",
            "Epoch 43/100\n",
            "10/10 [==============================] - 1s 68ms/step - loss: 0.6631 - accuracy: 0.5986 - val_loss: 0.7205 - val_accuracy: 0.5455\n",
            "Epoch 44/100\n",
            "10/10 [==============================] - 1s 73ms/step - loss: 0.6614 - accuracy: 0.6122 - val_loss: 0.7208 - val_accuracy: 0.5000\n",
            "Epoch 45/100\n",
            "10/10 [==============================] - 1s 69ms/step - loss: 0.6670 - accuracy: 0.6054 - val_loss: 0.7138 - val_accuracy: 0.5455\n",
            "Epoch 46/100\n",
            "10/10 [==============================] - 1s 67ms/step - loss: 0.6696 - accuracy: 0.5646 - val_loss: 0.7173 - val_accuracy: 0.5455\n",
            "Epoch 47/100\n",
            "10/10 [==============================] - 1s 78ms/step - loss: 0.6662 - accuracy: 0.6122 - val_loss: 0.7093 - val_accuracy: 0.5455\n",
            "Epoch 48/100\n",
            "10/10 [==============================] - 1s 75ms/step - loss: 0.6717 - accuracy: 0.5714 - val_loss: 0.7132 - val_accuracy: 0.6364\n",
            "Epoch 49/100\n",
            "10/10 [==============================] - 1s 70ms/step - loss: 0.6585 - accuracy: 0.6190 - val_loss: 0.6919 - val_accuracy: 0.5455\n",
            "Epoch 50/100\n",
            "10/10 [==============================] - 1s 74ms/step - loss: 0.6514 - accuracy: 0.6259 - val_loss: 0.6968 - val_accuracy: 0.5909\n",
            "Epoch 51/100\n",
            "10/10 [==============================] - 1s 76ms/step - loss: 0.6599 - accuracy: 0.5986 - val_loss: 0.6971 - val_accuracy: 0.5455\n",
            "Epoch 52/100\n",
            "10/10 [==============================] - 1s 73ms/step - loss: 0.6523 - accuracy: 0.6190 - val_loss: 0.7069 - val_accuracy: 0.5455\n",
            "Epoch 53/100\n",
            "10/10 [==============================] - 1s 67ms/step - loss: 0.6566 - accuracy: 0.6327 - val_loss: 0.7080 - val_accuracy: 0.5455\n",
            "Epoch 54/100\n",
            "10/10 [==============================] - 1s 76ms/step - loss: 0.6631 - accuracy: 0.6327 - val_loss: 0.6922 - val_accuracy: 0.5455\n",
            "Epoch 55/100\n",
            "10/10 [==============================] - 1s 74ms/step - loss: 0.6594 - accuracy: 0.6190 - val_loss: 0.7005 - val_accuracy: 0.5455\n",
            "Epoch 56/100\n",
            "10/10 [==============================] - 1s 66ms/step - loss: 0.6629 - accuracy: 0.6327 - val_loss: 0.6969 - val_accuracy: 0.5455\n",
            "Epoch 57/100\n",
            "10/10 [==============================] - 1s 72ms/step - loss: 0.6667 - accuracy: 0.6327 - val_loss: 0.6814 - val_accuracy: 0.5455\n",
            "Epoch 58/100\n",
            "10/10 [==============================] - 1s 68ms/step - loss: 0.6640 - accuracy: 0.5578 - val_loss: 0.6876 - val_accuracy: 0.5455\n",
            "Epoch 59/100\n",
            "10/10 [==============================] - 1s 66ms/step - loss: 0.6617 - accuracy: 0.5714 - val_loss: 0.6883 - val_accuracy: 0.5909\n",
            "Epoch 60/100\n",
            "10/10 [==============================] - 1s 68ms/step - loss: 0.6602 - accuracy: 0.5782 - val_loss: 0.6861 - val_accuracy: 0.5909\n",
            "Epoch 61/100\n",
            "10/10 [==============================] - 1s 71ms/step - loss: 0.6823 - accuracy: 0.5986 - val_loss: 0.7087 - val_accuracy: 0.5455\n",
            "Epoch 62/100\n",
            "10/10 [==============================] - 1s 71ms/step - loss: 0.6606 - accuracy: 0.6122 - val_loss: 0.6890 - val_accuracy: 0.5909\n",
            "Epoch 63/100\n",
            "10/10 [==============================] - 1s 68ms/step - loss: 0.6489 - accuracy: 0.6190 - val_loss: 0.6967 - val_accuracy: 0.5455\n",
            "Epoch 64/100\n",
            "10/10 [==============================] - 1s 72ms/step - loss: 0.6550 - accuracy: 0.6122 - val_loss: 0.6981 - val_accuracy: 0.5455\n",
            "Epoch 65/100\n",
            "10/10 [==============================] - 1s 67ms/step - loss: 0.6625 - accuracy: 0.6190 - val_loss: 0.6970 - val_accuracy: 0.5455\n",
            "Epoch 66/100\n",
            "10/10 [==============================] - 1s 72ms/step - loss: 0.6650 - accuracy: 0.5918 - val_loss: 0.6934 - val_accuracy: 0.5455\n",
            "Epoch 67/100\n",
            "10/10 [==============================] - 1s 69ms/step - loss: 0.6594 - accuracy: 0.5850 - val_loss: 0.6852 - val_accuracy: 0.5909\n",
            "Epoch 68/100\n",
            "10/10 [==============================] - 1s 73ms/step - loss: 0.6608 - accuracy: 0.6054 - val_loss: 0.6947 - val_accuracy: 0.4545\n",
            "Epoch 69/100\n",
            "10/10 [==============================] - 1s 74ms/step - loss: 0.6566 - accuracy: 0.6259 - val_loss: 0.7037 - val_accuracy: 0.5909\n",
            "Epoch 70/100\n",
            "10/10 [==============================] - 1s 71ms/step - loss: 0.6692 - accuracy: 0.5918 - val_loss: 0.7004 - val_accuracy: 0.5455\n",
            "Epoch 71/100\n",
            "10/10 [==============================] - 1s 66ms/step - loss: 0.6574 - accuracy: 0.6054 - val_loss: 0.6876 - val_accuracy: 0.5455\n",
            "Epoch 72/100\n",
            "10/10 [==============================] - 1s 73ms/step - loss: 0.6547 - accuracy: 0.6122 - val_loss: 0.6892 - val_accuracy: 0.5455\n",
            "Epoch 73/100\n",
            "10/10 [==============================] - 1s 73ms/step - loss: 0.6386 - accuracy: 0.6667 - val_loss: 0.6740 - val_accuracy: 0.6364\n",
            "Epoch 74/100\n",
            "10/10 [==============================] - 1s 68ms/step - loss: 0.6440 - accuracy: 0.6190 - val_loss: 0.6887 - val_accuracy: 0.6364\n",
            "Epoch 75/100\n",
            "10/10 [==============================] - 1s 72ms/step - loss: 0.6535 - accuracy: 0.6054 - val_loss: 0.6937 - val_accuracy: 0.5909\n",
            "Epoch 76/100\n",
            "10/10 [==============================] - 1s 71ms/step - loss: 0.6581 - accuracy: 0.6259 - val_loss: 0.6481 - val_accuracy: 0.6364\n",
            "Epoch 77/100\n",
            "10/10 [==============================] - 1s 72ms/step - loss: 0.6626 - accuracy: 0.6395 - val_loss: 0.6790 - val_accuracy: 0.5000\n",
            "Epoch 78/100\n",
            "10/10 [==============================] - 1s 73ms/step - loss: 0.6496 - accuracy: 0.6122 - val_loss: 0.7314 - val_accuracy: 0.5455\n",
            "Epoch 79/100\n",
            "10/10 [==============================] - 1s 68ms/step - loss: 0.6659 - accuracy: 0.6054 - val_loss: 0.6992 - val_accuracy: 0.5455\n",
            "Epoch 80/100\n",
            "10/10 [==============================] - 1s 69ms/step - loss: 0.6401 - accuracy: 0.6259 - val_loss: 0.6959 - val_accuracy: 0.5455\n",
            "Epoch 81/100\n",
            "10/10 [==============================] - 1s 75ms/step - loss: 0.6546 - accuracy: 0.5986 - val_loss: 0.7158 - val_accuracy: 0.5455\n",
            "Epoch 82/100\n",
            "10/10 [==============================] - 1s 76ms/step - loss: 0.6395 - accuracy: 0.6395 - val_loss: 0.7090 - val_accuracy: 0.5455\n",
            "Epoch 83/100\n",
            "10/10 [==============================] - 1s 76ms/step - loss: 0.6522 - accuracy: 0.6327 - val_loss: 0.6754 - val_accuracy: 0.5455\n",
            "Epoch 84/100\n",
            "10/10 [==============================] - 1s 71ms/step - loss: 0.6358 - accuracy: 0.6463 - val_loss: 0.6784 - val_accuracy: 0.5455\n",
            "Epoch 85/100\n",
            "10/10 [==============================] - 1s 74ms/step - loss: 0.6500 - accuracy: 0.6259 - val_loss: 0.6941 - val_accuracy: 0.5455\n",
            "Epoch 86/100\n",
            "10/10 [==============================] - 1s 71ms/step - loss: 0.6403 - accuracy: 0.6327 - val_loss: 0.7074 - val_accuracy: 0.5455\n",
            "Epoch 87/100\n",
            " 5/10 [==============>...............] - ETA: 0s - loss: 0.6485 - accuracy: 0.6125"
          ]
        }
      ]
    },
    {
      "cell_type": "code",
      "source": [
        "model.evaluate(x_test, y_test, verbose=1)"
      ],
      "metadata": {
        "id": "Z-B-VImZ-AYE"
      },
      "id": "Z-B-VImZ-AYE",
      "execution_count": null,
      "outputs": []
    },
    {
      "cell_type": "code",
      "source": [
        "%tensorboard --logdir '/content/drive/MyDrive/logs'"
      ],
      "metadata": {
        "id": "VUu6WHq5-AVc"
      },
      "id": "VUu6WHq5-AVc",
      "execution_count": null,
      "outputs": []
    },
    {
      "cell_type": "code",
      "source": [
        ""
      ],
      "metadata": {
        "id": "lqgLZgsUs3PP"
      },
      "id": "lqgLZgsUs3PP",
      "execution_count": 159,
      "outputs": []
    },
    {
      "cell_type": "markdown",
      "source": [
        "# Confusion Matrix"
      ],
      "metadata": {
        "id": "2zkiLsUEtvxV"
      },
      "id": "2zkiLsUEtvxV"
    },
    {
      "cell_type": "code",
      "source": [
        "y_pred = model.predict(x_test)\n",
        "oo = [1 if x > 0.5 else 0 for x in y_pred]\n",
        "confusion_matrix(y_test, oo)"
      ],
      "metadata": {
        "colab": {
          "base_uri": "https://localhost:8080/"
        },
        "id": "1gd88UX-s3KX",
        "outputId": "aa7aea61-4a34-4476-d202-7dee2fda9e42"
      },
      "id": "1gd88UX-s3KX",
      "execution_count": 160,
      "outputs": [
        {
          "output_type": "execute_result",
          "data": {
            "text/plain": [
              "array([[ 6, 13],\n",
              "       [ 5, 19]])"
            ]
          },
          "metadata": {},
          "execution_count": 160
        }
      ]
    },
    {
      "cell_type": "code",
      "source": [
        ""
      ],
      "metadata": {
        "id": "2CwtScUw9_9x"
      },
      "id": "2CwtScUw9_9x",
      "execution_count": 339,
      "outputs": []
    },
    {
      "cell_type": "code",
      "source": [
        ""
      ],
      "metadata": {
        "id": "6-ElkN_RgDkG"
      },
      "id": "6-ElkN_RgDkG",
      "execution_count": null,
      "outputs": []
    },
    {
      "cell_type": "markdown",
      "source": [
        "## GRU"
      ],
      "metadata": {
        "id": "KApcdI8XyXny"
      },
      "id": "KApcdI8XyXny"
    },
    {
      "cell_type": "code",
      "source": [
        "model = tf.keras.Sequential()\n",
        "model.add(tf.keras.layers.GRU(50, return_sequences=True, input_shape=(20, 320), activation='tanh'))\n",
        "model.add(tf.keras.layers.GRU(50, activation='tanh'))\n",
        "model.add(tf.keras.layers.Dense(units=1, activation='sigmoid'))\n",
        "\n",
        "model.compile(optimizer=tf.keras.optimizers.SGD(learning_rate=0.01, decay=1e-7, momentum=0.9, nesterov=False), loss='binary_crossentropy')\n",
        "print(model.summary())"
      ],
      "metadata": {
        "colab": {
          "base_uri": "https://localhost:8080/"
        },
        "id": "bM3Gy-yP9_68",
        "outputId": "115484f5-a1e7-4b21-af82-7398d0138c26"
      },
      "id": "bM3Gy-yP9_68",
      "execution_count": 161,
      "outputs": [
        {
          "output_type": "stream",
          "name": "stdout",
          "text": [
            "Model: \"sequential_7\"\n",
            "_________________________________________________________________\n",
            " Layer (type)                Output Shape              Param #   \n",
            "=================================================================\n",
            " gru (GRU)                   (None, 20, 50)            55800     \n",
            "                                                                 \n",
            " gru_1 (GRU)                 (None, 50)                15300     \n",
            "                                                                 \n",
            " dense_7 (Dense)             (None, 1)                 51        \n",
            "                                                                 \n",
            "=================================================================\n",
            "Total params: 71,151\n",
            "Trainable params: 71,151\n",
            "Non-trainable params: 0\n",
            "_________________________________________________________________\n",
            "None\n"
          ]
        }
      ]
    },
    {
      "cell_type": "code",
      "source": [
        ""
      ],
      "metadata": {
        "id": "MHCdlkiD9_4U"
      },
      "id": "MHCdlkiD9_4U",
      "execution_count": null,
      "outputs": []
    },
    {
      "cell_type": "code",
      "source": [
        ""
      ],
      "metadata": {
        "id": "tRfcGfPp9_1b"
      },
      "id": "tRfcGfPp9_1b",
      "execution_count": null,
      "outputs": []
    },
    {
      "cell_type": "code",
      "source": [
        ""
      ],
      "metadata": {
        "id": "pv-9BFVg9_yr"
      },
      "id": "pv-9BFVg9_yr",
      "execution_count": null,
      "outputs": []
    },
    {
      "cell_type": "code",
      "source": [
        "# filename = '/content/drive/MyDrive/model2.sav'\n",
        "# pickle.dump(model, open(filename, 'wb'))"
      ],
      "metadata": {
        "id": "LMy1MNyWs3UA"
      },
      "id": "LMy1MNyWs3UA",
      "execution_count": null,
      "outputs": []
    },
    {
      "cell_type": "code",
      "source": [
        "# loaded_model = pickle.load(open(filename, 'rb'))"
      ],
      "metadata": {
        "id": "PHE7ZB3vs3Rf"
      },
      "id": "PHE7ZB3vs3Rf",
      "execution_count": 110,
      "outputs": []
    }
  ],
  "metadata": {
    "colab": {
      "name": "HW06.ipynb",
      "provenance": []
    },
    "language_info": {
      "name": "python"
    },
    "kernelspec": {
      "name": "python3",
      "display_name": "Python 3"
    },
    "accelerator": "GPU"
  },
  "nbformat": 4,
  "nbformat_minor": 5
}